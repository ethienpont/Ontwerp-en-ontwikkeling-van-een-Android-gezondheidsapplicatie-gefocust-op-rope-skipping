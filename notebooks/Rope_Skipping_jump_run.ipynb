{
 "cells": [
  {
   "cell_type": "code",
   "execution_count": 1,
   "metadata": {},
   "outputs": [],
   "source": [
    "%matplotlib notebook\n",
    "import pandas as pd\n",
    "import numpy as np\n",
    "import math\n",
    "import statistics\n",
    "from datetime import datetime\n",
    "from sklearn.model_selection import train_test_split\n",
    "from sklearn import preprocessing\n",
    "from sklearn.ensemble import RandomForestClassifier, ExtraTreesClassifier, AdaBoostClassifier\n",
    "from sklearn.model_selection import GridSearchCV\n",
    "from sklearn.linear_model import SGDClassifier\n",
    "from sklearn.naive_bayes import GaussianNB, MultinomialNB\n",
    "from sklearn.neighbors import KNeighborsClassifier\n",
    "from sklearn.svm import SVC, LinearSVC\n",
    "from sklearn import svm\n",
    "from sklearn.neural_network import MLPClassifier\n",
    "from sklearn.metrics import confusion_matrix, classification_report\n",
    "from sklearn.preprocessing import StandardScaler, LabelEncoder, normalize\n",
    "import matplotlib.pyplot as plt\n",
    "import seaborn as sn\n",
    "import matplotlib\n",
    "#from mlxtend.plotting import plot_confusion_matrix\n",
    "import warnings\n",
    "from scipy.signal import savgol_filter, find_peaks, correlate\n",
    "from sklearn.decomposition import PCA\n",
    "import scipy.fftpack as FFT\n",
    "from sklearn.utils import shuffle\n",
    "import joblib\n",
    "warnings.filterwarnings('ignore')\n",
    "matplotlib.rcParams['figure.figsize'] = [12,5]"
   ]
  },
  {
   "cell_type": "markdown",
   "metadata": {},
   "source": [
    "## help functions"
   ]
  },
  {
   "cell_type": "code",
   "execution_count": 2,
   "metadata": {},
   "outputs": [],
   "source": [
    "raw = True\n",
    "teller = 0\n",
    "freq = 0"
   ]
  },
  {
   "cell_type": "code",
   "execution_count": 3,
   "metadata": {},
   "outputs": [],
   "source": [
    "def sampling_freq(df):\n",
    "    start = df['time'].iloc[0]\n",
    "    sum_samples = 0\n",
    "    index = 0\n",
    "    while  (start + pd.to_timedelta(1, unit='s')) < df['time'].iloc[-1]:\n",
    "        end =  start + pd.to_timedelta(1, unit='s')\n",
    "        sum_samples += df[(df['time'] >= start) & (df['time'] < end)].shape[0]\n",
    "        start += pd.to_timedelta(1, unit='s')\n",
    "        index += 1\n",
    "    return sum_samples/index\n",
    "\n",
    "def convert_to_float(x):\n",
    "    try:\n",
    "        return np.float(x)\n",
    "    except:\n",
    "        return np.nan\n",
    "\n",
    "def convert_to_datetime(x):\n",
    "    dt = datetime.fromtimestamp(x // 1000000000)\n",
    "    s = dt.strftime('%Y-%m-%d %H:%M:%S')\n",
    "    s += '.' + str(int(x % 1000000000)).zfill(9)\n",
    "    return s\n",
    "\n",
    "def heatmap(cm, labels):\n",
    "    df_cm = pd.DataFrame(cm, index=labels, columns=labels)\n",
    "    plt.figure(figsize = (10,7))\n",
    "    sn.heatmap(df_cm, annot=True)\n",
    "\n",
    "    plt.show()\n",
    "    \n",
    "def preprocess(data, activity, type_, p, drop_interval_begin = 3, drop_interval_end = 3):\n",
    "    #convert nanoseconds to date \n",
    "    data['time'] = data['time'].apply(convert_to_datetime) \n",
    "    data['time'] = pd.to_datetime(data['time'])\n",
    "\n",
    "#convert to same data type\n",
    "    for i in range(1, 4): \n",
    "        data[column_names_org[i]] = data[column_names_org[i]].apply(convert_to_float)\n",
    "    \n",
    "#drop rows with NaN values \n",
    "    data.dropna(axis=0, how='any', inplace=True) #TODO: invullen met mean, mod of median / interpolatie\n",
    "\n",
    "#drop duplicates \n",
    "    data.drop_duplicates(subset=None, keep='first', inplace = True)\n",
    "    \n",
    "    #drop first and last 3 sec\n",
    "    indexFirst = data[ (data['time'].iloc[0]+ pd.to_timedelta(drop_interval_begin, unit='s')) > data['time'] ].index\n",
    "    data.drop(indexFirst , inplace=True)\n",
    "    indexLast = data[ (data['time'].iloc[-1]- pd.to_timedelta(drop_interval_end, unit='s')) < data['time'] ].index\n",
    "    data.drop(indexLast , inplace=True)\n",
    "    \n",
    "    #add activity label\n",
    "    data['activity'] = activity\n",
    "    data['type'] = type_\n",
    "    data['proefpersoon'] = p\n",
    "    \n",
    "    return data\n",
    "\n",
    "#feature extraction\n",
    "def get_mean_window(df):\n",
    "    return df.mean()\n",
    "\n",
    "def get_min_window(df):\n",
    "    return df.min()\n",
    "\n",
    "def get_max_window(df):\n",
    "    return df.max()\n",
    "\n",
    "def get_std_window(df):\n",
    "    return df.std()\n",
    "\n",
    "def get_med_window(df):\n",
    "    return df.median()\n",
    "\n",
    "#TODO: scipy integrate\n",
    "#TODO: voor elke as apart??\n",
    "#measure of activity level (m/s²)\n",
    "def get_signal_magnitude_area(df):\n",
    "        sum = 0\n",
    "        for i in range(0, len(df)):\n",
    "            sum += (abs(df['x'].iloc[i]) + abs(df['y'].iloc[i]) + abs(df['z'].iloc[i]))\n",
    "        return sum /len(df)\n",
    "    #result = integrate.quad(lambda t: df['x'].apply(lambda n : abs(n)) + df['y'].apply(lambda n : abs(n)) + df['z'].apply(lambda n : abs(n)), 0, len(df))\n",
    "\n",
    "#TODO: voor elke as apart??\n",
    "#degree of movement intensity (m/s²)\n",
    "def get_signal_magnitude_vector(df):\n",
    "    sum = 0\n",
    "    for i in range(0, len(df)):\n",
    "        sum += math.sqrt(df['x'].iloc[i] * df['x'].iloc[i] + df['y'].iloc[i] * df['y'].iloc[i] + df['z'].iloc[i] * df['z'].iloc[i])\n",
    "    return sum\n",
    "\n",
    "#average angle (radian) between accelerometer vector and x as (parallel with arm)\n",
    "def get_tilt_angle(df):\n",
    "    df_cos = pd.DataFrame(columns=[\"tilt_ang\"])\n",
    "    df_dot = df['x']\n",
    "    for i in range(0, len(df)):\n",
    "        s = pd.Series({\"tilt_ang\" : (df_dot.iloc[i])/(math.sqrt(df['x'].iloc[i]*df['x'].iloc[i] + df['y'].iloc[i]*df['y'].iloc[i] + df['z'].iloc[i]*df['z'].iloc[i]))})\n",
    "        df_cos=df_cos.append(s, ignore_index=True)\n",
    "    df_angle = np.arccos(df_cos)\n",
    "    return df_angle.mean()['tilt_ang']\n",
    "\n",
    "def get_power_spectral_density(df):\n",
    "    df_psd = np.abs(df)**2\n",
    "    return df_psd.sum()\n",
    "\n",
    "#TODO: datatype is object en niet compex nr\n",
    "def get_entropy(df):\n",
    "    entropy = []\n",
    "    pdf = df / df.sum()\n",
    "    for i in range (1, len(pdf.columns)):\n",
    "        entropy.append(np.complex(-np.nansum(pdf.iloc[:,i] * np.log2(pdf.iloc[:,i]))))\n",
    "    return entropy\n",
    "\n",
    "#generate windows with 50% overlap\n",
    "def windows(df, time, overlap):\n",
    "    start = df.iloc[0]\n",
    "    while  (start + pd.to_timedelta(time, unit='s')) < df.iloc[-1]:\n",
    "        yield start, (start + pd.to_timedelta(time, unit='s'))\n",
    "        if overlap:\n",
    "            start += pd.to_timedelta(time/2, unit='s')\n",
    "        else:\n",
    "            start += pd.to_timedelta(time, unit='s')\n",
    "    #last samples \n",
    "    yield (df.iloc[-1] - pd.to_timedelta(time, unit='s')), df.iloc[-1]\n",
    "        \n",
    "def feature_extraction_segmentation(data, window, overlap):\n",
    "    column_names = [\"x_mean\", \"y_mean\", \"z_mean\", \"x_min\", \"y_min\", \"z_min\", \"x_max\", \"y_max\", \"z_max\",\n",
    "                \"x_std\", \"y_std\", \"z_std\", \"x_med\", \"y_med\", \"z_med\", \"activity\"]\n",
    "    df = pd.DataFrame(columns = column_names)\n",
    "\n",
    "    for (start, end) in windows(data['time'], window, overlap):\n",
    "        vw1 = data['time'] >= start\n",
    "        vw2 = data['time'] < end\n",
    "        mean = get_mean_window(data[vw1 & vw2])\n",
    "        min = get_min_window(data[vw1 & vw2])\n",
    "        max = get_max_window(data[vw1 & vw2])\n",
    "        std = get_std_window(data[vw1 & vw2])\n",
    "        med = get_med_window(data[vw1 & vw2])\n",
    "        sma = get_signal_magnitude_area(data[vw1 & vw2])\n",
    "        smv = get_signal_magnitude_vector(data[vw1 & vw2])\n",
    "        tilt = get_tilt_angle(data[vw1 & vw2])\n",
    "        #fourrier transform\n",
    "        t_x = data[vw1 & vw2][['time','x']].set_index('time')\n",
    "        t_y = data[vw1 & vw2][['time','y']].set_index('time')\n",
    "        t_z = data[vw1 & vw2][['time', 'z']].set_index('time')\n",
    "\n",
    "        df_f = pd.DataFrame(columns=['f', 'x_f', 'y_f', 'z_f'])\n",
    "\n",
    "    #TODO: determine sampling rate (datapoints per second)\n",
    "        sampling_rate = 52\n",
    "\n",
    "        df_f['x_f'] = FFT.fft(t_x).ravel()\n",
    "        df_f['y_f'] = FFT.fft(t_y).ravel()\n",
    "        df_f['z_f'] = FFT.fft(t_z).ravel()\n",
    "        df_f['f'] = FFT.fftfreq(len(df_f['x_f'])) * sampling_rate\n",
    "\n",
    "        psd = get_power_spectral_density(df_f)\n",
    "        #entropy = get_entropy(df_f)\n",
    "\n",
    "        df = df.append(pd.Series({'x_mean': mean['x'], 'y_mean': mean['y'], 'z_mean': mean['z'], \"x_min\" : min['x'],\n",
    "                              \"y_min\" : min['y'], \"z_min\" : min['z'], \"x_max\" : max['x'], \"y_max\" : max['y'], \"z_max\" : max['z'],\n",
    "                              \"x_std\" : std['x'], \"y_std\" : std['y'], \"z_std\" : std['z'], \"x_med\" : med['x'], \"y_med\" : med['y'], \"z_med\" : med['z'],\n",
    "                              \"sma\" : sma, \"smv\" : smv, \"tilt\" : tilt, \"x_psd\" : psd['x_f'], \"y_psd\" : psd['y_f'], \"z_psd\" : psd['z_f']\n",
    "                              , \"activity\" : data['activity'].iloc[0]}), ignore_index=True) # \"x_entropy\" : entropy[0], \"y_entropy\" : entropy[1], \"z_entropy\" : entropy[2],\n",
    "    return df\n",
    "\n",
    "column_names_org = ['time', 'x', 'y', 'z']"
   ]
  },
  {
   "cell_type": "markdown",
   "metadata": {},
   "source": [
    "# <font color='green' >PROEFPERSOON 1"
   ]
  },
  {
   "cell_type": "markdown",
   "metadata": {},
   "source": [
    "## jump_fast"
   ]
  },
  {
   "cell_type": "code",
   "execution_count": 41,
   "metadata": {},
   "outputs": [],
   "source": [
    "jump_run_left_forward_turn_left_1 = []\n",
    "jump_run_right_forward_turn_left_1 = []\n",
    "jump_run_left_forward_turn_right_1 = []\n",
    "jump_run_right_forward_turn_right_1 = []"
   ]
  },
  {
   "cell_type": "markdown",
   "metadata": {},
   "source": [
    "#### jump_run_left_forward_turn_left"
   ]
  },
  {
   "cell_type": "code",
   "execution_count": 8,
   "metadata": {},
   "outputs": [],
   "source": [
    "#jump_run_left_forward_turn_left1 = pd.read_csv(r\"..\\data\\jump_run\\jump_run_left_forward1.csv\", sep=';', header=0, skipinitialspace=True)\n",
    "#jump_run_left_forward_turn_left2 = pd.read_csv(r\"..\\data\\jump_run\\jump_run_left_forward2.csv\", sep=';', header=0, skipinitialspace=True)\n",
    "\n",
    "jump_run_left_forward_turn_left1 = preprocess(jump_run_left_forward_turn_left1, \"jump_run\",\"left_forward_turn_left\", 1)\n",
    "jump_run_left_forward_turn_left2 = preprocess(jump_run_left_forward_turn_left2, \"jump_run\",\"left_forward_turn_left\", 1)\n",
    "\n",
    "jump_run_left_forward_turn_left_1 = [jump_run_left_forward_turn_left1, jump_run_left_forward_turn_left2]"
   ]
  },
  {
   "cell_type": "markdown",
   "metadata": {},
   "source": [
    "#### jump_run_right_forward_turn_left"
   ]
  },
  {
   "cell_type": "code",
   "execution_count": 44,
   "metadata": {},
   "outputs": [],
   "source": [
    "#jump_run_right_forward_turn_left1 = pd.read_csv(r\"..\\data\\jump_run\\jump_run_right_forward1.csv\", sep=';', header=0, skipinitialspace=True)\n",
    "#jump_run_right_forward_turn_left2 = pd.read_csv(r\"..\\data\\jump_run\\jump_run_right_forward2.csv\", sep=';', header=0, skipinitialspace=True)\n",
    "\n",
    "jump_run_right_forward_turn_left1 = preprocess(jump_run_right_forward_turn_left1, \"jump_run\",\"right_forward_turn_left\", 1)\n",
    "jump_run_right_forward_turn_left2 = preprocess(jump_run_right_forward_turn_left2, \"jump_run\",\"right_forward_turn_left\", 1)\n",
    "\n",
    "jump_run_right_forward_turn_left_1 = [jump_run_right_forward_turn_left1, jump_run_right_forward_turn_left2]"
   ]
  },
  {
   "cell_type": "markdown",
   "metadata": {},
   "source": [
    "#### jump_run_left_forward_turn_right"
   ]
  },
  {
   "cell_type": "code",
   "execution_count": 46,
   "metadata": {},
   "outputs": [],
   "source": [
    "#jump_run_left_forward_turn_right1 = pd.read_csv(r\"..\\data\\jump_run\\jump_run_right_forward1.csv\", sep=';', header=0, skipinitialspace=True)\n",
    "#jump_run_left_forward_turn_right2 = pd.read_csv(r\"..\\data\\jump_run\\jump_run_right_forward2.csv\", sep=';', header=0, skipinitialspace=True)\n",
    "\n",
    "jump_run_left_forward_turn_right1 = preprocess(jump_run_left_forward_turn_right1, \"jump_run\",\"left_forward_turn_right\", 1)\n",
    "jump_run_left_forward_turn_right2 = preprocess(jump_run_left_forward_turn_right2, \"jump_run\",\"left_forward_turn_right\", 1)\n",
    "\n",
    "jump_run_left_forward_turn_right_1 = [jump_run_left_forward_turn_right1, jump_run_left_forward_turn_right2]"
   ]
  },
  {
   "cell_type": "markdown",
   "metadata": {},
   "source": [
    "#### jump_run_right_forward_turn_right"
   ]
  },
  {
   "cell_type": "code",
   "execution_count": 48,
   "metadata": {},
   "outputs": [],
   "source": [
    "#jump_run_right_forward_turn_right1 = pd.read_csv(r\"..\\data\\jump_run\\jump_run_right_forward_otherturn.csv\", sep=';', header=0, skipinitialspace=True)\n",
    "#jump_run_right_forward_turn_right2 = pd.read_csv(r\"..\\data\\jump_run\\jump_run_right_forward2.csv\", sep=';', header=0, skipinitialspace=True)\n",
    "\n",
    "jump_run_right_forward_turn_right1 = preprocess(jump_run_right_forward_turn_right1, \"jump_run\",\"right_forward_turn_right\", 1)\n",
    "jump_run_right_forward_turn_right2 = preprocess(jump_run_right_forward_turn_right2, \"jump_run\",\"right_forward_turn_right\", 1)\n",
    "\n",
    "jump_run_right_forward_turn_right_1 = [jump_run_right_forward_turn_right1, jump_run_right_forward_turn_right2]"
   ]
  },
  {
   "cell_type": "markdown",
   "metadata": {},
   "source": [
    "### SEGMENTATION"
   ]
  },
  {
   "cell_type": "code",
   "execution_count": 50,
   "metadata": {},
   "outputs": [],
   "source": [
    "if(not raw):\n",
    "    #segmentation + feature extraction\n",
    "    for i in range(0, len(jump_fast_left_forward_2)):\n",
    "        jump_fast_left_forward_2[i] =  feature_extraction_segmentation(jump_fast_left_forward_2[i],1, True)\n",
    "\n",
    "    for i in range(0, len(jump_fast_right_forward_2)):\n",
    "        jump_fast_right_forward_2[i] =  feature_extraction_segmentation(jump_fast_right_forward_2[i],1, True)\n",
    "\n",
    "    for i in range(0, len(jump_fast_left_backwards_2)):\n",
    "        jump_fast_left_backwards_2[i] =  feature_extraction_segmentation(jump_fast_left_backwards_2[i],1, True)\n",
    "\n",
    "    for i in range(0, len(jump_fast_right_backwards_2)):\n",
    "        jump_fast_right_backwards_2[i] =  feature_extraction_segmentation(jump_fast_right_backwards_2[i],1, True)"
   ]
  },
  {
   "cell_type": "code",
   "execution_count": 51,
   "metadata": {},
   "outputs": [
    {
     "data": {
      "text/plain": [
       "(5780, 7)"
      ]
     },
     "execution_count": 51,
     "metadata": {},
     "output_type": "execute_result"
    }
   ],
   "source": [
    "jump_run_left_forward_turn_left_1 = pd.concat(jump_run_left_forward_turn_left_1, ignore_index=True)\n",
    "jump_run_left_forward_turn_left_1.shape"
   ]
  },
  {
   "cell_type": "code",
   "execution_count": 52,
   "metadata": {},
   "outputs": [
    {
     "data": {
      "text/plain": [
       "(5776, 7)"
      ]
     },
     "execution_count": 52,
     "metadata": {},
     "output_type": "execute_result"
    }
   ],
   "source": [
    "jump_run_right_forward_turn_left_1 = pd.concat(jump_run_right_forward_turn_left_1, ignore_index=True)\n",
    "jump_run_right_forward_turn_left_1.shape"
   ]
  },
  {
   "cell_type": "code",
   "execution_count": 53,
   "metadata": {},
   "outputs": [
    {
     "data": {
      "text/plain": [
       "(6068, 7)"
      ]
     },
     "execution_count": 53,
     "metadata": {},
     "output_type": "execute_result"
    }
   ],
   "source": [
    "jump_run_left_forward_turn_right_1 = pd.concat(jump_run_left_forward_turn_right_1, ignore_index=True)\n",
    "jump_run_left_forward_turn_right_1.shape"
   ]
  },
  {
   "cell_type": "code",
   "execution_count": 54,
   "metadata": {},
   "outputs": [
    {
     "data": {
      "text/plain": [
       "(3349, 7)"
      ]
     },
     "execution_count": 54,
     "metadata": {},
     "output_type": "execute_result"
    }
   ],
   "source": [
    "jump_run_right_forward_turn_right_1 = pd.concat(jump_run_right_forward_turn_right_1, ignore_index=True)\n",
    "jump_run_right_forward_turn_right_1.shape"
   ]
  },
  {
   "cell_type": "markdown",
   "metadata": {},
   "source": [
    "### SHUFFLE - BALANCING"
   ]
  },
  {
   "cell_type": "code",
   "execution_count": 37,
   "metadata": {},
   "outputs": [],
   "source": [
    "shape = np.min([\n",
    "    jump_fast_right_backwards_1.shape[0], \n",
    "    jump_fast_left_forward_1.shape[0], \n",
    "    jump_fast_right_forward_1.shape[0], \n",
    "    jump_fast_left_backwards_1.shape[0]])"
   ]
  },
  {
   "cell_type": "markdown",
   "metadata": {},
   "source": [
    "#### shuffle"
   ]
  },
  {
   "cell_type": "code",
   "execution_count": 38,
   "metadata": {},
   "outputs": [
    {
     "data": {
      "text/plain": [
       "' \\njump_fast_right_backwards_1 = shuffle(jump_fast_right_backwards_1).head(shape).copy()\\njump_fast_left_forward_1 = shuffle(jump_fast_left_forward_1).head(shape).copy()\\njump_fast_right_forward_1 = shuffle(jump_fast_right_forward_1).head(shape).copy()\\njump_fast_left_backwards_1 = shuffle(jump_fast_left_backwards_1).head(shape).copy()'"
      ]
     },
     "execution_count": 38,
     "metadata": {},
     "output_type": "execute_result"
    }
   ],
   "source": [
    "''' \n",
    "jump_fast_right_backwards_1 = shuffle(jump_fast_right_backwards_1).head(shape).copy()\n",
    "jump_fast_left_forward_1 = shuffle(jump_fast_left_forward_1).head(shape).copy()\n",
    "jump_fast_right_forward_1 = shuffle(jump_fast_right_forward_1).head(shape).copy()\n",
    "jump_fast_left_backwards_1 = shuffle(jump_fast_left_backwards_1).head(shape).copy()'''"
   ]
  },
  {
   "cell_type": "markdown",
   "metadata": {},
   "source": [
    "#### no shuffle"
   ]
  },
  {
   "cell_type": "code",
   "execution_count": 39,
   "metadata": {},
   "outputs": [
    {
     "data": {
      "text/plain": [
       "' \\njump_fast_right_backwards_1 = jump_fast_right_backwards_1.head(shape).copy()\\njump_fast_left_forward_1 = jump_fast_left_forward_1.head(shape).copy()\\njump_fast_right_forward_1 = jump_fast_right_forward_1.head(shape).copy()\\njump_fast_left_backwards_1 = jump_fast_left_backwards_1.head(shape).copy()'"
      ]
     },
     "execution_count": 39,
     "metadata": {},
     "output_type": "execute_result"
    }
   ],
   "source": [
    "''' \n",
    "jump_fast_right_backwards_1 = jump_fast_right_backwards_1.head(shape).copy()\n",
    "jump_fast_left_forward_1 = jump_fast_left_forward_1.head(shape).copy()\n",
    "jump_fast_right_forward_1 = jump_fast_right_forward_1.head(shape).copy()\n",
    "jump_fast_left_backwards_1 = jump_fast_left_backwards_1.head(shape).copy()'''"
   ]
  },
  {
   "cell_type": "code",
   "execution_count": 40,
   "metadata": {},
   "outputs": [],
   "source": [
    "#jump_fast_1 = pd.concat([jump_fast_right_backwards_1, jump_fast_left_forward_1, jump_fast_right_forward_1, jump_fast_left_backwards_1])"
   ]
  },
  {
   "cell_type": "markdown",
   "metadata": {},
   "source": [
    "# <font color='green' >PROEFPERSOON 2"
   ]
  },
  {
   "cell_type": "markdown",
   "metadata": {},
   "source": [
    "## jump_run"
   ]
  },
  {
   "cell_type": "code",
   "execution_count": 41,
   "metadata": {},
   "outputs": [],
   "source": [
    "jump_run_left_forward_turn_left_2 = []\n",
    "jump_run_right_forward_turn_left_2 = []\n",
    "jump_run_left_forward_turn_right_2 = []\n",
    "jump_run_right_forward_turn_right_2 = []"
   ]
  },
  {
   "cell_type": "markdown",
   "metadata": {},
   "source": [
    "#### jump_run_left_forward_turn_left"
   ]
  },
  {
   "cell_type": "code",
   "execution_count": 8,
   "metadata": {},
   "outputs": [],
   "source": [
    "jump_run_left_forward_turn_left1 = pd.read_csv(r\"..\\data\\jump_run\\jump_run_left_forward1.csv\", sep=';', header=0, skipinitialspace=True)\n",
    "jump_run_left_forward_turn_left2 = pd.read_csv(r\"..\\data\\jump_run\\jump_run_left_forward2.csv\", sep=';', header=0, skipinitialspace=True)\n",
    "\n",
    "jump_run_left_forward_turn_left1 = preprocess(jump_run_left_forward_turn_left1, \"jump_run\",\"left_forward_turn_left\", 2)\n",
    "jump_run_left_forward_turn_left2 = preprocess(jump_run_left_forward_turn_left2, \"jump_run\",\"left_forward_turn_left\", 2)\n",
    "\n",
    "jump_run_left_forward_turn_left_2 = [jump_run_left_forward_turn_left1, jump_run_left_forward_turn_left2]"
   ]
  },
  {
   "cell_type": "markdown",
   "metadata": {},
   "source": [
    "#### jump_run_right_forward_turn_left"
   ]
  },
  {
   "cell_type": "code",
   "execution_count": 44,
   "metadata": {},
   "outputs": [],
   "source": [
    "jump_run_right_forward_turn_left1 = pd.read_csv(r\"..\\data\\jump_run\\jump_run_right_forward1.csv\", sep=';', header=0, skipinitialspace=True)\n",
    "jump_run_right_forward_turn_left2 = pd.read_csv(r\"..\\data\\jump_run\\jump_run_right_forward2.csv\", sep=';', header=0, skipinitialspace=True)\n",
    "\n",
    "jump_run_right_forward_turn_left1 = preprocess(jump_run_right_forward_turn_left1, \"jump_run\",\"right_forward_turn_left\", 2)\n",
    "jump_run_right_forward_turn_left2 = preprocess(jump_run_right_forward_turn_left2, \"jump_run\",\"right_forward_turn_left\", 2)\n",
    "\n",
    "jump_run_right_forward_turn_left_2 = [jump_run_right_forward_turn_left1, jump_run_right_forward_turn_left2]"
   ]
  },
  {
   "cell_type": "markdown",
   "metadata": {},
   "source": [
    "#### jump_run_left_forward_turn_right"
   ]
  },
  {
   "cell_type": "code",
   "execution_count": 46,
   "metadata": {},
   "outputs": [],
   "source": [
    "#jump_run_left_forward_turn_right1 = pd.read_csv(r\"..\\data\\jump_run\\jump_run_right_forward1.csv\", sep=';', header=0, skipinitialspace=True)\n",
    "#jump_run_left_forward_turn_right2 = pd.read_csv(r\"..\\data\\jump_run\\jump_run_right_forward2.csv\", sep=';', header=0, skipinitialspace=True)\n",
    "\n",
    "jump_run_left_forward_turn_right1 = preprocess(jump_run_left_forward_turn_right1, \"jump_run\",\"left_forward_turn_right\", 2)\n",
    "jump_run_left_forward_turn_right2 = preprocess(jump_run_left_forward_turn_right2, \"jump_run\",\"left_forward_turn_right\", 2)\n",
    "\n",
    "jump_run_left_forward_turn_right_2 = [jump_run_left_forward_turn_right1, jump_run_left_forward_turn_right2]"
   ]
  },
  {
   "cell_type": "markdown",
   "metadata": {},
   "source": [
    "#### jump_run_right_forward_turn_right"
   ]
  },
  {
   "cell_type": "code",
   "execution_count": 48,
   "metadata": {},
   "outputs": [],
   "source": [
    "jump_run_right_forward_turn_right1 = pd.read_csv(r\"..\\data\\jump_run\\jump_run_right_forward_otherturn.csv\", sep=';', header=0, skipinitialspace=True)\n",
    "#jump_run_right_forward_turn_right2 = pd.read_csv(r\"..\\data\\jump_run\\jump_run_right_forward2.csv\", sep=';', header=0, skipinitialspace=True)\n",
    "\n",
    "jump_run_right_forward_turn_right1 = preprocess(jump_run_right_forward_turn_right1, \"jump_run\",\"right_forward_turn_right\", 2)\n",
    "jump_run_right_forward_turn_right2 = preprocess(jump_run_right_forward_turn_right2, \"jump_run\",\"right_forward_turn_right\", 2)\n",
    "\n",
    "jump_run_right_forward_turn_right_2 = [jump_run_right_forward_turn_right1, jump_run_right_forward_turn_right2]"
   ]
  },
  {
   "cell_type": "markdown",
   "metadata": {},
   "source": [
    "### SEGMENTATION"
   ]
  },
  {
   "cell_type": "code",
   "execution_count": 50,
   "metadata": {},
   "outputs": [],
   "source": [
    "if(not raw):\n",
    "    #segmentation + feature extraction\n",
    "    for i in range(0, len(jump_fast_left_forward_2)):\n",
    "        jump_fast_left_forward_2[i] =  feature_extraction_segmentation(jump_fast_left_forward_2[i],1, True)\n",
    "\n",
    "    for i in range(0, len(jump_fast_right_forward_2)):\n",
    "        jump_fast_right_forward_2[i] =  feature_extraction_segmentation(jump_fast_right_forward_2[i],1, True)\n",
    "\n",
    "    for i in range(0, len(jump_fast_left_backwards_2)):\n",
    "        jump_fast_left_backwards_2[i] =  feature_extraction_segmentation(jump_fast_left_backwards_2[i],1, True)\n",
    "\n",
    "    for i in range(0, len(jump_fast_right_backwards_2)):\n",
    "        jump_fast_right_backwards_2[i] =  feature_extraction_segmentation(jump_fast_right_backwards_2[i],1, True)"
   ]
  },
  {
   "cell_type": "code",
   "execution_count": 51,
   "metadata": {},
   "outputs": [
    {
     "data": {
      "text/plain": [
       "(5780, 7)"
      ]
     },
     "execution_count": 51,
     "metadata": {},
     "output_type": "execute_result"
    }
   ],
   "source": [
    "jump_run_left_forward_turn_left_2 = pd.concat(jump_run_left_forward_turn_left_2, ignore_index=True)\n",
    "jump_run_left_forward_turn_left_2.shape"
   ]
  },
  {
   "cell_type": "code",
   "execution_count": 52,
   "metadata": {},
   "outputs": [
    {
     "data": {
      "text/plain": [
       "(5776, 7)"
      ]
     },
     "execution_count": 52,
     "metadata": {},
     "output_type": "execute_result"
    }
   ],
   "source": [
    "jump_run_right_forward_turn_left_2 = pd.concat(jump_run_right_forward_turn_left_2, ignore_index=True)\n",
    "jump_run_right_forward_turn_left_2.shape"
   ]
  },
  {
   "cell_type": "code",
   "execution_count": 53,
   "metadata": {},
   "outputs": [
    {
     "data": {
      "text/plain": [
       "(6068, 7)"
      ]
     },
     "execution_count": 53,
     "metadata": {},
     "output_type": "execute_result"
    }
   ],
   "source": [
    "jump_run_left_forward_turn_right_2 = pd.concat(jump_run_left_forward_turn_right_2, ignore_index=True)\n",
    "jump_run_left_forward_turn_right_2.shape"
   ]
  },
  {
   "cell_type": "code",
   "execution_count": 54,
   "metadata": {},
   "outputs": [
    {
     "data": {
      "text/plain": [
       "(3349, 7)"
      ]
     },
     "execution_count": 54,
     "metadata": {},
     "output_type": "execute_result"
    }
   ],
   "source": [
    "jump_run_right_forward_turn_right_2 = pd.concat(jump_run_right_forward_turn_right_2, ignore_index=True)\n",
    "jump_run_right_forward_turn_right_2.shape"
   ]
  },
  {
   "cell_type": "markdown",
   "metadata": {},
   "source": [
    "### SHUFFLE - BALANCING"
   ]
  },
  {
   "cell_type": "code",
   "execution_count": 55,
   "metadata": {},
   "outputs": [],
   "source": [
    "shape = np.min([\n",
    "    jump_fast_right_backwards_2.shape[0], \n",
    "    jump_fast_left_forward_2.shape[0], \n",
    "    jump_fast_right_forward_2.shape[0], \n",
    "    jump_fast_left_backwards_2.shape[0]])"
   ]
  },
  {
   "cell_type": "markdown",
   "metadata": {},
   "source": [
    "#### shuffle"
   ]
  },
  {
   "cell_type": "code",
   "execution_count": 56,
   "metadata": {},
   "outputs": [
    {
     "data": {
      "text/plain": [
       "' \\njump_fast_right_backwards_2 = shuffle(jump_fast_right_backwards_2).head(shape).copy()\\njump_fast_left_forward_2 = shuffle(jump_fast_left_forward_2).head(shape).copy()\\njump_fast_right_forward_2 = shuffle(jump_fast_right_forward_2).head(shape).copy()\\njump_fast_left_backwards_2 = shuffle(jump_fast_left_backwards_2).head(shape).copy()'"
      ]
     },
     "execution_count": 56,
     "metadata": {},
     "output_type": "execute_result"
    }
   ],
   "source": [
    "''' \n",
    "jump_fast_right_backwards_2 = shuffle(jump_fast_right_backwards_2).head(shape).copy()\n",
    "jump_fast_left_forward_2 = shuffle(jump_fast_left_forward_2).head(shape).copy()\n",
    "jump_fast_right_forward_2 = shuffle(jump_fast_right_forward_2).head(shape).copy()\n",
    "jump_fast_left_backwards_2 = shuffle(jump_fast_left_backwards_2).head(shape).copy()'''"
   ]
  },
  {
   "cell_type": "markdown",
   "metadata": {},
   "source": [
    "#### no shuffle"
   ]
  },
  {
   "cell_type": "code",
   "execution_count": 57,
   "metadata": {},
   "outputs": [
    {
     "data": {
      "text/plain": [
       "' \\njump_fast_right_backwards_2 = jump_fast_right_backwards_2.head(shape).copy()\\njump_fast_left_forward_2 = jump_fast_left_forward_2.head(shape).copy()\\njump_fast_right_forward_2 = jump_fast_right_forward_2.head(shape).copy()\\njump_fast_left_backwards_2 = jump_fast_left_backwards_2.head(shape).copy()'"
      ]
     },
     "execution_count": 57,
     "metadata": {},
     "output_type": "execute_result"
    }
   ],
   "source": [
    "''' \n",
    "jump_fast_right_backwards_2 = jump_fast_right_backwards_2.head(shape).copy()\n",
    "jump_fast_left_forward_2 = jump_fast_left_forward_2.head(shape).copy()\n",
    "jump_fast_right_forward_2 = jump_fast_right_forward_2.head(shape).copy()\n",
    "jump_fast_left_backwards_2 = jump_fast_left_backwards_2.head(shape).copy()'''"
   ]
  },
  {
   "cell_type": "code",
   "execution_count": 58,
   "metadata": {},
   "outputs": [],
   "source": [
    "#jump_fast_2 = pd.concat([jump_fast_right_backwards_2, jump_fast_left_forward_2, jump_fast_right_forward_2, jump_fast_left_backwards_2])"
   ]
  },
  {
   "cell_type": "markdown",
   "metadata": {},
   "source": [
    "# <font color='green'> Frequency"
   ]
  },
  {
   "cell_type": "code",
   "execution_count": 59,
   "metadata": {},
   "outputs": [
    {
     "data": {
      "text/plain": [
       "88.8569491903626"
      ]
     },
     "execution_count": 59,
     "metadata": {},
     "output_type": "execute_result"
    }
   ],
   "source": [
    "#mean\n",
    "freq = freq/14\n",
    "freq"
   ]
  },
  {
   "cell_type": "markdown",
   "metadata": {},
   "source": [
    "# <font color='green'> Merging datasets"
   ]
  },
  {
   "cell_type": "code",
   "execution_count": 60,
   "metadata": {},
   "outputs": [
    {
     "ename": "NameError",
     "evalue": "name 'jump_fast_1' is not defined",
     "output_type": "error",
     "traceback": [
      "\u001b[1;31m---------------------------------------------------------------------------\u001b[0m",
      "\u001b[1;31mNameError\u001b[0m                                 Traceback (most recent call last)",
      "\u001b[1;32m<ipython-input-60-6029d5356d15>\u001b[0m in \u001b[0;36m<module>\u001b[1;34m\u001b[0m\n\u001b[0;32m      1\u001b[0m shape = np.min([\n\u001b[1;32m----> 2\u001b[1;33m     \u001b[0mjump_fast_1\u001b[0m\u001b[1;33m.\u001b[0m\u001b[0mshape\u001b[0m\u001b[1;33m[\u001b[0m\u001b[1;36m0\u001b[0m\u001b[1;33m]\u001b[0m\u001b[1;33m,\u001b[0m\u001b[1;33m\u001b[0m\u001b[1;33m\u001b[0m\u001b[0m\n\u001b[0m\u001b[0;32m      3\u001b[0m     \u001b[0mjump_fast_2\u001b[0m\u001b[1;33m.\u001b[0m\u001b[0mshape\u001b[0m\u001b[1;33m[\u001b[0m\u001b[1;36m0\u001b[0m\u001b[1;33m]\u001b[0m\u001b[1;33m\u001b[0m\u001b[1;33m\u001b[0m\u001b[0m\n\u001b[0;32m      4\u001b[0m ])\n",
      "\u001b[1;31mNameError\u001b[0m: name 'jump_fast_1' is not defined"
     ]
    }
   ],
   "source": [
    "shape = np.min([\n",
    "    jump_fast_1.shape[0],\n",
    "    jump_fast_2.shape[0]\n",
    "])"
   ]
  },
  {
   "cell_type": "markdown",
   "metadata": {},
   "source": [
    "#### shuffle"
   ]
  },
  {
   "cell_type": "code",
   "execution_count": null,
   "metadata": {},
   "outputs": [],
   "source": [
    "''' \n",
    "dataset = pd.concat([\n",
    "    shuffle(jump_fast_1).head(shape),\n",
    "    shuffle(jump_fast_2).head(shape)\n",
    "])\n",
    "dataset.shape'''"
   ]
  },
  {
   "cell_type": "markdown",
   "metadata": {},
   "source": [
    "#### no shuffle"
   ]
  },
  {
   "cell_type": "code",
   "execution_count": null,
   "metadata": {},
   "outputs": [],
   "source": [
    "''' \n",
    "dataset = pd.concat([\n",
    "    jump_fast_1.head(shape),\n",
    "    jump_fast_2.head(shape)\n",
    "])\n",
    "dataset.shape'''"
   ]
  },
  {
   "cell_type": "code",
   "execution_count": 61,
   "metadata": {},
   "outputs": [],
   "source": [
    "jump_run_left_forward_turn_left = pd.concat([\n",
    "    jump_run_left_forward_turn_left_2,\n",
    "    jump_run_left_forward_turn_left_1\n",
    "])\n",
    "jump_run_right_forward_turn_left = pd.concat([\n",
    "    jump_run_right_forward_turn_left_2,\n",
    "    jump_run_right_forward_turn_left_1\n",
    "])\n",
    "jump_run_left_forward_turn_right = pd.concat([\n",
    "\n",
    "    jump_run_left_forward_turn_right_2,\n",
    "    jump_run_left_forward_turn_right_1\n",
    "])\n",
    "jump_run_right_forward_turn_right = pd.concat([\n",
    "\n",
    "    jump_run_right_forward_turn_right_2,\n",
    "    jump_run_right_forward_turn_right_1\n",
    "])"
   ]
  },
  {
   "cell_type": "code",
   "execution_count": 62,
   "metadata": {},
   "outputs": [],
   "source": [
    "jump_run_left_forward_turn_left.to_csv(\"jump_run_left_forward_turn_left.csv\", sep=';')\n",
    "jump_run_right_forward_turn_left.to_csv(\"jump_run_right_forward_turn_left.csv\", sep=';')\n",
    "jump_run_left_forward_turn_right.to_csv(\"jump_run_left_forward_turn_right.csv\", sep=';')\n",
    "jump_run_right_forward_turn_right.to_csv(\"jump_run_right_forward_turn_right.csv\", sep=';')"
   ]
  },
  {
   "cell_type": "code",
   "execution_count": null,
   "metadata": {},
   "outputs": [],
   "source": [
    "#dataset.to_csv(\"jump_fast_raw.csv\", sep=';')"
   ]
  },
  {
   "cell_type": "code",
   "execution_count": null,
   "metadata": {},
   "outputs": [],
   "source": []
  }
 ],
 "metadata": {
  "kernelspec": {
   "display_name": "Python 3",
   "language": "python",
   "name": "python3"
  },
  "language_info": {
   "codemirror_mode": {
    "name": "ipython",
    "version": 3
   },
   "file_extension": ".py",
   "mimetype": "text/x-python",
   "name": "python",
   "nbconvert_exporter": "python",
   "pygments_lexer": "ipython3",
   "version": "3.7.7"
  }
 },
 "nbformat": 4,
 "nbformat_minor": 2
}
