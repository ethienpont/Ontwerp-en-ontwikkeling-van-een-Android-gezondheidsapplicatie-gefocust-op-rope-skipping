{
 "cells": [
  {
   "cell_type": "code",
   "execution_count": 1,
   "metadata": {},
   "outputs": [],
   "source": [
    "%matplotlib notebook\n",
    "import pandas as pd\n",
    "import numpy as np\n",
    "import math\n",
    "import statistics\n",
    "from datetime import datetime\n",
    "from sklearn.model_selection import train_test_split\n",
    "from sklearn import preprocessing\n",
    "from sklearn.ensemble import RandomForestClassifier, ExtraTreesClassifier, AdaBoostClassifier\n",
    "from sklearn.model_selection import GridSearchCV\n",
    "from sklearn.linear_model import SGDClassifier\n",
    "from sklearn.naive_bayes import GaussianNB, MultinomialNB\n",
    "from sklearn.neighbors import KNeighborsClassifier\n",
    "from sklearn.svm import SVC, LinearSVC\n",
    "from sklearn import svm\n",
    "from sklearn.neural_network import MLPClassifier\n",
    "from sklearn.metrics import confusion_matrix, classification_report\n",
    "from sklearn.preprocessing import StandardScaler, LabelEncoder, normalize\n",
    "import matplotlib.pyplot as plt\n",
    "import seaborn as sn\n",
    "import matplotlib\n",
    "from mlxtend.plotting import plot_confusion_matrix\n",
    "import warnings\n",
    "from scipy.signal import savgol_filter, find_peaks, correlate\n",
    "from sklearn.decomposition import PCA\n",
    "import scipy.fftpack as FFT\n",
    "from sklearn.utils import shuffle\n",
    "import joblib\n",
    "warnings.filterwarnings('ignore')\n",
    "matplotlib.rcParams['figure.figsize'] = [12,5]"
   ]
  },
  {
   "cell_type": "markdown",
   "metadata": {},
   "source": [
    "## help functions"
   ]
  },
  {
   "cell_type": "code",
   "execution_count": 2,
   "metadata": {},
   "outputs": [],
   "source": [
    "def sampling_freq(df):\n",
    "    start = df['time'].iloc[0]\n",
    "    sum_samples = 0\n",
    "    index = 0\n",
    "    while  (start + pd.to_timedelta(1, unit='s')) < df['time'].iloc[-1]:\n",
    "        end =  start + pd.to_timedelta(1, unit='s')\n",
    "        sum_samples += df[(df['time'] >= start) & (df['time'] < end)].shape[0]\n",
    "        start += pd.to_timedelta(1, unit='s')\n",
    "        index += 1\n",
    "    return sum_samples/index\n",
    "\n",
    "def convert_to_float(x):\n",
    "    try:\n",
    "        return np.float(x)\n",
    "    except:\n",
    "        return np.nan\n",
    "\n",
    "def convert_to_datetime(x):\n",
    "    dt = datetime.fromtimestamp(x // 1000000000)\n",
    "    s = dt.strftime('%Y-%m-%d %H:%M:%S')\n",
    "    s += '.' + str(int(x % 1000000000)).zfill(9)\n",
    "    return s\n",
    "\n",
    "def heatmap(cm, labels):\n",
    "    df_cm = pd.DataFrame(cm, index=labels, columns=labels)\n",
    "    plt.figure(figsize = (10,7))\n",
    "    sn.heatmap(df_cm, annot=True)\n",
    "\n",
    "    plt.show()\n",
    "    \n",
    "def preprocess(data, activity, type_, p, drop_interval_begin = 3, drop_interval_end = 3):\n",
    "    #convert nanoseconds to date \n",
    "    data['time'] = data['time'].apply(convert_to_datetime) \n",
    "    data['time'] = pd.to_datetime(data['time'])\n",
    "\n",
    "#convert to same data type\n",
    "    for i in range(1, 4): \n",
    "        data[column_names_org[i]] = data[column_names_org[i]].apply(convert_to_float)\n",
    "    \n",
    "#drop rows with NaN values \n",
    "    data.dropna(axis=0, how='any', inplace=True) #TODO: invullen met mean, mod of median / interpolatie\n",
    "\n",
    "#drop duplicates \n",
    "    data.drop_duplicates(subset=None, keep='first', inplace = True)\n",
    "    \n",
    "    #drop first and last 3 sec\n",
    "    indexFirst = data[ (data['time'].iloc[0]+ pd.to_timedelta(drop_interval_begin, unit='s')) > data['time'] ].index\n",
    "    data.drop(indexFirst , inplace=True)\n",
    "    indexLast = data[ (data['time'].iloc[-1]- pd.to_timedelta(drop_interval_end, unit='s')) < data['time'] ].index\n",
    "    data.drop(indexLast , inplace=True)\n",
    "    \n",
    "    #add activity label\n",
    "    data['activity'] = activity\n",
    "    data['type'] = type_\n",
    "    data['proefpersoon'] = p\n",
    "    \n",
    "    return data\n",
    "\n",
    "#feature extraction\n",
    "def get_mean_window(df):\n",
    "    return df.mean()\n",
    "\n",
    "def get_min_window(df):\n",
    "    return df.min()\n",
    "\n",
    "def get_max_window(df):\n",
    "    return df.max()\n",
    "\n",
    "def get_std_window(df):\n",
    "    return df.std()\n",
    "\n",
    "def get_med_window(df):\n",
    "    return df.median()\n",
    "\n",
    "#TODO: scipy integrate\n",
    "#TODO: voor elke as apart??\n",
    "#measure of activity level (m/s²)\n",
    "def get_signal_magnitude_area(df):\n",
    "        sum = 0\n",
    "        for i in range(0, len(df)):\n",
    "            sum += (abs(df['x'].iloc[i]) + abs(df['y'].iloc[i]) + abs(df['z'].iloc[i]))\n",
    "        return sum /len(df)\n",
    "    #result = integrate.quad(lambda t: df['x'].apply(lambda n : abs(n)) + df['y'].apply(lambda n : abs(n)) + df['z'].apply(lambda n : abs(n)), 0, len(df))\n",
    "\n",
    "#TODO: voor elke as apart??\n",
    "#degree of movement intensity (m/s²)\n",
    "def get_signal_magnitude_vector(df):\n",
    "    sum = 0\n",
    "    for i in range(0, len(df)):\n",
    "        sum += math.sqrt(df['x'].iloc[i] * df['x'].iloc[i] + df['y'].iloc[i] * df['y'].iloc[i] + df['z'].iloc[i] * df['z'].iloc[i])\n",
    "    return sum\n",
    "\n",
    "#average angle (radian) between accelerometer vector and x as (parallel with arm)\n",
    "def get_tilt_angle(df):\n",
    "    df_cos = pd.DataFrame(columns=[\"tilt_ang\"])\n",
    "    df_dot = df['x']\n",
    "    for i in range(0, len(df)):\n",
    "        s = pd.Series({\"tilt_ang\" : (df_dot.iloc[i])/(math.sqrt(df['x'].iloc[i]*df['x'].iloc[i] + df['y'].iloc[i]*df['y'].iloc[i] + df['z'].iloc[i]*df['z'].iloc[i]))})\n",
    "        df_cos=df_cos.append(s, ignore_index=True)\n",
    "    df_angle = np.arccos(df_cos)\n",
    "    return df_angle.mean()['tilt_ang']\n",
    "\n",
    "def get_power_spectral_density(df):\n",
    "    df_psd = np.abs(df)**2\n",
    "    return df_psd.sum()\n",
    "\n",
    "#TODO: datatype is object en niet compex nr\n",
    "def get_entropy(df):\n",
    "    entropy = []\n",
    "    pdf = df / df.sum()\n",
    "    for i in range (1, len(pdf.columns)):\n",
    "        entropy.append(np.complex(-np.nansum(pdf.iloc[:,i] * np.log2(pdf.iloc[:,i]))))\n",
    "    return entropy\n",
    "\n",
    "#generate windows with 50% overlap\n",
    "def windows(df, time, overlap):\n",
    "    start = df.iloc[0]\n",
    "    while  (start + pd.to_timedelta(time, unit='s')) < df.iloc[-1]:\n",
    "        yield start, (start + pd.to_timedelta(time, unit='s'))\n",
    "        if overlap:\n",
    "            start += pd.to_timedelta(time/2, unit='s')\n",
    "        else:\n",
    "            start += pd.to_timedelta(time, unit='s')\n",
    "    #last samples \n",
    "    yield (df.iloc[-1] - pd.to_timedelta(time, unit='s')), df.iloc[-1]\n",
    "        \n",
    "def feature_extraction_segmentation(data, window, overlap):\n",
    "    column_names = [\"x_mean\", \"y_mean\", \"z_mean\", \"x_min\", \"y_min\", \"z_min\", \"x_max\", \"y_max\", \"z_max\",\n",
    "                \"x_std\", \"y_std\", \"z_std\", \"x_med\", \"y_med\", \"z_med\", \"activity\"]\n",
    "    df = pd.DataFrame(columns = column_names)\n",
    "\n",
    "    for (start, end) in windows(data['time'], window, overlap):\n",
    "        vw1 = data['time'] >= start\n",
    "        vw2 = data['time'] < end\n",
    "        mean = get_mean_window(data[vw1 & vw2])\n",
    "        min = get_min_window(data[vw1 & vw2])\n",
    "        max = get_max_window(data[vw1 & vw2])\n",
    "        std = get_std_window(data[vw1 & vw2])\n",
    "        med = get_med_window(data[vw1 & vw2])\n",
    "        sma = get_signal_magnitude_area(data[vw1 & vw2])\n",
    "        smv = get_signal_magnitude_vector(data[vw1 & vw2])\n",
    "        tilt = get_tilt_angle(data[vw1 & vw2])\n",
    "        #fourrier transform\n",
    "        t_x = data[vw1 & vw2][['time','x']].set_index('time')\n",
    "        t_y = data[vw1 & vw2][['time','y']].set_index('time')\n",
    "        t_z = data[vw1 & vw2][['time', 'z']].set_index('time')\n",
    "\n",
    "        df_f = pd.DataFrame(columns=['f', 'x_f', 'y_f', 'z_f'])\n",
    "\n",
    "    #TODO: determine sampling rate (datapoints per second)\n",
    "        sampling_rate = 52\n",
    "\n",
    "        df_f['x_f'] = FFT.fft(t_x).ravel()\n",
    "        df_f['y_f'] = FFT.fft(t_y).ravel()\n",
    "        df_f['z_f'] = FFT.fft(t_z).ravel()\n",
    "        df_f['f'] = FFT.fftfreq(len(df_f['x_f'])) * sampling_rate\n",
    "\n",
    "        psd = get_power_spectral_density(df_f)\n",
    "        #entropy = get_entropy(df_f)\n",
    "\n",
    "        df = df.append(pd.Series({'x_mean': mean['x'], 'y_mean': mean['y'], 'z_mean': mean['z'], \"x_min\" : min['x'],\n",
    "                              \"y_min\" : min['y'], \"z_min\" : min['z'], \"x_max\" : max['x'], \"y_max\" : max['y'], \"z_max\" : max['z'],\n",
    "                              \"x_std\" : std['x'], \"y_std\" : std['y'], \"z_std\" : std['z'], \"x_med\" : med['x'], \"y_med\" : med['y'], \"z_med\" : med['z'],\n",
    "                              \"sma\" : sma, \"smv\" : smv, \"tilt\" : tilt, \"x_psd\" : psd['x_f'], \"y_psd\" : psd['y_f'], \"z_psd\" : psd['z_f']\n",
    "                              , \"activity\" : data['activity'].iloc[0]}), ignore_index=True) # \"x_entropy\" : entropy[0], \"y_entropy\" : entropy[1], \"z_entropy\" : entropy[2],\n",
    "    return df\n",
    "\n",
    "#3 keer savgol filter uitvoeren met 33,5\n",
    "def get_turns_smooth_side_swing(df):\n",
    "    for i in range(0,5):\n",
    "        df['x'] = savgol_filter(df[ 'x'].to_numpy(), 101, 5)\n",
    "        df['y'] = savgol_filter(df[ 'y'].to_numpy(), 101, 5)\n",
    "        df['z'] = savgol_filter(df[ 'z'].to_numpy(), 101, 5)\n",
    "        df.plot(x='time', subplots=True)\n",
    "\n",
    "    wx = find_peaks(df['x'])\n",
    "    wy = find_peaks(df['y'])\n",
    "    wz = find_peaks(df['z'])\n",
    "    return (len(wx[0]) + len(wy[0]) + len(wz[0]))/3\n",
    "\n",
    "\n",
    "column_names_org = ['time', 'x', 'y', 'z']"
   ]
  },
  {
   "cell_type": "code",
   "execution_count": 3,
   "metadata": {},
   "outputs": [],
   "source": [
    "raw = True\n",
    "freq = 0"
   ]
  },
  {
   "cell_type": "markdown",
   "metadata": {},
   "source": [
    "# <font color='green' >PROEFPERSOON 1"
   ]
  },
  {
   "cell_type": "markdown",
   "metadata": {},
   "source": [
    "## backward 180"
   ]
  },
  {
   "cell_type": "code",
   "execution_count": 61,
   "metadata": {},
   "outputs": [],
   "source": [
    "backward_180_left_right_1 = []\n",
    "backward_180_right_right_1= []\n",
    "backward_180_left_left_1 = []\n",
    "backward_180_right_left_1= []"
   ]
  },
  {
   "cell_type": "markdown",
   "metadata": {},
   "source": [
    "#### backward_180_left_right"
   ]
  },
  {
   "cell_type": "markdown",
   "metadata": {},
   "source": [
    "#### tussenpauzes"
   ]
  },
  {
   "cell_type": "code",
   "execution_count": 5,
   "metadata": {},
   "outputs": [
    {
     "ename": "FileNotFoundError",
     "evalue": "[Errno 2] File b'C:\\\\Users\\\\Elise\\\\Documents\\\\unif\\\\master\\\\semester2\\\\masterproef\\\\gitProject\\\\thesis\\\\data\\\\forward_180\\\\proefpersoon1\\\\forward_180_left_backwards_tim1.csv' does not exist: b'C:\\\\Users\\\\Elise\\\\Documents\\\\unif\\\\master\\\\semester2\\\\masterproef\\\\gitProject\\\\thesis\\\\data\\\\forward_180\\\\proefpersoon1\\\\forward_180_left_backwards_tim1.csv'",
     "output_type": "error",
     "traceback": [
      "\u001b[1;31m---------------------------------------------------------------------------\u001b[0m",
      "\u001b[1;31mFileNotFoundError\u001b[0m                         Traceback (most recent call last)",
      "\u001b[1;32m<ipython-input-5-d4f57a011849>\u001b[0m in \u001b[0;36m<module>\u001b[1;34m\u001b[0m\n\u001b[0;32m      1\u001b[0m \u001b[1;31m#8 SEGMENTEN\u001b[0m\u001b[1;33m\u001b[0m\u001b[1;33m\u001b[0m\u001b[1;33m\u001b[0m\u001b[0m\n\u001b[1;32m----> 2\u001b[1;33m \u001b[0mforward_180_left_backwards1\u001b[0m \u001b[1;33m=\u001b[0m \u001b[0mpd\u001b[0m\u001b[1;33m.\u001b[0m\u001b[0mread_csv\u001b[0m\u001b[1;33m(\u001b[0m\u001b[1;34mr\"C:\\Users\\Elise\\Documents\\unif\\master\\semester2\\masterproef\\gitProject\\thesis\\data\\forward_180\\proefpersoon1\\forward_180_left_backwards_tim1.csv\"\u001b[0m\u001b[1;33m,\u001b[0m \u001b[0msep\u001b[0m\u001b[1;33m=\u001b[0m\u001b[1;34m';'\u001b[0m\u001b[1;33m,\u001b[0m \u001b[0mheader\u001b[0m\u001b[1;33m=\u001b[0m\u001b[1;36m0\u001b[0m\u001b[1;33m,\u001b[0m \u001b[0mskipinitialspace\u001b[0m\u001b[1;33m=\u001b[0m\u001b[1;32mTrue\u001b[0m\u001b[1;33m)\u001b[0m\u001b[1;33m\u001b[0m\u001b[1;33m\u001b[0m\u001b[0m\n\u001b[0m",
      "\u001b[1;32m~\\Anaconda3\\lib\\site-packages\\pandas\\io\\parsers.py\u001b[0m in \u001b[0;36mparser_f\u001b[1;34m(filepath_or_buffer, sep, delimiter, header, names, index_col, usecols, squeeze, prefix, mangle_dupe_cols, dtype, engine, converters, true_values, false_values, skipinitialspace, skiprows, skipfooter, nrows, na_values, keep_default_na, na_filter, verbose, skip_blank_lines, parse_dates, infer_datetime_format, keep_date_col, date_parser, dayfirst, cache_dates, iterator, chunksize, compression, thousands, decimal, lineterminator, quotechar, quoting, doublequote, escapechar, comment, encoding, dialect, error_bad_lines, warn_bad_lines, delim_whitespace, low_memory, memory_map, float_precision)\u001b[0m\n\u001b[0;32m    683\u001b[0m         )\n\u001b[0;32m    684\u001b[0m \u001b[1;33m\u001b[0m\u001b[0m\n\u001b[1;32m--> 685\u001b[1;33m         \u001b[1;32mreturn\u001b[0m \u001b[0m_read\u001b[0m\u001b[1;33m(\u001b[0m\u001b[0mfilepath_or_buffer\u001b[0m\u001b[1;33m,\u001b[0m \u001b[0mkwds\u001b[0m\u001b[1;33m)\u001b[0m\u001b[1;33m\u001b[0m\u001b[1;33m\u001b[0m\u001b[0m\n\u001b[0m\u001b[0;32m    686\u001b[0m \u001b[1;33m\u001b[0m\u001b[0m\n\u001b[0;32m    687\u001b[0m     \u001b[0mparser_f\u001b[0m\u001b[1;33m.\u001b[0m\u001b[0m__name__\u001b[0m \u001b[1;33m=\u001b[0m \u001b[0mname\u001b[0m\u001b[1;33m\u001b[0m\u001b[1;33m\u001b[0m\u001b[0m\n",
      "\u001b[1;32m~\\Anaconda3\\lib\\site-packages\\pandas\\io\\parsers.py\u001b[0m in \u001b[0;36m_read\u001b[1;34m(filepath_or_buffer, kwds)\u001b[0m\n\u001b[0;32m    455\u001b[0m \u001b[1;33m\u001b[0m\u001b[0m\n\u001b[0;32m    456\u001b[0m     \u001b[1;31m# Create the parser.\u001b[0m\u001b[1;33m\u001b[0m\u001b[1;33m\u001b[0m\u001b[1;33m\u001b[0m\u001b[0m\n\u001b[1;32m--> 457\u001b[1;33m     \u001b[0mparser\u001b[0m \u001b[1;33m=\u001b[0m \u001b[0mTextFileReader\u001b[0m\u001b[1;33m(\u001b[0m\u001b[0mfp_or_buf\u001b[0m\u001b[1;33m,\u001b[0m \u001b[1;33m**\u001b[0m\u001b[0mkwds\u001b[0m\u001b[1;33m)\u001b[0m\u001b[1;33m\u001b[0m\u001b[1;33m\u001b[0m\u001b[0m\n\u001b[0m\u001b[0;32m    458\u001b[0m \u001b[1;33m\u001b[0m\u001b[0m\n\u001b[0;32m    459\u001b[0m     \u001b[1;32mif\u001b[0m \u001b[0mchunksize\u001b[0m \u001b[1;32mor\u001b[0m \u001b[0miterator\u001b[0m\u001b[1;33m:\u001b[0m\u001b[1;33m\u001b[0m\u001b[1;33m\u001b[0m\u001b[0m\n",
      "\u001b[1;32m~\\Anaconda3\\lib\\site-packages\\pandas\\io\\parsers.py\u001b[0m in \u001b[0;36m__init__\u001b[1;34m(self, f, engine, **kwds)\u001b[0m\n\u001b[0;32m    893\u001b[0m             \u001b[0mself\u001b[0m\u001b[1;33m.\u001b[0m\u001b[0moptions\u001b[0m\u001b[1;33m[\u001b[0m\u001b[1;34m\"has_index_names\"\u001b[0m\u001b[1;33m]\u001b[0m \u001b[1;33m=\u001b[0m \u001b[0mkwds\u001b[0m\u001b[1;33m[\u001b[0m\u001b[1;34m\"has_index_names\"\u001b[0m\u001b[1;33m]\u001b[0m\u001b[1;33m\u001b[0m\u001b[1;33m\u001b[0m\u001b[0m\n\u001b[0;32m    894\u001b[0m \u001b[1;33m\u001b[0m\u001b[0m\n\u001b[1;32m--> 895\u001b[1;33m         \u001b[0mself\u001b[0m\u001b[1;33m.\u001b[0m\u001b[0m_make_engine\u001b[0m\u001b[1;33m(\u001b[0m\u001b[0mself\u001b[0m\u001b[1;33m.\u001b[0m\u001b[0mengine\u001b[0m\u001b[1;33m)\u001b[0m\u001b[1;33m\u001b[0m\u001b[1;33m\u001b[0m\u001b[0m\n\u001b[0m\u001b[0;32m    896\u001b[0m \u001b[1;33m\u001b[0m\u001b[0m\n\u001b[0;32m    897\u001b[0m     \u001b[1;32mdef\u001b[0m \u001b[0mclose\u001b[0m\u001b[1;33m(\u001b[0m\u001b[0mself\u001b[0m\u001b[1;33m)\u001b[0m\u001b[1;33m:\u001b[0m\u001b[1;33m\u001b[0m\u001b[1;33m\u001b[0m\u001b[0m\n",
      "\u001b[1;32m~\\Anaconda3\\lib\\site-packages\\pandas\\io\\parsers.py\u001b[0m in \u001b[0;36m_make_engine\u001b[1;34m(self, engine)\u001b[0m\n\u001b[0;32m   1133\u001b[0m     \u001b[1;32mdef\u001b[0m \u001b[0m_make_engine\u001b[0m\u001b[1;33m(\u001b[0m\u001b[0mself\u001b[0m\u001b[1;33m,\u001b[0m \u001b[0mengine\u001b[0m\u001b[1;33m=\u001b[0m\u001b[1;34m\"c\"\u001b[0m\u001b[1;33m)\u001b[0m\u001b[1;33m:\u001b[0m\u001b[1;33m\u001b[0m\u001b[1;33m\u001b[0m\u001b[0m\n\u001b[0;32m   1134\u001b[0m         \u001b[1;32mif\u001b[0m \u001b[0mengine\u001b[0m \u001b[1;33m==\u001b[0m \u001b[1;34m\"c\"\u001b[0m\u001b[1;33m:\u001b[0m\u001b[1;33m\u001b[0m\u001b[1;33m\u001b[0m\u001b[0m\n\u001b[1;32m-> 1135\u001b[1;33m             \u001b[0mself\u001b[0m\u001b[1;33m.\u001b[0m\u001b[0m_engine\u001b[0m \u001b[1;33m=\u001b[0m \u001b[0mCParserWrapper\u001b[0m\u001b[1;33m(\u001b[0m\u001b[0mself\u001b[0m\u001b[1;33m.\u001b[0m\u001b[0mf\u001b[0m\u001b[1;33m,\u001b[0m \u001b[1;33m**\u001b[0m\u001b[0mself\u001b[0m\u001b[1;33m.\u001b[0m\u001b[0moptions\u001b[0m\u001b[1;33m)\u001b[0m\u001b[1;33m\u001b[0m\u001b[1;33m\u001b[0m\u001b[0m\n\u001b[0m\u001b[0;32m   1136\u001b[0m         \u001b[1;32melse\u001b[0m\u001b[1;33m:\u001b[0m\u001b[1;33m\u001b[0m\u001b[1;33m\u001b[0m\u001b[0m\n\u001b[0;32m   1137\u001b[0m             \u001b[1;32mif\u001b[0m \u001b[0mengine\u001b[0m \u001b[1;33m==\u001b[0m \u001b[1;34m\"python\"\u001b[0m\u001b[1;33m:\u001b[0m\u001b[1;33m\u001b[0m\u001b[1;33m\u001b[0m\u001b[0m\n",
      "\u001b[1;32m~\\Anaconda3\\lib\\site-packages\\pandas\\io\\parsers.py\u001b[0m in \u001b[0;36m__init__\u001b[1;34m(self, src, **kwds)\u001b[0m\n\u001b[0;32m   1915\u001b[0m         \u001b[0mkwds\u001b[0m\u001b[1;33m[\u001b[0m\u001b[1;34m\"usecols\"\u001b[0m\u001b[1;33m]\u001b[0m \u001b[1;33m=\u001b[0m \u001b[0mself\u001b[0m\u001b[1;33m.\u001b[0m\u001b[0musecols\u001b[0m\u001b[1;33m\u001b[0m\u001b[1;33m\u001b[0m\u001b[0m\n\u001b[0;32m   1916\u001b[0m \u001b[1;33m\u001b[0m\u001b[0m\n\u001b[1;32m-> 1917\u001b[1;33m         \u001b[0mself\u001b[0m\u001b[1;33m.\u001b[0m\u001b[0m_reader\u001b[0m \u001b[1;33m=\u001b[0m \u001b[0mparsers\u001b[0m\u001b[1;33m.\u001b[0m\u001b[0mTextReader\u001b[0m\u001b[1;33m(\u001b[0m\u001b[0msrc\u001b[0m\u001b[1;33m,\u001b[0m \u001b[1;33m**\u001b[0m\u001b[0mkwds\u001b[0m\u001b[1;33m)\u001b[0m\u001b[1;33m\u001b[0m\u001b[1;33m\u001b[0m\u001b[0m\n\u001b[0m\u001b[0;32m   1918\u001b[0m         \u001b[0mself\u001b[0m\u001b[1;33m.\u001b[0m\u001b[0munnamed_cols\u001b[0m \u001b[1;33m=\u001b[0m \u001b[0mself\u001b[0m\u001b[1;33m.\u001b[0m\u001b[0m_reader\u001b[0m\u001b[1;33m.\u001b[0m\u001b[0munnamed_cols\u001b[0m\u001b[1;33m\u001b[0m\u001b[1;33m\u001b[0m\u001b[0m\n\u001b[0;32m   1919\u001b[0m \u001b[1;33m\u001b[0m\u001b[0m\n",
      "\u001b[1;32mpandas\\_libs\\parsers.pyx\u001b[0m in \u001b[0;36mpandas._libs.parsers.TextReader.__cinit__\u001b[1;34m()\u001b[0m\n",
      "\u001b[1;32mpandas\\_libs\\parsers.pyx\u001b[0m in \u001b[0;36mpandas._libs.parsers.TextReader._setup_parser_source\u001b[1;34m()\u001b[0m\n",
      "\u001b[1;31mFileNotFoundError\u001b[0m: [Errno 2] File b'C:\\\\Users\\\\Elise\\\\Documents\\\\unif\\\\master\\\\semester2\\\\masterproef\\\\gitProject\\\\thesis\\\\data\\\\forward_180\\\\proefpersoon1\\\\forward_180_left_backwards_tim1.csv' does not exist: b'C:\\\\Users\\\\Elise\\\\Documents\\\\unif\\\\master\\\\semester2\\\\masterproef\\\\gitProject\\\\thesis\\\\data\\\\forward_180\\\\proefpersoon1\\\\forward_180_left_backwards_tim1.csv'"
     ]
    }
   ],
   "source": [
    "#8 SEGMENTEN\n",
    "forward_180_left_backwards1 = pd.read_csv(r\"C:\\Users\\Elise\\Documents\\unif\\master\\semester2\\masterproef\\gitProject\\thesis\\data\\forward_180\\proefpersoon1\\forward_180_left_backwards_tim1.csv\", sep=';', header=0, skipinitialspace=True)"
   ]
  },
  {
   "cell_type": "code",
   "execution_count": null,
   "metadata": {},
   "outputs": [],
   "source": [
    "f1 =  forward_180_left_backwards1[forward_180_left_backwards1[\"time\"] <= 31979000000000]\n",
    "f2 =  forward_180_left_backwards1[(forward_180_left_backwards1[\"time\"] >= 31979000000000) & (forward_180_left_backwards1[\"time\"] <= 31983000000000)]\n",
    "f3 =  forward_180_left_backwards1[(forward_180_left_backwards1[\"time\"] >= 31983000000000) & (forward_180_left_backwards1[\"time\"] <= 31987500000000)]\n",
    "f4 =  forward_180_left_backwards1[(forward_180_left_backwards1[\"time\"] >= 31987500000000) & (forward_180_left_backwards1[\"time\"] <= 31991800000000)]\n",
    "f5 =  forward_180_left_backwards1[(forward_180_left_backwards1[\"time\"] >= 31991800000000) & (forward_180_left_backwards1[\"time\"] <= 31995800000000)]\n",
    "f6 =  forward_180_left_backwards1[(forward_180_left_backwards1[\"time\"] >= 31995800000000) & (forward_180_left_backwards1[\"time\"] <= 31999900000000)]\n",
    "f7 =  forward_180_left_backwards1[(forward_180_left_backwards1[\"time\"] >= 31999900000000) & (forward_180_left_backwards1[\"time\"] <= 32004400000000)]\n",
    "f8 =  forward_180_left_backwards1[(forward_180_left_backwards1[\"time\"] >= 32004400000000) & (forward_180_left_backwards1[\"time\"] <= 32009000000000)]"
   ]
  },
  {
   "cell_type": "code",
   "execution_count": null,
   "metadata": {},
   "outputs": [],
   "source": [
    "f1 = preprocess(f1, \"backward_180\", 1.2, 0.8)\n",
    "f2 = preprocess(f2, \"backward_180\", 0.9, 0.5)\n",
    "f3 = preprocess(f3, \"backward_180\", 1, 1)\n",
    "f4 = preprocess(f4, \"backward_180\", 0.8, 0.9)\n",
    "f5 = preprocess(f5, \"backward_180\", 0.8, 0.9)\n",
    "f6 = preprocess(f6, \"backward_180\", 0.8, 0.8)\n",
    "f7 = preprocess(f7, \"backward_180\", 1.1, 0.9)\n",
    "f8 = preprocess(f8, \"backward_180\", 1.1, 0.9)"
   ]
  },
  {
   "cell_type": "code",
   "execution_count": null,
   "metadata": {},
   "outputs": [],
   "source": [
    "forward_180_left_backwards_1 = [f1,f2, f3, f4, f5, f6, f7, f8]"
   ]
  },
  {
   "cell_type": "markdown",
   "metadata": {},
   "source": [
    "#### zonder tussenpauzes"
   ]
  },
  {
   "cell_type": "code",
   "execution_count": 33,
   "metadata": {},
   "outputs": [],
   "source": [
    "backward_180a = pd.read_csv(\n",
    "    r\"C:\\Users\\Elise\\Documents\\unif\\master\\semester2\\masterproef\\gitProject\\thesis\\data\\forward_180\\proefpersoon1\\backward_180_left_right_tim1.csv\", \n",
    "    sep=';', header=0, skipinitialspace=True)"
   ]
  },
  {
   "cell_type": "code",
   "execution_count": 34,
   "metadata": {},
   "outputs": [],
   "source": [
    "backward_180a = preprocess(backward_180a, \"backward_180\", \"left_right\",1, 0.8, 1.8)"
   ]
  },
  {
   "cell_type": "code",
   "execution_count": 36,
   "metadata": {},
   "outputs": [],
   "source": [
    "backward_180_left_right_1 = [backward_180a]"
   ]
  },
  {
   "cell_type": "code",
   "execution_count": 37,
   "metadata": {},
   "outputs": [],
   "source": [
    "for df in backward_180_left_right_1:\n",
    "    f = sampling_freq(df)\n",
    "    freq += f"
   ]
  },
  {
   "cell_type": "markdown",
   "metadata": {},
   "source": [
    "#### backward_180_right_right"
   ]
  },
  {
   "cell_type": "markdown",
   "metadata": {},
   "source": [
    "#### tussenpauzes"
   ]
  },
  {
   "cell_type": "code",
   "execution_count": 10,
   "metadata": {},
   "outputs": [
    {
     "ename": "FileNotFoundError",
     "evalue": "[Errno 2] File b'C:\\\\Users\\\\Elise\\\\Documents\\\\unif\\\\master\\\\semester2\\\\masterproef\\\\gitProject\\\\thesis\\\\data\\\\forward_180\\\\proefpersoon1\\\\forward_180_right_backwards_tim1.csv' does not exist: b'C:\\\\Users\\\\Elise\\\\Documents\\\\unif\\\\master\\\\semester2\\\\masterproef\\\\gitProject\\\\thesis\\\\data\\\\forward_180\\\\proefpersoon1\\\\forward_180_right_backwards_tim1.csv'",
     "output_type": "error",
     "traceback": [
      "\u001b[1;31m---------------------------------------------------------------------------\u001b[0m",
      "\u001b[1;31mFileNotFoundError\u001b[0m                         Traceback (most recent call last)",
      "\u001b[1;32m<ipython-input-10-309f8187546f>\u001b[0m in \u001b[0;36m<module>\u001b[1;34m\u001b[0m\n\u001b[0;32m      1\u001b[0m \u001b[1;31m#EERSTE EN LAATSTE STUKJES NIET GEKNIPT\u001b[0m\u001b[1;33m\u001b[0m\u001b[1;33m\u001b[0m\u001b[1;33m\u001b[0m\u001b[0m\n\u001b[0;32m      2\u001b[0m \u001b[1;31m#5 SEGMENTEN\u001b[0m\u001b[1;33m\u001b[0m\u001b[1;33m\u001b[0m\u001b[1;33m\u001b[0m\u001b[0m\n\u001b[1;32m----> 3\u001b[1;33m \u001b[0mforward_180_right_backwards1\u001b[0m \u001b[1;33m=\u001b[0m \u001b[0mpd\u001b[0m\u001b[1;33m.\u001b[0m\u001b[0mread_csv\u001b[0m\u001b[1;33m(\u001b[0m\u001b[1;34mr\"C:\\Users\\Elise\\Documents\\unif\\master\\semester2\\masterproef\\gitProject\\thesis\\data\\forward_180\\proefpersoon1\\forward_180_right_backwards_tim1.csv\"\u001b[0m\u001b[1;33m,\u001b[0m \u001b[0msep\u001b[0m\u001b[1;33m=\u001b[0m\u001b[1;34m';'\u001b[0m\u001b[1;33m,\u001b[0m \u001b[0mheader\u001b[0m\u001b[1;33m=\u001b[0m\u001b[1;36m0\u001b[0m\u001b[1;33m,\u001b[0m \u001b[0mskipinitialspace\u001b[0m\u001b[1;33m=\u001b[0m\u001b[1;32mTrue\u001b[0m\u001b[1;33m)\u001b[0m\u001b[1;33m\u001b[0m\u001b[1;33m\u001b[0m\u001b[0m\n\u001b[0m\u001b[0;32m      4\u001b[0m \u001b[1;33m\u001b[0m\u001b[0m\n\u001b[0;32m      5\u001b[0m \u001b[1;31m#3 SEGMENTEN\u001b[0m\u001b[1;33m\u001b[0m\u001b[1;33m\u001b[0m\u001b[1;33m\u001b[0m\u001b[0m\n",
      "\u001b[1;32m~\\Anaconda3\\lib\\site-packages\\pandas\\io\\parsers.py\u001b[0m in \u001b[0;36mparser_f\u001b[1;34m(filepath_or_buffer, sep, delimiter, header, names, index_col, usecols, squeeze, prefix, mangle_dupe_cols, dtype, engine, converters, true_values, false_values, skipinitialspace, skiprows, skipfooter, nrows, na_values, keep_default_na, na_filter, verbose, skip_blank_lines, parse_dates, infer_datetime_format, keep_date_col, date_parser, dayfirst, cache_dates, iterator, chunksize, compression, thousands, decimal, lineterminator, quotechar, quoting, doublequote, escapechar, comment, encoding, dialect, error_bad_lines, warn_bad_lines, delim_whitespace, low_memory, memory_map, float_precision)\u001b[0m\n\u001b[0;32m    683\u001b[0m         )\n\u001b[0;32m    684\u001b[0m \u001b[1;33m\u001b[0m\u001b[0m\n\u001b[1;32m--> 685\u001b[1;33m         \u001b[1;32mreturn\u001b[0m \u001b[0m_read\u001b[0m\u001b[1;33m(\u001b[0m\u001b[0mfilepath_or_buffer\u001b[0m\u001b[1;33m,\u001b[0m \u001b[0mkwds\u001b[0m\u001b[1;33m)\u001b[0m\u001b[1;33m\u001b[0m\u001b[1;33m\u001b[0m\u001b[0m\n\u001b[0m\u001b[0;32m    686\u001b[0m \u001b[1;33m\u001b[0m\u001b[0m\n\u001b[0;32m    687\u001b[0m     \u001b[0mparser_f\u001b[0m\u001b[1;33m.\u001b[0m\u001b[0m__name__\u001b[0m \u001b[1;33m=\u001b[0m \u001b[0mname\u001b[0m\u001b[1;33m\u001b[0m\u001b[1;33m\u001b[0m\u001b[0m\n",
      "\u001b[1;32m~\\Anaconda3\\lib\\site-packages\\pandas\\io\\parsers.py\u001b[0m in \u001b[0;36m_read\u001b[1;34m(filepath_or_buffer, kwds)\u001b[0m\n\u001b[0;32m    455\u001b[0m \u001b[1;33m\u001b[0m\u001b[0m\n\u001b[0;32m    456\u001b[0m     \u001b[1;31m# Create the parser.\u001b[0m\u001b[1;33m\u001b[0m\u001b[1;33m\u001b[0m\u001b[1;33m\u001b[0m\u001b[0m\n\u001b[1;32m--> 457\u001b[1;33m     \u001b[0mparser\u001b[0m \u001b[1;33m=\u001b[0m \u001b[0mTextFileReader\u001b[0m\u001b[1;33m(\u001b[0m\u001b[0mfp_or_buf\u001b[0m\u001b[1;33m,\u001b[0m \u001b[1;33m**\u001b[0m\u001b[0mkwds\u001b[0m\u001b[1;33m)\u001b[0m\u001b[1;33m\u001b[0m\u001b[1;33m\u001b[0m\u001b[0m\n\u001b[0m\u001b[0;32m    458\u001b[0m \u001b[1;33m\u001b[0m\u001b[0m\n\u001b[0;32m    459\u001b[0m     \u001b[1;32mif\u001b[0m \u001b[0mchunksize\u001b[0m \u001b[1;32mor\u001b[0m \u001b[0miterator\u001b[0m\u001b[1;33m:\u001b[0m\u001b[1;33m\u001b[0m\u001b[1;33m\u001b[0m\u001b[0m\n",
      "\u001b[1;32m~\\Anaconda3\\lib\\site-packages\\pandas\\io\\parsers.py\u001b[0m in \u001b[0;36m__init__\u001b[1;34m(self, f, engine, **kwds)\u001b[0m\n\u001b[0;32m    893\u001b[0m             \u001b[0mself\u001b[0m\u001b[1;33m.\u001b[0m\u001b[0moptions\u001b[0m\u001b[1;33m[\u001b[0m\u001b[1;34m\"has_index_names\"\u001b[0m\u001b[1;33m]\u001b[0m \u001b[1;33m=\u001b[0m \u001b[0mkwds\u001b[0m\u001b[1;33m[\u001b[0m\u001b[1;34m\"has_index_names\"\u001b[0m\u001b[1;33m]\u001b[0m\u001b[1;33m\u001b[0m\u001b[1;33m\u001b[0m\u001b[0m\n\u001b[0;32m    894\u001b[0m \u001b[1;33m\u001b[0m\u001b[0m\n\u001b[1;32m--> 895\u001b[1;33m         \u001b[0mself\u001b[0m\u001b[1;33m.\u001b[0m\u001b[0m_make_engine\u001b[0m\u001b[1;33m(\u001b[0m\u001b[0mself\u001b[0m\u001b[1;33m.\u001b[0m\u001b[0mengine\u001b[0m\u001b[1;33m)\u001b[0m\u001b[1;33m\u001b[0m\u001b[1;33m\u001b[0m\u001b[0m\n\u001b[0m\u001b[0;32m    896\u001b[0m \u001b[1;33m\u001b[0m\u001b[0m\n\u001b[0;32m    897\u001b[0m     \u001b[1;32mdef\u001b[0m \u001b[0mclose\u001b[0m\u001b[1;33m(\u001b[0m\u001b[0mself\u001b[0m\u001b[1;33m)\u001b[0m\u001b[1;33m:\u001b[0m\u001b[1;33m\u001b[0m\u001b[1;33m\u001b[0m\u001b[0m\n",
      "\u001b[1;32m~\\Anaconda3\\lib\\site-packages\\pandas\\io\\parsers.py\u001b[0m in \u001b[0;36m_make_engine\u001b[1;34m(self, engine)\u001b[0m\n\u001b[0;32m   1133\u001b[0m     \u001b[1;32mdef\u001b[0m \u001b[0m_make_engine\u001b[0m\u001b[1;33m(\u001b[0m\u001b[0mself\u001b[0m\u001b[1;33m,\u001b[0m \u001b[0mengine\u001b[0m\u001b[1;33m=\u001b[0m\u001b[1;34m\"c\"\u001b[0m\u001b[1;33m)\u001b[0m\u001b[1;33m:\u001b[0m\u001b[1;33m\u001b[0m\u001b[1;33m\u001b[0m\u001b[0m\n\u001b[0;32m   1134\u001b[0m         \u001b[1;32mif\u001b[0m \u001b[0mengine\u001b[0m \u001b[1;33m==\u001b[0m \u001b[1;34m\"c\"\u001b[0m\u001b[1;33m:\u001b[0m\u001b[1;33m\u001b[0m\u001b[1;33m\u001b[0m\u001b[0m\n\u001b[1;32m-> 1135\u001b[1;33m             \u001b[0mself\u001b[0m\u001b[1;33m.\u001b[0m\u001b[0m_engine\u001b[0m \u001b[1;33m=\u001b[0m \u001b[0mCParserWrapper\u001b[0m\u001b[1;33m(\u001b[0m\u001b[0mself\u001b[0m\u001b[1;33m.\u001b[0m\u001b[0mf\u001b[0m\u001b[1;33m,\u001b[0m \u001b[1;33m**\u001b[0m\u001b[0mself\u001b[0m\u001b[1;33m.\u001b[0m\u001b[0moptions\u001b[0m\u001b[1;33m)\u001b[0m\u001b[1;33m\u001b[0m\u001b[1;33m\u001b[0m\u001b[0m\n\u001b[0m\u001b[0;32m   1136\u001b[0m         \u001b[1;32melse\u001b[0m\u001b[1;33m:\u001b[0m\u001b[1;33m\u001b[0m\u001b[1;33m\u001b[0m\u001b[0m\n\u001b[0;32m   1137\u001b[0m             \u001b[1;32mif\u001b[0m \u001b[0mengine\u001b[0m \u001b[1;33m==\u001b[0m \u001b[1;34m\"python\"\u001b[0m\u001b[1;33m:\u001b[0m\u001b[1;33m\u001b[0m\u001b[1;33m\u001b[0m\u001b[0m\n",
      "\u001b[1;32m~\\Anaconda3\\lib\\site-packages\\pandas\\io\\parsers.py\u001b[0m in \u001b[0;36m__init__\u001b[1;34m(self, src, **kwds)\u001b[0m\n\u001b[0;32m   1915\u001b[0m         \u001b[0mkwds\u001b[0m\u001b[1;33m[\u001b[0m\u001b[1;34m\"usecols\"\u001b[0m\u001b[1;33m]\u001b[0m \u001b[1;33m=\u001b[0m \u001b[0mself\u001b[0m\u001b[1;33m.\u001b[0m\u001b[0musecols\u001b[0m\u001b[1;33m\u001b[0m\u001b[1;33m\u001b[0m\u001b[0m\n\u001b[0;32m   1916\u001b[0m \u001b[1;33m\u001b[0m\u001b[0m\n\u001b[1;32m-> 1917\u001b[1;33m         \u001b[0mself\u001b[0m\u001b[1;33m.\u001b[0m\u001b[0m_reader\u001b[0m \u001b[1;33m=\u001b[0m \u001b[0mparsers\u001b[0m\u001b[1;33m.\u001b[0m\u001b[0mTextReader\u001b[0m\u001b[1;33m(\u001b[0m\u001b[0msrc\u001b[0m\u001b[1;33m,\u001b[0m \u001b[1;33m**\u001b[0m\u001b[0mkwds\u001b[0m\u001b[1;33m)\u001b[0m\u001b[1;33m\u001b[0m\u001b[1;33m\u001b[0m\u001b[0m\n\u001b[0m\u001b[0;32m   1918\u001b[0m         \u001b[0mself\u001b[0m\u001b[1;33m.\u001b[0m\u001b[0munnamed_cols\u001b[0m \u001b[1;33m=\u001b[0m \u001b[0mself\u001b[0m\u001b[1;33m.\u001b[0m\u001b[0m_reader\u001b[0m\u001b[1;33m.\u001b[0m\u001b[0munnamed_cols\u001b[0m\u001b[1;33m\u001b[0m\u001b[1;33m\u001b[0m\u001b[0m\n\u001b[0;32m   1919\u001b[0m \u001b[1;33m\u001b[0m\u001b[0m\n",
      "\u001b[1;32mpandas\\_libs\\parsers.pyx\u001b[0m in \u001b[0;36mpandas._libs.parsers.TextReader.__cinit__\u001b[1;34m()\u001b[0m\n",
      "\u001b[1;32mpandas\\_libs\\parsers.pyx\u001b[0m in \u001b[0;36mpandas._libs.parsers.TextReader._setup_parser_source\u001b[1;34m()\u001b[0m\n",
      "\u001b[1;31mFileNotFoundError\u001b[0m: [Errno 2] File b'C:\\\\Users\\\\Elise\\\\Documents\\\\unif\\\\master\\\\semester2\\\\masterproef\\\\gitProject\\\\thesis\\\\data\\\\forward_180\\\\proefpersoon1\\\\forward_180_right_backwards_tim1.csv' does not exist: b'C:\\\\Users\\\\Elise\\\\Documents\\\\unif\\\\master\\\\semester2\\\\masterproef\\\\gitProject\\\\thesis\\\\data\\\\forward_180\\\\proefpersoon1\\\\forward_180_right_backwards_tim1.csv'"
     ]
    }
   ],
   "source": [
    "#EERSTE EN LAATSTE STUKJES NIET GEKNIPT\n",
    "#5 SEGMENTEN\n",
    "forward_180_right_backwards1 = pd.read_csv(r\"C:\\Users\\Elise\\Documents\\unif\\master\\semester2\\masterproef\\gitProject\\thesis\\data\\forward_180\\proefpersoon1\\forward_180_right_backwards_tim1.csv\", sep=';', header=0, skipinitialspace=True)\n",
    "\n",
    "#3 SEGMENTEN\n",
    "forward_180_right_backwards2 = pd.read_csv(r\"C:\\Users\\Elise\\Documents\\unif\\master\\semester2\\masterproef\\gitProject\\thesis\\data\\forward_180\\proefpersoon1\\forward_180_right_backwards_tim2.csv\", sep=';', header=0, skipinitialspace=True)\n",
    "\n",
    "forward_180_right_backwards4 = pd.read_csv(r\"C:\\Users\\Elise\\Documents\\unif\\master\\semester2\\masterproef\\gitProject\\thesis\\data\\forward_180\\proefpersoon1\\forward_180_right_backwards_tim4.csv\", sep=';', header=0, skipinitialspace=True)\n",
    "\n",
    "forward_180_right_backwards5 = pd.read_csv(r\"C:\\Users\\Elise\\Documents\\unif\\master\\semester2\\masterproef\\gitProject\\thesis\\data\\forward_180\\proefpersoon1\\forward_180_right_backwards_tim5.csv\", sep=';', header=0, skipinitialspace=True)\n",
    "forward_180_right_backwards6 = pd.read_csv(r\"C:\\Users\\Elise\\Documents\\unif\\master\\semester2\\masterproef\\gitProject\\thesis\\data\\forward_180\\proefpersoon1\\forward_180_right_backwards_tim6.csv\", sep=';', header=0, skipinitialspace=True)\n"
   ]
  },
  {
   "cell_type": "code",
   "execution_count": null,
   "metadata": {},
   "outputs": [],
   "source": [
    "f2 =  forward_180_right_backwards1[(forward_180_right_backwards1[\"time\"] >= 11918100000000) & (forward_180_right_backwards1[\"time\"] <= 11923700000000)]\n",
    "f3 =  forward_180_right_backwards1[(forward_180_right_backwards1[\"time\"] >= 11923700000000) & (forward_180_right_backwards1[\"time\"] <= 11929200000000)]\n",
    "f4 =  forward_180_right_backwards1[(forward_180_right_backwards1[\"time\"] >= 11929200000000) & (forward_180_right_backwards1[\"time\"] <= 11935500000000)]\n",
    "f5 =  forward_180_right_backwards1[(forward_180_right_backwards1[\"time\"] >= 11935500000000) & (forward_180_right_backwards1[\"time\"] <= 11941400000000)]\n",
    "\n",
    "f6 =  forward_180_right_backwards2[(forward_180_right_backwards2[\"time\"] <= 11951900000000)]\n",
    "f7 =  forward_180_right_backwards2[(forward_180_right_backwards2[\"time\"] >= 11951900000000) & (forward_180_right_backwards2[\"time\"] <= 11956800000000)]\n",
    "f8 =  forward_180_right_backwards2[(forward_180_right_backwards2[\"time\"] >= 11956800000000) & (forward_180_right_backwards2[\"time\"] <= 11961900000000)]\n",
    "\n",
    "f9 =  forward_180_right_backwards4[(forward_180_right_backwards4[\"time\"] >= 11976300000000)]\n",
    "f10 = forward_180_right_backwards4[(forward_180_right_backwards4[\"time\"] <= 11976300000000)]"
   ]
  },
  {
   "cell_type": "code",
   "execution_count": null,
   "metadata": {},
   "outputs": [],
   "source": [
    "f2 = preprocess(f2, \"backward_180\", 1.7, 0.9)\n",
    "f3 = preprocess(f3, \"backward_180\", 1, 1.2)\n",
    "f4 = preprocess(f4, \"backward_180\", 1.5, 1.7)\n",
    "f5 = preprocess(f5, \"backward_180\", 2, 1)\n",
    "f6 = preprocess(f6, \"backward_180\", 1, 1)\n",
    "f7 = preprocess(f7, \"backward_180\", 1.5, 1.5)\n",
    "f8 = preprocess(f8, \"backward_180\", 1.7, 1.5)\n",
    "f9 = preprocess(f9, \"backward_180\", 1.5, 0.6)"
   ]
  },
  {
   "cell_type": "code",
   "execution_count": null,
   "metadata": {},
   "outputs": [],
   "source": [
    "forward_180_right_backwards_1 = [f2, f3, f4, f5, f6, f7, f8, f9]"
   ]
  },
  {
   "cell_type": "markdown",
   "metadata": {},
   "source": [
    "#### zonder tussenpauzes"
   ]
  },
  {
   "cell_type": "code",
   "execution_count": 41,
   "metadata": {},
   "outputs": [],
   "source": [
    "backward_180_right_righta = pd.read_csv(\n",
    "    r\"C:\\Users\\Elise\\Documents\\unif\\master\\semester2\\masterproef\\gitProject\\thesis\\data\\forward_180\\proefpersoon1\\backward_180_right_right_tim.csv\", \n",
    "    sep=';', header=0, skipinitialspace=True)\n",
    "\n",
    "backward_180_right_rightb = pd.read_csv(\n",
    "    r\"C:\\Users\\Elise\\Documents\\unif\\master\\semester2\\masterproef\\gitProject\\thesis\\data\\forward_180\\proefpersoon1\\backward_180_right_right_tim2.csv\", \n",
    "    sep=';', header=0, skipinitialspace=True)"
   ]
  },
  {
   "cell_type": "code",
   "execution_count": 42,
   "metadata": {},
   "outputs": [],
   "source": [
    "backward_180_right_righta = preprocess(backward_180_right_righta, \"backward_180\", \"right_right\", 1)\n",
    "backward_180_right_rightb = preprocess(backward_180_right_rightb, \"backward_180\", \"right_right\", 1)"
   ]
  },
  {
   "cell_type": "code",
   "execution_count": 43,
   "metadata": {},
   "outputs": [
    {
     "data": {
      "application/javascript": [
       "/* Put everything inside the global mpl namespace */\n",
       "window.mpl = {};\n",
       "\n",
       "\n",
       "mpl.get_websocket_type = function() {\n",
       "    if (typeof(WebSocket) !== 'undefined') {\n",
       "        return WebSocket;\n",
       "    } else if (typeof(MozWebSocket) !== 'undefined') {\n",
       "        return MozWebSocket;\n",
       "    } else {\n",
       "        alert('Your browser does not have WebSocket support. ' +\n",
       "              'Please try Chrome, Safari or Firefox ≥ 6. ' +\n",
       "              'Firefox 4 and 5 are also supported but you ' +\n",
       "              'have to enable WebSockets in about:config.');\n",
       "    };\n",
       "}\n",
       "\n",
       "mpl.figure = function(figure_id, websocket, ondownload, parent_element) {\n",
       "    this.id = figure_id;\n",
       "\n",
       "    this.ws = websocket;\n",
       "\n",
       "    this.supports_binary = (this.ws.binaryType != undefined);\n",
       "\n",
       "    if (!this.supports_binary) {\n",
       "        var warnings = document.getElementById(\"mpl-warnings\");\n",
       "        if (warnings) {\n",
       "            warnings.style.display = 'block';\n",
       "            warnings.textContent = (\n",
       "                \"This browser does not support binary websocket messages. \" +\n",
       "                    \"Performance may be slow.\");\n",
       "        }\n",
       "    }\n",
       "\n",
       "    this.imageObj = new Image();\n",
       "\n",
       "    this.context = undefined;\n",
       "    this.message = undefined;\n",
       "    this.canvas = undefined;\n",
       "    this.rubberband_canvas = undefined;\n",
       "    this.rubberband_context = undefined;\n",
       "    this.format_dropdown = undefined;\n",
       "\n",
       "    this.image_mode = 'full';\n",
       "\n",
       "    this.root = $('<div/>');\n",
       "    this._root_extra_style(this.root)\n",
       "    this.root.attr('style', 'display: inline-block');\n",
       "\n",
       "    $(parent_element).append(this.root);\n",
       "\n",
       "    this._init_header(this);\n",
       "    this._init_canvas(this);\n",
       "    this._init_toolbar(this);\n",
       "\n",
       "    var fig = this;\n",
       "\n",
       "    this.waiting = false;\n",
       "\n",
       "    this.ws.onopen =  function () {\n",
       "            fig.send_message(\"supports_binary\", {value: fig.supports_binary});\n",
       "            fig.send_message(\"send_image_mode\", {});\n",
       "            if (mpl.ratio != 1) {\n",
       "                fig.send_message(\"set_dpi_ratio\", {'dpi_ratio': mpl.ratio});\n",
       "            }\n",
       "            fig.send_message(\"refresh\", {});\n",
       "        }\n",
       "\n",
       "    this.imageObj.onload = function() {\n",
       "            if (fig.image_mode == 'full') {\n",
       "                // Full images could contain transparency (where diff images\n",
       "                // almost always do), so we need to clear the canvas so that\n",
       "                // there is no ghosting.\n",
       "                fig.context.clearRect(0, 0, fig.canvas.width, fig.canvas.height);\n",
       "            }\n",
       "            fig.context.drawImage(fig.imageObj, 0, 0);\n",
       "        };\n",
       "\n",
       "    this.imageObj.onunload = function() {\n",
       "        fig.ws.close();\n",
       "    }\n",
       "\n",
       "    this.ws.onmessage = this._make_on_message_function(this);\n",
       "\n",
       "    this.ondownload = ondownload;\n",
       "}\n",
       "\n",
       "mpl.figure.prototype._init_header = function() {\n",
       "    var titlebar = $(\n",
       "        '<div class=\"ui-dialog-titlebar ui-widget-header ui-corner-all ' +\n",
       "        'ui-helper-clearfix\"/>');\n",
       "    var titletext = $(\n",
       "        '<div class=\"ui-dialog-title\" style=\"width: 100%; ' +\n",
       "        'text-align: center; padding: 3px;\"/>');\n",
       "    titlebar.append(titletext)\n",
       "    this.root.append(titlebar);\n",
       "    this.header = titletext[0];\n",
       "}\n",
       "\n",
       "\n",
       "\n",
       "mpl.figure.prototype._canvas_extra_style = function(canvas_div) {\n",
       "\n",
       "}\n",
       "\n",
       "\n",
       "mpl.figure.prototype._root_extra_style = function(canvas_div) {\n",
       "\n",
       "}\n",
       "\n",
       "mpl.figure.prototype._init_canvas = function() {\n",
       "    var fig = this;\n",
       "\n",
       "    var canvas_div = $('<div/>');\n",
       "\n",
       "    canvas_div.attr('style', 'position: relative; clear: both; outline: 0');\n",
       "\n",
       "    function canvas_keyboard_event(event) {\n",
       "        return fig.key_event(event, event['data']);\n",
       "    }\n",
       "\n",
       "    canvas_div.keydown('key_press', canvas_keyboard_event);\n",
       "    canvas_div.keyup('key_release', canvas_keyboard_event);\n",
       "    this.canvas_div = canvas_div\n",
       "    this._canvas_extra_style(canvas_div)\n",
       "    this.root.append(canvas_div);\n",
       "\n",
       "    var canvas = $('<canvas/>');\n",
       "    canvas.addClass('mpl-canvas');\n",
       "    canvas.attr('style', \"left: 0; top: 0; z-index: 0; outline: 0\")\n",
       "\n",
       "    this.canvas = canvas[0];\n",
       "    this.context = canvas[0].getContext(\"2d\");\n",
       "\n",
       "    var backingStore = this.context.backingStorePixelRatio ||\n",
       "\tthis.context.webkitBackingStorePixelRatio ||\n",
       "\tthis.context.mozBackingStorePixelRatio ||\n",
       "\tthis.context.msBackingStorePixelRatio ||\n",
       "\tthis.context.oBackingStorePixelRatio ||\n",
       "\tthis.context.backingStorePixelRatio || 1;\n",
       "\n",
       "    mpl.ratio = (window.devicePixelRatio || 1) / backingStore;\n",
       "\n",
       "    var rubberband = $('<canvas/>');\n",
       "    rubberband.attr('style', \"position: absolute; left: 0; top: 0; z-index: 1;\")\n",
       "\n",
       "    var pass_mouse_events = true;\n",
       "\n",
       "    canvas_div.resizable({\n",
       "        start: function(event, ui) {\n",
       "            pass_mouse_events = false;\n",
       "        },\n",
       "        resize: function(event, ui) {\n",
       "            fig.request_resize(ui.size.width, ui.size.height);\n",
       "        },\n",
       "        stop: function(event, ui) {\n",
       "            pass_mouse_events = true;\n",
       "            fig.request_resize(ui.size.width, ui.size.height);\n",
       "        },\n",
       "    });\n",
       "\n",
       "    function mouse_event_fn(event) {\n",
       "        if (pass_mouse_events)\n",
       "            return fig.mouse_event(event, event['data']);\n",
       "    }\n",
       "\n",
       "    rubberband.mousedown('button_press', mouse_event_fn);\n",
       "    rubberband.mouseup('button_release', mouse_event_fn);\n",
       "    // Throttle sequential mouse events to 1 every 20ms.\n",
       "    rubberband.mousemove('motion_notify', mouse_event_fn);\n",
       "\n",
       "    rubberband.mouseenter('figure_enter', mouse_event_fn);\n",
       "    rubberband.mouseleave('figure_leave', mouse_event_fn);\n",
       "\n",
       "    canvas_div.on(\"wheel\", function (event) {\n",
       "        event = event.originalEvent;\n",
       "        event['data'] = 'scroll'\n",
       "        if (event.deltaY < 0) {\n",
       "            event.step = 1;\n",
       "        } else {\n",
       "            event.step = -1;\n",
       "        }\n",
       "        mouse_event_fn(event);\n",
       "    });\n",
       "\n",
       "    canvas_div.append(canvas);\n",
       "    canvas_div.append(rubberband);\n",
       "\n",
       "    this.rubberband = rubberband;\n",
       "    this.rubberband_canvas = rubberband[0];\n",
       "    this.rubberband_context = rubberband[0].getContext(\"2d\");\n",
       "    this.rubberband_context.strokeStyle = \"#000000\";\n",
       "\n",
       "    this._resize_canvas = function(width, height) {\n",
       "        // Keep the size of the canvas, canvas container, and rubber band\n",
       "        // canvas in synch.\n",
       "        canvas_div.css('width', width)\n",
       "        canvas_div.css('height', height)\n",
       "\n",
       "        canvas.attr('width', width * mpl.ratio);\n",
       "        canvas.attr('height', height * mpl.ratio);\n",
       "        canvas.attr('style', 'width: ' + width + 'px; height: ' + height + 'px;');\n",
       "\n",
       "        rubberband.attr('width', width);\n",
       "        rubberband.attr('height', height);\n",
       "    }\n",
       "\n",
       "    // Set the figure to an initial 600x600px, this will subsequently be updated\n",
       "    // upon first draw.\n",
       "    this._resize_canvas(600, 600);\n",
       "\n",
       "    // Disable right mouse context menu.\n",
       "    $(this.rubberband_canvas).bind(\"contextmenu\",function(e){\n",
       "        return false;\n",
       "    });\n",
       "\n",
       "    function set_focus () {\n",
       "        canvas.focus();\n",
       "        canvas_div.focus();\n",
       "    }\n",
       "\n",
       "    window.setTimeout(set_focus, 100);\n",
       "}\n",
       "\n",
       "mpl.figure.prototype._init_toolbar = function() {\n",
       "    var fig = this;\n",
       "\n",
       "    var nav_element = $('<div/>');\n",
       "    nav_element.attr('style', 'width: 100%');\n",
       "    this.root.append(nav_element);\n",
       "\n",
       "    // Define a callback function for later on.\n",
       "    function toolbar_event(event) {\n",
       "        return fig.toolbar_button_onclick(event['data']);\n",
       "    }\n",
       "    function toolbar_mouse_event(event) {\n",
       "        return fig.toolbar_button_onmouseover(event['data']);\n",
       "    }\n",
       "\n",
       "    for(var toolbar_ind in mpl.toolbar_items) {\n",
       "        var name = mpl.toolbar_items[toolbar_ind][0];\n",
       "        var tooltip = mpl.toolbar_items[toolbar_ind][1];\n",
       "        var image = mpl.toolbar_items[toolbar_ind][2];\n",
       "        var method_name = mpl.toolbar_items[toolbar_ind][3];\n",
       "\n",
       "        if (!name) {\n",
       "            // put a spacer in here.\n",
       "            continue;\n",
       "        }\n",
       "        var button = $('<button/>');\n",
       "        button.addClass('ui-button ui-widget ui-state-default ui-corner-all ' +\n",
       "                        'ui-button-icon-only');\n",
       "        button.attr('role', 'button');\n",
       "        button.attr('aria-disabled', 'false');\n",
       "        button.click(method_name, toolbar_event);\n",
       "        button.mouseover(tooltip, toolbar_mouse_event);\n",
       "\n",
       "        var icon_img = $('<span/>');\n",
       "        icon_img.addClass('ui-button-icon-primary ui-icon');\n",
       "        icon_img.addClass(image);\n",
       "        icon_img.addClass('ui-corner-all');\n",
       "\n",
       "        var tooltip_span = $('<span/>');\n",
       "        tooltip_span.addClass('ui-button-text');\n",
       "        tooltip_span.html(tooltip);\n",
       "\n",
       "        button.append(icon_img);\n",
       "        button.append(tooltip_span);\n",
       "\n",
       "        nav_element.append(button);\n",
       "    }\n",
       "\n",
       "    var fmt_picker_span = $('<span/>');\n",
       "\n",
       "    var fmt_picker = $('<select/>');\n",
       "    fmt_picker.addClass('mpl-toolbar-option ui-widget ui-widget-content');\n",
       "    fmt_picker_span.append(fmt_picker);\n",
       "    nav_element.append(fmt_picker_span);\n",
       "    this.format_dropdown = fmt_picker[0];\n",
       "\n",
       "    for (var ind in mpl.extensions) {\n",
       "        var fmt = mpl.extensions[ind];\n",
       "        var option = $(\n",
       "            '<option/>', {selected: fmt === mpl.default_extension}).html(fmt);\n",
       "        fmt_picker.append(option);\n",
       "    }\n",
       "\n",
       "    // Add hover states to the ui-buttons\n",
       "    $( \".ui-button\" ).hover(\n",
       "        function() { $(this).addClass(\"ui-state-hover\");},\n",
       "        function() { $(this).removeClass(\"ui-state-hover\");}\n",
       "    );\n",
       "\n",
       "    var status_bar = $('<span class=\"mpl-message\"/>');\n",
       "    nav_element.append(status_bar);\n",
       "    this.message = status_bar[0];\n",
       "}\n",
       "\n",
       "mpl.figure.prototype.request_resize = function(x_pixels, y_pixels) {\n",
       "    // Request matplotlib to resize the figure. Matplotlib will then trigger a resize in the client,\n",
       "    // which will in turn request a refresh of the image.\n",
       "    this.send_message('resize', {'width': x_pixels, 'height': y_pixels});\n",
       "}\n",
       "\n",
       "mpl.figure.prototype.send_message = function(type, properties) {\n",
       "    properties['type'] = type;\n",
       "    properties['figure_id'] = this.id;\n",
       "    this.ws.send(JSON.stringify(properties));\n",
       "}\n",
       "\n",
       "mpl.figure.prototype.send_draw_message = function() {\n",
       "    if (!this.waiting) {\n",
       "        this.waiting = true;\n",
       "        this.ws.send(JSON.stringify({type: \"draw\", figure_id: this.id}));\n",
       "    }\n",
       "}\n",
       "\n",
       "\n",
       "mpl.figure.prototype.handle_save = function(fig, msg) {\n",
       "    var format_dropdown = fig.format_dropdown;\n",
       "    var format = format_dropdown.options[format_dropdown.selectedIndex].value;\n",
       "    fig.ondownload(fig, format);\n",
       "}\n",
       "\n",
       "\n",
       "mpl.figure.prototype.handle_resize = function(fig, msg) {\n",
       "    var size = msg['size'];\n",
       "    if (size[0] != fig.canvas.width || size[1] != fig.canvas.height) {\n",
       "        fig._resize_canvas(size[0], size[1]);\n",
       "        fig.send_message(\"refresh\", {});\n",
       "    };\n",
       "}\n",
       "\n",
       "mpl.figure.prototype.handle_rubberband = function(fig, msg) {\n",
       "    var x0 = msg['x0'] / mpl.ratio;\n",
       "    var y0 = (fig.canvas.height - msg['y0']) / mpl.ratio;\n",
       "    var x1 = msg['x1'] / mpl.ratio;\n",
       "    var y1 = (fig.canvas.height - msg['y1']) / mpl.ratio;\n",
       "    x0 = Math.floor(x0) + 0.5;\n",
       "    y0 = Math.floor(y0) + 0.5;\n",
       "    x1 = Math.floor(x1) + 0.5;\n",
       "    y1 = Math.floor(y1) + 0.5;\n",
       "    var min_x = Math.min(x0, x1);\n",
       "    var min_y = Math.min(y0, y1);\n",
       "    var width = Math.abs(x1 - x0);\n",
       "    var height = Math.abs(y1 - y0);\n",
       "\n",
       "    fig.rubberband_context.clearRect(\n",
       "        0, 0, fig.canvas.width / mpl.ratio, fig.canvas.height / mpl.ratio);\n",
       "\n",
       "    fig.rubberband_context.strokeRect(min_x, min_y, width, height);\n",
       "}\n",
       "\n",
       "mpl.figure.prototype.handle_figure_label = function(fig, msg) {\n",
       "    // Updates the figure title.\n",
       "    fig.header.textContent = msg['label'];\n",
       "}\n",
       "\n",
       "mpl.figure.prototype.handle_cursor = function(fig, msg) {\n",
       "    var cursor = msg['cursor'];\n",
       "    switch(cursor)\n",
       "    {\n",
       "    case 0:\n",
       "        cursor = 'pointer';\n",
       "        break;\n",
       "    case 1:\n",
       "        cursor = 'default';\n",
       "        break;\n",
       "    case 2:\n",
       "        cursor = 'crosshair';\n",
       "        break;\n",
       "    case 3:\n",
       "        cursor = 'move';\n",
       "        break;\n",
       "    }\n",
       "    fig.rubberband_canvas.style.cursor = cursor;\n",
       "}\n",
       "\n",
       "mpl.figure.prototype.handle_message = function(fig, msg) {\n",
       "    fig.message.textContent = msg['message'];\n",
       "}\n",
       "\n",
       "mpl.figure.prototype.handle_draw = function(fig, msg) {\n",
       "    // Request the server to send over a new figure.\n",
       "    fig.send_draw_message();\n",
       "}\n",
       "\n",
       "mpl.figure.prototype.handle_image_mode = function(fig, msg) {\n",
       "    fig.image_mode = msg['mode'];\n",
       "}\n",
       "\n",
       "mpl.figure.prototype.updated_canvas_event = function() {\n",
       "    // Called whenever the canvas gets updated.\n",
       "    this.send_message(\"ack\", {});\n",
       "}\n",
       "\n",
       "// A function to construct a web socket function for onmessage handling.\n",
       "// Called in the figure constructor.\n",
       "mpl.figure.prototype._make_on_message_function = function(fig) {\n",
       "    return function socket_on_message(evt) {\n",
       "        if (evt.data instanceof Blob) {\n",
       "            /* FIXME: We get \"Resource interpreted as Image but\n",
       "             * transferred with MIME type text/plain:\" errors on\n",
       "             * Chrome.  But how to set the MIME type?  It doesn't seem\n",
       "             * to be part of the websocket stream */\n",
       "            evt.data.type = \"image/png\";\n",
       "\n",
       "            /* Free the memory for the previous frames */\n",
       "            if (fig.imageObj.src) {\n",
       "                (window.URL || window.webkitURL).revokeObjectURL(\n",
       "                    fig.imageObj.src);\n",
       "            }\n",
       "\n",
       "            fig.imageObj.src = (window.URL || window.webkitURL).createObjectURL(\n",
       "                evt.data);\n",
       "            fig.updated_canvas_event();\n",
       "            fig.waiting = false;\n",
       "            return;\n",
       "        }\n",
       "        else if (typeof evt.data === 'string' && evt.data.slice(0, 21) == \"data:image/png;base64\") {\n",
       "            fig.imageObj.src = evt.data;\n",
       "            fig.updated_canvas_event();\n",
       "            fig.waiting = false;\n",
       "            return;\n",
       "        }\n",
       "\n",
       "        var msg = JSON.parse(evt.data);\n",
       "        var msg_type = msg['type'];\n",
       "\n",
       "        // Call the  \"handle_{type}\" callback, which takes\n",
       "        // the figure and JSON message as its only arguments.\n",
       "        try {\n",
       "            var callback = fig[\"handle_\" + msg_type];\n",
       "        } catch (e) {\n",
       "            console.log(\"No handler for the '\" + msg_type + \"' message type: \", msg);\n",
       "            return;\n",
       "        }\n",
       "\n",
       "        if (callback) {\n",
       "            try {\n",
       "                // console.log(\"Handling '\" + msg_type + \"' message: \", msg);\n",
       "                callback(fig, msg);\n",
       "            } catch (e) {\n",
       "                console.log(\"Exception inside the 'handler_\" + msg_type + \"' callback:\", e, e.stack, msg);\n",
       "            }\n",
       "        }\n",
       "    };\n",
       "}\n",
       "\n",
       "// from http://stackoverflow.com/questions/1114465/getting-mouse-location-in-canvas\n",
       "mpl.findpos = function(e) {\n",
       "    //this section is from http://www.quirksmode.org/js/events_properties.html\n",
       "    var targ;\n",
       "    if (!e)\n",
       "        e = window.event;\n",
       "    if (e.target)\n",
       "        targ = e.target;\n",
       "    else if (e.srcElement)\n",
       "        targ = e.srcElement;\n",
       "    if (targ.nodeType == 3) // defeat Safari bug\n",
       "        targ = targ.parentNode;\n",
       "\n",
       "    // jQuery normalizes the pageX and pageY\n",
       "    // pageX,Y are the mouse positions relative to the document\n",
       "    // offset() returns the position of the element relative to the document\n",
       "    var x = e.pageX - $(targ).offset().left;\n",
       "    var y = e.pageY - $(targ).offset().top;\n",
       "\n",
       "    return {\"x\": x, \"y\": y};\n",
       "};\n",
       "\n",
       "/*\n",
       " * return a copy of an object with only non-object keys\n",
       " * we need this to avoid circular references\n",
       " * http://stackoverflow.com/a/24161582/3208463\n",
       " */\n",
       "function simpleKeys (original) {\n",
       "  return Object.keys(original).reduce(function (obj, key) {\n",
       "    if (typeof original[key] !== 'object')\n",
       "        obj[key] = original[key]\n",
       "    return obj;\n",
       "  }, {});\n",
       "}\n",
       "\n",
       "mpl.figure.prototype.mouse_event = function(event, name) {\n",
       "    var canvas_pos = mpl.findpos(event)\n",
       "\n",
       "    if (name === 'button_press')\n",
       "    {\n",
       "        this.canvas.focus();\n",
       "        this.canvas_div.focus();\n",
       "    }\n",
       "\n",
       "    var x = canvas_pos.x * mpl.ratio;\n",
       "    var y = canvas_pos.y * mpl.ratio;\n",
       "\n",
       "    this.send_message(name, {x: x, y: y, button: event.button,\n",
       "                             step: event.step,\n",
       "                             guiEvent: simpleKeys(event)});\n",
       "\n",
       "    /* This prevents the web browser from automatically changing to\n",
       "     * the text insertion cursor when the button is pressed.  We want\n",
       "     * to control all of the cursor setting manually through the\n",
       "     * 'cursor' event from matplotlib */\n",
       "    event.preventDefault();\n",
       "    return false;\n",
       "}\n",
       "\n",
       "mpl.figure.prototype._key_event_extra = function(event, name) {\n",
       "    // Handle any extra behaviour associated with a key event\n",
       "}\n",
       "\n",
       "mpl.figure.prototype.key_event = function(event, name) {\n",
       "\n",
       "    // Prevent repeat events\n",
       "    if (name == 'key_press')\n",
       "    {\n",
       "        if (event.which === this._key)\n",
       "            return;\n",
       "        else\n",
       "            this._key = event.which;\n",
       "    }\n",
       "    if (name == 'key_release')\n",
       "        this._key = null;\n",
       "\n",
       "    var value = '';\n",
       "    if (event.ctrlKey && event.which != 17)\n",
       "        value += \"ctrl+\";\n",
       "    if (event.altKey && event.which != 18)\n",
       "        value += \"alt+\";\n",
       "    if (event.shiftKey && event.which != 16)\n",
       "        value += \"shift+\";\n",
       "\n",
       "    value += 'k';\n",
       "    value += event.which.toString();\n",
       "\n",
       "    this._key_event_extra(event, name);\n",
       "\n",
       "    this.send_message(name, {key: value,\n",
       "                             guiEvent: simpleKeys(event)});\n",
       "    return false;\n",
       "}\n",
       "\n",
       "mpl.figure.prototype.toolbar_button_onclick = function(name) {\n",
       "    if (name == 'download') {\n",
       "        this.handle_save(this, null);\n",
       "    } else {\n",
       "        this.send_message(\"toolbar_button\", {name: name});\n",
       "    }\n",
       "};\n",
       "\n",
       "mpl.figure.prototype.toolbar_button_onmouseover = function(tooltip) {\n",
       "    this.message.textContent = tooltip;\n",
       "};\n",
       "mpl.toolbar_items = [[\"Home\", \"Reset original view\", \"fa fa-home icon-home\", \"home\"], [\"Back\", \"Back to previous view\", \"fa fa-arrow-left icon-arrow-left\", \"back\"], [\"Forward\", \"Forward to next view\", \"fa fa-arrow-right icon-arrow-right\", \"forward\"], [\"\", \"\", \"\", \"\"], [\"Pan\", \"Pan axes with left mouse, zoom with right\", \"fa fa-arrows icon-move\", \"pan\"], [\"Zoom\", \"Zoom to rectangle\", \"fa fa-square-o icon-check-empty\", \"zoom\"], [\"\", \"\", \"\", \"\"], [\"Download\", \"Download plot\", \"fa fa-floppy-o icon-save\", \"download\"]];\n",
       "\n",
       "mpl.extensions = [\"eps\", \"jpeg\", \"pdf\", \"png\", \"ps\", \"raw\", \"svg\", \"tif\"];\n",
       "\n",
       "mpl.default_extension = \"png\";var comm_websocket_adapter = function(comm) {\n",
       "    // Create a \"websocket\"-like object which calls the given IPython comm\n",
       "    // object with the appropriate methods. Currently this is a non binary\n",
       "    // socket, so there is still some room for performance tuning.\n",
       "    var ws = {};\n",
       "\n",
       "    ws.close = function() {\n",
       "        comm.close()\n",
       "    };\n",
       "    ws.send = function(m) {\n",
       "        //console.log('sending', m);\n",
       "        comm.send(m);\n",
       "    };\n",
       "    // Register the callback with on_msg.\n",
       "    comm.on_msg(function(msg) {\n",
       "        //console.log('receiving', msg['content']['data'], msg);\n",
       "        // Pass the mpl event to the overridden (by mpl) onmessage function.\n",
       "        ws.onmessage(msg['content']['data'])\n",
       "    });\n",
       "    return ws;\n",
       "}\n",
       "\n",
       "mpl.mpl_figure_comm = function(comm, msg) {\n",
       "    // This is the function which gets called when the mpl process\n",
       "    // starts-up an IPython Comm through the \"matplotlib\" channel.\n",
       "\n",
       "    var id = msg.content.data.id;\n",
       "    // Get hold of the div created by the display call when the Comm\n",
       "    // socket was opened in Python.\n",
       "    var element = $(\"#\" + id);\n",
       "    var ws_proxy = comm_websocket_adapter(comm)\n",
       "\n",
       "    function ondownload(figure, format) {\n",
       "        window.open(figure.imageObj.src);\n",
       "    }\n",
       "\n",
       "    var fig = new mpl.figure(id, ws_proxy,\n",
       "                           ondownload,\n",
       "                           element.get(0));\n",
       "\n",
       "    // Call onopen now - mpl needs it, as it is assuming we've passed it a real\n",
       "    // web socket which is closed, not our websocket->open comm proxy.\n",
       "    ws_proxy.onopen();\n",
       "\n",
       "    fig.parent_element = element.get(0);\n",
       "    fig.cell_info = mpl.find_output_cell(\"<div id='\" + id + \"'></div>\");\n",
       "    if (!fig.cell_info) {\n",
       "        console.error(\"Failed to find cell for figure\", id, fig);\n",
       "        return;\n",
       "    }\n",
       "\n",
       "    var output_index = fig.cell_info[2]\n",
       "    var cell = fig.cell_info[0];\n",
       "\n",
       "};\n",
       "\n",
       "mpl.figure.prototype.handle_close = function(fig, msg) {\n",
       "    var width = fig.canvas.width/mpl.ratio\n",
       "    fig.root.unbind('remove')\n",
       "\n",
       "    // Update the output cell to use the data from the current canvas.\n",
       "    fig.push_to_output();\n",
       "    var dataURL = fig.canvas.toDataURL();\n",
       "    // Re-enable the keyboard manager in IPython - without this line, in FF,\n",
       "    // the notebook keyboard shortcuts fail.\n",
       "    IPython.keyboard_manager.enable()\n",
       "    $(fig.parent_element).html('<img src=\"' + dataURL + '\" width=\"' + width + '\">');\n",
       "    fig.close_ws(fig, msg);\n",
       "}\n",
       "\n",
       "mpl.figure.prototype.close_ws = function(fig, msg){\n",
       "    fig.send_message('closing', msg);\n",
       "    // fig.ws.close()\n",
       "}\n",
       "\n",
       "mpl.figure.prototype.push_to_output = function(remove_interactive) {\n",
       "    // Turn the data on the canvas into data in the output cell.\n",
       "    var width = this.canvas.width/mpl.ratio\n",
       "    var dataURL = this.canvas.toDataURL();\n",
       "    this.cell_info[1]['text/html'] = '<img src=\"' + dataURL + '\" width=\"' + width + '\">';\n",
       "}\n",
       "\n",
       "mpl.figure.prototype.updated_canvas_event = function() {\n",
       "    // Tell IPython that the notebook contents must change.\n",
       "    IPython.notebook.set_dirty(true);\n",
       "    this.send_message(\"ack\", {});\n",
       "    var fig = this;\n",
       "    // Wait a second, then push the new image to the DOM so\n",
       "    // that it is saved nicely (might be nice to debounce this).\n",
       "    setTimeout(function () { fig.push_to_output() }, 1000);\n",
       "}\n",
       "\n",
       "mpl.figure.prototype._init_toolbar = function() {\n",
       "    var fig = this;\n",
       "\n",
       "    var nav_element = $('<div/>');\n",
       "    nav_element.attr('style', 'width: 100%');\n",
       "    this.root.append(nav_element);\n",
       "\n",
       "    // Define a callback function for later on.\n",
       "    function toolbar_event(event) {\n",
       "        return fig.toolbar_button_onclick(event['data']);\n",
       "    }\n",
       "    function toolbar_mouse_event(event) {\n",
       "        return fig.toolbar_button_onmouseover(event['data']);\n",
       "    }\n",
       "\n",
       "    for(var toolbar_ind in mpl.toolbar_items){\n",
       "        var name = mpl.toolbar_items[toolbar_ind][0];\n",
       "        var tooltip = mpl.toolbar_items[toolbar_ind][1];\n",
       "        var image = mpl.toolbar_items[toolbar_ind][2];\n",
       "        var method_name = mpl.toolbar_items[toolbar_ind][3];\n",
       "\n",
       "        if (!name) { continue; };\n",
       "\n",
       "        var button = $('<button class=\"btn btn-default\" href=\"#\" title=\"' + name + '\"><i class=\"fa ' + image + ' fa-lg\"></i></button>');\n",
       "        button.click(method_name, toolbar_event);\n",
       "        button.mouseover(tooltip, toolbar_mouse_event);\n",
       "        nav_element.append(button);\n",
       "    }\n",
       "\n",
       "    // Add the status bar.\n",
       "    var status_bar = $('<span class=\"mpl-message\" style=\"text-align:right; float: right;\"/>');\n",
       "    nav_element.append(status_bar);\n",
       "    this.message = status_bar[0];\n",
       "\n",
       "    // Add the close button to the window.\n",
       "    var buttongrp = $('<div class=\"btn-group inline pull-right\"></div>');\n",
       "    var button = $('<button class=\"btn btn-mini btn-primary\" href=\"#\" title=\"Stop Interaction\"><i class=\"fa fa-power-off icon-remove icon-large\"></i></button>');\n",
       "    button.click(function (evt) { fig.handle_close(fig, {}); } );\n",
       "    button.mouseover('Stop Interaction', toolbar_mouse_event);\n",
       "    buttongrp.append(button);\n",
       "    var titlebar = this.root.find($('.ui-dialog-titlebar'));\n",
       "    titlebar.prepend(buttongrp);\n",
       "}\n",
       "\n",
       "mpl.figure.prototype._root_extra_style = function(el){\n",
       "    var fig = this\n",
       "    el.on(\"remove\", function(){\n",
       "\tfig.close_ws(fig, {});\n",
       "    });\n",
       "}\n",
       "\n",
       "mpl.figure.prototype._canvas_extra_style = function(el){\n",
       "    // this is important to make the div 'focusable\n",
       "    el.attr('tabindex', 0)\n",
       "    // reach out to IPython and tell the keyboard manager to turn it's self\n",
       "    // off when our div gets focus\n",
       "\n",
       "    // location in version 3\n",
       "    if (IPython.notebook.keyboard_manager) {\n",
       "        IPython.notebook.keyboard_manager.register_events(el);\n",
       "    }\n",
       "    else {\n",
       "        // location in version 2\n",
       "        IPython.keyboard_manager.register_events(el);\n",
       "    }\n",
       "\n",
       "}\n",
       "\n",
       "mpl.figure.prototype._key_event_extra = function(event, name) {\n",
       "    var manager = IPython.notebook.keyboard_manager;\n",
       "    if (!manager)\n",
       "        manager = IPython.keyboard_manager;\n",
       "\n",
       "    // Check for shift+enter\n",
       "    if (event.shiftKey && event.which == 13) {\n",
       "        this.canvas_div.blur();\n",
       "        // select the cell after this one\n",
       "        var index = IPython.notebook.find_cell_index(this.cell_info[0]);\n",
       "        IPython.notebook.select(index + 1);\n",
       "    }\n",
       "}\n",
       "\n",
       "mpl.figure.prototype.handle_save = function(fig, msg) {\n",
       "    fig.ondownload(fig, null);\n",
       "}\n",
       "\n",
       "\n",
       "mpl.find_output_cell = function(html_output) {\n",
       "    // Return the cell and output element which can be found *uniquely* in the notebook.\n",
       "    // Note - this is a bit hacky, but it is done because the \"notebook_saving.Notebook\"\n",
       "    // IPython event is triggered only after the cells have been serialised, which for\n",
       "    // our purposes (turning an active figure into a static one), is too late.\n",
       "    var cells = IPython.notebook.get_cells();\n",
       "    var ncells = cells.length;\n",
       "    for (var i=0; i<ncells; i++) {\n",
       "        var cell = cells[i];\n",
       "        if (cell.cell_type === 'code'){\n",
       "            for (var j=0; j<cell.output_area.outputs.length; j++) {\n",
       "                var data = cell.output_area.outputs[j];\n",
       "                if (data.data) {\n",
       "                    // IPython >= 3 moved mimebundle to data attribute of output\n",
       "                    data = data.data;\n",
       "                }\n",
       "                if (data['text/html'] == html_output) {\n",
       "                    return [cell, data, j];\n",
       "                }\n",
       "            }\n",
       "        }\n",
       "    }\n",
       "}\n",
       "\n",
       "// Register the function which deals with the matplotlib target/channel.\n",
       "// The kernel may be null if the page has been refreshed.\n",
       "if (IPython.notebook.kernel != null) {\n",
       "    IPython.notebook.kernel.comm_manager.register_target('matplotlib', mpl.mpl_figure_comm);\n",
       "}\n"
      ],
      "text/plain": [
       "<IPython.core.display.Javascript object>"
      ]
     },
     "metadata": {},
     "output_type": "display_data"
    },
    {
     "data": {
      "text/html": [
       "<img src=\"data:image/png;base64,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\" width=\"1200\">"
      ],
      "text/plain": [
       "<IPython.core.display.HTML object>"
      ]
     },
     "metadata": {},
     "output_type": "display_data"
    },
    {
     "data": {
      "text/plain": [
       "array([<matplotlib.axes._subplots.AxesSubplot object at 0x00000245F1F8C588>,\n",
       "       <matplotlib.axes._subplots.AxesSubplot object at 0x00000245F2FC6E48>,\n",
       "       <matplotlib.axes._subplots.AxesSubplot object at 0x00000245F2F81848>,\n",
       "       <matplotlib.axes._subplots.AxesSubplot object at 0x00000245F2FFD488>],\n",
       "      dtype=object)"
      ]
     },
     "execution_count": 43,
     "metadata": {},
     "output_type": "execute_result"
    }
   ],
   "source": [
    "plt.figsize=(8,5)\n",
    "backward_180_right_righta.plot(x='time', subplots=True)"
   ]
  },
  {
   "cell_type": "code",
   "execution_count": 68,
   "metadata": {},
   "outputs": [],
   "source": [
    "backward_180_right_right_1 = [backward_180_right_righta, backward_180_right_rightb]"
   ]
  },
  {
   "cell_type": "code",
   "execution_count": 69,
   "metadata": {},
   "outputs": [],
   "source": [
    "for df in backward_180_right_right_1:\n",
    "    f = sampling_freq(df)\n",
    "    freq += f"
   ]
  },
  {
   "cell_type": "markdown",
   "metadata": {},
   "source": [
    "#### backward_180_left_left"
   ]
  },
  {
   "cell_type": "markdown",
   "metadata": {},
   "source": [
    "#### tussenpauze"
   ]
  },
  {
   "cell_type": "code",
   "execution_count": null,
   "metadata": {},
   "outputs": [],
   "source": [
    "#8 segmenten\n",
    "forward_180_left_backwards_other1 = pd.read_csv(r\"C:\\Users\\Elise\\Documents\\unif\\master\\semester2\\masterproef\\gitProject\\thesis\\data\\forward_180\\proefpersoon1\\forward_180_left_backwards_tim_other_side1.csv\", sep=';', header=0, skipinitialspace=True)"
   ]
  },
  {
   "cell_type": "code",
   "execution_count": null,
   "metadata": {},
   "outputs": [],
   "source": [
    "f1 =  forward_180_left_backwards_other1[forward_180_left_backwards_other1[\"time\"] <= 32379000000000]\n",
    "f2 =  forward_180_left_backwards_other1[(forward_180_left_backwards_other1[\"time\"] >= 32379000000000) & (forward_180_left_backwards_other1[\"time\"] <= 32383100000000)]\n",
    "f3 =  forward_180_left_backwards_other1[(forward_180_left_backwards_other1[\"time\"] >= 32383100000000) & (forward_180_left_backwards_other1[\"time\"] <= 32387300000000)]\n",
    "f4 =  forward_180_left_backwards_other1[(forward_180_left_backwards_other1[\"time\"] >= 32387300000000) & (forward_180_left_backwards_other1[\"time\"] <= 32391400000000)]\n",
    "f5 =  forward_180_left_backwards_other1[(forward_180_left_backwards_other1[\"time\"] >= 32391400000000) & (forward_180_left_backwards_other1[\"time\"] <= 32395500000000)]\n",
    "f6 =  forward_180_left_backwards_other1[(forward_180_left_backwards_other1[\"time\"] >= 32395500000000) & (forward_180_left_backwards_other1[\"time\"] <= 32399600000000)]\n",
    "f7 =  forward_180_left_backwards_other1[(forward_180_left_backwards_other1[\"time\"] >= 32399600000000) & (forward_180_left_backwards_other1[\"time\"] <= 32403800000000)]\n",
    "f8 =  forward_180_left_backwards_other1[(forward_180_left_backwards_other1[\"time\"] >= 32403800000000) & (forward_180_left_backwards_other1[\"time\"] <= 32408100000000)]\n"
   ]
  },
  {
   "cell_type": "code",
   "execution_count": null,
   "metadata": {},
   "outputs": [],
   "source": [
    "f1 = preprocess(f1, \"backward_180\", 0.8, 0.6)\n",
    "f2 = preprocess(f2, \"backward_180\", 1, 0.7)\n",
    "f3 = preprocess(f3, \"backward_180\", 1.3, 0.6)\n",
    "f4 = preprocess(f4, \"backward_180\", 1.2, 0.6)\n",
    "f5 = preprocess(f5, \"backward_180\", 1.1, 0.7)\n",
    "f6 = preprocess(f6, \"backward_180\", 1.3, 0.6)\n",
    "f7 = preprocess(f7, \"backward_180\", 1.2, 0.7)\n",
    "f8 = preprocess(f8, \"backward_180\", 1.2, 0.7)"
   ]
  },
  {
   "cell_type": "code",
   "execution_count": null,
   "metadata": {},
   "outputs": [],
   "source": [
    "forward_180_left_backwards_other_side_1 = [f1,f2, f3, f4, f5, f6, f7, f8]"
   ]
  },
  {
   "cell_type": "markdown",
   "metadata": {},
   "source": [
    "#### zonder tussenpauzes"
   ]
  },
  {
   "cell_type": "code",
   "execution_count": 70,
   "metadata": {},
   "outputs": [],
   "source": [
    "backward_180_left_lefta = pd.read_csv(\n",
    "    r\"C:\\Users\\Elise\\Documents\\unif\\master\\semester2\\masterproef\\gitProject\\thesis\\data\\forward_180\\proefpersoon1\\backward_180_left_left_tim1.csv\", \n",
    "    sep=';', header=0, skipinitialspace=True)\n"
   ]
  },
  {
   "cell_type": "code",
   "execution_count": 71,
   "metadata": {},
   "outputs": [],
   "source": [
    "backward_180_left_lefta = preprocess(backward_180_left_lefta, \"backward_180\", \"left_left\", 1)"
   ]
  },
  {
   "cell_type": "code",
   "execution_count": 72,
   "metadata": {},
   "outputs": [],
   "source": [
    "backward_180_left_left_1 = [backward_180_left_lefta]"
   ]
  },
  {
   "cell_type": "code",
   "execution_count": 73,
   "metadata": {},
   "outputs": [],
   "source": [
    "for df in backward_180_left_left_1:\n",
    "    f = sampling_freq(df)\n",
    "    freq += f"
   ]
  },
  {
   "cell_type": "markdown",
   "metadata": {},
   "source": [
    "#### backward_180_right_left"
   ]
  },
  {
   "cell_type": "markdown",
   "metadata": {},
   "source": [
    "#### tussenpauze"
   ]
  },
  {
   "cell_type": "code",
   "execution_count": null,
   "metadata": {},
   "outputs": [],
   "source": [
    "#7 SEGMENTEN\n",
    "forward_180_right_backwards_other1 = pd.read_csv(r\"C:\\Users\\Elise\\Documents\\unif\\master\\semester2\\masterproef\\gitProject\\thesis\\data\\forward_180\\proefpersoon1\\forward_180_right_backwards_other_side_tim1.csv\", sep=';', header=0, skipinitialspace=True)\n",
    "#1 SEGMENT\n",
    "forward_180_right_backwards_other2 = pd.read_csv(r\"C:\\Users\\Elise\\Documents\\unif\\master\\semester2\\masterproef\\gitProject\\thesis\\data\\forward_180\\proefpersoon1\\forward_180_right_backwards_other_side_tim2.csv\", sep=';', header=0, skipinitialspace=True)\n"
   ]
  },
  {
   "cell_type": "code",
   "execution_count": null,
   "metadata": {},
   "outputs": [],
   "source": [
    "f1 =  forward_180_right_backwards_other1[forward_180_right_backwards_other1[\"time\"] <= 31867200000000]\n",
    "f2 =  forward_180_right_backwards_other1[(forward_180_right_backwards_other1[\"time\"] >= 31867200000000) & (forward_180_right_backwards_other1[\"time\"] <= 31871500000000)]\n",
    "f3 =  forward_180_right_backwards_other1[(forward_180_right_backwards_other1[\"time\"] >= 31871500000000) & (forward_180_right_backwards_other1[\"time\"] <= 31875700000000)]\n",
    "f4 =  forward_180_right_backwards_other1[(forward_180_right_backwards_other1[\"time\"] >= 31875700000000) & (forward_180_right_backwards_other1[\"time\"] <= 31880400000000)]\n",
    "f5 =  forward_180_right_backwards_other1[(forward_180_right_backwards_other1[\"time\"] >= 31880400000000) & (forward_180_right_backwards_other1[\"time\"] <= 31885400000000)]\n",
    "f6 =  forward_180_right_backwards_other1[(forward_180_right_backwards_other1[\"time\"] >= 31885400000000) & (forward_180_right_backwards_other1[\"time\"] <= 31889600000000)]\n",
    "f7 =  forward_180_right_backwards_other1[forward_180_right_backwards_other1[\"time\"] >= 31889600000000]\n",
    "\n",
    "f8 =  forward_180_right_backwards_other2[forward_180_right_backwards_other2[\"time\"] <= 31918500000000]"
   ]
  },
  {
   "cell_type": "code",
   "execution_count": null,
   "metadata": {},
   "outputs": [],
   "source": [
    "f1 = preprocess(f1, \"backward_180\", 1.8, 0.4)\n",
    "f2 = preprocess(f2, \"backward_180\", 1.2, 0.4)\n",
    "f3 = preprocess(f3, \"backward_180\", 1.2, 0.6)\n",
    "f4 = preprocess(f4, \"backward_180\", 1.2, 0.6)\n",
    "f5 = preprocess(f5, \"backward_180\", 2, 0.6)\n",
    "f6 = preprocess(f6, \"backward_180\", 1.2, 0.6)\n",
    "f7 = preprocess(f7, \"backward_180\", 1.2, 4.8)\n",
    "f8 = preprocess(f8, \"backward_180\", 1.5, 0.5)"
   ]
  },
  {
   "cell_type": "code",
   "execution_count": null,
   "metadata": {},
   "outputs": [],
   "source": [
    "forward_180_right_backwards_other_side_1 = [f1,f2, f3, f4, f5, f6, f7, f8]"
   ]
  },
  {
   "cell_type": "markdown",
   "metadata": {},
   "source": [
    "#### zonder tussenpauzes"
   ]
  },
  {
   "cell_type": "code",
   "execution_count": 74,
   "metadata": {},
   "outputs": [],
   "source": [
    "backward_180_right_lefta = pd.read_csv(\n",
    "    r\"C:\\Users\\Elise\\Documents\\unif\\master\\semester2\\masterproef\\gitProject\\thesis\\data\\forward_180\\proefpersoon1\\backward_180_right_left_tim1.csv\", \n",
    "    sep=';', header=0, skipinitialspace=True)\n",
    "\n",
    "backward_180_right_leftb = pd.read_csv(\n",
    "    r\"C:\\Users\\Elise\\Documents\\unif\\master\\semester2\\masterproef\\gitProject\\thesis\\data\\forward_180\\proefpersoon1\\backward_180_right_left_tim2.csv\", \n",
    "    sep=';', header=0, skipinitialspace=True)"
   ]
  },
  {
   "cell_type": "code",
   "execution_count": 75,
   "metadata": {},
   "outputs": [],
   "source": [
    "backward_180_right_lefta = preprocess(backward_180_right_lefta, \"backward_180\", \"right_left\",1, 3, 4)\n",
    "backward_180_right_leftb = preprocess(backward_180_right_leftb, \"backward_180\", \"right_left\",1)"
   ]
  },
  {
   "cell_type": "code",
   "execution_count": 76,
   "metadata": {},
   "outputs": [],
   "source": [
    "backward_180_right_left_1 = [backward_180_right_lefta, backward_180_right_leftb]"
   ]
  },
  {
   "cell_type": "code",
   "execution_count": 77,
   "metadata": {},
   "outputs": [],
   "source": [
    "for df in backward_180_right_left_1:\n",
    "    f = sampling_freq(df)\n",
    "    freq += f"
   ]
  },
  {
   "cell_type": "markdown",
   "metadata": {},
   "source": [
    "### SEGMENTATION"
   ]
  },
  {
   "cell_type": "code",
   "execution_count": 78,
   "metadata": {},
   "outputs": [],
   "source": [
    "if( not raw):\n",
    "    #segmentation + feature extraction\n",
    "    for i in range(0, len(backward_180_left_right_1)):\n",
    "        backward_180_left_right_1[i] =  feature_extraction_segmentation(backward_180_left_right_1[i],1, True)\n",
    "\n",
    "    for i in range(0, len(backward_180_right_right_1)):\n",
    "        backward_180_right_right_1[i] =  feature_extraction_segmentation(backward_180_right_right_1[i],1, True)\n",
    "\n",
    "    for i in range(0, len(backward_180_left_left_1)):\n",
    "        backward_180_left_left_1[i] =  feature_extraction_segmentation(backward_180_left_left_1[i],1, True)\n",
    "    \n",
    "    for i in range(0, len(backward_180_right_left_1)):\n",
    "        backward_180_right_left_1[i] =  feature_extraction_segmentation(backward_180_right_left_1[i],1, True)"
   ]
  },
  {
   "cell_type": "code",
   "execution_count": 79,
   "metadata": {},
   "outputs": [
    {
     "data": {
      "text/plain": [
       "(2706, 7)"
      ]
     },
     "execution_count": 79,
     "metadata": {},
     "output_type": "execute_result"
    }
   ],
   "source": [
    "backward_180_left_right_1 = pd.concat(backward_180_left_right_1, ignore_index=True)\n",
    "backward_180_left_right_1.shape"
   ]
  },
  {
   "cell_type": "code",
   "execution_count": 80,
   "metadata": {},
   "outputs": [
    {
     "data": {
      "text/plain": [
       "(3226, 7)"
      ]
     },
     "execution_count": 80,
     "metadata": {},
     "output_type": "execute_result"
    }
   ],
   "source": [
    "backward_180_right_right_1 = pd.concat(backward_180_right_right_1, ignore_index=True)\n",
    "backward_180_right_right_1.shape"
   ]
  },
  {
   "cell_type": "code",
   "execution_count": 81,
   "metadata": {},
   "outputs": [
    {
     "data": {
      "text/plain": [
       "(3017, 7)"
      ]
     },
     "execution_count": 81,
     "metadata": {},
     "output_type": "execute_result"
    }
   ],
   "source": [
    "backward_180_left_left_1 = pd.concat(backward_180_left_left_1, ignore_index=True)\n",
    "backward_180_left_left_1.shape"
   ]
  },
  {
   "cell_type": "code",
   "execution_count": 82,
   "metadata": {},
   "outputs": [
    {
     "data": {
      "text/plain": [
       "(3865, 7)"
      ]
     },
     "execution_count": 82,
     "metadata": {},
     "output_type": "execute_result"
    }
   ],
   "source": [
    "backward_180_right_left_1 = pd.concat(backward_180_right_left_1, ignore_index=True)\n",
    "backward_180_right_left_1.shape"
   ]
  },
  {
   "cell_type": "markdown",
   "metadata": {},
   "source": [
    "### SHUFFLE - BALANCING"
   ]
  },
  {
   "cell_type": "code",
   "execution_count": 83,
   "metadata": {},
   "outputs": [
    {
     "data": {
      "text/plain": [
       "2706"
      ]
     },
     "execution_count": 83,
     "metadata": {},
     "output_type": "execute_result"
    }
   ],
   "source": [
    "shape = np.min([\n",
    "    backward_180_left_right_1.shape[0], \n",
    "    backward_180_right_right_1.shape[0], \n",
    "    backward_180_left_left_1.shape[0], \n",
    "    backward_180_right_left_1.shape[0]])\n",
    "shape"
   ]
  },
  {
   "cell_type": "markdown",
   "metadata": {},
   "source": [
    "#### shuffle"
   ]
  },
  {
   "cell_type": "code",
   "execution_count": 29,
   "metadata": {},
   "outputs": [],
   "source": [
    "backward_180_left_right_1 = shuffle(backward_180_left_right_1).head(shape).copy()\n",
    "backward_180_right_right_1 = shuffle(backward_180_right_right_1).head(shape).copy()\n",
    "backward_180_left_left_1 = shuffle(backward_180_left_left_1).head(shape).copy()\n",
    "backward_180_right_left_1 = shuffle(backward_180_right_left_1).head(shape).copy()"
   ]
  },
  {
   "cell_type": "markdown",
   "metadata": {},
   "source": [
    "#### no shuffle"
   ]
  },
  {
   "cell_type": "code",
   "execution_count": 84,
   "metadata": {},
   "outputs": [],
   "source": [
    "backward_180_left_right_1 = backward_180_left_right_1.head(shape).copy()\n",
    "backward_180_right_right_1 = backward_180_right_right_1.head(shape).copy()\n",
    "backward_180_left_left_1 = backward_180_left_left_1.head(shape).copy()\n",
    "backward_180_right_left_1 = backward_180_right_left_1.head(shape).copy()"
   ]
  },
  {
   "cell_type": "code",
   "execution_count": 85,
   "metadata": {},
   "outputs": [],
   "source": [
    "backward_180_1 = pd.concat([backward_180_left_right_1, backward_180_right_right_1, backward_180_left_left_1, backward_180_right_left_1])"
   ]
  },
  {
   "cell_type": "markdown",
   "metadata": {},
   "source": [
    "# <font color='green' >PROEFPERSOON 2"
   ]
  },
  {
   "cell_type": "markdown",
   "metadata": {},
   "source": [
    "## backward 180"
   ]
  },
  {
   "cell_type": "code",
   "execution_count": 86,
   "metadata": {},
   "outputs": [],
   "source": [
    "backward_180_left_right_2 = []\n",
    "backward_180_right_right_2= []\n",
    "backward_180_left_left_2 = []\n",
    "backward_180_right_left_2= []"
   ]
  },
  {
   "cell_type": "markdown",
   "metadata": {},
   "source": [
    "#### backward_180_left_right"
   ]
  },
  {
   "cell_type": "markdown",
   "metadata": {},
   "source": [
    "#### tussenpauze"
   ]
  },
  {
   "cell_type": "code",
   "execution_count": 290,
   "metadata": {},
   "outputs": [],
   "source": [
    "#7 SEGMENTEN\n",
    "forward_180_left_backwards1 = pd.read_csv(r\"C:\\Users\\Elise\\Documents\\unif\\master\\semester2\\masterproef\\gitProject\\thesis\\data\\forward_180\\proefpersoon2\\forward_180_left_backwards1.csv\", sep=';', header=0, skipinitialspace=True)\n",
    "\n",
    "#1 SEGMENT\n",
    "forward_180_left_backwards2 = pd.read_csv(r\"C:\\Users\\Elise\\Documents\\unif\\master\\semester2\\masterproef\\gitProject\\thesis\\data\\forward_180\\proefpersoon2\\forward_180_left_backwards2.csv\", sep=';', header=0, skipinitialspace=True)\n",
    "forward_180_left_backwards3 = pd.read_csv(r\"C:\\Users\\Elise\\Documents\\unif\\master\\semester2\\masterproef\\gitProject\\thesis\\data\\forward_180\\proefpersoon2\\forward_180_left_backwards3.csv\", sep=';', header=0, skipinitialspace=True)"
   ]
  },
  {
   "cell_type": "code",
   "execution_count": 292,
   "metadata": {},
   "outputs": [],
   "source": [
    "f1 =  forward_180_left_backwards1[(forward_180_left_backwards1[\"time\"] <= 11248600000000)]\n",
    "f2 =  forward_180_left_backwards1[(forward_180_left_backwards1[\"time\"] >= 11248600000000) & (forward_180_left_backwards1[\"time\"] <= 11253300000000)]\n",
    "f3 =  forward_180_left_backwards1[(forward_180_left_backwards1[\"time\"] >= 11253300000000) & (forward_180_left_backwards1[\"time\"] <= 11258300000000)]\n",
    "f4 =  forward_180_left_backwards1[(forward_180_left_backwards1[\"time\"] >= 11258300000000) & (forward_180_left_backwards1[\"time\"] <= 11263400000000)]\n",
    "f5 =  forward_180_left_backwards1[(forward_180_left_backwards1[\"time\"] >= 11263400000000) & (forward_180_left_backwards1[\"time\"] <= 11268300000000)]\n",
    "f6 =  forward_180_left_backwards1[(forward_180_left_backwards1[\"time\"] >= 11268300000000) & (forward_180_left_backwards1[\"time\"] <= 11273000000000)]\n",
    "f7 =  forward_180_left_backwards1[(forward_180_left_backwards1[\"time\"] >= 11273000000000)]\n",
    "\n",
    "f8 =  forward_180_left_backwards2[(forward_180_left_backwards2[\"time\"] <= 11287300000000)]"
   ]
  },
  {
   "cell_type": "code",
   "execution_count": 293,
   "metadata": {},
   "outputs": [],
   "source": [
    "f1 = preprocess(f1, \"backward_180\", 1, 0.7)\n",
    "f2 = preprocess(f2, \"backward_180\", 1, 1)\n",
    "f3 = preprocess(f3, \"backward_180\", 1.3, 0.9)\n",
    "f4 = preprocess(f4, \"backward_180\", 1.4, 0.9)\n",
    "f5 = preprocess(f5, \"backward_180\", 1.2, 1)\n",
    "f6 = preprocess(f6, \"backward_180\", 1.1, 1)\n",
    "f7 = preprocess(f7, \"backward_180\", 1.2, 2.4)\n",
    "f8 = preprocess(f8, \"backward_180\", 2, 1.1)"
   ]
  },
  {
   "cell_type": "code",
   "execution_count": 295,
   "metadata": {},
   "outputs": [],
   "source": [
    "forward_180_left_backwards_2 = [f1, f2, f3, f4, f5, f6, f7, f8]"
   ]
  },
  {
   "cell_type": "markdown",
   "metadata": {},
   "source": [
    "#### zonder tussenpauzes"
   ]
  },
  {
   "cell_type": "code",
   "execution_count": 87,
   "metadata": {},
   "outputs": [],
   "source": [
    "backward_180_left_right_2a = pd.read_csv(\n",
    "    r\"C:\\Users\\Elise\\Documents\\unif\\master\\semester2\\masterproef\\gitProject\\thesis\\data\\forward_180\\proefpersoon2\\backward_180_left_right.csv\", \n",
    "    sep=';', header=0, skipinitialspace=True)\n"
   ]
  },
  {
   "cell_type": "code",
   "execution_count": 88,
   "metadata": {},
   "outputs": [],
   "source": [
    "backward_180_left_right_2a = preprocess(backward_180_left_right_2a, \"backward_180\", \"left_right\", 2)"
   ]
  },
  {
   "cell_type": "code",
   "execution_count": 89,
   "metadata": {},
   "outputs": [],
   "source": [
    "backward_180_left_right_2 = [backward_180_left_right_2a]"
   ]
  },
  {
   "cell_type": "code",
   "execution_count": 90,
   "metadata": {},
   "outputs": [],
   "source": [
    "for df in backward_180_left_right_2:\n",
    "    f = sampling_freq(df)\n",
    "    freq += f"
   ]
  },
  {
   "cell_type": "markdown",
   "metadata": {},
   "source": [
    "#### zonder tussenpauzes, zonder springen"
   ]
  },
  {
   "cell_type": "code",
   "execution_count": 26,
   "metadata": {},
   "outputs": [],
   "source": [
    "backward_180_nospringa = pd.read_csv(\n",
    "    r\"C:\\Users\\Elise\\Documents\\unif\\master\\semester2\\masterproef\\gitProject\\thesis\\data\\forward_180\\proefpersoon2\\backward_180_left_right_nospring1.csv\", \n",
    "    sep=';', header=0, skipinitialspace=True)"
   ]
  },
  {
   "cell_type": "code",
   "execution_count": 27,
   "metadata": {},
   "outputs": [],
   "source": [
    "backward_180_nospringa = preprocess(backward_180_nospringa, \"backward_180\", \"left_right\",2, 0.8, 2.2)"
   ]
  },
  {
   "cell_type": "code",
   "execution_count": 36,
   "metadata": {},
   "outputs": [],
   "source": [
    "backward_180_left_right_1 = [backward_180_nospringa]"
   ]
  },
  {
   "cell_type": "code",
   "execution_count": 37,
   "metadata": {},
   "outputs": [],
   "source": [
    "for df in backward_180_left_right_1:\n",
    "    f = sampling_freq(df)\n",
    "    freq += f"
   ]
  },
  {
   "cell_type": "markdown",
   "metadata": {},
   "source": [
    "#### backward_180_right_right"
   ]
  },
  {
   "cell_type": "markdown",
   "metadata": {},
   "source": [
    "#### tussenpauzes"
   ]
  },
  {
   "cell_type": "code",
   "execution_count": 297,
   "metadata": {},
   "outputs": [],
   "source": [
    "#4SEGMENTEN\n",
    "forward_180_right_backwards2 = pd.read_csv(r\"C:\\Users\\Elise\\Documents\\unif\\master\\semester2\\masterproef\\gitProject\\thesis\\data\\forward_180\\proefpersoon2\\forward_180_right_backwards2.csv\", sep=';', header=0, skipinitialspace=True)\n",
    "#4 SEGMENTEN\n",
    "forward_180_right_backwards3 = pd.read_csv(r\"C:\\Users\\Elise\\Documents\\unif\\master\\semester2\\masterproef\\gitProject\\thesis\\data\\forward_180\\proefpersoon2\\forward_180_right_backwards3.csv\", sep=';', header=0, skipinitialspace=True)"
   ]
  },
  {
   "cell_type": "code",
   "execution_count": 299,
   "metadata": {},
   "outputs": [],
   "source": [
    "f1 =  forward_180_right_backwards2[(forward_180_right_backwards2[\"time\"] <= 11719400000000)]\n",
    "f2 =  forward_180_right_backwards2[(forward_180_right_backwards2[\"time\"] >= 11719400000000) & (forward_180_right_backwards2[\"time\"] <= 11723600000000)]\n",
    "f3 =  forward_180_right_backwards2[(forward_180_right_backwards2[\"time\"] >= 11723600000000) & (forward_180_right_backwards2[\"time\"] <= 11727900000000)]\n",
    "f4 =  forward_180_right_backwards2[(forward_180_right_backwards2[\"time\"] >= 11727900000000) ]\n",
    "\n",
    "f5 =  forward_180_right_backwards3[(forward_180_right_backwards3[\"time\"] >= 11736100000000) & (forward_180_right_backwards3[\"time\"] <= 11740600000000)]\n",
    "f6 =  forward_180_right_backwards3[(forward_180_right_backwards3[\"time\"] >= 11740600000000) & (forward_180_right_backwards3[\"time\"] <= 11744900000000)]\n",
    "f7 =  forward_180_right_backwards3[(forward_180_right_backwards3[\"time\"] >= 11744900000000) & (forward_180_right_backwards3[\"time\"] <= 11749400000000)]\n",
    "f8 =  forward_180_right_backwards3[(forward_180_right_backwards3[\"time\"] >= 11749400000000) & (forward_180_right_backwards3[\"time\"] <= 11754200000000)]"
   ]
  },
  {
   "cell_type": "code",
   "execution_count": 300,
   "metadata": {},
   "outputs": [],
   "source": [
    "f1 = preprocess(f1, \"backward_180\", 0.2, 0.7)\n",
    "f2 = preprocess(f2, \"backward_180\", 0.7, 1)\n",
    "f3 = preprocess(f3, \"backward_180\", 0.7, 1)\n",
    "f4 = preprocess(f4, \"backward_180\", 0.8, 1.3)\n",
    "f5 = preprocess(f5, \"backward_180\", 1, 1.1)\n",
    "f6 = preprocess(f6, \"backward_180\", 0.9, 0.8)\n",
    "f7 = preprocess(f7, \"backward_180\", 0.8, 1.1)\n",
    "f8 = preprocess(f8, \"backward_180\", 1.3, 1)"
   ]
  },
  {
   "cell_type": "code",
   "execution_count": 302,
   "metadata": {},
   "outputs": [],
   "source": [
    "forward_180_right_backwards_2 = [f1, f2, f3, f4, f5, f6, f7, f8]"
   ]
  },
  {
   "cell_type": "markdown",
   "metadata": {},
   "source": [
    "#### zonder tussenpauzes"
   ]
  },
  {
   "cell_type": "code",
   "execution_count": 91,
   "metadata": {},
   "outputs": [],
   "source": [
    "backward_180_right_right_2a = pd.read_csv(\n",
    "    r\"C:\\Users\\Elise\\Documents\\unif\\master\\semester2\\masterproef\\gitProject\\thesis\\data\\forward_180\\proefpersoon2\\backward_180_right_right1.csv\", \n",
    "    sep=';', header=0, skipinitialspace=True)\n"
   ]
  },
  {
   "cell_type": "code",
   "execution_count": 92,
   "metadata": {},
   "outputs": [],
   "source": [
    "backward_180_right_right_2a = preprocess(backward_180_right_right_2a, \"backward_180\", \"right_right\", 2)"
   ]
  },
  {
   "cell_type": "code",
   "execution_count": 93,
   "metadata": {},
   "outputs": [],
   "source": [
    "backward_180_right_right_2 = [backward_180_right_right_2a]"
   ]
  },
  {
   "cell_type": "code",
   "execution_count": 94,
   "metadata": {},
   "outputs": [],
   "source": [
    "for df in backward_180_right_right_2:\n",
    "    f = sampling_freq(df)\n",
    "    freq += f"
   ]
  },
  {
   "cell_type": "markdown",
   "metadata": {},
   "source": [
    "#### backward_180_left_left"
   ]
  },
  {
   "cell_type": "markdown",
   "metadata": {},
   "source": [
    "#### tussenpauzes"
   ]
  },
  {
   "cell_type": "code",
   "execution_count": 304,
   "metadata": {},
   "outputs": [],
   "source": [
    "#8 SEGMENTEN\n",
    "forward_180_left_otherside1 = pd.read_csv(r\"C:\\Users\\Elise\\Documents\\unif\\master\\semester2\\masterproef\\gitProject\\thesis\\data\\forward_180\\proefpersoon2\\forward_180_left_back_otherside1.csv\", sep=';', header=0, skipinitialspace=True)"
   ]
  },
  {
   "cell_type": "code",
   "execution_count": 306,
   "metadata": {},
   "outputs": [],
   "source": [
    "f1 =  forward_180_left_otherside1[(forward_180_left_otherside1[\"time\"] <= 20761300000000)]\n",
    "f2 =  forward_180_left_otherside1[(forward_180_left_otherside1[\"time\"] >= 20761300000000) & (forward_180_left_otherside1[\"time\"] <= 20766800000000)]\n",
    "f3 =  forward_180_left_otherside1[(forward_180_left_otherside1[\"time\"] >= 20766800000000) & (forward_180_left_otherside1[\"time\"] <= 20772100000000)]\n",
    "f4 =  forward_180_left_otherside1[(forward_180_left_otherside1[\"time\"] >= 20772100000000) & (forward_180_left_otherside1[\"time\"] <= 20777400000000)]\n",
    "f5 =  forward_180_left_otherside1[(forward_180_left_otherside1[\"time\"] >= 20777400000000) & (forward_180_left_otherside1[\"time\"] <= 20782700000000)]\n",
    "f6 =  forward_180_left_otherside1[(forward_180_left_otherside1[\"time\"] >= 20782700000000) & (forward_180_left_otherside1[\"time\"] <= 20787800000000)]\n",
    "f7 =  forward_180_left_otherside1[(forward_180_left_otherside1[\"time\"] >= 20787800000000) & (forward_180_left_otherside1[\"time\"] <= 20793100000000)]\n",
    "f8 =  forward_180_left_otherside1[(forward_180_left_otherside1[\"time\"] >= 20793100000000) & (forward_180_left_otherside1[\"time\"] <= 20798900000000)]"
   ]
  },
  {
   "cell_type": "code",
   "execution_count": 307,
   "metadata": {},
   "outputs": [],
   "source": [
    "f1 = preprocess(f1, \"backward_180\", 1.7, 1.1)\n",
    "f2 = preprocess(f2, \"backward_180\", 1.6, 1.7)\n",
    "f3 = preprocess(f3, \"backward_180\", 1.7, 1.1)\n",
    "f4 = preprocess(f4, \"backward_180\", 1.7, 1.1)\n",
    "f5 = preprocess(f5, \"backward_180\", 1.8, 1.2)\n",
    "f6 = preprocess(f6, \"backward_180\", 1.5, 1.3)\n",
    "f7 = preprocess(f7, \"backward_180\", 1.5, 1.3)\n",
    "f8 = preprocess(f8, \"backward_180\", 1.8, 1.5)"
   ]
  },
  {
   "cell_type": "code",
   "execution_count": 309,
   "metadata": {},
   "outputs": [],
   "source": [
    "forward_180_left_other_side_2 = [f1, f2, f3, f4, f5, f6, f7, f8]"
   ]
  },
  {
   "cell_type": "markdown",
   "metadata": {},
   "source": [
    "#### zonder tussenpauzes"
   ]
  },
  {
   "cell_type": "code",
   "execution_count": 95,
   "metadata": {},
   "outputs": [],
   "source": [
    "backward_180_left_left_2a = pd.read_csv(\n",
    "    r\"C:\\Users\\Elise\\Documents\\unif\\master\\semester2\\masterproef\\gitProject\\thesis\\data\\forward_180\\proefpersoon2\\backward_180_left_left.csv\", \n",
    "    sep=';', header=0, skipinitialspace=True)\n"
   ]
  },
  {
   "cell_type": "code",
   "execution_count": 96,
   "metadata": {},
   "outputs": [],
   "source": [
    "backward_180_left_left_2a = preprocess(backward_180_left_left_2a, \"backward_180\", \"left_left\", 2)"
   ]
  },
  {
   "cell_type": "code",
   "execution_count": 97,
   "metadata": {},
   "outputs": [],
   "source": [
    "backward_180_left_left_2 = [backward_180_left_left_2a]"
   ]
  },
  {
   "cell_type": "code",
   "execution_count": 98,
   "metadata": {},
   "outputs": [],
   "source": [
    "for df in backward_180_left_left_2:\n",
    "    f = sampling_freq(df)\n",
    "    freq += f"
   ]
  },
  {
   "cell_type": "markdown",
   "metadata": {},
   "source": [
    "#### backward_180_right_left_2"
   ]
  },
  {
   "cell_type": "markdown",
   "metadata": {},
   "source": [
    "#### tussenpauzes"
   ]
  },
  {
   "cell_type": "code",
   "execution_count": 311,
   "metadata": {},
   "outputs": [],
   "source": [
    "forward_180_right_otherside1 = pd.read_csv(r\"C:\\Users\\Elise\\Documents\\unif\\master\\semester2\\masterproef\\gitProject\\thesis\\data\\forward_180\\proefpersoon2\\forward_180_right_backwards_otherside.csv\", sep=';', header=0, skipinitialspace=True)"
   ]
  },
  {
   "cell_type": "code",
   "execution_count": 313,
   "metadata": {},
   "outputs": [],
   "source": [
    "f1 =  forward_180_right_otherside1[(forward_180_right_otherside1[\"time\"] <= 21087100000000)]\n",
    "f2 =  forward_180_right_otherside1[(forward_180_right_otherside1[\"time\"] >= 21087100000000) & (forward_180_right_otherside1[\"time\"] <= 21091500000000)]\n",
    "f3 =  forward_180_right_otherside1[(forward_180_right_otherside1[\"time\"] >= 21091500000000) & (forward_180_right_otherside1[\"time\"] <= 21095700000000)]\n",
    "f4 =  forward_180_right_otherside1[(forward_180_right_otherside1[\"time\"] >= 21095700000000) & (forward_180_right_otherside1[\"time\"] <= 21100000000000)]\n",
    "f5 =  forward_180_right_otherside1[(forward_180_right_otherside1[\"time\"] >= 21100000000000) & (forward_180_right_otherside1[\"time\"] <= 21104500000000)]\n",
    "f6 =  forward_180_right_otherside1[(forward_180_right_otherside1[\"time\"] >= 21104500000000) & (forward_180_right_otherside1[\"time\"] <= 21109700000000)]\n",
    "f7 =  forward_180_right_otherside1[(forward_180_right_otherside1[\"time\"] >= 21109700000000) & (forward_180_right_otherside1[\"time\"] <= 21115000000000)]\n",
    "f8 =  forward_180_right_otherside1[(forward_180_right_otherside1[\"time\"] >= 21115000000000) & (forward_180_right_otherside1[\"time\"] <= 21119800000000)]"
   ]
  },
  {
   "cell_type": "code",
   "execution_count": 314,
   "metadata": {},
   "outputs": [],
   "source": [
    "f1 = preprocess(f1, \"backward_180\", 1.3, 0.5)\n",
    "f2 = preprocess(f2, \"backward_180\", 1, 0.7)\n",
    "f3 = preprocess(f3, \"backward_180\", 0.8, 0.7)\n",
    "f4 = preprocess(f4, \"backward_180\", 0.9, 0.7)\n",
    "f5 = preprocess(f5, \"backward_180\", 1, 0.7)\n",
    "f6 = preprocess(f6, \"backward_180\", 0.9, 1.6)\n",
    "f7 = preprocess(f7, \"backward_180\", 1.7, 0.8)\n",
    "f8 = preprocess(f8, \"backward_180\", 1, 0.8)"
   ]
  },
  {
   "cell_type": "code",
   "execution_count": 316,
   "metadata": {},
   "outputs": [],
   "source": [
    "forward_180_right_other_side_2 = [f1, f2, f3, f4, f5, f6, f7, f8]"
   ]
  },
  {
   "cell_type": "markdown",
   "metadata": {},
   "source": [
    "#### zonder tussenpauzes"
   ]
  },
  {
   "cell_type": "code",
   "execution_count": 99,
   "metadata": {},
   "outputs": [],
   "source": [
    "backward_180_right_left_2a = pd.read_csv(\n",
    "    r\"C:\\Users\\Elise\\Documents\\unif\\master\\semester2\\masterproef\\gitProject\\thesis\\data\\forward_180\\proefpersoon2\\backward_180_right_left1.csv\", \n",
    "    sep=';', header=0, skipinitialspace=True)\n"
   ]
  },
  {
   "cell_type": "code",
   "execution_count": 100,
   "metadata": {},
   "outputs": [],
   "source": [
    "backward_180_right_left_2a = preprocess(backward_180_right_left_2a, \"backward_180\", \"right_left\", 2)"
   ]
  },
  {
   "cell_type": "code",
   "execution_count": 101,
   "metadata": {},
   "outputs": [],
   "source": [
    "backward_180_right_left_2 = [backward_180_right_left_2a]"
   ]
  },
  {
   "cell_type": "code",
   "execution_count": 102,
   "metadata": {},
   "outputs": [],
   "source": [
    "for df in backward_180_right_left_2:\n",
    "    f = sampling_freq(df)\n",
    "    freq += f"
   ]
  },
  {
   "cell_type": "markdown",
   "metadata": {},
   "source": [
    "### SEGMENTATION"
   ]
  },
  {
   "cell_type": "code",
   "execution_count": 103,
   "metadata": {},
   "outputs": [],
   "source": [
    "if( not raw):\n",
    "    #segmentation + feature extraction\n",
    "    for i in range(0, len(backward_180_left_right_2)):\n",
    "        backward_180_left_right_2[i] =  feature_extraction_segmentation(backward_180_left_right_2[i],1, True)\n",
    "\n",
    "    for i in range(0, len(backward_180_right_right_2)):\n",
    "        backward_180_right_right_2[i] =  feature_extraction_segmentation(backward_180_right_right_2[i],1, True)\n",
    "\n",
    "    for i in range(0, len(backward_180_left_left_2)):\n",
    "        backward_180_left_left_2[i] =  feature_extraction_segmentation(backward_180_left_left_2[i],1, True)\n",
    "    \n",
    "    for i in range(0, len(backward_180_right_left_2)):\n",
    "        backward_180_right_left_2[i] =  feature_extraction_segmentation(backward_180_right_left_2[i],1, True)"
   ]
  },
  {
   "cell_type": "code",
   "execution_count": 104,
   "metadata": {},
   "outputs": [
    {
     "data": {
      "text/plain": [
       "(2840, 7)"
      ]
     },
     "execution_count": 104,
     "metadata": {},
     "output_type": "execute_result"
    }
   ],
   "source": [
    "backward_180_left_right_2 = pd.concat(backward_180_left_right_2, ignore_index=True)\n",
    "backward_180_left_right_2.shape"
   ]
  },
  {
   "cell_type": "code",
   "execution_count": 105,
   "metadata": {},
   "outputs": [
    {
     "data": {
      "text/plain": [
       "(3823, 7)"
      ]
     },
     "execution_count": 105,
     "metadata": {},
     "output_type": "execute_result"
    }
   ],
   "source": [
    "backward_180_right_right_2 = pd.concat(backward_180_right_right_2, ignore_index=True)\n",
    "backward_180_right_right_2.shape"
   ]
  },
  {
   "cell_type": "code",
   "execution_count": 106,
   "metadata": {},
   "outputs": [
    {
     "data": {
      "text/plain": [
       "(3036, 7)"
      ]
     },
     "execution_count": 106,
     "metadata": {},
     "output_type": "execute_result"
    }
   ],
   "source": [
    "backward_180_left_left_2 = pd.concat(backward_180_left_left_2, ignore_index=True)\n",
    "backward_180_left_left_2.shape"
   ]
  },
  {
   "cell_type": "code",
   "execution_count": 107,
   "metadata": {},
   "outputs": [
    {
     "data": {
      "text/plain": [
       "(4437, 7)"
      ]
     },
     "execution_count": 107,
     "metadata": {},
     "output_type": "execute_result"
    }
   ],
   "source": [
    "backward_180_right_left_2 = pd.concat(backward_180_right_left_2, ignore_index=True)\n",
    "backward_180_right_left_2.shape"
   ]
  },
  {
   "cell_type": "markdown",
   "metadata": {},
   "source": [
    "### SHUFFLE - BALANCING"
   ]
  },
  {
   "cell_type": "code",
   "execution_count": 108,
   "metadata": {},
   "outputs": [],
   "source": [
    "shape = np.min([\n",
    "    backward_180_left_right_2.shape[0], \n",
    "    backward_180_right_right_2.shape[0], \n",
    "    backward_180_left_left_2.shape[0], \n",
    "    backward_180_right_left_2.shape[0]])"
   ]
  },
  {
   "cell_type": "markdown",
   "metadata": {},
   "source": [
    "#### shuffle"
   ]
  },
  {
   "cell_type": "code",
   "execution_count": 53,
   "metadata": {},
   "outputs": [],
   "source": [
    "backward_180_left_right_2 = shuffle(backward_180_left_right_2).head(shape).copy()\n",
    "backward_180_right_right_2 = shuffle(backward_180_right_right_2).head(shape).copy()\n",
    "backward_180_left_left_2 = shuffle(backward_180_left_left_2).head(shape).copy()\n",
    "backward_180_right_left_2 = shuffle(backward_180_right_left_2).head(shape).copy()"
   ]
  },
  {
   "cell_type": "markdown",
   "metadata": {},
   "source": [
    "#### no shuffle"
   ]
  },
  {
   "cell_type": "code",
   "execution_count": 109,
   "metadata": {},
   "outputs": [],
   "source": [
    "backward_180_left_right_2 = backward_180_left_right_2.head(shape).copy()\n",
    "backward_180_right_right_2 = backward_180_right_right_2.head(shape).copy()\n",
    "backward_180_left_left_2 = backward_180_left_left_2.head(shape).copy()\n",
    "backward_180_right_left_2 = backward_180_right_left_2.head(shape).copy()"
   ]
  },
  {
   "cell_type": "code",
   "execution_count": 110,
   "metadata": {},
   "outputs": [],
   "source": [
    "backward_180_2 = pd.concat([\n",
    "    backward_180_left_right_2, \n",
    "    backward_180_right_right_2, \n",
    "    backward_180_left_left_2, \n",
    "    backward_180_right_left_2])"
   ]
  },
  {
   "cell_type": "markdown",
   "metadata": {},
   "source": [
    "# <font color='green'> Frequency"
   ]
  },
  {
   "cell_type": "code",
   "execution_count": 55,
   "metadata": {},
   "outputs": [
    {
     "data": {
      "text/plain": [
       "8.09065359749383"
      ]
     },
     "execution_count": 55,
     "metadata": {},
     "output_type": "execute_result"
    }
   ],
   "source": [
    "#mean\n",
    "freq = freq/64\n",
    "freq"
   ]
  },
  {
   "cell_type": "markdown",
   "metadata": {},
   "source": [
    "# <font color='green'> Merging datasets"
   ]
  },
  {
   "cell_type": "code",
   "execution_count": 111,
   "metadata": {},
   "outputs": [],
   "source": [
    "shape = np.min([\n",
    "    backward_180_1.shape[0],\n",
    "    backward_180_2.shape[0]\n",
    "])"
   ]
  },
  {
   "cell_type": "markdown",
   "metadata": {},
   "source": [
    "#### shuffle"
   ]
  },
  {
   "cell_type": "code",
   "execution_count": 56,
   "metadata": {},
   "outputs": [
    {
     "data": {
      "text/plain": [
       "(832, 22)"
      ]
     },
     "execution_count": 56,
     "metadata": {},
     "output_type": "execute_result"
    }
   ],
   "source": [
    "dataset = pd.concat([\n",
    "    shuffle(backward_180_1).head(shape),\n",
    "    shuffle(backward_180_2).head(shape)\n",
    "])\n",
    "dataset.shape"
   ]
  },
  {
   "cell_type": "markdown",
   "metadata": {},
   "source": [
    "#### no shuffle"
   ]
  },
  {
   "cell_type": "code",
   "execution_count": 112,
   "metadata": {},
   "outputs": [
    {
     "data": {
      "text/plain": [
       "(21648, 7)"
      ]
     },
     "execution_count": 112,
     "metadata": {},
     "output_type": "execute_result"
    }
   ],
   "source": [
    "dataset = pd.concat([\n",
    "    backward_180_1.head(shape),\n",
    "    backward_180_2.head(shape)\n",
    "])\n",
    "dataset.shape"
   ]
  },
  {
   "cell_type": "code",
   "execution_count": 113,
   "metadata": {},
   "outputs": [],
   "source": [
    "dataset.to_csv(\"backward_180_zonder_pauze_raw.csv\", sep=';')"
   ]
  },
  {
   "cell_type": "code",
   "execution_count": null,
   "metadata": {},
   "outputs": [],
   "source": []
  }
 ],
 "metadata": {
  "kernelspec": {
   "display_name": "Python 3",
   "language": "python",
   "name": "python3"
  },
  "language_info": {
   "codemirror_mode": {
    "name": "ipython",
    "version": 3
   },
   "file_extension": ".py",
   "mimetype": "text/x-python",
   "name": "python",
   "nbconvert_exporter": "python",
   "pygments_lexer": "ipython3",
   "version": "3.7.4"
  }
 },
 "nbformat": 4,
 "nbformat_minor": 2
}
