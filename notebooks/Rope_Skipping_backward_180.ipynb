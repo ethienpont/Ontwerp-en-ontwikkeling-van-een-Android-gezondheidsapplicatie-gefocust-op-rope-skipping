{
 "cells": [
  {
   "cell_type": "markdown",
   "metadata": {},
   "source": [
    "In this notebook al the data of backward 180 is read and processed. This includes every variation in measuring the movement. The shuffeling of the dataset was not done for constructing the CNN datasets."
   ]
  },
  {
   "cell_type": "code",
   "execution_count": 2,
   "metadata": {},
   "outputs": [],
   "source": [
    "%matplotlib notebook\n",
    "import pandas as pd\n",
    "import numpy as np\n",
    "import math\n",
    "import statistics\n",
    "from datetime import datetime\n",
    "from sklearn.model_selection import train_test_split\n",
    "from sklearn import preprocessing\n",
    "from sklearn.ensemble import RandomForestClassifier, ExtraTreesClassifier, AdaBoostClassifier\n",
    "from sklearn.model_selection import GridSearchCV\n",
    "from sklearn.linear_model import SGDClassifier\n",
    "from sklearn.naive_bayes import GaussianNB, MultinomialNB\n",
    "from sklearn.neighbors import KNeighborsClassifier\n",
    "from sklearn.svm import SVC, LinearSVC\n",
    "from sklearn import svm\n",
    "from sklearn.neural_network import MLPClassifier\n",
    "from sklearn.metrics import confusion_matrix, classification_report\n",
    "from sklearn.preprocessing import StandardScaler, LabelEncoder, normalize\n",
    "import matplotlib.pyplot as plt\n",
    "import seaborn as sn\n",
    "import matplotlib\n",
    "import warnings\n",
    "from scipy.signal import savgol_filter, find_peaks, correlate\n",
    "from sklearn.decomposition import PCA\n",
    "import scipy.fftpack as FFT\n",
    "from sklearn.utils import shuffle\n",
    "import joblib\n",
    "warnings.filterwarnings('ignore')\n",
    "matplotlib.rcParams['figure.figsize'] = [12,5]"
   ]
  },
  {
   "cell_type": "markdown",
   "metadata": {},
   "source": [
    "## help functions"
   ]
  },
  {
   "cell_type": "code",
   "execution_count": 3,
   "metadata": {},
   "outputs": [],
   "source": [
    "def sampling_freq(df):\n",
    "    start = df['time'].iloc[0]\n",
    "    sum_samples = 0\n",
    "    index = 0\n",
    "    while  (start + pd.to_timedelta(1, unit='s')) < df['time'].iloc[-1]:\n",
    "        end =  start + pd.to_timedelta(1, unit='s')\n",
    "        sum_samples += df[(df['time'] >= start) & (df['time'] < end)].shape[0]\n",
    "        start += pd.to_timedelta(1, unit='s')\n",
    "        index += 1\n",
    "    return sum_samples/index\n",
    "\n",
    "def convert_to_float(x):\n",
    "    try:\n",
    "        return np.float(x)\n",
    "    except:\n",
    "        return np.nan\n",
    "\n",
    "def convert_to_datetime(x):\n",
    "    dt = datetime.fromtimestamp(x // 1000000000)\n",
    "    s = dt.strftime('%Y-%m-%d %H:%M:%S')\n",
    "    s += '.' + str(int(x % 1000000000)).zfill(9)\n",
    "    return s\n",
    "\n",
    "def heatmap(cm, labels):\n",
    "    df_cm = pd.DataFrame(cm, index=labels, columns=labels)\n",
    "    plt.figure(figsize = (10,7))\n",
    "    sn.heatmap(df_cm, annot=True)\n",
    "\n",
    "    plt.show()\n",
    "    \n",
    "def preprocess(data, activity, type_, p, drop_interval_begin = 3, drop_interval_end = 3):\n",
    "    #convert nanoseconds to date \n",
    "    data['time'] = data['time'].apply(convert_to_datetime) \n",
    "    data['time'] = pd.to_datetime(data['time'])\n",
    "\n",
    "#convert to same data type\n",
    "    for i in range(1, 4): \n",
    "        data[column_names_org[i]] = data[column_names_org[i]].apply(convert_to_float)\n",
    "    \n",
    "#drop rows with NaN values \n",
    "    data.dropna(axis=0, how='any', inplace=True) #TODO: invullen met mean, mod of median / interpolatie\n",
    "\n",
    "#drop duplicates \n",
    "    data.drop_duplicates(subset=None, keep='first', inplace = True)\n",
    "    \n",
    "    #drop first and last 3 sec\n",
    "    indexFirst = data[ (data['time'].iloc[0]+ pd.to_timedelta(drop_interval_begin, unit='s')) > data['time'] ].index\n",
    "    data.drop(indexFirst , inplace=True)\n",
    "    indexLast = data[ (data['time'].iloc[-1]- pd.to_timedelta(drop_interval_end, unit='s')) < data['time'] ].index\n",
    "    data.drop(indexLast , inplace=True)\n",
    "    \n",
    "    #add activity label\n",
    "    data['activity'] = activity\n",
    "    data['type'] = type_\n",
    "    data['proefpersoon'] = p\n",
    "    \n",
    "    return data\n",
    "\n",
    "#feature extraction\n",
    "def get_mean_window(df):\n",
    "    return df.mean()\n",
    "\n",
    "def get_min_window(df):\n",
    "    return df.min()\n",
    "\n",
    "def get_max_window(df):\n",
    "    return df.max()\n",
    "\n",
    "def get_std_window(df):\n",
    "    return df.std()\n",
    "\n",
    "def get_med_window(df):\n",
    "    return df.median()\n",
    "\n",
    "#measure of activity level (m/s²)\n",
    "def get_signal_magnitude_area(df):\n",
    "        sum = 0\n",
    "        for i in range(0, len(df)):\n",
    "            sum += (abs(df['x'].iloc[i]) + abs(df['y'].iloc[i]) + abs(df['z'].iloc[i]))\n",
    "        return sum /len(df)\n",
    "    \n",
    "#degree of movement intensity (m/s²)\n",
    "def get_signal_magnitude_vector(df):\n",
    "    sum = 0\n",
    "    for i in range(0, len(df)):\n",
    "        sum += math.sqrt(df['x'].iloc[i] * df['x'].iloc[i] + df['y'].iloc[i] * df['y'].iloc[i] + df['z'].iloc[i] * df['z'].iloc[i])\n",
    "    return sum\n",
    "\n",
    "#average angle (radian) between accelerometer vector and x as (parallel with arm)\n",
    "def get_tilt_angle(df):\n",
    "    df_cos = pd.DataFrame(columns=[\"tilt_ang\"])\n",
    "    df_dot = df['x']\n",
    "    for i in range(0, len(df)):\n",
    "        s = pd.Series({\"tilt_ang\" : (df_dot.iloc[i])/(math.sqrt(df['x'].iloc[i]*df['x'].iloc[i] + df['y'].iloc[i]*df['y'].iloc[i] + df['z'].iloc[i]*df['z'].iloc[i]))})\n",
    "        df_cos=df_cos.append(s, ignore_index=True)\n",
    "    df_angle = np.arccos(df_cos)\n",
    "    return df_angle.mean()['tilt_ang']\n",
    "\n",
    "def get_power_spectral_density(df):\n",
    "    df_psd = np.abs(df)**2\n",
    "    return df_psd.sum()\n",
    "\n",
    "#generate windows with 50% overlap\n",
    "def windows(df, time, overlap):\n",
    "    start = df.iloc[0]\n",
    "    while  (start + pd.to_timedelta(time, unit='s')) < df.iloc[-1]:\n",
    "        yield start, (start + pd.to_timedelta(time, unit='s'))\n",
    "        if overlap:\n",
    "            start += pd.to_timedelta(time/2, unit='s')\n",
    "        else:\n",
    "            start += pd.to_timedelta(time, unit='s')\n",
    "    #last samples \n",
    "    yield (df.iloc[-1] - pd.to_timedelta(time, unit='s')), df.iloc[-1]\n",
    "        \n",
    "def feature_extraction_segmentation(data, window, overlap):\n",
    "    column_names = [\"x_mean\", \"y_mean\", \"z_mean\", \"x_min\", \"y_min\", \"z_min\", \"x_max\", \"y_max\", \"z_max\",\n",
    "                \"x_std\", \"y_std\", \"z_std\", \"x_med\", \"y_med\", \"z_med\", \"activity\"]\n",
    "    df = pd.DataFrame(columns = column_names)\n",
    "\n",
    "    for (start, end) in windows(data['time'], window, overlap):\n",
    "        vw1 = data['time'] >= start\n",
    "        vw2 = data['time'] < end\n",
    "        mean = get_mean_window(data[vw1 & vw2])\n",
    "        min = get_min_window(data[vw1 & vw2])\n",
    "        max = get_max_window(data[vw1 & vw2])\n",
    "        std = get_std_window(data[vw1 & vw2])\n",
    "        med = get_med_window(data[vw1 & vw2])\n",
    "        sma = get_signal_magnitude_area(data[vw1 & vw2])\n",
    "        smv = get_signal_magnitude_vector(data[vw1 & vw2])\n",
    "        tilt = get_tilt_angle(data[vw1 & vw2])\n",
    "        #fourrier transform\n",
    "        t_x = data[vw1 & vw2][['time','x']].set_index('time')\n",
    "        t_y = data[vw1 & vw2][['time','y']].set_index('time')\n",
    "        t_z = data[vw1 & vw2][['time', 'z']].set_index('time')\n",
    "\n",
    "        df_f = pd.DataFrame(columns=['f', 'x_f', 'y_f', 'z_f'])\n",
    "\n",
    "        sampling_rate = 52\n",
    "\n",
    "        df_f['x_f'] = FFT.fft(t_x).ravel()\n",
    "        df_f['y_f'] = FFT.fft(t_y).ravel()\n",
    "        df_f['z_f'] = FFT.fft(t_z).ravel()\n",
    "        df_f['f'] = FFT.fftfreq(len(df_f['x_f'])) * sampling_rate\n",
    "\n",
    "        psd = get_power_spectral_density(df_f)\n",
    "\n",
    "        df = df.append(pd.Series({'x_mean': mean['x'], 'y_mean': mean['y'], 'z_mean': mean['z'], \"x_min\" : min['x'],\n",
    "                              \"y_min\" : min['y'], \"z_min\" : min['z'], \"x_max\" : max['x'], \"y_max\" : max['y'], \"z_max\" : max['z'],\n",
    "                              \"x_std\" : std['x'], \"y_std\" : std['y'], \"z_std\" : std['z'], \"x_med\" : med['x'], \"y_med\" : med['y'], \"z_med\" : med['z'],\n",
    "                              \"sma\" : sma, \"smv\" : smv, \"tilt\" : tilt, \"x_psd\" : psd['x_f'], \"y_psd\" : psd['y_f'], \"z_psd\" : psd['z_f']\n",
    "                              , \"activity\" : data['activity'].iloc[0]}), ignore_index=True) # \"x_entropy\" : entropy[0], \"y_entropy\" : entropy[1], \"z_entropy\" : entropy[2],\n",
    "    return df\n",
    "\n",
    "\n",
    "column_names_org = ['time', 'x', 'y', 'z']"
   ]
  },
  {
   "cell_type": "code",
   "execution_count": 4,
   "metadata": {},
   "outputs": [],
   "source": [
    "raw = True\n",
    "freq = 0"
   ]
  },
  {
   "cell_type": "markdown",
   "metadata": {},
   "source": [
    "# <font color='green' >PROEFPERSOON 1"
   ]
  },
  {
   "cell_type": "markdown",
   "metadata": {},
   "source": [
    "## backward 180"
   ]
  },
  {
   "cell_type": "code",
   "execution_count": 5,
   "metadata": {},
   "outputs": [],
   "source": [
    "backward_180_left_right_1 = []\n",
    "backward_180_right_right_1= []\n",
    "backward_180_left_left_1 = []\n",
    "backward_180_right_left_1= []"
   ]
  },
  {
   "cell_type": "markdown",
   "metadata": {},
   "source": [
    "#### backward_180_left_right"
   ]
  },
  {
   "cell_type": "markdown",
   "metadata": {},
   "source": [
    "#### tussenpauzes"
   ]
  },
  {
   "cell_type": "code",
   "execution_count": 7,
   "metadata": {},
   "outputs": [],
   "source": [
    "#8 SEGMENTEN\n",
    "forward_180_left_backwards1 = pd.read_csv(r\"..\\data\\forward_180\\proefpersoon1\\tussenpauzes\\forward_180_left_backwards_tim1.csv\", sep=';', header=0, skipinitialspace=True)"
   ]
  },
  {
   "cell_type": "code",
   "execution_count": null,
   "metadata": {},
   "outputs": [],
   "source": [
    "f1 =  forward_180_left_backwards1[forward_180_left_backwards1[\"time\"] <= 31979000000000]\n",
    "f2 =  forward_180_left_backwards1[(forward_180_left_backwards1[\"time\"] >= 31979000000000) & (forward_180_left_backwards1[\"time\"] <= 31983000000000)]\n",
    "f3 =  forward_180_left_backwards1[(forward_180_left_backwards1[\"time\"] >= 31983000000000) & (forward_180_left_backwards1[\"time\"] <= 31987500000000)]\n",
    "f4 =  forward_180_left_backwards1[(forward_180_left_backwards1[\"time\"] >= 31987500000000) & (forward_180_left_backwards1[\"time\"] <= 31991800000000)]\n",
    "f5 =  forward_180_left_backwards1[(forward_180_left_backwards1[\"time\"] >= 31991800000000) & (forward_180_left_backwards1[\"time\"] <= 31995800000000)]\n",
    "f6 =  forward_180_left_backwards1[(forward_180_left_backwards1[\"time\"] >= 31995800000000) & (forward_180_left_backwards1[\"time\"] <= 31999900000000)]\n",
    "f7 =  forward_180_left_backwards1[(forward_180_left_backwards1[\"time\"] >= 31999900000000) & (forward_180_left_backwards1[\"time\"] <= 32004400000000)]\n",
    "f8 =  forward_180_left_backwards1[(forward_180_left_backwards1[\"time\"] >= 32004400000000) & (forward_180_left_backwards1[\"time\"] <= 32009000000000)]"
   ]
  },
  {
   "cell_type": "code",
   "execution_count": null,
   "metadata": {},
   "outputs": [],
   "source": [
    "f1 = preprocess(f1, \"backward_180\", 1.2, 0.8)\n",
    "f2 = preprocess(f2, \"backward_180\", 0.9, 0.5)\n",
    "f3 = preprocess(f3, \"backward_180\", 1, 1)\n",
    "f4 = preprocess(f4, \"backward_180\", 0.8, 0.9)\n",
    "f5 = preprocess(f5, \"backward_180\", 0.8, 0.9)\n",
    "f6 = preprocess(f6, \"backward_180\", 0.8, 0.8)\n",
    "f7 = preprocess(f7, \"backward_180\", 1.1, 0.9)\n",
    "f8 = preprocess(f8, \"backward_180\", 1.1, 0.9)"
   ]
  },
  {
   "cell_type": "code",
   "execution_count": null,
   "metadata": {},
   "outputs": [],
   "source": [
    "forward_180_left_backwards_1 = [f1,f2, f3, f4, f5, f6, f7, f8]"
   ]
  },
  {
   "cell_type": "markdown",
   "metadata": {},
   "source": [
    "#### zonder tussenpauzes"
   ]
  },
  {
   "cell_type": "code",
   "execution_count": 4,
   "metadata": {},
   "outputs": [],
   "source": [
    "backward_180a = pd.read_csv(\n",
    "    r\"..\\data\\forward_180\\proefpersoon1\\backward_180_left_right_tim1.csv\", \n",
    "    sep=';', header=0, skipinitialspace=True)"
   ]
  },
  {
   "cell_type": "code",
   "execution_count": 5,
   "metadata": {},
   "outputs": [],
   "source": [
    "backward_180a = preprocess(backward_180a, \"backward_180\", \"left_right\",1, 0.8, 1.8)"
   ]
  },
  {
   "cell_type": "code",
   "execution_count": 6,
   "metadata": {},
   "outputs": [
    {
     "data": {
      "application/javascript": [
       "/* Put everything inside the global mpl namespace */\n",
       "window.mpl = {};\n",
       "\n",
       "\n",
       "mpl.get_websocket_type = function() {\n",
       "    if (typeof(WebSocket) !== 'undefined') {\n",
       "        return WebSocket;\n",
       "    } else if (typeof(MozWebSocket) !== 'undefined') {\n",
       "        return MozWebSocket;\n",
       "    } else {\n",
       "        alert('Your browser does not have WebSocket support. ' +\n",
       "              'Please try Chrome, Safari or Firefox ≥ 6. ' +\n",
       "              'Firefox 4 and 5 are also supported but you ' +\n",
       "              'have to enable WebSockets in about:config.');\n",
       "    };\n",
       "}\n",
       "\n",
       "mpl.figure = function(figure_id, websocket, ondownload, parent_element) {\n",
       "    this.id = figure_id;\n",
       "\n",
       "    this.ws = websocket;\n",
       "\n",
       "    this.supports_binary = (this.ws.binaryType != undefined);\n",
       "\n",
       "    if (!this.supports_binary) {\n",
       "        var warnings = document.getElementById(\"mpl-warnings\");\n",
       "        if (warnings) {\n",
       "            warnings.style.display = 'block';\n",
       "            warnings.textContent = (\n",
       "                \"This browser does not support binary websocket messages. \" +\n",
       "                    \"Performance may be slow.\");\n",
       "        }\n",
       "    }\n",
       "\n",
       "    this.imageObj = new Image();\n",
       "\n",
       "    this.context = undefined;\n",
       "    this.message = undefined;\n",
       "    this.canvas = undefined;\n",
       "    this.rubberband_canvas = undefined;\n",
       "    this.rubberband_context = undefined;\n",
       "    this.format_dropdown = undefined;\n",
       "\n",
       "    this.image_mode = 'full';\n",
       "\n",
       "    this.root = $('<div/>');\n",
       "    this._root_extra_style(this.root)\n",
       "    this.root.attr('style', 'display: inline-block');\n",
       "\n",
       "    $(parent_element).append(this.root);\n",
       "\n",
       "    this._init_header(this);\n",
       "    this._init_canvas(this);\n",
       "    this._init_toolbar(this);\n",
       "\n",
       "    var fig = this;\n",
       "\n",
       "    this.waiting = false;\n",
       "\n",
       "    this.ws.onopen =  function () {\n",
       "            fig.send_message(\"supports_binary\", {value: fig.supports_binary});\n",
       "            fig.send_message(\"send_image_mode\", {});\n",
       "            if (mpl.ratio != 1) {\n",
       "                fig.send_message(\"set_dpi_ratio\", {'dpi_ratio': mpl.ratio});\n",
       "            }\n",
       "            fig.send_message(\"refresh\", {});\n",
       "        }\n",
       "\n",
       "    this.imageObj.onload = function() {\n",
       "            if (fig.image_mode == 'full') {\n",
       "                // Full images could contain transparency (where diff images\n",
       "                // almost always do), so we need to clear the canvas so that\n",
       "                // there is no ghosting.\n",
       "                fig.context.clearRect(0, 0, fig.canvas.width, fig.canvas.height);\n",
       "            }\n",
       "            fig.context.drawImage(fig.imageObj, 0, 0);\n",
       "        };\n",
       "\n",
       "    this.imageObj.onunload = function() {\n",
       "        fig.ws.close();\n",
       "    }\n",
       "\n",
       "    this.ws.onmessage = this._make_on_message_function(this);\n",
       "\n",
       "    this.ondownload = ondownload;\n",
       "}\n",
       "\n",
       "mpl.figure.prototype._init_header = function() {\n",
       "    var titlebar = $(\n",
       "        '<div class=\"ui-dialog-titlebar ui-widget-header ui-corner-all ' +\n",
       "        'ui-helper-clearfix\"/>');\n",
       "    var titletext = $(\n",
       "        '<div class=\"ui-dialog-title\" style=\"width: 100%; ' +\n",
       "        'text-align: center; padding: 3px;\"/>');\n",
       "    titlebar.append(titletext)\n",
       "    this.root.append(titlebar);\n",
       "    this.header = titletext[0];\n",
       "}\n",
       "\n",
       "\n",
       "\n",
       "mpl.figure.prototype._canvas_extra_style = function(canvas_div) {\n",
       "\n",
       "}\n",
       "\n",
       "\n",
       "mpl.figure.prototype._root_extra_style = function(canvas_div) {\n",
       "\n",
       "}\n",
       "\n",
       "mpl.figure.prototype._init_canvas = function() {\n",
       "    var fig = this;\n",
       "\n",
       "    var canvas_div = $('<div/>');\n",
       "\n",
       "    canvas_div.attr('style', 'position: relative; clear: both; outline: 0');\n",
       "\n",
       "    function canvas_keyboard_event(event) {\n",
       "        return fig.key_event(event, event['data']);\n",
       "    }\n",
       "\n",
       "    canvas_div.keydown('key_press', canvas_keyboard_event);\n",
       "    canvas_div.keyup('key_release', canvas_keyboard_event);\n",
       "    this.canvas_div = canvas_div\n",
       "    this._canvas_extra_style(canvas_div)\n",
       "    this.root.append(canvas_div);\n",
       "\n",
       "    var canvas = $('<canvas/>');\n",
       "    canvas.addClass('mpl-canvas');\n",
       "    canvas.attr('style', \"left: 0; top: 0; z-index: 0; outline: 0\")\n",
       "\n",
       "    this.canvas = canvas[0];\n",
       "    this.context = canvas[0].getContext(\"2d\");\n",
       "\n",
       "    var backingStore = this.context.backingStorePixelRatio ||\n",
       "\tthis.context.webkitBackingStorePixelRatio ||\n",
       "\tthis.context.mozBackingStorePixelRatio ||\n",
       "\tthis.context.msBackingStorePixelRatio ||\n",
       "\tthis.context.oBackingStorePixelRatio ||\n",
       "\tthis.context.backingStorePixelRatio || 1;\n",
       "\n",
       "    mpl.ratio = (window.devicePixelRatio || 1) / backingStore;\n",
       "\n",
       "    var rubberband = $('<canvas/>');\n",
       "    rubberband.attr('style', \"position: absolute; left: 0; top: 0; z-index: 1;\")\n",
       "\n",
       "    var pass_mouse_events = true;\n",
       "\n",
       "    canvas_div.resizable({\n",
       "        start: function(event, ui) {\n",
       "            pass_mouse_events = false;\n",
       "        },\n",
       "        resize: function(event, ui) {\n",
       "            fig.request_resize(ui.size.width, ui.size.height);\n",
       "        },\n",
       "        stop: function(event, ui) {\n",
       "            pass_mouse_events = true;\n",
       "            fig.request_resize(ui.size.width, ui.size.height);\n",
       "        },\n",
       "    });\n",
       "\n",
       "    function mouse_event_fn(event) {\n",
       "        if (pass_mouse_events)\n",
       "            return fig.mouse_event(event, event['data']);\n",
       "    }\n",
       "\n",
       "    rubberband.mousedown('button_press', mouse_event_fn);\n",
       "    rubberband.mouseup('button_release', mouse_event_fn);\n",
       "    // Throttle sequential mouse events to 1 every 20ms.\n",
       "    rubberband.mousemove('motion_notify', mouse_event_fn);\n",
       "\n",
       "    rubberband.mouseenter('figure_enter', mouse_event_fn);\n",
       "    rubberband.mouseleave('figure_leave', mouse_event_fn);\n",
       "\n",
       "    canvas_div.on(\"wheel\", function (event) {\n",
       "        event = event.originalEvent;\n",
       "        event['data'] = 'scroll'\n",
       "        if (event.deltaY < 0) {\n",
       "            event.step = 1;\n",
       "        } else {\n",
       "            event.step = -1;\n",
       "        }\n",
       "        mouse_event_fn(event);\n",
       "    });\n",
       "\n",
       "    canvas_div.append(canvas);\n",
       "    canvas_div.append(rubberband);\n",
       "\n",
       "    this.rubberband = rubberband;\n",
       "    this.rubberband_canvas = rubberband[0];\n",
       "    this.rubberband_context = rubberband[0].getContext(\"2d\");\n",
       "    this.rubberband_context.strokeStyle = \"#000000\";\n",
       "\n",
       "    this._resize_canvas = function(width, height) {\n",
       "        // Keep the size of the canvas, canvas container, and rubber band\n",
       "        // canvas in synch.\n",
       "        canvas_div.css('width', width)\n",
       "        canvas_div.css('height', height)\n",
       "\n",
       "        canvas.attr('width', width * mpl.ratio);\n",
       "        canvas.attr('height', height * mpl.ratio);\n",
       "        canvas.attr('style', 'width: ' + width + 'px; height: ' + height + 'px;');\n",
       "\n",
       "        rubberband.attr('width', width);\n",
       "        rubberband.attr('height', height);\n",
       "    }\n",
       "\n",
       "    // Set the figure to an initial 600x600px, this will subsequently be updated\n",
       "    // upon first draw.\n",
       "    this._resize_canvas(600, 600);\n",
       "\n",
       "    // Disable right mouse context menu.\n",
       "    $(this.rubberband_canvas).bind(\"contextmenu\",function(e){\n",
       "        return false;\n",
       "    });\n",
       "\n",
       "    function set_focus () {\n",
       "        canvas.focus();\n",
       "        canvas_div.focus();\n",
       "    }\n",
       "\n",
       "    window.setTimeout(set_focus, 100);\n",
       "}\n",
       "\n",
       "mpl.figure.prototype._init_toolbar = function() {\n",
       "    var fig = this;\n",
       "\n",
       "    var nav_element = $('<div/>');\n",
       "    nav_element.attr('style', 'width: 100%');\n",
       "    this.root.append(nav_element);\n",
       "\n",
       "    // Define a callback function for later on.\n",
       "    function toolbar_event(event) {\n",
       "        return fig.toolbar_button_onclick(event['data']);\n",
       "    }\n",
       "    function toolbar_mouse_event(event) {\n",
       "        return fig.toolbar_button_onmouseover(event['data']);\n",
       "    }\n",
       "\n",
       "    for(var toolbar_ind in mpl.toolbar_items) {\n",
       "        var name = mpl.toolbar_items[toolbar_ind][0];\n",
       "        var tooltip = mpl.toolbar_items[toolbar_ind][1];\n",
       "        var image = mpl.toolbar_items[toolbar_ind][2];\n",
       "        var method_name = mpl.toolbar_items[toolbar_ind][3];\n",
       "\n",
       "        if (!name) {\n",
       "            // put a spacer in here.\n",
       "            continue;\n",
       "        }\n",
       "        var button = $('<button/>');\n",
       "        button.addClass('ui-button ui-widget ui-state-default ui-corner-all ' +\n",
       "                        'ui-button-icon-only');\n",
       "        button.attr('role', 'button');\n",
       "        button.attr('aria-disabled', 'false');\n",
       "        button.click(method_name, toolbar_event);\n",
       "        button.mouseover(tooltip, toolbar_mouse_event);\n",
       "\n",
       "        var icon_img = $('<span/>');\n",
       "        icon_img.addClass('ui-button-icon-primary ui-icon');\n",
       "        icon_img.addClass(image);\n",
       "        icon_img.addClass('ui-corner-all');\n",
       "\n",
       "        var tooltip_span = $('<span/>');\n",
       "        tooltip_span.addClass('ui-button-text');\n",
       "        tooltip_span.html(tooltip);\n",
       "\n",
       "        button.append(icon_img);\n",
       "        button.append(tooltip_span);\n",
       "\n",
       "        nav_element.append(button);\n",
       "    }\n",
       "\n",
       "    var fmt_picker_span = $('<span/>');\n",
       "\n",
       "    var fmt_picker = $('<select/>');\n",
       "    fmt_picker.addClass('mpl-toolbar-option ui-widget ui-widget-content');\n",
       "    fmt_picker_span.append(fmt_picker);\n",
       "    nav_element.append(fmt_picker_span);\n",
       "    this.format_dropdown = fmt_picker[0];\n",
       "\n",
       "    for (var ind in mpl.extensions) {\n",
       "        var fmt = mpl.extensions[ind];\n",
       "        var option = $(\n",
       "            '<option/>', {selected: fmt === mpl.default_extension}).html(fmt);\n",
       "        fmt_picker.append(option);\n",
       "    }\n",
       "\n",
       "    // Add hover states to the ui-buttons\n",
       "    $( \".ui-button\" ).hover(\n",
       "        function() { $(this).addClass(\"ui-state-hover\");},\n",
       "        function() { $(this).removeClass(\"ui-state-hover\");}\n",
       "    );\n",
       "\n",
       "    var status_bar = $('<span class=\"mpl-message\"/>');\n",
       "    nav_element.append(status_bar);\n",
       "    this.message = status_bar[0];\n",
       "}\n",
       "\n",
       "mpl.figure.prototype.request_resize = function(x_pixels, y_pixels) {\n",
       "    // Request matplotlib to resize the figure. Matplotlib will then trigger a resize in the client,\n",
       "    // which will in turn request a refresh of the image.\n",
       "    this.send_message('resize', {'width': x_pixels, 'height': y_pixels});\n",
       "}\n",
       "\n",
       "mpl.figure.prototype.send_message = function(type, properties) {\n",
       "    properties['type'] = type;\n",
       "    properties['figure_id'] = this.id;\n",
       "    this.ws.send(JSON.stringify(properties));\n",
       "}\n",
       "\n",
       "mpl.figure.prototype.send_draw_message = function() {\n",
       "    if (!this.waiting) {\n",
       "        this.waiting = true;\n",
       "        this.ws.send(JSON.stringify({type: \"draw\", figure_id: this.id}));\n",
       "    }\n",
       "}\n",
       "\n",
       "\n",
       "mpl.figure.prototype.handle_save = function(fig, msg) {\n",
       "    var format_dropdown = fig.format_dropdown;\n",
       "    var format = format_dropdown.options[format_dropdown.selectedIndex].value;\n",
       "    fig.ondownload(fig, format);\n",
       "}\n",
       "\n",
       "\n",
       "mpl.figure.prototype.handle_resize = function(fig, msg) {\n",
       "    var size = msg['size'];\n",
       "    if (size[0] != fig.canvas.width || size[1] != fig.canvas.height) {\n",
       "        fig._resize_canvas(size[0], size[1]);\n",
       "        fig.send_message(\"refresh\", {});\n",
       "    };\n",
       "}\n",
       "\n",
       "mpl.figure.prototype.handle_rubberband = function(fig, msg) {\n",
       "    var x0 = msg['x0'] / mpl.ratio;\n",
       "    var y0 = (fig.canvas.height - msg['y0']) / mpl.ratio;\n",
       "    var x1 = msg['x1'] / mpl.ratio;\n",
       "    var y1 = (fig.canvas.height - msg['y1']) / mpl.ratio;\n",
       "    x0 = Math.floor(x0) + 0.5;\n",
       "    y0 = Math.floor(y0) + 0.5;\n",
       "    x1 = Math.floor(x1) + 0.5;\n",
       "    y1 = Math.floor(y1) + 0.5;\n",
       "    var min_x = Math.min(x0, x1);\n",
       "    var min_y = Math.min(y0, y1);\n",
       "    var width = Math.abs(x1 - x0);\n",
       "    var height = Math.abs(y1 - y0);\n",
       "\n",
       "    fig.rubberband_context.clearRect(\n",
       "        0, 0, fig.canvas.width / mpl.ratio, fig.canvas.height / mpl.ratio);\n",
       "\n",
       "    fig.rubberband_context.strokeRect(min_x, min_y, width, height);\n",
       "}\n",
       "\n",
       "mpl.figure.prototype.handle_figure_label = function(fig, msg) {\n",
       "    // Updates the figure title.\n",
       "    fig.header.textContent = msg['label'];\n",
       "}\n",
       "\n",
       "mpl.figure.prototype.handle_cursor = function(fig, msg) {\n",
       "    var cursor = msg['cursor'];\n",
       "    switch(cursor)\n",
       "    {\n",
       "    case 0:\n",
       "        cursor = 'pointer';\n",
       "        break;\n",
       "    case 1:\n",
       "        cursor = 'default';\n",
       "        break;\n",
       "    case 2:\n",
       "        cursor = 'crosshair';\n",
       "        break;\n",
       "    case 3:\n",
       "        cursor = 'move';\n",
       "        break;\n",
       "    }\n",
       "    fig.rubberband_canvas.style.cursor = cursor;\n",
       "}\n",
       "\n",
       "mpl.figure.prototype.handle_message = function(fig, msg) {\n",
       "    fig.message.textContent = msg['message'];\n",
       "}\n",
       "\n",
       "mpl.figure.prototype.handle_draw = function(fig, msg) {\n",
       "    // Request the server to send over a new figure.\n",
       "    fig.send_draw_message();\n",
       "}\n",
       "\n",
       "mpl.figure.prototype.handle_image_mode = function(fig, msg) {\n",
       "    fig.image_mode = msg['mode'];\n",
       "}\n",
       "\n",
       "mpl.figure.prototype.updated_canvas_event = function() {\n",
       "    // Called whenever the canvas gets updated.\n",
       "    this.send_message(\"ack\", {});\n",
       "}\n",
       "\n",
       "// A function to construct a web socket function for onmessage handling.\n",
       "// Called in the figure constructor.\n",
       "mpl.figure.prototype._make_on_message_function = function(fig) {\n",
       "    return function socket_on_message(evt) {\n",
       "        if (evt.data instanceof Blob) {\n",
       "            /* FIXME: We get \"Resource interpreted as Image but\n",
       "             * transferred with MIME type text/plain:\" errors on\n",
       "             * Chrome.  But how to set the MIME type?  It doesn't seem\n",
       "             * to be part of the websocket stream */\n",
       "            evt.data.type = \"image/png\";\n",
       "\n",
       "            /* Free the memory for the previous frames */\n",
       "            if (fig.imageObj.src) {\n",
       "                (window.URL || window.webkitURL).revokeObjectURL(\n",
       "                    fig.imageObj.src);\n",
       "            }\n",
       "\n",
       "            fig.imageObj.src = (window.URL || window.webkitURL).createObjectURL(\n",
       "                evt.data);\n",
       "            fig.updated_canvas_event();\n",
       "            fig.waiting = false;\n",
       "            return;\n",
       "        }\n",
       "        else if (typeof evt.data === 'string' && evt.data.slice(0, 21) == \"data:image/png;base64\") {\n",
       "            fig.imageObj.src = evt.data;\n",
       "            fig.updated_canvas_event();\n",
       "            fig.waiting = false;\n",
       "            return;\n",
       "        }\n",
       "\n",
       "        var msg = JSON.parse(evt.data);\n",
       "        var msg_type = msg['type'];\n",
       "\n",
       "        // Call the  \"handle_{type}\" callback, which takes\n",
       "        // the figure and JSON message as its only arguments.\n",
       "        try {\n",
       "            var callback = fig[\"handle_\" + msg_type];\n",
       "        } catch (e) {\n",
       "            console.log(\"No handler for the '\" + msg_type + \"' message type: \", msg);\n",
       "            return;\n",
       "        }\n",
       "\n",
       "        if (callback) {\n",
       "            try {\n",
       "                // console.log(\"Handling '\" + msg_type + \"' message: \", msg);\n",
       "                callback(fig, msg);\n",
       "            } catch (e) {\n",
       "                console.log(\"Exception inside the 'handler_\" + msg_type + \"' callback:\", e, e.stack, msg);\n",
       "            }\n",
       "        }\n",
       "    };\n",
       "}\n",
       "\n",
       "// from http://stackoverflow.com/questions/1114465/getting-mouse-location-in-canvas\n",
       "mpl.findpos = function(e) {\n",
       "    //this section is from http://www.quirksmode.org/js/events_properties.html\n",
       "    var targ;\n",
       "    if (!e)\n",
       "        e = window.event;\n",
       "    if (e.target)\n",
       "        targ = e.target;\n",
       "    else if (e.srcElement)\n",
       "        targ = e.srcElement;\n",
       "    if (targ.nodeType == 3) // defeat Safari bug\n",
       "        targ = targ.parentNode;\n",
       "\n",
       "    // jQuery normalizes the pageX and pageY\n",
       "    // pageX,Y are the mouse positions relative to the document\n",
       "    // offset() returns the position of the element relative to the document\n",
       "    var x = e.pageX - $(targ).offset().left;\n",
       "    var y = e.pageY - $(targ).offset().top;\n",
       "\n",
       "    return {\"x\": x, \"y\": y};\n",
       "};\n",
       "\n",
       "/*\n",
       " * return a copy of an object with only non-object keys\n",
       " * we need this to avoid circular references\n",
       " * http://stackoverflow.com/a/24161582/3208463\n",
       " */\n",
       "function simpleKeys (original) {\n",
       "  return Object.keys(original).reduce(function (obj, key) {\n",
       "    if (typeof original[key] !== 'object')\n",
       "        obj[key] = original[key]\n",
       "    return obj;\n",
       "  }, {});\n",
       "}\n",
       "\n",
       "mpl.figure.prototype.mouse_event = function(event, name) {\n",
       "    var canvas_pos = mpl.findpos(event)\n",
       "\n",
       "    if (name === 'button_press')\n",
       "    {\n",
       "        this.canvas.focus();\n",
       "        this.canvas_div.focus();\n",
       "    }\n",
       "\n",
       "    var x = canvas_pos.x * mpl.ratio;\n",
       "    var y = canvas_pos.y * mpl.ratio;\n",
       "\n",
       "    this.send_message(name, {x: x, y: y, button: event.button,\n",
       "                             step: event.step,\n",
       "                             guiEvent: simpleKeys(event)});\n",
       "\n",
       "    /* This prevents the web browser from automatically changing to\n",
       "     * the text insertion cursor when the button is pressed.  We want\n",
       "     * to control all of the cursor setting manually through the\n",
       "     * 'cursor' event from matplotlib */\n",
       "    event.preventDefault();\n",
       "    return false;\n",
       "}\n",
       "\n",
       "mpl.figure.prototype._key_event_extra = function(event, name) {\n",
       "    // Handle any extra behaviour associated with a key event\n",
       "}\n",
       "\n",
       "mpl.figure.prototype.key_event = function(event, name) {\n",
       "\n",
       "    // Prevent repeat events\n",
       "    if (name == 'key_press')\n",
       "    {\n",
       "        if (event.which === this._key)\n",
       "            return;\n",
       "        else\n",
       "            this._key = event.which;\n",
       "    }\n",
       "    if (name == 'key_release')\n",
       "        this._key = null;\n",
       "\n",
       "    var value = '';\n",
       "    if (event.ctrlKey && event.which != 17)\n",
       "        value += \"ctrl+\";\n",
       "    if (event.altKey && event.which != 18)\n",
       "        value += \"alt+\";\n",
       "    if (event.shiftKey && event.which != 16)\n",
       "        value += \"shift+\";\n",
       "\n",
       "    value += 'k';\n",
       "    value += event.which.toString();\n",
       "\n",
       "    this._key_event_extra(event, name);\n",
       "\n",
       "    this.send_message(name, {key: value,\n",
       "                             guiEvent: simpleKeys(event)});\n",
       "    return false;\n",
       "}\n",
       "\n",
       "mpl.figure.prototype.toolbar_button_onclick = function(name) {\n",
       "    if (name == 'download') {\n",
       "        this.handle_save(this, null);\n",
       "    } else {\n",
       "        this.send_message(\"toolbar_button\", {name: name});\n",
       "    }\n",
       "};\n",
       "\n",
       "mpl.figure.prototype.toolbar_button_onmouseover = function(tooltip) {\n",
       "    this.message.textContent = tooltip;\n",
       "};\n",
       "mpl.toolbar_items = [[\"Home\", \"Reset original view\", \"fa fa-home icon-home\", \"home\"], [\"Back\", \"Back to previous view\", \"fa fa-arrow-left icon-arrow-left\", \"back\"], [\"Forward\", \"Forward to next view\", \"fa fa-arrow-right icon-arrow-right\", \"forward\"], [\"\", \"\", \"\", \"\"], [\"Pan\", \"Pan axes with left mouse, zoom with right\", \"fa fa-arrows icon-move\", \"pan\"], [\"Zoom\", \"Zoom to rectangle\", \"fa fa-square-o icon-check-empty\", \"zoom\"], [\"\", \"\", \"\", \"\"], [\"Download\", \"Download plot\", \"fa fa-floppy-o icon-save\", \"download\"]];\n",
       "\n",
       "mpl.extensions = [\"eps\", \"jpeg\", \"pdf\", \"png\", \"ps\", \"raw\", \"svg\", \"tif\"];\n",
       "\n",
       "mpl.default_extension = \"png\";var comm_websocket_adapter = function(comm) {\n",
       "    // Create a \"websocket\"-like object which calls the given IPython comm\n",
       "    // object with the appropriate methods. Currently this is a non binary\n",
       "    // socket, so there is still some room for performance tuning.\n",
       "    var ws = {};\n",
       "\n",
       "    ws.close = function() {\n",
       "        comm.close()\n",
       "    };\n",
       "    ws.send = function(m) {\n",
       "        //console.log('sending', m);\n",
       "        comm.send(m);\n",
       "    };\n",
       "    // Register the callback with on_msg.\n",
       "    comm.on_msg(function(msg) {\n",
       "        //console.log('receiving', msg['content']['data'], msg);\n",
       "        // Pass the mpl event to the overridden (by mpl) onmessage function.\n",
       "        ws.onmessage(msg['content']['data'])\n",
       "    });\n",
       "    return ws;\n",
       "}\n",
       "\n",
       "mpl.mpl_figure_comm = function(comm, msg) {\n",
       "    // This is the function which gets called when the mpl process\n",
       "    // starts-up an IPython Comm through the \"matplotlib\" channel.\n",
       "\n",
       "    var id = msg.content.data.id;\n",
       "    // Get hold of the div created by the display call when the Comm\n",
       "    // socket was opened in Python.\n",
       "    var element = $(\"#\" + id);\n",
       "    var ws_proxy = comm_websocket_adapter(comm)\n",
       "\n",
       "    function ondownload(figure, format) {\n",
       "        window.open(figure.imageObj.src);\n",
       "    }\n",
       "\n",
       "    var fig = new mpl.figure(id, ws_proxy,\n",
       "                           ondownload,\n",
       "                           element.get(0));\n",
       "\n",
       "    // Call onopen now - mpl needs it, as it is assuming we've passed it a real\n",
       "    // web socket which is closed, not our websocket->open comm proxy.\n",
       "    ws_proxy.onopen();\n",
       "\n",
       "    fig.parent_element = element.get(0);\n",
       "    fig.cell_info = mpl.find_output_cell(\"<div id='\" + id + \"'></div>\");\n",
       "    if (!fig.cell_info) {\n",
       "        console.error(\"Failed to find cell for figure\", id, fig);\n",
       "        return;\n",
       "    }\n",
       "\n",
       "    var output_index = fig.cell_info[2]\n",
       "    var cell = fig.cell_info[0];\n",
       "\n",
       "};\n",
       "\n",
       "mpl.figure.prototype.handle_close = function(fig, msg) {\n",
       "    var width = fig.canvas.width/mpl.ratio\n",
       "    fig.root.unbind('remove')\n",
       "\n",
       "    // Update the output cell to use the data from the current canvas.\n",
       "    fig.push_to_output();\n",
       "    var dataURL = fig.canvas.toDataURL();\n",
       "    // Re-enable the keyboard manager in IPython - without this line, in FF,\n",
       "    // the notebook keyboard shortcuts fail.\n",
       "    IPython.keyboard_manager.enable()\n",
       "    $(fig.parent_element).html('<img src=\"' + dataURL + '\" width=\"' + width + '\">');\n",
       "    fig.close_ws(fig, msg);\n",
       "}\n",
       "\n",
       "mpl.figure.prototype.close_ws = function(fig, msg){\n",
       "    fig.send_message('closing', msg);\n",
       "    // fig.ws.close()\n",
       "}\n",
       "\n",
       "mpl.figure.prototype.push_to_output = function(remove_interactive) {\n",
       "    // Turn the data on the canvas into data in the output cell.\n",
       "    var width = this.canvas.width/mpl.ratio\n",
       "    var dataURL = this.canvas.toDataURL();\n",
       "    this.cell_info[1]['text/html'] = '<img src=\"' + dataURL + '\" width=\"' + width + '\">';\n",
       "}\n",
       "\n",
       "mpl.figure.prototype.updated_canvas_event = function() {\n",
       "    // Tell IPython that the notebook contents must change.\n",
       "    IPython.notebook.set_dirty(true);\n",
       "    this.send_message(\"ack\", {});\n",
       "    var fig = this;\n",
       "    // Wait a second, then push the new image to the DOM so\n",
       "    // that it is saved nicely (might be nice to debounce this).\n",
       "    setTimeout(function () { fig.push_to_output() }, 1000);\n",
       "}\n",
       "\n",
       "mpl.figure.prototype._init_toolbar = function() {\n",
       "    var fig = this;\n",
       "\n",
       "    var nav_element = $('<div/>');\n",
       "    nav_element.attr('style', 'width: 100%');\n",
       "    this.root.append(nav_element);\n",
       "\n",
       "    // Define a callback function for later on.\n",
       "    function toolbar_event(event) {\n",
       "        return fig.toolbar_button_onclick(event['data']);\n",
       "    }\n",
       "    function toolbar_mouse_event(event) {\n",
       "        return fig.toolbar_button_onmouseover(event['data']);\n",
       "    }\n",
       "\n",
       "    for(var toolbar_ind in mpl.toolbar_items){\n",
       "        var name = mpl.toolbar_items[toolbar_ind][0];\n",
       "        var tooltip = mpl.toolbar_items[toolbar_ind][1];\n",
       "        var image = mpl.toolbar_items[toolbar_ind][2];\n",
       "        var method_name = mpl.toolbar_items[toolbar_ind][3];\n",
       "\n",
       "        if (!name) { continue; };\n",
       "\n",
       "        var button = $('<button class=\"btn btn-default\" href=\"#\" title=\"' + name + '\"><i class=\"fa ' + image + ' fa-lg\"></i></button>');\n",
       "        button.click(method_name, toolbar_event);\n",
       "        button.mouseover(tooltip, toolbar_mouse_event);\n",
       "        nav_element.append(button);\n",
       "    }\n",
       "\n",
       "    // Add the status bar.\n",
       "    var status_bar = $('<span class=\"mpl-message\" style=\"text-align:right; float: right;\"/>');\n",
       "    nav_element.append(status_bar);\n",
       "    this.message = status_bar[0];\n",
       "\n",
       "    // Add the close button to the window.\n",
       "    var buttongrp = $('<div class=\"btn-group inline pull-right\"></div>');\n",
       "    var button = $('<button class=\"btn btn-mini btn-primary\" href=\"#\" title=\"Stop Interaction\"><i class=\"fa fa-power-off icon-remove icon-large\"></i></button>');\n",
       "    button.click(function (evt) { fig.handle_close(fig, {}); } );\n",
       "    button.mouseover('Stop Interaction', toolbar_mouse_event);\n",
       "    buttongrp.append(button);\n",
       "    var titlebar = this.root.find($('.ui-dialog-titlebar'));\n",
       "    titlebar.prepend(buttongrp);\n",
       "}\n",
       "\n",
       "mpl.figure.prototype._root_extra_style = function(el){\n",
       "    var fig = this\n",
       "    el.on(\"remove\", function(){\n",
       "\tfig.close_ws(fig, {});\n",
       "    });\n",
       "}\n",
       "\n",
       "mpl.figure.prototype._canvas_extra_style = function(el){\n",
       "    // this is important to make the div 'focusable\n",
       "    el.attr('tabindex', 0)\n",
       "    // reach out to IPython and tell the keyboard manager to turn it's self\n",
       "    // off when our div gets focus\n",
       "\n",
       "    // location in version 3\n",
       "    if (IPython.notebook.keyboard_manager) {\n",
       "        IPython.notebook.keyboard_manager.register_events(el);\n",
       "    }\n",
       "    else {\n",
       "        // location in version 2\n",
       "        IPython.keyboard_manager.register_events(el);\n",
       "    }\n",
       "\n",
       "}\n",
       "\n",
       "mpl.figure.prototype._key_event_extra = function(event, name) {\n",
       "    var manager = IPython.notebook.keyboard_manager;\n",
       "    if (!manager)\n",
       "        manager = IPython.keyboard_manager;\n",
       "\n",
       "    // Check for shift+enter\n",
       "    if (event.shiftKey && event.which == 13) {\n",
       "        this.canvas_div.blur();\n",
       "        // select the cell after this one\n",
       "        var index = IPython.notebook.find_cell_index(this.cell_info[0]);\n",
       "        IPython.notebook.select(index + 1);\n",
       "    }\n",
       "}\n",
       "\n",
       "mpl.figure.prototype.handle_save = function(fig, msg) {\n",
       "    fig.ondownload(fig, null);\n",
       "}\n",
       "\n",
       "\n",
       "mpl.find_output_cell = function(html_output) {\n",
       "    // Return the cell and output element which can be found *uniquely* in the notebook.\n",
       "    // Note - this is a bit hacky, but it is done because the \"notebook_saving.Notebook\"\n",
       "    // IPython event is triggered only after the cells have been serialised, which for\n",
       "    // our purposes (turning an active figure into a static one), is too late.\n",
       "    var cells = IPython.notebook.get_cells();\n",
       "    var ncells = cells.length;\n",
       "    for (var i=0; i<ncells; i++) {\n",
       "        var cell = cells[i];\n",
       "        if (cell.cell_type === 'code'){\n",
       "            for (var j=0; j<cell.output_area.outputs.length; j++) {\n",
       "                var data = cell.output_area.outputs[j];\n",
       "                if (data.data) {\n",
       "                    // IPython >= 3 moved mimebundle to data attribute of output\n",
       "                    data = data.data;\n",
       "                }\n",
       "                if (data['text/html'] == html_output) {\n",
       "                    return [cell, data, j];\n",
       "                }\n",
       "            }\n",
       "        }\n",
       "    }\n",
       "}\n",
       "\n",
       "// Register the function which deals with the matplotlib target/channel.\n",
       "// The kernel may be null if the page has been refreshed.\n",
       "if (IPython.notebook.kernel != null) {\n",
       "    IPython.notebook.kernel.comm_manager.register_target('matplotlib', mpl.mpl_figure_comm);\n",
       "}\n"
      ],
      "text/plain": [
       "<IPython.core.display.Javascript object>"
      ]
     },
     "metadata": {},
     "output_type": "display_data"
    },
    {
     "data": {
      "text/html": [
       "<img src=\"data:image/png;base64,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\" width=\"1200\">"
      ],
      "text/plain": [
       "<IPython.core.display.HTML object>"
      ]
     },
     "metadata": {},
     "output_type": "display_data"
    },
    {
     "data": {
      "text/plain": [
       "array([<matplotlib.axes._subplots.AxesSubplot object at 0x0000017740948A48>,\n",
       "       <matplotlib.axes._subplots.AxesSubplot object at 0x000001774095B808>,\n",
       "       <matplotlib.axes._subplots.AxesSubplot object at 0x000001774096A508>],\n",
       "      dtype=object)"
      ]
     },
     "execution_count": 6,
     "metadata": {},
     "output_type": "execute_result"
    }
   ],
   "source": [
    "backward_180a.drop(\"proefpersoon\", axis=1).plot(x='time', subplots=True)"
   ]
  },
  {
   "cell_type": "code",
   "execution_count": 6,
   "metadata": {},
   "outputs": [],
   "source": [
    "backward_180_left_right_1 = [backward_180a]"
   ]
  },
  {
   "cell_type": "code",
   "execution_count": 7,
   "metadata": {},
   "outputs": [],
   "source": [
    "for df in backward_180_left_right_1:\n",
    "    f = sampling_freq(df)\n",
    "    freq += f"
   ]
  },
  {
   "cell_type": "markdown",
   "metadata": {},
   "source": [
    "#### zonder tussenpauzes, zonder springen"
   ]
  },
  {
   "cell_type": "code",
   "execution_count": 68,
   "metadata": {},
   "outputs": [],
   "source": [
    "backward_180_left_right_nospringa = pd.read_csv(\n",
    "    r\"..\\data\\forward_180\\proefpersoon1\\backward_180_left_right_tim_nospring.csv\", \n",
    "    sep=';', header=0, skipinitialspace=True)"
   ]
  },
  {
   "cell_type": "code",
   "execution_count": 69,
   "metadata": {},
   "outputs": [],
   "source": [
    "backward_180_left_right_nospringa = preprocess(backward_180_left_right_nospringa, \"backward_180\", \"left_right\",1, 1.5, 2.5)"
   ]
  },
  {
   "cell_type": "code",
   "execution_count": 70,
   "metadata": {},
   "outputs": [],
   "source": [
    "backward_180_left_right_1 = [backward_180_left_right_nospringa]"
   ]
  },
  {
   "cell_type": "code",
   "execution_count": 71,
   "metadata": {},
   "outputs": [],
   "source": [
    "for df in backward_180_left_right_1:\n",
    "    f = sampling_freq(df)\n",
    "    freq += f"
   ]
  },
  {
   "cell_type": "markdown",
   "metadata": {},
   "source": [
    "#### backward_180_right_right"
   ]
  },
  {
   "cell_type": "markdown",
   "metadata": {},
   "source": [
    "#### tussenpauzes"
   ]
  },
  {
   "cell_type": "code",
   "execution_count": 10,
   "metadata": {},
   "outputs": [],
   "source": [
    "#EERSTE EN LAATSTE STUKJES NIET GEKNIPT\n",
    "#5 SEGMENTEN\n",
    "forward_180_right_backwards1 = pd.read_csv(r\"..\\data\\forward_180\\proefpersoon1\\tussenpauzes\\forward_180_right_backwards_tim1.csv\", sep=';', header=0, skipinitialspace=True)\n",
    "\n",
    "#3 SEGMENTEN\n",
    "forward_180_right_backwards2 = pd.read_csv(r\"..\\data\\forward_180\\proefpersoon1\\tussenpauzes\\forward_180_right_backwards_tim2.csv\", sep=';', header=0, skipinitialspace=True)\n",
    "\n",
    "forward_180_right_backwards4 = pd.read_csv(r\"..\\data\\forward_180\\proefpersoon1\\tussenpauzes\\forward_180_right_backwards_tim4.csv\", sep=';', header=0, skipinitialspace=True)\n",
    "\n",
    "forward_180_right_backwards5 = pd.read_csv(r\"..\\data\\forward_180\\proefpersoon1\\tussenpauzes\\forward_180_right_backwards_tim5.csv\", sep=';', header=0, skipinitialspace=True)\n",
    "forward_180_right_backwards6 = pd.read_csv(r\"..\\data\\forward_180\\proefpersoon1\\tussenpauzes\\forward_180_right_backwards_tim6.csv\", sep=';', header=0, skipinitialspace=True)\n"
   ]
  },
  {
   "cell_type": "code",
   "execution_count": null,
   "metadata": {},
   "outputs": [],
   "source": [
    "f2 =  forward_180_right_backwards1[(forward_180_right_backwards1[\"time\"] >= 11918100000000) & (forward_180_right_backwards1[\"time\"] <= 11923700000000)]\n",
    "f3 =  forward_180_right_backwards1[(forward_180_right_backwards1[\"time\"] >= 11923700000000) & (forward_180_right_backwards1[\"time\"] <= 11929200000000)]\n",
    "f4 =  forward_180_right_backwards1[(forward_180_right_backwards1[\"time\"] >= 11929200000000) & (forward_180_right_backwards1[\"time\"] <= 11935500000000)]\n",
    "f5 =  forward_180_right_backwards1[(forward_180_right_backwards1[\"time\"] >= 11935500000000) & (forward_180_right_backwards1[\"time\"] <= 11941400000000)]\n",
    "\n",
    "f6 =  forward_180_right_backwards2[(forward_180_right_backwards2[\"time\"] <= 11951900000000)]\n",
    "f7 =  forward_180_right_backwards2[(forward_180_right_backwards2[\"time\"] >= 11951900000000) & (forward_180_right_backwards2[\"time\"] <= 11956800000000)]\n",
    "f8 =  forward_180_right_backwards2[(forward_180_right_backwards2[\"time\"] >= 11956800000000) & (forward_180_right_backwards2[\"time\"] <= 11961900000000)]\n",
    "\n",
    "f9 =  forward_180_right_backwards4[(forward_180_right_backwards4[\"time\"] >= 11976300000000)]\n",
    "f10 = forward_180_right_backwards4[(forward_180_right_backwards4[\"time\"] <= 11976300000000)]"
   ]
  },
  {
   "cell_type": "code",
   "execution_count": null,
   "metadata": {},
   "outputs": [],
   "source": [
    "f2 = preprocess(f2, \"backward_180\", 1.7, 0.9)\n",
    "f3 = preprocess(f3, \"backward_180\", 1, 1.2)\n",
    "f4 = preprocess(f4, \"backward_180\", 1.5, 1.7)\n",
    "f5 = preprocess(f5, \"backward_180\", 2, 1)\n",
    "f6 = preprocess(f6, \"backward_180\", 1, 1)\n",
    "f7 = preprocess(f7, \"backward_180\", 1.5, 1.5)\n",
    "f8 = preprocess(f8, \"backward_180\", 1.7, 1.5)\n",
    "f9 = preprocess(f9, \"backward_180\", 1.5, 0.6)"
   ]
  },
  {
   "cell_type": "code",
   "execution_count": null,
   "metadata": {},
   "outputs": [],
   "source": [
    "forward_180_right_backwards_1 = [f2, f3, f4, f5, f6, f7, f8, f9]"
   ]
  },
  {
   "cell_type": "markdown",
   "metadata": {},
   "source": [
    "#### zonder tussenpauzes"
   ]
  },
  {
   "cell_type": "code",
   "execution_count": 8,
   "metadata": {},
   "outputs": [],
   "source": [
    "backward_180_right_righta = pd.read_csv(\n",
    "    r\"..\\data\\forward_180\\proefpersoon1\\backward_180_right_right_tim.csv\", \n",
    "    sep=';', header=0, skipinitialspace=True)\n",
    "\n",
    "backward_180_right_rightb = pd.read_csv(\n",
    "    r\"..\\data\\forward_180\\proefpersoon1\\backward_180_right_right_tim2.csv\", \n",
    "    sep=';', header=0, skipinitialspace=True)"
   ]
  },
  {
   "cell_type": "code",
   "execution_count": 9,
   "metadata": {},
   "outputs": [],
   "source": [
    "backward_180_right_righta = preprocess(backward_180_right_righta, \"backward_180\", \"right_right\", 1)\n",
    "backward_180_right_rightb = preprocess(backward_180_right_rightb, \"backward_180\", \"right_right\", 1)"
   ]
  },
  {
   "cell_type": "code",
   "execution_count": 10,
   "metadata": {},
   "outputs": [],
   "source": [
    "backward_180_right_right_1 = [backward_180_right_righta, backward_180_right_rightb]"
   ]
  },
  {
   "cell_type": "code",
   "execution_count": 11,
   "metadata": {},
   "outputs": [],
   "source": [
    "for df in backward_180_right_right_1:\n",
    "    f = sampling_freq(df)\n",
    "    freq += f"
   ]
  },
  {
   "cell_type": "markdown",
   "metadata": {},
   "source": [
    "#### zonder tussenpauzes, zonder springen"
   ]
  },
  {
   "cell_type": "code",
   "execution_count": 72,
   "metadata": {},
   "outputs": [],
   "source": [
    "backward_180_right_right_nospringa = pd.read_csv(\n",
    "    r\"..\\data\\forward_180\\proefpersoon1\\backward_180_right_right_tim_nospring1.csv\", \n",
    "    sep=';', header=0, skipinitialspace=True)"
   ]
  },
  {
   "cell_type": "code",
   "execution_count": 73,
   "metadata": {},
   "outputs": [],
   "source": [
    "backward_180_right_right_nospringa = preprocess(backward_180_right_right_nospringa, \"backward_180\", \"right_right\",1, 1.2, 2.4)"
   ]
  },
  {
   "cell_type": "code",
   "execution_count": 74,
   "metadata": {},
   "outputs": [],
   "source": [
    "backward_180_right_right_1 = [backward_180_right_right_nospringa]"
   ]
  },
  {
   "cell_type": "code",
   "execution_count": 75,
   "metadata": {},
   "outputs": [],
   "source": [
    "for df in backward_180_right_right_1:\n",
    "    f = sampling_freq(df)\n",
    "    freq += f"
   ]
  },
  {
   "cell_type": "markdown",
   "metadata": {},
   "source": [
    "#### backward_180_left_left"
   ]
  },
  {
   "cell_type": "markdown",
   "metadata": {},
   "source": [
    "#### tussenpauze"
   ]
  },
  {
   "cell_type": "code",
   "execution_count": 11,
   "metadata": {},
   "outputs": [],
   "source": [
    "#8 segmenten\n",
    "forward_180_left_backwards_other1 = pd.read_csv(r\"..\\data\\forward_180\\proefpersoon1\\tussenpauzes\\forward_180_left_backwards_tim_other_side1.csv\", sep=';', header=0, skipinitialspace=True)"
   ]
  },
  {
   "cell_type": "code",
   "execution_count": null,
   "metadata": {},
   "outputs": [],
   "source": [
    "f1 =  forward_180_left_backwards_other1[forward_180_left_backwards_other1[\"time\"] <= 32379000000000]\n",
    "f2 =  forward_180_left_backwards_other1[(forward_180_left_backwards_other1[\"time\"] >= 32379000000000) & (forward_180_left_backwards_other1[\"time\"] <= 32383100000000)]\n",
    "f3 =  forward_180_left_backwards_other1[(forward_180_left_backwards_other1[\"time\"] >= 32383100000000) & (forward_180_left_backwards_other1[\"time\"] <= 32387300000000)]\n",
    "f4 =  forward_180_left_backwards_other1[(forward_180_left_backwards_other1[\"time\"] >= 32387300000000) & (forward_180_left_backwards_other1[\"time\"] <= 32391400000000)]\n",
    "f5 =  forward_180_left_backwards_other1[(forward_180_left_backwards_other1[\"time\"] >= 32391400000000) & (forward_180_left_backwards_other1[\"time\"] <= 32395500000000)]\n",
    "f6 =  forward_180_left_backwards_other1[(forward_180_left_backwards_other1[\"time\"] >= 32395500000000) & (forward_180_left_backwards_other1[\"time\"] <= 32399600000000)]\n",
    "f7 =  forward_180_left_backwards_other1[(forward_180_left_backwards_other1[\"time\"] >= 32399600000000) & (forward_180_left_backwards_other1[\"time\"] <= 32403800000000)]\n",
    "f8 =  forward_180_left_backwards_other1[(forward_180_left_backwards_other1[\"time\"] >= 32403800000000) & (forward_180_left_backwards_other1[\"time\"] <= 32408100000000)]\n"
   ]
  },
  {
   "cell_type": "code",
   "execution_count": null,
   "metadata": {},
   "outputs": [],
   "source": [
    "f1 = preprocess(f1, \"backward_180\", 0.8, 0.6)\n",
    "f2 = preprocess(f2, \"backward_180\", 1, 0.7)\n",
    "f3 = preprocess(f3, \"backward_180\", 1.3, 0.6)\n",
    "f4 = preprocess(f4, \"backward_180\", 1.2, 0.6)\n",
    "f5 = preprocess(f5, \"backward_180\", 1.1, 0.7)\n",
    "f6 = preprocess(f6, \"backward_180\", 1.3, 0.6)\n",
    "f7 = preprocess(f7, \"backward_180\", 1.2, 0.7)\n",
    "f8 = preprocess(f8, \"backward_180\", 1.2, 0.7)"
   ]
  },
  {
   "cell_type": "code",
   "execution_count": null,
   "metadata": {},
   "outputs": [],
   "source": [
    "forward_180_left_backwards_other_side_1 = [f1,f2, f3, f4, f5, f6, f7, f8]"
   ]
  },
  {
   "cell_type": "markdown",
   "metadata": {},
   "source": [
    "#### zonder tussenpauzes"
   ]
  },
  {
   "cell_type": "code",
   "execution_count": 12,
   "metadata": {},
   "outputs": [],
   "source": [
    "backward_180_left_lefta = pd.read_csv(\n",
    "    r\"..\\data\\forward_180\\proefpersoon1\\backward_180_left_left_tim1.csv\", \n",
    "    sep=';', header=0, skipinitialspace=True)\n"
   ]
  },
  {
   "cell_type": "code",
   "execution_count": 13,
   "metadata": {},
   "outputs": [],
   "source": [
    "backward_180_left_lefta = preprocess(backward_180_left_lefta, \"backward_180\", \"left_left\", 1)"
   ]
  },
  {
   "cell_type": "code",
   "execution_count": 14,
   "metadata": {},
   "outputs": [],
   "source": [
    "backward_180_left_left_1 = [backward_180_left_lefta]"
   ]
  },
  {
   "cell_type": "code",
   "execution_count": 15,
   "metadata": {},
   "outputs": [],
   "source": [
    "for df in backward_180_left_left_1:\n",
    "    f = sampling_freq(df)\n",
    "    freq += f"
   ]
  },
  {
   "cell_type": "markdown",
   "metadata": {},
   "source": [
    "#### zonder tussenpauzes, zonder springen"
   ]
  },
  {
   "cell_type": "code",
   "execution_count": 76,
   "metadata": {},
   "outputs": [],
   "source": [
    "backward_180_left_left_nospringa = pd.read_csv(\n",
    "    r\"..\\data\\forward_180\\proefpersoon1\\backward_180_left_left_tim_nospring.csv\", \n",
    "    sep=';', header=0, skipinitialspace=True)"
   ]
  },
  {
   "cell_type": "code",
   "execution_count": 77,
   "metadata": {},
   "outputs": [],
   "source": [
    "backward_180_left_left_nospringa = preprocess(backward_180_left_left_nospringa, \"backward_180\", \"left_left\",1, 5, 5)"
   ]
  },
  {
   "cell_type": "code",
   "execution_count": 78,
   "metadata": {},
   "outputs": [],
   "source": [
    "backward_180_left_left_1 = [backward_180_left_left_nospringa]"
   ]
  },
  {
   "cell_type": "code",
   "execution_count": 79,
   "metadata": {},
   "outputs": [],
   "source": [
    "for df in backward_180_left_left_1:\n",
    "    f = sampling_freq(df)\n",
    "    freq += f"
   ]
  },
  {
   "cell_type": "markdown",
   "metadata": {},
   "source": [
    "#### backward_180_right_left"
   ]
  },
  {
   "cell_type": "markdown",
   "metadata": {},
   "source": [
    "#### tussenpauze"
   ]
  },
  {
   "cell_type": "code",
   "execution_count": 12,
   "metadata": {},
   "outputs": [],
   "source": [
    "\n",
    "forward_180_right_backwards_other1 = pd.read_csv(r\"..\\data\\forward_180\\proefpersoon1\\tussenpauzes\\forward_180_right_backwards_other_side_tim1.csv\", sep=';', header=0, skipinitialspace=True)\n",
    "\n",
    "forward_180_right_backwards_other2 = pd.read_csv(r\"..\\data\\forward_180\\proefpersoon1\\tussenpauzes\\forward_180_right_backwards_other_side_tim2.csv\", sep=';', header=0, skipinitialspace=True)\n"
   ]
  },
  {
   "cell_type": "code",
   "execution_count": null,
   "metadata": {},
   "outputs": [],
   "source": [
    "f1 =  forward_180_right_backwards_other1[forward_180_right_backwards_other1[\"time\"] <= 31867200000000]\n",
    "f2 =  forward_180_right_backwards_other1[(forward_180_right_backwards_other1[\"time\"] >= 31867200000000) & (forward_180_right_backwards_other1[\"time\"] <= 31871500000000)]\n",
    "f3 =  forward_180_right_backwards_other1[(forward_180_right_backwards_other1[\"time\"] >= 31871500000000) & (forward_180_right_backwards_other1[\"time\"] <= 31875700000000)]\n",
    "f4 =  forward_180_right_backwards_other1[(forward_180_right_backwards_other1[\"time\"] >= 31875700000000) & (forward_180_right_backwards_other1[\"time\"] <= 31880400000000)]\n",
    "f5 =  forward_180_right_backwards_other1[(forward_180_right_backwards_other1[\"time\"] >= 31880400000000) & (forward_180_right_backwards_other1[\"time\"] <= 31885400000000)]\n",
    "f6 =  forward_180_right_backwards_other1[(forward_180_right_backwards_other1[\"time\"] >= 31885400000000) & (forward_180_right_backwards_other1[\"time\"] <= 31889600000000)]\n",
    "f7 =  forward_180_right_backwards_other1[forward_180_right_backwards_other1[\"time\"] >= 31889600000000]\n",
    "\n",
    "f8 =  forward_180_right_backwards_other2[forward_180_right_backwards_other2[\"time\"] <= 31918500000000]"
   ]
  },
  {
   "cell_type": "code",
   "execution_count": null,
   "metadata": {},
   "outputs": [],
   "source": [
    "f1 = preprocess(f1, \"backward_180\", 1.8, 0.4)\n",
    "f2 = preprocess(f2, \"backward_180\", 1.2, 0.4)\n",
    "f3 = preprocess(f3, \"backward_180\", 1.2, 0.6)\n",
    "f4 = preprocess(f4, \"backward_180\", 1.2, 0.6)\n",
    "f5 = preprocess(f5, \"backward_180\", 2, 0.6)\n",
    "f6 = preprocess(f6, \"backward_180\", 1.2, 0.6)\n",
    "f7 = preprocess(f7, \"backward_180\", 1.2, 4.8)\n",
    "f8 = preprocess(f8, \"backward_180\", 1.5, 0.5)"
   ]
  },
  {
   "cell_type": "code",
   "execution_count": null,
   "metadata": {},
   "outputs": [],
   "source": [
    "forward_180_right_backwards_other_side_1 = [f1,f2, f3, f4, f5, f6, f7, f8]"
   ]
  },
  {
   "cell_type": "markdown",
   "metadata": {},
   "source": [
    "#### zonder tussenpauzes"
   ]
  },
  {
   "cell_type": "code",
   "execution_count": 16,
   "metadata": {},
   "outputs": [],
   "source": [
    "backward_180_right_lefta = pd.read_csv(\n",
    "    r\"..\\data\\forward_180\\proefpersoon1\\backward_180_right_left_tim1.csv\", \n",
    "    sep=';', header=0, skipinitialspace=True)\n",
    "\n",
    "backward_180_right_leftb = pd.read_csv(\n",
    "    r\"..\\data\\forward_180\\proefpersoon1\\backward_180_right_left_tim2.csv\", \n",
    "    sep=';', header=0, skipinitialspace=True)"
   ]
  },
  {
   "cell_type": "code",
   "execution_count": 17,
   "metadata": {},
   "outputs": [],
   "source": [
    "backward_180_right_lefta = preprocess(backward_180_right_lefta, \"backward_180\", \"right_left\",1, 3, 4)\n",
    "backward_180_right_leftb = preprocess(backward_180_right_leftb, \"backward_180\", \"right_left\",1)"
   ]
  },
  {
   "cell_type": "code",
   "execution_count": 18,
   "metadata": {},
   "outputs": [],
   "source": [
    "backward_180_right_left_1 = [backward_180_right_lefta, backward_180_right_leftb]"
   ]
  },
  {
   "cell_type": "code",
   "execution_count": 19,
   "metadata": {},
   "outputs": [],
   "source": [
    "for df in backward_180_right_left_1:\n",
    "    f = sampling_freq(df)\n",
    "    freq += f"
   ]
  },
  {
   "cell_type": "markdown",
   "metadata": {},
   "source": [
    "#### zonder tussenpauzes, zonder springen"
   ]
  },
  {
   "cell_type": "code",
   "execution_count": 80,
   "metadata": {},
   "outputs": [],
   "source": [
    "backward_180_right_left_nospringa = pd.read_csv(\n",
    "    r\"..\\data\\forward_180\\proefpersoon1\\backward_180_right_left_tim_nospring1.csv\", \n",
    "    sep=';', header=0, skipinitialspace=True)"
   ]
  },
  {
   "cell_type": "code",
   "execution_count": 81,
   "metadata": {},
   "outputs": [],
   "source": [
    "backward_180_right_left_nospringa = preprocess(backward_180_right_left_nospringa, \"backward_180\", \"right_left\",1, 10, 2.5)"
   ]
  },
  {
   "cell_type": "code",
   "execution_count": 82,
   "metadata": {},
   "outputs": [],
   "source": [
    "backward_180_right_left_1 = [backward_180_right_left_nospringa]"
   ]
  },
  {
   "cell_type": "code",
   "execution_count": 83,
   "metadata": {},
   "outputs": [],
   "source": [
    "for df in backward_180_right_left_1:\n",
    "    f = sampling_freq(df)\n",
    "    freq += f"
   ]
  },
  {
   "cell_type": "markdown",
   "metadata": {},
   "source": [
    "### SEGMENTATION"
   ]
  },
  {
   "cell_type": "code",
   "execution_count": 44,
   "metadata": {},
   "outputs": [],
   "source": [
    "if( not raw):\n",
    "    #segmentation + feature extraction\n",
    "    for i in range(0, len(backward_180_left_right_1)):\n",
    "        backward_180_left_right_1[i] =  feature_extraction_segmentation(backward_180_left_right_1[i],1, True)\n",
    "\n",
    "    for i in range(0, len(backward_180_right_right_1)):\n",
    "        backward_180_right_right_1[i] =  feature_extraction_segmentation(backward_180_right_right_1[i],1, True)\n",
    "\n",
    "    for i in range(0, len(backward_180_left_left_1)):\n",
    "        backward_180_left_left_1[i] =  feature_extraction_segmentation(backward_180_left_left_1[i],1, True)\n",
    "    \n",
    "    for i in range(0, len(backward_180_right_left_1)):\n",
    "        backward_180_right_left_1[i] =  feature_extraction_segmentation(backward_180_right_left_1[i],1, True)"
   ]
  },
  {
   "cell_type": "code",
   "execution_count": 20,
   "metadata": {},
   "outputs": [
    {
     "data": {
      "text/plain": [
       "(2885, 7)"
      ]
     },
     "execution_count": 20,
     "metadata": {},
     "output_type": "execute_result"
    }
   ],
   "source": [
    "backward_180_left_right_1 = pd.concat(backward_180_left_right_1, ignore_index=True)\n",
    "backward_180_left_right_1.shape"
   ]
  },
  {
   "cell_type": "code",
   "execution_count": 21,
   "metadata": {},
   "outputs": [
    {
     "data": {
      "text/plain": [
       "(3226, 7)"
      ]
     },
     "execution_count": 21,
     "metadata": {},
     "output_type": "execute_result"
    }
   ],
   "source": [
    "backward_180_right_right_1 = pd.concat(backward_180_right_right_1, ignore_index=True)\n",
    "backward_180_right_right_1.shape"
   ]
  },
  {
   "cell_type": "code",
   "execution_count": 22,
   "metadata": {},
   "outputs": [
    {
     "data": {
      "text/plain": [
       "(3017, 7)"
      ]
     },
     "execution_count": 22,
     "metadata": {},
     "output_type": "execute_result"
    }
   ],
   "source": [
    "backward_180_left_left_1 = pd.concat(backward_180_left_left_1, ignore_index=True)\n",
    "backward_180_left_left_1.shape"
   ]
  },
  {
   "cell_type": "code",
   "execution_count": 23,
   "metadata": {},
   "outputs": [
    {
     "data": {
      "text/plain": [
       "(3865, 7)"
      ]
     },
     "execution_count": 23,
     "metadata": {},
     "output_type": "execute_result"
    }
   ],
   "source": [
    "backward_180_right_left_1 = pd.concat(backward_180_right_left_1, ignore_index=True)\n",
    "backward_180_right_left_1.shape"
   ]
  },
  {
   "cell_type": "markdown",
   "metadata": {},
   "source": [
    "### SHUFFLE - BALANCING"
   ]
  },
  {
   "cell_type": "code",
   "execution_count": 31,
   "metadata": {},
   "outputs": [
    {
     "data": {
      "text/plain": [
       "4508"
      ]
     },
     "execution_count": 31,
     "metadata": {},
     "output_type": "execute_result"
    }
   ],
   "source": [
    "shape = np.min([\n",
    "    backward_180_left_right_1.shape[0], \n",
    "    backward_180_right_right_1.shape[0], \n",
    "    backward_180_left_left_1.shape[0], \n",
    "    backward_180_right_left_1.shape[0]])\n",
    "shape"
   ]
  },
  {
   "cell_type": "markdown",
   "metadata": {},
   "source": [
    "#### shuffle"
   ]
  },
  {
   "cell_type": "code",
   "execution_count": 29,
   "metadata": {},
   "outputs": [],
   "source": [
    "''' \n",
    "backward_180_left_right_1 = shuffle(backward_180_left_right_1).head(shape).copy()\n",
    "backward_180_right_right_1 = shuffle(backward_180_right_right_1).head(shape).copy()\n",
    "backward_180_left_left_1 = shuffle(backward_180_left_left_1).head(shape).copy()\n",
    "backward_180_right_left_1 = shuffle(backward_180_right_left_1).head(shape).copy()'''"
   ]
  },
  {
   "cell_type": "markdown",
   "metadata": {},
   "source": [
    "#### no shuffle"
   ]
  },
  {
   "cell_type": "code",
   "execution_count": 32,
   "metadata": {},
   "outputs": [],
   "source": [
    "''' \n",
    "backward_180_left_right_1 = backward_180_left_right_1.head(shape).copy()\n",
    "backward_180_right_right_1 = backward_180_right_right_1.head(shape).copy()\n",
    "backward_180_left_left_1 = backward_180_left_left_1.head(shape).copy()\n",
    "backward_180_right_left_1 = backward_180_right_left_1.head(shape).copy()'''"
   ]
  },
  {
   "cell_type": "code",
   "execution_count": 33,
   "metadata": {},
   "outputs": [],
   "source": [
    "#backward_180_1 = pd.concat([backward_180_left_right_1, backward_180_right_right_1, backward_180_left_left_1, backward_180_right_left_1])"
   ]
  },
  {
   "cell_type": "markdown",
   "metadata": {},
   "source": [
    "# <font color='green' >PROEFPERSOON 2"
   ]
  },
  {
   "cell_type": "markdown",
   "metadata": {},
   "source": [
    "## backward 180"
   ]
  },
  {
   "cell_type": "code",
   "execution_count": 60,
   "metadata": {},
   "outputs": [],
   "source": [
    "backward_180_left_right_2 = []\n",
    "backward_180_right_right_2= []\n",
    "backward_180_left_left_2 = []\n",
    "backward_180_right_left_2= []"
   ]
  },
  {
   "cell_type": "markdown",
   "metadata": {},
   "source": [
    "#### backward_180_left_right"
   ]
  },
  {
   "cell_type": "markdown",
   "metadata": {},
   "source": [
    "#### tussenpauze"
   ]
  },
  {
   "cell_type": "code",
   "execution_count": 13,
   "metadata": {},
   "outputs": [],
   "source": [
    "\n",
    "forward_180_left_backwards1 = pd.read_csv(r\"..\\data\\forward_180\\proefpersoon2\\tussenpauzes\\forward_180_left_backwards1.csv\", sep=';', header=0, skipinitialspace=True)\n",
    "\n",
    "forward_180_left_backwards2 = pd.read_csv(r\"..\\data\\forward_180\\proefpersoon2\\tussenpauzes\\forward_180_left_backwards2.csv\", sep=';', header=0, skipinitialspace=True)\n",
    "forward_180_left_backwards3 = pd.read_csv(r\"..\\data\\forward_180\\proefpersoon2\\tussenpauzes\\forward_180_left_backwards3.csv\", sep=';', header=0, skipinitialspace=True)"
   ]
  },
  {
   "cell_type": "code",
   "execution_count": 292,
   "metadata": {},
   "outputs": [],
   "source": [
    "f1 =  forward_180_left_backwards1[(forward_180_left_backwards1[\"time\"] <= 11248600000000)]\n",
    "f2 =  forward_180_left_backwards1[(forward_180_left_backwards1[\"time\"] >= 11248600000000) & (forward_180_left_backwards1[\"time\"] <= 11253300000000)]\n",
    "f3 =  forward_180_left_backwards1[(forward_180_left_backwards1[\"time\"] >= 11253300000000) & (forward_180_left_backwards1[\"time\"] <= 11258300000000)]\n",
    "f4 =  forward_180_left_backwards1[(forward_180_left_backwards1[\"time\"] >= 11258300000000) & (forward_180_left_backwards1[\"time\"] <= 11263400000000)]\n",
    "f5 =  forward_180_left_backwards1[(forward_180_left_backwards1[\"time\"] >= 11263400000000) & (forward_180_left_backwards1[\"time\"] <= 11268300000000)]\n",
    "f6 =  forward_180_left_backwards1[(forward_180_left_backwards1[\"time\"] >= 11268300000000) & (forward_180_left_backwards1[\"time\"] <= 11273000000000)]\n",
    "f7 =  forward_180_left_backwards1[(forward_180_left_backwards1[\"time\"] >= 11273000000000)]\n",
    "\n",
    "f8 =  forward_180_left_backwards2[(forward_180_left_backwards2[\"time\"] <= 11287300000000)]"
   ]
  },
  {
   "cell_type": "code",
   "execution_count": 293,
   "metadata": {},
   "outputs": [],
   "source": [
    "f1 = preprocess(f1, \"backward_180\", 1, 0.7)\n",
    "f2 = preprocess(f2, \"backward_180\", 1, 1)\n",
    "f3 = preprocess(f3, \"backward_180\", 1.3, 0.9)\n",
    "f4 = preprocess(f4, \"backward_180\", 1.4, 0.9)\n",
    "f5 = preprocess(f5, \"backward_180\", 1.2, 1)\n",
    "f6 = preprocess(f6, \"backward_180\", 1.1, 1)\n",
    "f7 = preprocess(f7, \"backward_180\", 1.2, 2.4)\n",
    "f8 = preprocess(f8, \"backward_180\", 2, 1.1)"
   ]
  },
  {
   "cell_type": "code",
   "execution_count": 295,
   "metadata": {},
   "outputs": [],
   "source": [
    "forward_180_left_backwards_2 = [f1, f2, f3, f4, f5, f6, f7, f8]"
   ]
  },
  {
   "cell_type": "markdown",
   "metadata": {},
   "source": [
    "#### zonder tussenpauzes"
   ]
  },
  {
   "cell_type": "code",
   "execution_count": 9,
   "metadata": {},
   "outputs": [],
   "source": [
    "backward_180_left_right_2a = pd.read_csv(\n",
    "    r\"..\\data\\forward_180\\proefpersoon2\\backward_180_left_right.csv\", \n",
    "    sep=';', header=0, skipinitialspace=True)\n"
   ]
  },
  {
   "cell_type": "code",
   "execution_count": 10,
   "metadata": {},
   "outputs": [],
   "source": [
    "backward_180_left_right_2a = preprocess(backward_180_left_right_2a, \"backward_180\", \"left_right\", 2)"
   ]
  },
  {
   "cell_type": "code",
   "execution_count": 27,
   "metadata": {},
   "outputs": [],
   "source": [
    "backward_180_left_right_2 = [backward_180_left_right_2a]"
   ]
  },
  {
   "cell_type": "code",
   "execution_count": 112,
   "metadata": {},
   "outputs": [],
   "source": [
    "for df in backward_180_left_right_2:\n",
    "    f = sampling_freq(df)\n",
    "    freq += f"
   ]
  },
  {
   "cell_type": "markdown",
   "metadata": {},
   "source": [
    "#### zonder tussenpauzes, zonder springen"
   ]
  },
  {
   "cell_type": "code",
   "execution_count": 88,
   "metadata": {},
   "outputs": [],
   "source": [
    "backward_180_nospringa = pd.read_csv(\n",
    "    r\"..\\data\\forward_180\\proefpersoon2\\backward_180_left_right_nospring1.csv\", \n",
    "    sep=';', header=0, skipinitialspace=True)"
   ]
  },
  {
   "cell_type": "code",
   "execution_count": 89,
   "metadata": {},
   "outputs": [],
   "source": [
    "backward_180_nospringa = preprocess(backward_180_nospringa, \"backward_180\", \"left_right\",2, 3, 2.2)"
   ]
  },
  {
   "cell_type": "code",
   "execution_count": 90,
   "metadata": {},
   "outputs": [],
   "source": [
    "backward_180_left_right_2 = [backward_180_nospringa]"
   ]
  },
  {
   "cell_type": "code",
   "execution_count": 91,
   "metadata": {},
   "outputs": [],
   "source": [
    "for df in backward_180_left_right_2:\n",
    "    f = sampling_freq(df)\n",
    "    freq += f"
   ]
  },
  {
   "cell_type": "markdown",
   "metadata": {},
   "source": [
    "#### backward_180_right_right"
   ]
  },
  {
   "cell_type": "markdown",
   "metadata": {},
   "source": [
    "#### tussenpauzes"
   ]
  },
  {
   "cell_type": "code",
   "execution_count": 14,
   "metadata": {},
   "outputs": [],
   "source": [
    "\n",
    "forward_180_right_backwards2 = pd.read_csv(r\"..\\data\\forward_180\\proefpersoon2\\tussenpauzes\\forward_180_right_backwards2.csv\", sep=';', header=0, skipinitialspace=True)\n",
    "\n",
    "forward_180_right_backwards3 = pd.read_csv(r\"..\\data\\forward_180\\proefpersoon2\\tussenpauzes\\forward_180_right_backwards3.csv\", sep=';', header=0, skipinitialspace=True)"
   ]
  },
  {
   "cell_type": "code",
   "execution_count": 299,
   "metadata": {},
   "outputs": [],
   "source": [
    "f1 =  forward_180_right_backwards2[(forward_180_right_backwards2[\"time\"] <= 11719400000000)]\n",
    "f2 =  forward_180_right_backwards2[(forward_180_right_backwards2[\"time\"] >= 11719400000000) & (forward_180_right_backwards2[\"time\"] <= 11723600000000)]\n",
    "f3 =  forward_180_right_backwards2[(forward_180_right_backwards2[\"time\"] >= 11723600000000) & (forward_180_right_backwards2[\"time\"] <= 11727900000000)]\n",
    "f4 =  forward_180_right_backwards2[(forward_180_right_backwards2[\"time\"] >= 11727900000000) ]\n",
    "\n",
    "f5 =  forward_180_right_backwards3[(forward_180_right_backwards3[\"time\"] >= 11736100000000) & (forward_180_right_backwards3[\"time\"] <= 11740600000000)]\n",
    "f6 =  forward_180_right_backwards3[(forward_180_right_backwards3[\"time\"] >= 11740600000000) & (forward_180_right_backwards3[\"time\"] <= 11744900000000)]\n",
    "f7 =  forward_180_right_backwards3[(forward_180_right_backwards3[\"time\"] >= 11744900000000) & (forward_180_right_backwards3[\"time\"] <= 11749400000000)]\n",
    "f8 =  forward_180_right_backwards3[(forward_180_right_backwards3[\"time\"] >= 11749400000000) & (forward_180_right_backwards3[\"time\"] <= 11754200000000)]"
   ]
  },
  {
   "cell_type": "code",
   "execution_count": 300,
   "metadata": {},
   "outputs": [],
   "source": [
    "f1 = preprocess(f1, \"backward_180\", 0.2, 0.7)\n",
    "f2 = preprocess(f2, \"backward_180\", 0.7, 1)\n",
    "f3 = preprocess(f3, \"backward_180\", 0.7, 1)\n",
    "f4 = preprocess(f4, \"backward_180\", 0.8, 1.3)\n",
    "f5 = preprocess(f5, \"backward_180\", 1, 1.1)\n",
    "f6 = preprocess(f6, \"backward_180\", 0.9, 0.8)\n",
    "f7 = preprocess(f7, \"backward_180\", 0.8, 1.1)\n",
    "f8 = preprocess(f8, \"backward_180\", 1.3, 1)"
   ]
  },
  {
   "cell_type": "code",
   "execution_count": 302,
   "metadata": {},
   "outputs": [],
   "source": [
    "forward_180_right_backwards_2 = [f1, f2, f3, f4, f5, f6, f7, f8]"
   ]
  },
  {
   "cell_type": "markdown",
   "metadata": {},
   "source": [
    "#### zonder tussenpauzes"
   ]
  },
  {
   "cell_type": "code",
   "execution_count": 28,
   "metadata": {},
   "outputs": [],
   "source": [
    "backward_180_right_right_2a = pd.read_csv(\n",
    "    r\"..\\data\\forward_180\\proefpersoon2\\backward_180_right_right1.csv\", \n",
    "    sep=';', header=0, skipinitialspace=True)\n"
   ]
  },
  {
   "cell_type": "code",
   "execution_count": 29,
   "metadata": {},
   "outputs": [],
   "source": [
    "backward_180_right_right_2a = preprocess(backward_180_right_right_2a, \"backward_180\", \"right_right\", 2)"
   ]
  },
  {
   "cell_type": "code",
   "execution_count": 30,
   "metadata": {},
   "outputs": [],
   "source": [
    "backward_180_right_right_2 = [backward_180_right_right_2a]"
   ]
  },
  {
   "cell_type": "code",
   "execution_count": 31,
   "metadata": {},
   "outputs": [],
   "source": [
    "for df in backward_180_right_right_2:\n",
    "    f = sampling_freq(df)\n",
    "    freq += f"
   ]
  },
  {
   "cell_type": "markdown",
   "metadata": {},
   "source": [
    "#### zonder tussenpauzes, zonder springen"
   ]
  },
  {
   "cell_type": "code",
   "execution_count": 92,
   "metadata": {},
   "outputs": [],
   "source": [
    "backward_180_right_right_nospringa = pd.read_csv(\n",
    "    r\"..\\data\\forward_180\\proefpersoon2\\backward_180_right_right_nospring_handenbijelkqat.csv\", \n",
    "    sep=';', header=0, skipinitialspace=True)"
   ]
  },
  {
   "cell_type": "code",
   "execution_count": 93,
   "metadata": {},
   "outputs": [],
   "source": [
    "backward_180_right_right_nospringa = preprocess(backward_180_right_right_nospringa, \"backward_180\", \"right_right\",2, 5.5, 6.5)"
   ]
  },
  {
   "cell_type": "code",
   "execution_count": 95,
   "metadata": {},
   "outputs": [],
   "source": [
    "backward_180_right_right_2 = [backward_180_right_right_nospringa]"
   ]
  },
  {
   "cell_type": "code",
   "execution_count": 96,
   "metadata": {},
   "outputs": [],
   "source": [
    "for df in backward_180_right_right_2:\n",
    "    f = sampling_freq(df)\n",
    "    freq += f"
   ]
  },
  {
   "cell_type": "markdown",
   "metadata": {},
   "source": [
    "#### backward_180_left_left"
   ]
  },
  {
   "cell_type": "markdown",
   "metadata": {},
   "source": [
    "#### tussenpauzes"
   ]
  },
  {
   "cell_type": "code",
   "execution_count": 15,
   "metadata": {},
   "outputs": [],
   "source": [
    "\n",
    "forward_180_left_otherside1 = pd.read_csv(r\"..\\data\\forward_180\\proefpersoon2\\tussenpauzes\\forward_180_left_back_otherside1.csv\", sep=';', header=0, skipinitialspace=True)"
   ]
  },
  {
   "cell_type": "code",
   "execution_count": 306,
   "metadata": {},
   "outputs": [],
   "source": [
    "f1 =  forward_180_left_otherside1[(forward_180_left_otherside1[\"time\"] <= 20761300000000)]\n",
    "f2 =  forward_180_left_otherside1[(forward_180_left_otherside1[\"time\"] >= 20761300000000) & (forward_180_left_otherside1[\"time\"] <= 20766800000000)]\n",
    "f3 =  forward_180_left_otherside1[(forward_180_left_otherside1[\"time\"] >= 20766800000000) & (forward_180_left_otherside1[\"time\"] <= 20772100000000)]\n",
    "f4 =  forward_180_left_otherside1[(forward_180_left_otherside1[\"time\"] >= 20772100000000) & (forward_180_left_otherside1[\"time\"] <= 20777400000000)]\n",
    "f5 =  forward_180_left_otherside1[(forward_180_left_otherside1[\"time\"] >= 20777400000000) & (forward_180_left_otherside1[\"time\"] <= 20782700000000)]\n",
    "f6 =  forward_180_left_otherside1[(forward_180_left_otherside1[\"time\"] >= 20782700000000) & (forward_180_left_otherside1[\"time\"] <= 20787800000000)]\n",
    "f7 =  forward_180_left_otherside1[(forward_180_left_otherside1[\"time\"] >= 20787800000000) & (forward_180_left_otherside1[\"time\"] <= 20793100000000)]\n",
    "f8 =  forward_180_left_otherside1[(forward_180_left_otherside1[\"time\"] >= 20793100000000) & (forward_180_left_otherside1[\"time\"] <= 20798900000000)]"
   ]
  },
  {
   "cell_type": "code",
   "execution_count": 307,
   "metadata": {},
   "outputs": [],
   "source": [
    "f1 = preprocess(f1, \"backward_180\", 1.7, 1.1)\n",
    "f2 = preprocess(f2, \"backward_180\", 1.6, 1.7)\n",
    "f3 = preprocess(f3, \"backward_180\", 1.7, 1.1)\n",
    "f4 = preprocess(f4, \"backward_180\", 1.7, 1.1)\n",
    "f5 = preprocess(f5, \"backward_180\", 1.8, 1.2)\n",
    "f6 = preprocess(f6, \"backward_180\", 1.5, 1.3)\n",
    "f7 = preprocess(f7, \"backward_180\", 1.5, 1.3)\n",
    "f8 = preprocess(f8, \"backward_180\", 1.8, 1.5)"
   ]
  },
  {
   "cell_type": "code",
   "execution_count": 309,
   "metadata": {},
   "outputs": [],
   "source": [
    "forward_180_left_other_side_2 = [f1, f2, f3, f4, f5, f6, f7, f8]"
   ]
  },
  {
   "cell_type": "markdown",
   "metadata": {},
   "source": [
    "#### zonder tussenpauzes"
   ]
  },
  {
   "cell_type": "code",
   "execution_count": 33,
   "metadata": {},
   "outputs": [],
   "source": [
    "backward_180_left_left_2a = pd.read_csv(\n",
    "    r\"..\\data\\forward_180\\proefpersoon2\\backward_180_left_left.csv\", \n",
    "    sep=';', header=0, skipinitialspace=True)\n"
   ]
  },
  {
   "cell_type": "code",
   "execution_count": 34,
   "metadata": {},
   "outputs": [],
   "source": [
    "backward_180_left_left_2a = preprocess(backward_180_left_left_2a, \"backward_180\", \"left_left\", 2)"
   ]
  },
  {
   "cell_type": "code",
   "execution_count": 35,
   "metadata": {},
   "outputs": [],
   "source": [
    "backward_180_left_left_2 = [backward_180_left_left_2a]"
   ]
  },
  {
   "cell_type": "code",
   "execution_count": 36,
   "metadata": {},
   "outputs": [],
   "source": [
    "for df in backward_180_left_left_2:\n",
    "    f = sampling_freq(df)\n",
    "    freq += f"
   ]
  },
  {
   "cell_type": "markdown",
   "metadata": {},
   "source": [
    "#### zonder tussenpauzes, zonder springen"
   ]
  },
  {
   "cell_type": "code",
   "execution_count": 32,
   "metadata": {},
   "outputs": [],
   "source": [
    "backward_180_left_left_nospringa = pd.read_csv(\n",
    "    r\"..\\data\\forward_180\\proefpersoon2\\backward_180_left_left_nospring.csv\", \n",
    "    sep=';', header=0, skipinitialspace=True)"
   ]
  },
  {
   "cell_type": "code",
   "execution_count": 99,
   "metadata": {},
   "outputs": [],
   "source": [
    "backward_180_left_left_nospringa = preprocess(backward_180_left_left_nospringa, \"backward_180\", \"left_left\",2, 5.3, 5.5)"
   ]
  },
  {
   "cell_type": "code",
   "execution_count": 100,
   "metadata": {},
   "outputs": [],
   "source": [
    "backward_180_left_left_2 = [backward_180_left_left_nospringa]"
   ]
  },
  {
   "cell_type": "code",
   "execution_count": 101,
   "metadata": {},
   "outputs": [],
   "source": [
    "for df in backward_180_left_left_2:\n",
    "    f = sampling_freq(df)\n",
    "    freq += f"
   ]
  },
  {
   "cell_type": "markdown",
   "metadata": {},
   "source": [
    "#### backward_180_right_left_2"
   ]
  },
  {
   "cell_type": "markdown",
   "metadata": {},
   "source": [
    "#### tussenpauzes"
   ]
  },
  {
   "cell_type": "code",
   "execution_count": 16,
   "metadata": {},
   "outputs": [],
   "source": [
    "forward_180_right_otherside1 = pd.read_csv(r\"..\\data\\forward_180\\proefpersoon2\\tussenpauzes\\forward_180_right_backwards_otherside.csv\", sep=';', header=0, skipinitialspace=True)"
   ]
  },
  {
   "cell_type": "code",
   "execution_count": 313,
   "metadata": {},
   "outputs": [],
   "source": [
    "f1 =  forward_180_right_otherside1[(forward_180_right_otherside1[\"time\"] <= 21087100000000)]\n",
    "f2 =  forward_180_right_otherside1[(forward_180_right_otherside1[\"time\"] >= 21087100000000) & (forward_180_right_otherside1[\"time\"] <= 21091500000000)]\n",
    "f3 =  forward_180_right_otherside1[(forward_180_right_otherside1[\"time\"] >= 21091500000000) & (forward_180_right_otherside1[\"time\"] <= 21095700000000)]\n",
    "f4 =  forward_180_right_otherside1[(forward_180_right_otherside1[\"time\"] >= 21095700000000) & (forward_180_right_otherside1[\"time\"] <= 21100000000000)]\n",
    "f5 =  forward_180_right_otherside1[(forward_180_right_otherside1[\"time\"] >= 21100000000000) & (forward_180_right_otherside1[\"time\"] <= 21104500000000)]\n",
    "f6 =  forward_180_right_otherside1[(forward_180_right_otherside1[\"time\"] >= 21104500000000) & (forward_180_right_otherside1[\"time\"] <= 21109700000000)]\n",
    "f7 =  forward_180_right_otherside1[(forward_180_right_otherside1[\"time\"] >= 21109700000000) & (forward_180_right_otherside1[\"time\"] <= 21115000000000)]\n",
    "f8 =  forward_180_right_otherside1[(forward_180_right_otherside1[\"time\"] >= 21115000000000) & (forward_180_right_otherside1[\"time\"] <= 21119800000000)]"
   ]
  },
  {
   "cell_type": "code",
   "execution_count": 314,
   "metadata": {},
   "outputs": [],
   "source": [
    "f1 = preprocess(f1, \"backward_180\", 1.3, 0.5)\n",
    "f2 = preprocess(f2, \"backward_180\", 1, 0.7)\n",
    "f3 = preprocess(f3, \"backward_180\", 0.8, 0.7)\n",
    "f4 = preprocess(f4, \"backward_180\", 0.9, 0.7)\n",
    "f5 = preprocess(f5, \"backward_180\", 1, 0.7)\n",
    "f6 = preprocess(f6, \"backward_180\", 0.9, 1.6)\n",
    "f7 = preprocess(f7, \"backward_180\", 1.7, 0.8)\n",
    "f8 = preprocess(f8, \"backward_180\", 1, 0.8)"
   ]
  },
  {
   "cell_type": "code",
   "execution_count": 316,
   "metadata": {},
   "outputs": [],
   "source": [
    "forward_180_right_other_side_2 = [f1, f2, f3, f4, f5, f6, f7, f8]"
   ]
  },
  {
   "cell_type": "markdown",
   "metadata": {},
   "source": [
    "#### zonder tussenpauzes"
   ]
  },
  {
   "cell_type": "code",
   "execution_count": 37,
   "metadata": {},
   "outputs": [],
   "source": [
    "backward_180_right_left_2a = pd.read_csv(\n",
    "    r\"..\\data\\forward_180\\proefpersoon2\\backward_180_right_left1.csv\", \n",
    "    sep=';', header=0, skipinitialspace=True)\n"
   ]
  },
  {
   "cell_type": "code",
   "execution_count": 38,
   "metadata": {},
   "outputs": [],
   "source": [
    "backward_180_right_left_2a = preprocess(backward_180_right_left_2a, \"backward_180\", \"right_left\", 2)"
   ]
  },
  {
   "cell_type": "code",
   "execution_count": 39,
   "metadata": {},
   "outputs": [],
   "source": [
    "backward_180_right_left_2 = [backward_180_right_left_2a]"
   ]
  },
  {
   "cell_type": "code",
   "execution_count": 40,
   "metadata": {},
   "outputs": [],
   "source": [
    "for df in backward_180_right_left_2:\n",
    "    f = sampling_freq(df)\n",
    "    freq += f"
   ]
  },
  {
   "cell_type": "markdown",
   "metadata": {},
   "source": [
    "#### zonder tussenpauzes, zonder springen"
   ]
  },
  {
   "cell_type": "code",
   "execution_count": 106,
   "metadata": {},
   "outputs": [],
   "source": [
    "backward_180_right_left_nospringa = pd.read_csv(\n",
    "    r\"..\\data\\forward_180\\proefpersoon2\\backward_180_right_left_nospring.csv\", \n",
    "    sep=';', header=0, skipinitialspace=True)"
   ]
  },
  {
   "cell_type": "code",
   "execution_count": 107,
   "metadata": {},
   "outputs": [],
   "source": [
    "backward_180_right_left_nospringa = preprocess(backward_180_right_left_nospringa, \"backward_180\", \"right_left\",2, 4.5, 5)"
   ]
  },
  {
   "cell_type": "code",
   "execution_count": 108,
   "metadata": {},
   "outputs": [],
   "source": [
    "backward_180_right_left_2 = [backward_180_right_left_nospringa]"
   ]
  },
  {
   "cell_type": "code",
   "execution_count": 109,
   "metadata": {},
   "outputs": [],
   "source": [
    "for df in backward_180_right_left_2:\n",
    "    f = sampling_freq(df)\n",
    "    freq += f"
   ]
  },
  {
   "cell_type": "markdown",
   "metadata": {},
   "source": [
    "### SEGMENTATION"
   ]
  },
  {
   "cell_type": "code",
   "execution_count": 69,
   "metadata": {},
   "outputs": [],
   "source": [
    "if( not raw):\n",
    "    #segmentation + feature extraction\n",
    "    for i in range(0, len(backward_180_left_right_2)):\n",
    "        backward_180_left_right_2[i] =  feature_extraction_segmentation(backward_180_left_right_2[i],1, True)\n",
    "\n",
    "    for i in range(0, len(backward_180_right_right_2)):\n",
    "        backward_180_right_right_2[i] =  feature_extraction_segmentation(backward_180_right_right_2[i],1, True)\n",
    "\n",
    "    for i in range(0, len(backward_180_left_left_2)):\n",
    "        backward_180_left_left_2[i] =  feature_extraction_segmentation(backward_180_left_left_2[i],1, True)\n",
    "    \n",
    "    for i in range(0, len(backward_180_right_left_2)):\n",
    "        backward_180_right_left_2[i] =  feature_extraction_segmentation(backward_180_right_left_2[i],1, True)"
   ]
  },
  {
   "cell_type": "code",
   "execution_count": 41,
   "metadata": {},
   "outputs": [
    {
     "data": {
      "text/plain": [
       "(2840, 7)"
      ]
     },
     "execution_count": 41,
     "metadata": {},
     "output_type": "execute_result"
    }
   ],
   "source": [
    "backward_180_left_right_2 = pd.concat(backward_180_left_right_2, ignore_index=True)\n",
    "backward_180_left_right_2.shape"
   ]
  },
  {
   "cell_type": "code",
   "execution_count": 42,
   "metadata": {},
   "outputs": [
    {
     "data": {
      "text/plain": [
       "(3823, 7)"
      ]
     },
     "execution_count": 42,
     "metadata": {},
     "output_type": "execute_result"
    }
   ],
   "source": [
    "backward_180_right_right_2 = pd.concat(backward_180_right_right_2, ignore_index=True)\n",
    "backward_180_right_right_2.shape"
   ]
  },
  {
   "cell_type": "code",
   "execution_count": 43,
   "metadata": {},
   "outputs": [
    {
     "data": {
      "text/plain": [
       "(3036, 7)"
      ]
     },
     "execution_count": 43,
     "metadata": {},
     "output_type": "execute_result"
    }
   ],
   "source": [
    "backward_180_left_left_2 = pd.concat(backward_180_left_left_2, ignore_index=True)\n",
    "backward_180_left_left_2.shape"
   ]
  },
  {
   "cell_type": "code",
   "execution_count": 44,
   "metadata": {},
   "outputs": [
    {
     "data": {
      "text/plain": [
       "(4437, 7)"
      ]
     },
     "execution_count": 44,
     "metadata": {},
     "output_type": "execute_result"
    }
   ],
   "source": [
    "backward_180_right_left_2 = pd.concat(backward_180_right_left_2, ignore_index=True)\n",
    "backward_180_right_left_2.shape"
   ]
  },
  {
   "cell_type": "markdown",
   "metadata": {},
   "source": [
    "### SHUFFLE - BALANCING"
   ]
  },
  {
   "cell_type": "code",
   "execution_count": 81,
   "metadata": {},
   "outputs": [],
   "source": [
    "shape = np.min([\n",
    "    backward_180_left_right_2.shape[0], \n",
    "    backward_180_right_right_2.shape[0], \n",
    "    backward_180_left_left_2.shape[0], \n",
    "    backward_180_right_left_2.shape[0]])"
   ]
  },
  {
   "cell_type": "markdown",
   "metadata": {},
   "source": [
    "#### shuffle"
   ]
  },
  {
   "cell_type": "code",
   "execution_count": 53,
   "metadata": {},
   "outputs": [],
   "source": [
    "'''\n",
    "backward_180_left_right_2 = shuffle(backward_180_left_right_2).head(shape).copy()\n",
    "backward_180_right_right_2 = shuffle(backward_180_right_right_2).head(shape).copy()\n",
    "backward_180_left_left_2 = shuffle(backward_180_left_left_2).head(shape).copy()\n",
    "backward_180_right_left_2 = shuffle(backward_180_right_left_2).head(shape).copy() '''"
   ]
  },
  {
   "cell_type": "markdown",
   "metadata": {},
   "source": [
    "#### no shuffle"
   ]
  },
  {
   "cell_type": "code",
   "execution_count": 55,
   "metadata": {},
   "outputs": [],
   "source": [
    "''' \n",
    "backward_180_left_right_2 = backward_180_left_right_2.head(shape).copy()\n",
    "backward_180_right_right_2 = backward_180_right_right_2.head(shape).copy()\n",
    "backward_180_left_left_2 = backward_180_left_left_2.head(shape).copy()\n",
    "backward_180_right_left_2 = backward_180_right_left_2.head(shape).copy()'''"
   ]
  },
  {
   "cell_type": "code",
   "execution_count": 56,
   "metadata": {},
   "outputs": [],
   "source": [
    "''' \n",
    "backward_180_2 = pd.concat([\n",
    "    backward_180_left_right_2, \n",
    "    backward_180_right_right_2, \n",
    "    backward_180_left_left_2, \n",
    "    backward_180_right_left_2])'''"
   ]
  },
  {
   "cell_type": "markdown",
   "metadata": {},
   "source": [
    "# <font color='green'> Frequency"
   ]
  },
  {
   "cell_type": "code",
   "execution_count": 55,
   "metadata": {},
   "outputs": [
    {
     "data": {
      "text/plain": [
       "8.09065359749383"
      ]
     },
     "execution_count": 55,
     "metadata": {},
     "output_type": "execute_result"
    }
   ],
   "source": [
    "#mean\n",
    "freq = freq/64\n",
    "freq"
   ]
  },
  {
   "cell_type": "markdown",
   "metadata": {},
   "source": [
    "# <font color='green'> Merging datasets"
   ]
  },
  {
   "cell_type": "code",
   "execution_count": 57,
   "metadata": {},
   "outputs": [],
   "source": [
    "shape = np.min([\n",
    "    backward_180_1.shape[0],\n",
    "    backward_180_2.shape[0]\n",
    "])"
   ]
  },
  {
   "cell_type": "markdown",
   "metadata": {},
   "source": [
    "#### shuffle"
   ]
  },
  {
   "cell_type": "code",
   "execution_count": 187,
   "metadata": {},
   "outputs": [
    {
     "data": {
      "text/plain": [
       "(34488, 7)"
      ]
     },
     "execution_count": 187,
     "metadata": {},
     "output_type": "execute_result"
    }
   ],
   "source": [
    "''' \n",
    "dataset = pd.concat([\n",
    "    shuffle(backward_180_1).head(shape),\n",
    "    shuffle(backward_180_2).head(shape)\n",
    "])\n",
    "dataset.shape'''"
   ]
  },
  {
   "cell_type": "markdown",
   "metadata": {},
   "source": [
    "#### no shuffle"
   ]
  },
  {
   "cell_type": "code",
   "execution_count": 58,
   "metadata": {},
   "outputs": [
    {
     "data": {
      "text/plain": [
       "(34488, 7)"
      ]
     },
     "execution_count": 58,
     "metadata": {},
     "output_type": "execute_result"
    }
   ],
   "source": [
    "''' \n",
    "dataset = pd.concat([\n",
    "    backward_180_1.head(shape),\n",
    "    backward_180_2.head(shape)\n",
    "])\n",
    "dataset.shape'''"
   ]
  },
  {
   "cell_type": "code",
   "execution_count": 45,
   "metadata": {},
   "outputs": [],
   "source": [
    "backward_180_left_right = pd.concat([\n",
    "    backward_180_left_right_1,\n",
    "    backward_180_left_right_2\n",
    "])\n",
    "backward_180_right_right = pd.concat([\n",
    "    backward_180_right_right_1,\n",
    "    backward_180_right_right_2\n",
    "])\n",
    "backward_180_left_left = pd.concat([\n",
    "    backward_180_left_left_1,\n",
    "    backward_180_left_left_2\n",
    "])\n",
    "backward_180_right_left = pd.concat([\n",
    "    backward_180_right_left_1,\n",
    "    backward_180_right_left_2\n",
    "])"
   ]
  },
  {
   "cell_type": "code",
   "execution_count": 46,
   "metadata": {},
   "outputs": [
    {
     "data": {
      "text/plain": [
       "(8302, 7)"
      ]
     },
     "execution_count": 46,
     "metadata": {},
     "output_type": "execute_result"
    }
   ],
   "source": [
    "backward_180_right_left.shape"
   ]
  },
  {
   "cell_type": "code",
   "execution_count": 47,
   "metadata": {},
   "outputs": [],
   "source": [
    "backward_180_left_right.to_csv(\"backward_180_left_right_zonder_pauze.csv\", sep=';')\n",
    "backward_180_right_right.to_csv(\"backward_180_right_right_zonder_pauze.csv\", sep=';')\n",
    "backward_180_left_left.to_csv(\"backward_180_left_left_zonder_pauze.csv\", sep=';')\n",
    "backward_180_right_left.to_csv(\"backward_180_right_left_zonder_pauze.csv\", sep=';')"
   ]
  },
  {
   "cell_type": "code",
   "execution_count": 59,
   "metadata": {},
   "outputs": [],
   "source": [
    "#dataset.to_csv(\"backward_180_zonder_pauze_zonder_spring_raw.csv\", sep=';')"
   ]
  }
 ],
 "metadata": {
  "kernelspec": {
   "display_name": "Python 3",
   "language": "python",
   "name": "python3"
  },
  "language_info": {
   "codemirror_mode": {
    "name": "ipython",
    "version": 3
   },
   "file_extension": ".py",
   "mimetype": "text/x-python",
   "name": "python",
   "nbconvert_exporter": "python",
   "pygments_lexer": "ipython3",
   "version": "3.7.6"
  }
 },
 "nbformat": 4,
 "nbformat_minor": 2
}
