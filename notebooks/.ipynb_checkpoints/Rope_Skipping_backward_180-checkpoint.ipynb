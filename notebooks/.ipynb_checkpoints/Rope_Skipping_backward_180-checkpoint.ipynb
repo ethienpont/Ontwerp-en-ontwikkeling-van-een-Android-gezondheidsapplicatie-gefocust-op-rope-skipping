{
 "cells": [
  {
   "cell_type": "code",
   "execution_count": 2,
   "metadata": {},
   "outputs": [],
   "source": [
    "%matplotlib notebook\n",
    "import pandas as pd\n",
    "import numpy as np\n",
    "import math\n",
    "import statistics\n",
    "from datetime import datetime\n",
    "from sklearn.model_selection import train_test_split\n",
    "from sklearn import preprocessing\n",
    "from sklearn.ensemble import RandomForestClassifier, ExtraTreesClassifier, AdaBoostClassifier\n",
    "from sklearn.model_selection import GridSearchCV\n",
    "from sklearn.linear_model import SGDClassifier\n",
    "from sklearn.naive_bayes import GaussianNB, MultinomialNB\n",
    "from sklearn.neighbors import KNeighborsClassifier\n",
    "from sklearn.svm import SVC, LinearSVC\n",
    "from sklearn import svm\n",
    "from sklearn.neural_network import MLPClassifier\n",
    "from sklearn.metrics import confusion_matrix, classification_report\n",
    "from sklearn.preprocessing import StandardScaler, LabelEncoder, normalize\n",
    "import matplotlib.pyplot as plt\n",
    "import seaborn as sn\n",
    "import matplotlib\n",
    "from mlxtend.plotting import plot_confusion_matrix\n",
    "import warnings\n",
    "from scipy.signal import savgol_filter, find_peaks, correlate\n",
    "from sklearn.decomposition import PCA\n",
    "import scipy.fftpack as FFT\n",
    "from sklearn.utils import shuffle\n",
    "import joblib\n",
    "warnings.filterwarnings('ignore')\n",
    "matplotlib.rcParams['figure.figsize'] = [12,5]"
   ]
  },
  {
   "cell_type": "markdown",
   "metadata": {},
   "source": [
    "## help functions"
   ]
  },
  {
   "cell_type": "code",
   "execution_count": 3,
   "metadata": {},
   "outputs": [],
   "source": [
    "def sampling_freq(df):\n",
    "    start = df['time'].iloc[0]\n",
    "    sum_samples = 0\n",
    "    index = 0\n",
    "    while  (start + pd.to_timedelta(1, unit='s')) < df['time'].iloc[-1]:\n",
    "        end =  start + pd.to_timedelta(1, unit='s')\n",
    "        sum_samples += df[(df['time'] >= start) & (df['time'] < end)].shape[0]\n",
    "        start += pd.to_timedelta(1, unit='s')\n",
    "        index += 1\n",
    "    return sum_samples/index\n",
    "\n",
    "def convert_to_float(x):\n",
    "    try:\n",
    "        return np.float(x)\n",
    "    except:\n",
    "        return np.nan\n",
    "\n",
    "def convert_to_datetime(x):\n",
    "    dt = datetime.fromtimestamp(x // 1000000000)\n",
    "    s = dt.strftime('%Y-%m-%d %H:%M:%S')\n",
    "    s += '.' + str(int(x % 1000000000)).zfill(9)\n",
    "    return s\n",
    "\n",
    "def heatmap(cm, labels):\n",
    "    df_cm = pd.DataFrame(cm, index=labels, columns=labels)\n",
    "    plt.figure(figsize = (10,7))\n",
    "    sn.heatmap(df_cm, annot=True)\n",
    "\n",
    "    plt.show()\n",
    "    \n",
    "def preprocess(data, activity, type_, p, drop_interval_begin = 3, drop_interval_end = 3):\n",
    "    #convert nanoseconds to date \n",
    "    data['time'] = data['time'].apply(convert_to_datetime) \n",
    "    data['time'] = pd.to_datetime(data['time'])\n",
    "\n",
    "#convert to same data type\n",
    "    for i in range(1, 4): \n",
    "        data[column_names_org[i]] = data[column_names_org[i]].apply(convert_to_float)\n",
    "    \n",
    "#drop rows with NaN values \n",
    "    data.dropna(axis=0, how='any', inplace=True) #TODO: invullen met mean, mod of median / interpolatie\n",
    "\n",
    "#drop duplicates \n",
    "    data.drop_duplicates(subset=None, keep='first', inplace = True)\n",
    "    \n",
    "    #drop first and last 3 sec\n",
    "    indexFirst = data[ (data['time'].iloc[0]+ pd.to_timedelta(drop_interval_begin, unit='s')) > data['time'] ].index\n",
    "    data.drop(indexFirst , inplace=True)\n",
    "    indexLast = data[ (data['time'].iloc[-1]- pd.to_timedelta(drop_interval_end, unit='s')) < data['time'] ].index\n",
    "    data.drop(indexLast , inplace=True)\n",
    "    \n",
    "    #add activity label\n",
    "    data['activity'] = activity\n",
    "    data['type'] = type_\n",
    "    data['proefpersoon'] = p\n",
    "    \n",
    "    return data\n",
    "\n",
    "#feature extraction\n",
    "def get_mean_window(df):\n",
    "    return df.mean()\n",
    "\n",
    "def get_min_window(df):\n",
    "    return df.min()\n",
    "\n",
    "def get_max_window(df):\n",
    "    return df.max()\n",
    "\n",
    "def get_std_window(df):\n",
    "    return df.std()\n",
    "\n",
    "def get_med_window(df):\n",
    "    return df.median()\n",
    "\n",
    "#TODO: scipy integrate\n",
    "#TODO: voor elke as apart??\n",
    "#measure of activity level (m/s²)\n",
    "def get_signal_magnitude_area(df):\n",
    "        sum = 0\n",
    "        for i in range(0, len(df)):\n",
    "            sum += (abs(df['x'].iloc[i]) + abs(df['y'].iloc[i]) + abs(df['z'].iloc[i]))\n",
    "        return sum /len(df)\n",
    "    #result = integrate.quad(lambda t: df['x'].apply(lambda n : abs(n)) + df['y'].apply(lambda n : abs(n)) + df['z'].apply(lambda n : abs(n)), 0, len(df))\n",
    "\n",
    "#TODO: voor elke as apart??\n",
    "#degree of movement intensity (m/s²)\n",
    "def get_signal_magnitude_vector(df):\n",
    "    sum = 0\n",
    "    for i in range(0, len(df)):\n",
    "        sum += math.sqrt(df['x'].iloc[i] * df['x'].iloc[i] + df['y'].iloc[i] * df['y'].iloc[i] + df['z'].iloc[i] * df['z'].iloc[i])\n",
    "    return sum\n",
    "\n",
    "#average angle (radian) between accelerometer vector and x as (parallel with arm)\n",
    "def get_tilt_angle(df):\n",
    "    df_cos = pd.DataFrame(columns=[\"tilt_ang\"])\n",
    "    df_dot = df['x']\n",
    "    for i in range(0, len(df)):\n",
    "        s = pd.Series({\"tilt_ang\" : (df_dot.iloc[i])/(math.sqrt(df['x'].iloc[i]*df['x'].iloc[i] + df['y'].iloc[i]*df['y'].iloc[i] + df['z'].iloc[i]*df['z'].iloc[i]))})\n",
    "        df_cos=df_cos.append(s, ignore_index=True)\n",
    "    df_angle = np.arccos(df_cos)\n",
    "    return df_angle.mean()['tilt_ang']\n",
    "\n",
    "def get_power_spectral_density(df):\n",
    "    df_psd = np.abs(df)**2\n",
    "    return df_psd.sum()\n",
    "\n",
    "#TODO: datatype is object en niet compex nr\n",
    "def get_entropy(df):\n",
    "    entropy = []\n",
    "    pdf = df / df.sum()\n",
    "    for i in range (1, len(pdf.columns)):\n",
    "        entropy.append(np.complex(-np.nansum(pdf.iloc[:,i] * np.log2(pdf.iloc[:,i]))))\n",
    "    return entropy\n",
    "\n",
    "#generate windows with 50% overlap\n",
    "def windows(df, time, overlap):\n",
    "    start = df.iloc[0]\n",
    "    while  (start + pd.to_timedelta(time, unit='s')) < df.iloc[-1]:\n",
    "        yield start, (start + pd.to_timedelta(time, unit='s'))\n",
    "        if overlap:\n",
    "            start += pd.to_timedelta(time/2, unit='s')\n",
    "        else:\n",
    "            start += pd.to_timedelta(time, unit='s')\n",
    "    #last samples \n",
    "    yield (df.iloc[-1] - pd.to_timedelta(time, unit='s')), df.iloc[-1]\n",
    "        \n",
    "def feature_extraction_segmentation(data, window, overlap):\n",
    "    column_names = [\"x_mean\", \"y_mean\", \"z_mean\", \"x_min\", \"y_min\", \"z_min\", \"x_max\", \"y_max\", \"z_max\",\n",
    "                \"x_std\", \"y_std\", \"z_std\", \"x_med\", \"y_med\", \"z_med\", \"activity\"]\n",
    "    df = pd.DataFrame(columns = column_names)\n",
    "\n",
    "    for (start, end) in windows(data['time'], window, overlap):\n",
    "        vw1 = data['time'] >= start\n",
    "        vw2 = data['time'] < end\n",
    "        mean = get_mean_window(data[vw1 & vw2])\n",
    "        min = get_min_window(data[vw1 & vw2])\n",
    "        max = get_max_window(data[vw1 & vw2])\n",
    "        std = get_std_window(data[vw1 & vw2])\n",
    "        med = get_med_window(data[vw1 & vw2])\n",
    "        sma = get_signal_magnitude_area(data[vw1 & vw2])\n",
    "        smv = get_signal_magnitude_vector(data[vw1 & vw2])\n",
    "        tilt = get_tilt_angle(data[vw1 & vw2])\n",
    "        #fourrier transform\n",
    "        t_x = data[vw1 & vw2][['time','x']].set_index('time')\n",
    "        t_y = data[vw1 & vw2][['time','y']].set_index('time')\n",
    "        t_z = data[vw1 & vw2][['time', 'z']].set_index('time')\n",
    "\n",
    "        df_f = pd.DataFrame(columns=['f', 'x_f', 'y_f', 'z_f'])\n",
    "\n",
    "    #TODO: determine sampling rate (datapoints per second)\n",
    "        sampling_rate = 52\n",
    "\n",
    "        df_f['x_f'] = FFT.fft(t_x).ravel()\n",
    "        df_f['y_f'] = FFT.fft(t_y).ravel()\n",
    "        df_f['z_f'] = FFT.fft(t_z).ravel()\n",
    "        df_f['f'] = FFT.fftfreq(len(df_f['x_f'])) * sampling_rate\n",
    "\n",
    "        psd = get_power_spectral_density(df_f)\n",
    "        #entropy = get_entropy(df_f)\n",
    "\n",
    "        df = df.append(pd.Series({'x_mean': mean['x'], 'y_mean': mean['y'], 'z_mean': mean['z'], \"x_min\" : min['x'],\n",
    "                              \"y_min\" : min['y'], \"z_min\" : min['z'], \"x_max\" : max['x'], \"y_max\" : max['y'], \"z_max\" : max['z'],\n",
    "                              \"x_std\" : std['x'], \"y_std\" : std['y'], \"z_std\" : std['z'], \"x_med\" : med['x'], \"y_med\" : med['y'], \"z_med\" : med['z'],\n",
    "                              \"sma\" : sma, \"smv\" : smv, \"tilt\" : tilt, \"x_psd\" : psd['x_f'], \"y_psd\" : psd['y_f'], \"z_psd\" : psd['z_f']\n",
    "                              , \"activity\" : data['activity'].iloc[0]}), ignore_index=True) # \"x_entropy\" : entropy[0], \"y_entropy\" : entropy[1], \"z_entropy\" : entropy[2],\n",
    "    return df\n",
    "\n",
    "#3 keer savgol filter uitvoeren met 33,5\n",
    "def get_turns_smooth_side_swing(df):\n",
    "    for i in range(0,5):\n",
    "        df['x'] = savgol_filter(df[ 'x'].to_numpy(), 101, 5)\n",
    "        df['y'] = savgol_filter(df[ 'y'].to_numpy(), 101, 5)\n",
    "        df['z'] = savgol_filter(df[ 'z'].to_numpy(), 101, 5)\n",
    "        df.plot(x='time', subplots=True)\n",
    "\n",
    "    wx = find_peaks(df['x'])\n",
    "    wy = find_peaks(df['y'])\n",
    "    wz = find_peaks(df['z'])\n",
    "    return (len(wx[0]) + len(wy[0]) + len(wz[0]))/3\n",
    "\n",
    "\n",
    "column_names_org = ['time', 'x', 'y', 'z']"
   ]
  },
  {
   "cell_type": "code",
   "execution_count": 4,
   "metadata": {},
   "outputs": [],
   "source": [
    "raw = True\n",
    "freq = 0"
   ]
  },
  {
   "cell_type": "markdown",
   "metadata": {},
   "source": [
    "# <font color='green' >PROEFPERSOON 1"
   ]
  },
  {
   "cell_type": "markdown",
   "metadata": {},
   "source": [
    "## backward 180"
   ]
  },
  {
   "cell_type": "code",
   "execution_count": 61,
   "metadata": {},
   "outputs": [],
   "source": [
    "backward_180_left_right_1 = []\n",
    "backward_180_right_right_1= []\n",
    "backward_180_left_left_1 = []\n",
    "backward_180_right_left_1= []"
   ]
  },
  {
   "cell_type": "markdown",
   "metadata": {},
   "source": [
    "#### backward_180_left_right"
   ]
  },
  {
   "cell_type": "markdown",
   "metadata": {},
   "source": [
    "#### tussenpauzes"
   ]
  },
  {
   "cell_type": "code",
   "execution_count": 5,
   "metadata": {},
   "outputs": [
    {
     "ename": "FileNotFoundError",
     "evalue": "[Errno 2] File b'C:\\\\Users\\\\Elise\\\\Documents\\\\unif\\\\master\\\\semester2\\\\masterproef\\\\gitProject\\\\thesis\\\\data\\\\forward_180\\\\proefpersoon1\\\\forward_180_left_backwards_tim1.csv' does not exist: b'C:\\\\Users\\\\Elise\\\\Documents\\\\unif\\\\master\\\\semester2\\\\masterproef\\\\gitProject\\\\thesis\\\\data\\\\forward_180\\\\proefpersoon1\\\\forward_180_left_backwards_tim1.csv'",
     "output_type": "error",
     "traceback": [
      "\u001b[1;31m---------------------------------------------------------------------------\u001b[0m",
      "\u001b[1;31mFileNotFoundError\u001b[0m                         Traceback (most recent call last)",
      "\u001b[1;32m<ipython-input-5-d4f57a011849>\u001b[0m in \u001b[0;36m<module>\u001b[1;34m\u001b[0m\n\u001b[0;32m      1\u001b[0m \u001b[1;31m#8 SEGMENTEN\u001b[0m\u001b[1;33m\u001b[0m\u001b[1;33m\u001b[0m\u001b[1;33m\u001b[0m\u001b[0m\n\u001b[1;32m----> 2\u001b[1;33m \u001b[0mforward_180_left_backwards1\u001b[0m \u001b[1;33m=\u001b[0m \u001b[0mpd\u001b[0m\u001b[1;33m.\u001b[0m\u001b[0mread_csv\u001b[0m\u001b[1;33m(\u001b[0m\u001b[1;34mr\"C:\\Users\\Elise\\Documents\\unif\\master\\semester2\\masterproef\\gitProject\\thesis\\data\\forward_180\\proefpersoon1\\forward_180_left_backwards_tim1.csv\"\u001b[0m\u001b[1;33m,\u001b[0m \u001b[0msep\u001b[0m\u001b[1;33m=\u001b[0m\u001b[1;34m';'\u001b[0m\u001b[1;33m,\u001b[0m \u001b[0mheader\u001b[0m\u001b[1;33m=\u001b[0m\u001b[1;36m0\u001b[0m\u001b[1;33m,\u001b[0m \u001b[0mskipinitialspace\u001b[0m\u001b[1;33m=\u001b[0m\u001b[1;32mTrue\u001b[0m\u001b[1;33m)\u001b[0m\u001b[1;33m\u001b[0m\u001b[1;33m\u001b[0m\u001b[0m\n\u001b[0m",
      "\u001b[1;32m~\\Anaconda3\\lib\\site-packages\\pandas\\io\\parsers.py\u001b[0m in \u001b[0;36mparser_f\u001b[1;34m(filepath_or_buffer, sep, delimiter, header, names, index_col, usecols, squeeze, prefix, mangle_dupe_cols, dtype, engine, converters, true_values, false_values, skipinitialspace, skiprows, skipfooter, nrows, na_values, keep_default_na, na_filter, verbose, skip_blank_lines, parse_dates, infer_datetime_format, keep_date_col, date_parser, dayfirst, cache_dates, iterator, chunksize, compression, thousands, decimal, lineterminator, quotechar, quoting, doublequote, escapechar, comment, encoding, dialect, error_bad_lines, warn_bad_lines, delim_whitespace, low_memory, memory_map, float_precision)\u001b[0m\n\u001b[0;32m    683\u001b[0m         )\n\u001b[0;32m    684\u001b[0m \u001b[1;33m\u001b[0m\u001b[0m\n\u001b[1;32m--> 685\u001b[1;33m         \u001b[1;32mreturn\u001b[0m \u001b[0m_read\u001b[0m\u001b[1;33m(\u001b[0m\u001b[0mfilepath_or_buffer\u001b[0m\u001b[1;33m,\u001b[0m \u001b[0mkwds\u001b[0m\u001b[1;33m)\u001b[0m\u001b[1;33m\u001b[0m\u001b[1;33m\u001b[0m\u001b[0m\n\u001b[0m\u001b[0;32m    686\u001b[0m \u001b[1;33m\u001b[0m\u001b[0m\n\u001b[0;32m    687\u001b[0m     \u001b[0mparser_f\u001b[0m\u001b[1;33m.\u001b[0m\u001b[0m__name__\u001b[0m \u001b[1;33m=\u001b[0m \u001b[0mname\u001b[0m\u001b[1;33m\u001b[0m\u001b[1;33m\u001b[0m\u001b[0m\n",
      "\u001b[1;32m~\\Anaconda3\\lib\\site-packages\\pandas\\io\\parsers.py\u001b[0m in \u001b[0;36m_read\u001b[1;34m(filepath_or_buffer, kwds)\u001b[0m\n\u001b[0;32m    455\u001b[0m \u001b[1;33m\u001b[0m\u001b[0m\n\u001b[0;32m    456\u001b[0m     \u001b[1;31m# Create the parser.\u001b[0m\u001b[1;33m\u001b[0m\u001b[1;33m\u001b[0m\u001b[1;33m\u001b[0m\u001b[0m\n\u001b[1;32m--> 457\u001b[1;33m     \u001b[0mparser\u001b[0m \u001b[1;33m=\u001b[0m \u001b[0mTextFileReader\u001b[0m\u001b[1;33m(\u001b[0m\u001b[0mfp_or_buf\u001b[0m\u001b[1;33m,\u001b[0m \u001b[1;33m**\u001b[0m\u001b[0mkwds\u001b[0m\u001b[1;33m)\u001b[0m\u001b[1;33m\u001b[0m\u001b[1;33m\u001b[0m\u001b[0m\n\u001b[0m\u001b[0;32m    458\u001b[0m \u001b[1;33m\u001b[0m\u001b[0m\n\u001b[0;32m    459\u001b[0m     \u001b[1;32mif\u001b[0m \u001b[0mchunksize\u001b[0m \u001b[1;32mor\u001b[0m \u001b[0miterator\u001b[0m\u001b[1;33m:\u001b[0m\u001b[1;33m\u001b[0m\u001b[1;33m\u001b[0m\u001b[0m\n",
      "\u001b[1;32m~\\Anaconda3\\lib\\site-packages\\pandas\\io\\parsers.py\u001b[0m in \u001b[0;36m__init__\u001b[1;34m(self, f, engine, **kwds)\u001b[0m\n\u001b[0;32m    893\u001b[0m             \u001b[0mself\u001b[0m\u001b[1;33m.\u001b[0m\u001b[0moptions\u001b[0m\u001b[1;33m[\u001b[0m\u001b[1;34m\"has_index_names\"\u001b[0m\u001b[1;33m]\u001b[0m \u001b[1;33m=\u001b[0m \u001b[0mkwds\u001b[0m\u001b[1;33m[\u001b[0m\u001b[1;34m\"has_index_names\"\u001b[0m\u001b[1;33m]\u001b[0m\u001b[1;33m\u001b[0m\u001b[1;33m\u001b[0m\u001b[0m\n\u001b[0;32m    894\u001b[0m \u001b[1;33m\u001b[0m\u001b[0m\n\u001b[1;32m--> 895\u001b[1;33m         \u001b[0mself\u001b[0m\u001b[1;33m.\u001b[0m\u001b[0m_make_engine\u001b[0m\u001b[1;33m(\u001b[0m\u001b[0mself\u001b[0m\u001b[1;33m.\u001b[0m\u001b[0mengine\u001b[0m\u001b[1;33m)\u001b[0m\u001b[1;33m\u001b[0m\u001b[1;33m\u001b[0m\u001b[0m\n\u001b[0m\u001b[0;32m    896\u001b[0m \u001b[1;33m\u001b[0m\u001b[0m\n\u001b[0;32m    897\u001b[0m     \u001b[1;32mdef\u001b[0m \u001b[0mclose\u001b[0m\u001b[1;33m(\u001b[0m\u001b[0mself\u001b[0m\u001b[1;33m)\u001b[0m\u001b[1;33m:\u001b[0m\u001b[1;33m\u001b[0m\u001b[1;33m\u001b[0m\u001b[0m\n",
      "\u001b[1;32m~\\Anaconda3\\lib\\site-packages\\pandas\\io\\parsers.py\u001b[0m in \u001b[0;36m_make_engine\u001b[1;34m(self, engine)\u001b[0m\n\u001b[0;32m   1133\u001b[0m     \u001b[1;32mdef\u001b[0m \u001b[0m_make_engine\u001b[0m\u001b[1;33m(\u001b[0m\u001b[0mself\u001b[0m\u001b[1;33m,\u001b[0m \u001b[0mengine\u001b[0m\u001b[1;33m=\u001b[0m\u001b[1;34m\"c\"\u001b[0m\u001b[1;33m)\u001b[0m\u001b[1;33m:\u001b[0m\u001b[1;33m\u001b[0m\u001b[1;33m\u001b[0m\u001b[0m\n\u001b[0;32m   1134\u001b[0m         \u001b[1;32mif\u001b[0m \u001b[0mengine\u001b[0m \u001b[1;33m==\u001b[0m \u001b[1;34m\"c\"\u001b[0m\u001b[1;33m:\u001b[0m\u001b[1;33m\u001b[0m\u001b[1;33m\u001b[0m\u001b[0m\n\u001b[1;32m-> 1135\u001b[1;33m             \u001b[0mself\u001b[0m\u001b[1;33m.\u001b[0m\u001b[0m_engine\u001b[0m \u001b[1;33m=\u001b[0m \u001b[0mCParserWrapper\u001b[0m\u001b[1;33m(\u001b[0m\u001b[0mself\u001b[0m\u001b[1;33m.\u001b[0m\u001b[0mf\u001b[0m\u001b[1;33m,\u001b[0m \u001b[1;33m**\u001b[0m\u001b[0mself\u001b[0m\u001b[1;33m.\u001b[0m\u001b[0moptions\u001b[0m\u001b[1;33m)\u001b[0m\u001b[1;33m\u001b[0m\u001b[1;33m\u001b[0m\u001b[0m\n\u001b[0m\u001b[0;32m   1136\u001b[0m         \u001b[1;32melse\u001b[0m\u001b[1;33m:\u001b[0m\u001b[1;33m\u001b[0m\u001b[1;33m\u001b[0m\u001b[0m\n\u001b[0;32m   1137\u001b[0m             \u001b[1;32mif\u001b[0m \u001b[0mengine\u001b[0m \u001b[1;33m==\u001b[0m \u001b[1;34m\"python\"\u001b[0m\u001b[1;33m:\u001b[0m\u001b[1;33m\u001b[0m\u001b[1;33m\u001b[0m\u001b[0m\n",
      "\u001b[1;32m~\\Anaconda3\\lib\\site-packages\\pandas\\io\\parsers.py\u001b[0m in \u001b[0;36m__init__\u001b[1;34m(self, src, **kwds)\u001b[0m\n\u001b[0;32m   1915\u001b[0m         \u001b[0mkwds\u001b[0m\u001b[1;33m[\u001b[0m\u001b[1;34m\"usecols\"\u001b[0m\u001b[1;33m]\u001b[0m \u001b[1;33m=\u001b[0m \u001b[0mself\u001b[0m\u001b[1;33m.\u001b[0m\u001b[0musecols\u001b[0m\u001b[1;33m\u001b[0m\u001b[1;33m\u001b[0m\u001b[0m\n\u001b[0;32m   1916\u001b[0m \u001b[1;33m\u001b[0m\u001b[0m\n\u001b[1;32m-> 1917\u001b[1;33m         \u001b[0mself\u001b[0m\u001b[1;33m.\u001b[0m\u001b[0m_reader\u001b[0m \u001b[1;33m=\u001b[0m \u001b[0mparsers\u001b[0m\u001b[1;33m.\u001b[0m\u001b[0mTextReader\u001b[0m\u001b[1;33m(\u001b[0m\u001b[0msrc\u001b[0m\u001b[1;33m,\u001b[0m \u001b[1;33m**\u001b[0m\u001b[0mkwds\u001b[0m\u001b[1;33m)\u001b[0m\u001b[1;33m\u001b[0m\u001b[1;33m\u001b[0m\u001b[0m\n\u001b[0m\u001b[0;32m   1918\u001b[0m         \u001b[0mself\u001b[0m\u001b[1;33m.\u001b[0m\u001b[0munnamed_cols\u001b[0m \u001b[1;33m=\u001b[0m \u001b[0mself\u001b[0m\u001b[1;33m.\u001b[0m\u001b[0m_reader\u001b[0m\u001b[1;33m.\u001b[0m\u001b[0munnamed_cols\u001b[0m\u001b[1;33m\u001b[0m\u001b[1;33m\u001b[0m\u001b[0m\n\u001b[0;32m   1919\u001b[0m \u001b[1;33m\u001b[0m\u001b[0m\n",
      "\u001b[1;32mpandas\\_libs\\parsers.pyx\u001b[0m in \u001b[0;36mpandas._libs.parsers.TextReader.__cinit__\u001b[1;34m()\u001b[0m\n",
      "\u001b[1;32mpandas\\_libs\\parsers.pyx\u001b[0m in \u001b[0;36mpandas._libs.parsers.TextReader._setup_parser_source\u001b[1;34m()\u001b[0m\n",
      "\u001b[1;31mFileNotFoundError\u001b[0m: [Errno 2] File b'C:\\\\Users\\\\Elise\\\\Documents\\\\unif\\\\master\\\\semester2\\\\masterproef\\\\gitProject\\\\thesis\\\\data\\\\forward_180\\\\proefpersoon1\\\\forward_180_left_backwards_tim1.csv' does not exist: b'C:\\\\Users\\\\Elise\\\\Documents\\\\unif\\\\master\\\\semester2\\\\masterproef\\\\gitProject\\\\thesis\\\\data\\\\forward_180\\\\proefpersoon1\\\\forward_180_left_backwards_tim1.csv'"
     ]
    }
   ],
   "source": [
    "#8 SEGMENTEN\n",
    "forward_180_left_backwards1 = pd.read_csv(r\"C:\\Users\\Elise\\Documents\\unif\\master\\semester2\\masterproef\\gitProject\\thesis\\data\\forward_180\\proefpersoon1\\forward_180_left_backwards_tim1.csv\", sep=';', header=0, skipinitialspace=True)"
   ]
  },
  {
   "cell_type": "code",
   "execution_count": null,
   "metadata": {},
   "outputs": [],
   "source": [
    "f1 =  forward_180_left_backwards1[forward_180_left_backwards1[\"time\"] <= 31979000000000]\n",
    "f2 =  forward_180_left_backwards1[(forward_180_left_backwards1[\"time\"] >= 31979000000000) & (forward_180_left_backwards1[\"time\"] <= 31983000000000)]\n",
    "f3 =  forward_180_left_backwards1[(forward_180_left_backwards1[\"time\"] >= 31983000000000) & (forward_180_left_backwards1[\"time\"] <= 31987500000000)]\n",
    "f4 =  forward_180_left_backwards1[(forward_180_left_backwards1[\"time\"] >= 31987500000000) & (forward_180_left_backwards1[\"time\"] <= 31991800000000)]\n",
    "f5 =  forward_180_left_backwards1[(forward_180_left_backwards1[\"time\"] >= 31991800000000) & (forward_180_left_backwards1[\"time\"] <= 31995800000000)]\n",
    "f6 =  forward_180_left_backwards1[(forward_180_left_backwards1[\"time\"] >= 31995800000000) & (forward_180_left_backwards1[\"time\"] <= 31999900000000)]\n",
    "f7 =  forward_180_left_backwards1[(forward_180_left_backwards1[\"time\"] >= 31999900000000) & (forward_180_left_backwards1[\"time\"] <= 32004400000000)]\n",
    "f8 =  forward_180_left_backwards1[(forward_180_left_backwards1[\"time\"] >= 32004400000000) & (forward_180_left_backwards1[\"time\"] <= 32009000000000)]"
   ]
  },
  {
   "cell_type": "code",
   "execution_count": null,
   "metadata": {},
   "outputs": [],
   "source": [
    "f1 = preprocess(f1, \"backward_180\", 1.2, 0.8)\n",
    "f2 = preprocess(f2, \"backward_180\", 0.9, 0.5)\n",
    "f3 = preprocess(f3, \"backward_180\", 1, 1)\n",
    "f4 = preprocess(f4, \"backward_180\", 0.8, 0.9)\n",
    "f5 = preprocess(f5, \"backward_180\", 0.8, 0.9)\n",
    "f6 = preprocess(f6, \"backward_180\", 0.8, 0.8)\n",
    "f7 = preprocess(f7, \"backward_180\", 1.1, 0.9)\n",
    "f8 = preprocess(f8, \"backward_180\", 1.1, 0.9)"
   ]
  },
  {
   "cell_type": "code",
   "execution_count": null,
   "metadata": {},
   "outputs": [],
   "source": [
    "forward_180_left_backwards_1 = [f1,f2, f3, f4, f5, f6, f7, f8]"
   ]
  },
  {
   "cell_type": "markdown",
   "metadata": {},
   "source": [
    "#### zonder tussenpauzes"
   ]
  },
  {
   "cell_type": "code",
   "execution_count": 33,
   "metadata": {},
   "outputs": [],
   "source": [
    "backward_180a = pd.read_csv(\n",
    "    r\"C:\\Users\\Elise\\Documents\\unif\\master\\semester2\\masterproef\\gitProject\\thesis\\data\\forward_180\\proefpersoon1\\backward_180_left_right_tim1.csv\", \n",
    "    sep=';', header=0, skipinitialspace=True)"
   ]
  },
  {
   "cell_type": "code",
   "execution_count": 34,
   "metadata": {},
   "outputs": [],
   "source": [
    "backward_180a = preprocess(backward_180a, \"backward_180\", \"left_right\",1, 0.8, 1.8)"
   ]
  },
  {
   "cell_type": "code",
   "execution_count": 36,
   "metadata": {},
   "outputs": [],
   "source": [
    "backward_180_left_right_1 = [backward_180a]"
   ]
  },
  {
   "cell_type": "code",
   "execution_count": 37,
   "metadata": {},
   "outputs": [],
   "source": [
    "for df in backward_180_left_right_1:\n",
    "    f = sampling_freq(df)\n",
    "    freq += f"
   ]
  },
  {
   "cell_type": "markdown",
   "metadata": {},
   "source": [
    "#### backward_180_right_right"
   ]
  },
  {
   "cell_type": "markdown",
   "metadata": {},
   "source": [
    "#### tussenpauzes"
   ]
  },
  {
   "cell_type": "code",
   "execution_count": null,
   "metadata": {},
   "outputs": [],
   "source": [
    "#EERSTE EN LAATSTE STUKJES NIET GEKNIPT\n",
    "#5 SEGMENTEN\n",
    "forward_180_right_backwards1 = pd.read_csv(r\"C:\\Users\\Elise\\Documents\\unif\\master\\semester2\\masterproef\\gitProject\\thesis\\data\\forward_180\\proefpersoon1\\forward_180_right_backwards_tim1.csv\", sep=';', header=0, skipinitialspace=True)\n",
    "\n",
    "#3 SEGMENTEN\n",
    "forward_180_right_backwards2 = pd.read_csv(r\"C:\\Users\\Elise\\Documents\\unif\\master\\semester2\\masterproef\\gitProject\\thesis\\data\\forward_180\\proefpersoon1\\forward_180_right_backwards_tim2.csv\", sep=';', header=0, skipinitialspace=True)\n",
    "\n",
    "forward_180_right_backwards4 = pd.read_csv(r\"C:\\Users\\Elise\\Documents\\unif\\master\\semester2\\masterproef\\gitProject\\thesis\\data\\forward_180\\proefpersoon1\\forward_180_right_backwards_tim4.csv\", sep=';', header=0, skipinitialspace=True)\n",
    "\n",
    "forward_180_right_backwards5 = pd.read_csv(r\"C:\\Users\\Elise\\Documents\\unif\\master\\semester2\\masterproef\\gitProject\\thesis\\data\\forward_180\\proefpersoon1\\forward_180_right_backwards_tim5.csv\", sep=';', header=0, skipinitialspace=True)\n",
    "forward_180_right_backwards6 = pd.read_csv(r\"C:\\Users\\Elise\\Documents\\unif\\master\\semester2\\masterproef\\gitProject\\thesis\\data\\forward_180\\proefpersoon1\\forward_180_right_backwards_tim6.csv\", sep=';', header=0, skipinitialspace=True)\n"
   ]
  },
  {
   "cell_type": "code",
   "execution_count": null,
   "metadata": {},
   "outputs": [],
   "source": [
    "f2 =  forward_180_right_backwards1[(forward_180_right_backwards1[\"time\"] >= 11918100000000) & (forward_180_right_backwards1[\"time\"] <= 11923700000000)]\n",
    "f3 =  forward_180_right_backwards1[(forward_180_right_backwards1[\"time\"] >= 11923700000000) & (forward_180_right_backwards1[\"time\"] <= 11929200000000)]\n",
    "f4 =  forward_180_right_backwards1[(forward_180_right_backwards1[\"time\"] >= 11929200000000) & (forward_180_right_backwards1[\"time\"] <= 11935500000000)]\n",
    "f5 =  forward_180_right_backwards1[(forward_180_right_backwards1[\"time\"] >= 11935500000000) & (forward_180_right_backwards1[\"time\"] <= 11941400000000)]\n",
    "\n",
    "f6 =  forward_180_right_backwards2[(forward_180_right_backwards2[\"time\"] <= 11951900000000)]\n",
    "f7 =  forward_180_right_backwards2[(forward_180_right_backwards2[\"time\"] >= 11951900000000) & (forward_180_right_backwards2[\"time\"] <= 11956800000000)]\n",
    "f8 =  forward_180_right_backwards2[(forward_180_right_backwards2[\"time\"] >= 11956800000000) & (forward_180_right_backwards2[\"time\"] <= 11961900000000)]\n",
    "\n",
    "f9 =  forward_180_right_backwards4[(forward_180_right_backwards4[\"time\"] >= 11976300000000)]\n",
    "f10 = forward_180_right_backwards4[(forward_180_right_backwards4[\"time\"] <= 11976300000000)]"
   ]
  },
  {
   "cell_type": "code",
   "execution_count": null,
   "metadata": {},
   "outputs": [],
   "source": [
    "f2 = preprocess(f2, \"backward_180\", 1.7, 0.9)\n",
    "f3 = preprocess(f3, \"backward_180\", 1, 1.2)\n",
    "f4 = preprocess(f4, \"backward_180\", 1.5, 1.7)\n",
    "f5 = preprocess(f5, \"backward_180\", 2, 1)\n",
    "f6 = preprocess(f6, \"backward_180\", 1, 1)\n",
    "f7 = preprocess(f7, \"backward_180\", 1.5, 1.5)\n",
    "f8 = preprocess(f8, \"backward_180\", 1.7, 1.5)\n",
    "f9 = preprocess(f9, \"backward_180\", 1.5, 0.6)"
   ]
  },
  {
   "cell_type": "code",
   "execution_count": null,
   "metadata": {},
   "outputs": [],
   "source": [
    "forward_180_right_backwards_1 = [f2, f3, f4, f5, f6, f7, f8, f9]"
   ]
  },
  {
   "cell_type": "markdown",
   "metadata": {},
   "source": [
    "#### zonder tussenpauzes"
   ]
  },
  {
   "cell_type": "code",
   "execution_count": 41,
   "metadata": {},
   "outputs": [],
   "source": [
    "backward_180_right_righta = pd.read_csv(\n",
    "    r\"C:\\Users\\Elise\\Documents\\unif\\master\\semester2\\masterproef\\gitProject\\thesis\\data\\forward_180\\proefpersoon1\\backward_180_right_right_tim.csv\", \n",
    "    sep=';', header=0, skipinitialspace=True)\n",
    "\n",
    "backward_180_right_rightb = pd.read_csv(\n",
    "    r\"C:\\Users\\Elise\\Documents\\unif\\master\\semester2\\masterproef\\gitProject\\thesis\\data\\forward_180\\proefpersoon1\\backward_180_right_right_tim2.csv\", \n",
    "    sep=';', header=0, skipinitialspace=True)"
   ]
  },
  {
   "cell_type": "code",
   "execution_count": 42,
   "metadata": {},
   "outputs": [],
   "source": [
    "backward_180_right_righta = preprocess(backward_180_right_righta, \"backward_180\", \"right_right\", 1)\n",
    "backward_180_right_rightb = preprocess(backward_180_right_rightb, \"backward_180\", \"right_right\", 1)"
   ]
  },
  {
   "cell_type": "code",
   "execution_count": 68,
   "metadata": {},
   "outputs": [],
   "source": [
    "backward_180_right_right_1 = [backward_180_right_righta, backward_180_right_rightb]"
   ]
  },
  {
   "cell_type": "code",
   "execution_count": 69,
   "metadata": {},
   "outputs": [],
   "source": [
    "for df in backward_180_right_right_1:\n",
    "    f = sampling_freq(df)\n",
    "    freq += f"
   ]
  },
  {
   "cell_type": "markdown",
   "metadata": {},
   "source": [
    "#### zonder tussenpauzes, zonder springen"
   ]
  },
  {
   "cell_type": "code",
   "execution_count": 9,
   "metadata": {},
   "outputs": [],
   "source": [
    "backward_180_right_right_nospringa = pd.read_csv(\n",
    "    r\"C:\\Users\\Elise\\Documents\\unif\\master\\semester2\\masterproef\\gitProject\\thesis\\data\\forward_180\\proefpersoon1\\backward_180_right_right_tim_nospring1.csv\", \n",
    "    sep=';', header=0, skipinitialspace=True)"
   ]
  },
  {
   "cell_type": "code",
   "execution_count": 10,
   "metadata": {},
   "outputs": [],
   "source": [
    "backward_180_right_right_nospringa = preprocess(backward_180_right_right_nospringa, \"backward_180\", \"right_right\",1, 1.2, 2.4)"
   ]
  },
  {
   "cell_type": "code",
   "execution_count": 11,
   "metadata": {},
   "outputs": [
    {
     "data": {
      "application/javascript": [
       "/* Put everything inside the global mpl namespace */\n",
       "window.mpl = {};\n",
       "\n",
       "\n",
       "mpl.get_websocket_type = function() {\n",
       "    if (typeof(WebSocket) !== 'undefined') {\n",
       "        return WebSocket;\n",
       "    } else if (typeof(MozWebSocket) !== 'undefined') {\n",
       "        return MozWebSocket;\n",
       "    } else {\n",
       "        alert('Your browser does not have WebSocket support. ' +\n",
       "              'Please try Chrome, Safari or Firefox ≥ 6. ' +\n",
       "              'Firefox 4 and 5 are also supported but you ' +\n",
       "              'have to enable WebSockets in about:config.');\n",
       "    };\n",
       "}\n",
       "\n",
       "mpl.figure = function(figure_id, websocket, ondownload, parent_element) {\n",
       "    this.id = figure_id;\n",
       "\n",
       "    this.ws = websocket;\n",
       "\n",
       "    this.supports_binary = (this.ws.binaryType != undefined);\n",
       "\n",
       "    if (!this.supports_binary) {\n",
       "        var warnings = document.getElementById(\"mpl-warnings\");\n",
       "        if (warnings) {\n",
       "            warnings.style.display = 'block';\n",
       "            warnings.textContent = (\n",
       "                \"This browser does not support binary websocket messages. \" +\n",
       "                    \"Performance may be slow.\");\n",
       "        }\n",
       "    }\n",
       "\n",
       "    this.imageObj = new Image();\n",
       "\n",
       "    this.context = undefined;\n",
       "    this.message = undefined;\n",
       "    this.canvas = undefined;\n",
       "    this.rubberband_canvas = undefined;\n",
       "    this.rubberband_context = undefined;\n",
       "    this.format_dropdown = undefined;\n",
       "\n",
       "    this.image_mode = 'full';\n",
       "\n",
       "    this.root = $('<div/>');\n",
       "    this._root_extra_style(this.root)\n",
       "    this.root.attr('style', 'display: inline-block');\n",
       "\n",
       "    $(parent_element).append(this.root);\n",
       "\n",
       "    this._init_header(this);\n",
       "    this._init_canvas(this);\n",
       "    this._init_toolbar(this);\n",
       "\n",
       "    var fig = this;\n",
       "\n",
       "    this.waiting = false;\n",
       "\n",
       "    this.ws.onopen =  function () {\n",
       "            fig.send_message(\"supports_binary\", {value: fig.supports_binary});\n",
       "            fig.send_message(\"send_image_mode\", {});\n",
       "            if (mpl.ratio != 1) {\n",
       "                fig.send_message(\"set_dpi_ratio\", {'dpi_ratio': mpl.ratio});\n",
       "            }\n",
       "            fig.send_message(\"refresh\", {});\n",
       "        }\n",
       "\n",
       "    this.imageObj.onload = function() {\n",
       "            if (fig.image_mode == 'full') {\n",
       "                // Full images could contain transparency (where diff images\n",
       "                // almost always do), so we need to clear the canvas so that\n",
       "                // there is no ghosting.\n",
       "                fig.context.clearRect(0, 0, fig.canvas.width, fig.canvas.height);\n",
       "            }\n",
       "            fig.context.drawImage(fig.imageObj, 0, 0);\n",
       "        };\n",
       "\n",
       "    this.imageObj.onunload = function() {\n",
       "        fig.ws.close();\n",
       "    }\n",
       "\n",
       "    this.ws.onmessage = this._make_on_message_function(this);\n",
       "\n",
       "    this.ondownload = ondownload;\n",
       "}\n",
       "\n",
       "mpl.figure.prototype._init_header = function() {\n",
       "    var titlebar = $(\n",
       "        '<div class=\"ui-dialog-titlebar ui-widget-header ui-corner-all ' +\n",
       "        'ui-helper-clearfix\"/>');\n",
       "    var titletext = $(\n",
       "        '<div class=\"ui-dialog-title\" style=\"width: 100%; ' +\n",
       "        'text-align: center; padding: 3px;\"/>');\n",
       "    titlebar.append(titletext)\n",
       "    this.root.append(titlebar);\n",
       "    this.header = titletext[0];\n",
       "}\n",
       "\n",
       "\n",
       "\n",
       "mpl.figure.prototype._canvas_extra_style = function(canvas_div) {\n",
       "\n",
       "}\n",
       "\n",
       "\n",
       "mpl.figure.prototype._root_extra_style = function(canvas_div) {\n",
       "\n",
       "}\n",
       "\n",
       "mpl.figure.prototype._init_canvas = function() {\n",
       "    var fig = this;\n",
       "\n",
       "    var canvas_div = $('<div/>');\n",
       "\n",
       "    canvas_div.attr('style', 'position: relative; clear: both; outline: 0');\n",
       "\n",
       "    function canvas_keyboard_event(event) {\n",
       "        return fig.key_event(event, event['data']);\n",
       "    }\n",
       "\n",
       "    canvas_div.keydown('key_press', canvas_keyboard_event);\n",
       "    canvas_div.keyup('key_release', canvas_keyboard_event);\n",
       "    this.canvas_div = canvas_div\n",
       "    this._canvas_extra_style(canvas_div)\n",
       "    this.root.append(canvas_div);\n",
       "\n",
       "    var canvas = $('<canvas/>');\n",
       "    canvas.addClass('mpl-canvas');\n",
       "    canvas.attr('style', \"left: 0; top: 0; z-index: 0; outline: 0\")\n",
       "\n",
       "    this.canvas = canvas[0];\n",
       "    this.context = canvas[0].getContext(\"2d\");\n",
       "\n",
       "    var backingStore = this.context.backingStorePixelRatio ||\n",
       "\tthis.context.webkitBackingStorePixelRatio ||\n",
       "\tthis.context.mozBackingStorePixelRatio ||\n",
       "\tthis.context.msBackingStorePixelRatio ||\n",
       "\tthis.context.oBackingStorePixelRatio ||\n",
       "\tthis.context.backingStorePixelRatio || 1;\n",
       "\n",
       "    mpl.ratio = (window.devicePixelRatio || 1) / backingStore;\n",
       "\n",
       "    var rubberband = $('<canvas/>');\n",
       "    rubberband.attr('style', \"position: absolute; left: 0; top: 0; z-index: 1;\")\n",
       "\n",
       "    var pass_mouse_events = true;\n",
       "\n",
       "    canvas_div.resizable({\n",
       "        start: function(event, ui) {\n",
       "            pass_mouse_events = false;\n",
       "        },\n",
       "        resize: function(event, ui) {\n",
       "            fig.request_resize(ui.size.width, ui.size.height);\n",
       "        },\n",
       "        stop: function(event, ui) {\n",
       "            pass_mouse_events = true;\n",
       "            fig.request_resize(ui.size.width, ui.size.height);\n",
       "        },\n",
       "    });\n",
       "\n",
       "    function mouse_event_fn(event) {\n",
       "        if (pass_mouse_events)\n",
       "            return fig.mouse_event(event, event['data']);\n",
       "    }\n",
       "\n",
       "    rubberband.mousedown('button_press', mouse_event_fn);\n",
       "    rubberband.mouseup('button_release', mouse_event_fn);\n",
       "    // Throttle sequential mouse events to 1 every 20ms.\n",
       "    rubberband.mousemove('motion_notify', mouse_event_fn);\n",
       "\n",
       "    rubberband.mouseenter('figure_enter', mouse_event_fn);\n",
       "    rubberband.mouseleave('figure_leave', mouse_event_fn);\n",
       "\n",
       "    canvas_div.on(\"wheel\", function (event) {\n",
       "        event = event.originalEvent;\n",
       "        event['data'] = 'scroll'\n",
       "        if (event.deltaY < 0) {\n",
       "            event.step = 1;\n",
       "        } else {\n",
       "            event.step = -1;\n",
       "        }\n",
       "        mouse_event_fn(event);\n",
       "    });\n",
       "\n",
       "    canvas_div.append(canvas);\n",
       "    canvas_div.append(rubberband);\n",
       "\n",
       "    this.rubberband = rubberband;\n",
       "    this.rubberband_canvas = rubberband[0];\n",
       "    this.rubberband_context = rubberband[0].getContext(\"2d\");\n",
       "    this.rubberband_context.strokeStyle = \"#000000\";\n",
       "\n",
       "    this._resize_canvas = function(width, height) {\n",
       "        // Keep the size of the canvas, canvas container, and rubber band\n",
       "        // canvas in synch.\n",
       "        canvas_div.css('width', width)\n",
       "        canvas_div.css('height', height)\n",
       "\n",
       "        canvas.attr('width', width * mpl.ratio);\n",
       "        canvas.attr('height', height * mpl.ratio);\n",
       "        canvas.attr('style', 'width: ' + width + 'px; height: ' + height + 'px;');\n",
       "\n",
       "        rubberband.attr('width', width);\n",
       "        rubberband.attr('height', height);\n",
       "    }\n",
       "\n",
       "    // Set the figure to an initial 600x600px, this will subsequently be updated\n",
       "    // upon first draw.\n",
       "    this._resize_canvas(600, 600);\n",
       "\n",
       "    // Disable right mouse context menu.\n",
       "    $(this.rubberband_canvas).bind(\"contextmenu\",function(e){\n",
       "        return false;\n",
       "    });\n",
       "\n",
       "    function set_focus () {\n",
       "        canvas.focus();\n",
       "        canvas_div.focus();\n",
       "    }\n",
       "\n",
       "    window.setTimeout(set_focus, 100);\n",
       "}\n",
       "\n",
       "mpl.figure.prototype._init_toolbar = function() {\n",
       "    var fig = this;\n",
       "\n",
       "    var nav_element = $('<div/>');\n",
       "    nav_element.attr('style', 'width: 100%');\n",
       "    this.root.append(nav_element);\n",
       "\n",
       "    // Define a callback function for later on.\n",
       "    function toolbar_event(event) {\n",
       "        return fig.toolbar_button_onclick(event['data']);\n",
       "    }\n",
       "    function toolbar_mouse_event(event) {\n",
       "        return fig.toolbar_button_onmouseover(event['data']);\n",
       "    }\n",
       "\n",
       "    for(var toolbar_ind in mpl.toolbar_items) {\n",
       "        var name = mpl.toolbar_items[toolbar_ind][0];\n",
       "        var tooltip = mpl.toolbar_items[toolbar_ind][1];\n",
       "        var image = mpl.toolbar_items[toolbar_ind][2];\n",
       "        var method_name = mpl.toolbar_items[toolbar_ind][3];\n",
       "\n",
       "        if (!name) {\n",
       "            // put a spacer in here.\n",
       "            continue;\n",
       "        }\n",
       "        var button = $('<button/>');\n",
       "        button.addClass('ui-button ui-widget ui-state-default ui-corner-all ' +\n",
       "                        'ui-button-icon-only');\n",
       "        button.attr('role', 'button');\n",
       "        button.attr('aria-disabled', 'false');\n",
       "        button.click(method_name, toolbar_event);\n",
       "        button.mouseover(tooltip, toolbar_mouse_event);\n",
       "\n",
       "        var icon_img = $('<span/>');\n",
       "        icon_img.addClass('ui-button-icon-primary ui-icon');\n",
       "        icon_img.addClass(image);\n",
       "        icon_img.addClass('ui-corner-all');\n",
       "\n",
       "        var tooltip_span = $('<span/>');\n",
       "        tooltip_span.addClass('ui-button-text');\n",
       "        tooltip_span.html(tooltip);\n",
       "\n",
       "        button.append(icon_img);\n",
       "        button.append(tooltip_span);\n",
       "\n",
       "        nav_element.append(button);\n",
       "    }\n",
       "\n",
       "    var fmt_picker_span = $('<span/>');\n",
       "\n",
       "    var fmt_picker = $('<select/>');\n",
       "    fmt_picker.addClass('mpl-toolbar-option ui-widget ui-widget-content');\n",
       "    fmt_picker_span.append(fmt_picker);\n",
       "    nav_element.append(fmt_picker_span);\n",
       "    this.format_dropdown = fmt_picker[0];\n",
       "\n",
       "    for (var ind in mpl.extensions) {\n",
       "        var fmt = mpl.extensions[ind];\n",
       "        var option = $(\n",
       "            '<option/>', {selected: fmt === mpl.default_extension}).html(fmt);\n",
       "        fmt_picker.append(option);\n",
       "    }\n",
       "\n",
       "    // Add hover states to the ui-buttons\n",
       "    $( \".ui-button\" ).hover(\n",
       "        function() { $(this).addClass(\"ui-state-hover\");},\n",
       "        function() { $(this).removeClass(\"ui-state-hover\");}\n",
       "    );\n",
       "\n",
       "    var status_bar = $('<span class=\"mpl-message\"/>');\n",
       "    nav_element.append(status_bar);\n",
       "    this.message = status_bar[0];\n",
       "}\n",
       "\n",
       "mpl.figure.prototype.request_resize = function(x_pixels, y_pixels) {\n",
       "    // Request matplotlib to resize the figure. Matplotlib will then trigger a resize in the client,\n",
       "    // which will in turn request a refresh of the image.\n",
       "    this.send_message('resize', {'width': x_pixels, 'height': y_pixels});\n",
       "}\n",
       "\n",
       "mpl.figure.prototype.send_message = function(type, properties) {\n",
       "    properties['type'] = type;\n",
       "    properties['figure_id'] = this.id;\n",
       "    this.ws.send(JSON.stringify(properties));\n",
       "}\n",
       "\n",
       "mpl.figure.prototype.send_draw_message = function() {\n",
       "    if (!this.waiting) {\n",
       "        this.waiting = true;\n",
       "        this.ws.send(JSON.stringify({type: \"draw\", figure_id: this.id}));\n",
       "    }\n",
       "}\n",
       "\n",
       "\n",
       "mpl.figure.prototype.handle_save = function(fig, msg) {\n",
       "    var format_dropdown = fig.format_dropdown;\n",
       "    var format = format_dropdown.options[format_dropdown.selectedIndex].value;\n",
       "    fig.ondownload(fig, format);\n",
       "}\n",
       "\n",
       "\n",
       "mpl.figure.prototype.handle_resize = function(fig, msg) {\n",
       "    var size = msg['size'];\n",
       "    if (size[0] != fig.canvas.width || size[1] != fig.canvas.height) {\n",
       "        fig._resize_canvas(size[0], size[1]);\n",
       "        fig.send_message(\"refresh\", {});\n",
       "    };\n",
       "}\n",
       "\n",
       "mpl.figure.prototype.handle_rubberband = function(fig, msg) {\n",
       "    var x0 = msg['x0'] / mpl.ratio;\n",
       "    var y0 = (fig.canvas.height - msg['y0']) / mpl.ratio;\n",
       "    var x1 = msg['x1'] / mpl.ratio;\n",
       "    var y1 = (fig.canvas.height - msg['y1']) / mpl.ratio;\n",
       "    x0 = Math.floor(x0) + 0.5;\n",
       "    y0 = Math.floor(y0) + 0.5;\n",
       "    x1 = Math.floor(x1) + 0.5;\n",
       "    y1 = Math.floor(y1) + 0.5;\n",
       "    var min_x = Math.min(x0, x1);\n",
       "    var min_y = Math.min(y0, y1);\n",
       "    var width = Math.abs(x1 - x0);\n",
       "    var height = Math.abs(y1 - y0);\n",
       "\n",
       "    fig.rubberband_context.clearRect(\n",
       "        0, 0, fig.canvas.width / mpl.ratio, fig.canvas.height / mpl.ratio);\n",
       "\n",
       "    fig.rubberband_context.strokeRect(min_x, min_y, width, height);\n",
       "}\n",
       "\n",
       "mpl.figure.prototype.handle_figure_label = function(fig, msg) {\n",
       "    // Updates the figure title.\n",
       "    fig.header.textContent = msg['label'];\n",
       "}\n",
       "\n",
       "mpl.figure.prototype.handle_cursor = function(fig, msg) {\n",
       "    var cursor = msg['cursor'];\n",
       "    switch(cursor)\n",
       "    {\n",
       "    case 0:\n",
       "        cursor = 'pointer';\n",
       "        break;\n",
       "    case 1:\n",
       "        cursor = 'default';\n",
       "        break;\n",
       "    case 2:\n",
       "        cursor = 'crosshair';\n",
       "        break;\n",
       "    case 3:\n",
       "        cursor = 'move';\n",
       "        break;\n",
       "    }\n",
       "    fig.rubberband_canvas.style.cursor = cursor;\n",
       "}\n",
       "\n",
       "mpl.figure.prototype.handle_message = function(fig, msg) {\n",
       "    fig.message.textContent = msg['message'];\n",
       "}\n",
       "\n",
       "mpl.figure.prototype.handle_draw = function(fig, msg) {\n",
       "    // Request the server to send over a new figure.\n",
       "    fig.send_draw_message();\n",
       "}\n",
       "\n",
       "mpl.figure.prototype.handle_image_mode = function(fig, msg) {\n",
       "    fig.image_mode = msg['mode'];\n",
       "}\n",
       "\n",
       "mpl.figure.prototype.updated_canvas_event = function() {\n",
       "    // Called whenever the canvas gets updated.\n",
       "    this.send_message(\"ack\", {});\n",
       "}\n",
       "\n",
       "// A function to construct a web socket function for onmessage handling.\n",
       "// Called in the figure constructor.\n",
       "mpl.figure.prototype._make_on_message_function = function(fig) {\n",
       "    return function socket_on_message(evt) {\n",
       "        if (evt.data instanceof Blob) {\n",
       "            /* FIXME: We get \"Resource interpreted as Image but\n",
       "             * transferred with MIME type text/plain:\" errors on\n",
       "             * Chrome.  But how to set the MIME type?  It doesn't seem\n",
       "             * to be part of the websocket stream */\n",
       "            evt.data.type = \"image/png\";\n",
       "\n",
       "            /* Free the memory for the previous frames */\n",
       "            if (fig.imageObj.src) {\n",
       "                (window.URL || window.webkitURL).revokeObjectURL(\n",
       "                    fig.imageObj.src);\n",
       "            }\n",
       "\n",
       "            fig.imageObj.src = (window.URL || window.webkitURL).createObjectURL(\n",
       "                evt.data);\n",
       "            fig.updated_canvas_event();\n",
       "            fig.waiting = false;\n",
       "            return;\n",
       "        }\n",
       "        else if (typeof evt.data === 'string' && evt.data.slice(0, 21) == \"data:image/png;base64\") {\n",
       "            fig.imageObj.src = evt.data;\n",
       "            fig.updated_canvas_event();\n",
       "            fig.waiting = false;\n",
       "            return;\n",
       "        }\n",
       "\n",
       "        var msg = JSON.parse(evt.data);\n",
       "        var msg_type = msg['type'];\n",
       "\n",
       "        // Call the  \"handle_{type}\" callback, which takes\n",
       "        // the figure and JSON message as its only arguments.\n",
       "        try {\n",
       "            var callback = fig[\"handle_\" + msg_type];\n",
       "        } catch (e) {\n",
       "            console.log(\"No handler for the '\" + msg_type + \"' message type: \", msg);\n",
       "            return;\n",
       "        }\n",
       "\n",
       "        if (callback) {\n",
       "            try {\n",
       "                // console.log(\"Handling '\" + msg_type + \"' message: \", msg);\n",
       "                callback(fig, msg);\n",
       "            } catch (e) {\n",
       "                console.log(\"Exception inside the 'handler_\" + msg_type + \"' callback:\", e, e.stack, msg);\n",
       "            }\n",
       "        }\n",
       "    };\n",
       "}\n",
       "\n",
       "// from http://stackoverflow.com/questions/1114465/getting-mouse-location-in-canvas\n",
       "mpl.findpos = function(e) {\n",
       "    //this section is from http://www.quirksmode.org/js/events_properties.html\n",
       "    var targ;\n",
       "    if (!e)\n",
       "        e = window.event;\n",
       "    if (e.target)\n",
       "        targ = e.target;\n",
       "    else if (e.srcElement)\n",
       "        targ = e.srcElement;\n",
       "    if (targ.nodeType == 3) // defeat Safari bug\n",
       "        targ = targ.parentNode;\n",
       "\n",
       "    // jQuery normalizes the pageX and pageY\n",
       "    // pageX,Y are the mouse positions relative to the document\n",
       "    // offset() returns the position of the element relative to the document\n",
       "    var x = e.pageX - $(targ).offset().left;\n",
       "    var y = e.pageY - $(targ).offset().top;\n",
       "\n",
       "    return {\"x\": x, \"y\": y};\n",
       "};\n",
       "\n",
       "/*\n",
       " * return a copy of an object with only non-object keys\n",
       " * we need this to avoid circular references\n",
       " * http://stackoverflow.com/a/24161582/3208463\n",
       " */\n",
       "function simpleKeys (original) {\n",
       "  return Object.keys(original).reduce(function (obj, key) {\n",
       "    if (typeof original[key] !== 'object')\n",
       "        obj[key] = original[key]\n",
       "    return obj;\n",
       "  }, {});\n",
       "}\n",
       "\n",
       "mpl.figure.prototype.mouse_event = function(event, name) {\n",
       "    var canvas_pos = mpl.findpos(event)\n",
       "\n",
       "    if (name === 'button_press')\n",
       "    {\n",
       "        this.canvas.focus();\n",
       "        this.canvas_div.focus();\n",
       "    }\n",
       "\n",
       "    var x = canvas_pos.x * mpl.ratio;\n",
       "    var y = canvas_pos.y * mpl.ratio;\n",
       "\n",
       "    this.send_message(name, {x: x, y: y, button: event.button,\n",
       "                             step: event.step,\n",
       "                             guiEvent: simpleKeys(event)});\n",
       "\n",
       "    /* This prevents the web browser from automatically changing to\n",
       "     * the text insertion cursor when the button is pressed.  We want\n",
       "     * to control all of the cursor setting manually through the\n",
       "     * 'cursor' event from matplotlib */\n",
       "    event.preventDefault();\n",
       "    return false;\n",
       "}\n",
       "\n",
       "mpl.figure.prototype._key_event_extra = function(event, name) {\n",
       "    // Handle any extra behaviour associated with a key event\n",
       "}\n",
       "\n",
       "mpl.figure.prototype.key_event = function(event, name) {\n",
       "\n",
       "    // Prevent repeat events\n",
       "    if (name == 'key_press')\n",
       "    {\n",
       "        if (event.which === this._key)\n",
       "            return;\n",
       "        else\n",
       "            this._key = event.which;\n",
       "    }\n",
       "    if (name == 'key_release')\n",
       "        this._key = null;\n",
       "\n",
       "    var value = '';\n",
       "    if (event.ctrlKey && event.which != 17)\n",
       "        value += \"ctrl+\";\n",
       "    if (event.altKey && event.which != 18)\n",
       "        value += \"alt+\";\n",
       "    if (event.shiftKey && event.which != 16)\n",
       "        value += \"shift+\";\n",
       "\n",
       "    value += 'k';\n",
       "    value += event.which.toString();\n",
       "\n",
       "    this._key_event_extra(event, name);\n",
       "\n",
       "    this.send_message(name, {key: value,\n",
       "                             guiEvent: simpleKeys(event)});\n",
       "    return false;\n",
       "}\n",
       "\n",
       "mpl.figure.prototype.toolbar_button_onclick = function(name) {\n",
       "    if (name == 'download') {\n",
       "        this.handle_save(this, null);\n",
       "    } else {\n",
       "        this.send_message(\"toolbar_button\", {name: name});\n",
       "    }\n",
       "};\n",
       "\n",
       "mpl.figure.prototype.toolbar_button_onmouseover = function(tooltip) {\n",
       "    this.message.textContent = tooltip;\n",
       "};\n",
       "mpl.toolbar_items = [[\"Home\", \"Reset original view\", \"fa fa-home icon-home\", \"home\"], [\"Back\", \"Back to previous view\", \"fa fa-arrow-left icon-arrow-left\", \"back\"], [\"Forward\", \"Forward to next view\", \"fa fa-arrow-right icon-arrow-right\", \"forward\"], [\"\", \"\", \"\", \"\"], [\"Pan\", \"Pan axes with left mouse, zoom with right\", \"fa fa-arrows icon-move\", \"pan\"], [\"Zoom\", \"Zoom to rectangle\", \"fa fa-square-o icon-check-empty\", \"zoom\"], [\"\", \"\", \"\", \"\"], [\"Download\", \"Download plot\", \"fa fa-floppy-o icon-save\", \"download\"]];\n",
       "\n",
       "mpl.extensions = [\"eps\", \"jpeg\", \"pdf\", \"png\", \"ps\", \"raw\", \"svg\", \"tif\"];\n",
       "\n",
       "mpl.default_extension = \"png\";var comm_websocket_adapter = function(comm) {\n",
       "    // Create a \"websocket\"-like object which calls the given IPython comm\n",
       "    // object with the appropriate methods. Currently this is a non binary\n",
       "    // socket, so there is still some room for performance tuning.\n",
       "    var ws = {};\n",
       "\n",
       "    ws.close = function() {\n",
       "        comm.close()\n",
       "    };\n",
       "    ws.send = function(m) {\n",
       "        //console.log('sending', m);\n",
       "        comm.send(m);\n",
       "    };\n",
       "    // Register the callback with on_msg.\n",
       "    comm.on_msg(function(msg) {\n",
       "        //console.log('receiving', msg['content']['data'], msg);\n",
       "        // Pass the mpl event to the overridden (by mpl) onmessage function.\n",
       "        ws.onmessage(msg['content']['data'])\n",
       "    });\n",
       "    return ws;\n",
       "}\n",
       "\n",
       "mpl.mpl_figure_comm = function(comm, msg) {\n",
       "    // This is the function which gets called when the mpl process\n",
       "    // starts-up an IPython Comm through the \"matplotlib\" channel.\n",
       "\n",
       "    var id = msg.content.data.id;\n",
       "    // Get hold of the div created by the display call when the Comm\n",
       "    // socket was opened in Python.\n",
       "    var element = $(\"#\" + id);\n",
       "    var ws_proxy = comm_websocket_adapter(comm)\n",
       "\n",
       "    function ondownload(figure, format) {\n",
       "        window.open(figure.imageObj.src);\n",
       "    }\n",
       "\n",
       "    var fig = new mpl.figure(id, ws_proxy,\n",
       "                           ondownload,\n",
       "                           element.get(0));\n",
       "\n",
       "    // Call onopen now - mpl needs it, as it is assuming we've passed it a real\n",
       "    // web socket which is closed, not our websocket->open comm proxy.\n",
       "    ws_proxy.onopen();\n",
       "\n",
       "    fig.parent_element = element.get(0);\n",
       "    fig.cell_info = mpl.find_output_cell(\"<div id='\" + id + \"'></div>\");\n",
       "    if (!fig.cell_info) {\n",
       "        console.error(\"Failed to find cell for figure\", id, fig);\n",
       "        return;\n",
       "    }\n",
       "\n",
       "    var output_index = fig.cell_info[2]\n",
       "    var cell = fig.cell_info[0];\n",
       "\n",
       "};\n",
       "\n",
       "mpl.figure.prototype.handle_close = function(fig, msg) {\n",
       "    var width = fig.canvas.width/mpl.ratio\n",
       "    fig.root.unbind('remove')\n",
       "\n",
       "    // Update the output cell to use the data from the current canvas.\n",
       "    fig.push_to_output();\n",
       "    var dataURL = fig.canvas.toDataURL();\n",
       "    // Re-enable the keyboard manager in IPython - without this line, in FF,\n",
       "    // the notebook keyboard shortcuts fail.\n",
       "    IPython.keyboard_manager.enable()\n",
       "    $(fig.parent_element).html('<img src=\"' + dataURL + '\" width=\"' + width + '\">');\n",
       "    fig.close_ws(fig, msg);\n",
       "}\n",
       "\n",
       "mpl.figure.prototype.close_ws = function(fig, msg){\n",
       "    fig.send_message('closing', msg);\n",
       "    // fig.ws.close()\n",
       "}\n",
       "\n",
       "mpl.figure.prototype.push_to_output = function(remove_interactive) {\n",
       "    // Turn the data on the canvas into data in the output cell.\n",
       "    var width = this.canvas.width/mpl.ratio\n",
       "    var dataURL = this.canvas.toDataURL();\n",
       "    this.cell_info[1]['text/html'] = '<img src=\"' + dataURL + '\" width=\"' + width + '\">';\n",
       "}\n",
       "\n",
       "mpl.figure.prototype.updated_canvas_event = function() {\n",
       "    // Tell IPython that the notebook contents must change.\n",
       "    IPython.notebook.set_dirty(true);\n",
       "    this.send_message(\"ack\", {});\n",
       "    var fig = this;\n",
       "    // Wait a second, then push the new image to the DOM so\n",
       "    // that it is saved nicely (might be nice to debounce this).\n",
       "    setTimeout(function () { fig.push_to_output() }, 1000);\n",
       "}\n",
       "\n",
       "mpl.figure.prototype._init_toolbar = function() {\n",
       "    var fig = this;\n",
       "\n",
       "    var nav_element = $('<div/>');\n",
       "    nav_element.attr('style', 'width: 100%');\n",
       "    this.root.append(nav_element);\n",
       "\n",
       "    // Define a callback function for later on.\n",
       "    function toolbar_event(event) {\n",
       "        return fig.toolbar_button_onclick(event['data']);\n",
       "    }\n",
       "    function toolbar_mouse_event(event) {\n",
       "        return fig.toolbar_button_onmouseover(event['data']);\n",
       "    }\n",
       "\n",
       "    for(var toolbar_ind in mpl.toolbar_items){\n",
       "        var name = mpl.toolbar_items[toolbar_ind][0];\n",
       "        var tooltip = mpl.toolbar_items[toolbar_ind][1];\n",
       "        var image = mpl.toolbar_items[toolbar_ind][2];\n",
       "        var method_name = mpl.toolbar_items[toolbar_ind][3];\n",
       "\n",
       "        if (!name) { continue; };\n",
       "\n",
       "        var button = $('<button class=\"btn btn-default\" href=\"#\" title=\"' + name + '\"><i class=\"fa ' + image + ' fa-lg\"></i></button>');\n",
       "        button.click(method_name, toolbar_event);\n",
       "        button.mouseover(tooltip, toolbar_mouse_event);\n",
       "        nav_element.append(button);\n",
       "    }\n",
       "\n",
       "    // Add the status bar.\n",
       "    var status_bar = $('<span class=\"mpl-message\" style=\"text-align:right; float: right;\"/>');\n",
       "    nav_element.append(status_bar);\n",
       "    this.message = status_bar[0];\n",
       "\n",
       "    // Add the close button to the window.\n",
       "    var buttongrp = $('<div class=\"btn-group inline pull-right\"></div>');\n",
       "    var button = $('<button class=\"btn btn-mini btn-primary\" href=\"#\" title=\"Stop Interaction\"><i class=\"fa fa-power-off icon-remove icon-large\"></i></button>');\n",
       "    button.click(function (evt) { fig.handle_close(fig, {}); } );\n",
       "    button.mouseover('Stop Interaction', toolbar_mouse_event);\n",
       "    buttongrp.append(button);\n",
       "    var titlebar = this.root.find($('.ui-dialog-titlebar'));\n",
       "    titlebar.prepend(buttongrp);\n",
       "}\n",
       "\n",
       "mpl.figure.prototype._root_extra_style = function(el){\n",
       "    var fig = this\n",
       "    el.on(\"remove\", function(){\n",
       "\tfig.close_ws(fig, {});\n",
       "    });\n",
       "}\n",
       "\n",
       "mpl.figure.prototype._canvas_extra_style = function(el){\n",
       "    // this is important to make the div 'focusable\n",
       "    el.attr('tabindex', 0)\n",
       "    // reach out to IPython and tell the keyboard manager to turn it's self\n",
       "    // off when our div gets focus\n",
       "\n",
       "    // location in version 3\n",
       "    if (IPython.notebook.keyboard_manager) {\n",
       "        IPython.notebook.keyboard_manager.register_events(el);\n",
       "    }\n",
       "    else {\n",
       "        // location in version 2\n",
       "        IPython.keyboard_manager.register_events(el);\n",
       "    }\n",
       "\n",
       "}\n",
       "\n",
       "mpl.figure.prototype._key_event_extra = function(event, name) {\n",
       "    var manager = IPython.notebook.keyboard_manager;\n",
       "    if (!manager)\n",
       "        manager = IPython.keyboard_manager;\n",
       "\n",
       "    // Check for shift+enter\n",
       "    if (event.shiftKey && event.which == 13) {\n",
       "        this.canvas_div.blur();\n",
       "        // select the cell after this one\n",
       "        var index = IPython.notebook.find_cell_index(this.cell_info[0]);\n",
       "        IPython.notebook.select(index + 1);\n",
       "    }\n",
       "}\n",
       "\n",
       "mpl.figure.prototype.handle_save = function(fig, msg) {\n",
       "    fig.ondownload(fig, null);\n",
       "}\n",
       "\n",
       "\n",
       "mpl.find_output_cell = function(html_output) {\n",
       "    // Return the cell and output element which can be found *uniquely* in the notebook.\n",
       "    // Note - this is a bit hacky, but it is done because the \"notebook_saving.Notebook\"\n",
       "    // IPython event is triggered only after the cells have been serialised, which for\n",
       "    // our purposes (turning an active figure into a static one), is too late.\n",
       "    var cells = IPython.notebook.get_cells();\n",
       "    var ncells = cells.length;\n",
       "    for (var i=0; i<ncells; i++) {\n",
       "        var cell = cells[i];\n",
       "        if (cell.cell_type === 'code'){\n",
       "            for (var j=0; j<cell.output_area.outputs.length; j++) {\n",
       "                var data = cell.output_area.outputs[j];\n",
       "                if (data.data) {\n",
       "                    // IPython >= 3 moved mimebundle to data attribute of output\n",
       "                    data = data.data;\n",
       "                }\n",
       "                if (data['text/html'] == html_output) {\n",
       "                    return [cell, data, j];\n",
       "                }\n",
       "            }\n",
       "        }\n",
       "    }\n",
       "}\n",
       "\n",
       "// Register the function which deals with the matplotlib target/channel.\n",
       "// The kernel may be null if the page has been refreshed.\n",
       "if (IPython.notebook.kernel != null) {\n",
       "    IPython.notebook.kernel.comm_manager.register_target('matplotlib', mpl.mpl_figure_comm);\n",
       "}\n"
      ],
      "text/plain": [
       "<IPython.core.display.Javascript object>"
      ]
     },
     "metadata": {},
     "output_type": "display_data"
    },
    {
     "data": {
      "text/html": [
       "<img src=\"data:image/png;base64,iVBORw0KGgoAAAANSUhEUgAABdwAAAJxCAYAAABYEHDaAAAgAElEQVR4XuydB5QVxdPFS3JGAUGRnJEoOUsSEDOYc8T4N2cUUUHMOYsZVMx8KpKDRJEMgkQBAQEJEiRI8Dt33vbb2t5+b3p3h3z7HM+RfT09Pb/pmemurrp11H///fefsJAACZAACZAACZAACZAACZAACZAACZAACZAACZAACZAACWSJwFE0uGeJHw8mARIgARIgARIgARIgARIgARIgARIgARIgARIgARIggYAADe4cCCRAAiRAAiRAAiRAAiRAAiRAAiRAAiRAAiRAAiRAAiQQAQEa3COAyCZIgARIgARIgARIgARIgARIgARIgARIgARIgARIgARIgAZ3jgESIAESIAESIAESIAESIAESIAESIAESIAESIAESIAESiIAADe4RQGQTJEACJEACJEACJEACJEACJEACJEACJEACJEACJEACJECDO8cACZAACZAACZAACZAACZAACZAACZAACZAACZAACZAACURAgAb3CCCyCRIgARIgARIgARIgARIgARIgARIgARIgARIgARIgARKgwZ1jgARIgARIgARIgARIgARIgARIgARIgARIgARIgARIgAQiIECDewQQ2QQJkAAJkAAJkAAJkAAJkAAJkAAJkAAJkAAJkAAJkAAJ0ODOMUACJEACJEACJEACJEACJEACJEACJEACJEACJEACJEACERCgwT0CiGyCBEiABEiABEiABEiABEiABEiABEiABEiABEiABEiABGhw5xggARIgARIgARIgARIgARIgARIgARIgARIgARIgARIggQgI0OAeAUQ2QQIkQAIkQAIkQAIkQAIkQAIkQAIkQAIkQAIkQAIkQAI0uHMMkAAJkAAJkAAJkAAJkAAJkAAJkAAJkAAJkAAJkAAJkEAEBGhwjwAimyABEiABEiABEiABEiABEiABEiABEiABEiABEiABEiABGtw5BkiABEiABEiABEiABEiABEiABEiABEiABEiABEiABEggAgI0uEcAkU2QAAmQAAmQAAmQAAmQAAmQAAmQAAmQAAmQAAmQAAmQAA3uHAMkQAIkQAIkQAIkQAIkQAIkQAIkQAIkQAIkQAIkQAIkEAEBGtwjgMgmSIAESIAESIAESIAESIAESIAESIAESIAESIAESIAESIAGd44BEiABEiABEiABEiABEiABEiABEiABEiABEiABEiABEoiAAA3uEUBkEyRAAiRAAiRAAiRAAiRAAiRAAiRAAiRAAiRAAiRAAiRAgzvHAAmQAAmQAAmQAAmQAAmQAAmQAAmQAAmQAAmQAAmQAAlEQIAG9wggsgkSIAESIAESIAESIAESIAESIAESIAESIAESIAESIAESoMGdY4AESIAESIAESIAESIAESIAESIAESIAESIAESIAESIAEIiBAg3sEENkECZAACZAACZAACZAACZAACZAACZAACZAACZAACZAACdDgzjFAAiRAAiRAAiRAAiRAAiRAAiRAAiRAAiRAAiRAAiRAAhEQoME9AohsggRIgARIgARIgARIgARIgARIgARIgARIgARIgARIgARocOcYIAESIAESIAESIAESIAESIAESIAESIAESIAESIAESIIEICNDgHgFENkECJEACJEACJEACJEACJEACJEACJEACJEACJEACJEACNLhzDJAACZAACZAACZAACZAACZAACZAACZAACZAACZAACZBABARocI8AIpsgARIgARIgARIgARIgARIgARIgARIgARIgARIgARIgARrcOQZIgARIgARIgARIgARIgARIgARIgARIgARIgARIgARIIAICNLhHAJFNkAAJkAAJkAAJkAAJkAAJkAAJkAAJkAAJkAAJkAAJkAAN7hwDJEACJEACJEACJEACJEACJEACJEACJEACJEACJEACJBABARrcI4DIJkiABEiABEiABEiABEiABEiABEiABEiABEiABEiABEiABneOARIgARIgARIgARIgARIgARIgARIgARIgARIgARIgARKIgAAN7hFAZBMkQAIkQAIkQAIkQAIkQAIkQAIkQAIkQAIkQAIkQAIkQIM7xwAJkAAJkAAJkAAJkAAJkAAJkAAJkAAJkAAJkAAJkAAJRECABvcIILIJEiABEiABEiABEiABEiABEiABEiABEiABEiABEiABEqDBnWOABEiABEiABEiABEiABEiABEiABEiABEiABEiABEiABCIgQIN7BBDZBAmQAAmQAAmQAAmQAAmQAAmQAAmQAAmQAAmQAAmQAAnQ4M4xQAIkQAIkQAIkQAIkQAIkQAIkQAIkQAIkQAIkQAIkQAIREKDBPQKIbIIESIAESIAESIAESIAESIAESIAESIAESIAESIAESIAEaHDnGCABEiABEiABEiABEiABEiABEiABEiABEiABEiABEiCBCAjQ4B4BRDZBAiRAAiRAAiRAAiRAAiRAAiRAAiRAAiRAAiRAAiRAAjS4cwyQAAmQAAmQAAmQAAmQAAmQAAmQAAmQAAmQAAmQAAmQQAQEaHCPACKbIAESIAESIAESIAESIAESIAESIAESIAESIAESIAESIAEa3DkGSIAESIAESIAESIAESIAESIAESIAESIAESIAESIAESCACAjS4RwCRTZAACZAACZAACZAACZAACZAACZAACZAACZAACZAACZAADe4cAyRAAiRAAiRAAiRAAiRAAiRAAiRAAiRAAiRAAiRAAiQQAQEa3COAyCZIgARIgARIgARIgARIgARIgARIgARIgARIgARIgARIgAZ3jgESIAESIAESIAESIAESIAESIAESIAESIAESIAESIAESiIAADe4RQGQTJEACJEACJEACJEACJEACJEACJEACJEACJEACJEACJECDO8cACZAACZAACZAACZAACZAACZAACZAACZAACZAACZAACURAgAb3CCCyCRIgARIgARIgARIgARIgARIgARIgARIgARIgARIgARKgwZ1jgARIgARIgARIgARIgARIgARIgARIgARIgARIgARIgAQiIECDewQQ2QQJkAAJkAAJkAAJkAAJkAAJkAAJkAAJkAAJkAAJkAAJ0ODOMUACJEACJEACJEACJEACJEACJEACJEACJEACJEACJEACERCgwT0CiGyCBEiABEiABEiABEiABEiABEiABEiABEiABEiABEiABGhw5xggARIgARIgARIgARIgARIgARIgARIgARIgARIgARIggQgI0OAeAUQ2QQIkQAIkQAIkQAIkQAIkQAIkQAIkQAIkQAIkQAIkQAI0uHMMkAAJkAAJkAAJkAAJkAAJkAAJkAAJkAAJkAAJkAAJkEAEBGhwjwAimyABEiABEiABEiABEiABEiABEiABEiABEiABEiABEiABGtw5BkiABEiABEiABEiABEiABEiABEiABEiABEiABEiABEggAgI0uEcAkU2QAAmQAAmQAAmQAAmQAAmQAAmQAAmQAAmQAAmQAAmQAA3uHAMkQAIkQAIkQAIkQAIkQAIkQAIkQAIkQAIkQAIkQAIkEAEBGtwjgMgmSIAESIAESIAESIAESIAESIAESIAESIAESIAESIAESIAGd44BEiABEiABEiABEiABEiABEiABEiABEiABEiABEiABEoiAAA3uEUBkEyRAAiRAAiRAAiRAAiRAAiRAAiRAAiRAAiRAAiRAAiRAgzvHAAmQAAmQAAmQAAmQAAmQAAmQAAmQAAmQAAmQAAmQAAlEQIAG9wggsgkSIAESIAESIAESIAESIAESIAESIAESIAESIAESIAESoMGdY4AESIAESIAESIAESIAESIAESIAESIAESIAESIAESIAEIiBAg3sEENkECZAACZAACZAACZAACZAACZAACZAACZAACZAACZAACdDgzjFwxBBYt26dDBkyRMqVKyd58+Y9Yq6bF0oCJEACJEACJEACJEACJEACJEACJEACJJCWwPbt22Xp0qXSsWNHKVasGPGQQGQEaHCPDCUbOtgJ9O/fXy699NKDvZvsHwmQAAmQAAmQAAmQAAmQAAmQAAmQAAmQwH4i0K9fP7nkkkv209l4miOBAA3uR8Jd5jUGBMaPHy8tWrQQvEirV69OKiRAAiRAAiRAAiRAAiRAAiRAAiRAAiRAAkcogXnz5gWOmePGjZPmzZsfoRR42fuCAA3u+4Iq2zwoCUybNk3q168vU6dOlXr16h2UfWSnSIAESIAESIAESIAESIAESIAEMk5g1569ku2ooyR7tqMyfjCPIAESOCIJ0E50RN72/XLRNLjvF8w8ycFAgC/Sg+EusA8kQAIkQAIkQAIkQAIkQAIkEC2BdVt3SueXxkqenNll0G0tpUDuHNGegK2RAAkclgRoJzosb+tBcVE0uB8Ut4Gd2B8E+CLdH5R5DhIgARIgARIgARIgARIgARLYvwR6DJwjH01cFpz03k5V5abWlUI7MG35Ruk7domcVquknFb7+ND6rEACJHD4EaCd6PC7pwfLFdHgfrDcCfZjnxPgi3SfI+YJSIAESIAESIAESIAESIAESGC/E7ip/1QZNHt1cN5rWpSXh08/MbQPtXoOkS07dgfe8HMe7RhanxVIgAQOPwK0Ex1+9/RguSIa3A+WO8F+7HMCfJHuc8Q8AQmQAAmQAAmQAAmQAAmQwBFIYOCMlfLN9JVyT8eqUqNk4f1O4JZPpsn3s/4Mzntls3LS88waoX0od/8P8Tq/9+ksRx1F7fdQaKxAAocZAdqJDrMbehBdDg3uB9HNYFf2LQG+SPctX7ZOAiRAAiRAAiRAAiRAAiRwZBIwxut8ubLL3Mc67XcIt302XQbOWBWc97ImZeXxs2uG9kEb3Of36iS5c2QPPeZQrPDff/9xM+FQvHHs834hQDvRfsF8RJ6EBvcj8rYfmRft8yLFZGTTpk2yefNm2b17t+zdu/fIhKWuOlu2bJIjRw4pVKiQFC5cmJO1I35EEIAm8PzQ+fLpL3/Ik11qSbvqJbzhvPPTEvl8yh+B91XzSsW8jzvQFblgO9B3gOcnARIgARIggYOTgDZeL33ytP3eyds/my7fphjcL29aVh47K2MG95mPdJDCeXPu937vyxPu2rNXbu4/TWav3CTvXN5Aap6w/yMP9uX1sW0SiIKAj50oivOwjSOPAA3uR949P2KvOOxFumvXLlmxYoXs2LEjYJQ9e3aBsflIL9h02LNnT4AhT548Urp06cAAz0ICRzqBf3fvlSoP/RjH4Lu43LRtl9R5bGhwXMvKxeTjaxofEihXb9oh5781UUoenUf6X9tEsmdj2PUhcePYSRIgARIggQNGYPeevbJ91x4pmOfwMuS6gB5og/utn06X/5sZ83C/qFEZ6dOlVtL7vmfvf1LxwUHxOpMfbCfFC+VJdwycDW77bIYsWLNF+l7RQEodk++AjaeMnvirqSvkri9mBodd3by89DgjXNc+o+dgfRI41AmE2YkO9etj/w8cARrcDxx7nnk/Ewh7ka5du1bWr18feHIXL15ccuY8/CfGvrcAmxHgA8//okWLBnxYSCBqAm//tFi+mrpSep9TUxqUK+LdPLx3Nvzzr5RwLJK8G8lERSy8OrzwU/zIhb1PlZzZwzfplvy1Vdo+NyZ+nK+hPhNdjPSQOwbMCLRZUV6+6CQ5s07JSNtnYyRAAocngd/X/SNXf/CL1DqhsLx0Yd2EkXLL12+TL6etkDPrHC+Vihc8PGHwqo4oAvp7j7F/Vt0TDtvrx8ZCpe4Zd0KIEsh1H02RYXPXBE2eXbekvHjhSUmb3/bvbjmxx5B4nbH3tpHSRdIb039esl4ueHtSUK999RKB0f1QKU8N/k3eGL046G6LSsWk37WHhpPHocKX/Tw8CITZiQ6Pq+RVHAgCNLgfCOo85wEhEPYiXbJkicCwXKVKFcqmOO4QPN0XLlwYbERUqFDhgNxDnvTwJQDvofIPpHoZ+Rqhcdzl702WsQvXyVNda8kFDcvsN0hTl22Qrm9MjJ9v1N2tpXyx/KHnX7hmi5yiDPW+1xra8D6uAO/2yb9vCM5y/6nV5IaTK+7jM7J5EsgYgcV/bZXpy/+W02sfL3lyHp46vBkjkrHaeJ9CdqB4wTxyXOH0Xp4Zay219rlvTJApyzYGf/j+fy0SShp0eGGMLFizVUodk1fG3dc2s6fjcSRw0BB4afhCeWH4gqA/xQrkkikPnXLQ9C3qjmz/d49U7zE43myyuQ3eNVt27pZCEXv9X/T2JJm4ZH3QBx/D+PqtO6V+r+HxPg+7o5VULpF+s++b6SvkjgExL/GyRfPJmHvaRIZvx6490mfQvKC9R86oIdkijh7sMXCOfDRxWdB+4/JFZMD1TSPr+6He0Kj5awVz8subluOc4VC/mVnsf5idKIvN8/AjmAAN7kfwzT/SLj3sRbpo0aIASaVKlQ5qNHv/+0+yHXVgpBwOFUZZvYFbd+6WH2atCrS1D6Ww0axe94E8Hh7q9R4f5rVQ0/2E52SbZ0fvk0VQGI+fFvwVGPtN+axbE2lSoWjYYTLvz81y6ktjM3ytoQ3v4wrwUB3529rgLP9rW0nu6lB1H58xbfNYoM9csSmQtIFBkGXfEoBX3PhF6+T58+tKpeIF9u3JImh9797/pPlTI+XPTTvk5jYV5Z6O1SJo9chqwrzTCubOIT93byf5ckUjH1frkSGBcQ3l42saScvKxzrBHmg5CrtTGFNRG78O9xH197Z/Zfyi9dKySrHIjamHIrsHvp4tn05eHnQ9R7ajZNETnQ+Jy0C0SatnRgV9HXx7S6l2XKHQfmu5PFROZnC/c8AM+XbGSnn2vDrSpV6p0LZ9K9TuOUQ274i9a5pVLCqfXNck6aEr/94uzZ8cGa+TaEPw40nL5OFv5wT1Tjy+kAy6raVvl0LrPTtkvrw6KrYG/eCqhtK6arRRxHd+PkO+nhaLTqxT+mgZeHPz0D4dTBUGzlgps1dskttPqSIFckfzTcL1rd2yQxr1HhFc6q1tK8md+3lOezAxZl9EwuxEZEQCmSVAg3tmyfG4DBOYMmWK9OvXT0aOHCm///675M+fX2rUqCEPPPCAtG/fPt7e0qVLpXz58s72r7nmGunbt2+Gz40Dwl6kB7sxGYb2PzZsk83bd8vxhfNIsYK5M8UhKwcd7Iyycm36WCwEvp6+MvJJNc7BBbz7Lv22erN0ejHVCP17n85ekSazVvwtZ746PvX9sR+TdA2es1pu6Dc1fm7fcPE5KzfJ6a+MOyB9zsozcmO/qfLjnNVBE9e3qiAPdK6eleYyfOzQX1dLt4+nSqE8OWT4nSc7dVYz3Oh+OGDFxm3y3cw/A69rV6j6fuhChk+hjRA+RosMn2AfHJARY88+OP1h0WSDXsNl3dadwbUgud4pJ/ongk4GAJup2FRFee/KBtK2Wvp27ZwYi5/ofEDzRAya/afc++UsubRJ2SCih8WPQLePpsjQuWuC992rF9fzO8ij1uj5awX63KfVPl6eOKeW1/zAo9mgCt4dl78/WeDK8sl1jSPbaELb1374iwyfF9uozpMzm/z2+Km+3Tqg9a79cIoMnxeTZrmyWbkgwXtY0QZM1E1mcM/o5hq8wCEXc9RRR8lbl9aXvLnSRzDZ5/cxLiMqqp2S+Pv6pmZSr8wx6S71rTGLpc+PvwV/b1juGPnihmZhOLx/7/L6eJm2/O+gfvfO1eW6VtFGEV//8RQZ8mvsXlYuXkCG3Xmyd98OdMW/tuyUhr1jEQhXNS8XRABEVSYtWS8XpsgEHUrPZlTXfzi2A8ccRLhUKFYgw1F6YXaiw5EXr2n/EKDBff9w5llE5Nxzz5UxY8ZI165dpV69erJ161Z5//33Zc6cOfL666/LjTfeGHAyBvezzjorOEYXeJ83aZLcWyER7LAX6cFuTN74z7/yx8ZtweXlyJZNTiwZ7m0S9cA72BlFcb12SKyv4dfn3F9PWyE9Bv4qN7auKDe3ObgjKXyuJ8o6euKLduc+1tFr0WvLuuxPeRbczzs/j4UYo/gulGb+8bec9dqB2STIyj3TizaM4fs67V8j1G2fTZeBM2LJ0B47q0YQAnwolEv6Tgo8Pg+lhS48ypAgzpT9+Vxl9p5qj8xgLrEfN98y2+eD7bgGvYbJuq0xw3iUBvfGTwyXNZtjhvw3L60nnWoen+7Sl63/R05+JhathDLlofZSrMD+dyww59cGwSVPdD4kPN0xf3ns+7mBU8at7Srv9+EFo2i1h/0kRTLaubNfGy8z/ogZJX+4tYXUKFk4o00krA/PZXgwozxzbm05r0HpyNo+89VxMmvFpnh7vz3e6ZCQrtBRKU0qFJHPuoXLkGBzucVTMa/4ZO/gzGi962/SdS3LS/fT0if+RCQBIgpM8fnm2g4QiSIVnx+2QF4esTBo+uQqx8qHVzeKbIxc/M4kmbA4JoNzd4cqckvbaJ9d3X7JwnlkwgPtIuv7vm5o4uL1ctE7Me38ZGMqM/2ARCKkElFyZc8mC3ofGpthmbnWI+WY10YtkmeGzJdyRfMFjjk5PPJqgQ0cAt76apg8eMXpMnXq1MBOxUICURGgwT0qkmwnlMD48eOlQYMGkjt36gJq+/btUrduXfnrr7+CpJw5cuSIG9y7d+8uvXr1Cm3Xt8KhbnBfvWm7rN0SW7CiYLGRPWKdvzCWmTG4Y7d52797JH+EYYBh/czK792/mS39f46F/6LM7tlBCkakMZlRj56sXMehduyo39bKVR/8Eu/2uPvaeMn5TFi8Ti5+5+f4cfvTyPbxxKXy8MBf4+dOtAi078XUZRul6xsTDkifszIudDKyAyHZoUPFYeyH0f9QKIei4a78Az/If//F6B6TL6dM79EhEtQwtLw0YqEUzptTrm0ZrRffgYx2iQTOQdCINrj3vbyBtI/Iw73FUyNlxcbtwRUmigQat3CdXPpu6rvcV8ZiX2HTz+2E+9tKyaPz7qtTRdauNgoO6NZEGieROMtMtB3mcyjwMnaV98f/Lo9+Nzf+U5QOC/p+wMP94sbR5Wtp1Ht4fH6NjYo7T6kS2T3Rm01odOpD7aXoAdxI8r2w9s+PkUVrtwbVG5UrIp/fEG5w1xJ/OC7RfGzzjl1Su+fQDM2B9HyrSokCMvSO9F7a305fKbcPSN0oPuHovDL+/uS5IGynjY+ubiStqqSXvHr8+7ny7rjfgz6fVut4ee2S6Axy13zwi4xIketDbpyoI2raPTdaFv/1T9B3fHtnPhLN99x3LGWlXr9Jy+ShFCkfRDfO6tkxK82lOVbf+0NJ7ikyAIdhQ/o7MeT2VlL1OL/k61e+P1mGjJkoqz+8nQb3w3BcHOhLosH9QN8Bnl/uuusuef7552X58uVSunTpNAZ3GN1R8ubN+kLnUDe4r9y4TdanhGSDSdUSBSX3fk4Kl1GDO0LE4VkBr6QXL6wrp9cuedCPeP2xRmfH3tsmEhkI2/MryoXoQQ/Vo4M/zPpTbv5kWrxmssR6urkxC/6SK5SO+v40uMPbCQYOUy5sWFqe7Fo79Gp/WbpBznszNdnq/uxzaOeSVNCh8ftCw3343DXy0aRlgZZmg3JF0vTkn527pcYjQ+J/u7p5eelxRnoPt6xc3746Vr9TZvQ4RY7OlyuyU+EdO2DKH1KxWH5pVqlYZO3qPlc7rqAMvr1VJG3rqJB+1zSWFpWj6/PYhX/JZe+m5lQ4VJ6rSMBG1Ig2uL97RQNpVz0aSZmWT4+UPzbEDO7PnVdHutZPr9lse6f2v7ZxkEflQBX9DETtUb2vrumsV8cFeS5Qep5xolzZ3C3P+MKwBfLe+N/lyS61A4kWn7Lt392BNyhs7l/c0NQZgXbPFzPli6kr4s1F+b7T9yMjRkl4XcPwmmiTAJ09+ZlRsmx9LIK0a71S8tz5dXyQhNbZs/c/qdx9kOxN2bzEAVHNKUNPnsUKTfuMCPJhoFQoll9G3t06tMX5q7dIxxd/itdL9A6GIR8GfVN83tWf//KH3PvVrOCQRElLbScIH+My8pRc0jd1oy/Re087HHQ56QR5/oK6oTx8K2i5vosalZY+XcLnkb5tY5MMcyc4PqHAsLyw96mRSjL59iUz9fQ7pdYJheW7/7XITDPOY6Yt3yhdXo85v2AP8fc+p0XWNhs6MAT0dyLRXMPVMxy3c/UiGtwPzG077M9Kg/thf4sP/gu86KKL5Msvv5S///470HU3kjIFChQIZGdQICVz++23y80335zpCzrUDe4Il/97eyzUO2BSvICX5EamgTkOzKjBXUtnNCpfRD6/PtxDJsr+ZqatZn1GyKqURQaO//G2llL9+KzL99gSDfAwwWKAJUbgy6kr5O4vUuVZEnkZ2bxgpL32oynxPydauK3dvCPQ9YMBKaqkSz3/71f5YMLS+LlhuHjNQ7PWN0R2y45dggV7lAZadBYLMIRcbtq+KzBa586RXgvVNS6ven+yjJr/V/DTvjC4J4sAsb2XfVmjr2+MXiwDflkeaH+2qRZtMrKw59eWqBpzT2spWzR/2GHev/f/eZl0/yaWyG1y93aRJJO1tbR9jS0+ndZGiyualpVHz6rpc5hXne9nrZJbPpker8tNTS9saSrVf3xYfGM/SoO7Nmgm8k5+ffQieXrw/Hh/3riknpxay88Y7HOlc1dtlsFz/pSLGpeR4wuHO3Ho9xEMzA2tTUCfc+7vOloL+qHTqieMIslMtN0rIxbKcykbzLe3ryy3t0/vBa4Nh7h2zPkw98tqwXew4oOD4s00r1RU+l8bLi+Jdz+SP59bv1SQnDNR0RtNvt7cPtdka4rjmIx4XaI+5v57/vtPyheL7rvh03ctKePrWYzElme8mpqfJtE7+JvpK+SOAanzPR+D+0cTlwaSjCjHFcojkx5ML4ti5CTM9fkYl+05ZKL3TqunR8nyDbFNmdJF8srYe5N7zvswNnW0M0OnGsfJm5fVz8jhSeva0QSofKjIGqGv2OSD9AtKnVKFZeAt0Rncp3EBeRAAACAASURBVCzdIOfuQ+cXONd8P3NV8M3xSToc2U0/ghvS37aMaP7T4H4ED5r9cOk0uO8HyDxFYgLz5s0LJGVOP/10+eqrr4KK8HS/+uqr5eyzz5ayZcvKqlWrgkSpSLp69913yzPPPBOK9M8//xT8pwvOdemll8ZDhWBUePunxbJlx265vFk52b4ulsEdxv2DsSBUEwY4UzD5DpM6gWENXvHZjjpKiuTPuldlRg3uI39bI1d/EG4MPZh413l0aGCINOXLG5qm87bNTH8x1p4YFEu4hLKvvJxwz5N5crn6Dg1LGKHLhSzo5v25WU59KZbYFNp42PSJqtieSb4JSJHY7qb+qZ7xiRZuZ7wyTmav3CTnNyglT58bjffa/z6dLt/NjGmKo7Sueqx8cFW4rqctneDqM5JWIgwYxvAB1zeJdLKuN8IykvwUkQSIKEDJiIeh7xhJZgSyF0YNyh4jX97ol7SswgM/xD0MfRb2vv31qYdE1y2fTtW0/b9bmkvtUkf7HOpVp+YjQ2Trzt1B3TcvrS+dah7ndVyySn9v+1fqPjYsXqV4wdwyuXtqYvOsnOC+L2cFHvkoZ9QpKa9cdFJWmktzrN58wA++eSAi68Bh0JA2uL91WX3pWCPr4yl4Nz4zSpameBA/csaJcpXD8xpe15AbMuXprrXl/IbRaWm3fXa0LFn3j9Qve4x85fHu0O8j6DVDt9lV1m/dGSQ8bFP1WG+92H01VM57c4L8snRj0PwDp1aT6092y25lxigBbWxEIaCcV7+UPOMwYGN+gHmCKZDGwLciq8VOiAxtf2j8hxWfjQXMmSp1/zHY3Ebx0f0OO6/53fb4xt8TJeXUbUJ2DkZYJNnG/Aw9G3VXa+ccDVF281dvlqe61o5scx5MKjw4KC4rhr7BKzpniB6yLc+S6Bh77jS/V6fQjX+dtBTrmWkPn5LuNvQZNE/e+mlJmr+HGZftjdpEc08taYcT/PxgOylRKI/vUEha79K+P8u4ReuCOr56+b4nXrBmi3R4ITXqAMcdKrJGu/bsFSTcxjodpeKx+WXEXeGRFr5sbOeXWT07SKGIJETRd6wnEVkQdZJd3+s7EutVfehH2bl7b3DpLSoVk37XNvbCQIO7FyZWyiQBGtwzCY6HZZ3Apk2bpGnTpoFhfObMmVKmTGI9xj179kjbtm1l3LhxsmDBAqlYMfkEvmfPnvLoo486O2mSYWhPiKL5c0n/C8oFoXYHq8EdIZgI6TWlTJF8oZNrGE6MR0bFYwtkWUc9owZ322s5SmMXpAk2b98VJE7MFqGWPcJ/d+1Jjf/94KqG0rpq1r1iXx25UJ4dmio/si/0aXsMnCNfT1spL19UV9pW85MCGDV/rVz1/i+SO0c2mfhAu6QbMx1eGCML1sSiTjD+frq3TdZfBCktvDlmsTz5Y+qGRLJweH1S3+SOPgvvjF6MSYZpjvM1AvvI4GjjYdTRIXqBmTdndpn3eCevS7/s3Z9l7MLYovDaFuXlodOjlXRJdo8mLFonF6uwb1+v68wkZ/OC4VkJclpI9meK70aSZ/OiPTMfP7umXNakrO+hCeths6f5kyPjv+fPlV1+fSx8jMC49PDAOXJqzeOcBlU0qA0tzSoWlU+uC/dS9b0g27tx8oPtpHhEBhHfPhzq9bTBHZsh2BRxlTWbd8jf23Z566O2eXa0wGkAJZERFu9/fAdMSeahnVHOMCCWfyDVQ9pnLqLfR4kSvaIfp78yVuas3CyXNikjvc6uldGuJa2fUZ31C96aKD+neIPe26mq3NQ6vQOJ7S2ODvjw0PltEsmuaK9otJuRDd1kIFZv2iFN+oyIV8mZ/ShZ0CtcFsPnuw8HCxjGTPE15vvcaFs+Dsf4SCWd+8YEmbIstnFiistLX0uznFW3pLx0YfgGJtYRb/+0JJClTBRBYku4oQ8+RlrbgJkoB1KnF3+S31ZviV/bL93by7EFkydIfmn4QnlheGwOfXS+nDLDkVfkga9nyaeTYxu6poQlX7bXKa6kuXgOK3ZPuwHhK3voM06Q0webLChRSrihPXu+ib9F6fCDdyukh/ZFjgvt5IN+J4ps8GHsqvPTgr/kciVJiQhVX4mtsHMu/murtHsuVTbpUEm8HXZdYb9j/vjn39uDje2MOn+FtR32OzY5Knf/MV4tI88SDe5hdPl7VgjQ4J4Vejw20wSQLLVjx47yyy+/yODBg+Xkk9Mnv7Eb/+677+TMM8+Ut956S7p165b03D4e7noBiMb6n1828FY4WA3uMGbs3B3T4EOBJmVY4qUlf22Nez/i2o7Jk00aN24sK1eulNmzZ0uJEqlG2fPPP1++/fZbmTRpUsLs3Bk1uNte3T4eMj6DShsM37+qobSJwCCO89pSCvhbVBOwZ4fMl1dHLYpf3lc3NpX6ZbMeam0atCcaPgtoHFur55C498in1zWRphWLJrwFtr697zl87qltbPFNXPb5lD/k3i9jup4orj7Z9zWqftuLRl99SZ/Ij2eG/CavjYoZn6JMWon2MhPOjeO0F9aVzcpJzzNr+Nxa7zp6fC3qfWoab1E7qa4vE9uYEtW9970oO1zdV+f/ry07BZsu2OyrWzqxRzwM41jgoESla79o7RZp/3xajzifxWLD3sMF/UZJVF/f40SJ73zZ2vVs78aRd50sFY6NLgons/1KdhwMOZDEWvX39iAJHzbGD2TRBndIcMDIZ5eN//wrrZ8dHUSCfXJdY2lWMVxnXc+3kJAS73e7PPrdr/L++FSJrihlqzb882/gKWlKmNcr6umx+vz5daRLvfQsMmPIN31AAsZfV26Sh08/UY5xRCB+MeUPgWzZ1S3Ky10dqnoNCy2/kGhjA5GStVTCykTfTfuED387Rz6etCz4s0vD2mXI933fhV3c0nX/BGNOl18f7RjqROJjcLfb9pEhCeuv+X3EvDVyzYepUZ74+9uX1ZcOIZEj9lwLx7miCnzl6XR/dWLbUXe3dkrVYEOt8ROpGxw4PlFd3bZt3E1k7G7Qa7is2xr7VqD4OKD0+XGevDUm5r2eyOB+c/9p8sPstNHNYTJuGNMY26b0PqemXNI47ca1HWGBulHJJaGt014eK7+uikWGRG1U1tr35hp9pDLxbhvy6xopWiBXUjkto7F+d4cqckvb9O9132fFVe/H2X/KjSqCtWCeHDI7wqSp9pyh19k15dIInBZwLToRLv4dpfc82oNc4YTF66RB2SJSON/BIU+KPiFJ9OYdu+WdyxvIKUmSrsMJ7buZf0qvc2pGJtdmR2cWK5BLpjyUPhLGNdZocM/Kk8pjwwjQ4B5GiL9HTuDff/8NDOcjR46Ur7/+OpCT8SmzZs2SOnXqSO/eveXBBx/0OSRNHVvD3Q59/aBrGSl1TN4sG9z3/vef7EoJZ8qZI1sg5xJFgf7o7r2xMCkzKQvz3lu8dqv8k+IVf3zhPHJswTwCaZ369etLmzZt5Icffgja+vDDD+XKK6+UJ598Uu67776E3c2owd02ok64v20kXhB6sp4otDkzzF2T6qe61pILGiaOvvA9T+8f5so7Y3+PV08Wou7bpq63bP0/cvIzqQtSX/3iGj0Gyz8pyZT6Xt5A2ieZINmbVL7n8Lkee4Hpq71ny0i4DKovDl8gLw5PlSqIyuiqNT1xjfAYG3JHeHLJob+ulm4fT41jcXHU3oQI4FjYu7NkjyiS44Pxv0vP7+YmPb/rnl309qRABx/lksZlpPc50Xpz6jFge7wNnrNabuiXygyv1UUeTGxvbR/Dsc949a0D7fj7vpodr35SmaPlm5uahx5+U/+pMmj26qBesvF60mNDZeO2mARWRnTtk3VASw6ZenMe7Ria+0Dfv5k9OqRbBMKo3Ex5zicymoTCSVDh/q9myWe/pHo3fndLC6lVqnBoczC4jfxtrcBDNGwTO7SxDFbQrH2jNjJ4igxVb9R7uKxN2TRJpLWuPULrlD5aBt4cPp6NnAs6c3ObinJPx2rp+qUlS/BjRpNXYrGfN5c7H4XtKenj4anHs6/xevETfu9pJPJs8VRMaurMOiXlZYe0UtvnRsuSv2JRAZDAgcdgWNGesvd1qiY3tk4fDYp8Jo0sY6rPtxwRdB9NjBnczznpBHnBShrp0opGtMsbl4brUSOpfJ6ciXOJ/LZ6s3R6MSZnZ8q4+9pIqWPyJUXiY3CfvnyjnJOSODEj77uwe4HfdZJoU//FC+rK2Sed4N1vU9G1eWHPJXykWZCsFJ7xKI+eWUOuaFYuXV/spKao8O3NzZNu/qLOsLlrBHk6TBl/f9vAOcgu1R8eLNt3pToQfXxNI2lZ2S3ZZI7V4y/Rt0NH4ZnjwhIe9x27RHr9MC/eRZfkFXT0Wz2TKg2Hyu9f2TCynDD6WUe06fxep/oML686OjLAHOAjlamTkCfbbNHPmM97xKvTKZXsvB6YAuMdG5XntJYbxCmvaVE+2ADNasGm9ElqgxftRbX+NX0zG6AtKxeTj6/xk03xvS5stkDeDYnOHz2rRujcz7Rr53BIllPLfIMyKqGEzcBpyzYGz579zbDfP1gzwXknbLwYhzUmTfUdIayXUQI0uGeUGOtnicDu3bvl3HPPFXir9+/fXy688ELv9mCc79q1a6Dnfs0113gfZyraBnfbePjO2aUCT4+seLhDvgCSG8Ywnit7NqlcomCWDWX4+M1ZtTlIdmgKwl7DQvgWrt0S7IKjoC6OQXnttdfklltukVdffVU6d+4cbGTUq1cv2ATJli1bQrYZNbjf++VM+XzKinh7PtqVPjdWG9zv6VhVbm4Tje6+bRBCXzD5wiQsq0UvFtBWIh3bzJ6nyRMjZPXmHfHDfeUUtEfjCxfUkXNOSu/FZxrVdfE3HyOc7/XYBvewJGemXe2thb+5Jnh221FpOzftMyIIpTXF12CGxH039EvVnXctkm//bLp8OyNVH/6bm5rJSWXCDS4+vO0FmO9Y0d6TFzQoLU+dW9vndF51bE9RO7Hc/81cJbd+mpoQE41Of/gUp2eoPqGdbDWqe+91UXjXjloUJKjV7+2Mag8nCsuHNMCJPYbE225aoah82i3rEi221yRO4KNXq58zl1ehXsCjTWyaLO7dOTJJsBs+niqDf41tUqCEReyYeuZ7ksjwiXowJv68ZINANsrljew7Hux6duRGVJuBme2PThqe6Bul37mQgcDmWFjRBqVEclS28SMj49kYHxIZTGzPW58kqHo8X9y4jGADwi7acI7ffKQxUM/HMKHPf1GjMtKnS/gG51mvjRds4qAkiiRYuGaLnGJpOvt4/Osk4S75Etf8ySe5KZKxvjhiodzfqZpc16qCcyjZ0lyo5CPp4WNwtyPO0LbPhkzYmMfv9uY2/ubyoLbbcnm4u8bgZ5OXy/1fp27o+swTzn9zokxeGktCmWgjycW73zWNpUXl5NEsP8z6U27+JHVu44oyckVChM090VfjSY3/T+TpfNar42Tmik1pcA7o1kQaV0gcuWnLPT7YuZp0a5V2o8p+XnGCVy8+SU6v7Zbc8hkbuo5+7+LvPs+j7zlcMjs+Dj86ovH02sfLqxfXS3dKe972+Fk15LKm6TdwfPtq17PXkPh93mOdEm6s6uMxzmb8sVGqHlcoocFYS/LhWF9ZprDrcUlJZTRZctg59uVGh/5e9jj9xCDKyqcg38Tpr6QmTU40n8lKstrOL42VuX9uduaR0g4Dpr8+kVAmEpYGd5+7zDqZIUCDe2ao8ZhMEdi7d69cfPHFMmDAAHn77bfluuuuc7azYcMGKVIkrdQGJGiaN28uc+bMkcWLF0vp0hlPpGUb3G0D5etnlJQqJQo6De63fTZdoMcWVvCBh3yFLrlyZIvA4C4CDyBdsDnQ94qGSbuEZDnmOFuCBpEFMLBXqVJFli1bJiPHT5YTSpeWwnlzJkxelFGDu+1t8vol9aRzrePDMIb+XvexoYF+LMpNrSvKvZ3Se8uFNuKo4JJSSLRozWj7Olkgju1wYgl5+/IGGW0mYX17gRa2yDANaUmKx86qEWjiuwom1tDG252SWAx1fDzMfC7QtQDrWKOEvHVZOB9btsg1wbN1+cNCjHWf127ZIccWyO30kLA3IHCcj8HMTtLl2rhAwrTh89bGu+JaBPqwddV5/Pu5AjkDU3wNk9Aix0IcpUu9E+T58+tmtgvpjoNcVtWHBsf/bnvT2TqrqDjirpNDJTggy3CPkhwK03ON7IJSGrJlMuChBc/8sLwT+nlOFG5veyFGJdHikkHwYa377EoOO3r+Wrny/V/SIM5ImDU8c4/Ol0vwTXWVc14fL9OXx8YnSlhIM+rY4y7R8wuvTXhPZUQT1Gcs2R6wvh7SPm3jnX3LJ9ODZNGQXvORq2n59MjAqw0lUdJNHTHkK+2EBNCLU7y1kWcA+QZ0saWf8FvtUoXl/25pEXqpdkSG6x7a0mNhxjL7m5TI4PTrqk1y2supBgYfqQZckI9hQidEblXlWPno6vCE3Fqa4ta2leROhxQNZAgufufnNFwnd28nxQsmTwCpDe6uzSlXcsaaJxSS7//XMuk99DGK/7xkvVzw9qQ07fgYgH3a/mrqCrnri5lp2vaJjoEXKxJAw8O0Rkl3JI3Lu9gnN4HL4O56bmwPYJ+IzIvfmSQTFsci1Socm196n10rnZTg+EXr5BKVMwV1faRwvp2+Um4fMCPO0vU8uCIhfOY3MOTDoI8CDX9E/dnFdqTC7+9d2SBpTiMt34f6LmkUO9E96vmwRj1EZ9w5YKa0rVZc7u7oloaC3BVkr0yZ+EBbOb5w+siA0Jeho0K3j6bI0Llr0vzisxbTGxw42PVetd/bjcsXkQHXN81MN53HaCcPU8F3U/ON0YvlqcG/SbKoQr3+Qfu4R+9dmXxd7XNxthQOjvGJKvBpG3Xs3EQ+zie+baPec0PnyysjYxKovrmpUBd5CBBlZUqi+ZQdmeM778F6rFHvVKkru31bqgr98HmWTI4QGtwzMkpYNyMEaHDPCC3WzRKBO++8U1544YVAr/3aa69N19Ypp5wSaIp36dJFtm3bJk2aNJFSpUrJqlWrAsmTJUuWSJ8+feT+++/PVD9sgzuSJGGyYMpLnY8LJs0uD3eTFCtTJ95HB1UuXkCG3Zlc+z6ZwX3t2rVB8tmtW7dK75felNO7XBD0FF75VY8r6DQwZtTgbk9movIW14m5opS2cEkpRJX0C5s2A5XHMuSLxt3XNrLRYS/QEunv2ifUnofJogVcSbTCQnVdFweNZ3gn6VBA/A36z7r4ejfaHsSuCZ7tPeSr+28m7Jc3LSuPnZXWQIS+av1703cfb3E70eu0h09Jl6z2wrcnyqQlMS80lKjGIdq6+4uZAgO2KT4ed6hrPEvw/8m8gbFYh6H51JrHyx2nVPEa47au8GfdmkgT5ZX2yc/L5cFvUj350KhPHgTbIBGV56LXRYkEXvnwztdl5iMdgo3NZEU/z0jqPenBdpIze1pDs53wKyN6lfBGfWfsEmlfvYQ0r5TWa9EVTeAyoNv9132GcRBGQl1ci1DfTTsYPC5772epUrygwIjj2rCwn3Mf6YY/NmyTlk+nSgW43h/QWa/wYGrCTR/jpO/4wMYXNsBM+emeNlKmaHKZDNTFxj6esxonFEpoKNUyHDVKFpIfbk1u+ES72mB11ylV5H8OrXVteEXINpJXhsld6e+MKzrG5XUNY+DIu1qHotTazqjsuoe2F2uY0dP+3rWpeqy8f1V6g7cdDeIa964LsD0g7T7bG0G+mw86r8gNJ1cMPJjtYsuw4ffhd54slYonzx+gJZtOq3V8kHNAl2nLN0oXS5rFJ7m6j6emK/Fj2KYJ+qbbrn58IXn3igbpIkPf+WmJ9B6UKimC43zu4y2fTJPvUwzAiQxL9uY22r6jfRW5rX1irWvba9gwhjwQZIJ0saUKfSQxXLIrtvSLLeGGc/ok/Lb1wl0yNHYCXLTdrVUFebBz9aTP+tUf/BJIf5niygllDNd5cmaTHbtizk9h/bbvkWujynaSQLu+nr8tnhopKzbGNjETRYXaEju+G3ehL0cRcd3vp8+tLec3SO649vTg3+T10alJrF1j3M5/ULpIXhl7b3Trmg4vjAmixnXxySVgP/uusQKjddWHBws2V01pWO4Y+eKGZqFYkX8Am1btqhV35pH4eOJSeXjgr2na8V13hJ5cJEhAjm+1KZ1qHCdvXhYu3eXTNurob3y9MkfL1x4yiDjO3sxN9F60pRZ9jOJoP2xzXffbXKtPZAHy3bV9bozQ4O47QlgvowRocM8oMdbPNIHWrVvLmDGpGbvthkaNGiWo8+677wYG9vnz5wu83QsUKBDIndx2222B9ntmi21wr/rQj7JTeaM/27FEoE/oMrjbHu5QdoGnb/ajjhKtwOLycM+RPVvgjZGVgvnATsvDvXSRfPKBYwGoz4NFrNFJtD3cv/zySznvvPOC6ldcf4vc+dDj8UNhcM+dI72eZkYM7vCsr95jsCgVHK9JtekENFfz5couZYvmT4MOxo/KD/0YnyQ1Kl8kSF4URXFJKfiGcoed//qPpwQJiHSJSt4CC7SKDw4SNW8MXdSZfmgj6vUnV5AHTnUvemwtbBxvG0XDGGBBfu4bE4IFLybNxoDoSojm4xmH8z0/bIG8PCKxPjueySpqvOCYZJ78+hrCvOPsdwiOvbdTVbmpdXKJI9urddID7eS4wmm9C894ZVzgmWqKr8RO2D3A77bHk88iHcdp7dfOtY6T1y9xT/B1KLLvwtFOamiHPNuRDOiPjwdzr+/nSl/lzT/0jlZBJJOrYAMW7y0kmI6qaG9C06ZPhIW9geYyENpyAr7e8+jHXZ/PlK+mxTZd7MWovRhCnbDkmLaRCJrU2JTRxe4vfvMdH/pZG35nK6lUPO09dD3nPgnQELnW7rnUeYlrgWhLZfgY43zHz/ND58vLKZ5kOMalje1qyxiQk0U12E4FPtE3+hm/pU0lp0fmnQNmyNfTV8a7Nfru1lKuWNrvtN1n7Tl/dt2S8uKFJ6Wp4jLW+iYPfGvMYunz42/x9lw6wnq8B+/AEAPf+q07pX6v1E3gRIYY2zD53Hl1pKsj0azNw5ZXsu/Nn5u2S9M+I+OH+W7Q6/uX6L2u84OYE7iMuXaf9eahyxPU3gDE8dhYxAZjshKW+wHHDvl1tVyv8p7gbz7Pt/0ehYHsXcuD1d6wQdthRlrU0W0nmlPYzwqOC9s8t71Xk92jOz+fIV9PS30Wfd4ftuEa7UOuCHNdU1wRZU92qSUXqjque2onIHVFWrr00M9vUEqePrdO0nFiOyG4oqMw18NmJCKAYZRESZSLwpzMfh5cG1WuTSrfJKF6nLg2azHnqPZwanQf+hX2vfX9vqBel9fHyzQV+YW/+Uha2glFXd8PO/9B3pzZZd7jnTLSvaR1bactVPaJPrGfT5cknv2OxzE+eZhs5xCX/I+9LkHbrjlRZkG5ohB9vu++59Mbt+WK5pPR97TxOnTU/LVylYpiTNQn48wUf9/c0FQalEurbOA6oXm+zW92+w99O1v6TVqe5lAf+TgTcUaDu9dtZqVMEKDBPRPQeMihSUAb3OvWPSmNxxqu6OkOxaVemWO8NNyxG7p15+4ARO1SR8eBwGCD5JW6IEzXNqZllCC8rWxJm6PkKIFRMlkyEG1w1xruK1eulNq1awce7tVq1JT+H30ob382UBo2jYVvI/Q8f+4c6bqZzOAOg4vui0vP02dSjZMaT0gkD4IXOHRiTbEnSfDIx8Q7WcItX952mBuOi8pz4PL3JgsWpLokSijl219Tz/aGw999WWsZBhh1nzm3tnNMIWlv55fTJi3LqMcGvNjhzY6iF2J2Qjv8XrZoPhnjMclDyCgmb4kmYK4Ecbe3ryy3tw/3vA4zuNuaw+hDIhkGfU9teQOX17UdGp3IwzKjYwX1L3hrovz8e6r3vG/bOkksPKP7XuGW/NHcnu5aW85vGC4BZnu92eHr9n0O3tkeXlq2wQMJHpHo0S54r3R44SfZuO1fGXizX7JNtAEPabxbMYZhyLflTjq+8JPMX7Mlzeky6i2Og12SFraxFvVc0RKuMaLvkZ1b471xv8tjyusax4dtbsDIgcWQKS4t1zfHLBYk0tbFV/oqTGLHJQeWKGmkPr+djNGl92nLK/g8477PpdEeN/V9Fvyoq3kgKRg29nVxGRN8Eirq8ZrIKH3V+5Nl1PzUbxk2vLHxnaw0fmK4rNkce/e7EmnaBmjUS6TTbJ8HG64wcJjiMoBoAwLqhWn12vOXRFJC9pj2HRv2XMM2HNiSM3A+wNgMS/6mvxtXNC0rjzois27uP01+mB2T5jAFzibwRk5Wrv1wigyfF3MacDk6DJr9p9zUP6bfXbxg7iD5blieBlu6J1HUnB0VhnOEGTxdUnUlCuWWnx9Mm3PAjvhC2z3POFGubJ5ct9g25ruMS8a7GFFK61MkQy5tUkZ6nZ1Yj99lgEWfrm5eXnqckZrQEXPuGo8MkW0peZpQp3314qFSk7ZcHY6zx61Le97Ho9uO2HFtTrre1T4Si7Y+u21ENYkPcT3YIPtl6cZgLIZF1tqbFjZntGFHyuFviSJI7GdIjxPX5qTL4//NS+tJp5pZl99EX8y7D/JfJsG6T+4rO++U6/vhyn/go5md9EWj30tKPtT82UcC0U5a6jrGeDXrvpQsnEcmPNAuafdsCSqX1NM1H/wiI1Q0Bhr0jST1YXNT/6kyaHZqvhocE5Xuvy3bgrZ9JWvsDehEBvcnBs2Tt39aEr9Un2jEb6avkDsGpJX+suc+dh4fnABRTe2ql0iKdcKidXJx35/p4e4z+FgnUwRocM8UNh50KBLQBvdqNWunSTaH63myfXFpUM7P4I5EfKaEGdx9kpuG8dy8fZcsTTHkw/McBlaUE48vlG6hrdvSBvfjC+eRYwvmCRKvdujQQSZMmCDTp0+XXIWKSevmjeXfnTvk8yHjaxcL1QAAIABJREFUpFDhwoFXuUvyIJHBHWFc385YKa9cdJK0rByTEbA9B/E3n0k16pV/4Ie4Z3z/axunkTxwhbr6hqOFcbb1nlHfN8QwrG2XFqFPGHdYu/j9723/St3HhqWp6pOsDAdoXW782+UBhr+7vP/fuKSenJoBTf5EGs+2lwzOVyR/rsB4GFbscGB7gueSCUpkiLDPlSzUPZEXms+i9NPJy+UBlejMNQ705gT65SspEMYLv5/60tjAQGyK7+aGNpq1rnqsM8LGlgcKM4qYPtheb3iXnKE8pF2Jv3yMW/ZGV6LFmjacnXJiicDAHFZsKQLX+81OyoU2fSJDfDwzXQnFht3RKkjUHVZ0+/bi3pbfQFthCyJby9Vl7HZtmoQZ8s116P66tFBd3vNhnqRo2zZsujZDbF3iLiedIM9fEE3+Ai1Lgf74vrc1D5enpytpm89Gj454urJZOel5Zo10Q8n+Zrx2cT05rXZy49BJjw2NG3tc3tFabghzJoTsI2ID2q5hRmZ7XE19qL0UTUkQbzpvyw1Bd/vjaxonfExsY0yi75HtLZwoIax9Ilu2yf5uubzFZ/Q4JchhkKxo+YpE0XmX9J0k4xetl/y5sss/KcbaCxuWlie7Jk+CbY7D+V0RaHojGQZ8k+8jWZ4GW8870fvA3qRGH8JYu2TwXAY1ewMJbd/arnKQdDZZ8TG4G2NnrRMKB1reu/b8F5r/BM480O+3i500dfjcNXLtR1PSVPOJ+NQRaOZg23iMRLbPqU2sgEmCnAC6A7bnqkv33c57gON9+n3K82Nk4dpUeRHbeK2/QXCUMQm0w4zL9gaUa0PEFQXhMrTa90xvAuA3V6JfO7E76vnqwyPi99dVm6VyiQIJnY6MowSioYw8i09Ei63h7trMdxlBfSKewuYn5vcq3X+Uf/fslYK5c8iWFCc3nzmDnbzXFSHoiqrCeWY/2jFp91ybf/b72/7eoEGf+ao+McYFHDiqHVcoXX9cOR6ikkt03VNf+VCbjSvaDBdjb3Ilkq/TF+66ZntMuur4JGQ2/aaHu++TyXoZJUCDe0aJsf4hS0Ab3MtWqZEmXBgX1btdMWlcvqiXh7s2uGMibRaEMHwu37AtDSMYyCHRkpWC3fo/NsbaLZQnp2CRggKPymSe3fAkMd4vCM8uXiiPPP/883LXXXfJW2+9Jd26dROELo8eN0kuP6ejnNL5THny1b5iy8+YvrsM7raUgJl42IYM30k16umPpr07/f743+XR71I1b1HfV5Yg7B70HbtEev0Q0/IskDtHEMXgqyOLY7DAc0UG4LczXx0ns1akSoTgb67Jd6I+wgAxct5aaVu9uMAgoYsdfo7ffD0ldZI106Yr/HLwnD/lhn4x7zVTfCYyur6+rzosVBvz4REHGSLIMEEbOMzYor1wcOzvfU5L00dXKDoMuTDohhXdX9t7ZPu/Mckku4R5U6F+v0nL5KFv58QPHXRrSzmxZNpJ9Yk9BqfxXMMziYgI3wIJoDw5sqUzPOF4O0wXhq3fHj81YTJKc05tNGtRqZj0uza9wWr2ik1yxqupSQQT6d/b12F7vSHS4jylMeryXPHxMLPzb7x/ZUNpU614OozwvIbRHQWGqF8fCw+Ldk3u9cILHpZI2Aupp0J5csjmHbGoqER9SPSs4O8uD1SXTJWPMR/t6b7b8gm2divqh8k32JEkLuMMNPihxa+LrwSH7q+Ln07kadr3kWGyF919L28g7U9M6w1le202q1hUPrmuSeijCGPIvV/NEmyYv3ThSZI3V3qZNtv45ZOU1TbiuN7XLr18H69J/Z26qFFp6dMlvRG29TOjZOn61HmOLUfhAlOjx+C4cdeVhE1vdkNvHkYkFB+vPVu31WV40OdHu2GcXRFdLgk4+13qI+mB89ta17bBxt7kwTE+84VGvYcHnuUoica/+eZD0xxGYHxvfSLidDQcJDsgC6eLjozBBoxJcJnMEGRHEiTasHZpInetV0qeOz+xDIktU4a+ur6jRr4NG8/LUsa1z3fLfv+7jEsmsTo2mZBQEEbhsKhJlwMF+m5fr2sTOmxcox2XxIgt82Rrw+M4H3lFO9rE3jhHOy4HC5/5qv2s2fMmPQ9Gbqf+Kd+aRNJYZuza3siuHBOatZmj+jzrdo4QVzSQvUmBfvkkkUU94ymcyAECdUwiSWzmYqMNJVl9w8XeDHblF3FFQkSVHFRHzVU8Nn886bbPusOWNsI1zXusU5pvsJY/0fOzsASe9rsbbev3N9bEVR8aHGwUIBfVxCUx5mHjUL9LtaST6/3pmnt+dWMzqV/2mNB5SVgFl3yjT76M4Ls25Q+598tZ8VMk+n7bEWfnIbr6vOSSUq5r1mv/RLkvHj2zhlzRrFzSyzZrfxrcw0YHf88sARrcM0uOxx1yBLTBvUSF6oHRSZf7mx8dJJBzabjbF6sN7jVLFo4ncINRFAsIXWC4rXBs8mRUYTDXbdkpqzbF2oW8ipHlqFCsgBTIk176xbS3aO1W2fZvzMgDaZu/li+Uhg0bSseOHWXgwIHB39Ff9LvvK8/JK0/3kj4vvy1XXXGZU8fYZXC3pQTMxGPK0g1y7psT01yaz6QaB+gPq+09Z0/oUd8nxDCMMX7XmdnhUQwD+dH5csqMHsk1SHEsQk6fGTJfbmvnliuxvXN8+w1pgIvf+TkuS+FKJuqKJoBRfspDaUOnXQx8kxK5dJ0zGiKZSMZi1G9r5aoPfkkZp7FQdBQfY4tO5OYyuH84Yak88n9pkxclMhbbfHR/ba/JTdt2SZ3HhgaHYDFtknnBKw7eccmK3Sdb5sTlPY8kYDCK+5T5q7dIp5d+knw5swdGetsrUicdNu35RFtoo1Xj8kVkgCN3gp3cLsy4YM5ve73ZBl4jgwODCd6FMBK5FsY2H9vTKJGXkU4s5rvZE2Zwx3sVi10UeITOWRkzIvosXlxtL3mic5pkoRe9PSm+mDPX7eNtbEsW2LI/rsRTYd5ZdoSCSz/65k+mxY1wpr8+WrL2N8GlhYqIEUSOoJjFs49U0s9L1ssFb0+KDxuX3u8zQ36T10alylYhuSSel7Civb0SyVjZG0KIRJsYEtJua+u6ksi5DA4+m4G6P13qnSDPn5/ek9/WhvcxDhlPRcPM9nrWG+n6feryVre5628Afht8e8s0XoGu9ynmUb90T/x9dHk/ut6RdrLDMM9503f7G2Aba12yTna0n2v86UTeiWRzjOESG0fwQodThs8mdJMnRsjqzTvi3+nJFj89N4MckZEMSOYduWDNlkDKy5REhn9XYtMw+RSXrKEriav5RsAgCaM4km26JLySzQ/wm/0dx8YYZLbMt2r84nVB8swwb25XEnm0b/fJzkuAOj4b87axC8chwTXkX0y578tZMmDKH4EkUIFcMe9inwjVZ4fMl1dHLYq345oj2u9cVHZJ/di8zeaF+budNB3rHeQwQMEczOT2CctRoyM3cKxL8spIeGA9B6lLyAOFjT+0NWnJerlQfV9cm8W2YRvH3dymotzTMX3C42RjMJF8h3HewPgxSX7RTpjmty095HqOXxq+UF4YnirnhXZ9Nnb1dWCDadXfOwLHNJ18W8+x8a5CklKUx8+uKYguSFZc60Tbi1p/nxEtPjcl6nNmjw5SOF/ipPbaMcv0QbPUkRZ648c3shZt6vmfvZaDYbly9x+DPHI6Sum9KxtI22rJpVM0Mzju4dm2E9C7Ntt8ojnQtj3vwDdWS8KiDs6LOYTO75ZoPaH765oT68hLO1rKHOvjPW/mVDS4J32s+GMWCNDgngV4PPTQIqAN7oVKVYlPzMxVPNjimMBwllGDO7yxsqdkTl2zeYfgP13y58ohFYuHG9zxEUVxefTqdk84Jq+sTMl4X7ZIPimcJMRYG9zx0Tu+cN50N23Fxm0CTyBdiuTLJaWK5EtX12Vwt8NfzcTDpcnqmwRNf1htD0jXZODNS+tLp5rHZXlAaqMNjA0mGZUrw31GJ7461Nsc6+Op4ZKNsD0wXNEEmLgu7HVqusmU3W9bKxy/u5IS2YnpUO/+U6sFOpa+Rd9Xrd2svTG1YXLyg+2CqIxkxQ5NtI2S2nMZizroCGNyPei2lqHdTtRfHIhnsvETI4I2EIJsEvXc1Lqi3Nsp+ULJ9pi1k/poQ63upG+SXZ1czF7wal1bhKtiwwzFZ9MK3toIiUeBJw08auxiezzVK3O0fH1Tcm1gtGF7vdnGQbMxVKdU4SCKCFqkYQZVvFORjEwnx0bOhwW9025cuBJQ+cg3hBnctQGgY40S8aTJYdrziTx17mhfRW5rn7qZY0sDgaNLO92+R7bXnZ3wz/XOCZMTsA1nLm9Il5SBfU2uh9LWTHUZcYyXIqQ/oB/92+otXjJMtj67awNAfxfQP59EkKinjU+YW1zQsHQQuaMXxbbXpk/SOXvcuQwhLo//MAkO9FmPKXgpYwNHF5cu9v/aVpK7OlRN+D51jWc7qkJLWMCz/tPJfwTtubwq7RMhqf3AGavif7ZzErg8ncO+jxMWrws2unWx9ahd72l4jcPrLqzY31Pb+9I2XKI9Hwk3/Y52SfegHbNxelqt4wODYMx4mDgnB46xrxXjFN8jPV/VurzQQO+ZEomYLAEkDNxd35gQx5XI8KLHh/luJfoGmcZcGs0wls7u2TFNNFe1h3+MG9mnLdsoqzbtEJ9N+XqPD0szd7afLz1HgHfr9D82Bh7GYZs9Lk1vXJMtdWYMonintKtWIpBQwWbjrJ7JJTFOfmZU3JPfsLIl627sN1V+nLM6yKNwTL5cwTe3SYUi8lm3pkmHtq3N7Ppu6LUBnkO8U3BP5z/eKWlEo7251e+axtKicrF4f7Q0C7xajaOFLcVjX4DL49825pvk59jQAG9E+DQqV0Q+vyE5j6+nrZA7P0/VnXZtthvZO62xHqbzb65BfwvsuS/qIMqqYvdB8SiWz6fEEqWjhBnc7e+1K9/KY9/NlffG/54GqY9B3BygN1ptBwq9YQYZN5Oo28epxbVOtKM49KanjsgZedfJSZ3kXNJ4esNUz/sgrQdHLhjHE21g2+PR1p/H77p9PX9DRAvmOig+iZ7NufAMQg4N71DM/fV73OS0QORriUJ55M9NO7ylVe3NCJczgHawMv3x2SjEdwLfC13u7VRVbmpdKTae1/0jrZ8dHfw/1qUmYvW6luWl+2mpuS9cLzCzjtyzdrGseP82mTp1qtSrl3buk/TFxx9JIIQADe4cIkcMAW1wz1Wiopz+SqrsASDAwx2JNSpXir28ExVMYOasSpUG0TrqMISv/yfmnQvDDkLKULTOu6tdeMLgIw1vksrFC8QN+Kau8ULHvxHK+/u6WGLWUsfkC7SuExVtcE+kJY+JNDwMsh11lOTMni3Qh4dMDeRq7OIyuNvJ2cwkTicFM/IsPl66tvelbVyxvdnQR1+9w7DB3u2jKTJ07ppg0XJpk7Lyekoyzsnd2wURAslK2MTXaDlDombJX7H7F6YtiTrnvTkhnvzJnN9ewGq9Xj1p9zEa2gYfnMNlfHXJTPjoQGpmmpH21tOagTCimoR8Pl7X//t0unw3M9XYYid2umPADPlm+spgkQTPMix4fTZ+bCMRkp5NVZryenIHDiZxa6JEg5qD7a1ney7qCbvWrvTVaNSSD7ZxV4era03P1y+pJ52T6PHjvVfhwUHxy4Dhe+AtsSTLuth6qKWL5JWx94ZL4dheb/azYbwr4UEK6aZpy/8Wl7ei7otLwxe/2wvN2z+bLt8qgx3qDL2jlfMdmGg8m7/rRa82AECi4KOJy4JqYZ7GiZLm6b7DSFHjkcGBoQiyZrNXxr5JiLC5I0R72I4m6N65ulzXqkL80lye6K5EcpqFrUPr8q410g2ljskbeHqihHkfoo5tYHZ52xvPbCxA8U2EN5zPIk6HleNcLm9tl3SPTwJSvTDXnmhITgmJINxDGPvMJpbhGRbZY/NwhfBrqS0snCFr1LnWcfL6JfWTfcZERzzBwAcNZr0Yh0c0NNx1SaT1buq4knrbG+laI1l7p/rIxV330RQZNjeWzBPFNsTpd7Xud7JEcC6jgB1Z4Uqyjs0e2/PbBdzeELE9Ae1NHrTxZJdacmGjMgnvn+3Jj+TQ8LrWRUckwhCJDSfIqLhkfvRxLt3i4Xe2kkrFU+eJem6GcdPt46lBE8kcImytesx/hzmiR3SUCd77mLdCZmLEXWllbXSfXcnY8TucZCDPg3Gt37Xw4oRBB56uqPPDrck3Tqo+9GOazVw7F4p2hIABGN91eICiJNO1tzdEzTXZ0RNG4gcc6pU5Rr6YuiLIe7Cod9pIKHvA2Plh8Lvdd+P1jXfoMflzBtFZPo4KdnSUKzeATrRp7iX6kOx5tOcfqG/rw2tpQjiz3Pfl7GANFpZzwyWraG/MmzpggE0CfG995HteGxWLfDXFtVYxOTEw9iEdim+6T8SJvfk5u2cHKZgnrWc2IpxP7BHLB4D39CeTl8edLMIM7raB05V80hVl4TMHMTyS5UHQMoP4JrwycmGwcRC2OYi2XVF6dvSM9oJHn18asTDoVlgid1eSZe0Mo6Manj2vjsD4DwcR39xA4xauk0vfTbvZq2Xjvp+1Sm75ZHrQVz2vzMhGh+aOSGgtU2q+p4juxhiftGSD11wK/bHHu8t5S28mw+CPdy5sH3hv6QgH+71lkiZr6S8997Dftz2/+9U7EtbwKLjlD5nz+o00uCecZfCHzBKgwT2z5HjcIUdAG9z3FCkn56XInRiJlsDgXq24VK6cXA4CE3R485kCjyYYqlGWrf8n0GiE8Xpvisc6/r/mCYWT8oJHCzKDo2BHGf/pggn4xm3/ylFylCCcfeHa2PlLFs4rxQqm1fPWxy1eu1X+SZGUgZY8wtUL5U07ITN9xocO3vgIy8qRLVs6TWm06zK422G7ZhKnF2joMxYbKGHGBHt33zZO2QY9tBkmd+A7WI2nC4zilzQuK0jIiWKHqLva0xMY18IBSbAQDYDJ4vB5MeMAwg17n1MrafdcBndbAkIvWrXxbcRdJ0vFEDkjrflqOmJ78uHv3b+ZHdfENPXCPIfsC0ujw3xVQ2lTNaalDV1n6DujwMsFocwotqeiC5RtDPv10Y5pdPSNlw7GfsNyRQTJ6ny8qVxGT71A0Yt5eLHAuIYSZnxCHVuz0w4z1nJMMJog8SuKMdSFjWcdTWEv8LTxCQsAY6gKkweyeSRafHd84ae4/BH6CY9CPPNhWvx2RIydtM7IWMBTHN6VMJCHSb+4dJhdBjFXQmMf+QaXh7t+v2kDAAy5TwyKjZGwcPFEGr441oxBvSmjN3x8Qn/tMHc7sa1JIlisQC5ZtzUW/RQm3zP59w0Cjqa4FpcmeRs2vjDGYQT20Vm3Obu0UFs+PVL+2LA90EzFNxGbcNjghedwsrGH8Y8FpimuTdBz35ggUyzPqnH3tQk2vJMVV6I9/Y5AdFmLp0ala8Klya4r2Tw+vqZRPFm5qWckEGDoP65wnkD/1mWAtU/e7rnRca1c/IYxcG3LCvFIJjvZJ+qEaWlv2bFLavWMyW+ZYn/XtUYy3kXdv4nluLA9TV28tRwUfn/rsvrSsUZqxJtOnF2uaL64/rxtMNZtu3KW2O9I/d3SG+k+Wuv22LATDbo2ecKiQexoQ8zppvc4Jcj7Y4qWK0E0FjZQsDkVJmVkJEY0I3tjw9wHzKmxgWvm2MkiegbN/lNu6p82N0xMlq9ymuf2kYFz5MOUDUujRW1vgttjw6UVbuqY6DntTQ5vbGzkjlu0TlzJVXX7iZKm60gFvZmHSJFlG/6RpwfHjK8uz0/TfqINIluKxniqw9MaawzjaewyvOq+m7mo/pv9XTS5HGBwg4c7dKixUTruvuSb5/ZGkctwrJ8tbCKMXbgu6Eqy50Ybjk2/bY9eHamGdwCSfiJviksiRl87ZGjM+kT/Xc/3zJwK3xcYB303dO28Ja7N9rbPjQ6ccGB8xDcBUZi2xI/rvWc7FEx8oG0QcYHn3iTa1JEpeN7x+2e/xObXLo94fR6dQBt/d0XkGuOs3lD2WdeY8yTLg6Df25B6e3fckuDb5ErYbPNxbVja0adY3yHaFAW5BuC8gxIm+WfLo+GYSQ+0C76zwThWBvEPrmooDw+cE8xNfCJEcLwdAYu/6YTnOioAUU83prw/fRy4MI9H/ihoxJsC2UlsrJli5sMwbGMjDw5LGFOLeofn1Hp+2IK4lBPac0U3mU0atAmHCyM95krKq++rkcJCNA5yvGDDSUcN6Hnt8+fXCTZdfJ5/LV1UaOsfMvs1Gtxd7xv+LWsEaHDPGj8efQgR0Ab3rQVKC8L4UGAwh/EMBneE4FYJMbhv+Gdn3DsPx2NCmitHLBkaQlix6IF3BLy6N2yLGSswGYbhPVExXub4HYuIE6yFPCbgxhBeqXj+eAiZyzivz6EN7ubvMMDqxJ7wlseCGJsG6HPMsB/rs22ocBnccTxkSUwxk1St+a0n1WHGBDuc1p5EmEVdjmxHBWF6KGEGLN9hGjcIlSsiMCbfPmBGcGiY8c32vrEnMPCWrtT9x2CCAAPT6PlrA0OWj97r+W9OlMlLN6S5BB1Ghx90YlBoZiO0GMWWKnFx0Ikwze8uTxaz0QFjJ4YydF9dkgOJWNse4+9c3iDw+EDRerXa08QnuSTCIo1+Otqy9RfNogEeazC4fzBhaXBO2zBv99tl9NQLMK3xC71xkwTVJxT41ZEL5dmhqbqXtgegNgJqaSPXfXHx1lELtveyNuZjAWKiOGyjq92u1qXEb/COH3pHeh1rlz78zEc6BDIcyYot63L9yRXkgVOrxw+BFi68MxEWjPfeWz8tCX6zvXP0OWwNUvzmSojq0rT1kXtyGdz1+NOefDC4wHMcxeX1p/vtSoJsv19hUDYLRHj6IWwd3x4fL2bbyGxLghi9fCy4kD/kH49n3dbuh1Gs/7VpE4vW7jkkWABh0wReTXgHhskC4bptzq5NLfMewzsFi0ff59w2+Lm88+w8AOjTNzc1k5PKJE9Q5gprx7Gm/xMWrZOL+8Y82cw8BP8ftsFr87ANzGjDeE1WKJZfIEMHo1aYlAWOsxOi2uNOG5nNb2HaznYUHI6zv9kmugzvCRi2jQffh1c3kpOrHJv03WFviNjPrh6bWh8+mYyWK2kpNlaxuWWKfo/r7y5+D/MetT0wbWOj2WiHkRMh/Zg7hG1sJNL+1tEp2msUm4CQI4B0XphBxf7O4hq1fi7+bQyHJ5U5Wh4/q2Y8itSWrNI305WAEL/r+QH+bWSDsFkOLWqfPusNT3sAGWcEJI3t9OLY4GcYQ2Gkh851mLRTIr1gvRGnnU4wh0RulcdSnDiG3N4q0Kx2FTuBuKljb5iZby3GXrXjC8qLw2MeuhPubysllQFNnwPzsIoPxhJ56wLpGEjtmGLmEDDyI2pyyK9rvKS07hwwIy79gbZcOueaC6THTO4Nl6OH6Y9LvsmO+NCbgeANmQgYr8MShJrNWvte6GfY5EYA6//kv4CHj3yPnZDVlRzSJDXFtxDJ7hes2eq1OWq/V2EoNu9NEw2pc6tgLYV3hPk22jJW9vW3fXa0LEmJpsZvrudYG2fhLIXve9j3wJzHJU+mPcW1rBc2V5CQExGqPpFrPp73xlMd7z5EApmod8hhXdm8vPPZdH3LUFF/s7WsIt7rSCKKqBmfjQJXJAfa18+GjvbBec37CzIqkPlMVvpNWhZfq5h6w+5oJZVVRLs2bMPgbsaLj6SlvZFsR6HgnNqh45oWFeLOSmEOYsYZANFYcHo0c8m3LmsQXIq94YYNFURSuuaimpF2Xinx7yqZ/EI3ergnHUX8MTMEaHDPDDUec0gS0Ab3Iavzxg028CSAhzAM7vC4rVoluYe7lncBCCQCzZ0zZnDHRwA7yPlyZQ+M1yb5o/aCd8HDpOjv7THjfNECudPsNuNvxnAOL3WEj5rkLol02c05tKSM+RsSKCKM0xQsAhDyjQUGErCahKxaKife3qJYMiSjc49J8K2fTo8ns8FvRmtOTzowyUS4K0qyhQZ+h8f9yc+kGvBtY5AxJMADCVqbKD6yBJo7koxC2xuT5671S8V/MtqmMFqd36C0XPl+LJFnWCJCe/Fle87pMG54oGKc/Pz7Bi9pE5f3rW2s0MYB6Ij2TfHa8Ele5PJ2coWAG8M/xg4kkGAE8NkwMHCveG+ywPBhitaj1WGIWETd/3XM2x1eCl3qpd4f17Nj60zaoflN+4yI9xUGd3hgoITJs7h0VLWOojaWYTFw22exzZkwT2DUsRNN2VIFX0z5Q+75clbQHhZJJiQ5TPvb8NHJ7eznRxsYdb/DniHbmAND3si704bzJzJCJPMkNX22PUq1UVUvzKDvDIkueDChwIOodUqkhD0+XAZx1LFzIBiDKqSGTFJAn6gZV/t6Q1EbxbFguvWz6fL3tl2hIdFae1hHT2CTcdETnYPLfGHYgngINHSuEYKMjVuf5FO2rqwtg2SkX/DdwgIT37Ewo4Xe9EP/YHT7Rmn321qySEgNYx8icr77X3ppIn0vbc74tmKjBdJnphivs3NOOkEwNp/zfM5tqQzbCw7vbsi+wEAFqRqT78Rl5LbHn+3daH5HGPhjZ9UUrU2vdcuTGZ7Qhm0IcXkUGgkzzG/wrTRejWFSOGHGp7d/WhyP1DDX40rkrVkk2kDSBi1jNIdkXo8zTpSrUr69PrrltiSE7Ymuv4/Xt6oQn/sla/uzycvj3yFzLfZzoo3mWgYH9cMM7rYswWfdmkiTCkXj2IzxGjkw4NWJDc8wQ1YiKRI0arxZtfwcIuUwl/QxqBgNa31f7XmIGXPY1Oh+WnVp91wsgWWyd6nLmxPH2JE6V74/WUbP/yvYNDqrTsn4HCeZbB4cG8wczn42kX8EHsXaKI/5Bjz+jfRXsmhMrc+u3wva6/rjiUvl4YGxhO2QVpi54u+4sUt7rNp909FzMIRv2bEv/NQkAAAgAElEQVQ7qKIlTHTEGTb5yxcrEI/ITDbHTiRXhmixhb1j3xbt8QnHk12793rL1Rjt92TvBj2/0c8NvIzhEe8qrrFtjyv9zGJDFHKC0FoP+ya6ojz1M6znH5jf7fnvv8BDGPI9mEski6Cy9eEbljtGvrghbe4b40wAGTasL39ZujGQDkUURLJiRxcjSgXzchSTT0BvKPU4/UT5a+vOuPxhWEJqM3c2fXAlnzRRFniWYHCHgT5Mnsq059pE0c5Kw+eukWtTos+wAYdvtc9mGNrHuhQbMLrYsnjXfjgliDYONpRubyWNUnIyJcvDpKNWtNyj3iCEZvsrI2NrZXi+Y7MQ6z1btsl1b10yZainnw09r4AR3EgG+UQW3PDx1LhDljm/HTlr5sNY38Gb3CSM95FWtTeSbek4nNNIw8BpB/fErPfCotmMQxzmG7AT2Lk27A3O3j/MC75vYXNMLZN3XXWRh648nQb3pG8e/pgZAjS4Z4YajzkkCWiD+9A1+eIJNUxyDRjcYbipFmJwX7FhW9xzHSCgdW4W/pAw2L13b6CjVyB39vjkR9dxwTOyLvgN4ZulrYSl2pBf4dgCAq0yFJc3vG5/4Zotsn3XnjSn1O3v3LUnLv+AtuA9ZCZsrj7bHu7GK02fYEGvU4N2tGwGQnVfTpmAfHJtY2lWKTXRkc3DTr5nJzwxC1FoSM9cEeOQUWkT0waONUbU7f/ukeo9BgftwSACQ6/Rqg2T24BXCjyCTLEXU9o7GIt2GG3MhB28cqRIErnGhvE2TTZxhIeQMUDqZGVh/Q7Gb4rnsG7ftfAxyVVhAIB3u29SQrQbFg78/ND58fEBA6pZJGOBcHULt6eJ6a+9IYGwWp0c2OisnlmnpDQsX0Qe/jYmVQCPFniMJSp25AbqwfiNyTgWWLY3xS2fTAu0mMP0QtGOvl78256Uao13GPauT9HCtT0sE/VdJ867omlZefSsmvGqeiMMRgDowAYJnU46QZ6/oG5CHrb8BRLQ/vxg+zT1tTY4NuzMxmDYMx/cjxkr45sW+DcMkH261A7a16HTVzUvJ2fXPUHOStGRTqZbacLi0QYMOEY/1/a4N5tOSJQHOQGUsA0I1HEZ3HXCLR3lg8UENlEQOh6WSFZzhPYvdJaRWwILw+k9OgT9wzg21wNPtYv7TpLpy/8OJMeQ+yBZsRPb2mNEh7ibRbTLUKDPYd8/W99WG3HwDsS3EqzDpCwScdayMlojHPe5ynEF4895MsMW2sZ7GMZPU2yjqvYQ1N7RiGpBno9kxaWFb8Yixq0ODUeyW2OcC9PqdiW61uHY+n2LRTi0WOOL5pBE1C5vfvTZfCf1uwtzBiTcDPPc0ww1Lx1lpMcc3nNGnggauIgKS1bsDQg7qkdHUEFi676vYpt1kCnA3MFV7GcEdezoEWPUgWwWpOH0OAozuNu68zp6CV7IMKJg7ganABhqfTa47bmTvi4jeaCjW/Bt+XXlpvi3N1n0oTEcwuED9xwbh3ZiUR2FhMThzVLmRJCHub19FSdne/PZVLIN7uZdDp1rOEnAYQIlWZ6XwXNWyw39YjrydjE5S/RG73tXNpCZf2yKb2Qmk43Sm6J4N8JIaoq599qRYMw9rQOjG7xdg/fODU2lQbkizr5pLWK8F76b9adAsksbYfX3GHzh0e7TtpZsxObTlp27A0k/lIW9Tw0iXbFuOOWFn4K/4VnC2POVqzEbI+bC7GSs+Hv/n5fFJaPwHjRzsmTv1NkrNskZr6bNu4U5HZwVTNGbN8jBgucT89RE+WbMcUauzr4Z5j5qZvg+wOHk/fGxSMk5j3YMnKsSFb3WQB1IWo2+p028up1DAJuTw+etDTZ38U5PVlxJgU19sxmmkxLj3YeoMuPAEZYctO5jQ4PnXBf9XtM5SBB5iM0NGC8T5WGwr0WPM/ObjhDVcwrMIRG5azbDwrzzjWEZG1bwYMd1YOMZkkjZsFMiIsaJCPcEuSAwbw6TudNrLf3N1l7x2uiMfiIS0Rj2zfwt0X3VcwJdR397TLQxxh3Gn0n6bD8PrnOY5KD6N1saTCfVrnFCIS8ZLNOelobD31w5nIw8EyR2rmxWPv6O7nt5A2mfEvXs6rvZAIITwZ9/b5eFa7cGuXCwYWC/V/C3J3+cF+jPh210aDnL2+vmkDsu6kSDe9I3D3/MDAEa3DNDjccckgS0wf2b5bnixgoT6h8Y3KscK9WquhcGuGgYfuAdrQsmF3lz5RAskpBYCOGGMGrny51dkEQVxZZxsQEaKRr8HTrqFYsXSFMFHi+Y5OEDawzu0Ii3vdXtdhes3iI7dqc1uGMiZ7RnIR8DzxGUckXzB4Y3TORRcB57Imkb3F0GJ6MfqbXcEOJ9x4CYUSNsAW1PrO2Flw6/hMHG18ip2eh+mwmz9qCBViq8TUzG8zBtPDs5l+2tpg3yWBzt3vOfvDoq5gFhG4jte3jh2xODSYMu2hiJv+uFBiYtxivE5ZGi28GYRSLMlHQD8Z9cnuVmUQIvu7+37woWgGETGdOgHbWAv2sj8xOD5sV1/OBp0vHF2GIPGzV3dqia9H1jIh5MJXj7likai+DQmygwKjYqXzQu6/G+0pB3ncCl/416xvtf6zTCIxVGcRhIfJJd6ZBQtNmnSy1BaLUpOkEtDArQGEUxXkvJgNgeg7YhXbcNHdvOL48TeBqFeTC7Fne2MVNvFMBD3XhO2tIDrv5rrzfzu5GTsHVIwarl0zHt62Rj3Hj6N6tYVBqXLyovDI9FN2hDitaXhnESkTjwava5j673n+bYd+wS6fXDvOCcMAAgDwIMM2HPjV4kwwt1zMK/5IdZfwbvY7yvUIwx10gfGPmcsIU62oaBw2yGoC1b4qbxE8ODUHx4OGGhigRx8HZHAstExZaGsPV+9TsA71MstqHDD/k1eF0n8xJMFKlgFv/YwKz3+LCga9hAr3pcgfj3xn4X2/3XC2j8ZsvV6EgWjDXjOe+TGM7WFjfnNkYFbWyE/JfRvLajUuw+uxJd6/eZNryaEHNjoAwL2zb33j6n8fY1CYYRbVGrVOFgkydsPCeSyNCh7Ma4A0kgsDXh/dhwuqJZuaTfANtD1b43Oknb59c3jRvzbWk2fZI3xyyOG3UhoYZvpB21YRJLwpCDTU2dCyDM4G5vpGvP6LWbd8S9LTGeh81dHXi5w4sUntmJitY8tusYyQP9ngULHNN7UOwdZUsL6DaMNBs2V47OmyvYLMMGIIyCruSjd55SRU5KeSZteTDdbiLZJRMFYuri+cZzjvfrabWOj0eAJXu+XYleTXvoH7yr9fOPnDGI+DTOC75GceO0Y9o2m1N9Bs2LR1PAEx8RfiYSLtkmtNaex9wAUWmQhNK68roODNXItXBDv5hkWTIpPnsuCu95o2Nt5u621z8ip3zkanBul4OI1rdGnbfGLJY+KRsm8Aw2z02yeTY2l41hXo8frUP+yoiF8fczvvEwdOL9hCjkIXe0SvjcVH94cDB3Q+JIzDVMMc+w1tRHHzE/MAk2w+bv9R8fFmxQmaK/4fgbcnc16j0i+BlGcmxu+MgloX6iOSp+M+NbJ+DE5gTm/GYMJosORBvGkGv6jo1FbJIaByE9lvDNQtQaxrhv4mg7l4zNXcuXwYAK6UgkOkVJJpuE340EFu4pjNXGUK+/fybfkJFqMt+RZJG7OsIL81NE7qLoTUUtVQPdc3ikfzo5ppsfFmGm54x6wOKd99ol9YI/6YTGiAgwSZDD5vA41iWzqNcf2nkBm9FwnOiREqXjk5vEzA903+1NqRN7DI5JktY6PnBuu+DtSUH1Z86tLec1KJ3wOTURVMiDhmharEG1QV/fG0TVIl+G7ajialxH/T7YKLdc3/UUGtwT3gX+kFkCNLhnlhyPO+QIaIP7xwuzBYlAsNj/6JpGcuHbk+TupkdLmypFpUb1xBpos1bEkhfqYozpSKIUl3opkDuQlVmWYsyGZ4qdPV63oaVfXAlL4fECAzv0TcsWzR9MtOBJj2RY5YrlT3gvEE6IyaEuRfPnDjRdUbQ8DgwqMFAuXf9P8FvZIvmkcL5caY5dsGCBZM+eXSpWjOmYugwhRlNZLzYwWTLe4mHGa60xjXNozUNMFqs+NFj+3RPTch7x29og3NZHtxjHYiILr4x7v4p5GaEY45tewMAzHJOBuo/FjDjwBHqgc6qetA3cThhoL3h0yBoWR+jDI/8XCzUOm8S4DO649hcvTPXs0Z5UMIqd+lJMkzQsgWeixF92UlZdDyG1yE0ATzl4Ts5I8bhN9kLQBkRTT3txam9deB/DuI9iL7pd57DlBLTHm724hNH1ondik7swuZpE+q+QrHjhgrppPGNhLINWJzQF4ZH45mX1k+EQW+fQNirpkFFEQGCC6uOF7nomoX+MhYEpZjEAI9LCXqdK55fHemmG6tBkfXHasIQQbpNgCSHdZ746PqgKreBurVK1j11wtNeb3b6ONoCRDJtwJgkjPN4fOaNGuiaxcKj28ODAUHZ+g1JBEjGjn6v1NvWzC4+lt8cuCRJc2QnqXH1OZAjGM4j3qZZ9wcIcnk8+2q/waL8kRdsbi+RRv62Nfa9yZBOMBxQj8WD0TE1SQ9zXRb07B15ddsHz0OaZ0cH7UxdsLr6U8j4J3rEPDw6+G/CYgkEAG36Qkvrp3lTPPLvtjyYujS/M8JttWMC304wHeDXCiGEMPXbeBbttl8Y+6pixpzdL8X2Bl7+JCoHXattqsVwRrqJlH/C7HZYN3VjjOQpPsMvf+znwgjPvgWQPupHmseuYc/T6fm5cGgOJthv0Hp4uEZirfZdRXEcl6dwB0PVFhJVJQhqWeNksau3zGvmBDi+MCd4XWIhjUwXemGHJK3XEhtaqN7Ie+L5UfujH4FnF9wU66WazO5lR3PTRGMzMv+0kiVqXHmHxxsCV7LuuN0OM1JQdPWLGJULWIW9h9Pj12Ew0PvCNxka9KToaTW/gI8oLz77PptfPS9bHjRf2eY3x2N4EnLZsowrpj8msuIqJIoA3N3R9TQ4NIwFhJ2OFMRvvX5Rk33Gd3FAnntXvdW3whARByyrF4pJDyeT+EunDo08mkkVHYsLjF8ZlE2GXTOJEs4YTiY5uMO8z7e0Jwxu8XH2M4noODBm5ob+uCY7Vz5kdqQB5CzP+7GSi+n7aGv6YPxv5CxPhoJ0JMHeApKXr2+kaJ0Yuwv5NzxMe/e7XuIc4HCRaPRPbPE/2POo5rm5bO59gUxEbZSh4n97y6bRQzW+taY95wudTYtKX+nunN7Iwf4dXut5IRzSwq+jcTeZ3fJ+xSWA2mLV+NN4hkLTz9Z7XeYTs8xu5HS31higaGKBNdGCyzcxEWuLaC1kbzLFmwCYcZFxgmJ+fMk9J9n18avBvcXkbXc+MFf2uwmYg5kU9v5sbVA1bN5nNbsyPsOls8t3onCDmO2oS1Or3eSKZOx3hpZ1hYEtY0Ds2NzPe9VivYz2DTQIjZakdglxsdF04CcFQj/mansebNQ/yUv1wa8t47oywDVmcz+QG0efWUjta/g0OT2WK5o+/2wZ0ayKNleyZq/8uyRrznUd9O6LjsqZlpUNKNM1Dp1UPErQnKiaPAtb7iMQZmOKwAWcARC1oJz/Mt58buiBYp4XlJ9Hfid4t88mlp7elwT3Zg8vfMkWABvdMYeNBhyIBbXB/ffbeYAILb0AsomF0urRWAelaq6icWLWy5M6dO90lYgIyZ1VMwkQXY3DX8izIVg7PQxiKzOQN3uiJipGMMb/DiA5jOgoM7UZCxninG0M6kp/i/ImK8YzXv2PCZRIqmWSs+CDVKFk4kP7ABBAFExXoyZuyc+dOWbJkiRQsWFBKlYqFeLsMTsbzoMfAOXGvAnjSGn28/2fvu6OtqO7vTxQRG1gRVFQQFERAmggiKiDYEnv5JpaQYIk/jcZEo4CI2BJrEo2axKiJJWrUaIyCqIgNG9iwYe8du9jNb+1z35637+d9zszc+/hDV+5ZyyXvzsyZM2dmzpyzP/uzt03Zt21XRiG2KdNUP9ZYxCFlGPrCnDDlPZdqqKT7ceKmeoFgMYNp131ihf1dpMutx6JuuwjU7Ujj/vyrb2K6K8pFP90obNojbQr3f3++J9z93IKqS7NarsqYhoY5UvZwjqIUQ2WA6wlsaq8aBYGttuDjZkkcgHtM0Uz1v9V3xn4qBXL4Px+OzGIuRrBQR/vLsIwJAPHcN/x807D+au3jn5qaDcMnAO5kzxdN7lJME8gbYIGtjCs8Q2C6kMlUxG5UoA3ttBIIB14yN9ww740MtCTzpsxz7r2TTBXHuailj3EAwTEy0ooAVQVM9T7rtXKxDQ3ty/cfGpk3KGVMjVOptKhfA1YApn640ZpRCgnZLSngU0F6MJNX7dAuA07VTPhvs1/Igl9YGCBQOOfFchqqKcCdRlFTr3u8KhUfmRxkOgGASUlJ6XiBugCu4P0Ahv7cSdvGPrWLQ128poxkU6AF6uN9VHABC75X3/+sVDq0p+2tGsiatgsgC2ZWaDNKniwEtpOJZscXtlmZfkjtRobYXn+tMM8AOG/X19cFxnZPQxpgMsAILC61z2b9avPIxkQqcxFrEnVTc9S2mxJoR1z5cAR4MO49e8I2MWsDQRGkWl+239Dk54xsX91B5VH0mYZ0FgL/Zb83nowAzgPPCwDsfO/wbcG8gcQFgg1eozWYrQbqZFhqBgvAdoCtBMVVOsirG5l/PSZOq9pk09j1PYXmcpnvur5PkMUAexMs4jmTmmUeyCwEGIJvJrNu9H1K3USbpaBBScswhv5+mYyyPM1yZkAo2x8A65wX3suyvvIYr6rri28gWbKUwrG+Ewds1i0y3JEhk/c8AwiD1wXmyzcdNiIM/20FfFWygBr94TpWWXbJUhkQNgiomsuU0VJiCEDal99bmAUG8yROEAQdd2HF4wdeABhH8N1AwTiBObyVftBjPJ8cPitqFonsMKxVoF2tQUxl5uO7BcCPkit5Mms28PnpF19lngz0WtHxA3MbyLIwoICsCASjU4XzMXyr1JhVs8oIysHA/JEpY6OJK0qembjNCtTzU8ZSAxyY84AAUKT5reMHAvm4//QKwFwaBR5fezcxmfHtwryZpJ083WnNntP2qhyKguZgGsMbgNkEqmfu9bc+J3b7MfDB2KRrUP+KS/cdEnp37hD6Ta0QWvI0v3VtgPEUJAQUJftotgzqxnqsjP8B25qaPzFDRIOe6AsEojjuFK2bKDUJstsUZEk13T+dD5DBz3VGmbmwBovA3IYcIQvnI/SVIhlCg/pFgQIl4yArZqdzZkcZQtXF57eDZqAIoGDeBk30Gb/IlxOk8ag+L7qu0DUT5lIrL7dkZsRb5C0Tx+0mrw2tXzXUlQSFTLQ9NuoShp5UkWPNyxpUsh3m/CB72cAUTFJJ4nhkypjwu5uezubfeZkoutY7Y1T7sNOYEQ3APTnCNzbU2wMNwL3enmsc953rAQXcT5nzRQQxMZG4dPzGcaHUt2PbcORmHUPnFduH1VZbrQXoDsYk0k1tAbi0bLslAiauWIij4EO7VNvFk+C1rYPGpfo7NdSrmPPLLRmgT01tdixS1F3c1ksmvP6upqxk1kODHuf74quKNjfKqu3bxf9QALa/9tpr4bPPPgurr756aN++Amh6EyYY/WCSQxAVE2+YMXGRCxbJybv0Sz4/uijBTkgfO2+figu5GlUhhREGNpDxKQI/1PTInpgLCDVc4iSaMipje68a6ITuNfxfD76SSRhguzW3tIsjTGZhcoiSx0bCds+szKY8/vKKh8NVD1SYOQC5YGQESQjLbrZtV2153aZ6hPhdWThgi4DNZtOQ8wYETQ3lflwQ4G8uupEV8vjUrQKlQMqYsip7EXUpg9MulIZ0WzEDcvKMkeI9nP5kOHtWhS2lZacBq4fTd9swqHwKAMMd/3hX1EMlqyWvP3TSjv1s1geDLJTlIBuySCs59U4qq4d1QWP9hkM2zdg40LqcN6UiV+IVm3nCfbjIwIQYrPOPP/8qjO7VMWqr0sypKNMCdWmauZ4f9SNN2S6YitJo9Z2EXi9YVz/925xYNfV78W+VNADgMvGaeTHYgWcR6dMpqZNUdgjqpMyNBVRPnTE/e6ZSoDiOV7NVLCynPfpGprNLw1cbhNFFQ8o0T2Uy7D3GAiVmTB15fbYJOvYYI+g3kRdcU2YWK7j+58NjIBfFSjBhLKcxcJHsi9XBtc+eGkEiLRlyaDufMzvuZrN17HWnnjvsh2fPLuImX/NolMIB2IznQ41btW48H32PnRFTp20hK5MGg3z3qCnr6Z5qHX2OuTGONVp+NWbdcNDIiuG7BvQg+QENcJqQ6rPvvedM97bb8Ex1Xr5d6DulAtbg2QBYVQZgUTYwABv0HwoZxFYzGgGJ3k1ARtHY4WXecM6Be2S/cbinZb7rOkZjDgLQE4VSDSBgIPgQM4+avgl8d5Tt6PUxfrP3EIxw1I0ybd7r4WeXNMuDXHb/SzEzpujbonrkyLJD2j0BKhpzKxECcwW8OwxOWfNubTuvDX3xs827hZ3PuTtuhi707oPXjIAPmbMEqlUjWXWrtd5xF9wXbm0yQwUxo/vEaTHLgwFh7KuBS4zRkEkkSJMnO2eDgOorQnCXmUE4D8ZWSCpudsqs2MS8bEzLAsczbFnPZNlSCkYzl/LmfRo4wft6yxNvxfmdmmZrIBBzbuQzlckKUVYyZP3AnqWEDiR1kL2gLF7IwWD8YMaQeg14zzb1mQEQMgCB/RTUI0DIjBEyV/Pm2aqLDaD4kibdedSNYCB8r+gp1b5dmwjk6zHqF6HtxnyFoCkk+yDpcv2812MAg0FEa34OYhIzFfIyqFImxmpWqvcaRB1klB3bxOJW8ojX13atpPuQxKGZg/Qt4pw5z0xSZdrUaFr18C1z+59zX26RLZEa/zBf7HpUJdBiCyVIrCQTsnw4VhWtm9T4HSSNnc6uzAcon2KZ1ghS2efHaxszRGmYq9dAYgufb65LdS5aNNfRbF8EknY5d3YM9qonDj2HKDPDcabIDwd9ju8q5iRgib/z0RfhvhferZKqssQIzG8o+aTGsKn76mVk67ukkrEgQcErje9fnm+SlQdtv9QSLZ61I696JDOHx1iODFNKt9o1rbZfM1H/tPUKYavNN2kA7qkb3Pi97h5oAO51d13jwO9aDyjgfsxdC7MUXXwAsQDDhPXErdYIG65aYaJDOmWxxRbLLhOLAGi42wKtdsjA6HZ8pNos/r3w8WeV/ZdcYvEI+KQK9gOTXQsAe6RNYWGHSaHWg3bgfGAW5xn2gGFh9bmXaLNYZBOh8Lxo69JRhz4EHIMC+QJcxzfffBO+/roCGiy//PKhU6dOGQjlAe6Ua4CJJNglYLE8NnWrbJFr2dm2T3TRiG0KuurCHAxlsL6g0VYEFqY0ZFE/DWMskxEMJTIUh3RdMTJ2U8UyqWyqpp2Y4n4iqwJFgWevfi5adZsaGOI5AOMRwAIZFVueflsM/ljNWVu/Mgt1m2VcV6U479w3pr0yRTLPWIx1emCcMvrG/21OlnECgKhMaifrtkxBZWCphivuMwB3siGtDr7tm0nXzAsX31MxE9NC+aLf3fxUFRMJkz3orGIiXsT610k16rbMDguwkzFTNKGO78vJMzM2EtutGo2UjKDeo6b0KxPeXreCBbqNmpT6LGHhOnHbXpk/gMpCpd4h1V+19SOlninBZNlk+ptrdAjXHjS8RbUKtkC3ExIplFrS55vjVLslFgtgnmGxS+15atp6bfaMgLkfze0yQHXJNmHesWOrgjR5eskqYwIpCIyjbBNAMnxLyDQm40wXdWCbDVunpTG1PrP2mmDqB7kyHdPxjiJwp6whZl7Z41Pp4dTYVZYqFv6QpSIIXMRC5ziMABSY8ShqPKsSKufuOSCyS7f6Xbnx9ayZT4dTZ1S0/W0BOEuZpCUW/16U8znvjuczzWuYDkPH3Cuqo27BJ2bJWC1WPdeTx23tygLhXFZbF7+p8e3+F82JAC2+vQAvwKK0AGnqPQTbFN8UWwDGrbzMkpn8AwB+6B7TjBVs0FWWa5kZiHp0Ea/gDb99FgQEg22dpuyyogA9wTqcB0AbZL1QqButwTrKLCAg/eKChbmyUTouIkOH10kw7/2FX2SSczR2p24w+oHsWK+fPQKAgo1WVxwBLxpbks3r1atjwD/23TiSPijlxwwIauzSOwFgDoFyACB7D22pl6+sR8zffr11zzDqtIqvCI28rVY0MiAgswbZvzzJIUoccMzUDAtmS/J5xlwXYzIymzD+ocDPA983r9hvCtilYIziW8DMKAuyqUHmtn07x2xFr+icD+PAQ6+8n2mMk8VKo1eCZTYwmNIrnvHYG2G/JqN0SHjMnP9Wdv+ZGaWBYjBh8UwNPL6SUYYsEdwXr1hm/tf//W/GYGVg/rDLHwpXP/hqHH/wTYQkIKX44Me0Y/+0iTGzbxCYwXuPTEUUnaOrR8hFPx2SSWLkmYlrYATgOQNyqJsZa/ZZUoY0QXnbJ5q9iff8vYVfZn3N8d1+uwBYlpEm1Hkzgi6vffBZPL225aq5r4RfNpl247v9xgefhcOuqPhd4R0eus5KqaG6KjBnd2KwyMqygKBFgBZSWfdMGOXWr0xkeFrNfem9yPTXsU0DYQjYQ5qjjNQOTqgm6pC0Q9YsDevJRtY5OMY9EH+4biqSKYTvEfaHzAqCgqNPr/hC8Tj1yWAWlRIkUrJ8zM7gd0CDAhyvyCKnxIt9n/OMQfnuYb4BohrJNwzCa0YGM+V0Dot5Q6pon0NG5v1Pv8j8AiAvCTxB10yXjB8SxxVmdxTN03BeBhu0Dcq817kagomQ4CzzrVeyHYKsSy/ZJvNYoS4/+4HELQ145YH5+hxftP0qYcSwIQ3APfkUNTbU2wMNwL3enmsc953rAQXcfznzwyj3stHaK4Z/7LdxltK4+6A1wsQxXcOHH9BqtoIAACAASURBVH4YWd2ICLMA0MSE2ZZ+aywfJyEfwkiyaXuvTu3Dqh2WjKmJKJBrSOn8YTsWhfiQaum28rIBmpZ6XtQL/XVILADgwqIJzJFUgcmMBfJXXa5dBhJwOyZeG6xeAQ7AuABrC8Y3fddYPoLrkNgBqx1yMsr49AB3sihozsLFVplFLs5vja4UXLbalmDwE4giQ9PrC13w2+1kqCgbhgwLauUVMYstaMNFKM8Fs0QycgCYxTTrkypGSUUGeVy0abup3YffdDHMCRjYnVgkrbPKMuGWX26efD5Ur093sswunTBC4gLa/9RSLGLhoF5l1fE8eg7LBCNLwhovehdCE11uwyRxk+4VsFFlSsi27TvlxgjKFGUtQIIBMkS2MABkU0vBkigDTKK+w654KE50WewCeehJt0SmFc91yGUPVvQKoY15XL7BJAF1GBkCVELBOHfFAUODaiUTyFImfx5olmJTka2lOv3QQt9r6NoZeKvMvNTDeNqM+RljRfcBwIJrn3TNo/Fnji9ciDDIZOvVxTYWQsu2a5Oxc5U1u8s5s6skZFTTN0/qRAE3e24CnVioqNkdgDOm5ufpYdoUZKSFn3fn8/E06A8UathTf1OBxZT2sJUyAhPV9mv3CTfE8R8FWsQAlmgUmgItsK/N2mCfMEPJBjQRdKQxZh77CPWonAWAAKRYq17p1Q+8UgVSYNygvEeRZ4jqftr7CMCdEkw0gtP3IE/jWb0BAAoCRGXZrm/ncNYPB7QILKpsgjUa1LZ5oLjqltPgkgw7Bf/zpLTysjYQsARopixm3EOasUL/GpkFXtFFNjIOKMdAQNMyurfo2TGy3mJguk+ncPaP0p4YOgfB9w7moiiUCdCsDpIBKH2VlxmXAdNtFgvXHLhJBvSgbjwXz779cQvQmVJgkC5BgC1VFPjgPmB03z9xVJxfnT3rmWj4hgL28r8eeCX8YWbFZJ06217d1mQQADUNtwk0NZsJVuRxlMmaCkIrkI9v0h/26N9siNrkb6PGc5SvUXA/JTnE4Dpke/590PCMmIHrI8Cz09l3hQdeej/Oh2c2zWf4HYf0H5iXXtH3iZmXqgOM54rSEzT+tcGQFDPa6gXf8dQ7IjNS0cInk5h+ICrnopr9tu02GwiZnJRPeHzq2EiOUaYtwMEvv/km+huhQBoFjF2vwHwbhtsokBDC82azxzjnRPbuzF9tHtSDocjEmMFABFwwN32uSVaT7w3WOQiWYGnFQHzRtxzHEujku6XvPQMFzITit8FK43CNo/2Cueyw31QkLZBhgiDDKTdW3j1+O+y3C4FGBu/hsfCT4V3dvlbJFYzPyFRD0YC41o0xFOtSZuLlyQ6hHptZq41g5oeVZcF8yQaRvSw+zWrF2PHYax9mc1D6yDCzlhrZmN8wa61Iekgzk/BNwhyRa4p/H7RJXHta8BmsdGRgYXrCrKLUGEsizvDuK4fTdusXhpxYvd6yWVX7juhWle2IIJYnA2uD5LrGoHcPA0rMMFaZ1CJmPoOLzGayZCTrlXHEVj2rMjk4Pnj9YvscIPZf7qjMK3m9F971fNXaDt9gjJEoyIjZeWA62IZ9PL8dDezoN4ra7sz2yvvW2zkMSIw0UWZgjHI2DArpWJ4XmNVAyz937hQGDx7UANxTL1bj97p7oAG41911jQO/az2ggPt+N7wbAest1lslXDBuoyy9N2/AT+nlUa9bdYbBuEHKapHOMPuQadwAAcHYptEfpFcUSOG5VPfyieO2cm+FpuwBqKN5Kq9ZF31gpE7abv1YD6PzeWwTntAD3DnRsqZ+ZRa5qNcaXWna4y1PvFk1GX3p3U8y/cmUjALqtKx57TAwIrfaoHMmawL2KEBxTEKp6bf2SkuHVEo06lKWA/4+YLN1olEPCydNNBlVQ0eyHVPvk9Uox3668FSwiQsPTdPOY9q9tGBhxlhE8IZmimC0HDK6Ik+AokwxMB2ff/uTjJVTxkiHWqZ6jXoOgp5c4FlmcN5YQ3kA7qOGtXZRDDmmLU6dFRc1RQZDnLwBaINPAAtTarkYwEIBzHAYj5H1nwdMoh4FNfH3CksvEe6bODpmtKBw0UpgTsHMPNY1juVYYlm1yERA/Vx4UFfdmuilAoPQ5zzg4rmxfXgnkd6LQr1aXfzxOdTxoUjX3r5D7G8A+tAw5iKY5+OiEf2PBaD1EVDGNbIm4H9BsEVBGi7MhnZbKQZf9X1KMcXRNmVIec8nJGOwcFZtTcvExrjjFcvOx0IWgQAUXAuykCh7QCkRDbylQBHVuAVwtvvgLi3YjWQocrGoTM48/VFlBNtrwr236eGffflNFnQs0ulmUG1kz44x2AfZM01tVx12gKrQeCbbs17pKFwD2s3UdLJUdeFHxrR3D9XUEAGoo6+tmGSjMAjBvsZ1nf/jweH8O5/PzAlTviG6iERWBvoRRTVeCUZC2um8fQaHKiM0kS6x7UbmHJmj0FEHo5EANrxH8G2koSTmIu8t/CIL2BAk8frCSp1Q+xr7gs0IyQwb+KE0RZ7+N+Y0ZDqjLsxZAMyy4P5pNhHBCATCcG2rtl8y3DuhotNsC9LocQ8xNj84eUw2L6KOtgZUKCFHGT3UlZctpN9dPS+Dl1ZXHIFfmqyrTJNtsz4/eA9WWLptNt4TgMu+tQJe6zjteUsocAnJNoz/PSbeEIEvgqaWBdyvy/JVfa9+Dtpuq0es4C4zkZi1pZmGBFfz5qkqB8XvJseSUT07hr/+eHDg/ErHE2aUoZ2QqPKY6Mdc+2j4290vxkvBtcGnhvI9/G4o2xuyiJppmWcGrN8gZOBiDaDjP75lnFPy+UQ71p04Lc7h8gydFQTGXB3ZrSq3gXULgl2ffPF19DFCMEOZoipdZZ+/aoCrS2RrQy4IBT4Vz5+0bfSowD1H4TOpAPD841p+y7EvMz0ZGGEwB9vomcLsCLZb9cuViKHtVq8XjOeYj/PbQeNeeK/8+fbn4mEtJI1yxlMFu5GpMP7vFUk7XW/Z8QnfNt6PvKAM6kkZzWMbs27sWLLCMm2rguMkF9l7qfMJfL9glA3fIhRmNdpn0K7Pttqgkzu24kcNXONbslTbxcJPLqz0DwNtzD5RKS2uT2G+DYA7Vfju4VkAyG3lDS15a7dBXYISp5jxZ+vnOpbzAY9E0Xvy9Pj+MKCsgbY8Xwicy5KPNPBbYfl/1IKtrxnEeWsPJbNh3fvCgoVZwJzBAl0zIegPUJ5BdvWJSfU7g4wY/59/++Ms4wzvDZ49lW9hdrQSKpDx4hV7v5B9T18aeo/YDJc4Jk6aFrEP9R6w9au0399+sEoYOHBgA3BPvlmNDfX2QANwr7fnGsd953qAgPv9988Ju1xZYRqQBcUBH9Hwi8f7A36K4cmItRqD/QaA+0ZrBurs5mlp66IR2oTQCkUaP9uiZp80ilFwI2W+p/XuufGaASm/+MCSbaMfbgUOamEXe4A720iWHbWiyRTMW+Tinii7kw8ZgANoqP/74VczrXSkWy745PMMMCKrynswNW3Tbuf981g2ZOlbszRbhwJZ3KZMBoI2yqgj479I9oWLTQCCWByBMavSIsoM5mSLkzQAJPOPT6cYKotFU/0VAIOkUbcmUytc230TR4WHXno/S3kuo+tHFhmkjMAOQtFzWJabNb8iEO3d215HT8/qxHZlBWlKKhf8vM/UVU0NZGTVQWcUwTlkJaAw2GGZgmXYVDheswX03AQXPG1JZUGlFgKoC0E23CsE7JCqOf2xyjhX6ZcBYfXll86M1QjK6ruRpy+p45CytcguUbkSguLWrBBMqFRJMaQx6b9g9vPhT7dVFrwEz3Uhyd+0bq2PQJsNJlbpMPdfPZy++4ZxnKS/Agzrdui/uttkT59VjeIATiPFFWMuwVBr/vqjIWu5dVtWGkASGqmBrY/sB2qUcxFks1W8AAdTbnFSSgXwWqnfzAUK0rx/v0f/FinGzB6xDVc2GiQftMAE7cir5oXL57wcf4a+JjKvyso7EUiBnMVrH3wafTtQbj98i7DmSksHHQPBAIbsTa/JFbZnkQa4SjPYa0IfWkBQQWkYd0/d3meS6kIc3ypKEOAcAAkhUcbrp560zjFS3xyVMgIgBGDk/hcqZo0Y/6FtiiCkXrvqFBNE8h48ldNA1s2IHqtUSUl8L3wvHHr5Q/HQS8cPCW9//HkGMqYALexr09R/dF7FvwQFYA5kHGywskyAXtl+uM9gneP7yIL7x3FagUlmDOV9H0kYYJYVs5KYraNBBOpac8GP8+dlbSiYBTYergOFAATlMwBSgr087dHXSxnX2e8E6rZAEwHmDbssH/1OUHScJhNcnw8FojjH6D91RrxvDOpoUJ77lMmesnr6Oo5Bau3Q0T3iNWDewAA02kYANs/sW7//DIAo8xVzfW+OrsHjFMBsjd4RkKbuPgAgzPnxfqvGv37bUwE1XJv6CYHggOAQx3/KbViSQhxXjrspZiyo75F9z20AFUE7ldvYc+O1WjwzKXKOrVvHGUg44J1kphHXM3NffDeTt6LUnRpFqr651s9vN+fLmrUKgBbzHej/o3jjacq7Qlm/eGf3GbZ29rwRMLU6/5DipPEogW1vPNV5LEBq+A7g/pD0hGMY2KPkTlVAIgfMx7HqP4LsnjG9O2WBGWYwepKBqtGfypixAOcL73zSwn/GejSoAWwROGuZzsssuXgmA8csLK5F1dOEmQ5qIOz1vWZaYC2mWuv4LmhwAMHksb07xYACWdOpADIDfZzT6Xwe7UbGIddLfA41GyovSI/r4LqjR8dlw02HbRY0Oxpj2IMvvZ8xzulPo4EX9bCy/aKG2ZhHol3UxOf3SgNAWDO9sOCT7L7QpNXrb/6m7H6QOigxROlWfScoj8ZvUt5a2AZzsAZmIIDmv57Xlc4d/5zIhGKAFWvCs8au0ADc825wY1vdPdAA3OvuusaB37UeIOD+p6tuCifeV1ngkJ1jAT/v2jTtWbeTAaMTFBpJlanXaslhIvnwKx8EfnCVOcRJgIIEDx8zJppp5U1+MQmASewTr38Y2UnXHTw8KGP/9N36RfMSFIIyRWAt9vVS2wnAWuPLMotc1KmMW70mTKrf+ejzLN0NTC/oQ5Zhg1iNde/+eUynssA1UnSRqqsF4PKDk7eMOvjW4BD72QyA1PtEc0hM0pGpAG1eMuVxDNnjuF8A0cD0tcZoKWM/PA9MjQXj/IybK1rG+2/WLRy1da/4b7CUKH+DvwGe3fv8u2GPP98Tt+uzk7oGLpbAYGeKsZ7DBryUnZxnLonzWbY4fjvnRwPC1n06Z2nIOjkncAJwFBO+Nk2sctt2akACHPvNzn3DmDMqGpAMGFnZHmVTAYwa1iRrY+v1glTcBwsB7W8ywKzpLtj5XtEFPYJsqkEPFibknZiuzD4qy7pWZtx+I7pljC/Wo7qvmKgjSKKLhdQ4xevQRa1eG0DVc257JvzjvgpYywCjSr94IJFO7KkjznvGoAkMyjY6oZJqTCa0phrnLY50EQXG4RbrdQyQnqLhGTI/9rngvshAprmVgvQ0X/TuI2Q6IIWBgmDCvx58NZp3ooC5CqkgmtiR3YesGUoKYD9P69lmvlgWG4LEBIEpT2VN3QBCeEXlNKyhJzQ2T5k+PwaAVMuXi6E8gAjnykzC+nYOr773aZRUQwEYiudj0rWPZrq7ADaQrUPzxZ0HrBFTylNFpcTsPngfGdBTsI/tJkvWq1sDcPhWbfuHO7PdMFbPOnzzzPiRsmLKEE1JZSgojkwqMGvB0kQBA/jo7dbPpHrwbwBfCMThWw1Gcl5GlY49ADrBvP/BWXfFusHMgxyEGvqB/Ua2OjPFvL6wrFr8/c+5FZNvBLVwPykNRwkPZhipeaat27L9AIRRegX74v7R60Fl4ZSdjG8mtM5tscZ3E/41r0pHG1k3ZOUT5ND5EJm4Xn+oxADaxQASJawss1P3zwsCauAJBqQA3O19JyCiJpZkGKOtXtBVGb6UHiDwRCkYK7GGb66O0Z7kEJ5L+54ie4dyWXh2f7HlupmpngaLON7QI8jrZ8quINCLIB8K2w2pQjC8MWaCFc4AI/bRd0znKXoO61Gk31EAeACbPNNwznVIfPHabUFxSD8yIEUZKy8TlV4XeVkhKrGEcRn3SeU2IL1AiRWMAYeOXjf6SPVv8gnKywzUtQzHNLaJ16tyOSTJaGZGSqKwOZhQydrRDBNIXeB5xlwZhd9yBYDVx0b7XM1+CRJbST8SbzjvtiSpE3b0PQTsGLbdmXfEd12JNwwscr2nGt15Mhi4Bvu+d2zfLliAkesDfU9sBt06jhSYNc9EZtlJ056MXXfzYSNC947LNWeHdFk+Sv29uOCTUobDqEPXsAgi4ZvNzAK+cyRtqYSmfq9T2Z6ezrnOu7GGgaQjtfM55imphLKI9v3keoweSPoNwrfq1l9tlo1fzGTw3ovUfISYARji6FMNRmHsnf3sgnCgGGpDfk2Dv3kmvnZdiDYg6xMECZIP7biqbc8z2eX1aAD1p8O7tQgOcA6qvh4qQ5OShrX+JADnex5dIVVQetPLiivDnud7iayFE0cs2wDcUw9n4/dW9UADcG9V9zUO/i71AAH3KedfFy6YX2FaMhXYS0Wy15bSy+MkTTUsyXgimzZPi3r+Gx+Fsb+rgHmeEaiXLlYmhUy1ObEwh/686nor64ysdLShzGIU+6Vc5sEm2K7vahGo0IWMTcFNgcDK0tJ7APAA7EJlwgHUIxhMiQzvmdSFn93OtE1O6BVEsaY9ALy9wjRAuw1ACybXYI1q+jX2oywQzRo9HUVOiD76rKJli0npNQ9VdMUp3cPJirrYK5MBjPSOy7Vz262pjmBYn3DDE3E/6kLj36rNzUWUpn0X6S+jDi4CwNJH4MeeI0vB7NM5/PFHA6qYO5zcexdg2fe6D8AWq8+N7bpIocmRVzeDJJxY2wW2NUayZmQA/L1SBLhrEISAmbJo8jIK7Ds/4/E3ot41x5ZllmwTwHhCuepnQ8PAtVYMmpmTx0pSFg2M035xecXYC8D+8Tv0iYxrPCvKRvL0Q91OQZCnyejRbgcIdfpN88MN896I4ABSoFGUIfWvA4eF/mtWByEIIuGdpeaoNfHTa+cCC54ZZAjre2Dbpcw4mj/qwufUXftleu00bFJ2dB7zWheVAASvn/d6lfb7M29/HCb+q6JpDwbkgKZr12frriNHRhNlLfzOUbpJAwC/3HLdaJhI5h6CKhO26RXBUGu86N3D5oyPJQPYzvymcaxCKjHefX0+GNRStq1Xt6YFX/vwa1VG4FisH/vvxytgvmhnl2F74lzUofXOi74nU15NSQkE6Jhrj1dgK+pwP/hqwHebBUZ/u55b0UZVs0q7oLf1KgMYgBgCvTDIZsEcgqwyyBjQoK2MdwVYjJufOitWBR8SgP6qAf7x519n14B+R/Bjl6Zr4FzK60crNwLWLzM0wNKDWR7ADpVzY2CU+sDe91HZsiA5YN5BSRxIgYG9CfAWzFv17PCkxmy7mYFGDxkFlBEUgIyRZeXzuUBdahRn61byBoIaAFRRKBfDjDBK2cGrhmaBed9b9WggcMH7DgbwuXsNdANICq55GsMavGTAk2n4uD/wFQG4jbkJzVhxvzyZGe0LzdbgeKjfdLDAD9h8nSgDh6J+DMrETAVNrIke6iALEoECAG0eKK6AHdmT9h7yW8JMFM2MAig+eO0Vs7npz4WpTKIFPSG890VJJ5j/TP3PE5HljoL5IowRvWAln788zyH77IOso30AaQ3vWStDEFF5FvoYZQBik7m5Xhs9FVRXXiUB2TcIRHY3Jsr2u4RAgK6jxm/azfVZsP2ths00hM0M2ZtAT2ra6zsNSSUAlTs1ZcZ595H1EKhkIA37MguEgOCwdVYKl+67caxG2dnIPEsVL4uPkh4ct8je1axYnTvRE8eewxp9fvLFV1k2E43rbfDuw8++zHxy8kwqcS4yuQFSIziI0mPStGjSSX12AqiU+8M+yupPGc8jIxXSUSj0R+J8Hr/hu4BnbqqQGHp2ah/9yyiZhv28LEEG4AlQ6zoY86pL9h2SBdIZsNJ5H8gZIFGkCq+Zz4NmDiEDCvJrlBejxJ8nb+bVT1IMxmh6anAOxmeUgWb1/+K8kl5QycaHENabNC0S4RDAPHhkj2z+QPIKxyiVBOLaAfWStW/P4QXlKA9KWTFqwaufzZan3xbnR3lzTCUH/qL/Eg3APe8GN7bV3QMNwL3urmsc+F3rAQLuux5/cbjvo+Vj85lOZ4EY79oIkGIb2BIErijNoKwB6ol77AJbtzLjwZZ/5JUPMq08SCEc958nMsM1aufpQiaVQlbFlB3VIwJrauDnTXzRNpWG8EAbtt/qp/J3AFeQHRh52m3xJy42yixysb+mO2pfwQQKgIAaUy7Ttk38wMe03ZyJrwLQtv8BlsFkCpM91c7Hfso0pQad92wAkCLrUreD6QRTXQYFVEZFQbWUMRfq0ok9jGLUfA/M3fWPmR5ZtOo/oM9invGjAhYIPBDEU6kEZX1QK88CdQePatZ79/qH2qJg+gI8ZMEEEhIIfadUJBBo2qY6/gCmsHj1ijK67XakX2IyCTawGu9Wp7JWQGev2EXPkVc9ErXEUcCWw2LjnY+/CAzQaGCCklK2Xl3Ie+fEBP/uZxdkMg7MHtD7lKob9b3y3sIw/Le3xqrBoIbBUaaXOqpHWPx738uyGCjHoSBbnsGkmkNhoo9nnuaaaDe1cVWWS7W1i8x1mT5s+wXakidc/0QE5VQGSAOcfC71WKYet2/XJjwypQLSWxAPzzZ1d1kHFlAAWfFOKavZtsszwAMoAn1oFM0w4D1D3WDlYEHCBZv3HCjbH+/4LU++FVPPUcBoh86r5xeghleU+tH6CTZxcaULZLCxxg3vmj0vXCzq85GnO2yDy6r5DxAFGvyPv/5hzAL4z8EV7dWy8mXdjro+Y2dDqkULxgdIV0BWRVnFXIwVLRKZ0u/dBwRydjx7dtzE/sC/MxmAHHNM1SqlDISaJat5qLLDrfGfbZcFxW96/I0q3XKwAWFwh+DDPRNGBQTZUCilocBO3jMNRvuoXh0z8ADyHtBs/7voVmNsJcjF4KDXj3+5/bksmAuQBIF4Mv4xf4KMnpVKU/A4lR3jZeeoAdq9R40KGzWZ5WnwrIhRC9AX76kSBmzWFYAQanhTskqB8Tx26uX3vxR+fVUl8AlQmVJLNJHLsu2aAD81dsR9AOvbK1Z+AIQElVCBTwA175nBgnrUl4DSZlq/N4+1rPefX/ZQC1386x5+LRILULwxOsX8zDJa+nSOEh807dOgjgZzwdT2WLp8TxXk4lwNRIjzxw3Oxjvbr0WgJ8c7BhBBaGEADe0EwMOsOH03NFMiNe+z8jxHXPlIRlRAX2Ju48lx2UCN94xUZcdOHhPaL9UmyzIA0LnLgDXCD5sknzSbgszXPCkPz1zVZopMve7xcP5dFaNGvte6BvLmNws+/rwF+1mJCQhCrdtpufDDv1Skqjhv0uMYQLZ9okQJjsNWroeAnM5tbCDL62vrGaP3HkDwEWPXyzIsYDJLcH3gcTeFBVEaqMLmTxXKGiFbE3NSBLlI/sG856HJY6LsBvx2NDhsJb48mTi7D4gLfL55j/iOKPhc1reM80Wyk3GNBPD5G/uPwULso+2iV5DtH0/CReeiWJ9j/vj7pgA4v886f0OdFnBPZR+oHCnGuS2bsmEpjWPJaSkWN85piQLWl+M/D78ezrq12kBbrxfeYSDYecUasGIf/ob3GhkDg0+4JUpoqgyu9bFJPY8aLIWcDtYTzFpg4GPQ8TfFdZPKKqnfTYo4p/MBrsUZCMOzjax9b0wsChSizesdPS0Gz+B9sVePbxqAe3LEaWxoTQ80APfW9F7j2O9UDxBw77TP78KSnbrHtlPXMTMmWRya1xXDTC2aNobfIW9y0KWVhQQ/qsoupBGNpyHdYsI3/60w7oL748+Y8EFX+9QZFWkP6DUjhRsMKE3BUoZUKoVMjbnw4UPqJAxZUTBhgrYwZQtUtqOsSZ4yQfWacK61V1omQGaF1wRzQAXs8oy/9MOq9WJhDgkEpKLj9jx7wjZRPoWMADXUsn2sTBCAhQCswMhCQeR9xwGrt5CWwDZl2+eZ0ZDtDBYJ9JVZsPCCCSUZopqm6Gme2nZbl3XI1HCxgn3RJmpkKphvNUDJgLX1K7irrGXsR+as9gHZ5qrpmadhiXr0GjAJI2iNbVj07jpojYyRWSujW9PP7bWBNQPQDeZFGoy4Vd43pmfbY1Wegwxuyx4cMPWmKn3WMjqNFuA8787KwpMFE3zv3S4LimtQAOMSNMJVy/qrb77JZGaoaa/vsZp52T5RZhHkAcBKgYYvChYwBN4UyFHQldIztl7+TWAIqaIIsNCkDM8hAkFYYNMPAsfc9cw7gVrQHiuT6dzqGaGLfSwuAB7SjFVBmywNfu0VwxUHDHWbbAOlMNbToAsW5wgSoGgGkdUE9yqn/BbZjMpgQlAWC2gCn8rurGIKjhscZW60MFWewIFKOkBqBKAEQSJ+18rIK+AcTMvlPdL7AyDht9OerBjmdV8pXDK+wuQjAzUvy0cXcQAxNeCIOjDG4juGTA41UCSwlsc0xvE0xvbug0on6dit35MUGGxNYpdfum2VxAbS5ulLwGwTtKGo3ZpZMXm79SNwMOfFioY7CjTGEQizwSIyTfPSwhVwwBxn0x6rZNkeYCy+8eFnkRnI57LKjHVk93DYmPXcd8VmuiBQOqopII/v77UPvRaDMSodcPasZ8LJ0+fH+jzJKPyu5pLQyR+6zkpVGUyY5xzZlNGjYK3q6zNTTBuuYzkJA1YeBQGv/0hf8HhmY8BvIKUZq8AbssZguI1CKTKbXfXpF1+X8iRgtgZ15lGnMowBuBMAUWP3Io1ugnid2reLQRwUO3+BzIEF9u59bkHYvUl6zmMuqoeMyncR4IRMCAISBA+qhAAAIABJREFUnEuqT4+CNGQm24fPGhDq+47sAWTTMfBjMwfUqBn9ZgulQDi+6Dcauu9Duq2UAZRqvKrBp9Q82EqKQeaM/Qhw6cJxG2UkDmYdon2Wde+9jF7WppqNgpnKtY0Cmp4WuK1fgw68Zt4DyBvdP3F0IHC/dNvFAwIOWGspgQPShoeMriZwqMzbhG16hv1GrFPFXsezs/oKS2XtZnAnBs4mT4+miakAtwbueb2qq/7w5DExSGVJPR4zXftDnwdmbyhxAhrrE7dd382mU98mGLmnipo9zmsiFWgGJ+ZpkPxCYFQljKoDlQODZ26qQUEEAjt1aFdldnvgFt0zSQ/OkdFOO8fw2q5eQ9Sax34q7QGCxjomqwH76BwrZQ7vkV/s9SAYSBkzBkytLB+kZxQL0OeUco9oE7MzkS2C7PYs62vnvmG3wV1iF2hg3wtqsp+UIQ4PHSUfYZ5wxf2vxAAt1sBPN0livr/wi7Dh1JtiFanAEraR4KDEBA2c6npS5/EErYt8r+x3CnNI+ipg7ob7xYAv9e3RLgQycN15kncwSAVBBoEfZFThvnDuhuu5+mfDWoD7qLvIkFnnMJCiGt1xYQNwT444jQ2t6YEG4N6a3msc+53qAQu4q65jkea1ZUhjYgYTUBSkTuLjAY1DFkbGla3NKLrtNGUBwVjk5fcWVsk+TLrmsRZgkwVgAPbYopNUfOCxoEVaOwsBIfQDJBdoaKjtYeqgd6OVQQ9NZEpXAEjAgu+Pt1Y0iMmk9cxfvXoVNNTtWMSA/Y+ggbJWadyjUgW2XrLe8DsYozDeIxMYmsQAq6llrmwk1eFNMXQxeQQrAeAjovaQYVCGQ+cOS2ULRkoNoR0q0eFJYmAfTUUEQ2+ptotl/YrtSKMnU0611IvYv+wfBVhgKkVtQGwnqEJQbInFvxceO3arOOHBQgYpvkWawN41aMAA2wEMAbhAoSFo2RRJZTDh/r/87qfZrccigbIFythXNl9Ko1tTUqkHqpkfCDzQaIzMSe8Y+xxC85h6qZiwq94w9sW4oXrtDHooUJ8nc6JBP2ThYFwi4wjsNWgc4/1RHW0FXZnK672XKmOFzASwOfe7aG7cVdnc2qcKDhLA9erWBQPu1cbdVmrWqRw3OIDhB2NBZd2o/rhKcrB+b3FhQaKzZj6TLV4AXFPmitIrZXWYCfjr9cLM76V3F8bmKLBShi3E1HNqxlrZMWjTQmLH6hfnBSHwztqUbbSN5ocYw0/asU8G7FDz1gbM4GfgFZv+bVP+sbCDtAf17FGHZvkwSG3r1kUwng3c9wdeqmi4s6CfYGqsWvAMuORJN+B41Q91L6zpRwDQkCxBSWWH6fGehJoaggOQZQCc38j4Lp13bwzUQA4IGWa2qOYwspLgHUHTVN3XpvSXkc2z32jMETh+7LDhajE1G+x51RvmQjkvVd4GHxZ+8XWmEw2A7bL7X4qBamU7atCYzG/bFxrE5/dZ7w3eX4BNKMw6xL81EOgRFlRagPfdtgdzQkgk2fvE9xtm28gus0UJDRiHEfSljAHmTQDOIGkFdj36/Hd79I/yfeuBcd+Uqg8gxitkoisLOWPrrrJM+Os+gzN5Fs1WKcq8IUtZg1eaTYPxbb+/z40BNc2gUE1nz7MiJVel/ilg/k65ruJfQQkF/HveKx9kBuDIfkSWoi2cG3ZdeZkYtEFBBhLmPSBHQPaLQVurjT/y1FnRb0az47R+Sncwg0az7QAugZ1MvxSaMuJ4DRT88YcDgueJoXI59KSg6SPeSbBYtzuz4gmhoCOJQ5irQXbGMym35r+ogwAvtN8xPh997WOxbs2S0iBAytj0tqfeztZFvDadzyPID/NoGD/SRwXn0TFegT72t8q+4J4hOKxzKbBiV23fLkx22s37lNKe94Jv+l3Cc0NJI9Xz57OVGqdVkkXn5ur/MWHbXlngUd9HfpPypIHQN15ASZ8vnBeyKfg2qieI1b9HJqQt+n5jbMW7zyxgBMF+OWbdLHtIyT4MROkc09adCiBSKx/ANb6JnjGtkmxU5k3P4UkwqncA1rW47xbARR167xEgQqCIRedXfA6xjVItGL/xvTjg4grZTNd7GmxJyQl+9fU3GUDN90BJFMAdLrr7xZgRpibgmNt5QSHb79v+4Y74/dbAtq43NECtz6NKioHIBK8Ar3jkDGaCYDyc8oPe2bpbZbZQFwNY/Zqkp2z9KlkIgiCK/nb5/htXBfH3b2L5Fxkyqz8KgvLdF3u7Abi7d7fxY2t7oAG4t7YHG8d/Z3rAAu46mSzSvFY9VlwwgDCadSJ1e9qhm2YfEtUK08VVyvVcP3gAXpFuRfkATNTBLIE2M7Q+ybRRZlAqhUwBKUzKsfBUsBNpiABMLSBRxBzlDVe9RrDayRTFYgOTYbDysfB75JgxkYmu9eYZf3kGpDinpl4rEMZFBvZhxoJ9KFknASo1S8S+mFyQTads2avmvpIZ63hMOByr2Q/7j+gWTeqYxg72ESaeJ95QMRuiZiX+XQYU13ZiUYG0NzJ/UQdSLaFdjKLSQqonCnYpFq1eUed3aIPzueO+AIApcaDsYmxnaqA+l945FBQHeH32rEoghgWZG0ifVf1lGyzad0Q3t/3KTlAACzsjQMNMEWWU6IQ9NfH1GFUK5IBpx6wUAgmeUZNttJXn4DOn/e0xOyPg4pi7af02bZVsQE1RRVAAIIfqM5a9l3aMxCKObGhtx7l7NjOmdFGsTDzbL+qBgLEKgB7T2jExP2vm03GsUgNMlc/xWHE2lR3nVMAT4A1AYJhQKXMT+3G8yGNea6YE2fvKgNJrpHQZfkOgFsAEGX/eg83+oO6qNdK957l3w30vvFsloYJ6FIyFJMieAkLpYkhZUJRese1QVr6X2m33t/qZ+o2y3weA+SiaPTPrV5uHtVdepkV3AKSHxAQKgk0Tt+0VkEqMhaMt+Eb8dpdKQKCsSTfT9wFSYXxNFTWTLGJIow6VNkGQF4ysK+a8HINHKBhPEQRH0SwFMuF0Qa1t0gUivlWQl/MAdwtwNi9O24Y5k3wNWX0/OD9SxiIYzMiIUakDAlrx+UsYuFsAEZJKlBHDGIzgM1O6z9h9w3i5MIOlMbBq0WtfePJ32sfcF+/xo1PGZgbZRXMcBWf4Hmh7AJIjWDf/zY8CTUN5Lqbop+6fBkUBtp64Q58MWEId6A8yLzVoQrkFDTraZ9UDJRh4wr7I0iCYSu8a1mHNLbVuT+ZI50Z4N3BuBFJwTQBbURSE9oDU1DxFszwAFJK8oWCPzfT4yfCuLV5dgn8qp6EyMwCAwJxEseQSlSuYfuiIFnUzUKlBPs6JsLN6eDD7Ar/rfDEl4UZQHGPS0ydUzF4pM4RrwZyfQRoNBKqMVSorhFJrADXxvqKoOeWY9TtlsnMIrK+xwtJxH10DeQa42MeCg3hW8e3mPAzHIcCB4JpmOuFY9qdnRO2ZQiIQDJAR/8czgvGUEiEqhUl2rmqY68286J4XA8YnFI55+l3CGozjkJJxVJ4OTGOscbRo9o1+O1QuasLWPZszQHbpG6Cfj8I5gmY1t3gAE9lQSvyAzOY1D73aYu6k0lcplrj1IEHQSr/x/2+L7lnQB5lWfP8I6qK9qW+6eg1RagT763dCsybhL6OylerpgoCkLSobSdKKztdALgKZ6t7n363ylEE9SoSycpa6Vtdt2m48IzS4V338MusDJdYwc1iDWFjL/X32CzGjjT48vHZmReV9H+hLoqbKmuWMsRvvMIquG9W/Ls+U1frLwHCZYznW7Jj3UfbJer5wzosgIb7V1sjck8siGQyZ3xePH5IRrEBE233wmvE6iuTjFKO58oChYbF3X2gA7t5g0/it1T3QANxb3YWNCr4rPaCA+8pr94xMIhaVS/A0r3VQxjHKcMXfADcmNU3adBKti7SU2aGmmKJeGGRSNxb64pCUQdEFSwo80XsBFiSDAohcf/nNf7OJpe6n0W78rpMxmgF699jqNUJnGawsLYPWWiFc+bNh8SfPDNLWq4xubMNCGVrKtuikQrMINOVYj+GikyCXplDbumH4R01DvX+piYZqQGLxgwUY3dPByESh/ANkLJZrt0T8rQworkENLLLe+ejzoDIkMJkDeIGiuoCqL22BN71eXcggDVcNg7AfAB1qXO86cI1wyq79ssOzhUOCkcAdFRjFxPm0mypySbb0a9Krxe8aaCDD3DtGGXQImoC5iCwIFAQ68C6hWJ8DLhxSaf+zn32nhR6opqQi/ZysO2VXrz95egvQQdttg2CQOyEbBvshgAKDZd5j9Q1QY5+LfjqkRXeoAR02UgIpY+J1XTGaHIKFqCZU2LeMsZCmniLN+pv//rcqq4cNwrYOS1eecWUypdhINviFdxhBQKb664WqDIIGTjzWvzVrQz3K4EU2ETKbwGJUKRLsp9IzKb1NHRvIZNKFJNsN1tN8ySBSNhQChJ4ZpDU3tYwwMDTRbsvae+7tjzPvDBuIjXIuv5kZm6UBCuolaz8jXRlgTPumsaooxb1a27RLOGmnvlUMRK1bv48KjuJ+DO+xcovnWrMfENA8aptecR/PfFgX72VMurXdAOu7rrJMePatjwMY83+5o1ruScEnayhHY1JtPD1fIJ3w+NSt4ibVn+X4pIFG7FMUKNAxG9r4GP8PuLiSaaLFAimsV02E7TEKjpF1zzR/3VeNJFVeR4FF3V9ZtXjmUeiTgDkCJXE0KKeSTSkjNc8HRfuHbYAxH1lx+M1mCUB6S4uy2Zl9pmACgHAEXRB8sACh+i/QYFTr1ueWQZGUkbbew8zIMed7a3XFcd4UgcHKqXHMoVGrttkz8lUmLeqiVjuY5mCcsyij969GmkXl03Tupn4ekINDNg/NWdssXjGuLyPhxj5TEoxKDBy5da8MHLMZjARq8T2+89fVmSZgogL0s0Fgng/tUzNcJVqAzQ3jxbzsQAYFmOGE+jQwivH7jJsr8ygFc5XEoYFvvZceK5oGlthPAz6U2sDvXuadHT+sbAe+TzrmYbz66d/ud689j9VdBF6D2LND/9VayOWhfZCOxLsKPBzfYfgaaKn2OxoRundcLvpEETQFWeOEG56Ih+g7o/MhL7iRkuZU35Kjtu7lyiWpF0OelKVmglx94CbZZTFYpNep384yHkyeB4n6QeyxUZdMwkeZ3DqW0ZPJPifWawikChSV7dLs3RN37BPXvywMbHnBmXifbnk6W2ew/3TujXt66X0vBayvdI2KY/MMpFUaTecDmv2BeS69PXQf1F0UKNBvDD0ldE6H9RNM40FmgPTiv+Sel8mK8IzklczBTEG0VbPKdD2p0nr2vnrzTyWvHPP93ln2/uX7bRxlt1g0yKXjJbdrUPD6n1c8gPT7DxLfoZc/FH/Xsa9IZlEzuOcevWV45vF5DcDd3tjG34ukBxqA+yLpxkYl34UeUMB9g74bhpsk3deyzPuvuULVJWmUFBvuOWpUpqFor12BDk2ZTaW9qpko6gUIQF1urVsZayoPoKxP3V/TMJFauMLSbaOeny120qLAjBrF2eM0RU4N4HQ/lfJQg6yUMYoyEwBUQFd56EkVkEiLGpKpHqFqZer+Np1eASxbt6aeWzbh9huu3qItamBLNgV1+MAsRxABpofKKEIlZUBxmzYNYNADIi2gYIHoAzeveBbYogAk9GPJKvb2tcGXsoaHynTVxYs9hz4rasjrMeN4rDLRIVkCzWFqiXMfAAhYECmwyWBBKmVXZZWo66nPmbZdAzFkg6o0gu6rbBUs3iCnw1Rx2x+aHYJtZA716tw+wEjUFl1EaRCNiy+w2pHlAi1SmAORSYp6ypitWdktBHuQyQGpFxYNmuA3sO7Xn3xj+PTLr8PWG3QK5+w5sEW7NcCHjZTRIDisB6gsjUrheGMgAw3q7aASSuh/BEkBmmm6Nc5XHYCtLMJt0WeELFjPxNemnFeZQUpwQuu3iyfNXkCQBkxSBJPG9l41/GmvQdmhuBcAx1DsGKvMSs348MA+q3tO0DX17Ol5GSBTZrpem8oo6BioLDndX+vW1HUu/lPPh/2uQoPWFs2+UbDe+pOAQQXJG0o06Lf1tF37RXNiW8h0VpaiSplwf2Xf4jfVSoYRnpWFUE1XMLIAanljiPU1UO1mmq/bNltDRQTOCDzqvhqwUb1cT9oJx5FVqzIDDOLg+sBSRVFmWhkjOC94pd9sttkG1IrAWs1mom+JjjeYM+GbjmKzpBR8UW8cjod6r6g9Tl1rez9m/GJE9IBBUb3a2w7fosXzhh88/X8+h/YAaziYl9Wj8xkaO+o7sPl6q4RZ89+Op7BSARzLLLED+2rADc/yoCZzdG9MoowRr0O/d8hmO2hkS+N2Mjr1G6D3BxJqVz9QkVm0Ugmqy0wmOM+twJK+C5pxgTED3z2UB47eMkByiYXyW/a5tM8IPG5u/EWFXU+wDv9G0AxzJBQlCOkYb1nBPDdk9vDOquSR9jfmCc++/UnA9x0SMJw3lfGN0nr47CqDVjOdbMYbpX68zC+dYytrWKWqAEBCqkYDnLhm/Q5YABTb9Z7NPnJkWG35pYKuQxBcvOTel2L3aXBDwVevrxVApFQi6tD3DHKkJFSpXJL2dSrYiLrU6wAZGixKQuJv6lFQRFbAMZ65rfqAQPedWc0cI3Gc+lOkAHc7bx+/aSWDVYMzIPjArwvFjlVFhugabGfQCHMzEGIYJENg1vo74VxVa67te4e9hq6d9avny4KNGqjWsZA+SayAgLedb3K7rpXoVQA8AAE6zNshMXbnMwuiqanNLKYUXSqTA9+vTF6y/+rh9KZMMpWxyS7UjIdVXi2jegRgEV7RuTyfNw3I67ukWZ+oS+dGXrCQY7l6Eeh3Gll3Nz9R+Sbre6q+Ejq/YPu59mHWPHGiuXPnhgEDKplajdLogUXRAw3AfVH0YqOO70QPKOB+4r4/COM2aU5B1RRiz/lcJ0+4WCy+meZuL15TzTR6rGCBHgMmBRgVrHfx730vM8jS/ezEi6ZO6vat++sHDOz6Id1WDJv+9tYIMGlR8Bq/K1CSl9JoGdpMzdW6qQOM3zwWpO07ndDQVIWpclWTgYmjQsflKgCKLjI4SbH1MjpOgFV1ie2+ukguA4qfPP3JTCaFkwhN74OsBkxa7YLTyot4oLgyrSnD44E21BHltWgGhLKC7bVqWjie213PvTv5LquxH3aiXqxd4NgKlFmCoBPTd+1+qomIbWTequFpbt3b9w67DOzS4t3xJG+Y8ZB6vr00Y9XR1nYoA4kLEiszwP2VqXXpvkPCsHVWzgyX7LVZ0J7MNDUB1WNSciKciOu+NpWd4IJ6I9j2ENxqu/hi4akmlqqt2wvQkfVnJYlYvwJ2ZCLaTBfuC1NpGDCzNDN2Oobz9qk2tvMkGPR91utTKRL8rim0mvGix+i7Q7aOlfXB/pZBpZJBatSqdXvpwR4IpUxjHK+AvwawsC01lhEM1fPbhXKRrrgnAaVmp1q36tkrmK6At+7/GnShm5j5+nwp4MH9NfilLEWPMYVjNIMI4AfawKLfHU3BxvYy3gRen2laO89jzfx0PqAZUdxfGZkEtRQo53422+u305+MDEIUCwTzmMP/+XALU3KODXpP9LuuwQk1QtP9CaapdJPHwtQshzJGcNaQEedUwIRtsBrwGvz3pK6U3QkSBIM1lL3Qa7OL+DwzdBuEopSQ965ADoKgCM5XZoz2snoUPNR2W98Yfe4emrxlgMmvHVN0vNEMR63Xmo9SHgPzBADP9MnAMUpk0XfUG+vseGb9UDzDXu8boCxszRC0coQ0oEVACJkKGrDXPlVwyMuchCwMPJL0eGpVo08gn6ByJDovVNkIBZ21vzUDC3NsgIqQZ0qZhHrPCDPctF7riaQEG33/eYz99nEurJ450Ie/fl5FssJKGqkEF80gWbcCazf9YkTo0RSE0uAjJcFsgFv3saxa1F+VudckiQVfDLJlMQ+74+mK+blK6WjQxWZ1YF8dbzXgousFBMxvfOzNWLcCkClAWu8P/s05svqi4HeVzOIx+pziXvWY2NIIVutXPwA+vypPxQwOZMOp/42C+ZbYwfpTc1XVlsezjyw+FAX08bcnFaVtZ1DDrk3oy6CeYzZgqu+fnSerdAz6BIEvO45BegfzCvXRYNsYaLNyStyemqONOm1WDIJh/frk6x+1MPDF8VkG2+KLBQTUbeZk3tyQkoFshyX7KAHK4gXa7zarfo+N1qySokL7H331w4B3df5x1TJMOqfyvLU8CVMNnGNdwgx7/Za8tGBhGHHKrbGZno+Ize5tAO52lGn8vah6oAG4L6qebNTzre8BDqTbT7koXHPMnlXtVeajaiJyp1NufLLKrBIfW7pta0Wq54jfET3eYMqNURYlpa3GFGRMXJ49YZs4+fYWHFZjkkBWCtxTYIeSGpBvACuiiVAWm25BMmVyYXtKl9Wm1f9x1jORYaLFSnnADAwL9JSUh6ZSEmywfaGsH5yrjFmlFx33+hhpp9DMJKuwDCiuE1NOIrwFjL1mlZ9IgeIp6QLVSUQfWIAMz50aHFHX2L6kmjqPewWGnFe8RaMynlWD2B6v0gDIQDi8ScPY7qcsIGwjg9XKn6QmeAQ+7H2FoefxO1Q0o1mURWpZKNhHGSsE1DVgxHpgjIl2c3Jr2RL2GhUs48LRsml5DFNK+bemwtsFPPZRaSNoVG7TpwJMe+xJNXHDPmqK5MkgYB8yJdUcEUE2ZEmweN4M1BVOmSrq4pC6kR5wjXNYuS8ynTxjO441ygLXybfeGwv2KkuWLFR7L1NZURbgsovOIjPIKgOsAauH03eraFp745V9RpTFZM+bYmUDfBz/9zmZFFN8/sUgFH8zuGZNWtknKRNvLnC17x47dmxYZsk28SfV4U1laimwp2CezTpDfQoUegERew/zAqrMVonXv8U64fCxPbPD9ZuTChR4TFINoGbv9eh1wyGjm9m5p82YH86c+Uzc7BmUVTEPmzIkPDCO2VY8j+cNYfuDZr2ajUUQXveF/Njm63XMfqK0gc2M4A5q3DnzlxXzSgKxWq8GAsoYc/P50vR6/Wajbi/bSOW3PB8PS4IAAIFCnXNtszJT8buCg8pQxzbNHoRptoLElL7Afp7+u0rVpLxqVD4MnjMo3ncLv1u2rwao9Jr0/VMgxEqYsU+sdKIGL2zWhQbNVHdbPT1YrxpP4rcy8ycCSZpdpSxS1q3SLfytyihQCB5xPLj0gah1DJDngclbRnCNxY55nqmmGvlZ9vuDL72XSUrq3MX7JtrMRrSB6wKbOcP28RnWeZUCoNzPEnlUBsR+d3CMfR7g/4OiQVV9b6xEo457dx81MnTusFS2eyqIpRmD3Nmuh5QY5H3LlZHN98ojtaB+a+xNqSVvjkrZQhynGUUqRcc2Y+2HOR3lbpQwYwNNPEaDdJYwoIA999fMAPzmyUTp/fEIHhpE4L6rdWgXZh81Sg/Nxkkre8KdbKYhgkMoKQ8clTbCfkUEAGYD2aDRuAvuC7c2ZeKwLWoOit80682uyzxvBRzj+YZYnyR9N1XiSjtO5wf6rPK7rPtaGUVvXqD752U/2u8ajJmhia6F8+kUOx/7ehnhSjLCc/7f/4bgPTOade6B+j2PnhZxFA0kqpm4tlWD5BposAQVHGODsg3Aveq2N/5YhD3QANwXYWc2qvp29wAH0n1OvixcePjuVY3VSa7Vi8OOmhYF+QB8kLw0bg9wIisAbBqA18rwQd1kLmm6tQfY2sUb9Tq9CT0i0kjZfvPDitzDfbJgsIw16LsjEq1FP8CWCcX9NP0PLNAuKywdpSne+PCzrCoLxHIxYrWHeYAH7FigyWoaphzv9XqYDaBsZw/AWnnZakO5Mou63c69OxoYAny9/YhKqjcBhrwJUhkTnZR2JRmDrP/Pew0MY3p3qrqHNAPMMzVVkzwwTz25GlTqGf5qKq6XqsvGqCYigLyDLq2YlGnx2lgkY4HjFUTkBNVOTi1zFcepVqRnhquyH8ogs2COXQx5oLRep2Zw6EKbjDfd176XCgJ5QTA1ctSUSo/9ahe0ZdivO559Vwyo6XOu/YS2e4zcPOYajrn58Tcj4IuiYI0yz9gvFmiihIKVG8D+nl5mKrihUjU4towp9YV3PZ/p+Ctr20pa2O+JZlPZICrOnWL2crGnz4gnU+bpdOIYDcjQ5JV1YfG+xWmzouQQWMg3HTYi85rAPh4ooe3w9OyxXdmk+Nua0+I3MslHrLtKNC60RRfnauSlzzuOUYkE/K0SUBqA0vq9YA+3qxmoNZ5GoKDHxBti4Np6W/B4ZlX1Wb1DuO7g4fFnzebgfhYIUWDcM52j5qga+iqoxHr1m4/f1AzOgvE8hkCFvuOqgcr9FBzFbypbogEV2xcq4aU63djPe4f5DfO0evHM9pw8PUpr6CLc+ih4xpRYqK8zoXL/vECPR4JAG1XrGn8jQA99fp3TaT/be6sp91ZCSQFvT0ZNg8B2Lsh+ThmrerJAVlZI5xqqxa9sX2hwb9GzOdDifbeUgYx2aYabHWerJIzEcNcD3iCjBkkrFs0WUHNZblfiCKRjGLj0WOgeOM3vHeqzz5Cng87z2nHaAx11/mH1v/PIPySO8Fwqr8DfCCp6YDz2IVNUjY/xLiE4AYkNlvHDu4ZJ262f/a0sVy+TRb1YNJs3FfCx161ZhZaoo/OTuZNGh5WWXTK2S9nz2bi93irhwnHN3xFlontjAQkz6m3hAfleJiffKxBSHpo8Jgsk2+AIgw9oo37f2WbvXpFwkgKtlUlun3/PS+b+iaOjUTuLmrdinLKFazWVCfSCVV6wgXNw9OnjxzabVfMcGiBWc3Y8K5i3AZRl8SSGfnbx3DDt0TeC9T/hMQwA275Tog33tZJw+pxbgNYzHEY96mfBer1AL8eUVGBaJT41qK0yWKzfBi/VC05lUbl/XjYfMwa4rw0G43ey7FPPI/ZRghjn8l5YdSRWAAAgAElEQVS2RYokSIkk+0yp7I0llykxAm2wnkn4jcECS4jENivz0wDcWwwFjR8WUQ80APdF1JGNar79PcCB9Ix/TA+H7tFsmIqWF2l6HnnVI+Gy+1+OF/nciRUWugeq2kUB9lcmngeweGZVClKyZ615H1k20Ip84riKKVu27yvvhx+cVWErw4jx3L2atZMtkOUtvjX13Zpr8RweUxMTd+jEY8JqWRc4zmqp26eGQQQ1qlJgXPV/eaxObr1zahQcmurUIPUAd7vwqv7Qrxld1m3hxFhlB3564f2Zxiv390Dr3pOnx0UOtLzP+mFLvbiU8ZKClKhfJ/Q8XxkTHV3kY6G85Rm3uy+yB6QqWJ8KyqAynYyet/egAF+Ds26tMDhRwJrFAotpwvy9SJMQ++nCiM+GsoOwjwXL8Jsycr2AE9mGXjr5H255OuqColimpzUHtGmd+sxxHEE9HnvNAhcKxGlqM/vLY89jmzJ98bfHmNLJuj0vjoE0FtJhoSOpbHJdIGC/50/apkUqq6ZQe4xdlW+Bj8Cw7s3GmZCL+v6Zd0UtXNXh5TWTJQuT1fsmjs6eKWV/KTiQkjmxiy5dzHoMWJxIA04KQH742Zeh75QZWVsssKBjqwcE66JWGaUecGEldnBST7cYv6uhnn1usR3MLryrI3t1zOS6eBFFAZkUa98aWO67adcwcdtmEAf1M7CWYmTqOKOBJAUIUY8d+xXoS5l/p0wbUR9ZjmB7I5CK/2shcJWSdPN0ZrVNrMtmlPxt9gvhmH8/FjdbI0f8RrBPtVoBIoKxqKbl9l3UcThlqKgavQwSYGw6bcZTVWO2rVuNOT0CgMe8tgtxLxMpBZygH1QWRrMM7HvivSM4nuD0sHVWCpfuu3HVvWXg3wI6GizDASr5wQp0PNPnFdtVz9oytjFuAKiCHAgCYh3bV3sO6FjrzSNRf98pN4YPP/uqxZzPApOedFhqfFCGuiU76LwY57fyEvhNs4os4KkscutXoNmOqMcGWxWc8+ZPMCddb9L0eFtU8sP7Btg5Mo654K7nM31tKwdJkoV3/zXDAfV4shoalLHgct44beesHhO0KBMOetD4nlrJGRs88b4RHPOgU62gNq4zLxvUm2vbMUTBOpuBp+aIynb2AugWkFOGqxfIokGtZuCp7jPfa0iF4FuuRe+1Si6m2P481j7bnmwiiVEgaiGISbNg1uEZbHKbZgfhN4xjWD/qfJTZmBpc5fEaPIFu+O/26B83eVKcXvBFdfM901clxdgMISshauUy0Y5UQJTtp1GzBVh17s59PcIN2dS6XtRvr2Voq9wS691t0Brh5F36VT0vRcz8FGj+zzkvV2UGI9ALwg5lv3AS9RSycnLYnpfNZwlc3vF5BD9epLaT/eplW6TMbhnwt/2r77mdQzJwxDZQi1073pt/cDszUSjL1ADcqx7Zxh+LsAcagPsi7MxGVd/uHsgbSHWC4Rl6UjoBrLInj9s6Xigm9C+/+2mAtMbsZxcEbHvkmLGZrht7Q8F8j4kz8rRZ4bm3P4nmZ9AaZVHDVWtghH08Yxgeq0CHTfHVyT72t+l6+E11UFNGaDqJVmAAk72n3voorLPKslmKJNtVpEPqLfhPvXF+XOxbLWR92riIsBMk7KOTXzjIH7v9BvFQbxHgpdIRFN+2b+cAUFcLAPn1jp4eJ6LKotL0b+xv04ZZx7CTbgmvffBZSGn6pdiOAEEAoLzz8Rdh54GrhyXbLN7i5eMkyoKRuuO5tz0bwJ5AAZty81NntajHY5hgJ2Xypp4R7KdAATR6AXDc/vTbkZEKJg5YrxZcwHFkcnoBJTZSQSR9zmnIh/2sfi9+y9NpxHYyNr3Ufizgzpz5dFi6bZsAg0hdxOjC0L7rFoi1QRLNsvEWtMoWVp8I9oWy55UFBg1sgLAAcjztVRyvbGFP51TZ0QqaaEAqlbWiAUdlgrPdmkruAYzIYgDLEum9a6+8TNXzmelWtlkspmSz5GW9bP37O8ITr39YVY8XdOSiLQWo6vhrM3m4DYze6w4aXvWM6GL+5F36ht0Gdalqy73PLQi7//me+Jv1NbBSUp4GPAFsq5mv99hbZLZ48eUHNZH1zskxGofoAtsCF5YZjf0pOZTyU+A9RvALmR2Ub1BgCvVYTWCVfdl/s27hqK17tbhE1fe1HhUYYxGYg7TBmist3eJY71ulOzGrSheX6jfCfe04oOnp3nue0q9Ff0B3GmCaJ9mm3/Rjf9A77DOs2QyObSFbzH4HiwAkm21gr4kgio5rqs2P83vBJwKbML6eZYxCNVvA3nu+A2C7IRCnhpW8VtatwX1u47fTM6DTbEcaBOt9z5t7qVTFX/cZFEb1WjXvtavaNmv+W+HHF1RM7z3iAX5fd+K0GHTxQF71IfLYl5oRogEZ/abZcU4zX3B+jwWcp7XOQI0nVcWgR+o9we/MIrHZLdimTOL9R3QLR23T/P7buZ+XXaPfayvfQP8BL0hoA0meoaZmh6pvAdqt33k7d7GeKTZjAMfr/bLZJgqYWqBUiTipOWNecFSDiXY+yOAj7yWIF6PXr372FRA8zphV6ny6iKhw/A4bhD03Xqvq3UkBsNiJLHUdB7zAqALPrFyJGxpo1PUk9rXjIbIzfnDmnVGjHPNrmLVSToZ16/vqEblSJug8nt8f/O0xijMj6yXbhHnHVhPQFEC295JSNDyPHXvxuwbDlcHOY/jNx9820Lb9H+8KkDjKxmkHuE5loOKYPK8wT/rFygShDl6jnfuRZGflYpQ9znarmTJ/Y6DBk7DCPio1pXN4xQKwnxfULvJY0HHJsuMZpGM7H26SqtOXSMlE84/fuoWZO/bVABRZ9l5GkUeMw/EawFWpz5SPD46xDHcvcJ83XjO4sv2Gq4Xf79E/NAD3qqGz8cci7IEG4L4IO7NR1be7B/IG0jxDEVxVnlQE2J+n3zQ/uoaroR97Awv3TU++Nbzy3qct0t6xDyeDVhsNwPUef7knLvo9Ux7Vv7QsAtUXtmCSGpt4k0H8pim93sQB++iiBRPG1ZZv1lxMPQm6QFPTGe5P1pkugLBIQB8AQOqwdDXLkMflub+rbqpqTzJir231FqL8oHvbdCKg5msAA8AgQaopFk29V+vgdgnBE6tLz501lTBldJfqa7K0rS697q/amADDLr/vpfCHJv1g7qcyAHqsTqTsglT3U3kkC2rljRhqUOTprONYlTtQs2OwPTBBRNDn3wcNbxEE08W0FwQrysRItfv0GfOr+k8XWsrITL13Ly74JNz7/LsBbAvqXPNcmtXgMVQZFEQa7/zjqk2T8DyC+W8XuaxbWdcemJMHAmKBgwUB0v1Vy5Z1a8DFYxrXM46wbvUR0GckT4dTASDW4z1flKvxwD4c96Pz7gl3PbMgZmg8NrU6wwhj9x3PvBPHLE3jxnEA+wH6o1hZCfymQLJlGinbO6WJT6kOq1+qx1pWWdGXu0h3nsAZgs6PH7tVZgKIwAcyIxZ88kVIgbzKVlMdW7aJmsR4vgA8sGjqN36zTFHcg/WOnhYDTR5YgmNSZnxF/YHtRSbGnqSR9+xZMEaBT89PJmNrrb1iuOKAik43C+Yitz31VgCzj7IL3KbjjwcUYz8YLi784uvgBZf5rfJkjCyr3F5TytyP3ygEYTF+W9CJoJDHyFbQ0hrdY45z4V0vxCC4as1rXx38jwcjK9AjM1A6xpO5QR0weIOJ9lYbdGoR7FbzNzt3UjD1ygOGhkFrr1jmUYv76LzNC5wqo9tj8iJo8tML54RPvvgqMvrtWJ0CZDLJDceMT8cUtNEDanWesN+IbmGCAN/MUPKMwFUGx9NDxvmYSeiNhXkgjc4tUI/3nqUkabA/WZWeFjPuA6QR3lv4ZbxvXiAp5c1jxyQrHWQzFbzAaUoXH3Vr5pads2Hs2Pv8e6NOMp5NjwRBFrwHGKakv3BekDPOu/P5CPyO7d2pShqIL4COjZb05BGeeJwaeeI3L5OU8igeaYcAr87BPekUT45G+1NlQhSAVeme0i97CEH78+Sd+4bdBlcH5nUt5Y0HakrtyWZpdonNHsnLwrM+OB6DXcFfLwDC8dV7r22gzTtemepWzlKfI5uZgiD8sJNmZplgXrAV94gkuAFrLh+uPrBZbodkDRvA8DItvExRvWfeHEzlF58RLzHMZXDu+W9+FB8hmx2F3/L8QbBdg73WP0G/pZaowWdWfezU4FefaV3/UEfdy9715hCoR6W2tP/yTIRJiMPxIK6d/+PBLb7JeZkFkJYDxsB3pAG41zJKNfatpQcagHstvdXY9zvdA0UDKdlB3uKcbCgvXalMp2gKocoq6ELVS80Dg/SZtz8OPTou1yKirJqHVis0D0jAxwXMIHy8fzVm3XDQyGbDNl6L6mN6kgo2tdCTNPH6RdmsamyCfVX6hdHmMn0bP7S/mRknHB5DXdkqaroHFso/7n05nHFzRR4ExQtsEPDpt0aHcO1BFS1eFjUEtZNesKiXXGKxoOZP9nq4gEmBZzS8BCgArViauZbplyopD2P6xeN1ggTNX8gmQA8Yqe9YIKHYFF0ei/sF6YyPPv8q5BnpKKBaS9BAn5XUBE/T91V3Fm3EYmiZtm0y8E/7DBPYdSbeELUiPQ3mMnqF3j2w6eTKxrK6tGXfGZ5HGfAeqygvRbjoeSmS31BZgdsP38Jl/KbOoSCBlx6sz4eXbZPXdm+Cj/2LzI51UeZJSqCOwy5/KFz94KvxnQMgr2Agnn2AiJCDSjHgU+1W5rUX7FEQC+z4Pms0B+sA5hxx5SMxM+Ss/xvgBiCZIm+zM4pY6nn9rKxdu1jDcQw+eMwrAF8INkOKyEos4di8bwK257ETeSy8N+789cgW/iie3Jdep6a+2+9R0TtDM1EENBEo0JT/VADfS8m344AyFz2QJ6XRX9ReNajVbCweV+QpguAJgKRenZdz7yNZixbAxrvSbYI/1mIcfmHBJ2GtlZZxv22quWtBIWWAehJbRf2hTGDLcmSQOE+vNlU/+hmasZhDWW+SlOxXUVuxXZ+LCdv0DPuNWKfqMJWY8DR4i86hIJkCfAQ0vUw3BL36HntjBGlRvEw3fRc0wxD75wFvOr/1Mj1wPN9BSNkoQFXpr48DJIlQbH+h3QgSAyh7b+EXEWzx5lb0ELCgKT2OVEZQ+xds7UMveyh0Xr5dOG/vwWGpttUZiHk67fqttV4rdvzwJNxUkspmlOkc5LAt1w0/H1U998f7CLnMVNFAhf1Wq9a/lYYrevawHWsdBCnhq7DLwDVidhdL6puG7SohiHk0+sxmfPI567bKMoGmzazbe9cVvOR+qayS9SZNC59/VXn+2Sc6n7Js/TJ9Ya/LY+3qvMmTTaQ8CW7n5fsPDYNNcE/XB1bfXUkSHkOdbOcUGafI9DWV1Y3rVplL/O3JWarck2X/p9Z77HfNlths3VVioNcWBtNt1h3l+ux7b0FlLyMB59C5nZc9lZdZi+OxLvvsK8w5m3002HZ9f7w1jSf3wmPx3k/9z+PRb2PCtr3CgDVXaNEneR4L3DmV9UnyAfaDVx3mWpZQhG0q8ae+ZHnBZiV0pYgkXEdbiTiVF+M6twgnKvv+NvZr9IDtgQbg3ngm/md6oGggpT6hZ+DID63qF9fScTqJUNaKph6mWGep86ieqGV4qb6wxz7HIgiu5V1WbJkqj/NhAoGPZIodmDL2K+qTlNEgjvvk869C72NujFWkdJNT9VPr1ZO1UEM5m0qH+hQ098w/GWzxNBxbkyKOc+exTLCdLFsvZbqWvk5NRFSG5KHJzZqAeDZwbgCT1x60SZKhT8aHZZ+ybUUyKnnXoO/M9EM3DT07NRumPfbaB+GQyx6KutNkknnSMXn1wyTso8++Cltv0Cmcs2ezxwGOoclOXiDBq1slKrBdmdMqLVXr8426lFnkpalT4sILDBU9K0XjEE2q6gn84NwwmMRYAlYlFlAEXvPMxYrajO0a4NBxtSo9fYcNYiDNFgBikG8By9Tqc2NfZVFZQA/vB9KOUaxcQVG7cc39j7spvL/wy+At+FQv3QIuRXVjO1lS1tAxD8gpqle1p2lOrMdQ2iG1AM+rvyjAQB1mj7WLBdN1j7wW1l11OZc1ufM5s6NRqTd2o00qD+KZfea1WwMF9j7p82HZmmR7s24LuOPb3Gvy9BgMtEH4PNZt0T3EdpqSeYFpDQSpJnqZerFPCsDOA1yL6lZWnQWF8iSdiurFdgXsrTltXlZbmbpT0ht6PdbUtqhezVCwzE0cq0BTKpsk7xwpSRAa/aXY/qgTWRnvfvJlzCSxWtM6xtvnOY8pDlAc81iw5n+8SVe36SqDovMX7KwSSilGZVGfp5jR/afOiPMOz4SvqE5sVykSKxum5uge2Mh5i/cOo25lq14yfkjYRDxRqvrEyLaUaXeKgYpjdS5ZTwAMdVB6ymaTFmlfI4vi6gdfCUO6rhTWX615nshryiO2MCir57Q+QGDOQrPeZuCgfs0oYGAIMnh7NMnCeWzkMn2NfSiN6M3pijID8W28+7kFUU5LzYZ5btULt5kUeR4DOB7z+hsffSM+W6nM5jzTV661PS1vrAPHnHF7lIT6yz6DwrB1mj192PY8eTz1dfL8x0BcwbwAgZ3f7b5h2KH/6i1uh84LHjx6y7DCMm3jPp5MHA/mOOllQnMfNfDFb/bbz/mK5w1R5pnJ+77nBSnK1F2dYTvAzeZPZUPBkw4BeZDPQBbatMcq7inVVHziNr3CviO6xf3U084Gl5CZNe6C+0O/Lh3C5fsNdQOGKlWjEkYqlcc1WRFOVKavGvs0esDrgQbg3ngu/md6oGggTZnNoYOYau2Z25TpwFQ6v6YfH73d+gGMx7JFP0J2YpGncVe2furYeaAQpC82O6Wi9+2x8FLnyDP+0jpTMjaper9/5p1h3qsfRAmHG0R2APurmUzKbAz7pdg9nKx7GsN5DOsy/Zxi6PJYBhJsamOZuqukKX48OGzRsyUrYtI188LF97wUq7MSP2CIg1Glxjz2vNQk9EyZ4oTynU8yXfhDR/cIh45et0zT4z5q9mnZ65Qe0spqlclIZUVoar5nSpZ3AdYkEprTBHNVSiRl4phXd1FAiteT8gPIqxv3GaC4xy7DcQRGUummRTd16nWPh/PvqmRMaJ/ohNfLLimqVxeGmuWjUkxekK2oXmzXgKaVHNAUV10YlKkX+1AL1GOEkz0JOSr4hdSS1YK6dSGt74TK71gt5qJ260LIe3bzMoyK6tZ3xupav/LewjD8t7fGKmodP3AM09PhAwH2oWXYQ/P8qgdeiX0M81KPgZ9qvz57VrYtz4Qd35m9zr83yhGlvp0EfId2Wyn8Y79mQ0/NPBu3ydrhmO/3Lurequ2UT/DAU2UEH7l1z+iZUEtJAdgq7VEr8zoVUEO7iswhi9peLZM0NAxcq1nehUERLxhbVC+2j7vgvnDr/LcDMi/mTNoyO0S/t/OP38r1XknVr74UlimOY8povOe1PaUJnSfHUaYvsI8nr4Tf6WGTB1LlnSNPWkK9MKwpdtl2k/Cg7wsCCD0mTosG4l6mSJm68wwMVVbi2RO2aQEgYc1w46Nvht0HdwmdOlQb6+LcCvbaQIMy6z0wsqjtymJPgeJ45hEcq2Us5Xk5j7cSiwQiU9JCRe3mOI8gNAA3DfgjuIkMDZomoi4NEqYk5XhOnWeT+HTLE2+Gn/5tTtzFGsAWtVW38/vVdvHFwmNTx1YB/pQWq7dP8nx7WpMNx/ZTDgxtx5yPWR5l3h9kWy38/OukhGieJFPeuoFtw1wcZJuNuvqSXvptp/E12t3z6Okxm8HzCkOA4MGX3w8bd12pRUaL3lMGSry5NMfalB9S0bND0g32s9r4OlZ6MkBFdRdlweJ4SoStvOySAdnMtRZdD/xoyJrhhB37xCqKMiyxVgWZJzXmaGBWA/c6vyTmUIQT1XpNjf0bPcAeaADujWfhf6YHigbSFENUATgvta9MB6p2py7OVTczFW1P1Q9jGSygUazOnTKn7Ye3THuxT56USr3sITXatNerxoy1gmR5LPQ8BmWZvqC0BAAwgNL6UU8BfmXqxT5FbSOwnEp9zDuPMvd/u3OfsPvgNVvsTtACk+KnTmg2nSzbfgVSLcMMdagMyok79glgqZYt1SZu1YwKz/DW00zMO1fqfa8CiEb1CEi9LlusYZqyGPV99SRhis6hE/7v91stYMGspe+UG8OHn30VturdKZy7VzVjv6hubGeAzTOQo4yFx0gqU7ea89582IjQveNy8TBl1daa4YPj1ZyLCyP8TrYR/u2ZwJZps8rO2MCLGjb+Zqc+YY+Nyj/XOLeOz5ZZTbAvJTNV1PZUEJBptZ7mfFGdeXrIODZP+7uo7jxgTPs5ZfibV38q0MNjikzM8upWnVvL+tdxL9VusCjJnLPnoTyUDcgU3Yeivs4CpO2QaWKN8irMP5R6nukUK1LvYa3fAH2/bdC1SI6tqC9SnhgKbNcTBMR5FTR9WuSGqBsPrwME02opmnW4U//Vw+m7b1h1uAJNOhaWPYfKjWgGVUpWpWy92I/fJhvA6HPMjVGSrl4ii2bB0aSP7VLQ85wfDQhb9+lcS5PjvgSQVJteAe29h64Vpm6/Qc31pjSJVdap3jkZwKe+x86IGTJ2nqDsd08qpOhC9NqxrzJ04dUB6TBPNq6oXm6npAZICgBpWZhJWU8GFepQSU8llmim7vjhXcOk7dbPzok5y8wn3woYs5Bhmiq6bqG3Tl6WQdm+wH55sop5GdllzpE3v1YT9FozcXhuZVTrmre1QWPUn5dx1xrZLrZdA2KUo1K9/nqC3ayb3hQe2aK1mTPVflnDAoB7FgWdPVPUomcGMoZYB6BYLw4eS9JiPVJsrINZLprBo9+2eubz59/5fJTMQVH/Ky+rqwgnKuqnxvZGD6R6oAG4N56N/5keKBpIyWZR8xt0jsot2PTwsp2XAobyGN9FdSt72DLluLADs++J46oN/Yrq5fbd/3R3NHC05nvYXiTTkjqHMvonbdsrjN+0kjKGUmTMl9fuvc+/L5oMdWrfLtwzYVTVrq2N7GuqvNWtbI3pHhpZFLknkLVd387hrB8OKHvr4n5FEiRx4vT3OWHG428GzwSrzMn0+j3dwjzzpaL688A2D3C/7fDNoxZw2UKWsU3frJIjqTHtWgNR8T359RZhjRUqsk33v/Bu2PXcu+O/T9mlb9h1ULUJVpl2k0lsdccBxsD8J8VQL1P3tn+4Izz22oehZ6flwvRDR2SHgP3ePUfvvkzdOmFWfdfWAoiq+XjhuMGZQaIyfTyd2zJtxj7MMLHeHa1lkypQpCZvqtHrgWpl2p0yx2qND0ledkVrA9J5mR957PcyfaFMPS8glzKYLVM3TAY3PumWuKtdgOZpNJepmxq5YN4DsKWucpHhblHdmuVgv2UKHNUDUGommYJ5ygD19P/z2qzfDyvNwKBEvb46KU8MPWct2Xt6HVXSMRNGZQaURUa7RfePkgae70RrgSaVQaJkTWsljHg9DOaq34X6qOw2aI1w8i7Nmt1F/cDtSmSxknLUd8e+tWa/sf5DLnswXPvQa9F0HUAtCoFl/NszoyzTdg1uqI+SrhNQT60+Lzw3AWpIwAG4brdERUP+73e/ECZf+1j8dz19ot8nCxj2Onp6+PTLr1uA/GX6g/soMK5yfFucOiv6R9QL5qdkejRzy65HyrbbA38vvfelAINMFGvmXbZe7JcnA9Lz6GmRme+xrcucI08Xu7VyXTi/SrsogcpjFZdpr+6TJ5+lwLLKwdRyDs9cWI1w6/0uoA37XzQn3PjYmzHzVYNKOs+udzw8adoT4U+3PRcv1X5rleSBbD4r/VXUP+qx5hF+VAqv3vajDZynqqFtSiGgqM3crs/LUVv3DPs3Ze9pNigzfopworLnbOzX6AHbAw3AvfFM/M/0QNFAmloMtVY+IE5uH3ktHHTpg7GvdTGqmua1ToA14rz/Zt3CUVv3yu4lU5o9o6uyN5wpgdZoBMdf/8jr4f9d+kCsSoGuorp1UWd1YlUf8tZfbR51d8sWttVOYnC86vFZc7Qy9asevtV4z0tpLlO3gspWqgEmON0nTovVpIxL886hk0bPnBHHbn/WneHhVz4IHtuiTPuLmDytMdJSvcNfb9Uz4Hlh8QD3WvWum9P+q9MflflTK/Ckskhoq2qZKvvdM7kq099MubaguAKi9bJv2B9WOqlqnBnRLRy1TfM4U6bN2EflrzSzRfvriK3WCwdu3r1slXE/BcfO3bM5C6I18jraANV+VAkIfa4v/umQMLxHS53RvAtRQFblDqBF22/qjHjovpt2DRO3bWbcle0YXeiq0Vtr0pXz2LVF2tJF7VaDOmvkpwCRNZAtqhfbixidDDL1Xq19uP7nm5apMtsHfdJnSsUc03o96Pc+T8YsdULV8dcUaGWY1iOToZkmFghqzViN60gFodTEsdY5DowtQYRAUdATf9M3oJ57h+MV9FQJO5V9qbW9vJ+peR2/t1Yyo+yDxzkq9ldDbvytGtr1AE3qt0K2rwc8lW2r7kctag0UKNP1J5t0DZO/X/tYVyWbN25wlZkgfVgQkIFRZq3SXGi/BqgAAMOclZ4S2G4lsMr2jZJ4VI9fZZlQV72Au86lr/pZs1yS6o17fkVl2s9nUFn/RXJHZerFPjqfVl8FalN72Xdl6k55QWgWxNk/GhC2qSMLQjMXmcGjQJ5m9JVpq+6j3y8lKlSvDdYMyKKqteQRtpjV2wYB3xql1tgOlVVTgLq1XhN27NaAFbZxHguJkUeOGZNrApzqswguT5oevvj6m+hL8bs9+lcRZtRUutZ+ZzDd9m3eer7sOXSNYbPEsV7Hun3ptpDXq4+El+dlp8Erz9S77DVooJTyk63BBnDeVFaFriMvaJJdLcKJyl5HY79GD9geaADujWfiW9kDX3/9dTjllFPCeeedFxtNZ60AACAASURBVF5++eXQpUuXMH78+HD44YeHxRevsDVqLUUDqeq5gs3CCbpKc9T7ob3xsTfC/hfNjU3WSXqRhnfeNaYAWY1Ep8ziyvRdnqFnvYtobfPug7qE3+7SN2tKngFWUXvzpFHI9gfbp7Jo+l5RdVXb1Z1ddaKxk2pFP3D0ltGgqJYCzbq+U2ZEPdDtN1wt/H6PZpkQBd9SKXx551J2msfEwr1Y7+jpUae9HskanLso00GBhxt+vqlraJW6BjWussaUHuA+d9LosNKyS5bu/p//48GADBOb3l/NmqvW9i2qHEZv0KtlUdb/otD1/PEF94VZURu4OkigzNdadZLZVgWXsciiQZhq+yo7pKgvdPv8Nz4KY393e/xJJ+Op1PqydadSiynLorqsZevU/VImh2fPeiacPH1+3PXmwzbLTTn3zvv6B5+GoSfNjJuglQ3NbBQFAS34XLb9KUM+mu2N7b1q+NNeg8pWl+1H0KPP6h3CdQcPz35/6s2PoskZSj0sQQ/oY+UppnDZxitA7WWVUC9/424rhsv2G1q22mw/BsCsju4/7nspHHV1heH4rwOHhf5rNqd2lzlJyjBaAZi/7D0oAv21FGU12uerNcF/tCEls9Sae6hZBDiHApCtvXcKEqo0SB7RoGxfKyHhAgGCqbtcL1NXpR4ss1Xnr5oVUbbN+u2ilI6yUesdj3B+z9S+tf4MqDclm6ca3PXKAqF+K+kB4GbUabfFLq1X3x/HaiBDpUyU0WyD6mXvY+VdfDfsfE4lm27q9r3D3kPXrvxbvFTqIZ+gjl/98+EA/W/ooWOdBKasBk3r8drgtWnQT98bShLV++0685anw2k3PRVPo/rVeT4OZftbv3/04WqNQbmeV4Pn6iPT2rUBzqF1WDmdff8+J9z0+JthhaWXCA9Obpb2Kdsn2E/fQSUM5cmKlq1fpYDs2oCyKv26LB+wXqu3UM6TXgWaTVlrppa2wQbxmH2i8+x6PFRwjjzZSk8eq9a+Yda7ss9Zh/ZPPXMT1qOZWiTR6Dh8n2SMlW2/ZgDvOnCNcMqulWwqXUdy/ViEE5U9Z2O/Rg/YHmgA7o1n4lvZAwceeGA455xzwrhx48KwYcPC7NmzwwUXXBDw+x//+Me62lw0kKYWhqr1Wa8BToqJmfr4lr1AAkuq26ySAvUa6uD8KZYdtp08/clw9qxnYzNr1fhr1qnrGM7bZ3B2qYxsYyL/jGMWldcnykqzwGueNE6Zfs6TNdDUS02BLVMv9xl52qzw3NufhH5rdAjXHtQMZKU0VWupm9rbo3utGs7bpxpkW/Dx52Hg8TfH6hT0q6X+IokDXXjcdeTIyKQvW/JSLD3Afd6UMWG5dkuUrb5K11MB5rNmPh1OnVFZnN1++BZhzZUqkjBliy7uNEBTlA1Qpv6U1ATTVFHHmPVXDX/eu3ZAVYN/eq8UwK1XCkeDJ8rcVrbTcTXK9+BalQFLdpkCR/AMwO/1Fp38K1NNn79aDUjRFiwAuk24IersavqtAsT1Bnc9fw1d/KoZVS39QoYUtIXB9mfgMgXwl607T1pCvwlPn7BNzSxVZfFZJhzat+HUGeH9hV+2YKiXbTuDdvD3wHPANO3Wms6pod0/DxgaBq9dMXdjwA3/rnU8xTEYU/FN+ODTL4M1ZFX2az2mainTzZSeedk+5rtmF/l537aydfeePD188sXXVRrieRq7ZevVd+LkXfqG3Zrkw1qr0asAIdqiAYhUxlbZNuuYRFBiUbBRcX4vk6RKum2HDQKA8VqLzpEU6G2tNwjboZJ50Ih/9f2F4ScXVswwrZF2LW1XrXYdjxGkQ7AOpVZPGj2/SrUdMqpH+EWTD42C5WoeWkvbvbl/a7/jPL/Wo8HbdSdOi2zjHfuvHs4w3gVl2p5inPOdQR2ajVimTu6jzyCZ3Mf/5/Fw3p0Vk/hHpowJ7WuYl+q5NaCkcy8NcGh2Ti3txne3x6Rp8ZtgCTmUWltzxaXD7UdsUUu1VftyvNMMsLyslLInUuLWHoO7hN/s3Ezc8uSrytar+1nfAM22UxnAWuvWdbWuVTWztlYPM7Yhz6x9p7PvCg+89H5oDSagRuXzj2uWusP5lYXemrFLpTfpJaNZ6tbzqGz/k3CigVIGVZSYWIQTlT1fY79GD9geaADujWfiW9cD8+bNC/369QsHH3xw+P3vf5+175BDDglnnnlmePjhh0OfPrWDKEUDaeqDmufmXrbzUqlerTWtJHOo7xodwr+bwFoCuGxbvWmpOkm1H9BUNkCZ/hh12qzw7NufBGusQsOkeswClfllmUHUfxy01grhyp8NK9PEqn10AmBBMAJCIM0jxbtW9jxOtOd594Y7n3knrNahXZh9VLP+vKboTfn++uHHm3Stue2UkbAyIahIAZJ6UwCL/A2gYwk9S5R6AhJMC1eddSwUAFbaUqs5cCo7QYNg9YCpKbCstQa7uF7VaNRAFyVUsI+V3yn70Kh+rDJUWqujjfNriq5mcijjNmXsm9d+Zc5P3m798JPhXYOanR48snv45Zj1ynZBi/28bAeV78EB9Y6vnj/DFXNeDkdc+UhsRz3Gh/a9nrhNr7DviG5B2aQKwNTSMQoiMNUXx2v21nl7Dwqja2Rdo46U4S9ZWfVKo2mgwd4rDTjWq5evAUX1kEhlRpTt7xmPvRH2MxlxAMkxHqLADA2a1fWU1MJb2a+1Bi/RjtR71wwEtw1zJm1Zc5MZMLfgD0E4pvzXXHEIgSx5ZZxvd+Yd4dFXPwy9OrcPyFCqp3h6v/huwQsDPhv1an/rc2Gf5x+cdWd45JUPWnhw1NJ+6nCTPZ8nUVBLvexTHEPTytZ6BqCuFFNc+7/e7yHq/+ecl8PhTePxFfsPDY+99kE49rqK+V49ElfaZwwk8blWsBn71ctAx7EpiZfWevagbiUkMDDXWs8K9gvavf4x02MgmiCteoTUG0BXDWgC1yrhgfPXk6GK41Qmkx5fmh1c67xUnxENnh+/wwZhz6aglM57yKqv5X3kvjREHtmzYzj/x83kp9ZIrWk7KEEypOuK4fL9Kxlkqm9fT/YX61fSA+dgKn1Xb3CG9dt1mRJSZh85MqxWA3lI+0Rlo3TOoPOreqXMdD1m575jzrgtPPXmx6E1zH8NFliiHTNksRbGuonM/VqfS29d+usrHwmXz3k5VmWl1MrWP+ykW8JrH3wWmLGA4xhw37Zv5wD5xTgOPPBAGDhwYJg7d24YMKA237SybWns97/ZAw3A/X/zvn+rr3rixInhxBNPDM8991zo2rUZZHz++edDt27dwoQJE8IJJ5xQ8zUUDaQKHCiTPZXeXUsDFLQ9ddd+YZeBa8TDx//t/nDzE29FKRJM+GotP7nw/jDzybeqDFg4WWJd9QJCutiwzuDUcfRMSouugWZn0LB75sRtst0zE8tVlomam7UU1X7EcXrNBLa26dMpnP2jgbVUG/fVxZvVmfYmfbWe4KBLHwj/eeT1YA1udUFKQ5da6yaggOPIysCk9O2PPw8vLliYmXgqC6+Wc+QxTVAPNWvrTU3lAhF1MZUQMjzrT76xRTNrfc5TE9+fXTw3THv0jeB5F5TpGzVCVn3v1rJecW6VN1KA+v9d8kC4ft7rsXnWDLFMm7FPyix2US2QPEaqMrrP2L1f2LF/ZVwsW9QYmOwygCLb/uHOWEW9gSqeX4MN1HhUFtHm660SLhy3UdnmVu3Hxe6onh3DX5sWu5odUU92BU7gaaK3xgiYjVYZHbIB8f5P/vdjWVCtXuZXygyY5rcbrN4+/Ofg+sBPjtHLtWsT5k0Zm90D/a7vM3StcOz2G9R8H6+4/+VwxFWVAMmVBwwNg5qY6HlybGVO4kkl8TuB41tjSsY5w8rLVgPgGkSHqVqtwWMdl5U932PiDeHLr/9bN4DNb4Dev9Ya9fIeQB8eWTIo9I1prVQN6lLN2B8PWztM+UHvoNJJKU+VomdDpUKwL795CjzXK1eD+shIZR2Lgo2Kepk1gH8TOLRg9kZdK1kctRQ18fy/jZq1rL0sn1rq5b4qAwc/l3uffzdcOPuFuFmDjvXUbeeOlPFgXa0x+0Yd602aFj7/qtpUMxW8qqX9yvqf8YsRYd1Vlwut9X/Q8//fn+8Jdz+3IOrl3/nrkeGpNz4K4y68P+5ivarKtlvlsvjeaOYyfqvHSBLHaQCeXgSUsbRz+rLt5X6eXA226fdB15O11p8yhV8UYyDawkDb+p3bhxuagpc6j6jVq0uvT98fsp4XhZcRz2GlSCf869Es+0T9fGrtc5Vjvf7nw0Pv1TrEKihlVq/0KerQQBu/O2zf0JNuCa8bwLnWtisp0ZpUMyvCEsdqPYdH4uLcpzX685Qaon9K9bejSzhpp0qWRBFOVOv1NPZv9AB7oAG4N56Fb10PjB07NrLY33jjjRZtW3XVVUP//v3D9OnTa2530UCqDBNlDbRGZ52N9KQPsI3gM4ydbju89tS9Kf9+rHkBMHlM6LD0EtmHG/XXy1zGsTohPXfPgWGrDTplfZ5Fy40MSpmbosCBGiONPeP2MP/Nj+qKwKeYXzoBsxOQMm3lhBrpaGCmqTSL6uVhv1oBX54/JSukkxtrcFe27TopHbz2CuGfBwwLh1z2YLj2odcCDKjATEJpjeZeKk0eYFzPo6dHffoBay4frj6wdj1F7QOyPpSZqv1Qa/97daO+LPCz8jJh5q9qC/zg+FTgrjVaxrxONSbUZ45M4FXbLxnunTC67ONRtZ8amKr8RmsldngSj2GizDg1+Cx7AR6jR+usN1DF82vQi2Pg7GffCT/8y71xl3qMK1n38N/ODK+892lQI0GVxqonIwR1K3OPxtRqWluvYa+yBPkuMisJ54UUGFiZS7dtU/b2ZfsxSLzuqsuGGb/YLPs9xcCr5QRkz9vFmhqI1mNsijaofJuy+xlIrzfQqEGjY3/QO+wzbO0qvVE1oaulL7CvpoWDbUxgnfey3jYru5BjkzKkrWRa2XbrHGf6oZuGnp3aVz3j9cqh4fz8duHfNGSkzFC90lyoC32BoPCnX34dyJ5bFP4MGvzX8V/nqHgPnztp27LdW7XfbufeHe574d3A4MaiCrbqe0IJCP2u1OODwYYTWNbMKdWJrleeAfXrmgDB21uefCvc8fQ7rdK2Zrt1bgZJOwSWbp1fmY/pva3rRoYQ6LmhjE4rk1FP3Rff82KYdM2j8VAGWM+/8/kw9T8V5j/f0XrqxjFqOA0N5xmPvxmufuDVWF298ikqDce+VXkmLwO0bPu9oE9r5Z147pSpvPpdXTJ+SNike22m7ayf73t81o8dG2A0irIo5LpQz97n3xfXGNq/au5cb1YB6qacG/5N4Foz+ep9Vtg3+t1BxhcM0hfFu6kZsMiaYaCRgHWXFZcKdxwxsuzjV7Wf+nbtNGD1cPpuG2bb+xxzY/jo86+q5NNqPYmusy2BgYC+laqr9Rye/wbfp3ozHdEGziXxb0j5YF065MRbYvPUuLoIJ6r1ehr7N3qAPdAA3BvPwreuByAX07Zt25jSYwtSfL788ssA2Zm88vrrrwf8p+WJJ54Ie+65ZzJVSBlIaqKmOt31SEygDSoPwgU0fueku14Gn050meKqIEi97Y0fJTFeopYa+5NSH542eNEDpQwZzSQgy3GT7iuFS8ZvXFRNi4lG16OaZUbIQEhpWdZUeQiBjP62bRYL85uMV5WhhfpqBXzZhtNveiqAoY9y91EjQ+cOFZ3zE65/PPzljooOZK2GoKx713Nnh/tfeC/+SakdT//8qp/VZg6q/UeWjJUIUsM7a8pUtv9V5uT/s3clYFdNXfjVJEqhlKI5Jc1FszFUfhkyK0OKyBCR/69ENJlFNBCZ55lSJKGkUZmSRkSjKSEV/uc95+7vrnu+c+890+279/vWfp7/+fXdvdde+937nLP32mu9y1BsyE21kdOwajlMvsqfB+wrn6zFNc8tsUQ8c3EbtK1TwfrvPJqBWvuCG2K/ReZrILczuadZJD+rCav3K3vFxq1WAjpTjJed8VwLenFHeTKJluRZD0s1YXQ19Ebm4od/l7z2MhrAKy7ynW0SpMp5fbp3a7QLeBilDtJQbTh731jyA+j9xPLYRa2shMNBirm0bFZtb/BCjcV4OZbfo6TlQRmkuHk5ySSOj/Y8DEfVr+RbtHzf0Zu7RfV9EqidJK2ZX+EmQoPvV36zmLBc8hw7eVr9yE8WjpwskZ4f2TJCQ16+mMge5wWCV9nO/B1nHlYt73BIGUESh5m+pSFB8qEab+8wHK/m20Kj75e3dMbJ98+2LtFZJC2YVxxYTyag7dm+Jm7q2hBukS1+ZJq6/Z9bjJc/sY15ZUoVt4xOdQbZtC+MQqT3aNBiLtSMASIKPnRJK0S9zJ5D5vAIcxkjv1E0Ak/8cLWVy4cljDcq25tIB0b0MJ+M3K+F8RY3xkHJEy0vvR++4FB0bOAvubCZc3mhy8tLrkXmfJBG7KDrQ+7DmI+BzyUTVZoSdD9p2pvoIJnkOlkkkZ8xvLRwLa59wd43mcjXsEkNZf+ffPszTh37kfUn5l9hdNaz8206Cemg40dnGc1onhv5t6AUHkaHeje8BeaOMTQmxpBds8KemBnAkcrIlXtoSQVnjJulSxazHCy4XwhSJOWj2V/Li9OgVGtGlwSHsJuOt/Q0eYj4jQiSl8XIlpGkZh8m37EyWXAQbGTUNGmIDLWUfO8GkesWNUk5bs9rEPkmMfdBlcrinf6280KqPDl++pD7Eq497tV4YZ8sQa4f2bKuMzrHOCaGeZ7MhQb7YUQ3I3O452EZJnKIqME96Kxpu3QIqME9HUL6+y5HoE6dOqAnOxOlOgsTqG7cuBErVqxIqdfQoUNx8803u9ZJxc1ljEI8+H91S2cUK7ZbnkewNLb6BcUtoZg0jPCWO4hxT3qhj+3eAic0roIojG8cn6ROkDyYYRPwOb2GDDd5WM8yt2Q0MiRTJmHyO3/So2RJLJJAen8FpQSiHpNmr87jBZUhhobahJ6ZNIz4DfGnbLlBosce10jdwW/lG/671x6JOvuV9QuLVT9ZmHIUNBbSo8J4kMpnicZKemSSu/vwg/wZPt2eHemZeGKTKrg/xuvnBxhppJWbc2MUcXqG+JEtvanYjonc6u+/Vx51jzN/gR/ZkhtfGjivfvYTvLr4BziTZfqRzbrGu04aAKTnWZBES9Ioyz54kfHQh6twx7Rllnom5N2vrqa+G+WNDAkOc1A/+YHZYJSMCXFln2ENtZThNo/SaBmUN1V6Hj7Rq5XlacwEZaZIHky/eEsPXcMLvGrTVhxzl325dFXHg9A/lvjPr+xkF0Yyh0PQC82v1m9B59EfWirJqDgTzRHk8piypGGVl19NDtw775InTLJGypa885KL1ugsIy78Yi2fZz4b9IQ1lC1PX9wa7er498SkIavBjVOt5H5H198Pk3q2sri0DW2UdGDwq6/8lvDCiN6ixpPR0EP4lWnqdx0zC599/6v1T9KDkAbi3Il2ZMzos5rhlOYH+BbN75M0VLsZ3MPQHThzD5B2acL7qyw9w3ijsr2kh3r4gsMSLpDCGJfdHDWiyLtEnbnmaEzl/3duuD+mfmFH3Z7ftgZuCUBBJSfc+azQwEdvblPCYEIZhppFJhs2Xq4cy/jz/NMrUq6kGTKGTmm4DepMYMYtL9MYaUfeaRpXw1BtyITQ7IfYyu9CmMSmlCcvT0hNc9L9s/Hlui0I4ggi14hMNm8ieeS34axDq+G20+MJQ/2+UOau+hFnPfix1czkp5Lnu6BUa0YPealhKPKM81KYaEzKl7Q65rJbUkAFiZiU+EnHMEZHGyops378Ym3qy/OBicCUe7awl3mSzs4kVo+Czszob/bx/LfZN8lz9v+6HAyu1TDFJL6lMwvfMcapKwz/vFzrVx1T14qk7/WYnQCbkTSdG1Wxv3PK4R5m6rRtCgTU4K7LI+sQKCgPdwIhuSbnDuqIyuVK48JJ8zBz2SZU2mt3zBscjK7BzSNLHvacSWu8ToqkNTHcmCY8P6jXvOlbbvb6HFEbA09oYP1kkqPwv2kEoTHET0nmnWY8oIJ6Vbhxcksv/SBJGc243Pi35YYsqDGB8qWXrwwPNfyHQb0kje7G047GH25Cm93yTr7p+mTIcdinTCk/05hX13in0kPwi1s65/2d3lr02GWRkQx+OpGbamOkkIZ8mUjKj1zWlRsw/puHMMm9a7wp/cqV4fNGLv/fUNWE8dKgHMlHaqiG3Lyl/erN+sazRCYiDJOvQepw6tjZ+OTbXyA9b5Il4vSjuzzs0gtz0MufWRyw5E/lQbpk8WJ+xCXUle8Pk+dAGodlRIrfToxBRIYQu9EA+JXL+gcPeQvbdvyDrk2rgoc6SZ8S9HJNHmYfPK8l9i9f2jIsmGISxgXRV3IAT+p5GI6uXwmjp3+N0dPtyB8npZmfPpJRwkURuSY9EHmI6398fZBKiwZi8pYHTejJA/hBMUMfE2weVLkseEHAEoZ+g+3lBe+Uqw7HIVXLWZc0NCwyzDpMsjlJwUTqIkbgGYN7GAOi2dOYC8V5q3+y6PhYwtA6sb3xfKNh8olercEk6yxhPMXZ3iTds97ZPQ/DH9v/Rt+nFlmyzRr3s45NXfM+pofhV8O6WH+O4qKOcuSehpe5XCvGuzgox7XR29Ce8d+jujW2Ir5Y+h5VB9d3PjgIFFYbt2+f/EaaNR60A+NNTG5iJt2LYm1Qhtz3MRJr3PsrLbqaqOTL/Dd02Ph9+060GmFTKASlV2TbGV9twEWPGkOVTTWZl/fGkScjCOYy0u6SI2pbl2uzV/yIA/beAzQgBikbt2xDqxh9BNvzovH2qV9F4khAeXUHTbHenSykZxw++UsrR1JQRyozRrdotYXf/IzTxtnOaGG9uNf9+ifajpphyTL7XRkVLKk2guDupG3kBUTzYe9YUSIy0jGIbHl+NkZemZcljDME9ZHUSTw7cQ2yhIlqZPtF3/6MbrEIDhM5Lr3ez2h5IO4IEVklz13GyUxGxob9rslvBOmj6lXay0rmTroaFmm8DjKvbOOMmjYXhZ0aVsaE8w4NJNaZfJmJfPs9u9iSJaNr1eAeCF5t5AEBNbh7AEmr7FoECorD3fmRfe3y9tYtqAm1loYiv4jIjY0JDZQ33UE9npy8y70Pr23xZrNIWhy/+rI+vXrqDp6Cf/+NJ2lzhjQHMWJLjmHjtSE/hue1qWGFePktbpzckvPaRAD4lcv6zy/4Dte/mJgcL5mnoF/573+9CTyMskjvRePxL5Mq+pXN+sazjBy6Y85pgSPueC9BDJNTrRhxgkXjEKRIDnrJmS0TfAb1qpXRECbsj4cNHjpYgiTaNGOUNE/8G70QyZFrvGqdCXK9YiONTmxjDE3m4B7Gg5Ty3Gh2DA1OWP5Es+bMxpaGuNaj3sWm3/4K7a1lDFvV990TH1xv56swialkeKpXnE09aXAnNdKFj8y3Nv/GG9avPFl/6botlmc+C/NhMIKow23x5yeMN2mvR+dbnMAmeSW99fnu5nuXRta7zgxOZ2G8Ps16oHFh7MyV1jgW3HAsKpbd3TcskheZof4VypZCnyfitG+SlsmvcJnk0HiKm1wfjKxgIuASAS9OkiUrNklC+dpbOfKEQBFE0iBivAHlmglzuDXviw51K1p0YBNn2fRiYeg3nO8PM2cyL4a8XPc7j3LsfM/R6MQkvmENT4YL2HhFuhn9/Opq6svkePS87vGw7YUeZG8jdZD7ETolVClfOs/I/HLfdhYlU5BiaHAkXVmrEdOx8be/8njog8h1+7Ywsu/Ttb8mcDAHlX3dC0tAz3MW7jm4r2QxUVpB5ZrLBrbn80YDPr12eSnDIqM4gvRxwr0fWt7Kstx9ZlN0a+Evwbezb0k9x4SsfD+biAjS+YS5KGZf5hvA/6aBnREc/Z+3qWDM5XEQPGQOE3NuiSqqlvrwwtJEYZ7bujoWffMzvlr/m6X/61d0CKKy1cYki+Z/lyi2W56BnM/lnIEdA8tlQydlDaMYf9u2E2EMhJTrxg8vE3WHcfShfEbMcD/Dd7TxHpaUfEHPpQbMhGS6F7cGk6cah5+gNJNGtryYMbLkWYS863uVDka1wz5klAyjK5iAmNG0jPQJEm1s9F6+4Tccd88H1j+NQVzm7gn7bpERCiZSVZ6Dg+bwMfo7aSDppHTpk/F94Fv9DrcSpIcp3cbOxqJvf0Ht/cpYl+B8l1nPcPtauLHrIYFFMxebeS6ZrJZ0riwyElYN7oHh1YZpEFCDuy6RrENg0KBBGDVqFFatWoVatWrl6bd69WrUrl0b/H3EiBG+9fbyIk3wOomFQNPjiYa4MDfy8kBrPHrkBz2osUIawPmRO7ZBJYyZYdPt8KD+ZO/WvnGSDUzCOROCKmk4WM+ZqdxLZ9K43qNNdQw/pXEkSdDcDJGSbzloYjyOSXotP3LhoTjm4Mq4/sUleH7BWuvwuGxYF5ByKEhxo16RIYBhwzoNjzs5dLnZOnHMrAQ1wySMoqBxM1fm8bzy38bALD1Ig3rQr9n8O46KeRwaWiNpYJUUPH6xl+uQbd8fcBTosWpCbMnbeMah1fyKTTgksTGNeTw41R/yVsLllW/BsQaSj9t42xge27CXM8bIZxIIysNBmOSEVN0tUshwM0ojvF9cpMcNOZdp2LH6a1cTQ09q6FdcQn2ZdJk/SFoBudaDdCKTR5M2xORroKywXp8mmqJWxTIW97I80AW9JJDcutSRSQSHvmEnymtVc18816dN4IOoxJlGFhr0pefxrP8G82ykbm5J/vj3KBLb0WBRf8hUi7/XJG2U3/WgfPnUz0SEkFO9VsWymL50A8LQi5k1KiMVTOSAvHyU1Dh+13WyhNZhDU8m0beh9SPFhPFOC5M0kOOT1BJyvGH2C5Tj3OfsV7Y07pluH/D5ralRoYxfeK36MicBL4kZSRHVt0VeFvMZJFUIi8wzV7Jz+wAAIABJREFUEUhpwOLilhExlEPDJ5NDB71Mowy3nDRSx7DGa5NXQ8oMa+ikLOmpzMudB95biW9/+iO0o4zR88g73rMuvEzhZYShWgsa5URZbh66x939PpZv3BrJOmEfMhEuPYs3b/0r9AW6pCiTcym5/4OubSe1nZET1HlI6pEX+RtLgilzO80ffCyYSDJMMQm+99q9hBURSN71x+Z8Y4kMejnv9q2hIZmXJsfebRubJU1pEP2tb+8NU7H973/yIsm6T/zY8kQ3TgxB5Jo28uxo/nZojX3w4mXtwoiFjCDg5fZJzarm0aNRMN/pYQz6lHHo8OnWM2P28XIPFOayl7JlInSeN+g0IkuYvHFGjtybMfLCvLe4v2dulaDFRHvTGaDM7iWsnBmMhOXljPkGebETBe1f2xVtBNTgXrTnPytHv2TJEjRv3hxXXnkl7r333jwd+/XrhzFjxmDx4sVo0sQ/b52XF6kbZ3Q8YzuTPR0WCDNpQDW38dIrYsa1R6J2AA5tyf3mVExyNwZSml7yI9/F+i3b8j7ckgKC4YFM1Eqee7/FJBkyIfeSa5y8jVcc44+mhv3LuTOe4lFwF1O2pDYxXtXGqydMqCtly7Ebip4Fa37C6ePtkPkwHLVsLzO833t2M5z7kO3BZ0pYzyHpqUWZxuBuDmFh8OGmkZtHFkNZYQ4g/FvYzankUaU8elBu2PKX1V+Y0FFpxGEiPhqijrzDpioIQsMk58tJ7XFk/f2sgwfLOa2qW+H6Qcsxd83Eqk2/WwbU5y9tmxDZEYYGgfpc+sRCiwO3XGke7DpZKpoET2EuM0lZYZIf8XLKHBYHdjkYfUJySVLHVAadMDQZJrGa21yFfeaNMd9EDrjxPvtdI/Lyi21pGGceC5awB3PKMJc9DPV9rk/bSHg7KdfpZWd4xE+6f5blvRsm7wHlG+/io+rvh0d7toKksDEcqn6xZv2+Ty3ElM/WWwfCP3f8bYloWWMf65I7THGjWTOUEJQro5T89uPkGDftw4bJy8tbRju88sn3GPzK55Z4E4noV1dT33lhbP4exZqW1E57liyO5xZ8F/qCfvArn+Gp2HNHY/K6X7blRa1dc2w99DvW/97JjFlGmpDmcEbMmGLokoJibNpJL3f+LSxdXrr3M38P845me8lZbsZh6CbD4CEpMfjOmxvzyA/Dry71kZ7o/DtzpxgPepOHKIj+Morlpq6HoGf7Wjh0+DvYvHU7wl74G32kA8HMrzdZDgthkxjzUpTnDmcJ60hg5Mkk3OZvYfd6lNPopmkW1WGXRvtbeQNM3hQmIF18Yzhva8of9dbSvDwNPI/Rk/utz+3vztJhcYrIIGtl/pqfcEbsHONsHzaCiPLMnoGUL6QFMZffUTibSWoWo3uYPDVGhjNKnJHHS9bauT6ieF9RhonKYUTBlH6HW3R0pBVkmTe4IyrtVTrIdFptJF+7U0hQ6lCnHJM3Sv6dUSPzBh2LPUoVD6y7OZPyzMvLSM6F8+zhxU4UWAFtWKQRUIN7kZ7+7B38pZdeigkTJqBnz55o3749Zs+ejUmTJqFPnz4YP358IMW9vEjl7S29gbs2qWKFN4YN83dLRCMPkTTKld29RKBxJTMIRWFwN0lkzUfJ8IfSg4DeFUFv4lsOewc//r7d8sjnJYZMgmY28X7BcB4wuBklFczIKYb79gjUrbSXX7FWfbckbSbJXFgaDzfe8CfmrMGQ176w+mYyXYbkBy1XPfOJlXSKG+jRZzdLoIGgTG7kx/UIlkCL7Z2JPGkE52bGeKabKIYg+rs9N2btBM17IPWQlzRO/cKERt45bRnuf8+ONOEGl4YMk6AnbJjurOWb82gPOKdM2MuQYJawBzzDlWySfd38xheYNHuNJTtoYkmDa17y1RLFrOSmNM41vGmaxW0c5iDDsZuQU4ZFM68FS9jQWaO3oXBwro+Tmla1+ghanMYnKcckCA4qW3rBMQrEJJikvKAGKHlpTDlcI1/8sAXM3cDvV9BvgRmj4bzmhczcQcei3a3v4uc/duR9I4JiIZ9x8uvSo5HFUC6EpXiS3p3PXtIG7W6dYUVskaJrWQjvXTfP67BJ8jhuaegzl1JyD8GEuH4TUMu5Md8b+bcwvPCUI+nbeInx5pIfMCrGaR/GW5eyZUSC1DnocyJltB453brApachnSNmrdhsXepyfQct9EA1CfzoTcjIE5OMNSyfveS65nP9+3b7ouf1K9pbiXvDFkknSFl0ADi5mf/ksVIPk+vGTbcwlE5Snkl4zr9FcUlAOU5ecdNfFM+4kVVr4OQ86h7zN/rHkEIwiKOM9f0QUYek3bv0iDp5+SbCGsWNjoffPgPf/fSnhTWTprKEoboycs2eXc5t2OSaRpYzAox/p/MDnSDCFPlu7nNk7TzjuLngDSObbSVdppQVxflRJhV36sm8Be3q+k+iLeWYS3Mmnh/0nwZ51Jzk/h8UyzkWFB9J+WpkGAqYoDLZznlekrLC5ImTcsw53dAlGQeMMImHjXyZ2032KSnOwuDDtpIayMgKe86mHEM/RppCRkawGIpf048XO1HY8Wn7oomAGtyL5rxn/ah37tyJ22+/HRMnTsTatWtx4IEHonfv3rj++utRokQww7SXF6kzXLJTw/2tJC8svTrUAsOtgxQetphIjd4D9B4d26NFnuduWE+CZAb3sEYbjtNpgDMhWWE8UinXhLsannkZyhx0Ayy9s9gHb9u/+P5X3Bej2AnjlbT25z/yuJvPaVXNSkhILzuWsAckGh7pecPQ8BObVMH957ZISLjGMM9yIbgIGRZuPFG5foe9adNAmGJ4/oKsa9NmyKufg5ztLDSmkpppQIzz3lDwBJEvsenW4gDceXpT1B40xRIVxeFOcsQ79aMn5Z6lgr1rnAl8X1r0Pe57104AGTbpYSqvoTDcrNTNJPLkxp8HLvIosuy9J72pjg8yhXltZLLlVSNPsJK4NR76tvV70AS1bMtwboagx3KW5fVnEsqGUhqwkj4aD3op6+OBHa3EoUELefGNt5pTRlDaFyNHJg9zPvNBDYnJvJej8Lqm3pJrXdIfhH0/Se55c9kludf/07gKHujeIug0wlB2UQAvYXi5yRLWMPfQB6swYsrSBL3CvEuNoIRErx0Psi7pDIUD64Rde5RBL/oeE+dZnvm8eHjh0raBOcspTybB5AXStM/X533X5w3qiErlgj+HMoeKwcgkGw68KGINTUJPXgT+9ucOrNr8O5pX3xuv9G0fWLS8TCOf/7Qv1ufll+GFT5vaFQLLpjGIEWTOd2kYj2inMiZKksbDgV0aBNbVNFy2/jec/MAsa08mC59FPu9BDctSlrykCusAYeRKZwLZVxSGZSNP5jqQfQT9BlCGfH/w7MLE4YaXOwpDJ/swz43UOQpjJ6NJefYw65s0nJOvDBal61y4bh70UZzBkp3vPhhwNKpX2DP08yOpjaQwE+UYpgNJnyLl0DhLb+V9ypQKIz6Pl59OJ7/8sT1vXpkToUvjKqFkOymwqPOH1x8Tas9nFHK7+OFvw09phB5taoTSm43NpbehYOP+lV705ESfce1RoeRzH0ingnWxBNJGWNjk1FKpu95elkeNa/4eRSSKoSmUfTnzgHmxE4UCUBsXWQTU4F5kp77oDdzLi5Sb906jbY65G088xPJIMmG1Yb1HTXIuN+TDbIBptKHxRhYayMibHdbrUPJ/MzSNlwZMdhU2RNwY8hsdUA5vXnm4ZRA2fKFBeOE5dvLsk2/flGEnN8Tt05ZZSVJYvri5k8XbFqQ4vTuljFtObojz29YMIjavjaEl4B9IJ3HT67Z3exReJqOmLMWED1Yl1S8KLzMmV3sw1geNAI99tCYvIU0Yvloq3fyWty1PV3qm0rjH8EiWKA53yTiHw4ZGT5q9GjfH+K3pKT96+teY9oXNwfz50E6hjADOZK9yYhlW2+Gg4F5Dlz+9COSIdxaGL3NewxTpmUkj2bUvLMGHyzdbIv/X5WBwQx20yARxlEFDAC+qwiaeoywZgWL046VS0JwNcozOhHx8Z53dqnpovSUNAg/O89bYCQTDXsjI5KtmHIZzPejcmXbJ3rFh6SwY8XDyA7OtbsyBtuuYWXn0CmH1lxQfEoOwBkUnhyzX25c3B08ea3STIe3MHUBPwCZD37YSDYd97znXwMpNW1Fst93AXAJhisytQ9oDGmpM5E2Yi1HqJCNkjI5h86YYOTKXAo1PdLgwl+pB8ZDPIKnz6AFsLnNn/fdoHLhPOCOc8co3+kXx7pdjpcFm09a/sF/Z3UPvT6Xcj1f9iLMf/Nj6U91KZa2L7Wwv9Qa/ledpaXTlN+C8kPtJI4tGSGMMN38LGxkocxPQ0MnLtI53vW+JD/sdNzq64RKFR7SRTwcovu+4tqMsG7ZsQ+uR7+aJfOeaI3BQ5WBRtUaIm8E9LA2aHPPG37ah1Yi4zua3sGc8yvlt2448pwrZ5/GHVMaD5x8aGnqZz0IKi+LS2BmBEtQRzG2QyTAPYweQ/ci9NqMPSUvEEtX33Rn1GXZf6cTIzdkgCoo3Q68q+3Pm4/BiJwq9cFVAkURADe5FctqL5qC9vEglnzapNshlZ0pQqhPTXtLVyBkIaziUdCdGbhTJeijLJDpkYp6XLm2XxxUa9vLB8J/XrLCnldRPcgx/9L9jUHXvPXwvUqfHKDelX63/LU9OGL7vVFz5TPpVumRwXjkq2P/5xXh5ke0xL4tJxOcbDNHAjVtSyqO3cVgvMBnyT8/f+2Ysz/OqD4uPCS+mZ+AnMY9r6m9yIYTBJpnXblhP0ufmf4v/vmQnnOMFEiMAvly3JTRfNOX9+scONL3F9gyXhaHiNIrvFSIaQm7UpewovEskV6hTd6eXid85NZ75pt3hB1XEE73CJYyWOjgPvVEdjIxBjn0xgeCKkSf4HbprfRmpJSvQG7FKef/vViPDLfw8bCIrqV+dQVOskGtZbu3W2LqECFpWbNxq8cGzDDrhYNB7ue2oGXniTG6IoPLlnkHKCHsps+7XPxP0JAfzG1d2CKpmXjvpiUm6rwHHH5z3PrmofS3c2DVYFF9oxVIIkJfp9EptVLUcXli4FnznMSl1WMcC840xKoTlQjdyej06P19SubAXMTIBMvshBdOWmFPBihFdQiUgpbzOoz9I2DdFbXDP5DrhZfTkz37AiU2qgusk24vZX0s9wybrdY6ZUXxMuDx6+nLQS5cOLvX3D2cEPm3cR1bSVxZ6ng+fbEfiMDFmtxbBkxoa3d2MzFEYUXfFemAEKSPMDqpUFnS2CJMQmPrKy0ajf5T7m2RnmzCUikbPZLKj2LuzD0m9afqMah9F3blvYFTSsFMagWfqKMvMZRtx4aT5eSIZOT2qm//cdG468QL27nfsBN0y1875bWtYeQDCFqf3f5iztZsujBKkl74pUVGDuTk9OvPnebEThcVP2xdNBNTgXjTnvUiO2suLVCZpdIIU1tOOH/Aj73zP4iaUJSxlCGXJLOT891WxUPGwEy0NwTQccqPNMuLURujeOvgGpPdj8zF9qZ3d/MHzWuKSJxbmqcpEYEE8U2lIOOTGqdjpjIeOSQ5rJHM7BISl1jGD/mP7TvR+bAE+WvljwpSFzShPYUyWY7zCneshKv1lH7xAYdg4s9fvw0iLkFQkXe79EEzU5SxhkppKWUysywMSDXOmvHllBzQ6oHzgx0duGMmTbPiGj21QGRMvCO/Z44xq4WGAhsQwXP8c7MuL1qL/80sSxt33qDq4+th6oT265aWME9iw3mvXv7gEzy9Ymyc27LvaqZ8MAY7yYCQPXY/2PAxH1a8UeM3Jhk5jrfkt7MHI6XVNuWEpPaTe905fjnum2wdFU8K+A50UKryI7fvUojz51x5XD1d2DJ5okoKueW5xHsUY/x1F1BDlyAuIqC7RKbfuoCnWd7Jb8wOspIdd759l4RHWqSCSxZtESOObplleqeRfPfrg/ayIISZS+yyWgDlM386DeFSh/W75H8JGxDnfdWbc+5crjY8HdQwDg9WWUYK84DAlTH6N0MoUcgH0opWRXoyAo8PJ3nuGo9pwg43Ru7vtRqqrcMZ2ypY5amRfYfO8GFnOvfb4Hi3QuVE4ipBdtZR2/v2P9fww0iRMgkejrxv1EOkV7z6zWWRDkngzpwkjFaLI2UAF3c5NUdEyOaOa2V/YiCcJKiNgl2/catHAhnVKcpsszi2dz3YvURwPnt8ysuee9J508nGW209rgjMPqxbJujH8+WEvkN2UIeUfzziMLuU7cdGQ40I7tbEftwhe53rxYieKBEAVUuQQUIN7kZvyojtgLy9Sye3qRCqKTYLzYE7vLHKchi0ynJayotqgyqSJpPMwXi1ju7fACSE48i5+fAGYBd6thDGMv7RwrXWAiVqu28aRhxeGjAZNxOrUkQnFSHVgEmDSi+Wxnq1Cb/Qk56uzz6gO06SQMTQ45PJjQsioPLrdePdIGcKNUljPRomHPBgwITCjOoKWuat+xFmx8HYpo3vr6hhxauOgYvPaMVScRrKt23ZaibmiOowyBLjFsHesfAKmRPWOkrz2TgDCUiHcP2M57nw7bqj9bGg4T3+nfh98vQk9H50PGrU+uP7oSN7Zpo+vN/xm5WgIwwfv1NctMVcUCdyceTJIc0JP7qiK88Kbn8avhoWj75GUQPTwqrbPngnc6NOuPiK0x+fUz9fj0ifjl8ZRRA0RU9I78ZDIEsXFvJmnpje/DVLLOItMKhvVnEYlR1KpMMfExt/+Qu2KZTDjunCctNTv8TlrcGMsSTn/PannYTg6gssvt4ihsNFTA15YYnn3OwupdkafHTyJs5H31NxvMPiVuLHmlb7t0Lz6PlFNo8pxQYBUJKRV7NigUmSGzkwCPW/1TzhzwpyELqrtu4fFcR1Fkc96lNzQUehWEDKcRuuojZzyYjfM+csNG6k7k0dfd3y9SNe4SQjKvsMm0C6Iuc1En07vedNHlFEi3Ksx4pjn1LAR3skw4IUEE71Gdc6Tkcfs0y16y4udKBNzpjILPwJqcC/8c6wjjCHg5UVKigkmZSRPuSzt61YA+ZHDvvidmeyj2tzQe/6SJxZYXuP0cn2qd+tAXuLOxZIsg/0zF7dB2zrBk3MxVE96FJt+owjlPnHMh/j8+0SP6IcvOBQdG1QO9SzIjeNdZzRFl8b7B06qmUwRGjwZAUEvzKg8KqTRxtlvVN66z8//Dte/9Kkl/qXL2uKiRxdYBp0oPLr7PrUQUz6LUzuxj6gMIhIPOb9hPYGTUdXwsHHFMeG8aaXO7CfsO8m5JiTnP8PyGVocRXn7i/UJkSxGZtiklZSzYM1POH28bQDg+4+Xo1EXXnKQrieKC9KodXOTN/HDVXmh/lF6Nsnn5LbTGuOsw4LTvbjpLT1so8hhwT4OHf4ONm/dbnVXfd898e1Pf1j/HTa/hNGfXo0MD2fOl7AGVScmmXjGO941Eys3xb2YTZ9R0Ahkam07w8zZz1H198OjPVuF7tLpKRmU1s6piDOqhzQTb17VwfJoDFp4mf2ii8E9qotRruVn5n+HMqWKR0IPEnSc2i67EXAagaNKNMxRc+/4woLvrATAYSINsxtB79qd+9DHCdGvTITeq0Mt7wLS1OS5lA4RjFo++uBoouxMlybHCb/lH15/dOT71chAKESC1v78Bzrc9l7CiC5sVxNDT2pYiEbpfyg04E94fxV2L1nMcp45st5++RL3erET+e9ZWygCgBrcdRUUGQS8vkidG8lm1fa2eJijMrQY+dwwceOUzUXyvUo9p159OA7ePzhHppMnlLLpUTx3YMfQhmYnb2oUmdmpn1wXTERTNmAC1l093/R2HTF5KR6ZvTpf11FtwiTVBOkU+j272OorCvnSe96sE9JYRG1onvHVBot6hzzGYTijDchuFz9Lbjwe5feMNlFX1OuJuRCYOI/MTFFxslJHGnLqDn4rQd0ovSff+mwdFn/3Cy7qUAuVy5WOGpaclMfkXKTgiJKiwHDK1qtcFm9fE31iQibPprcnC6Oq+O0NWxreOBW/b/87QczR9ffDpAiMtWF1K4j2r37yPa5+zn5HyxI230Ymx+KWvDgstZ3Ud9zMlbht6lcYeWpji/c2ivLIrNW45c0v80RF4WBx7fNL8NKiuIc7PQzH9WiZM/uRKHBVGQWPgPPSLspvecGPLrs0cHJmR5k3JdMj5XubVIVta1cInUA207oWFvl0wGs0dBr+EHueKJKOFhZ8Uo3Dq52oKGChY4wWATW4R4unSstiBLy+SJ0G9y9u7oQyERpXacSmd3eDKntFbjTMBPySb93ID8vb+/7Xm3DBI/MS1L3vnOY4qWnV0EMY+PJnIC+3KUy2+Urf9qHlkid/yGuf4+zDoktuE1opHwLcPAR7tq+Jm7qG93qY/uUG9H58QT5tBp/QABcfUduHlvmr7vj7HxwkDLVvXNEBjQ8Mzq8eShkfjc8Y/xHmr7ETi7Fka0JCtyFxw04vs33KRMsle8njC/B2jEqK3k7V9t3TB6JaNVsQyITXtRnb6OlfWwn+WHjZ/erl4d/dMuzc9DO06yG4sH10XoLZMjde9CCFReuR7yZUjSonhpf+g9Y5c/wczFvzk9V83zKlQOqvqBwhguqUqh1p80ifx3JGywNxxxlNQ3cj8+ow6e3wU8JTlIVWSgUUOQSmfbEefUTupbBRgUUOQJ8DlrkbMhHh6VMdrZ7lCMhL9bAUmVk+1EjV82onirRTFVYkEFCDe5GYZh0kEfD6IpUG9xcvbYtDa+5bpAG85Y0vE7yjK5fbHR8PDO9hTK+NiR+uBg3B/ToehGuOqxcJztJgQ4FRckCS8oW0ErlcJNVEVEan2Ss2o/vEuflgier5ofF34MufolbFMrju+Po5cVHlNLiHzXuQy2vO6L5q01bQg/nwg/bD5UfXLQxD0jFEjAAvo0k5xjL6rGY4pfkBoXugp3+rEYkG5iU3HW9xeBbFwgsTJqP+av1v4KXrVcccFPnlWiZw/fKHLbj/veXo1vxAHHtIOIq4TOjnlMmoHvKhk8LorjObouree4TuViZiZU6CW05uFFqmClAEgiBgLn8GdKqv3/MgAPpo8+sfO3DxEwusb9b4Hi2z+qLRx7C0qiKQVQh4tRNlldKqTE4goAb3nJgmVTIKBLy+SKXBvSgfyg3mzkQjb17ZIat5FZ2881ElsItiDWaDDEZY9Hv2E2zZtgMPnndoJNEbTKZ72riPEobXorpNxRQ19Us2YOhFB+mNWaLYblg2vIsekrwAp3WKPAKkd2IuCyYZLlG8WCR4SCqOG088xKIeKsqF7/9Vm35HkwPKh6ZxK8o47uqxX/3sJ3h18Q9Wtxe0rYGb1eC+q6dA+xMI/LWTiQ2D5yRQMBUBRUARyBYEvNqJskVf1SN3EFCDe+7MlWoaEgGvL9IokyeGVDkrmi/57hec/MBsS5e6lcpiev/oeXujHKg0/jLx1xe3dI5SvMpyQWDlpq3oeJftlcoyvkcLdG5UpUhjddmTC/HW53ay15u6HoKeRZS+okgvAh181iDw49a/rEit+vuXi4S6LGsGpooUKQQkZV6fI2tjYJcGRWr8OlhFQBFQBBQBRSATCHi1E2Wib5VZuBFQg3vhnl8dnUDA64v0mDtnYtXm362WUSS5yvVJIJ/zRY/Nx7L1v1ke0dnOn80w7jMnzMGib39BlEnVcn0eM6n/H9t34pAbp+V1oc8NsGbz7+g0+gMrgmDmgKNQLsepiDK5flS2IqAIKAKKQHoESI90zJ3vW9FSM687KieogNKPSmsoAoqAIqAIKAIFi4BXO1HBaqm95yICanDPxVlTnQMh4PVFSm/dxz5aY3HHtqi+T6C+tFHBIrBtx9/46fftkXCmFuxIcqf3Y+6aaVEUXNiuJoaeFD4Ra+6MPLmm5N0sWWI37FmqRGEYjo5BEVAEFAFFoIAR2PrXThTbDfpdKeB50O4VAUVAEVAECg8CXu1EhWfEOpJdhYAa3HcV0tpPgSOgL9ICnwJVoBAjsHrz75i76kf8p0mVnE8sW4inSYemCCgCioAioAgoAoqAIqAIKAKKgCIQQ0DtRLoUMoWAGtwzhazKzToE9EWadVOiCikCioAioAgoAoqAIqAIKAKKgCKgCCgCioAiUCAIqJ2oQGAvEp2qwb1ITLMOkgjMnj0bHTp0wJNPPokGDTTRlK4KRUARUAQUAUVAEVAEFAFFQBFQBBQBRUARUASKKgJLly5Fjx49MGvWLLRv376owqDjzgACanDPAKgqMjsReOqpp6wXqRZFQBFQBBQBRUARUAQUAUVAEVAEFAFFQBFQBBQBRYAI0DGze/fuCoYiEBkCanCPDEoVlO0IbN68GdOmTUPNmjWxxx57ZLu6hUo/c2ucS9EFO3fuROvWrTF37lyUKKFJL50LMhfntFA9VBkaTJB51WclQ5MRkdggcxpR1ypGIBDlc6JzWviWls5pfE6jfFYKeqXovBb0DETffzbNaWF6VqKfKe8Ss2lOvWutNdMhYOb10UcfxYUXXpjyTP/nn39izZo16NSpEypWrJhOtP6uCHhGQA3unqHSioqAIhAUgVzkRduxYwdKlSqF7du3o2TJkkGHXmjb5eKcFtrJiHBgQeZVn5UIJyADooLMaQbUKPIio3xOdE4L33LSOY3PaZTPSkGvFJ3Xgp6B6PvPpjktTM9K9DPlXWI2zal3rbVmOgTMvH788cdo06aNnunTAaa/ZwQBNbhnBFYVqggoAhKBXNzI/P333xg2bBiGDBmC4sWL64Q6EMjFOdVJTI9AkHnVZyU9rgVZI8icFqS+hbXvKJ8TndPCt0p0TuNzGuWzUtArRee1oGcg+v6zaU4L07MS/Ux5l5hNc+pda62ZDgEzr/PmzcPkyZP1TJ8OMP09IwiowT0jsKpQRUARyHWDu85gagR0c1o4V4jOa+GbV51TndPCh0DhG5E+p4VvTjkxNusmAAAgAElEQVQindfCN686pzqnhQ+BwjkifVYL57zm2qjU4J5rM6b6KgI5iIB+8HJw0tKorHNa+OZUjQM6p4UTgcI3Kn3/6pwWPgQK54j0WS1886pzqnNa+BAonCPSZ7VwzmuujUoN7rk2Y6qvIpCDCKxbtw4TJkxAnz59UKVKlRwcgarsREDntHCuCZ3XwjevOqc6p4UPgcI3In1OC9+cckQ6r4VvXnVOdU4LHwKFc0T6rBbOec21UanBPddmTPVVBBQBRUARUAQUAUVAEVAEFAFFQBFQBBQBRUARUAQUAUVAEchKBNTgnpXTokopAoqAIqAIKAKKgCKgCCgCioAioAgoAoqAIqAIKAKKgCKgCOQaAmpwz7UZU30VAUVAEVAEFAFFQBFQBBQBRUARUAQUAUVAEVAEFAFFQBFQBLISATW4Z+W0qFKKgCKgCCgCioAioAgoAoqAIqAIKAKKgCKgCCgCioAioAgoArmGgBrcc23GVF9FQBFQBBQBRUARUAQUAUVAEVAEFAFFQBFQBBQBRUARUAQUgaxEQA3uWTktqpQioAgoAoqAIqAIKAKKgCKgCCgCioAioAgoAoqAIqAIKAKKQK4hoAb3XJsx1VcRUAQUAUVAEVAEFAFFQBFQBBQBRUARUAQUAUVAEVAEFAFFICsRUIN7Vk6LKqUIKAKKgCKgCCgCioAioAgoAoqAIqAIKAKKgCKgCCgCioAikGsIqME912ZM9VUEFAFFQBFQBBQBRUARUAQUAUVAEVAEFAFFQBFQBBQBRUARyEoE1OCeldOiSikCioAioAgoAoqAIqAIKAKKgCKgCCgCioAioAgoAoqAIqAI5BoCanDPtRlTfRUBRUARUAQUAUVAEVAEFAFFQBFQBBQBRUARUAQUAUVAEVAEshIBNbhn5bSoUplAYPPmzZg2bRpq1qyJPfbYIxNdqExFQBFQBBQBRUARUAQUAUVAEVAEFAFFQBFQBBSBHEDgzz//xJo1a9CpUydUrFgxBzRWFXMFATW458pMqZ6hEXjqqafQo0eP0HJUgCKgCCgCioAioAgoAoqAIqAIKAKKgCKgCCgCikDhQODJJ59E9+7dC8dgdBRZgYAa3LNiGlSJXYHA7Nmz0aFDB/BF2qBBg13RpfahCCgCioAioAgoAoqAIqAIKAKKgCKgCCgCioAikIUILF261HLMnDVrFtq3b5+FGqpKuYqAGtxzdeZUb98ILFq0CC1btsTChQvRokUL3+21gSKgCOQAAv/+C/B/xYrlgLKqoiKgCCgCioAioAhkDAHuB35eA5SrCpTYPWPdqGBFQBFQBBSB3EVA7US5O3fZrrka3LN9hlS/yBDQF2lkUKogRSA7Edi5HXikE/DHZqDXdGCvytmpp2qlCHhBYNPXwPu3AY1PB+p38dJC6ygCioAioAhIBBY/Dbx6GVCtDdBrmmKjCCgCioAioAjkQ0DtRLooMoWAGtwzhazKzToE9EWadVOiCikC0SKw5DnglUtsmY1OA05/JFr5Kk0RcENgxXTgi1eADv2BCnWiw2hMS+DHFba8ob9GJ1cl5Udg51/Aa1cA//4DnDIOKFFKUVIE4ghs+BJYNRNodg6wxz6KTC4hMLR8XNshm4HiJXNJe9VVEVAEFAFFYBcgoHaiXQByEe1CDe5FdOKL4rD1RVoUZ13HXKQQmP8wMLm/PeTKjYDLZhep4etgCwgBY9CpUBe4cmF0SkhD0Q2b1AgcHbL5Jc0YDnxwh/33s54EGnTNZG8qO9cQMM9ig5OAs57INe2Ltr7yPTp4A1CydNHGQ0evCCgCioAikA8BtRPposgUAmpwzxSyKjfrENAXadZNiSqkCESLwJJngVf62DL3qQn0WxKt/ExI++MnoFgJoHS5TEhXmQaBL18DVn8AHHF99FRD0qATpSe6lNt/qc1BrCUzCEw4AlgXe190vhVoc1lm+lGpuYlApp7x3EQjt7SWczfoB6BUmdzSX7VVBBSBooXAP/8A/+xUJ4tdPOtqJ9rFgBeh7tTgXoQmu6gPVV+kRX0F6PgLPQKfvgC83NseZplKwIDl2T3kNbOAR/9j69j0XODUcdmtr9SOieh22y039N3+OzAyZqxu2A04Y1J0ejNvwPD94vIyZXC/fB6wX/3o9FZJiQg8dAzwfSw6ofNtQJtLFSFFwEbg753AsAqZecYV48wjIA3u//sWKC0oZjLfu/agCCgCioB3BHZsA8Z3AP78GejzAVD+AO9ttWYoBNROFAo+bZwCATW46/IoMgh4eZH++++/+PXXX7Flyxbs3LkT//CWuYiXYsWKoUSJEihXrhzKly+P3XLFyFbE5y3w8L+eBvzxI9DkbKBYscBiCqThoseB16+0uy5ZBhj8Q4Go4bnTW6sD2wQ3d5TGWs9KBKg4dwLw3kig0wigeQ+AXvqlymavN87m5cD9h2bGYMZD0W01MyNbGor6zgUqHRxgsrSJJwQe6Qx8O8euevxwoF3sPeKpsVYq1AjICzsONFfe04V6UnwMTr5Hr18N7Lmvj8ZaVRFQBBSBXYjAgkeAN6+xO1QKs10IPODFTrRLFdLOCg0CanAvNFOpA0mHQLoX6Y4dO7B27Vps27bNElW8eHHQ2FzUCy8d/v77bwuG0qVLo1q1apYBXkshRGDjV8DY1vbATnsYaHx6bg1y7oPAWwPiOme7YUQaAqh1tutrkJV6V20O/LAY2Ls6cMV8oMTu2bdmvp0LPHJ8TK/dgKG/RKfjr98D9xySmTUncb5sDlBZ9BPdCFQSEXisq005xNLxRuDwaxUXRcBGgBeKt9fKzDOuGGceAfkeHbASKFMx831qD4qAIqAIBEFg1mhg+k12yxrtgZ5TgkjRNgEQSGcnCiBSmygCFgJqcNeFUGQQSPci3bhxI3788UfLk7tSpUooWbJkkcEm3UB5GUF86PlfoUIFCx8thRCBj8YAb99gD6xaG6DXtNwapNyoUvNsN2A7De4n3gMcelH2Y+7U22h8xmNAw1PC67/jT6BE6egoa1bOAJ441dYr6siHTV8DDxwWH3OUa07ifOlsYP9G4bFVCe4IPNENWPmu/dtRA4Gj/qdIKQI2Alt+AO5ukJlnXDHOPALyPXrtMmCv/TPfp/YA/PM3wOgQzU+jq0ER8I5AYTC485J65q12VGYunGlis5POTuR9ErWmIpCIgBrcdUUUGQTSvUhXrVoFGpbr1auntCkuq4Ke7suXL7cuImrXrl1k1k2RGujs+4B3hthDrt4WuGhqbg3//TuA94bHdR64Fth9r+wdwy0V7MRIslz7dfRJPaNGIJnB/eQHbIqZMOWbOcCTpwHV2wA9XorG6L70TeC57nGthvwIFI8oSueHT4AHj8qMMU7i3OdDoEqTMMhq21QIPH0W8HXsfdfhGuDYoYqXImAj8NNq4L5m7s84+d35zdljH6B9P0UsGxGQ79FrvlRO5F0xR6TjfOhoYONS4MLJQDVxKb0r+tc+FIFcRSDB4N4B6Dk590byRj9g4aO23mc/Axx8Qk6MIZ2dKCcGoUpmJQJqcM/KaVGlMoFAuhfpihUrrG7r1q2bie4LhUzFyMc00rtnt2LRGAx9dBuq6ux7gXdutEXkosGdHhUzR8UhyHYajuGVgZ02hVVeuWQmQJqWbC7JDO7/uRs4rFc4zW+tAWyLUb70+xTYp0Y4eWwtk+kaaT1eBup2DC97zWzgUXGY2LcOcMId0ciWOF/yPlBVGP3Ca64SJALPdge+etP+S+tLgS63KT6KgI2ApFrjv2UUy/yJwOQY/dD5rwG1xeWb4pcdCMj3aFTflF01MkZQMadOjba7qsdo+ln3KTDhcFtWLiSwl6Pm3r1Y8WhwUCmKgF8EpMG9Yn3g+GFA7aOzN0eS2/jkO5d74qsW+UWhQOqnsxMViFLaaaFAQA3uhWIadRBeEEj3IlVjcnoUFaP0GFk1tqwDJnYE9tjX9hLfvazHhgVcLcHg3g646K0CVshn9zNGAB/cHm903itAnWN8CtmF1UceAGzfmthh1Dr/+2/0lz7JDO6dbwXaXBYOQCn7igVAxYPCyWNretrQ48ZZoqB/Wf4O8JRLroMoZEssLn4POKBFeCxUgjsCz18AfPmq/VuL84GTxihSioCNwHfzgIePi6Mhn21SVZGyiuXI/wFHD8wd1DLxbcjG0cv36FWfAPvmSIQmaRlIZcRL+aj3BZmep/WfA+Pbuz8zme47jPxZ9wCMlOw8Emh5YX5JfGZYdtstTC+ZafvrWuCNq+3owCOuy0wfKjXzCHANTndE2DGnDHPL5Eq5vQ7wx+ace/7T2YlyBX7VM/sQUIN79s2JapQhBNK9SNWYnB54xSg9RlaNd4cBH95pV86lBHxO7kBu8mhsoBF1j709Dr4Aq717C/DhXXEFzn4aOPg/BahQmq4faA1s+iqx0qkTgKZnR6Pz2gUAqTLqHgt0mxCNTB44b06yFo4bBrS/Klw/Cbzls4D9G4eTx9YfjwOmunByR2EU/+JV4IUL8usYhewEg/sM4ICW4bFQCe4IPNcDWPqG/VvjM4DTJipSioCNwLK3gGfEO1k+20+dASx/2653+HVAxxglW0Fjt+FL4O/tyaNiPrgD+Hg80PVeoMGJBa1tZvvPxCVuZjW2pX/+EvBiLKdL+WrANZ/vil6j6SNXDe5yrTi/4Vs32RdvpI+6aFr2eRw/eiKw5kN7/vovBcpVjWYuVcquRcDN4E4NothT7qqRjOsAbPgs3lsuRO4CSGcn2lXwaT+FDwE1uBe+OdURJUEg3YtUjcnpl45ilB4jq8Zb/wXmjrcrM8Scoea5UJJt9I4aBBz13+wfwTs3AbNHx/XcuwZAL+kSpbJTd0ljYTTsNApo2zcafeXhccBKoEzF8HKZ0HREkqRznUYCbS8P14fUmYdaemuFLU5ufyMvigPM4qeBV128+qOQLbHo/S5w4KFhkcjfftMy4JvZtpE5m/MdRD/yRInPnAMsm2L/7YBDgYtjCVQz3a/Kz34EPnkSeE281+Sz/fTZwNexSLD2VwPH3Vzw4/l5DXBvU1uPyz4CKjfMr1M2GqF5mUtHhWIlAGIZlRexHGvfuXYiv1woK94Fnuxma1p8d2DIxlzQ2tZx7UJgoogujOJ7uCtGn8rgzncA3wUsvKhy84DfFTom60Pqnuy5L0j90vXNfDjbfs0MLRdzCdAZp8lZwEEiWok6MXfV+k+BzrcBZSqk0zLzvxcGg/u9zYCfV8exOu6WnMhxks5OlPnJ1x4KKwJqcC+sM6vjyodAuhepb2Py9j9sOog997UPCEWg+MaoCGDiOsRpg4E599s/HdgK6P1ObiCRzDBJ7XPhwPT2DcBHDiqINn2BzoLXPZtm4plzgWWOhEhRbUxpSH2gVXy0V38O7F0t/Oj//Bm4raa7nKgpZZg0ld75YQs5lsm17CxRrOl5DwFTXMK3o5AtD9C93gGqifkMiwnb08A1rKKduLftFUCnEVFIzU0ZT54OrBDv6RPvAQ6NeZdGMSJeVC15FqjSNDeogf76DXjpYqDsfkDX+6IzfkaB5a6WQU/wqbEL5xJ7ADesj2uQjdz/UwcBHz9g69jwVOCMWPI6iZuTFuzqz4C9q3tDdvvvwNfTgBrtkyf43rYFKF4SKLmHN5ms9fnLwIs97fpnPgEccpL3tqlqOi9xKzfKDZo/Yvz0mfbImA/opp+jwWNXSPnmI2BSl3hPUXwPd4Xecq0M3gCULB3v9fFTgFXv2f8+5gbgiAG7QiPvfSREB84G9m/kvW1B19zyAzC6sb0XOfNx4JCTo9Xo1uq2MZ9FrkUa4sfGnDoO7QWceLe/fpkcuFgxf23S1f7wbuBdl4vbXHmGOD6JtxnvTb9k/T4inZ0o3dTp74pAMgTU4K5ro8ggkO5F6tuYzNt4FoYX7pPEAFXI0PWNUSEbv+fhvHIZsORpu3qVZkCf9z03LdCK028GZiXZcGb7Zs/pUSWBzFbdJf+v0Teqg5yTXicqz77f1gN31XdfpscPB9pdaf9GYy7/5/cwIg+Np4wHmp0T/pGQ3stRrwtJwxS17Ex4+0sdZWI7/j2q54SGZV5G8wAblZdq+FWQWoI0ppiaUeFBeUxGzRwZLIPX+zNEZnrsbvLf+h8wd5z9S+vLgC63FoQW2dGn9DjcvTww8Nu4XqTs+nqq/e+K9YAr5he8zpOvA+Y/ZOtBj85uD+bXyWlw9zPHb/YHFjxsyzz5AaDJ2UBx4XTy8zfA2LZAqTJ2sjyvkTPSg7jFBcBJ90WDpXOspfcGyOVOZ5lsLl+8ArwQ4xHfrThw00/ZrG2ibivfA544Jf63KN+lRmomchDItXLtMmAvEc33RDdgZSzyKRujPjNBx7erVtyyqcAzZ9m9ldkPGLAiup7njAWmidwaci1yr/JKH7svRsRe/am3frn2SDP2/ULgvFejvdzIdYM7kw7f4vJuvW45ULaSN3wLqFY6O1EBqaXdFgIE1OBeCCZRh+ANgXQvUl/GZH5s1y2Od1y1uTclcryWL4xyfKyh1H+hJ/DFy7aIvaoC1y4NJW6XNZZGFmenUR2Y/t5pGygqHxJt8rJh+9mctW4lKt2jnohHOgPfzkmUeuR/gaMHhe/JOZe9ZwAHRsAB/tNq4L5m7vodOxTocE08yWCxksC1X/mjsnEaR/67xr7UDFMmHJn4vjayolgX740E3r8tv3ZRePNILHq+BdRoFwaF/G3vPwzY/HX871HgwbwBTBjNcvojQKPTotU5U9Ik/22U6yNPVvm45v0+BfapkamRRCPX+RxGsTai0WzXS3lvFPB+7MJhz4rA9SvjOjzcCfju4/i//XiKZ2okr18FLHrMls6k4TQwk9quZSzXhFsejmSGedfvqVjL/N0ZDSLXjryETTfeN68BFjxi12p6LnBq7MInXbt0v7sl+c6FBLeLnwFevdQeXa4Z3KV3PvWP+v3x3Xzgue5Avc7RXcxYeoq1fdkce59qiszXENU+Ld3a9fo7E6beI6ij+nwIVGnitXXB11swCXjzaluPcgcA/b+MTqdU37K5E4C3rrf74jmeXONeinRWqHQI0Nexj/ciI1mdXDe4M9nz7bXyjy6qKNsw2KZpm85OlMGuVXQhR0AN7oV8gnV4cQTSvUh9GZP//QdYtyQuPEcM7pMnT8aJJ56IJ598Et27d09YHhs2bMCBBx6ISy+9FGPGOGg5YjV9YZTti4+hgIxS4IbaT9izl3E9fz7wpeBtj4o/20vfYeoMZTLMf90lRHVgMuH5Zfe3k4Ax7DyK4naoNnKj0j0KPaWMCUckvkfMb0N+jHsMrpgO/PId0Py8RC/CdLo4aVSYR4BGl7Bl41fA2NbuUo6+AThyQOKhtXkP2wvSa3HO4wl3Aq0u9travd4dBwG/u/Dfcl3wPUAv7L+2ACXL+MOYvU08Dlg7L3+/cg6Dai+xuHAyULNDUElJnmmH4SyK52TmbcDMkXZ/uZS/wu3yKwo88t5BAutsMMqmWklMlM3kgLJEiUW0qzjz0mR0gvMC3S3x9aB1QKk9M69Xsh5khJ2s87/vgNLlgL932FRSzuJ1jt2+tUM229/ynX8Bw4UXo/kmeEFD5r6p1gboNc1Lq9R1kiX5zqYEt8lGwMsHXkKwRG1w53dv2iA7afs5zyZSp4RH3d7/ch9syjVfAuUPiEIy4DToDVzrPYoinQYJ39wpQM328RYyXwPpZBiNmC3lvhbAT+Ii8JL3kydMzhadpR4zRgAf3G7/ZZ9aQD/h0BZW31QGd+n9fuBhQO/p3npbNRN4PEZ7w33j4B+8tfNSa1cY3Bm19ecvwDFD/O95043hx5XAmBb5a125CKhQx/77+s8AUq/SIcNcBKeTuwt+T2cn2gUqaBeFFAE1uBfSidVh5Ucg3YvUlzGZIVNMsmJKjhjc//77b1SvXh0NGzbE22+/nQDSXXfdheuuuw4LFixAy5bunrC+MMr2RSgpN1pdAnS8MbpNuzMZZq7wI+8Ko7Xso/9SoFzVaFZKUt13A4b+Ek0fUUtxehgb+ac9DDQ+HZDJ72i0pvHaa5kyAJgnqATOfgY4+ASvrZPX+2Ex8OCR7r/Ta/Co/wE38+ImVmoeDlz4pvd+nfPI5/Lwa723d6s5ogqw44/8vzBk/KFjgC3f2xy5DGW+fK4/j/pk6y4K2hAp+4I3gFpHhMPB2fqpM4HlMaNWVIfcOQ/YhhxTvBrxoh2Zf2kTjwXWOuhAotRdzmW2e3q9eBHw+UuJGEaFBfm/S+6ZO1RDRGHK9cC8CTYeTtqBuxsCW9YmYtWwG3DGJP9rMKoWL/cBPn02vzTj9frXVmCUi/Hzhk3eEoy7vfM63gQc3h9w5vjwY3CXlHa8kL9uWXhEGFE3zCURYvW2wEUxKqDwvXiTwCSoJXb3fnEqjYFRG9yXPAe8cknm3tOfvgC83Dsuv14X4FyXNekNucRar/YFFj8V/5u5SHLK4mULjfN+EmHKtX3WU0CDE+NS5b6+Q3/g2JuCaJ+ZNs5n8uL3ciNXCC//nj0XWC7Oo+WrA9d8Fg1Ov28G7ogZeY1EGX3InE/M/cTi55JPUuA4o54oa+tGgDR1PN+c+7w/akUvBne+GxhZ1eWO5Hk0kiEoLwsO6w38565osDZSZJSjlGwS+X6/CHjo6PgvUV6YhRxJOjtRSPHavAgjoAb3Ijz5RW3o6V6kvozJOWpw55wPHDgQt99+O7755hvLo92UJk3s8MNPP03OYecLo2xfYE7PNEOHEYXekteV8lpfCnRxoZ2Ioq+oZCTzBDPyozK4yINBVLzi1DGZ4TPqg2pUeFPOPY2BXwUfsJHNDTA3wgsfBd7oZ//VLz+w9BZk+6gSUX07F3jkeHcUaBgnpcyo+HvF1yHGbR7bXQUcPywc6rcwMeiO/DJIW2ByLZhfuz0ENIklqvPSa7J1l8wI4EVm3jMnvKKjilCQ/Uve8nIHAv2/8KOde10ZGs4ax48A2l0RXm6mJbjRDkX1znO+W6P0cN+53fYsjpIrX1KiRfn+p8GR+RRIc5LK+Ea8vv0Y2GNvoFKDTM98evmvXwksejxeT0av3FoD2OZyoRvV2kmvXf4ayTzcjQExWch//6+AclXS95jsnccx09B050FxGX4M7h/cCcyIvevLVAIGLE+vS7oafD6G7+dea8Aqf8bYdH2l+l3mmHFSlSRrJ/FgnShoykxfkoff+u7GEkqGGaNs+8mTADn5ZfnvN/YzHbbko51LIte6UH4bOG2i7cDgpUjZJ40BWggv/ed6AEvfsKW07wcwwX02FLe9eyaSrGdirJLSxciPkobz1cuBxU8mai6p7mQOHiaB7jnF2yhlgme3C4IXewGfv2jLOvtp4OD/eJPLWh/eBdAhzFnMMyovEfgtPe8V77JZ0/leIV3hvnX8G+6T9brqfeBxl4TX5hLopd7AZy/EWweNxuC6ZwQwLzUqCzolf2gk1E5nJwohWpsWcQTU4F7EF0BRGn66F2lKYzI/EJLrlqwbO/+Mw1e8FFCs+K6FkwY4biT9lN83Y/nnC1GvTWeMHHwNBt4w1AoxNtjQy71///5JJRYqg7tz017/BOCcZ/ygmbzuk6fZGwFTciF8efsfwMgUh+2owuQl7hdNA6q3iQbz22sDf/yYX1axEsCNLn/30+uGL+xNarNzgYMcVAt+5Djr3l4H+GNzfgkn3W9v0CUPYpWmQJ8PvPfm5HA3XvPeJbjXlN4xzho8hB56EXBv0/gvB7QELp7hvVfnc9msO3DKWO/tnTVTXSSRe3OjgyvUL4XN8MrAzm359bt+dfikfBILJuaqI7yCgiMSb0nvfib9Ytm9HDDwu/BS5z0ETLkuUU7UxpzwWuaXMK4DsMHhVReV3k6PYxlaHWYskkc2Kq95UoLcVjN/REgUWMj1nOpC6ps5wKTONjJejcBhcEzX9qWLgc+ej9cyF6L8S7LcIVHglU6vZL+7GZlY1xgQt6wD7j44f+tLZwH7N07fayqD+y/fAqOFDF5qMifJ3tXSy5W0EqX2AgY5IgfSS8hfY8efwAiR+FLW4HeJ36ddUaQBjhGVJ9yRvtcZw4EPRL0onwVnBFyUxnyObP7DwGTHWYIX8oxYM4URfIuesGklJFd6OmSc6++CN4Fahye2YrJZJp01xevzKGV3vg1oE+PQp5znLwC+fNWWGFVEWLqxevn9r98SnRzY5kIHHY4XOQVRx3mZSR3cPMaD6ua2x5Zc7dK4zVxBzBnkpXz6PPByjOpw39p2EmZZpENX1/v80aZIWj4p06xhZx4lr2vbyJJJwM3fLIrPL6Khl/n6beDpM/Kj2HMqUKMt4KR4DJqfaOmbdh6H4rvbybnLxxx9GDXBc18AJ4R0diIvS0PrKAJuCKjBXddFViJA6pM77rgDEydOxHfffYdq1aqhd+/eGDBgAIoXD2bYTvciTWlMTsa1XJDo+TXAUVdylgM4olsvbNz8M7768DUrsU6/fv0wduxYfP/996hUKXkW8UJlcB++f+KlSeXGwGWzoplRcvvRMGlKy55A19HRyM6UFHkIb3oOsMRx+XDFAqCi8FwLqoc80DDUsl6noJIS2408ENj+W35ZURjcR1UH/op5gPnd3KYa3YiqwI7fARoXpO40uNMj2/C3Ghl+DsVOD7ZTJwBNzw6PtTMZmpTY5nKgeXdgnCO5J7lOyXnqpbgZc3iY4aEmSElGKZBKlh8am2T88Nd+Hd5jyIkFefxPvj8ICu5txrQEflxh/0ZKnRt/CnRISRA++16AnNeyuD0zm74G1nxor8lSZaIbU1BJblzcfp63VP0657Hvx0DZyuEvZMZ3sLlQWUrsAdywPujo4+2mDgI+dsm5EMV7T+JAOqe9khhCJZ/+ccOA9leFH1cYCc6ItWY9gFMeSM6Fzr6iwCuozq9dAXzyRP7Wx94MdLg6kapM1vJq+EhlcN+8HLj/0MS+6ZDCC6G9Kqce0dtDgI/ui7+Pbvo5KALxdl1lN0kAACAASURBVMnoc1iDCRKjooNk3oN3brINa27fWTknXvOakON4jnjfR3VRx7E7L+S90gl5nRFJh2PayO/XpmXAA63sX/wmnXRbf/J5e6wrsNrhnODleXRezjs9rZ2RP15kSrx2bLMNhNgNOPspm14oiuIWTdCmL9B5VBTSbRnEhobMEqWik0lJTm9n/o0G1CEuOXeC9OzktqcMGc33/h3Ae8Pjkr3OqZMyqdMo+9k3exlJF+mXDlJePBrNqrUGesVod7h3euAw/zqbFm57NP521WJgX5dkp35x//J14Pnz8rdilGatIxMpJ1mr+4vBHJlkxInJqcD3CvcPJUrbFwjFivnSPp2dyJcwrawICATU4K7LISsR6Nu3L8aNG4eePXuiXbt2+OijjzBp0iTw7w884CMBnxhd3ov041lo0VokwonV8efh/m9+r8aoE29yg5PqhtavhzvlrbMT0Tz63Ovo2X8o5rz+KFp2PhdVq1a1cH7tNZHo02VlFCqDO72w6I1lSum9gf99E83z8OiJtjHJlAYnAWe5HICj6S0aKZIq5KhB8cSHRrrfTWMyreRh6dQHgaZnRaN/Mk9DSg97mJQ6e92QpxuVdbjbx05SSwMOn80Nn9ututxue2g4PcROGQ80OyedZPt3J8+pMzzam5T8tZzJ0GSNVn2AJmcBE4/J384LbsmS+VHaoB+CGWZTeTimwsCrNyG9gclb7CxRJIlzMyxcPh/Yr17+/hhmvHASUPdY70Yk52VBFFEsM28FZoqDfoWDgCsXJOrr5HmOyrAddE2znbx8MHLOeAxoeEoYqbahQuY0oLTS5QFymXd/waZXCVqc68PLM5aur1TG1HRt0/0uZacyHj5xKrAyFhXDb9FR/00nOXO//7QKuK95fvmMYOEl1W013PuOYi7cJPPZIQ0CDTDJcnK8fhWw6LH8rdtfDRx3M+A02Jia574A1EtCF2bqpIoY4phl1IXUwEuSSafX9Y0/+zaY5Bv0tl+BW6u7z5HxuIxi9ci17ZYwW/7e+EzgtIfS9+q8NPcagZBeMiAvN1jfy9x7kWvquHnRSseTN662v1em+PkGuEWVmeeN79WRLnmBvDyPpAq9Zd/EUcp2TuOwF5lSmqQv4R6vdR8/iCavm8l3NnslLjRiblxqU65UselHIylu+UIo2C0HTrozsZtCbvKZq2dAzNHgvZHA+4Lu0+ucLnkWeMUxf3Q46RxLGC8N/aeMs6NjvZbpQwE+Pyy8mN+6ATjgUODid+2/rVsC0AnQFK86m/qSt17q1G8JsE9Nr1omrycvIxqfEaeP4TuGkSz3uNC/+Hn+Tc8yp4L5tsmozQBOdGpwDz/9KsEdATW468rIOgQ+++wzNG3aFFdeeSXuvffePP3ohT1mzBgsWbIEjRt7CHt1jCzvRfrI9WjRMz+fti9jMsOunVQEUXnKUO9fvwd+3wjsXh6oENCz0zmz//wDrF9i/fX3P/5ElebHo/upXdCpW3eceuqpePnll63/T1V8YZR1K8uh0F0HA7+tS/xjVMlbpIceewjw4d/l8MkkWvQ8f9rBY+2HizWV8vJwwIQ/rUXirqCDTsc/T+PIsinAgkcAJnernSTpZ7L+M2FwlwdDcvwzzHxMC1sDUhCVPyC/h3vF+sAV87yh5Dxo/Odu4LBe3tqmqiXXCT3AfvshXvvQXkCjbsCjLnyVXg4FqYwjQQ0CbuHWXlDwGtFhIisOPCwx6WYUhxe3g3QyL9SnzognHvOCNTFwJpO9bjlQNnmEkxfY8hly3ELvyeX9ZLe4OFIlMWKrIMvoJsAvjgvXep2Bc58Lp1W6Cx+vc+WmhXP+Lp8H7Fc/nL6ZNN5I2ccPB9pd6a5rQnLCawDmVymo4rw8N3owCoyRMHcn4ZgPM6+pxiqNfsn2K240DZTZ4gLgpPuA9Z8D4/M7nUByGyfTIRX1HJMOtu0LPC94r40cJtQ+emDqWXTqTXoH0jyEKcn46o3Mi94Gqre2vXe/m2tfVgaJuJFrmwlZ+Z6WDjPyd66dU8enH5Xz0tzoKlt+NQX4do6dO2VPh7E4VQ9TBwIfO6jaolyzbrQYMkHjk6cDK96Ja+iHgo0XKNwryMIkpnweaZy8y+Ud6GVs9EAf4YjCkBeDTmqwKs1sHnev+0m5J6Nzwgm3p18DXmp4eWfToea9EXZuoENc+LVT9UPaORoyTXG7UPKip1sdJ12XqXPpbGD/RvaFNemBDJWPX+O13BcZ2ZKyhlEps0X0sZd1QjluUQX8u2l/Wy3gz5/sHk+8x6Za9FpkZMve1W3HMEmD48yj5DfyxZnY3uh1xUKgYl2vWiavR5qo12N5e3jRamixeCHRoGucLk5K8DsGC2uR48gkMXZSCHmdz5guanAPP/0qwR0BNbjrysg6BAYPHoyRI0di1apVqFUrHt60evVq1K5dG4MGDcKIESN86533Ih3dAy365fc29mVMJmcvb/tlqdzITl4WRYlRv1iiojLkk1pBcNT2vu4WvDTlXbRp0w4LFi7EDz/8gJIlU+vvC6MocMikDLdNe1QhxhOPTTS+0ROOnLW7l83kiMLJlpybTG4js8hTMo0jNJKEKU56j6MHA0deH0ai3dYtMVrry4C54+zfuXmXBobrVgBlkyRSc9NGbuxIu5EqXwM9jZkIqm7H1Pz0ksKHm1Ia3e+oE++deNMTRRaviVOJMyM4pDHceFTRY5PvF+Ys8BuVQ0+niR3zqKlArxJ5WKGuNNrwYOksXja+v62PH5bpDSc94FIZ6FKtoHQGl2RteTA4y5Fsy62u8bZrdLrt+WXoVJyHF85J8RLe13qyS6RkNExyjXr1FnImkw1D3WNGNvk6YL7w3ix3ANDfwZPvTKzKb+dls71jY575BQ/bVENR0FLd3RDY4uCMll5l/rSL1/6NBiCXiARTQz4X9Jpb/LTthezlu88EpLxINCWKxN9uxpuo+P29euRL6gbpNZhqDrZtAdZ/CitJs5/nLN28JjNmkfaAa9ZJn+I2r+n68PO71CdZ8t1kSVPZDy/Vlr0FvOFC09P1XqDlham12boJuDOAUcbLhf3LlwCfiguuKN5HMsGg28jMJfbka4H5sZxIXr5V+b5vwvjD32SCUOnZzN+8GtydFCZc272mxXvmmr81xo3vl7bQ6T1PqUHGnWy1MOkj+bGdxXwXJx4HrBXOA6R/MBzM6Z6HO+sDW13os5gYnnuUF3vml+BlbBJPI2GPfYH/rrb/ley58iKb7eVFYhT76bx3jWPtmb/LfYCX90Yy3D+8G3j35sRfjxoIHPW/dDOV/vdXLs1PX8lWZp+zZlZ+Bw6veFOOW+SanFMntdLpk2ynkXRl4aPAG/2SrzOvl8tu/UiduOdn/rj9mwCXxqKmnUlJ/Z6jPh4HTHWZu8s+iib5qMzjQ0q4d4akQxPw6uBiJG34EhjXNlHu+a8DL/UCft8U/7vPS1s1uKefKq0RDAE1uAfDTVtlEIFOnTpZXuzr1+ffUFWuXBnNmzfH1KlTfWsQN7h3R4t++Q0pvozJ9ITY5DC4M8t36XK+9crXQFC/WL/R848G27DF4ZU/Z8EStDvZ3pgyemD06PQc474wCqtvptsbChIahLZ8b/cmk6GF6f/Bo+JGSSPHzTuJxhV6mzFknjQDBVlm3xffGJG2QnIEUi/jHRdGR6cHM8f8P0HrE1S25AOlDIaMMkGX2VQe2CrxcFesJDB4nfcLMrl5lgdpN32ld0oqGhQm1WVyXRZ6ZtGw5PSucsqv3g646K30KLl5ONJgzT4YzklDfJOzgW4T0suSNZyHDHobvXqZNxleDkmSvuGYITZ1guG2N4a3H1faXti77+Wt360bgTsD5h7wQmlw877Av3/bRhQeiqbFvDjJ010p5v360f0ADRDksvfKR52Me75UWWBQ7H1lEHCGwruFYzvRcjPo9/kwfLi40ytzzwrA9asSe59+MzDr7sS/eVkfpgWxmTMGYOg1SxT0PXfWs70jZeElWJf80XDeFl6sltvBUAqQ4zbvGa/J25ze135yDyQbhJuB2Y0WyBcIscpO2ckuhqQnqFeDu4wq47N48tjwdCRUO6nBvRTQ6x3gwSTRUl7XMxNy00DR4jxvCTy9GM7ceJG9zNfxI4B2Mc/EZPWZ6FImxfYi13zj+E1OVZ47D1j6erxGFO+jdBde7I1ULcyHYAovu3hRS+PbgR6TqjrXiUli7Pae9Zp/yXmhRv0ueR+o2szWdO0C+wLcFK9rjvXdeP79tE83707+eVN/7xrA1Z8C97cCNi+LS/Hj4cr1x3XoLHWPA35YBPzxY/7fvIzt9x+BO1wiik3b1y63PZudxYtstpHru+0VQCf/jmOusE/6D/CNS/6pgd/HnXyc63PASqBMxXSzaP/+cCfgu4/z1+01HagmuMS9SUuslSzfhDF8uxn7veLNZ294JeDv7Yl91jwcuPBN+280mnNfK8s5zwL1u6QeDS/neEnnthacSamPuB44ZrDtre8lkae8/NuvQdzWwHHzwpNJ6Y3HP/tveCpwhmMMqbT/eDww1YWmLaok0tzvvj3Y1oCXuG4XE0795HvNyzpizoyHj0usyUtwcrebfFv8lXspXuZ5jFpSg7sX8LVOEATU4B4ENW2TUQRIF1OqVCksXLgwXz8tWrTAjh07QNqZVGXdunXg/2RZunQpevTogYX3nIMWVz+dr7kvYzLDxDd9lSiDoV80LoQtDG01XM6UtX9jm885bKH3qINC5ZCjTsPS5avxySefoFmz2CY+RT++MAqrbybbS2MWPVM/f8nm0m56LnBqzCs6TP/jD7e97WRx0qdI4yLDgQsybJ4e2W8JT3NuUJw8e343dW74bfkhfwg+vTPaXObdgOomVybyPOh4O4Rz5XvxsEa3Nn5oLORhpdtEoMkZyVeHrJsqYmLK9cC8mMGbPMX09HdyPTt78UpN5GYkIjfjea8C94nn3OvBxegxrn3iu4lGZdIH0AMnXfHS1zdz4uGmnW+zOYrpqc/S6DTbqP3U6UD56sCVC70l8CI91z2HpNPO/fcbNqZObCaNKUwIR4P7W7HksMZY5DS4eMGB2rhFbRgtnTKcnMwDVgFl0nyL3PhqvSZNTIUmw7+/eCVewy0BmpPuqEJdez69FEaWTTohHq7NNkGTbpn+GLJt1pnUgVEyXW71olXyOk76HGdNM5fO+fayTpzfGS9exOlGk+zdQYqksMUp+8IpQE0XapMXewGfv2j35jX5n1M26a1OdFzqBNE/mcG9ZBmbg//RE9ylepk/tpR81F7aeDG4P39BokEm1bjp4W0Mn168VtNdICXri9Qb7V08QmX9p84ElgsPbrM+uHelsbJCHYC5ZFJFmDn7d9tzeF0HDbsBZwie8VTtnOvksjk2X/FnL9pel7LQgYYGz3QUMI+fDKyamdjWGCL//CUxfwDX42BB75ZujE56FNb3sv7SyTW/J8sjYPpx5j4xFCJe5N/TGPjVxVGj1hG2QdLpDOV1bE5DqdHF4OKGmVfZrCe/jV4vEr3gwT0Yc+s4i4zkdK5PRjie84wX6UCyiIJuDwFNHNST3iTGa6WKxuE5hO+EjV8kSvW6TpPRCdbrApz7rC3z6bOBr12cWNL14TwzybWSLM8R6fW4xypXJTVKyZ6dZNGjXPcXvOEd+WSXBXL/R8rL3YoDJUt7l2tqfnAnMGOY/S9eBHDdpyuSMiddXf6+dqF7rii3tqdOcE9k7VJXDe5ewNc6QRBQg3sQ1LRNRhGoU6cO6MnORKnOwsSeGzduhDH8JlNk6NChuPlmRwhcrPLCu89Ei2ueA8hpztvm2I2zL2MyeSyldwZll6/m3WMgFYJMiiW9Nyo3BIpHkBle0tTE+m967FkoVqwYPvnccXmQRD9fGEW1SujR+tF9wCGnAHWOjkaq3Ihx48sEbdyk05vgchdPDr+9jm1nbxIt7wRiG0uMeYpI+CsPYlw718QSZqbri+3evgEgDUkUnNwcO5PUyUI+zdUf2F5QxsOYhmwaGMKUzcvdQ/DJWd7RQ9hhsr4/fzkeRtzjZZvO5YtXgRcuSK6tH05weVg5+ETg7KeSy5V16QFZrZV7XcmhetE0m34m2UGSHnFMlLRXFeBaD89qMiMRN/w/x8KjqVW6Q4VT8wfaJB5mSWlQdn9guAd6Hi99Sc+bc54D6ncGDLd2jfY2jZfhxeQhgyGk6TyGpEcmLy/Xp76sTRgyaaBSRS1JIyk5Oin/zWtsEcZbyBmm7pXuJRX3txNLZ4hxMqoJOTg3vlo/z0SyJ8BpNGM9eXHx/h3Aew5qKhnine79Mq5DAjWaVf3814DaR6Vrmfx35yWBqdmsO3CKg+fYby9uBjcpg3PJ7xG5bOXB38vz4vT09MKTnU5/t3eHGy1QOjluv7vJdktoLQ3uXi493C6P2L8fXuhk40n2LqUxgvz+vABkISezuUBl7p2BHiO3pHwvc55gcP8c2DtGKSL1f+ZcYNlkbzPEnCaGLsKL1+1384GHj/UmW9bqNBJoe3nqdo+dBKx+P7EOL1r53frwTvvvXnjmpYRf17on6fMyAq/fW8pyrhNGNPLbMbaNe09ePLrdPIvpfUsP3VEHJMr1a3RzvvMqHQL0nQMwWpB71oO7hosQSXXpQ0Owk5ao9wzv0QTOZN8SiQNaAuQcdxYvz9bP3wD3uiQENW1lMmfnO9zLenqgdaKjFinLzn81nLMJ+032vPdfCpSrCvyw2D0SxwsmfLcOqwj8+0/+EdLJjHuNMCXZtzeVTC96s73c+/GyjxHFpBup0xE472XbMSCZMThddGMyHnTqlswYT534PuM7LFV59XJg8ZN2ZLsb7s62fin5klHKnPeKncSdF5wPtLId/frO9Ue/Sd1mjAA+iOUn4HlM5usxutc60s4lIKMEvM4rZbh5uCfDVA3uYZ5QbRsRAmpwjwhIFRMdAhn3cL/rDLQ4/Vrg2XMAHiRp7Cq1Z54Rv25dD/yUvP11enWWO9D/h8kNNnrbyZBI0hIwTCpscRjcZ89fjA6nXIQxIwbiikGxzOr0rifdBD3AuZlycNIXiMFd8nrKEMkweEiaCRp7f1xhe4QRZ9IxpDPipev7/sPs9UHOzV+/sylraBCiYcgUuWHjIYEGOi9FHuzonX/0INvzK2hxJg2inCGb7bnnpdSY5vbGVYZhBu2La5B0O27Fz2bL2V4mMDLGaxqoJxyRXFPyfR5ycvqRuIWEp9qMy/m5cDJQU4Sqy95IhzHrHvsvxiP5p9WJHuimfv3/2AYUUuEM2ZR+fSYzEjlH69X4a9qZdW3+bTyovPTnpS/yn8+OJco2sh8+3k5mR8qun1YmjsBLzoXNK4D7Y7QApHSZ4ZKHgFEWfE7XzE7sI52nuEx8S4MbDe4mWdQFbwK1Dgecc+qVU1LKlqMmXdKAFfZfaKj95qP8CY55SKp0cOq1/dfW/EYbv8Ystx7ckkyauUzqtb+bTTuTzuOT/Y08ANi+NbFnenfR4BS0TDgSWLc43ppUV6S/8srjn6pfHvJT0S7xMoJ0Fs79hJf3oUzMRh1M6HpQHNjO7VkuUwkYsDyMVLutm2y3yyFpcPeSXDCZJ2OqC08vo0mXjFvK4LedHsksfA+QpsRLyYTB3S1RYDJdSENEuisW8reTAiBVcbug9zJORiy1uTR1zWTUFdx7rInxFx/UCej+vJce7TrSiMoLtMUpLsudUiVvcqoe3fKEMOqG69KNT5yyvCQ45v6F+xhZ+I7mJe6bVyf+3W+eBcknbiSRNnDR47aDCAtp3Zhkc4+9veNtaj5+CrDqPfd2pMb71uFQlWqv5JQyqhrw1xZ/OqWLVqO0ZA4hhhpwbFtgoyMfCdt5eVcno7Y79magg2Mu/Y0MSPa8m5wezn2bke9F72T7EClj8TP2ZSMv7/w6RbnRJqUaP/fAN272htC6T4EJh9t1GWHMJMF0OOH7hM5DI/ZPLifdWZP7VJOvR0phpAajs8ze3tnDgYcBvaen1t+ceRkd+Pdf6ce6V1XgWgfFbapWkj5U1jNOLjL/QpBcA28PsZ3kWEg75LygpbGd30vSapoLa9YdvMG7Rz0dwh7rmh4b1jjtYaBx7GI8TQv1cPcGqdbyj4Aa3P1jpi0yjEDGOdwvKYMWTRrGPQ1iHxlfxmQaK350HEBpvCe3cNjy0xpg289xKQz5LbVnOKn0UohRnMxd9Bm++Holbh/7OH7+dQtWzXkTZeq0Af5hUlXhZU2vw31qJPTrC6NwGsdbywOpn7DTVP1LzwceKhhVMOd+u0UUXnEmGaHlLbDB9nZ3hszJRFo1OgA9PXqkOY0WlRoCffNHg3iGX3ojsFGJPYAbRP4Ec8iIgm/dLQGSUdTL5j/ZoGSSHknlQe9ot9Bjyjn1QaDpWelhYu4D8kDKkspoKufHeIy49SITI0mudzd+Uusg/Jgtxc0j1CnfiwGcbcif7yd3wH0tEg3SxgNcJtw1upBrXBpG0yWbZTvDPUzPGo6zWDHAmThOjrVKM6CPwyPSiQW94o2XIb0spw1KrFFqL+C6ZTbHo9OrvP9XqcN/ZVg/vUNpaHuljy3fRK04Q1+9vsPcErhRLvUdtNa+DBvXzj183gsX55yxcb55g4gbZRH7ef9WgNQopGpiYthUxZkwmnWZfJbGa+eY6Als+Da9GlxuqWB/q2QJSynzRDdg5btxiZw7XsDwYHhBjFOa1A5M9kpPuQNapH9vmBrJkquZ30mb4aQl8bKuaQxmHpJ/dsR1IUc2Dahhitu7w4/Hdqq+3WQ7PVudeT68eNcnM2bxEobJok0uBb+4JHsG3eQw4RxzZ9C71s83WWLCfQAjKhz7roTuZH3S/JAqzFlSGTuddbveB7z1X2DnnwAv8E9/ODVKX74OPH+eXySBE0cDh7oks5SS3AzM/J3Pg7wQ85NgT1L3ORNxpxuFpJ5IVXfjV8DY1ok1aHzkt3Vyf/eWXhIUOnnOKYljIBYuEat5jhLpxsXf/VzKBMlt9ODRNp+61+Ln3WXyL6WSTSMk6U5MUndD8ZOqDfMp8JvqLB3622vXjXaMdb3sXec+GKebk/KjoLE0z7vMR2X6oG7J9oNe9JYUUozu/CrGfW7k0/nkln3iI2KSz7OfASp6cFxjq2RRA6nmyTgEpVtbcu/Fi0R6djN6o1pr4LCLgZd7J5dw7dfAXpWT/86EwOaiMp0e8ncveZjMnpd76BrtgOVvp+6BhvkbNqR3xDFSkul+xmNAw1MAeTZh/qve7/gZISDpMknd6XR8MlHCzihLk/fCS29L3wCe6+Glpp2Lw0siXABqcPcGqdbyj4Aa3P1jpi0yjMCgQYMwatQorFq1CrVq1crrbfXq1ahduzb4+4gR/pPN5L1IaXCvUjw+Ch4y8C9WNLjSCu3z5OHOg5jT25Lhp3uluDH3ituPqxKTfjBh2e5lvbZ2r8ekMdxMArjw6pvwxEuTcXC9uhg7fACObNvSPiBu+yWePNSqWQyo2jRBXoEb3L0YkrwgRVoJkySLnlc85M+Mefn7+ei79SWTYTJktMTuwDez7bDofsKL8qFj4qGvXsOBafySm1vTv5eNczJcPrgj0evX6c0oaU788J679ff128DTLvzne1YErnd4L3uZR1NHXl5csTC+2U8VWs8NOD360hU3Dthkhg7KMpct/G/jMeLWh+RplB7z5KfmejGF1AWt+9jeOSwD16YPQfZqcE81Djed722WSEkjjf/fzgUeOT7eip48a+fH/+3lkGQMDNJglSo8l9LTrX2nl5PhWGdbGuPqdUo0Ws28FZg5ytY7HT6/bwbuiEWXtL/aNrhLvl7q5lzzjHqhEZfvhVTFydGbtx6K2ZcRfF+bvp1yvHh8u62Rqi1swwI9wPaNfXslJYrzHeamv5PnX76jnJ6g0nPVGOXTPY9uep/5hB2eTO/bN2kcuch7clr2RzqXz4TXrDTwnXS/7R1lvOHMhUc6Pc3v8jLQrQ2NWc7ka15CxN0oh3gZQK7sMCXZu8N5Ec3IEa5hegySOq2sB1qpO+raIf2yOHObuCVbTPeMJ4sMYj/MD8BvPC9QeHHJSzyvhXR2Y2KXKybqIVnb65YDz55rv/P8UNM58U4XSSbrJ6MlSZZE0ehOOrqvJtuXjLzoYr4WzosX7/F0ERumD+bbWCI4or18b5N54rphftwwb8+4jHCStD9e1gDHcOr49DW/XwQ85EJ3KCOqaIgkVYPxzPayl7qrgR1x6rV48Zo3stz44VP14yVCTbYf09KOHPVaWpwPnDQmfe1ke2BnSzoq0Yj/yiX2L168XFNFYKbSLN37iW15WeuMSuDf+c29JEkkQHo07BomqoyXb9zTmmTi/I3vbf7u5EHnb170HlEF2PGH3Q/pNz8WtJj8G3PXfPJEoqbNe9i5FrwU5343WRtG9plvh9eErzIn0Cnj7D00z378vtMA6+ahbvpPR/n0/u3Ae/7tEJ4ihU1yXX5zuC9K5skt99jpPPIlrnKPK/9OjJgs9r7mthOaKV7WiZQjzzY8T49ulDir8pJJOuv4oZWaeBywdp6XFQZ4jWZWg7s3PLVWIATU4B4INm2USQSWLFmC5s2b48orr8S998bDW/v164cxY8Zg8eLFaNIkjZedi4JJDe6xuisOG259bLwZ3H8F6DkjC7mM0yVD8QIcwxqlZyipFFLxCHuRuXObzX/MYi4GyG1pNjAMRy25B7B1Q1wavUxpQBIlrcGdHsxL3wTaXQGUP9CLZunryANmz6lAjbbp26SrIY1gTOpCo6rxfPVCx5BKvvMAbehAmC2dntEszo197aNtLsd0JZnHnd8NkezHuflyJjCU42lyFtDtwXRaJv9dcq3L8G7SMfV3JEby08t7o2wvXJZrvgTKx/hN3Yw3Rm6Dk4CzHAcFtz6lt4b5PZXxQB5QjCHQTa4MGx2yMV7DqXPJPYFWl8Q9tehtdexNqdHxanC/+D1/3rr08CLllSnyEM6DopblZgAAIABJREFU8Pj/s3ce0LYUxfovkkoQJAcvWZIEkSxBULJITpcMkqOAJEmK5KykC5JEwiWDSA4CktOVKOGKIFmCSlAfIvhfv9O7ztSu0z3dM/vw3uP/dq/F4p49naanp6e76qvvg2f99yGag+d7/V5V3pKQ7mNmC3RaVtArhV7VmnNzH8Qpzi0SCG3lWOfvmIHChtvmkJRWZA0jFjy4lkKAvsUMVCWH7BhNgd4zYbrQr6gx0M8GRHiX2zc9R0qMFmpg9XMpN94c1vy3kZ5Qjmif4+es+sV68vgl4W+QtgvXaC4MPu/Jht6Xirc1pefQmuwBER50jFwD1AqdxLPFMVk652wPU1yvmofD52NOxL1ERDb2XpTQr9SvHGk0pOVStw5r6mOPguhtjortmNlF/hGhA7BzSo0Ntp+5OZcyePp7/c5xIottmxuB6rrlK2de6DdmSA3jBBq2X6wm8vL9IhhXdzHOxroWY2t16n49qi+1PikNV6pd6idCgsQz03cWnYytrq8fnxRSl2gQ5V/f9AoR6sJZemvnW1WCkk5pmKR6xDeFvW1dlBac5PARkxbfQeSBjAF9/vVFnuho1cy/gci6Z9aPB+OIVkxMtJKIhT91qIX2/VOgLfx1Rzg2Bx6hXiLrAMukEkhRnEgWxFAqhnnOqkNpXXJvRkmUmtYRc67h+Lox8V2y0UR1/UA/64iM6CTlidZa8+SKwrDk3W/CC91kfSLv7y4U+dVO8TvzaGrWHYQt2feN6NDh1Y2JUjEBzqKMBRUAQGFd+sBErVJXyR7EU8Ahyu31V2L9akLFZoFHGMI5+8YcNawnCkQpiVagX1bbBocLY/rSfaHHOHj0G/+lmYMjzBqZoQRz59+uW7Vnjtx7Y68T9Uzka11Smh2ASDveI3L8XENzz/SNEIGn36QS3R6t5bZDK02Mkr6jlTTbsiU5Qx4VF0Z7DgpMq1fFdaILVutocmAvuGSTUI7IiLkTIuS+9dIzDuU2vFBknu8W9b+PcC8apn6mFiPQN7i3GLR+kU9/BHbYYQc544wzZKuttpKlllpK7rnnHjn33HNl++23l9NPL0CcRLo4rAZ3L2xKe5//YkBT+WQPNiVDxwFBEQXkHw6qGtBwA+Kdpj5oVewGw/eNMLVpv9r1a9bgrh/BporjqXHxdB51BsySsdU8lvMbIz4CuHoQ2uY2kRGLNKmtyhtDpaphGQGcg94JCLvr9xZ50BiuVcQn1+rfXh6KFqBMziBRV6/lEiefD4e3GxvCmVf/aa6X6etjzq84ruHXBXGCcNEEE4sc0ADJ5VuwnIGW7iWHLi2hlTlypu6IE207NuZevK8OVWVRLFC7aHr8su5QVxw1c68mwpyta9uOSelmFM5nqDIQcsrx61L/CfOKvPdKWT+euT7oZGhCGwGnXiqxTkIX8p+PRTyy0Lfbda/v1s9He4gGrawc65TaGTSqMQDzm0XU58L+cT5omDlGbhBmiqijLqiCHj4niBz7BCK2joLMoudjdzjv2uHdSaW6NSHnxKBOKHLQnbAcmwP39Ho9xVkKlQkfPrQVoGk12UPvSocHR20uxea2GuvttSaITKsTAo8oNAQa5RDrz1qniyxo5nZdn+FytYhDn5foJvhIbZpsJpE9MmJ0FrmrZZsgC2N9rnPEzLuOyPrnhlKxkHRLi5Uaj6NmDpEZPtlnFeOWzgnYjYULdt3czAnXm3wrn79d5Py1Qrk6Y6HWq2hNHBC7FdBppDjiY30ciLRiP9YxlNNmChyQo/Pw9Z++TKAcLOEsv+uESmQVAwnRGVPPJYI4HvRQ7BuVAtE6ZogmIlKrLsWMtHX5AY8QnYhxLKVjYykxVj4y8AZDHwV39kv3dwsV7/Y7kSlmEzl8BpGP/i5i53yqH6zv1okby0eU2sHvBP74X3WEYxFVncnR0Niyllppkmm7wTCaDycQQrRHOeHcne7P0yidubzIqw/H74oonn+9P/Saj0ZJjYl1FvAuQOkEFzyOER8JgFERJxzG4l0T/bHtxBzROLpj3OpEqEHRRyLaAMdpXaqjPKwrV7KmPHKeyK93i9dixcrtHr+Ul1+N1owDDkU7HznPnLvqUMcNBtvv3Vg/HhYgQ06ip9iHer0RXwuo9zU7FJ25VVkj4qBPQZuGcYo5ZSyt4mZXl3HF2+8CKGdo8ZSa0faLiMEb9hF5pPN945pqQaX6X2K0JlLN0rRS1xwrBf74unTBumGdUm52u69hz8R7z9r38NkVqKVEz0jbtOcl1kF1iqb61CRiizpUMNnOXzXCc92eI+3+vIR2TPtYesYhf2n0ZB/hnntb+9d7GIG+wb2HwesX/fRG4N///rccc8wxctZZZ8krr7wiI0aMkG222Ub22WcfGX/88Vs1PKwGdzZ9f/tT6Megkvg4ItPO2y00CkcZXO/wYnMgyCHAqA8kOqgdmzBga2IzO4Ay/U8QNqX9XLIir/DTTjxVMLZjdK9L032tKwS71uDujY0lm9Bcv+1hSfPmDFW5Ornexfn92yCWpFQQiLlgaGqTPPKPQ8QcK1Z0IHBe4/ywKE/a+cqKIptenm8RgUQ2zz71MtY37j80TNTWd9yc1WFv6T1EEGJqk9jsIjSkKDiMmTwH3eSWcJOn2uXQD3qFZJHUGCQvM7QxsYNkjqIltbGzm37eLw4nCJw95BBxKcPfhRuIjL1JxFP4eFE6NtY4gEA3aso971ifcWrs8WR4lsppbscTZ9B4mbX1+LlF3n+9rB8v3CVynkGV5AxyVsTTomlpLSWsxfoHsqcuIYSqHNlrnxHGUXlIY6HJ3oBSZ7i1lBNwZxP2DI+zpu8/LvKzRDTWbo9WtC2x/pcYxevuu26OWCHBVB1EgDzd4S+3eXKo/5RRlfoYo1OMMxM0njoeEa5ddp/0HT12ccWP73NhzOOQb5GPrL0cTqH44Hpd9Jk6v5SrPBX+r+2WGCs0b5vQ84mmDCKydSmF6gbFi3EJw+f4n2u2UidFbTvVcFBmLO86TuTOo7vrBsGbE1dUsUPPNazOOMTaEem2UTS0ktOaeOySbkdX2/fCl7NOQ8Lt68Rved8stQPGvlyK6YOkjBtPXiFy+fe6a0w5BKHLYy8SS1PPLbLzA91XBh0Fs4lgdK5LVlBP92LsSWN7W6+fgXG4LsUEkXNjyPU6w7g3+rPmgBqHDok9K3Nt0hm6Kb7UyY6oOoa6uuSFNIlWjImFMj8smjNnBLI6Q3wPHxg1tBf6/P33XrmY6/qtTpZYHtDgjIsKH2oezg58b3PnGEt3xXh/pxMdxDwBbKJ7JDjySc/dIIJm1L4v5J+2jSrT3KzzcObjzNWzE1zZG40WObqjQ4UDeeUMBUhOEJjvAyKSFuVdqm8R00zR/hN5Bw0aSY2Vei231yPfoMNs/lCPNbgzF4jA8KlEvNMDVnA6ghR+9obu6MXYUyvpN+WUeki5zVPfoCV3q+YjUckADnLJrt8bXRzOXjERY/pqo9yolyidr6yQbuGWH1VRp6lc290pQqQ4kZ+aFhgpss4Z9T3335GrdxZ5tAO4Icpg2Y7jyH4TcIZAKVeSLOKcKNcYHZatp9SBrGUGzzZTBycKyY6vpZTp2kP/SGSZhOaF7Y+NWi253z6He8ko9fN8yiPQN7h/ygPcr/5/zwgMq8Ed9CGcoCRFaOitwnOrB08rbMRBpw7hqeXhWvdhpNbgDg0MdDAkNZ7nhvnD96swPcLnoCNg82uFqGJ1OJqcWoP7398ROXa2qpbcITnXZ67HBOdKQkNzdd97isjNB4Rc0EpAgTB6ZPh75EUBUdwmeeV00CUYmgf54Z8IBjlQxTaVcKeSPyUW1YuxGs5jkBI22c2yFR4iFJDDE4Y4UBKID616dJhPdcluqjQfBgnQLHefEH7JiRTV1X/1TgE9hvOJsGc9EPoDFEY4L3ZcJ2KZE83TEOuY08LeZ0zYToUavSigN6RRFj5SjPOacocZewAn7By+StCLU80hEjPyUO+ap4nMuJgInIocYF10y0DTx84h8ndDf1PXD8ufSdmcY8NywNtDBWVTIk/Tf00ELty6xLsGXy2JiAMQxXB3MndjIn6Ws5wydby4lq4ATmHWd0ujAyflWR06G9/HHEeoNyx8eeFK88HXNf4XRDhAv3hXuJLjAH/rOZFTF60ft5hAGiU40GMgSKVDoUH4MH6V9fCs5atrIDHV+ZNz5nnBXtsCKC34VFP0CyrSlerzBeuJ/OEWEZCkez0nkqMtALnF9y1neKK9EiSc79e4E4RQ7Lr6bbh87L5w8sNr34QCLHfftIOxAyMm76RNJY5wpdtiPSOqzCYcfmevGBdazOmq5CKZbDsYQWZYsH7u61W7FrAvgKNdEwY8FVrHkQRftPJil0QoUE8sIi5l3IghZFUg3N/NqYtXEY16DYcBBl8MM17QUBGVJQK1lmItF+0CkEEdbCUGoUPYl34cfzZ2vH0OaPs2crRMmgcnuIr2le4dj54lAFJy6wZtEHXw3qtVj0D9g5bV84Fe4Vtp+5JD/FtnheWC1/qsoOtFG4o8Z9DKJXz5sTmidaMBwrlmVIS+kTMH63ZKVwonBuOtyF5Q5fTfpo8/CiAXIiNAfWv0nqUDTL2hVgTXvosY04nQuXxLEVDicO+z3/sJe9P/iCy4qchaGV7x524SuWiDeMtER3xjJxEfeVaia0KN7DkAnJDYRxPFp3sD1g4MyKorZXuQ2+uR9+RFwr6WPQ1OrUs3r2qw1I0YZEF9w+deEoV8/+ndaHPrGMAwznqdOkOWRphp9KKl1YwBRja5oopiKpnfjMBTV1fOBgzo7JGOmqn7+a52gsiiW4v8apduLvoc73cdXSUt2PXu9iMqBzUOcc5MdUkpwfhO7vKgCOcnHHtEDrFv1POWRYejDbS1OSPU1W8BSgAoLAgiVY4zKg6scY3+XSwvdgXWTyLZoOQh+ohkvxtE1K53Tvjd0gyWCif/9jiR3xxaP4b2qlIOFpToU8oUDFI/S6sR6BvcWw1bv9BncQQGF9JR28tCCy0sAlfvuxWVwx8XPlg+mvO7Muecc8o4uYO0NXrD1+lD7NjMgNi0xr1SgzuH2U/+XQ0xHM5sTDUhEKZh2WyKv+TCSWMPh4Md4makyWcTmbDDg+v54mNlO8b+Tz75RMaOHSsTTDDBgHjtkORD3Le4VmTWZXqbKl7Qk9pKQkNzrdoPNoZfNuiKxm3wcR7SjEVUKHLZUlRwQD4jMialvJt1YXS5sPvUmKix2l63m3wf9g6f3y/XqHKX0BjE+CtBRBLeqcJFvfDDg2IHzU5Y6v7m8OuREKBoXrq3eyTqdAFijgJbGhEp0CZsMFMJvu0ZI8ZNhJBw0OAA2/3xqrRFtvEriEfEmC1qLneY6QpB3UJkjZO6e5cLx4RLc/s7h96R52CuOwz6g3HOAWeNW15sNhXZQQ9zvI8+rBjUYl3C4TlqySpH3fx448kKvbTKUSL/+aTSgqAG7mP0hvHWcmH/774qcmKH0osQYoQ7YwcjDHQcmqCqGjy8LidCpE4qWcNPKs+IxeKiVBad5MvmuOExeKlDAgcFNAOKSs/xj9fNWQwYPrLE961ursaQyXWOA+re6w9lQqE2fLtu3iG6+9qYil4mFxFy78lxqiLfRolYsZbJORjJZ6MSbFt7PJXXbdExZU9hwQjUwwHcI7i1/hy1E4asOgG82Ljn1g3KwPGrEStQgFhRaOYT3wf2Y/DbjjeBiDpRKVtiKIuhdSlLVBOc59bx741f5EvRCMScU3X90QgiInQUkZiaqynndiy//QYss5fI8gel3wCMsIdOlb5OdNJVCUqaOnFT68BW41r9F6DSMSgRSPa6JjjhcWrbaBt1otjxUCdNqi8W6EC/r3PITxudBRr9hn1Fnu3w7+OAXHr3+rtMaW0QXQOKHUHdlI5IXf1eZ2ClwwIqPJWs3kBJpGcs6rWO07uJ88T3HSogaG4YE6sTMPaWimqtJMpuYD0w2iPQqwHKgqOfsx57X5y4sW9YyTqiNG7wg7OugRq31H869qDdoUtj7bXG0NSz8d8Y9jhL7FjlrtsfE81boj2me0p7BrJjBQXLcvuJ8C4qSKBUMNnSM+p51GosWQMvVE+WtjFHG3fdXuk9B86BOQw63kZ/5wALjO4ZywZHhn1GvItwoltHlz2bQSe0U4efPre+WbT5ns+InDB3vISnxCmh4LTnFxt5ZKn17F7POvlze0DtZWzvM996Ik8mosQBE329wxOfGZu+wT03efrX245A3+DeduT65T5zIzBkIVVUQOdO3px1bXln0X1k0skmk2mmmWbAsJxMhPsrqgVDOohB+aTKDpoU6gYrQophnk1sLr1GKLKpi/xww8MRT8KwrfyKIPIIh61LfJRByyjq0Br+2TAhFmMTH3WLFJzh6/LRRx/Jm2++Ke+9955MOeWUA+MzJHnBoVJO3rq+c4jwIlcYaTiM9pIsT+wPng2iqRpWZ1EcTdt4/FKRKzuibCo0Y6kQoCFRTlhbdwmSivx1RieQe8w7DG9N0kUju3lMY8bWuna/8CWR/Tr0Sql2Hx0tcvUO3VdxEIBKt5za8LqDsm6aFOHlDQbegAQ/PYcAFU6iHUJN54rQ9HANY8pJGTSk5ZaM9TuFxknx/XqjJchmkC5WWDGHLLTPy2/+6eN5a1TUPqmxjkUcHD2ryD//UpXIHQZtPyy3fqxNq6vg+W1zz6EOLUj482D0SoEok3cw1YX+W/FjjMlQjdjwYfoF2lETtCe/6wj1xqgd7LhY2hcQ/zi2Ygcj0Iig9kmDSLcM2qlEHC7F4wtibq3T4rMGaqUjOt8jvlkx8TMtiXAYqLZDJg8IxJzjrm4NSqHxta2cIVE5cC2dx4nzDUWp2rsuFfC+Yb84HYQfQag8+FYoVUuOTzvnNNP6Vfy2ZE2tE+rNlVf+67p8imC2AniaH8ej0vT5OnJjXSdgxzPFcA0Njk1eqyTWbyt4SySUfbdja99ZKwQKI1JOdG/g+/LHIFiaStaxGovyIYImJqqoRmCMMDjq5lwl0B2mEohYFf3Mrek4RaAyKNFdsRoXtF1Xt+Usj/UTB9dxc3Rz2A+uq5uKrJlAL7/ycBVVU4qMbaIFccqiFeCGdZj1mGRpG/TdeP+NSgAxhvy2922jJTF0WW0Q8nlNFB8tkXL0axux9Q2nCIYpeOw1eQe0/p56lparmbxrnBwi5lIJjnWltoR+A677umQdEaz7S+wkMouh7PBlf7ZgABuVCAJbig4cPLMsnXYipiIUY333ezp0Qib4QtB/4R2hb0THwdvtU+59JL9SIEHbtuH5IqDPf75cQLJr4n3FkQIAgDWqhJfb6jVQD5QyVuunjoKsVMTziBHhPAvCn+ipgXXCOCcUSOQjC0ocvBboo3tKSwFlNQk88CgXDWMR8fC9n7NyNdYx8BP7HAAZuX0OtWgf2fsjrlyXFCzggTt1Za7aMZwneN8APh355So3z+0f7wRnG+uVFfqFtilH+WLXW4vyB4BI5Av6dADPJpk6tDmg3URk0ycidXtLez9euJv9AVFrfCMB6THXv7xQFfFJxODBEbH2yBj1De71061/tf0I9A3u7ceuX/IzNgJDFtJzVukyvH30ucnklWWOk/+aav6BOxtvvPFk3JTxEgSLcgViCMdLa0Nh+Q3EjuVix9jOBy6XOHj4BFUGdVIfbWuChxI6gbpEP6wIK0gKRfDzO9dtAlGv+ccZTz6ZYCL5+OMQ5vuFL3xBZpxxxjiPvg/HnH99kXU7vNq5e05d142Bv94LhQp1eUPgB29V6IkcIqfuXqDjUCQSGyU2TM/eWKFcOfCpOKutZzgM7tSHUwdOvlS4b6zvVjxrlmVE6KMXIMsZd3KI6xg6j4OEN/A02TTaexlEi0c4ve8fJXLjflVuwpZvO0Tk8UvCb3VIFksZQt46xHJqXqQcRGetGBDEGjZqy6tRg9+mnT/wSVre/xwdyY+/VBkmogJ8r6dRLdqPGLUS4bh2fcodBi3PZU5wDQ5+Ql1JnvbBcsLGxrnuoP77a0Qu3SyU2uTyoKmQSy8/JHJ2B6FUJ+Rk86kxx0bPWFFQInOIerHCaXUoaU/HsMjW3QcjvQf7DJS7OUe146mvcuPBOwIFFwexOmScPRSD2AZNl0pb3SAy85LlAoUecV5HsePb5BuJgSoVuXbakp0w+4VEtrs9lM4J6JVGQrHeQ42WSxzSoYWwQsN166pdk/mme8e5toeOwOQdHuNcH/gOHhcRfs+V43od9RLXrSML1OLYm0tqDXk2vlRkTmPQ8CURJQb1FkvqxI19w3Lrly3Dd0MjTmgnVtbmL+H/Thkz9T50D8HfvzksGBNsSjmoFfEKBzHfjly6fOsKHYj46VcM7ZMvOyj2XeBoHxB6naeqoW4+W2qBWH8ZbxwgaCJ44d26qBtLVYZo9kKdb0HdmNjnaDVhYmWsAc8aATkTPH6xCFF103QQpBYAkOMUt/tpnL5E8dnI19j8s2tkDvHq6eG4N/aOGKp8eu5mkYvW7/41Jjg+8F4YYyl/56g5LKimhFfcOyK+logg096qgHCJg82CY7a8vt6Qf+H6YQ2DdnMvR4/lx8+vq/oeKOgCCiqimKE18ylnWO4Sm99YZO0O179HYCuXvp57S0Rqvf5IzHl73FwiH7wRek1EgJ6DU3RX/v5+MpXIJx8Fih1ogEgKCFHRUC1j5xb0OBh065KlGtO5baN/7Hpw1Q4ij43urq3unKlC62il7Pl7kWNnr8rG3s3Dpg3n95JIXu2j8trX3WMKbFRX5optRJ64LGjLHfiGiGpnWFofyuMAgm5MU0nkjI0o9Vz7OJ4wrHutKO8wqn+qIl5jR8cbwAfv8ExLhBpspOqeT+fBiX3R1NzI96/3MAJ9g3sPg9cv+tkagSEG90hY0n9kHHl39xcHkNwIt0KjEk0YQxS9N/u3REC8c3jSBAUEBnLyaQK5S2hiXWJDTbhiLFEeZKJNhDPWIZfI+9qj3UKHFs0LzyJ0KjaBhlI+yImnlnFnWmzAwD7ppJPKZJNNlqbb8aJ2GH936aC92k6VSzbtFovUer65j8i3Oxzsbeq2GzfQwhzg9GDYS912Tu30QDhovXR/hX5Y7ocidxw5tMclHO4eeZsKoSsNt9Re/HSBgCzE2L7ltfHRzBncc+Gjdxxd8djTgj0MKg2GtqyRASAloApgPubCARVZGEMNW+TccvuLLLeviKcCsWGydgRef7ybAohwcTbW8LuWppSgmx4EY3zbFmmlzhjLAepDe31fFElahxixdAmxe4kZFBWNpPlzBqtbD6k4+ikTEynVuiyaVN8d2y87B73oIvlSxhw7lqCqCbvOJYs8raOwslQ3GrZqxV8nnLyaKyD9ZJzuiI4Nzg8827FkhSBBli2+vcghOFJcss+gzolji9mQeH7PIcQxwl2wTlVDih7IOk141xCnfcPQJdk+qEjvsV8RgaKN93zjjhPM32PM2Aj9QMxAMfPSIn/q8Ibaeuo0BAZRkEuLbHVdVYpvI9FhamxCMPrWjmh0aSRU6htm+6bvuEc8//DVtPNU0ZE47FY5ovtgbOuu06jw45yiOMm9L1zPIbotWhLxVRXLTtVt6YfqnF6Uj+mQaL0aqeO/YThhDvxz+s789xZqnpcfCELfGEtjNGFqQKPWr64lssF59SNn0bqxnFacNxYpkUL+672WUtXZfgO4OMAIY/t+aURcLmqEch/9l8jh01Y1KLI3dq+eSs3msfzEMRqLOiOWXaPhsV/Q8PCnno6dK7kIEV076vZP2g6iwId2zgC8A6vXOCQRYVeBR9ZfwAinLFz1OPbtVceh5qqLhIuJW6feYf8uUD96KERP+OTfM6jNZlsu/R7YSK6l9wxGsSlmTQtWekfEPKvXv2Pnry2Clk+JPoHdE+UiBJSGCVrPfZ6v74On29Rnp0ZeAFXsiZX33taWQ+bbdwxqtdU6kTzeWKprqCKioa1ibwq4Bg7zWLLc4ymDJc4EdFm4hyV3qUATuo+vGxlLtbLwlgHsQ0IP7PdXifCNt85iO7cUzZ+q3yKtyaMgFeuctRFCakC39RE1AyI9ljQqCGc3UdKWQir2bqpguEXyp/p+4vyB7pb3po4akPKXbSXy1JUiuXXbtqXCvPT9hy+H89ATl4oQrWvBVtZZSfmSs6Wl8cm9+9on1cHwBv/U+NjIBSJcVomcqTmjWarPwn1QH+Fev5T1r7Yfgb7Bvf3Y9Ut+xkZgyELK4fbc1UTef626E7zVBxlRwNQ9WuQmfHyImMDVfeO+VQmPOsuhtChZh/KBL/p+FzZb4i23myZv/PP8surx1nDTkg++3vF9p4nc9EMzYuN0wl4NAh9EM8YekFcTZ5wP1KSb5dhzyBn76uZnV8jiXwL6Dj5F0BmlYW2x+m3Yt4YRv/mMyGmLh9xsKmNoR4yAGAPrkg3fxECPcYpwZi8CmhMf9G0ouqHOQOAFhXwdufBRLzAEtcaap4RaLIcnf+vG8fRlKmNdDtE9aqlwWEkJQSEwiONj8e1EMIIiOnxiJ8Qefuxv2Xlrbs5u2lWkDI2FmLhV6tnZMHObR+8vhkYGHYemAAYwQoRHLCLywl2VzsC3DxL55l7xFu3hGIT1gKE3kXAoIrRpOfk1awwN2NTg7gUjMdLgJMSAoMLS2l7Xu/NoOHTbpIYeEGXb3lY9P82TElyzhutSXQmLRLSHWD+MVrjSOihsmLyWgbroTaIrDCqr7jnaNUq5h70xw7+zdZEetu8W9c93CSqsFP8l5UCHKeUWf6dQi7Z/3BuiZX9+onvUMJDgaFC0eVuHH/f++6uHTmy4ke0Ya44trwsUAbGkVEkpoz9RYERRvMVa3kFPrXxEEKjLpXNWHaoboWV49+EGxng1yTRDxVrhV510+ngLg7y9y4tsdmVA5MPNz54AZOKDZ4RyhLuD+BoQSX8sIClT4u2eAiSmeaG94V3GgewjulLjYecGUT8YWGN6QuWrAAAgAElEQVQUCpTHmQG1mZ1zdehoi05kb6H1gqTf5LLQo5jTGA5fBNxioAWE5o8cUd1NyX7DGncnHSGypwFhxMbFinqD0ra0YeTHKYAzG8ol9ic+xb4tdr0rFdKDfsJy6tfdaxMqDT/udRE9Xqza3qvdX8SEfev2Lva7WcJB7PucE/I8fu4AaCnhH6duFb5fYKTIOp13NDY3rFFJHSs4pfmmssYh4OmTH8MUxz/lDp9B5KO/d9dQt4+zWkSUwvnIXtMn/57V9YGyNirKOqgxYgJc8gmtHtD+JKI3eN/rUhODpHVq5cSVlZaSPkOXV5fsntGeLzyCPFVH3fvoo8pWPCTUwnpPdBU6SSDod7wn0CmqsLNtCx2rySM6RBYwUffu0hbI5T/cVjmn1ztXZD7jpI/dm32XS8RE/dyqizI7ZbFuYW7O6Zw52duhIwNtEtzwmq7YNhidbarb+1lkOYLhFgyRi37KfUuOmzPQ0ZYAsezZLBeNo/c2emORZ68LAMB9/pieuT4CqyT620YV5N4hbVmfVUmEC2Uswj1Fq+adhHzroZYBXOXPHmYE+gb3+qWsf7X9CPQN7u3Hrl/yMzYC0YUUDzsbBbjFMIaUbJ64b8vPqCg0Sy8QG5tcaCVlLHpnshnrOWTJX4JgApGHYAnJH+D9hm/CKUT2fUEkhfiL3RcftgHk188Dt6dNu3UMZ+TBwEJ4Gofh0sOJN8baunXTwsGdQybGlDoux66yJuxV61FUQQlSKTX3LZesHtQsatBFDwwI6/77n/XoctpiY4qhRzluF99RZNWjAr0QNB+WukgNyBhTEdGa9qvdnJy275aqo44b34eG+/vHaAQCJqVR8OvduxGNti0vbBobWwT1MIykkgqA5dBAWt6ikOs2+i/eI/KL74RScHp+baSI50rFKMJ/Psxd24oh2Lk2yNO4SDAg+8Q7Q1LDpEXq6/OPjUcXaiiDotPyoJRw5uk6we/oJPCcbFI0sv6WOzj4567lYuH0XWiqiKGRcFFCuNmUTzZCxFMFpRyaXdzwHeNjeiaFK4w9ES8YUizK1JezKDJ7wERoEbScTRwMQHzffUL1ax2tgD1cKtJK10/oKqAaAq05meHfvHADkbE3BeqavU10le93FwrpmvBuYshIJdZxq2WQEqGyfYZ3njotjyzornXP6daZyPGVWl5427+UdsLGlw2lP6BcykBk18Ac6tTz6iOYnEvK8ewd8Bz4ccr6ZA30KdoGytRFBvjni6in0noh4IjxJWZ09wh7jF7HG8F2DLgIxKMdM/LC4MRUjlc17MfGwx9+EUd79WER1v5YwgGB8/RkQ2/hOattOaU5+fxkIj98SQQk8VtPi0AjobSAh00XvrU+pQSiLeK6lJqFunUfweGeSJDPTZSeISr2TQ4QoXxnWSPGHa/iVEcQ8pJNAt97LHlHhKUTA8X6g2dyM1TEi6zWresxgeG6FjQ/eep4/q/dQ+Thc4bWFHtvPbVZ3fP54x3ByEhKobJ9q3YdQ5B6KrjjE0n7giMR6pdcKs1vRQa3/60IzjkS33fmRyo9epHI1R1hy7ozh1J5QM0FSpq983ccZZFvw+6bUvzS3iia03bw+yltM6WdMub8Kkosp+1AXTb6BYoQEmsP/YeS0ybb9zohVsp4lHDdc++injtJZOEtQu46J1NXvyI0o3rdrlN8c/03iW8WBkYVfdU9gq0/Rh/IdYsGz2nwkN9rw+SoJi2lZAlFjJ9bnJH3eDI+8n6914i61HOytFqah4iLFX4UL6GOC+2D7VvO4J5ycGhLGn1SsqbYPXbs+cd6X0qHZPc71FMCMrA2hVI6u5iGTt37ZDnc6yLrLL2j1gfVoTqlIm30De51A9+/1ssI9A3uvYxev+xnagRqF9JBhfJxRKCNyAlP2k0cocbjTSCSCw8u4Xy1SAhoBDDaWIOFH/ES43DMOaD1eKOVbh7USFCCkLIHGt8/UIVs9GKI4JyxjroUuQyqdaVDK0FSrlHehugilAKXoorL1s3O2OZIw6pB4LJRAAXBhhAueoxkcCgvuFH9nLfODUWEWIMOh3vU50kgj6FMgZoox9VnD1+UtZtTHzqqmy74sKF4QPxw98dDFIZPllsSBADIqVjy4XmxPHUiucoZqOWI1oAGQVOOssbn9+0PoswKOWsxAB0Kd+S/ReqQZhaBaA2qHrldNytSRo8m7xj102c24h++K6Jo+1i7NhKiDqETKwt9Rh2CV41Jg8+t5iBIHg279m3FkCyWMicXxq/1QZf182XDXym0OBElqpuQQsPExmJQjCqiC6D5rT6DNRDEBABZUwi7Bv2uPKd1Alr2nVjnLJEF1hdhLSH8F57dmNHFhjkTKpxK1mgBD/T9p1UGd1BVGO1tQlgLQyDfSVJKUMz2mfBjjD8YPuvKqIZESsQtRTWB0wkqGovMh7IIxzlIf5+Uw9b/bo3MuQOrRROWRBKBjGedIYEyJExcU4pjuQS9RR16KI/pfyCAyVwggbTebUxwdhPNQkpRGVnNCuVrVXoqyvm1spSuyRrqqAdHE1oKGC0QaccJoPOE6xiARizWzSdfR0eljqg6PmWilTCSvffK0LkRMwy99Vyl61ISSq+1evo0dD+mXyDOH2vfl53uF5mmw3f+9K9FoCIi8d1RapGhPQ8IeJCrmmydzLk9XIRJrI5jZhf5hxGVq9ubnb2yyMv3B72YEspAaxyp43VOGdxja43fL9Q5RS3ivwR1y/jY+nMoTeVNn38DkXXPjI1u92+l/PpdRv9HRKYq1FawRs/VjXHX9sKKeOai4Pwd2X7FnGCHT9+tGZX7lvu1QdtLia3avXDOGUJdRDsRPUcCiXzHUSIPnx0AHAA5NHnH7i6ZMW8iHmyjLOw50NOe0BfExtFKsbSFde+jRSHnqAap33Lm672nDKl1Z8fYTPfi9rnoEAvkqYs0HVzbjDaR/jZwXo84oJqsadSlkRD2vpbcLZw7Y0kd4zyvXR8R0TNOiv7MvjdW6D5Wt75D0Iaud3b9muL1sUqiOAedBZnvg9fYKplfN+5fReKnqAf9HSlnf50DxZax1K112jHeATQ4j9Lnlr7BPf8J6+doNwJ9g3u7ceuX+gyOQO1Caj35uQ0i9371ziKPXhAMKHzwQaG+OqY7BNqPUWoDafNZvm9QjbMvH6gTrCCrzZ9CZ9k81gPuvfwW/UkZPUTlUIe2fkXDx+YEm0sO/xhrfCoxuHu6Ad0UfW4Skf1fFbEipdSfOxxpH1ToxyLtr9w+iFwh/AP3qh54bb/rOHXJZ6lTdLNhVdgx5hO2T8KIxkEAQ0MulM7zC1qeeR/6jvHiL45TMoVgsRQCdcYmkPSxkHY7NpYmxj9rpQPR3z1yJBbm6uuo42AuRY3ZOnVDXscdbQ2qfgwt723degjS8aC3hgo2Noki0fqV9103+bF2m4bp2jpshM3yPxJZZs/uFvy7nnuHFUnj+xkzrtqD4P6vpaMlbF0YNI+YQeTjf4mkuDFtiKtFCua+YYo+rePGtIYxDGtzrVLV6uk5lE/33Vcr8cWUWLKNUqDGkugo8ukaxr/rno0fE+jAWPtIOBb5LnzcEefmG8d3gzXllEVCHsTKcPr5ZA+VIBsJXVZDasr4k6PBsZRctr1v7i0CfycowS/NGMKvcZSnHMCpsbbiqHWcrbTdhYY3nLOpuWR1CYhIsPQ6Kfori3rc7GoRNGJiSanAYvPerluUZayg91H6Mf5Gm8Anq1mhhk77TL3js4tP+UKReb4b7+v7b3Qj5XFWsL6w34GaBsfJuebdgXJq1mUrvmtq1Wi5WAtq/EhFDdgyd/9U5FaHWlz/PJF51+quuakhS0tbZ4et0TukvSA3orkK9LD7QD9v/P0vuasIof6a7PNivwFNSC4p2nmwjhpH6skLB5BAKnLLt1XKi60GK2gdde2hrpiouaeLqBPEtOMRe86xsbHvbR2KOsVBXTfePppAhQVx5vGtISLCOuqoK2e4tO11OYoS67R1uKY4kFP3kHMEHDJ5iBrWlEMWp/aWKS0lu8cuQV1b49yO93YLKdpvpF8XcjSJVjQzR0NqNVPst9wjiBkz9uFQpVk+97pvuTUqlpwxHzmvW7idNvnmf9dE3umzs8KrJXQl1pFDHTkqSOvsju03/Ry066JeW2YvkeUPGjpbvShwbq9q3xutrS7q14vxcs7jHZ5k6vibY9+bnL6HOrnrxKC1Fa+Twe+56AyodNG5Kfle2n4DAlxih/qvySB4UUTsN62ulNIzfaFAiJt6bDRs3Xsae6ZqO0j0p29wz20W+tfbjkDf4N525PrlPnMjULuQWv7gHOcgdz7ICzixyAEdDng4MOHCTKUUKtDmt9y6isZRRFGsXnj3CE+rS8pvCgftwe905+QQflknvJErasBXfunpFhDZoYOKS7Wh4m2x62yiMCDEUPq5cEPqU6OoUudcvZPIoxcGozj38ttjRW4/vGrZq6Kn+hwLx7e8/KAnHxg1tHROeMVuUK1AmOe+pmYQsaDhMMLkHCe6IdEeeSHHHEKccjEhSnvor0Oox0Sz/OjUbSJtWDnl4P61/InW6JV6Zqlw8C60+oYi6/y8bG1Sw0FdFIc1nmxyhcgchi80hhRKtRwLq24ijKT1Ks8k7zLoMiJrfLLRCHUInVhfLbe9f0bkV3Ej/l2iSaF8v7G2/GYcFLrqG+QO6bY+XatSCGkbxZM7iNh6r9870GSRYuJz/nAZ45PFsA1yH/oTKKA0WaHg2EHQcsgPrBU1xkzbZ+sEAvmDA5UQX6hxQLEpvYVHCGFgguuVtOCmIs/8WgSUPklp1nJzg7x6COXf3JeKuPJ3CiWszriU+FzMkY0TAOcqyGGfLA2UvZaim7IG7hJOYP3e5dbsgTEw1GXkx4j7yUehVylU7nM3V5Q4daK6dchaG5lDW9DZgJ6G+o2UEnKOUR908fIfGIz3muy6XceP7UUDY8Y0246GiVt+2rpvL5SA8NNjnN4xIphr54HnouZa7Fna6JmSvZu2QT/oj08evWd55/V90TJ+vIbW1v2LXUO6DO4zh+i2XLKh9/Y9xCCGcQNnFQ4JGz3l+5xqo1RDw9Jh/d3oKMWoRWJjHFtH/b4lBTzwfS/lCbfrdC4KT9sg2pNIVptYy85eMTiZmef8/+iZqxylSFFKIDh57GyhbIp6zs4Rj/TOzRX77fDOCBtxqvXkDJ3euazlYsZG8rIH+eCNIED+o78OBTL4/ntQkb2eem/IU6efwfWrdqw0F+rukT6PHhno8EhQns25Uvh3jC4NhDQofqWPzL1n1ulZ4lCK7bVTAA67J0shyf14Kz+4/g6wCHFdpUa0+bsiKo+M6xL4+mNnndj4K6iqdB6SzztBU/pL5NX3uGQfMPAMzV6g7pm2ceL5ujUiMvUu675s6rlFdu7sCVJ5bd2rHiOy+Pb1K4RSLWUM212V2G/hsvuKPHdjENAFlBBL6pwFzDRwDho/ni8mAq+0c4m76Bvccx+A/vW2I9A3uLcduX65z9wI1C6kdhOZ44vmzi9YT+QPt4jYEGY23/D+/uuD+NjUGTS1xG8OC0Zkkhq0vLCprR3D8wGvD+UitHnUWKuK5PYaIjcXGGEbNbArp1oq7N3WYY1w/s7rxNFyaHHqUh4+aF3WPWsoHyOULLcbdFcJSoJ6j5kthG3OtZrIRheFXlvDHKF8MRFBj2L193vNbpXhyhoUVQTH5sczT9g/jpqcocBTc3jjlT0gpt5MEINbXNN91RoVYpzdNrff1DE3oG/QVMfL70XZYs8pxfet9af6ZxFSKaRObEwGqSxqNp2PXSxyVWeDueX13RoBVlBK6x85WuTiCO1QbOPelAaHNn5zuMhvjwmt7fFU4DL3yaJJUyix1BzJUWaoA6xEzIk2NFQ01p6niKhzDKb6y+85Psp7ThK5pYOAKglB17YsPVSMzsIbNeFghiu7JNl3CboWL+LkDwoldGS0a+vl2XNg0floEeZ8Y/jWkHDYQvuggtwY3KGpGjBqiMh084tgAC3hW/WRUdYokQpbHwzNnyh8y3yyQpRcm3lpkZEXBEdALHFgPWbWymGgeVIoWBslte1vArdvXVJnO06vAY7uidO57fOY7Vth/dBxTx3m/3RfhfZeucYIoUjSmMh3zOlgkdIpR3pMYNLeg1+DLcgA6jioYnDyTWCE0hkdbyCNrUsWtaxRhl36CzeLzNQRH8epiENIhf4G6bkWF9m6Y9hKPRVL2aN5YgYnS/fA4R/B85IUo5PSctYwZI1ZA++uQZWnKNyYD13C9J2KU4bDEkAGVdjIDf5WRLV1oAGQgA7PgkpyxlTqsqCOOofWYKTLzCJTzi7C+kpKcfT6/QjUWDMu1v2EPFJ8k8sDlVEuWadXikucOt7/s8jxc4baUkhb31ZMl4h9CzQnJNZJHGInzF2VLBlnzY2TAd0FRBdTlJNNUav2HqyB10cEeXoY1rzNI8LWfkys7oC95o3elh7OvzOpZ2r7O6Rd8875+aRUoal6rTOwjg7FRpNRl6f88OK1ONfRbLCp7vnbCJI6HQ2tL0V96qmpyG+pVn/8t9xbE677++W3lKPLfj9UGD7XSkyQPjY+TfWGtF07D6acQ2TXh+M9ymkwDZlrhQZ3uxajdfKdzn6/blz83LXUL+yHfnd+QLOz5yDpeSx37iSvpXpM0TbavsVsI7lnaoFqmjdmr9Brnj+/ydiQ91sHiCy7T7RU3+Cee1j9621HoG9wbzty/XKfuRGoXUjt4arkw3/OKiIv3Rf49uBv0wQnHQcu5UG2o1TysbLhkvANTjKNiBVAoz6E3RC505RDbSr6K4YA9UKvyj/XhKfzsGm7RTvpF6FhiEiCTH/v1XDg9knvLzWTLFqGwy6HXjs+HMoxrNgEknSNk/JzM8Z/++SVFVcqBxXlu7W15SgHUkZDFfW0dVkEaA5p4IWOYkiDEpS735ha405KCFH77Ovn8ExoMuGvpDoeejWIaF0xQ5I1cJIPxBiGv7efDaWUU9g/XYvoKhFe0vIlvL+IuMEtS9r29sCdrckaLfU3NAt+sVp8/vmxL6G08TXZ/mx9q8iMiw5ty4Yp+0iI3JuRQ+wdOaPIh++JINpJaHQuaehqLJ/nSPV0Ubm69XqOS9VGL9XRUvj2rPhTLGz12RsCck3TVjeIzLxkWa9jaF5b0iNcU7ygvjWLVGWNQOASHQfSF2cQ+UGHT906dn/wXKAA4CCLpgHfs1FLVjy8KuzadRDcLi6wp4dhNfR88GYQB0acDo5qyzWtfbeGi1gIsteoqNMv0Dr5drzxeOB2xTH2/G3d92/HzVIJ5Hh7KWfpJvi7TojRPmdoP0Dm37R/aB0RRCiOfLJUJlyL9amLgznyzYtxA1sO+ZSorh1rjRaz9+DvNUb3g8NmrVO778rvM2LCZaB+Qa4hgLlyJ2otZqyFMgsBX+YWxrzZlhPRiJESA58NR9dexhwQTb6N/hmmvsXsAXmfcEjAJX3HkVVJ+31IRZRhgLSGWC1tKbhs25PPKvL9jmZMbmWyyFQiY4j0hK5LE05Hok0uWj/e51T9dp3EeA19EPUjcm+Toi6nmitQ+l28cYgCYc8VQ8f6MYaKxlN7eANwHUWT7UvM8RS7vy5KjINF0MHJpV+uJfLH27tzTfrlsE8mEVkGwEQFg0tBJLZGG1HonYhQUBw9SyUgbCMxc33nuhe5t7Qudi/GN2CTy+LizL4dT2mk1zWyVf8uRQnb+n1/7bU6hHvOyVHnMOtqwxlavY6BjxDGaA4Q5sZ9q1rqntFdJ4jcdkjIm6NwIY/VCbP9jHFhK0UdOhvQIpYkS1ek+VNClV0UqqeJfN05GmLtxWhlcCzi9LAaW9Yw30TLyM+xlLO1qQaTrzcV4W1FhD1dWGr8fd1Wj4v9H3peJI3SVW20GRYS2c6tRb4NSzPJNb41438hLdysthGoTdGOKUmW9z31ftrfm9gnYt976orN93dfkTHXniULb3qIPPLII7LQQua8V3If/Tz9EagZgb7BvT89/s+MQK3B3Yq9YKQCYQJ1CWGNXqzIGsBTPKwxntAStKkajzg8HPjncNCwHN0aDvXM9RVyMYfIP3pWkX/+RWSOlcIG2CZv2NEQdt2wlxzYYihW+D3hIOQgC2r2/Q7tjm07RrNhr1ukmBp9rKEI1OeV23bfTwzFHZvhR84UxCet4dAjKWPlcuG3Maoh6hm1dDd/rxpblAIitznx1BwxA5xHkcf67w8RXaKg5wQhqVSytDjW8FJCP6RCYVp3LETfHhzIx7wGlXpaB9WY2rRbA3NO9NDe2+VbhygGNo+8a7FkaUU8JQ+81x5tyOGW6BCfEADc5pbuXxXZlOIej/XHcoanKF3aiv3Rno0WsNEf2hd1rpUKxNXRYW1zm8iIDic49avBZ6IpRfb5Y/l3KRf2bEUMU1EBsdZywkxjbxW50LwvKQdIrG5d57kWQ6XZyBPylCCvydf1LhwQUOmWGuvAt0TG/5yI1SxRhD2oegzu8KFbTQU9pHkjYDSMe86ArLQRENBQkGg3liw1E8KykxsqBfI/fW034i/FxZ6aMYPv+YQiB3ZQ+zavFUDG+fDFaevnnjdYpKhqqMUavhh7jI0nfjXUnzLUW+oe8vHtm/3bAb2rguD2PY3xzFou9tjdpHQlnrkuGDpJG10sMteq3VETHiFsjQO2HT83rAGTfKW80fYdU+5ja7zXtRsDIqjwkrlho5a0zzGu8xd+W4nv1tHlxMb3jGUrcXR/XQEd1hFIHj9mMaN9DGRAWRu9YsvVCYL7ful7kpr9OIfgbmftIpWIHJLPRlFC34bgKvtbHHusNZp0H5FyRPl++W/LAL3A6900a170D4e4N/TH7tcaab97osginXv2ebt4/gv4jSnvKTd8nbzPAEfOWCZcKaFx8HVcs6sIyGdNdm79+fcio74Rriy3v8hyxrCbevb2d69NgkMAgy97NaJFMXQ2mR8Dc98ZpW17NrqsjcH9by+L/HS++J1ZFLutOwXusLXYbzi/pyJ2fZ+9895HPOz5tAi0TojBawRp3d7CRj3+4FmRL05X/xTfHltpsdicsWiIXPRZrKXHLx16Lkvtca3eSp3j2rdjgVf2mgVcKWXkwLN5pfp25uZ4bC7GwGEKoiLibqvrcrWK+AjeFCe+jZL2WlepVnyfrZ5W7J3RaLIZCyLCPnirW7ycPgDeg2o2Rmk5SLWTABTE7uHaPasIH3s95fRSEGEJ5a0/V9r6AS+CdJ+041h+7iYZc/y6svDP/943uOdndD9HwxHoG9wbDlg/+2d3BGoN7ta4C7KWzeq/3g83a4003uiQCtkEgXb3CQE5qBzjJXzKaoD9kuPeBEnDQRGqk6nnFLEH6roNueUIjB3MPX+ihvw2CdnSEDI7NTDuw1mI8QzUrPLW2jypUGHNE1OwtwjOhTbvPlRoOT7S3BeIzM9PEp+wMcE578lPTfUUMt9ylXrxF7+p1o1OTjBQ++CdGmuNElmwYxjRPNYYm9yYOTE0iz7L8ZsOICX2Epl7tcA/r6izQafBbCI4UWJJkdF6bdVjRRbfrjunNXByBc7IAX72KUO+VPSCPfTWUTD4ftlNXmzz6991f1Dy4c3Uj1FeHQT8rQK23ohgEap1YrO+zyUHFGsQjI1z3RLu79mKcA1cg8bjPyJf3zQgD3NJqali+TwnvjqVQPvtaaiKcm1Y4zG0LtfvFZDmOKWYo11o7oIDqbZnkUExXQ//vpVof8Te1ZiByYqfQnGCwb0kgf498svhu4OzeIIJuw8yiupJaU1oG49eJIJeBuO4+a+qg5U9vO39R5GJO++mlhuMgFgroFRLkqVMU85hnEZQsxFR4g/wpdEV2ra9VxzpUJOBfNeU4+r392BFifVa6mCoRkEbmg5CDwc/KNYY92gK3Wwd5ha5G+NpLvmWYQSBXmD7O0UmmiLcyZNXVAbVza4Khn77zGOGn5iBwqMCfZRCKfVXDGXuHTCMfR2fvX9+OIB+vVuY0yByn71OJMbrag3FOVCDb4NnCDr8o38MfQOUpu/2I0Xu7Og6xESR/bjyvFiPj4zQiFkRY+t4j72jqXfSG2l9Poz3GKuv2SVc+Z6h+Kl7z1OaCjaS1O5T6zRVbDvQufzulyLP3xEEAEke4eupuWK0M7G+W+R6igedcjHNg9yap2KbqXzcP8/znA7Pd4kQpq/LO2zt+mSBJbmoxlgfPY+/zcMeTbVAmiDz6wzu1qHZxuAeE5XUPquzGUq1G4w2RQ7dTnmvS8RzIiJjqjm6R83TSXrqltt+IoLzTZMin/94p8gv1wi/QuXFmhmL9LDG5xKu/5hQq7a9zW9ERhhKtUs2E3n6mvj6mJq/MdHoVFSaFffOnT9se0SdEu0ZS7pPV5DP7MuLbHZl7q2srseAV4jtTjtvdx0amVAK8sJJzjkQWi5SCnBm53jpPttHS2GX4BsMNVfsnfnZgiJ/fSHQ8+WcBSlR4xQ9WJO6dURTDpRUFIACf2JAJv+kLaVkbBZ8eRGRbW8LV35/jYz52cZ9g3v529LP2WAE+gb3BoPVz/rZHoFag7s1gIGSeuba6matF9Uftut4q6nBbvZydCcWtZ4SVNNe2QNBHVWNFYFZ4cciS3foMeyjtB9k5aku5WGz/bB1pozhNk/uwGaRGMpZbsP5cYwo77Ctd9MrAw0IThSMRTMsOHTiHj59OAzjwFivw53pw49T0z1GK+M39ZNMK7LXc1UNPoxY+XtLjYx+cx9Dg3hOad//mGhunSho7P4ZowkmEhl33OrqIIe2u2fNMfBuYdD5T1UmpmdgN0YWeaHRCPOsIbLh+UN79dID7Q6n1tCnnMG2do/e9DzenuqJsoRXg7bUxGb8hTvDX5ZyxBpzmhwISpB3bbmHtc+HTCHyn4+re9DDp+XDLTWYKRIlNpf8HFb6GbgmU46bWD2W+kUdHOTT9cWKITcxQA0YnXcc+uy0D/755wSVbVm4LrUAACAASURBVN89xUYdurVOODM2HictJPKX50U4jMDx/5Q5bELlsMtDIpbGpS60GV5ue8i334qdHwrOX5t+MmVAyccE71LrqeVL5hvJIZOwZOYgazkoP5wqmurEmWNtWASgXp9zlUCJxGESJOlfXxRhfQTxGDNq+Hr9ITbG8U8Z5cAm4mvHe1IjMPT3lAFK50mXMPKuItDV2FTHIx7rhdYb4wPOPfNYX732i0XO036pIcE6DxWw4DmCEVhWp6xSz5WOdBed0V+6HTGW+7npO0j7aniI9QXDGMKI/EeKrUsqPqflAX6AfD08EYGhtDIaTZeKvkyNTQyZavPi8IHu54YO920OMKFlY/RGXLPGHosWLjEC2X7VrdO814q4poynhUuNBQ4TDGrvviyiBhn2eM9eH5yAqh1Q4gD3bXg9Hn8d2imENTV6qgny19Zl30tLS2XPGU2MnKm67e98uzkTkJqAH+oM7tSl61Mbg/tA+QSCXimG7HW+DRtfkl9BzlpB5JWHuvOhK8J7anU9TltS5M2nQj7GB6eQ/cZYoI7qpZA35jTlPAOFlk1dwJFOBFtd763Gj8+31undtCxtog6tEV3rx3GLA9enUn0HX+6KbUWeuDR+l/q+HjVTOAPOs3oACDVJnuc+5mhW7bIm+3cbbUl//B7Kiw6XinVzxnptTHCWW7FdvluXbtZ957xLJ84X1rYSCrbU+2PFf20Lyp1fqvOUmuv8/sXpwxl+6rmqFmzEv10bUs/XRvym8uj68vhlMubUrfoG9ybvSj9v8Qj0De7FQ9XP+FkfgawYhqKkrLiY3rQuyJajkGslfLJ68EqJtlGPN+TnaCZsmFdd2Jk17KWUy+1mUw8keijggLfP8+lHHxOwITf0OSruqKVB9HEA0k0qxpSvLJ+uG77QM78VrisaygrcwRX7aGQjZblqUxx1KURcbGM+4RSBkkdTTPzPhy7Thz2eqMqocK3+oo6aizYMiuwkDAdXbReQ+RyyPjdRVf6cVUVeurf6OybkZQ3PsVGNUadYo+EWv65EdZq87EqjQ5kYEiRGOxBDPyGAi0APyaLcfrpA2ESCfGbsccR8Y6fqUNOFRDxXZD4jAlx3HzmObuusoh7Po+k35WufIfK1kd2HOw5v+nypQ1Gj3oFSgqiifBddzE9E4Kz3yY6H9qnJ80wdanOo2lgbyhUZu+YPE4MitvOI7Hx/eY+t2LEtpU6dpggwrcMKEcfQPI+cF5CymmKckKm78CjBOoN7bp30baghAFQ1lA0qPqj5MLCDsuTAWkenFOu7nRvb3dntzGzjkNE2tF4orVhvHzozXOGb8YSjQUs53lJj7TnXNR8UVaDNobggYSzBYVaS/Dui300MddaY0tb4mTIQKSIz9/1PoeRT9waNAWHVFimHmC6GRduXGOWOOnhs3Z7z1+qjDDzXDUTW7TzjuvH2Dn3eE0sBRFmMRFfvEGrBCb/KESVPMOS5fh+RB88I/97/9e5vrkXSK71Oec0ixyFcGaEwog6cgWif3H9aqDFGeWD3DKpN0hUZtakIorKalO6uCV2AvR8f7ejvFQM+0SVorZBK+KLJV0dvpNGZdo41Nbhbx4jfF3ljS6mTgH7r+I8/ocj+r4oQXXnHESLs7XAIE53SFSE4WmTu7+RnSC6SgBpAS5OP1MbZQzk7ptYRZR0UXgg+3/uQY+wtIheuNzQ3YAyN6ijRwtIa/qcM7pOOENn4YhFoMDSV0FKR1woK25HwWi4nLyLyztiQwyPI+Y0z5clfD8bhNU4RWahjII1RecRAM0SiQX86zngiB7+Tdxj7s4p/itYBnxOkj82XF+8eqmMUiyCirHU2lNI9US5Hy2Spt5o4//V+PPgqZlzWyIUmhuV7TxG5+YBq1Dw63otl+29S7v305woizP/xTlVK93uDfY/QzMbaiL2fKTHpQTDbuoEWtDSlwDkerGCdnAPrnIvajrUX4/23+YxI+5jTd+gb3EufWT9foxHoG9wbDVc/82d5BLIGd/WIx25SwwA9H2CJ9/zqnTuG4XECN7GGb9t2POIxd3AsEbCjfotY2+pGkZk73I22bfsxVZ5qDSUE4QgaK5VSG2WMaVA72AQtAptLFd1KfbC1TEy46tHR1eE61SfUzRF2JKXE4VSk6Wsbiax9elWT5c/TX0EhnOrEKT3q6N1XK25eynlOdh9GrJt6FQqjjNLw8G8resPffnO/xbUis3Y4PrWfVoeA3+ClhW/TJjXY6G8c2H+1c/grxiVd8sJblKBH9lM+FsKKMNhy+3XXbkNorUE+xodrxUAtSiaFuojdhzXEIeg4zTzduXwofGxjx4EBRNr861UHHftOgChGuFKTzjcrELtYQoAy1mcbIu/nCPm90WS9Bg4IbS9lcG8jTnvq4iJvPROfRZ5vX5FgTZGZdg7blpRCy3KENznA1BlyaOeBMyq0J3+XGqC0j+qM4KD8I+PQ47p9BlYQseR9tCJsII2VB1bLYtzjkE6oeG599+3ZfkHfM9uyVY6Y5kZJf8lz7Bwif38zcL9PMnW3IdHXUWoQ0XLWwFTXnxiPdyq//a6SB6MvHOsqdKj6BIPCagVcqbYtFQH17WsURZfmzEEi33TfWsrVCRb7etU4pgYWDDu8K/Du22ceE+/zexfq9o56/90upQXyzlrW4Es2FYHOSRProFIyfHNvEb4NpSmmZaBlrcPN01+V1K+RWeQl4g+qAjjQSXyncMQ+3ImuU20FW681ntj7QoAeAwKUcvoeazkMB4AUADak6A7r+l73rmBoxqGsQAoEXCedPj8SdQhDNa7bOdbUwFwX0eX1Fpo4Ra3YHs4ni5RXZ6Mdr1JBVu/Ij43gsvuK3Hl0Z65cKjLnyvlx9jnsmBJRAnc7jjDqUpFN7zRt0ooifFNlYpGgqby2r5NMN9RRhREYY+Qxs3bXUGJso0SdQR8tAqV2Im9M6yrWb9Uc8NcUVKG/D6KJlwto3VhCS4uoNCJIlO4sRYWz+5Pd2geXbSnCWvW5SYJjKJfYI54wT9BaiTm0Ka8GyOPnFnn/dREcE3t2UPq5+r3ot+aPaQ5Z0ILX9Klrx9NP+rzQXz1+cfi1FMXt60BsHVpYkt8nWYd2TOso1XcLGNM8dg7b6IMSzTffjs6FurGDqhNbB5R9OWCf1hOjwbLOIc1nzx+5iH7fxycuF7li63jPoVQCvETEpteDGY41AC731X8q8tBZMuas3fsG99w73r/eagT6BvdWw9Yv9FkcgazBXTcXsZtTJLs/PJR8sKxBKIWUssZG2lcKldRA88EnfJ+w+zoPvuUJ9RzUgx98E26pIW4p8U/fn9RGFmM6B2NNGMF/+LKIRT/k0Lcxfj97CLZ92fDCbmE9vZYSYISLGp7jBTcRWauDMqPMyw+KnL1i913yQT9qZpH/+lv375Yv0YvP+pB6L5ijVDZeTFRbsKGl/OYNlzEkuUc1wmF97e7dfR6xqMg2t1a/wYMI/Q6pNNzaz4Eb9usWZuRwBCIdYwl0Pm88KXL6Ut2lUkJkdx4bDG9QJIz/+VDG0/HwmzXsW4O8RxfVLVR2s4+R5nNfFFlkq6pdj+Jqs7GDekWNKvRFES1WVDlm7E/124ec+j5hjAEpoqlNyLh/p9UYZNeS0sPAVTuKPHZR/G5UCFmvarRMU4RjjDOUOhV5ZEOurUha3dzgmhVNRKB5gQ26S3hhbH8QztVv1wSiWyyftwpdl0RQ+XbUmZhqf7dHg6MAjY2Yg6yu33WGsV4Oi4qSnmnJ4CjUw3KsLyVOblvOolDr7q0p7ctrvxOBL1sToeXPd7hAlfZG53RT42fKKKf7B6tLkNJpwAECBdX5a+dmYhBmhZoO3nH2FNboxAGXgzzjzqE0ljzKHaPZXs9WOb3eRalx0n/TeE8QfLROTIyJivRuwhtN7yx/stdmsdFfMSqH3KhaRzTOODRpzvtuKMXe5/nbwzxH7PPgt4fWZinPUny5fnz4/rHvAtU413dENhqd62X39RTfOrlAqYK+ve+UUKaEL5p8ntbFtjjVXCK7PFg53BBTPejNZn22URCTzSiyypEiCJovs2eIljnLiJg3Mbg/fG61f1JhUO2ZOhvtvC/lh6cOnhvGqUs3DxoCPrEvBbVMajP3KGf1jlIj2mTv4evIodKbUOGodgRRRrwrUPcoEIR20di548iKgkn7UronS4kysk+Hm9tGUaXoT/z9W6oYe80LLB8zu8g/3i6Lhrb11EUpsX/GSEg01YUbiIy9SWTiqUX27jj0cm8QdDVvPB4iSU+YO56buXHaEtW10rGuE6n1ddgo0ybRJzgjAHT9LkIxSY8xkPP9I1l9i9y42OueotP23Yp5l84X6o6BQ6xGnHWkL39wAF41SVaPJlXOov9xBBNNk0tQn2lkk+aN0YK++UylYVWiWWfbTQmwax7OxJw7MP7/+5/h1yZjxD6QqCVLl6l1Kxf8fafJmF/s0ze45+ZD/3qrEegb3FsNW7/QZ3EEsgb3Os5NbpgPrhcjKgmNtgeC1EfIi4rF0AB+0Es46iy6/qC34qri9tCpSH71aPvQcNuHug0hnHdnr1DlxpDyvRtErJEiRs1i67cebz10xPgBKcNB6tTFhk5LQlxBiHpeXj0seMFKyxuvtfHcYwdRjFWEFsPX6JFUXgjRi8Ko9z8Vdu7V4y1qlX4pBYC/YwRqETFFLGedn4ucOK/I39/qzmUFQu8/XeTGfcP1mBG/5EX3If72sMghFAT4WYY6CIMqKCDQkyUphtqwqGAOrRhdSTHKg1QblsvU5hnZCQ23htxSLsWBdcI4sHhOoIk0qSHLGq9TzzLVb1v/jveJTPvVKqcPnUwZaurG3R+kf9ARGrW/19FY2bpBxYNa+ePtQ1uEEmotI7w6iHIuDHPVGlPaBRhf9ngyhOaDSCal+Mpj45HjwrfPkPIxHYC6cYY+CRqlWNnDpguHCqsxUfKukCdHWUBY+20/Dg4FL86da0PpKsjnEU6Wc7ap4VOdZtC5QYODwSWVmnK4W+FN6kRM7NcRKqZSsUbtlw87Z03Sw5w6jdrwvGr9MSExjOtEbvwE8eJOiglo27GzSN2657vXH0SO+0rIUfp+a30gzNlHaEI0HA2Tx0aLIPoLulu5v4luAsFbwpVPfXbdIUIL57OlarGOjjoB+di9W05dHGZ8yzFawNPN3kej9JoIIms7rH037ifCXmDJXbodz6scFcAHaAWlqIyglLhq+8Bfy14pNV72O7b6ScGBngNipOaBd9iSb3BejxOQ+iqKWeq89MKltm0FRAyKLa8ZtBWapJReARR0ODbUyUGdTYx6v79mKP+x9ksd2Zbaoun6r3XFDNdd2i+JyNTcGHkQSCx/SrgxV7d/L2P5cxGsvgx0SVYbyDqcoPpiXgO4sanUCOyFSVWnC7ogeNWVY526Sx1V9lto+8QZ791XRNjDL7GDyBFfboYm7rq/BPc8ediT8i045EuhhI+qLXmGdWc4nMQv3lXVUjrWVgDZ98HW4cEjuzw8VHA2dw84g9EHYZzRoLj98GosiBggNTkT2PY8faztu7UVNKHli+k+WceUNVjnzsexsbEOjNTYAdBTEMxi24t855jcKIcIMvt9p4Q/O/ObdSg0iTauWwvreteEhoh62LM9cq4IdHHMGc6WJNU2uusEGXPBwX2De35G9HO0GIG+wb3FoPWLfDZHIGtwP+0bQ8Pv7a0SisXh9a7jql9L+OHY1ICe55BoFbFt3d6QXGIY0sO8hsyxYcW4BUob0Z/p5hP55ZoicJ4hPvKDBLUD9DQg0PAgz9LhMlRDPcbSH/01/sBT6uXk/v7jIj9boCqnYXc+QsAaf30rFhWn4YYxfsCBTdWzIscbYRVbl0UQ8Lul4/EOE7/JIj8brRifIteUX9kj4716ujd6KLpXBWb8vauDQn9XlIz+HQvtjz2lWHinFWizvOltNry0acPyfR8wrsy8VHXojSGFc8vJFdsM5XG2m9yLRoo8d0OopfRQQF6rEWD7ACpu3xdErDOiCdepPUDTH8vXzVhsdb2IP0xidClNtn5PPeUjZWLUQ7l2vLCTGvXbGNy1rQvWFcGpaJOnBtGDaVODakqUb2AdeixwPj95eRD7PeD13N1X1wnBB01LwkC2REdAVXNYgzm/lb6TWt4eYiwdjeVpLkUg2buyVDj6u0V84cyl7ZcfEFGEaemoWIepRzjZSJZVjg4HmtKk9BlwhuPIpG+pNO86IuufW1qziD3EUiomJMbvbULPUyhPFf5ti26kP7HIIIw5y+4jcuSI6v5zFBxjzhe5Zpf8ePEtu6Cjf+HpnnKlMbLwvb5p/5ATQxbPH2QcyMsldqpoLJp+Z85eueLZxygOTY8i3GjL0ibFwtzr+n7XCVW/cIITpQFalLTI90SIACP5PURuPGLXQbir8xWkHnMcQW2v99K0bktnZyOqcrSEsXZiRlrogUDokoi44VubQuXH6oxxRoOW/xAE6jiBd/qwaUU++UgEKoh1Opz6peNQZzRkHt9uBIVxKkFZVZLqxCUVxayi99TXZO9h21d6OTj4QXqTrPg3VIw4rZqmOqSx1tXU2W/7YNc+zhdQj9jUxuBmy1uHNtFqrDF/uru7jdIxtwZ3qClmXrLSC7I1Mi8BBoF6z6WTF64oolJ5iZrh7NfWAZaLIkB36bzVQ+sTTCxywGu5Xg+9njpTeS2z0rGmBQAORPCwbuDY10QdqnPiv8tNIwT9nVhNJev8rjtj5kZLz8/kY2+CEwUn3nFQ4BkgU+nYWPpLbduCeez+qokGgtb10Fki1zVAxZcKBHu9Km3PO10t+KrN2sKZ7N6TRHB2xpDo/nlt/9vg0G6biP4DsPPFGUR+8PSAhs2Y0Yf1De5tx7NfrnYE+gb3/gT5PzMCWYP7md8OIdiptNz+QTTJplKDiBWWjHHywkmqFCyL7yiy6lH556IICzXu2o2TGrMQAwJ9Pd0CIjsYtEKudhCAHKBJB/+1G3miZUFTHzXj0Jr4iK9/nsjh01bXlHrHG7TrwnBjHNtwkoP29gleYmhfYh9pT13x22NFCMnXVIe60ANgik8RRNnCW4SPtg3dV8OqtuHpJ5TDPBX2i+Dhrg9XfVSR11ifc8/S03owj5froNrtWOAkmXzmXG1Dr3sjr82B2BtoT+XtzxmHYq3HeA/t4UIpZxTRXHoHdaHuzAl72GlCt+MN7vRH+T71Pbxur0oYsqmh1h/CDnhDZIIJw117GpwmYe46bjgITlm44v9XMV3brs770rG2hi0tw7zY8tqA3BygyJoiTvOUa6OOE3eTy0WYPxiJmoRc02YuvNcKLpK/xElq78U64ZbcNdAokSxCbPEdRFbtcPnmxkGve45Lfsdgo982ENEPnC4CmrXpd8EbDb9tBMAsl3fT+aFIURCvOJ+U6zp2z01R/x5hixPKol61jabc8JTz67rWhUOQ95IoNPREmgq9aj0YinDmKtKQ7yiOjhNNVEuOcsJSY1BvjGqM361QYyxcvGT+QQNhhTy1zKLbVutditouVT/0IDf9MFzlgG0ps/iN+QK/MwmRNgyXpcmL2NlyGFj4RpCartGx9q2jn/F4bUx4J6duKBLt67YOulm/WRm4vnVAcM40STE0Onz7GkGGcYN1o4n2Qwzxyv7oT/eEntkoMCvu2aTfF6wn8odbhpbAiabRVU3XDWo7YoTIv94fWi+cwqCLiSbkPtqgi22tOCX4Bh47W/gVap2PPwz/bht5+Pe3RY6dvX4U26LyqVUjcDBurvCjoQZsr/HR5HmS169bsfKlhk6rIbHMXkH/CGOqTYBv+AZ/0Zxb6vqci4geeHb3VU57HHhQwTRJOYM7nO8WyFA6Hr4PoM1ffTiso6NHhqt2/ePvNnV7ZxjvPedR9qU4TS0lWxNnWGwMY/v5NhRVtu6YphfvIxHgf36yylk6NjF6O0traiNU1zxN5OubNJktZe+MrbEJ7dPvLgxUZbccVNXgnSQ37i9yfydqNSYEXno3H38kAiVbHbUgdfUSoUP5S7cI4uXQie7/ygBtzpjLjusb3EufUz9foxHoG9wbDVc/82d5BLIG9yYiYzoQpQcEiySO8b4/eaXI5VuFWhU1nRtsdRCA8GIToKGFlFMOVeWY9AbgXN14yfGWkxQh8P6fg9AehgnEsmIbekQhVzgkbFotJ7417NhNJCFh9I2wQARR4PzWZMPj9MOeQjOx4VGErL83L9DmKUr8Zgnv+kNnBn7Db+wsMmEnZDO2+VUOOR9+7CMZHjyzW0RWwwVThnxC8vf7U7gTr8rOb6UbPPJesa3IE5d2j4oaB39zeCWCptQhubnhr/NM4CqGt90nDqUYAaB9IWEAncNx5Ofaw6Dw1JVDBXWIOEFg6uyVOmjdOUV2eShXW3U9Fs3AVUVC2+fdhPs1ZnAfPJjPFjaJiN3B0cphFYRfKb3CwLN3YcZKgcM1QiUvMZv0tggQ67xTgVqrN1BKJ6CjjdEFqhPQyy/dF6ilSBjLWDN4jw6fLvyGMWo1E0WUe6LWCOzzgh7CWITBkgMkiPfSxHp3/Jwhd0yM0XI0N30nyW/1EywPqF1Xm1J7UC9GPL4NNhFhpFzB6INgFH372YDY2vrm0hHpdgaApv1uR1SMGqzjbZ2zRBZYv7xeS2HG++f1MmxNC2wY6LJKE8YE1qf3Xglh+NA62egrrQcBuXU737zSuuuEvkCmsjZ98u8wx604d2n9mu/kRUTeGRsi5NY8pZtbN7c2edQbYpcx3t4VflzxtLZB19FX5RP294cIK+NAahribxH6cNirQSg2hhtdIjLXKuWja6OYUqVUf6a81nTOQ6cW+fhfIhj34FBGUNrrqrRp5/AZRD76ezcyugkNmrbpQRREOBLdo3RAiNCjsaKIwJK+euoIyoC+V8OMnRulYBPfrqdk1OtED7zbEY5vI3w7ammRPz8x9C7VOYfBkG9ZU/2H2LixzzkUXaZPuq/u8ojIVB2qp5Lx1jwfvt8dCRMr+8NXRT4/SZNaq7xEuOJwnGbugK6+0Dm6vnezyEyLt6ubUimqOK0R4ziO6pIEXz7fGJyfgIEQDD3JnDWoQ50oJfWR58T5q7mVKmMR6G0iTs5aUeSVB8t6VCqaWlebRZ1jhLTOpiZnDtvGLT8SuSei/YGOx/lrVTmVzrTsbofmis13L97dtG4biaplObs9fklwPJIQTF9wo7KaU+vUHr8XmezLISpAx6Sp85ge2D2l7RH0Wu9FBHW9dlDJXdxxVNBTIPnzRVu9pFi7dv+d6peN1i7pu89jdZTYF917koy56uS+wb3NWPbLZEegb3DPDlE/w/8vI5A1uMdoD3I3X6rE7VG6MywUjBUzfD20YOlTSlGp560RQpJJhPArFzd/q8FdOcKtCFrunrhuhTBBBHI4xKBCuDWHLbiRCbm1SDvPB2wNMHbzYJ0LhHAutm2g6WHDiKAfIb+eJsIicWyIOX2ddITInk/FhU31Xi16+8L1g2CgptKNZMzgrptovP+/2qmqk+cK76smf90iQPXQ5p+LIpdV4NVeL+0zZdSLb8srhUUdj3TJPNE8VoDUlgNVhoEdLlpSU849W9flWwdqEE0qvKdRHNMvKLJ9530o6XuKEgnuXpxM1oGVivKItTM4T8YR+XFHaHdQ2Goakb3HBgcEhuA2xhw/D1lLtutwpKv4mPZrpwfCgbhpsmOjyKwT5g1GyyYiUbF2YyK4a55aiaQhFIUBvjRxmAYdH0sIi73+aDujiDU++SgZ2vJUR03eScpbqgXWkRUPCVFOCEKi+0FqSu1BGR+qzW+WHmOp3QMXLg4ynGEYBUqTd3hyz0QCMF9AmI3eMNSEiPU8HYHIkrpjfOWpcm2M10RGQREEIhBxWksFoe2URqvZfsWcobF+e+dEyZjYPPrO4LBibK0+Sg5JZg1XsbVN22GOqyBmEyOC7efh04t89I/6u4OHXZ3YJeNghdIxIiuveqxsUyPfPSd1I/ZidSo9UElfc3lUfB2DLXpArKdtqIx8O6p/YX9vgl7UchYtz28I5dJX/X5rvqaI7kOIXvq46h37sVFLBm5rm0rFuP39x9Y8n0cjtXLPyF4/Z1WRl+4Nv6izgX+rU/7UJUTeenp4nCbU66kD+a1pRIj2v45qR/O0MbjFxs9rGJGnje6BrdtqgsTa7KXvsaiLXKSQ74OCJurmk6U0arqvod6//knk0YtEZv6GCNE4OOcAasTALSqo3WR++7wx+ifN03R/o+VSUbxE+arhlrwHvlWu6xS7R+b7YdMEh+bgOtUBuLQdEx8NTT0AxAB5/PWFIPDO+1maYtGHWnarG0OEwcUd473qRJTWTb5YNDC/o5nCNaUG4zflLW9SP3ktDz0OzR3vEfnCpKEWS0ULIKoJkCjWj1yER69zxgPhYEN6/eO+wb3pnOjnLxqBvsG9aJj6mYZjBG6++Wa5/PLL5ZFHHpEnnnhCPvroI3nhhRdklllmiVb/5JNPyj777CN33x14+5Zeemk55phjZL755mvVnazBHWMH1C6aUDfnkF4X1hQTDon1DkGXK7ftvmINhDY0vZTjFMVtRLdiSekTNCQ2hqqvG8U6Xm7KgRQFiXNSx2HAbzHUEzySCAjNtET18a3bdCCYBSL9598KIdea7IeVDejVhk9Z0Uaxw4q9RzW6/2SqwBeqqXQjCTqBEEOLFFAO+AfOqFBg1OtFUz1333rniszX4cs9Z5WA+vVJ0eB+09GUB93Pa9rBELn6T0Vu/KHI/aeFlntBO6WQnhi4eD7X7h7aQLBxRAs+UsqyGcXZAjJXE32GYgCBJM97Xze/B599QpRq7+ercGxQ+qCfShMCgaAyv7FT0EUgXf69wM+qVBM4fQiBr9NWSLXn5wOUBCBNEI9jjl5tuLN7CblU4xkUDTjMjp4lPIM21Bv2XmKc/PY6ETJLd+ZL6Zj7MYFe6N2XgzMOow6IaUTAoLApTYS1HjpVyO0FUq7IcQAAIABJREFUXvnNrr+tjFvGUYDjdvoFhvJvtqH2iNFurf8LEWjN5D8iX99UZOytQVOkqSOW++7i8t9DBMoPDrnL7Bm44UmlUVr6LKxAcez5WA76poaRWH1EFoHUhToNgzSpDX1PjGc91l5KLL10LlohXASnlb7Ma4XE6sMQgXgnHMuEqYNo5fv+0DkiXxsp8vDZoRTOUXVotjnsU0fqwG/7ZSmwSu7fogJZ49UAGitrtRBK6i4xuDeNAqlr1+rusL9hzcaojcBkLwnqIuqyqY1gNuURp1TuenicoY3yUQV81xAgLU1HQq3U6R8gix++JHLl9kP31kTfLLVbaa1VvlSkoK2pjZ6JjdjAUWmRutDjoVnAd6ap4zJ1hzEDEzzgk0zTfEwoUWewaqppUteDmHDtTveLTGME45veAd/fE+frFkjWOppQ/KXatc5BIjlwXCKaXJowTrMup85gvp42zvNYX94eK3LKIkOvNF1XY3WnnDRQ4eC0b5Me+LnIDXsPLWnFO7nalJIv1hcbhcl1fw5r2v9U37UeNC02vri8Vq/15UvyPdeIhqZ7KOqy0WxElePUIDKO8x5c/4BPNFmgTvkdBAH0c1etSljnq4Kihmttsfpcvo9NxGpT9/fczRXdaSdP3+DeZDL08zYZgb7Bvclo9fP2NAJbbrmljB49Wuaff3758MMPBYN6yuA+duxYWXTRRWWKKaaQXXcNYYMnnXSS/O1vf5MHH3xQ5phjjsZ9yRrcPfUGNCZ4sVWUJtZizBATy/fM9ZXn2l7XTYYNuyvlsosdWLRuDO5s1EFHq5EFFGlpuvUQkbsNXYAvhzeesDoUv22be/8h3wKheJ6HVUtpKLs9KHiBLk8FAip+illFFM2f6gEbPIycVuyGvKUGd63XbpoU7euREIg8bWJoXCw3H/VYahUVDPT9hvcXB4RFWrc5fMUQ7rrZGq4QwBg3IfcDBcL86wWDD0kFOPOzJJ7Dh0xiaGZT9v5rIrMvL7LZlc1qTh1IiTI5u0N904bWw/fCchsSBokTBMNRU6Qg9XpOfiJDMNyDil5gA5HHRletN6VvsP1WSiicJghtKoq8DfWGrRf9BN6XVGpzuLPvEGMKR6tqUGg7lie9dJbY+cE4IDJKKPu441Yo6Sb0Cr5dWz+OHaXx0nxtxiJGlUSEBny+//yLyFwd3uG2xr4c6oi+f++m4GQtTTFxZ1uWdRDaBhw+IyLGhtJ2fD6+7Srq1uY9j3Fef2XFoXzSy+4n8q0OD3mbvt55bCX+yDfyuj1DLW3CzrV9IkOgH9J1zvJqNxGJtvdTJ6Su+ZpEC1EmJdgWG8emTuMP3gwCeHWpVwejrVupgTDiqzAw+5K1R7WZFVWZ2DvZVmzT6oAACtlodCX2qi02dV6qo4Hyiqy8fm+RBx01VBsHo/bp9ccDnzqcyDFtIRxV7NeaJEvxwF4D4ERsX9xG7DXWj9hzbBoRYuvNrdVN9751Y+fb6sXZr+2Ach+1VLdIchtu61i/f7pAhRQneoHIwzYJOknoQHFYAgZRujxfV1tnUqxPShWq19pQE6buNTZnejGGW/782vnjHIZtnoWngGq6Tvk2cyKkTd97K4qau78232ALfPLfLX/ObDs2sf2lnksVhAJV5L4d/ZPcfdZdh16R7xHnBUBVNjXVZIq1E4nM6Rvce3lg/bJ1I9A3uPfnx3/bCLz66qsy1VRTyec//3k58MAD5fDDD08a3Ndbbz258cYb5emnn5YZZwzCnC+//LLMM888suqqq8pll13WuN9Zg7sXSMFYBRrsuDmHhr5q61bwpK5HKWHJVY8RWXz7gLRTA1EpP/IN+wbxu1hiA8YHTw8eTdF7tx8pcmeNcCsfc4/sKBXSsmKEvu+Mx2LbdRuZrUAm+f/1D5Ejpq9K6qFBKS/0CqHgSs0w3Bs93dgpN73nKfSIV99nS62iSun0EbQy4a7wjk4+axC6PXJE6H0pfZG/V0/FwnXdEFmRu1421RitrGMK/vuX7w8GZYR/EP8j9XoI84Z9DPigLUAwt0EK2sMFyDtF4a19RhVGv/yPAnq3l2RDFzkwPnhGO9FK+gDVCUhUqJlUTDHWN9CJOzZAIfo6NFwepwlaFdfsEnL0aoDKiaG1QYurYCdrxe6Ph7X0N4d235Fy0Td5jrHDJ0ahJXYM831AMK+HsOWcQYR5CAq5SbLijJTTyA819hGWzkHj3/8VuKTXPbNJ7SHMPcaBbmtpqh0QC/G39W18mcicKzXrZ0lu1VYgbxsEYszADHWAIv21Dwj1LW/Exkr6ZvM8dnG1HlnqF5DRrHtt01vPiZy6aCgNDR1RD6Qd7hGZrl0kofjvsO1bG1RaSijdRj1oG20MiDE6IxDcvCOkUp2ekmdwxrLdKEPKNNWsiLUTo6Vr+60FWYzIN8LF0LBAZ3HYtGG90NT0G6BrD+VV32bMLwNC2KZeDO62nti62paCBEojeOZ5z1KI1zbOuthztOcAvd4LcvnuEytdhlh7bd6X1Dz3Y6681CXvRV0eG91DvuEQMKaeM5cPQqGkXoWLeWeYI6DeHzlHBFCBTysfGaIehyMh+AqdmSar+dRr/f45+vNX0/q9rlCs/Da3DY8j3dKs0k6bM4HtX47WiLPqd2rAI/5eiZgf9Y3qVytm7/O2iQZGL+OclQLdK6AheOE1+Yj4puh8rScWBbHGKSILbSaitLxtInfr5lWM7reXfbe2FdGh6xvcm77g/fylI9A3uJeOVD/fsI5AncH9gw8+kCmnnFJGjhwp5513Xle7W2yxhVxyySXy9ttvyySTNBP7yRrcvQFbecO9OJ7tUSnCPSZkRz2KbhpUy55EZP+IuEls9K2oaHQT8xuRszqInqbGplt/LMJmvUkqDSOr4wlE3AXU3jkrVy1rCLL+4jmb9dBgESug4jFqwykMKjKV2qJOlFOX/u75exGLFN/8mhBi7Pnr7KEYkdtp5w29smHLGMMwtCNyyj3sNkbkpx1aEsIDl+sgxZs8FwRpL944lJhyjhBiSNr/tRA+TqTCeJ8XOejNJrV257XIDVDAbIaeu0FkoilF4C/+7TEhP8I0CO62TW//QeQUQ0lDaDFzBUqLpmKK9MEeLtYaVVEVwSWrfW4qphW7N4sKgYYKCiEMGjN9Q+R7N7YbjRztU05MMdeqaiUwZ2ZcLHCHktpQvti2PL2S70db4yoGMoxw8GoiCoozySZ0LpYwdDu5+/fzw+aHqmaCL4Rn2ItgXs7grhRbJX3VPP5ApP2LUVeVUqL59r0Ohr9eSotmyx37laHRR3q9Df9yyZip4DJ52xr7fDTWWqcNpY9rW7fegxUxxompaC8iT+Y038qSe7Z5Uo6OPZ8WmXSGprWF/KctKfLmU+HfaJlYxKdqyzSpOUUXAlIavQNNa5wsAg9/02Q5abWsRaC34V5O9cE6eDTPcBjcYxEiTdH+ts8YboiAmXjK8CugE4QmNZXuezW/pbyZem6RnR8QsZRdmq+XiCzbfx9xGNPgaDpPyG/1BGz5NmLwsfZjxsmmESEl7zd5rI5Qm7HwZS7aUOQ5s5fpVdBQ6/8ToIqOEHJbmqTY/Vkj3lfXEtmg+6zZekhSRtrhckDQMQuU4W8o9NDVGo6k9IdaV6/Coymwme1rW2eYv18vctpGqNbXWReR2TRq0s8Nzq6sg0RIWDpb+mDPiE2eK/s/6F7HHa+71FU7dEe/EpGxXodOrkn95PX7VrSoAPjxfQNoxZlh144zq2ndsfyxKPCmml2xegc0S9B/+s/g1b7BfTgeWL+O2Aj0De79efE/MgJ1Bvf77rtPllxySRk1apTssEO3gYTfdtppJyHPEks0CFlHDGPMGFl44YUHOOQXWmihofftjcwqRlbH81mKfrJIMlpWASalwVDPfJONU0Two+umOHyCIiI13VzH1NlzM6XU4xw7aNXVHdvw2Q++GtxtmCXIAUKq//2vgKKK8fAjvschfbwJcnc29LryUKsIHaJiOcM1B1iElhCXXeWIqs7RG4s8e134GwE1uJzv+Vn424rEaTRE096yASM0kg0Yyu8auQBlEkbb31/dTrzT9gMnyAXrBL5+uE3vPana3LEZ+/C9kLuX8GjKe2MivKzndcQZlZe+yfjYebTdnSI/X3Zo6XXOEllg/Sa1xvOqngIaBSCyocGBpoRDZJuUc7gp1VKbuiljhV6/ukZFd9IL4o56cwcw6KpAVfaSXh0jcua3umtoE4pesg4qYrNNf31kiK9jkytE5lihec12XittkRUA1BrbGvuu3C6sd6m0x1Mik3Uic0p778Pkbbm29Bi5tq1WCGstAt5NkxVgRURsnTO6OU6pr1fjUyqqoA1Nhr+/o2cNVEOacJKiYdFW8OyC9SpKHZDQULgpfQpttEHVxhxTOCut9klbw+SQ9WgckVmWrqKHlttfZLl9m86KeH47NpqjV4ourceiO3tFpfren7Jot3OjqSELzYgL1w21woWOQDQJgwdRQiAx2RMTUToc6cV7RH7xnaqmpoCTVB8+/EDkrOVF3nqmygGyeb+XmvF/p+r3/MieTrHp2HgRXFu+V/CD78ubT4ucZs5kvTh8fN2gudk/s3cargStJfSWpG8dILLsPsNTcyzqqY3Qd11vLBUa+ab5qshOER2oNndkHRyUb3ImjbVXQqPS5psQa8vre7UBWcTqhToOzRdPhdoUHOKjtfS+Y/vVpnokuWftKbxKbRexeu84qlvwljwAntC0wdnelh8+dQ8nzh+ivm1qS4nj2zhyxup82hdNzc2i/vUeRqBvcO9h8PpF249AncH9iiuuEChlrrnmGll99e5waX5bc801B8RX1123s4GPdOP1118X/rMJeppNN900bXC3PKkUPPBNkfE/H3gbL9sifrOlgorvvipy4lerOqAieeNxEWgfNr1c5Pi5wrVp5hXZ6d6ygYVSAs94KllOVsLLQKmWJi8CWlKuiZBRDtlp24uFp8UM7qcsVglqzrqsyBbXhFoeOU/k1xEhLpDos0UMrCX3esN+Ig90eFf3ezmE+z97fUB07/PHkhqqPJduLoJoIAkDBYd95Ty3Na39c5Gvbdisbp/bOmkwMN95dPt+x3qCQRxDjR0fm0/fqV7uwhqaoVSAD53U1AhAGTuP6NthEXGyjS4RmauDsOql3yrohJPtlYcDfQ08/Rue367W+0fF54nW1gtKlTq8pgW/DYch581nRE5bPH3PbZE9tsaYoaENWtxH08R6DYd+aVSSLw+S9NAOijRWdxseT+qxxnUQ/7s/IfLb44bS7DRFaGkffaSJ77tGhzWZ2acvXdF4QIn2n4+r0jgHvxSo5YY1QZ3Bd5jUhi+fclZ4mu83RvDj56y6iRN186t763bKSW2pydq2YA1P1EGE1feNuFrTei0tBii6t54V+XOHnmVgzW3B1TsEUTeZyOzLVd/NxXcUWbWGAq/uHj58v6JtIx8O4qX3ELmtYxRus26k2rPfes2DEZE2ek026mSJnURWObLXGqvyln6DX5s6IViP2WsQEbTiT7qpDoavl1VN/hszHFFqWjt7nIs2EBl7c/hlOI1L3mjd9n2xYxrba/cSlZV6Xv6MM1yo5U9jflCnpc1sI1BZ1y9v3ES0fN61h+9O7v6pyK0/quorEc8ubR0thDOWqXKr5kJpeZ/PU9zF6mnzTYjVYwW2uT5ytMjcxvHW9h4oB02LntP5G6q+ra5v5pgG8GT3BnrfMV704XaI2X0K/V9se5HvdCKPm44L+9Y/3i5y78kiL9xZlQZwgGHcnr+b1h3LHwMXzrWayEYX9V77odOIfPzhYD19hHvvQ9qvIT4CfYN7f2Y0HoGPPvpInn/eCVgkaplooolkpplmGnK1zuB+/vnny+abby433XSTrLRSN2/rzTffLCuvvLKQB+N5Kv34xz+WQw7pHJhcpiTC/b5TRW7av8qtiKmY91lzlR70QGcQVqtJhdVA9WBY+Mc71bXSzQeoD7j8UmmSaasw4Ka8h6kw7lRbTXmX7SEAEUKQ1nXJj0nM4G5D2edcRWTjDgIzhajd+laRGTv8tU3fAmu8gisV/n/4tCefReT7HdRMaZ2WYx0RnrlWjTt4eqUPoD9PXiFCyCiJQ8b9p4mwSe1F+DF2n3ccLXKHQfGTZ5xxRQ7+S7MNaqxuS5FD5IY6U9rwJGtUi/JcWwOctr3VDSIzL1n6NNP5LEoQVNwn/64opdrUHqNNsfX0iqq9bi+Rhxy/93CIIWE8PHqWoIsBJdNS3xe5waDLhsu46g0NbQ/VD50dxP1wrl6/V/xJla7ZsdJ1zscmTkxbt33P1WH5+KVDqU6+ubcI6M82yQoB+/JtoiCOnSOgyAbTOFWob5v6Su7JvpNtIiBowxpuiHbY5tYgUKvfdCi1vlsjQF7ST/LE5klTR3qsLR9qPtBWC6O41m31TBDoxYiI+DypjWYA5U76erceC04M0NAaht8rZYjVUeFbuMuDwUDMOo1xefzPlT6l+nxe8HpgTNYXWfes3uu3HL1L7iayktOw6KUFG8VBPcOFHO2lT3VlPTdvL+LCsXauJKLx4nBl3nVE1j93eO7EG+R6fRftusFcJrqSaILNrh5KOdHrHaAtY8Vqe1lDeu1LSXmihtClgZoCJ1DbiJ5YW16zqZezRqz+D94SOe4r1ZVe6EF8/d5ZNf3XRNBk6SXh1CTqhPMRay3RnZqGE53vRTB70SLx9+ud3kSQEyHdJHk6VX1HYrzonJU8LUyTtnze6/cJ2lGaSvXn6tr0ZwS0BNrqadW1EwMcDFfUSN/g3sus6pdtMAJ9g3uDwepnDSPw4osvyqyzzlo0HMsuu6zccYcRd+mU+l+JcEdoD3SWpjrvs+YpPehZxCUCSx+8KfLoBfExLN2ovvRAEEgpSaV12rqOm6sSUeP3kReJXLZl4Mv2qSmHpTUeINZ5yJfq78L3/7ofiCC+uMZJIl/vOF6ssRQ0CagSkkcmaEu9bMbsXOHwcv5aodY2QpXW4I5Rj9C8s1ccOh7DYVyxThqoUsacFxwFHMQQmxyulIqQaDMPfZ8sigU+cUX6LH+wCHy7TRKUQ9z/lxcKQrJQ7zC3bOplnth6rHCc/l4aIRO7Jx/66/MoJVaT8bB5Y9yVUCgd9FbbGqtyz1wfOP7RJUBjYZRxaPRKO6SteAPlcBx6f3N4xe2v7bQVn0r1045uWx5+Ky4MH/XWN4uMvUXkwvW6n10vVAue/sDW3EaA2T8veNsv2UwEOqOmB9vSGXrCV0Xe62imtEUyW+ci2h302/Llt4m8ifXfi56RZzi+CfefLnKjoUzhe7rmqaUjODSf5aHGMIt4Mc41UluRV8TPMbprwlEEpQw0ZqS2jimtz9IJDkcUT2r0+LbwjRlM44js+ojIlLO3H28tabmXS4Egpa1etpXIU1dWudc6XWTBjUpL//fn85FJbZ2tqZ5fvXO1f2+rgxGrm/3IYVN3X+l1z/T87SJPXC6y9O4iU35leA3Ltqc+qqzXfv/3z5rhaxED6s++JvK3PwWnHdoEqocwHK34+d3Ld9z3xxuFZ1xCZOubhqPXoQ5Pr7rLIyJTGedBLy15RwRUT+j6DFeye5Q5VhLZ5LJmNXvNFPuO+P3PcL8/nhq3DQWnv1uAZpwhfRoOY76v00dZNRWsTT0pNy59hHuzKd3PXT4CfYN7+Vj1c3ZG4J///KfceacJI6oZmSmmmEIWW2wolcn/Sg53L55V533Weyb0eIUfl80NwvARTyWEGPTU3RHU28RTi+z9h7L62JyfuliFHqsr1ebjbY0R1I1q+gt3iNz2k6EtNaVn8Qj1I2cKFBuxlOJIhk/Tcn5aPl7/wY/xF/fCkQeyTqlMQIAoFyQicdsNdTDVPlDqUaQeyDR4hFUo1Rbc+SGRqQ1VQdks6c5lESCEFL76cJiTw4kyocXHLhG5aruhPWwzD30tVkAQdLTy3a9ylMgSO7YZlapMDAX8/cdFJp+5t3opfea3w1jbhPNtBRMa3KSVGCrGlj/wrd6QmYSLxiJPhuMZ2n56epLhQvbYSAja2+l+kWnmaTLC8byPjha52miL7DVWZJIIFVFpSzHRRi3bVmiNgyfhz0RP6XsBjRH8wzYRXQStTJv0z7+JHB15L0rFs32b9pugEVMYccYdt03vyspYMce2gnwW0a2RVdbgPlz8wDGx8eEwJPo1DzHtz01cNn6xXBiDCAH/x9uBr5t1RHVD2obJe2MeBt+vjQwRWxNMKDL3au37G/teDfcap71DpPzhc8Jf7PVw5n5x2t76rqVtpMJwGFNsr369u8gjBsU9nFQNw3P3Q2ux60mvDhlfu6VbG27j0qdtePu0xpt6Y5Gnn2Z7/5vrhs+ayDhoK+dL05+2vgU71sNNWWOjzYaLK1tv1O8bet2n2gH8tJ0+z/8mIPRJm/9KZLblmj0+TyFovzOcIZUjftVjRRaPnJ+atdadm6gL6n9nbPi9V40n6rh0i6AB5tPiO4isenQvvR1a1tNtWS2QXlp69kaR0RVVa9/g3stg9svWjUDf4N6fH/8jI1BncP/ggw9kyimnlJEjR8p553V7T7fYYgu5+OKL5Z133pFJJmkmsJQVTfUGmpT3eacHAgcxPLMow086Q/Mx9KgyrWGNU0QW2qy8vhLqlwU3FVmrBWLNC5UgXPfnp4IIqU9NhQ5tKD/jnBoP2gEFu9x++TH5+XIiCPSQfBi/j14gT9vDP2VTNDXwv/7w5XxfbQ7LvbrsviJQo3iUE/n3+oPIJA791KylNNp/uA3uz90UeE59Gg5Dho3smHCKSvBv9Z+JIATUS7LIYK1n3xcD+r3XFAsX78Xgqf0hWgZhYbiorehrG5SxvUciSK7d/dN5hrZWz6E8HHOE+n1o9HBR1XiO0177i+Pw5IUq+i87Nr3w4MKd/dqjwcE7wRdEYrzrbYVCtY+sq7ceMlR0s6mOBfXZ0F6ihmZ3ore9vn+x8tbZ0RYNd/eJIiCkScqdffbKIi/fH34jCgd06XAkK1aLXgjitBice0neEdPrfPZ9IYIFzmGEzIlWaJusgWmjiwP12nAlL7I53GOg/bRUJF9dS2SDCDqw7T3Z8P7hpDmhP7ccXDm2+buttkTbe2tTzs4XaP+mmK1NLfEyj10cdHtIRN9ALzFcyfZ7qrkCvdFnJfUN7v99T8qOdVtncaq3lu97uPm4PTq/132qvwdFXfciClr3FNlTQRc3+7ebR4t4kMyn9Z2p6z/UT1C0DEfExZhfxu0BvVAV1vX97JUqAXbOyt8yFMBt37yX7hc5Z+XB0n2De9uB7JfLjUDf4J4bof71T2UE6gzuNIggKhzuzzzzjIwYMWKgDy+//LLMM888AxzuCKs2TVmDu+dEtx9DFcHRkHG8rQiqtt3EW4S03gjGDwzFTRF9HhGj/NBab1sUHCGRf32xGmY47RGKMt7gwYsY4zlQlybqxaA33zoiIMRJKSNtqaF51NKVOJun+okhl3uhrgCpDGLZpzbh6OetUQnPfPsgkW/uJeL5kYdL5Colvsd9DOfmL0V3NBxtvPKIyFmRsYciZ4H1S2dgPN8Ld4mc993ua8OFuI4JZELdoJRIvfU8lB7OA++Y8wPHqU3DjXbSuo+B8/ptkUmmE9nr2eEYCRHP49tUxyLVC7hff7ZAdXU45vS7r4j87WWRc50473DUrT2NIaSbOnhjY+K5eyebMTiim6bfHisCjRGpV8Hf0rY5/ENRBbfs1B3h8tKymo/7R2SOuuC6nWiKcAjlMEoajsgb2yfagaoAvlTa6jVhBACRDlJtrVHDE83Ta59i5e3aNly6GtoOQAKltRp/QpED3/g07kDk3lNEbj4g1L3ioSJLRcTc27aM1sR1e4bSi24rstpxbWsaWu6u47sjG4eLZm34epju8+cnC9+UXh1TXe/gJyH6C2cSYss4NIcrWcH54UbmD1cfU/WoQQzxxD2MUPKn3e7/xfrtejjcDjAbtYVhGSHw4UzDuU/1/WKfjTgzYq9Nz9LDeY+puvTeZ14qiK5+lhPnycOm7Ra4H/i2/SRoMw13+sV3/x971wEtVbFsCwmCkhQwkYMgkkFEkiBRUAQEyUHUJ+ozfh+YFRUDRkQfioooSUCCZJAsScJFkiIKSJKMIqBk+WufeT1T07dPmJlz752ZW/XXW1/unFPdZ/cJ3burdgUkQGHRSIia+qMF5gjh7vegiT+FgBDuci+kGwLr16+nKVOmWO3NnTvXkqV5/PHHKX/+/Nb/HnwwRO5s3rzZkqJBpPvDDwcWJYMGDbIi21euXEnlykW+OHYl3HetIhraJIQHJzugvQYtRBRP9GORi+hDyMFwi5Zc4ZMXLLRO/B5ItVYGiRNInURqg6oT/f6/4rhYiFftQmRHdvqxANOjzNDfSKJSP7ie6ND/yLob+xI1+t/CFn5MGxyxpDIe+oXog+tSIxqNtumwlkQ7lqaeRPBxfXovUY6LIh1B8/F2RRqjvf9Mreg6jeoYP9pAhAmP5Fa+O44iKq+R5ZEipkcv43w/+hy8fk1P0u/UfD8XMqZNJb8jqRQuSOv8fgQRUlFL1o901MzH65FUfo2jXgDbL7+4CkQCq5oEft97lj/t/vNjk0pP446232dPBYo4F7g69ufYnzvIuxfcazBV5AySPkjfhqTP/cuILi7o3Zcc6f7dikUOzuQdxAG+5wgE6PIVUVmPtXEiHStkJCLz6/w/RCiC7tc3Hf2AxODntwQKD981myjPFZH2zv54PQMRmtR+SeH418twTyDe1o8lurwC0VVV06oV//1iA+zITqL8xSKPoPW/N5F5RBbfhnFEKJbsR12CyFrPXEfzbznkPotEEPDkhhSvVVOmCRHmfX7a2+VDhVP9nD/52ce08gVJTASXIRsu75Vp1Ur6+TVlj2MT8rq7/O8DD0TzY+6KHmo13oRw93/YxGMAASHc5U5INwQ+//xz6tWrl7G94sWLW8VYuYFug7OTAAAgAElEQVSg79u3Ly1dGiAj69WrRwMGDKDKlVl0YQS9dyXc9/9I9GHtkMe0nAj4RVKgtzzNCgshSDR8wCZfj6wLRPBFalz2RRHuWAiY9MUfXE1U8OpIWwg/3kSkRjIGKKqG4mowffebF9pUrUbiW7+yo3uJ3rkm9fUiCyDSqApeDI9H5vtJnvKepgfhrke9+oG58gFtzI/qpsY+2kwO7gnEGaSJIM8C6zqB6Gq2CRfbHZ6a8AQxUuyGWL2GzlcawX7pRvNNt1i1nf27Su+erEKCE4naDiGqEtJp9O7AcCQIkfdrBDYjURTyBqbnHpNjItoyL1QIMs9VRI9vitVj+PkpXxBNZVG1HUbEJvMRfK41Ij+Wd6u/V5xx3vAu+edsIBNOLHYE+Hfr2QP+4wppp78OEl1aMva+ZqQHvJ+yZPG3B9++FSh+qyyaeY6/PRJvgkDmRoC/D7Gpi40lv4wT7lc3J+o6zi/PAT/fjwoUj4YsSDktq8/flsRbWiOAgswT7g5vRdXg8btt6P+jVsm5U4EC7LHUmlF902R5hXD3e9DEn0JACHe5FzINAq6EO6KbIKOiLK1Jg8NbA9q9sbaHaGLoSULzFkTzmRNEr7Dopid3EeXMG/k4z3yCaMVHgfNUCrfuW3mFlmy+gPRP1KYXRWn/WWTFht6rGiogq6fxazptVh9jGV8szl8rHH6pZVsQdRkT+eVvmkY0tmvgPK5drMhTpOYhRc8vMxHukWLtpS/9ryA6eyJ0ZLNXiOpoEiVe/OjH6Nrc6ne/yGtEO+LZhMSE38SFjr0fhXA5PiBbju2Nrq6EaSxAGiIaB9JZlxk2mKIZv/Q8B3icRnHlPP62igjmAz8QFa9HlDWbf77xfh1YORClmhY65juWEQ1j2tddxxNd3TT2/vP7Wpfzit27eBAEiH6YRIRilZU7ELUZLIikJwIIZEBAAwzRy52/TM/WpS1BQBDQEeDfXL8zfua9RAQZKVi06xoZscyBwE8ziMZ0Dr9WZG+VDemixz0QTKpGCPe4H62E7aAQ7gk7dNLxSBFwJdxBorxVJuQ2FkLWS+cQ5f5JQyJUJ/crIlW1yydj0RalQaQ8CtDkLxpO+PLId9WeH4UlQXSCND+6O5DCiFTGSIxH4+oFNE0FA2MZX6v4DQppng/18JpbiTqNiqTHgWPhC9EeSDO//t4QyYu/YxMof/HIo+ademEi3GPBwq4t6OKiEHGRmoEiQxXahiQXIkcpdIZpLPEr9JNVPYBY/KfluTr2//mFKPdladmi+E40BKC1jkjbaDXFna4XRaWRwaGs51Qi1CWJ1ea9TLT4f5rR0RYfjbUPcn7yI4BoND/1spMfMf+uELUrMN+JJlvSv16IJ0FAEAACfC7pd80TruEe7bpGRilzIAD5WmSScvO7xkpaI8mCuIRwT2uwM69/Idwz79hnuit3JdxBgENS5uBPRGmVEqWjDt1NFECLVY5F9/thXaL9GwNk7aP/k8fwa8Qhp7J7FdG47iGPseih835BHxnFDqPRf4TMA4rlwHQtdVPBwFhJ5teKEp06Gup96cZE3Sf6hXLa+emXP3yjoExTom7j0649vz3//ivRIIMm64MpRAXZhpnf7frhb87zREvfC3mKNvvEj76Ij8yHgF5b4e45REW1WiLRooK6FiDjsmaP1oOcJwgIAoKAICAICAJuCHDC/blD/n53OeGeFpIybtcmvycOAigc/W7FQCYpLEvWQNH7eK/xwREGDzOwItHx/bSm/DNUo9MTlJKSQtWrMwWCxBkR6WmcIiCEe5wOjHTLfwRcCXc0ieKoIJTjnbhzgwfEyrrRRFW6EBUq63Z0dL+nlcZ4dL0JfPT/3BU4u/0wooq3hzwhWvyz5kS7VoT+Fivh/vY1AfkOZeVuIeo8Otrep9950/6PaPXQUHsVbie6Y1j6tR9rS0d2BSZHuj32I1E+TeYn1rb8Ph9Fxd5mz6NfG1V+91P8JScCf+4mepdpvfZeTHRldDVRkhMguSpBQBAQBAQBQSDOEYB29vTHAzKNN/bxt7NclxuF7FsM8Ne/eEsuBI4fCHAn+zYQ5b6cqFitxLs+8D5HdtCag9mpxnXXCeGeeCMY9z0Wwj3uh0g66BcCngh3vxrLDH7ijXAfUJLoxO8B5DuPTV2M59zZQMFAFFGE5EysRRRHdyT6eVZopJv0I6r3WPyPPLIIXi8W6mfFdkTQcE8UsytY+58tRLkLxfdVoOjPgOKhPkYr9xTfVym9i1cE9Ewfv2sIxOt1S78EAUFAEBAEBIFkQiAtCiQDH9TuGdcjkH2NOi95WE2wZMJPrkUQ0BAQnkhuibRCQAj3tEJW/MYdAvIi9XlIRrYn2jKHKGd+oieh75nBNvsZouUfBDrx8FqiS0uaOwTi3Y9Ch9jN/6heqI1n9ieOvmxYymgzoq5fZfDgRdC8XmsBp158GdHjm/3Vuo+gS54P1YsOx5pl4blhOVAQICJoYL9yeQiKR9YTXcI2gAQkQUAQEAQEAUFAEBAEBAFBIJMhIDxRJhvwdLxcIdzTEWxpKmMRkBepz/j/dZjoh4lEZRoTXVrKZ+dRuDt5lGjBq0SXVyCqzvTlo3Dl+ZT144gObyWq9yhR9lyeT8vwA3euIPqsWaAbd04nKsE2DjK8cy4dMOnx99lGdHGBeO85EepEvIRiu/8zIdzjf8ySqYdWsWfUcPifJdImYTKNg1yLICAICAKCgCAgCAgCgkDcICA8UdwMRdJ1RAj3pBtSuSA7BORFKveGIPA/BEC8/TCJKFtOomtaJhYs2Fh5vWh4nxOJuI43KabEGn3pbawIyP0XK4JyviAgCAgCgoAgIAgIAoJAEiEgPFESDWacXYoQ7nE2INKdtENAXqRph614FgTSDYHTfxO9emXiE+6XVyS6f2m6wSYNCQIWAjOfJFr9GVGbwUSV2gsogoAgIAgIAoKAICAICAKCQKZGQHiiTD38aXrxQrinKbziPJ4QkBdpPI2G9EUQiBKBs6eJ+rPiqG2HEFXpFKWzDDhtz/dEKz4mqtqFqGT9DOiANJnpEfCrjkWmB1IAEAQEAUFAEBAEBAFBQBBIdASEJ0r0EYzf/gvhHr9jIz3zGQF5kfoMqLgTBDICAV2Huuc0Ia4zYhykTUFAEBAEBAFBQBAQBAQBQUAQEAQSHAHhiRJ8AOO4+0K4x/HgSNf8RUBepP7iKd4EgQxDgOtQ37uI6KqqGdYVaVgQEAQEAUFAEBAEBAFBQBAQBAQBQSAxERCeKDHHLRF6LYR7IoyS9NEXBORF6guM4kQQyHgEOOH+0BqiAqUzvk/SA0FAEBAEBAFBQBAQBAQBQUAQEAQEgYRCQHiihBquhOqsEO4JNVzS2VgQkBdpLOjJuYJAHCHACfc+W4kuLhhHnZOuCAKCgCAgCAgCgoAgIAgIAoKAICAIJAICwhMlwiglZh+FcE/McZNeR4GAvEijAE1OEQTiEQFOuD97gCjbhfHYS+mTICAICAKCgCAgCAgCgoAgIAgIAoJAHCMgPFEcD06Cd00I9wQfQOm+dwTkReodKzlSEIhrBDjh3u/PuO6qdE4QEAQEAUFAEBAEBAFBQBAQBAQBQSA+ERCeKD7HJRl6JYR7MoyiXIMnBORF6gkmOUgQiH8EJt1PtG40UaUORO0+if/+Sg8FAUFAEBAEBAFBQBAQBAQBQUAQEATiDgHhieJuSJKmQ0K4J81QyoW4ISAvUjeE5HdBIEEQOHOSaOcyoqK1iHJcnCCdlm4KAoKAICAICAKCgCAgCAgCgoAgIAjEEwLCE8XTaCRXX4RwT67xlKtxQEBepHJ7CAKCgCAgCAgCgoAgIAgIAoKAICAICAKCgCAgCAAB4YnkPkgrBIRwTytkxW/cIbB06VKqV68ejRw5ksqXLx93/ZMOCQKCgCAgCAgCgoAgIAgIAoKAICAICAKCgCAgCKQPAps2baJu3brRkiVLqG7duunTqLSSKRAQwj1TDLNcJBAYNWqU9SIVEwQEAUFAEBAEBAFBQBAQBAQBQUAQEAQEAUFAEBAEgAACM7t27SpgCAK+ISCEu29QiqN4R+DQoUM0e/ZsKlGiBOXKlSveu5tU/VO7xomUXXD27FmqVasWrVixgrJly5ZU4+HHxSTimPpx3cnuI5pxlWclvu+KaMY0vq8oMXvn53MiY5qY94BTr2VMQ+j4+axk9J0i45rRI+B/+/E0psn0rPg/Ut49xtOYeu+1HOmGgBrXzz//nO68807HNf2JEydo+/bt1Lx5cypYsKCba/ldEPCMgBDunqGSAwUBQSBaBBJRF+3MmTOUI0cOOn36NGXPnj3aS0/a8xJxTJN2MHy8sGjGVZ4VHwcgDVxFM6Zp0I1M79LP50TGNPluJxnT0Jj6+axk9J0i45rRI+B/+/E0psn0rPg/Ut49xtOYeu+1HOmGgBrX7777jm644QZZ07sBJr+nCQJCuKcJrOJUEBAEOAKJOJE5d+4cvfzyy/Tcc89R1qxZZUA1BBJxTGUQ3RGIZlzlWXHHNSOPiGZMM7K/ydq2n8+JjGny3SUypqEx9fNZyeg7RcY1o0fA//bjaUyT6Vnxf6S8e4ynMfXeaznSDQE1ritXrqTp06fLmt4NMPk9TRAQwj1NYBWngoAgkOiEu4ygMwIyOU3OO0TGNfnGVcZUxjT5EEi+K5LnNPnGFFck45p84ypjKmOafAgk5xXJs5qc45poVyWEe6KNmPRXEEhABOSDl4CD5tJlGdPkG1MhB2RMkxOB5Lsqef/KmCYfAsl5RfKsJt+4ypjKmCYfAsl5RfKsJue4JtpVCeGeaCMm/RUEEhCBvXv30pAhQ6h379505ZVXJuAVSJd1BGRMk/OekHFNvnGVMZUxTT4Eku+K5DlNvjHFFcm4Jt+4ypjKmCYfAsl5RfKsJue4JtpVCeGeaCMm/RUEBAFBQBAQBAQBQUAQEAQEAUFAEBAEBAFBQBAQBAQBQUAQiEsEhHCPy2GRTgkCgoAgIAgIAoKAICAICAKCgCAgCAgCgoAgIAgIAoKAICAIJBoCQrgn2ohJfwUBQUAQEAQEAUFAEBAEBAFBQBAQBAQBQUAQEAQEAUFAEBAE4hIBIdzjclikU4KAICAICAKCgCAgCAgCgoAgIAgIAoKAICAICAKCgCAgCAgCiYaAEO6JNmLSX0FAEBAEBAFBQBAQBAQBQUAQEAQEAUFAEBAEBAFBQBAQBASBuERACPe4HBbplCAgCAgCgoAgIAgIAoKAICAICAKCgCAgCAgCgoAgIAgIAoJAoiEghHuijZj0VxAQBAQBQUAQEAQEAUFAEBAEBAFBQBAQBAQBQUAQEAQEAUEgLhEQwj0uh0U6JQgIAoKAICAICAKCgCAgCAgCgoAgIAgIAoKAICAICAKCgCCQaAgI4Z5oIyb9FQQEAUFAEBAEBAFBQBAQBAQBQUAQEAQEAUFAEBAEBAFBQBCISwSEcI/LYZFOCQKCgCAgCAgCgoAgIAgIAoKAICAICAKCgCAgCAgCgoAgIAgkGgJCuCfaiEl/BQFBQBAQBAQBQUAQEAQEAUFAEBAEBAFBQBAQBAQBQUAQEATiEgEh3ONyWKRTaYHAoUOHaPbs2VSiRAnKlStXWjQhPgUBQUAQEAQEAUFAEBAEBAFBQBAQBAQBQUAQEAQSAIETJ07Q9u3bqXnz5lSwYMEE6LF0MVEQEMI9UUZK+hkzAqNGjaJu3brF7EccCAKCgCAgCAgCgoAgIAgIAoKAICAICAKCgCAgCCQHAiNHjqSuXbsmx8XIVcQFAkK4x8UwSCfSA4GlS5dSvXr1CC/S8uXLp0eT0oYgIAgIAoKAICAICAKCgCAgCAgCgoAgIAgIAoJAHCKwadMmKzBzyZIlVLdu3TjsoXQpUREQwj1RR076HTECa9asoRo1alBKSgpVr1494vPlBEFAEBAEBAF3BM6fP0/rDq6jKy6+wvqfmCAgCAgCgoAgIAgIAoKAICAICALxiIDwRPE4KsnRJyHck2Mc5So8ICAvUg8gySGCgCAgCMSIwKJdi+jB+Q9S3hx5ae4dcylXNqmZESOkcrogIAgIAoKAICAICAKCgCAgCKQBAsITpQGo4tJCQAh3uREyDQLyIs00Qy0XKggIAhmIQOUvKtN5Om/1YHiL4VTtsmoZ2BtpWhAQBAQBQUAQEAQEAUFAEBAEBAEzAsITyZ2RVggI4Z5WyIrfuENAXqRxNyTSIUFAEEhCBCp9USl4VaNbjqZKhUL/TsLLlUsSBAQBQUAQEAQEAUFAEBAEBIEERUB4ogQduATothDuCTBI0kV/EJAXqT84ihdBQBAQBJwQ4IT70GZD6forrxfABAFBQBAQBAQBQUAQEAQEAUFAEIg7BIQnirshSZoOCeGeNEMpF+KGgJcXKYr9HTt2jI4ePUqnTp0i/DszW5YsWejCCy+kvHnzUp48eQj/FhMEBAFBwCvh/n6j96lh0YYCmCAgCAgCgoAgIAgIAoKAICAICAJxh4AXnijuOi0dSggEhHBPiGGSTvqBgNuLFOT6vn376MiRI1ZzWbNmpQsuuMCPphPWxz///EPnzp2z+p8/f3664oorhHRP2NGUjgsC6YMAj3AfUH8AtSzVMn0allYEAUFAEBAEBAFBQBAQBAQBQUAQiAABN54oAldyqCAQhoAQ7nJDZBoE3F6kiGr/7bffKGfOnHTVVVdZkd1iZEX679mzh06ePEmFCxe2ot3FBAFBQBCwQ4AT7v1q96N2ZdslBFibf99My/csp7ZXt6V8F+ZLiD5LJ1MjcOafM3T89HG6JOclCQPPz3/8TP+c/4euufSahOmzdFQQEAQEAUFAEBAEBIFkQMCNJ0qGa5RryBgEhHDPGNyl1QxAwO1Funv3bktOplSpUkK2a+MD0n3btm2WrEyRIkUyYPSkSUFAEEgUBDjh3rdmX+p+bfe47zrIzirDq1j97HFtD+pTs0/c91k6mBqB0+dOU7sp7Wj38d00rPkwqnpZ1biHafex3dRyYks6T+dp4m0T6epLro77PksHBQFBQBAQBAQBQUAQSBYE3HiiZLlOuY70R0AI9/THXFrMIATcXqRbt2615FPKli2bQT2M72Z//vlnS2andOnS8d1R6Z0gIAhkKAJVh1elc+cDUlQPVn2QelfpnaH98dL4lj+2UNspbYOHbui5wctpckycITDxl4n0wrIXrF7VuLwGfX7z53HWw9TdGZgykIZuHGr90KhoI3qv0Xtx32fpoCAgCAgCgoAgIAgIAsmCgBtPlCzXKdeR/ggI4Z7+mEuLGYSA24t0y5YtVs/KlCmTQT2M72YFn/geH+mdIBAvCNQYUYNO/3Pa6s5dFe+ix2o8Fi9ds+3HVz9/RS8tfyn4uxDucT9kqTp49p+zVG1EteDfKxWsRKNvGR33F/Lphk/pvTUBkj1RNgniHlTpoCAgCAgCgoAgIAgIAh4RcOOJPLqRwwSBVAgI4S43RaZBwO1FKoSy860g+GSaR0UuVBCIGgFIs4D0xP+HdSjbgZ6r/VzU/tLrRERFIzoaVjpfafq6zdfp1bS04xMCaw+spe4zQ/JFta6sRZ82+9Qn72nnZuxPY6n/iv5WA6XylaLJbSanXWPiWRAQBAQBQUAQEAQEAUEgDAE3nkjgEgSiRUAI92iRk/MSDgG3F6kQys5DKvgk3C0vHU5wBM6fP0+b/9hMxfIUo4uyX5QQV7Pvr33UdHzTYF9rXVGLPm0e/6TnowsepXk751n9LpO/DE1qPSkh8EYnT5w9QZO3TCZEdFcoWCFh+u13R+fumEuPLQxlUzQs0pDeb/y+38347m/0ptH02srXgn4lu8J3iMWhIJC0CGCesPXIViqRrwRluyBb0l6nXJggIAgIAmmJgBtPlJZti+/kRkAI9+Qe37i6uuPHj9Nbb71FKSkptHr1atq3bx/17NmTPv88tcYqtNTffPNN+vTTT2nXrl1UtGhRuueee6hPnz6Wjng05vYiFUJZCPdo7is5RxBIKwRG/DiC3lj1BlUtVJVGtBzhezMLdi6g9YfWU6+KvShvjry++Ne10IvnLU7T2k7zxXdaOrlv7n209LelVhOFcxemWe1mpWVzvvr+ZP0nNOj7QZTvwnw07455dGHWC33xf/T0UcqdPTddkOUCX/yltZNJv0yi55c9H2ymafGm9E7Dd9K62Zj9D9s4jN5JCfVzbvu5dPnFl8fsVxykHwI7ju6w6lYgQ0FMEEhPBD5e/zG9//37Uv8hPUGXtgQBQSDpEHDjiZLuguWC0g0BIdzTDWppaPv27VSyZEm68sorqUaNGjRt2jRbwv2BBx6gDz/8kHr16kV16tShZcuW0bBhwwh//+9//xsVmG4vUiHcnWEVfKK67eQkQSBqBCp9USl47uDGg6l+kfpR+9JP/PPUn1RvTD3rzx3LdaRnb3jWF98//f4T3TH1jqCvS3NeSos6LvLFd1o6uXPWnZSyP8VqIlH6rPDg98n4VuOp3KXlYoZq1b5VdO+ce6lCgQo0osUIypIlS8w+09qB2qBS7dQrXI8+bPJhWjcbs/8P135Ig9cNDvoZ0mQI1SlcJ2a/ysGpc6d824TxrVNJ5Oi347/RrRNvta5oeIvhVKlQ6L2dRJcplxKnCPD3fyJlxyAyH9lZiZK9F6fDL90SBAQBnxBw44l8akbcZEIEhHDPhIOeUZd86tQpOnToEBUuXJjOnj1L2bNnNxLuGzZsoCpVqtBDDz1E770XKCQGe+SRR+j999+ndevWUaVKkS9o3F6kQig73xmCT0Y9OdJuZkWAL6SBgZ+L6c2/b6b2U9sHofXL94aDG6jLjC5BvzkuyEEp3QNEdjxbp2md6IfDP1hdzJk1J63qtiqeuxvWN36f/Lfxf+nGIjfG3Pc6X9ahY6ePWX6mtplqyRXEu+nEdaIUIH035V36bONnQXgrF6pMo1qOcoT79LnT1iZI9guy2x535twZqj6yuvX7czc8Rx3KdYj3IUzI/kHO6dmlgQ3L8peWp3GtxiXkdUinExOBRCTcQbZjk3vT75vo46YfU9XLqiYm+NJrQUAQSBoE3HiipLlQuZB0R0AI93SHXBoEAk6E+zPPPEOvvvoqbdu2zYqIV/brr79SqVKl6Omnn6ZXXnklYiDdXqRCKDtDKvhEfMvJCYJATAjohHtKtxTKkTVHTD7Vyd8f+J56zOwR9OUX4a77RQOruq6inNly+tLvtHLSdnJb2nJkS9D92u5rKesF0cmXpVUf7fzy++T1+q/TLaVuibkLaRE1H3OnXBxAfglR7squLXAtjb11bFo3G7P/11a8RqN/Gh3045ZhcfjEYbp9yu0W2Y4Cqxdnv9jYh+nbptOTi58M/ray60rKlS1XzP0VB+EIcA1+t7ET7AQBvxHg7+o13dZQ9qz2m3B+tx2tvx8P/0gdp3W0Ti+apyjNuH1GtK7kPEFAEBAEfEHAjSfypRFxkikREMI9Uw57xl+0E+HevHlzK4odGu+6XX755VStWjWaNStyfV23F2lmIZSdpAEg23PnnXcab5DMgk/GPx3SA0EggIBOuM9pP4euuPgKX+CZv3M+PbLgEctX1ixZaW2Ptb74hRTJXbPvCvMFSRkQUfFsN0+4mSANoWx55+WUO0fueO6y1be/z/xNtUbXCvbz2VrPUsdrAkRGLMbvPUjKJEIE4vNLn6dJW0LFbkvmK0lT2kyJBYZ0Obffsn404ZcJwbbcnseXl79M434ORFE/UPUBur/K/cZ+vrXqLfrixy+Cv/kpHbXtyDYqnKewSNUQWfrZ0NGGZcuSjb7v8X263DfSiCDwzfZv6PFFjweBWNJpiVXLI95tyW9L6P65gfdWnux5aFmXZfHeZemfICAIJDkCbjxRkl++XF4aIiCEexqCK67tEXAi3CEXkyNHDqu4qm7Vq1enM2fOEGRnnGzv3r2E/3HbtGkTdevWzfILP7plFkJ55MiRqa4devnQyZ8+fTq1bNnSCG1mwUeeW0EgXhDQCXcUH0URUj9s7E9jqf+K/pYrFMZc3mW5H25p2Z5l1HtO7zBfM2+fSUXyFPHFf1o5aTi2IR0+eTjoPlFkVJb9tox6zw3h/VC1h+jeyvfGDBO/96CDDj30eLf/W/h/NGfHnGA3sTmFTSq/bdexXXT5RZf7lm2CKHREo3Nb12OdbbHavov60sztM63Du1/bnfrW7Gu8xI/WfUT/XRte88aPTJavfv6KXlr+ktXm4o6LKX/O/H5DnFD+Xlz+Io3/eXywz35mIiUUENLZdEeg+fjmtOevPcF2UewbRb/j3WZsm0FPLH7C6maiFSmPd2ylf4KAIBAdAkK4R4ebnOWOgBDu7hjJEWmAgBPhXrp0aUIkOwhg3VBA9cCBA6TIX7uu9evXj1588UXjz5mdcNdBmThxIrVv357uu+8+Gjw4VLhNP04I9zR4EMSlIOCAANfRxmF+FcSEr0FrBtEnGz6xWs9/YX5a3GmxL2Px7e5v6d/z/h3ma8JtE6jsJWV98Z9WTmqPrk3HzxwPuvcrUhwOoaX9wdoPLOmPeyrdY0ukRnNtnLjA+e3LtqcXar8Qjauwczjh/k7Dd6hp8aYx++QOtv25zYpsLHRRId/8/uubf9F3e78L+kOkJyI+/bRZv86iPt/2oWsuvcaSq7kgywUxu390waM0b+e8MD9OGRZPfPsEzfg1IMHQrXw3euL6AHGlmy6xg9/9INz5vVG1UFUa0TIk4xMzGGno4ODfB+mxhY8RMh9eqvOSb4WAH57/MC3YtSDY8287fkuX5LwkDa/EP9e7ju6ynsF4l/zy74qTy5O+KT+y5UiqUqhK3F/klz99Sa+ueNXqJ96lX7X6Ku77LB0UBASB5EZACPfkHt+MvDoh3DMS/UzcdqJFuGOB++ufv8bViGHROODGATH1ae3atVSvXj2qWbMmzZkzh7Jly2brTwj3mKCWkwWBiBGoObImnTx3Mnien9Iezy55lncr4MMAACAASURBVCZvnWz5zkJZCPrOfpAuXKpGddzPfkcMoscTqg2vRmfPnw0e3e7qdtSvTj+PZzsfxjF56vqnqEv5UFHZWBsY89MYemVFqKbJDVfeQJ80C2ykxGKcyHm13qvUqnSrWNyFnTt0w1AauGag9Tc/sx86T+tMGw9vDLaVFgV7OS5+STzdN/c+Wvrb0jCMnHzziPiu5bvSk9eHdNq5Ey49g79fmPVCWt1tdczjqJN863us9428RucGrBxA6w+ut+Y3fmbGQMICUhYwPzcvdTkqP+/pmAfLwcHcHXOtDYirL7nawsOPzaO07K/4To1Ao3GN6OCJg8Ef0mJzNC1w/3zj5/R2ytuWaz8z7NKir+JTEBAEMgcCQrhnjnHOiKsUwj0jUJc2HYumxqOGe4epHWjT75viauTKX1qexrUK6LhGY/v377eI9uzZs9PKlSupQIECjm6EcI8GZTlHEIgOgXP/nKOqI6qGnQwiFYSqH3bvN/fS8r0hGZn+dftT6zKtY3ata8rC4ZCmQ6jOVXVi9p1WDs78c4aqjwiXGWtYtCG93+j9mJs8efYk1RxVM+inYoGK9OWtX8bsVzkYsm6IFT2vrEjuIjSzXUBuJBbjpOpzNzxHHcp1iMVd2Lnc9x1l76Dnaz/v6hs4omCwEynYalIr2n50e5iv77t/T9kusN9Idm1YOyBSbfvT5067Ss/0nNmT1hxYE9bSjLYzqGjeosbuPb34aZq6bar1W+drOtPTtZ42Hqdr2le/rDp90SKk6R7ptavjdcL9v43/SzcWuTFad2HnIeK65aSArF3NK2rSZ80/88UvnPB++/VO+uf8P1RtRDXC/1fmV0bPh+s+pP1/7bcyGNKi2C3Hw+l+820AxJHvCNwz+x5asW9F0C+ym5DlFO+GmgeofaAMG4HYEBRLXATUO1A27hJ3DNO753+e+pP2/70/bjJghXBP7zsg87QnhHvmGeu4ulKnCPenn36aXnvtNdq2bRuVLFky2O9ff/2VSpUqRfj9lVdCEX1eL8ztRepEKCdbhPupU6fopptuoo0bN9Ly5cupQoUKrjAK4e4KkRwgCPiGwLHTxwiSMtxAAIMI9sO6Tu9K6w+tD7q6r8p99O+q4VIw0bSjS5zAx8CGA6lx8cbRuEuXc46fPk61v6wd1lblQpVpVMtRMbf/9Zav6bmlzwX9XJbrMprXIVw+JJZGdNkQFG1c031NzBHHnIzrc10f6lGhRyzdDJ6LRXmV4SHJA2jDQyPeyZBd1nVGV0s3fdyt4yh71uzGw3Udfhy0rPMyypMjjy99hxOOy7sN36UmxZvY+obOOcYfGQI3l7zZ9jjTRsHXrb+m0vlLG895ZskzNGVrqBjs3PZz6fKLL091rK4NX6FABRpz65iYsdAJdxRtRfFWPwyR7RhrZX5I4MDXX2f+ohtGhzYr/craAGFQb0x4fQM/MnrW7F9DPWf1tGDw692sjw8fR9wXuD/EEgsBPCt4ZpT5+a5OSyRQWwI1JpS1KtWKXq0fkJgRSzwENhzcQPfOudcqro55qp+b3OmFBoJFsKnv1xw7vfqdqO2cOneKWn/dmn47/hsNqD+AWpYy149Lz+tz44nSsy/SVnIhIIR7co1nwlyNE+G+bt06qlatGj300EP03nvvBa/pkUceoffff58gg1K5cuWIr9XtRZqZCOWePXsSiqd+/fXX1KqVN6mAzIRPxDeXnCAI+IwAIhubjA8n8/yUOblj6h300+8/BXvtl28QgSAEuflFbsUK8Yq9K6woOiwKuR06cYhuGndT2N/K5C9Dk1pPirVJ4gUm4czv9HmdfEUb09tOp2J5i8XUd07G+VWIFR364+QfdOPYUDS0F5wfmPsALf4tUGPgtfqv0a2lbjVe2/WjrqcTZ0+E/Tbvjnl02UWXxYSFOhnR6jVG1gj6ctL51zNUnIjjOqPr0LEzx8L6iI2F8gXKG/uNDRwQ+crqFq5LHzUJkVfq73oR2VL5StHkNgEZqVhMJ9wbF2tMA28KSATFaot3L6YH5oXIe78Id722xOM1Hqc7K94Za3dp59GddMukW8L8ZL8gO6FwapYsWaL2P3rTaHpt5WvW+X5tlOid4ZJlvSr2ov+r8X9R91dOzBgE2k9pT5v/2BxsHJvm2KCJd3s35V36bGN49opfz3q8X3sy9u8/i/5Ds7fPDl7a/Dvm+1qfJa0xW7VvFd01+y6rGadvb1r3IzP5h4we5PRgJfKWoKltA1l7GWluPFFG9k3aTmwEhHBP7PFLuN5/8MEHdOTIEfrnn3/ohRdesIj122+/3bqO2267LUiko4DnkCFDqFevXlS3bl1aunQpDRs2jHr37k0ffZR6YekFCLcXaaSEMiL1UAzvwmyJlQb5xhtv0BNPPGFlETz5pFn71YRnpPh4GRM5RhAQBMwIoKgkoj90W9t9LWW9IGvMsME32lDWpFgTevemd2P2O+HnCdRvebj2uZ8FSKPtIJ/cz7h9BhXNE5Lr2HVsF7WcGB5dc9XFV9Hs9qEFZLTtzvx1JvX9tm/wdKRbr+uxLlp3qc57aN5DtHD3wrC/ty3Tll6q+1JMbXBS9V+V/kUPV384Jn/q5K1HtlKbyW2CvgrkLEALO4b3X2+IS66AFAQ5qJseOa9+n9Z2GhXPW9yXvuubBQ9UeYDur3q/0ffe43up2YRmwd/syCREeV038jrrOEQFnv0nUEcA2RXIsjDZC8teoIm/TAz+dGnOS2lRx0Wp7435D9HCXSFs/ZIb0jc2vGyaeB2Aadum0VOLn3LFzas/ddzAlIE0dOPQ4Gk9r+1J/6n5n0jdpDpej8hXBwxtNpSuv/L6qP0P/2E4vbn6Tet8aKxPvC003lE71U7U9b+F8CRCttOOozvo2gLXxrRh4tcYufnRs2MSZeMEdRpGbhoZdnmJcv8hWwYbbSj2GsummtvYJtLv+iZsi5It6I0b30iYS7h79t20ct9Kq7/dr+1OfWuG5mwJcxFp1NFJv0wizNuQxXZR9ot8a2Xc5nH08ncv+/6tVw4xJ0QGWiQFzN14It8uXhxlOgSEcM90Q56xF1yiRAnasWOHsRMg1O+8MxBxhAh4EMOffvop7d69m4oUKUL33HMP9e3b17Gwp9PVub1IIyWUkeb+95m/6arcV0X0Qs/IEYCETJUqVah48eL00kupCZnK11Wm3FfkpoK5ClLeC/OGdTVSfDLyOqXttEMAUZ7nzp9LE03ZtOt14nnmETe89ws6LLCez1itxYQWtPv47qCbulfVpY+aRreZyfsy9qex1H9F/7Du2ZGksV5DJOc3H9+c9vy1xzpFj5Le8scWajulbZi7fBfmoyWdAgUWY7GpW6fS00vCNbb92jRBv0z637FGHOvktZ8LUP2+9hINzDcV7ql0Dz1S/ZFUQ4Jvca3Rtay/Q1ZHFcD9qtVXFjHiZOfPn7d+diNP9hzfQ80nNA+66liuIz17w7NG15sOb6IO00K693ZkEveJTSBs/sCGNR9G110RIOJ167esH034ZULwzzmz5qRV3ValOu6+OffR0j2hYqx+yRlhgwAbBcqQQYBMAj9MLwLsFwn34vIXafzP44NdvKXULfR6/ddj7rIeOa8cxqprP2zjMHon5Z1g//yuRbDvr33UdHzTsOv3C2s4hSTa4LWDrfsERX0h1eCHYQNz97HddGeFO22lpWJp555v7iFkQuGZwkbgxdkvjsVdmp/Lv2tozOmdlOadiaCB/t/1p7Gbx6bZ/RdBVyI69NMNn9J7awKZ137XNomoI3F0sGmzG/Jvc++YG0e9tO8KNrlRh0NZt/LdrLoZYhSWwYV37uPXPe4bLIPWDKJPNnwS9Od38XWVGflKvVfottK3eeq3G0/kyYkcJAgYEBDCXW6LTIOA24s0EkIZC/QfD/8YxK5CwcTQvly4cKGl3W5n/Qf1pzadA9GH+jVFgk+muaky2YUePX2Ubpt0G6HIJKQJ/CB+MxmEni8XEdeKfOMn+ZXu2virxnTg7wNB134VVBy1aRS9vjKcyHKKBPYMSIwHglwCyQR7q8Fb1LxEiDjdeGgjdZ7eOawFEMHQQo/VdEkZ+PNr0wS+bp9yO/3yxy+EYqwbD2+0untziZvpzQaB6NhoTI/O9lrY1EtbSDtH+jm3lV1XOm7gcS3yTuU60TM3hEsWwReXBQKxfOBE4N4e3mI4VbsstJjm7SJKsdfsXtZzAIJgaPOhjtHwenR+0+JN6Z2GIVKU+169b7XlW5kdmZmyP4XunBUINEBB5O/2fmf9t1NRT508xvEm/0iRxwaHskg2kbAJNXvHbGpTpg0Vzl046MNUYNiO8PdyP+jHfLL+Exr0/aDgn/3anHp2ybM0eWtITqfWlbXo02afRtPFsHNMG2o4AMVeUfQ1WtNxGHvrWCvq2i97eP7DtGDXgjB3fhLunFD1qyA3L6ibFlrlet0UPzN7/Bo33Q+k0PDuUwZiCQRTvJuepYP+IvMr3gtu6pHcfj4z8T5mdv3jm93qmFg3/U1tYbNj3YF11ia3qWZJtPjpWUqtS7em/vXCg0ai9Z3o5yFD7qH5D1mXYZdJF+016nKIyNJDG34Y5nRY4yjz+py68UR+9E18ZE4EhHDPnOOeKa/a7UUaCaEMfVauf5wohLvbwP9w6IfgIUK4u6GV+X7nha4SJZIqUUdJX9ip64iVyFF+bhxzI/1x6o8gPOUvLU/jWo2LGa4vfviC3lr9VpifeCAubp5ws1WcCaYXaOJR1xdlu4j+Pvu3ddyabmtijqIc8eMIQmFTbuNbjadyl5aLGWs4UBsJta+sbWn5/n7yd2pQpAF90PiDqP1zEhhO/CxoZ8qA+PKWL6liwYq2/X168dM0dVtA39PuvcPJONzLm37fZB0/pMkQqlM4vPiwaghEN65VWe/KvenBag/a9kPfmCmdrzR93Sakpc5P1COf7RZ8fEMGMidf/PiF5eaDRh9Qg6INjH15efnLNO7n8GfV5L/7jO609uDaoI9c2XIRNje8GArbInIRZPusdrOCp5iKhOLHVV1XUc5sOb24tj3GROYv77yccufIHZNfnIzC9zN+nRH045dmrOn5RiNf3PwFVb+8etT9fv/79+nj9R8Hz3/zxjcdC+9G2pC+4Zonex5a1mVZpG5sj+fPVtfyXa0o91iNy3PlzZGXlnYOZW/E6hvn/3D4B+o0rVOYK69EjR/tR+Oj7pd1CYEQytKC6IymX27n8He6OtavZ92t7Vh+F8I9NXqHTxymhuMahv3gV8akcsozcupcVcfakPbLOKkMnzcVvYkGNQpt+vrVDgL13LLo/GrLLz8Ldi6ghxcE5AT9Jtz1gICRLUdSlUJVfOn62gNrqfvM7kFfXt/jbjyRL50TJ5kSASHcM+WwZ86LdnuRRkK4Q7v95z9+DgKJ4mbxHpnhNupYXCMNXpkQ7m6IZb7fX13xKn3505fWhbcs2ZIG3Dgg84GQTldsR7h/2ORDqle4Xsy9uGH0DQQtUmV+EVA85Vr5vqviXfRYjcdi7nMsDm6ddKulzQvTU0yX/LaE7p8b0OKGzrWS2oGkDKKCYzETHk7Ry5G2pcaxWfFmFmGETYXrr7jeitaO1mb9Oov6fNsneLpTJHekbXy07iPCxh03ROMjKt/OeCSUHeG++ffN1H5qe8sFng+MKWxgw4HUuHgo0om3UefLOpb0hbIWJVrQGw3sdWd1Eh2a6yiOafr269r9dgu+vov60sztM60uoLiwkh96t+G71KR4eNFk1U+vcgwq+0Gdh34iYtzLop+/f3jfcX9h8wqWhbLQeQrI8cxtPzfmqEO+uFd99sMvfOkFZNH3JZ2XEIhbO8M99dSSp6hk3pJWVowJN50YV75i1XB/c9WbNPzH4cGuRVLk1Quxo0uRRJL94OWZRzE81M1Q5pXwcPINLeHnlz0fPMRrRCQ2iVCs2q32ybLfllHvub2D/v3KcvKCV7TH6PUUsPH6cbPQRk20ftP6PL3IJtrzO4sj0mtAxhO+e8j2s5MU0edliRCVHykOkR4PiacWE1uEnYasMmSX+WUIcLtj6h2+vk+UMxQgRyFyZTUur0Gf3/y5X123/Lzy3Ss0Z8ccKyPObSMW/AKKqPsV7R3LhczfOZ8eWRCQ8PNSbyeStvQs3vcbvU8Ni4Zv3ETijx8bbfF1N54o2v7IeYKAEO5yD2QaBEwvUixMQFIUy1uMDuwMpKCXKVPGiAmi2rG4xCL71NlTtOXIluBxpfKVolzZcyU0ltCxwwJTmV40KpINiYQGQjpviwCPrEyU1OVEHE4Q4SBSYeUuKUf7/95PR04dsf498KaBhCi2WK36iOqWNJAyvzQ3TYRqj2t7UJ+aIQI31r5Hcz4vEvtC7ReofdkAOQubu2MuPbYwsCGACJt1BwNFTWe3m23V6IjFTIScXxILXHu03dXtrH7ju1SpYCUafcvoqLutR+2CwMZGj5MhAg2LypL5SloFVvGdNBnkhiA7xE0fD/08TrjXL1yfBjcZnMr19we+px4ze1h/R0q4kg8Bid2qdCtjXxqMbWBlBCirW7gufdTEXMcAc4XKw1MXMV3YYSEVyFUglX/ohUP6RZkd4aj6gOcPaez/+uZf1il6FgZvgG98OvlvPK5xUFpHHQeZJBCJbsaJJeDyYeMPLcIZgQbtprSzTkf0u8oamXDbBCp7SVk3t46/z9sxjx5d+GjYMZAuw/wqVkNaPC8gC3+fNPvEkvGxs4ZjG9Lhk4etn0EGIHNEJ91Nmx84HvcRcIvWXlr+EiH7QVmXa7rQU7VCxWTt/CLDaOiGodaxKFxoZ/q9j+cVOvF+mZ494sfm5ZB1Q+iDtaHMHS8FQvFeQEFEFJ4dc8sYx80mfaMx1veoX1g6+VGZKOoYfL8QKeqnHfz7oBVFXzp/ad/c/nvevwkbmNz82vSPtpOdp3UOyrLphdWVT51wf7nuy5bsVqIY6kJAGg399ovQNdXAwbx1/G2hmhmx4sM31OHLjw081acP135Ig9eF5hT4juF75pfpGvFOfcecvO3ktvTbsd/o8xaf+xbxHe218G8yJEQhh+iX6ZuFqM2DGj1+mF7byOvGmBDufqAvPkwICOEu90WmQcD0IlWL4isvvpL+W+W/1mTcRLjjgwmdXBDuZfKXsYpGbjuyLYhdkTxFYo6EzOiBSLWJkL9UmK6uEO4ZPUIZ3z4v1te2TFt6qW7qwrsZ38vE7wEKMt/2daDIDyahkNvwQsR5vXJE0FQfGS534FeE4wfff0BD1oen+/olKeD1+kzH8WhfyBugT8q4DjPSiZW28aTbJlGZS8wbsF778taqt4IyIeoc6McjYjZW4/IevSr0opQDKQQ9UiepEy9tvrP6HRr2w7DgoV70/XkBLKeCkbq0Bxpxi97VtT5Ncis8OhVYqP4/X/t5gga9yZp81cTazFLmFJXHCX3uy64oqy6tZFpk8401bBLcfvXt1HNWT8u9E5Fj2rTQ/WODoMbIGmGbavD7XZfvPBWC1Ikl9SxwHJBJsXJfQKIGeujQRY/FTAVIQZL6IdmnR1yjn283eJualWhm22Udg7sr3k2P1gjfEDBF6sKhkySQF4z0tr3KHNhlJuht6hH/+B3ZGn4VN4U0C4JZlPlRx+P5pc/TpC2Tgj6xaYrNOifjkituUl663JXfpKGXcY/kGJ3Iw7l+k9aQCwEBCPk5tw2qSPrea1YvWr1/dapT/CRSI+kPjuXPjknmzG7T1Y+N+Uj7Gs3xXKvcy7PjtQ1dAx3nIVNwZrtA5pYfphch97MOzmMLHqO5O0MFXq+4+Aqa036OH922fERSCJzPY7DRjA1nJ5u2bRqdPHuSEHDhJXMt0ovimaGFchWi+R3mR+rCeLzpWfJL1lJ/lvFvyI85ZbOpTgrh7svwihMDAkK4y22RaRAwvUj5BGvMDWPowqwXGgl3FOBAlAcMxNQlOS+h7X9uD2J3Ze4rfYsWyKgBOXHmBG37M7SJgKj/PDnyBLsjhHtGjUz8tMslGETDPe3GhZNaL9V5iUrkKxGM3sW/217dNqbGuRa/cpTjghyU0j2kZx1tAwNTBtLQjeFyJvFwryAdWdXd0AleHo2MhSj+DfOiwwzt8EtzXWpLYvII2MqFKluEOLS0F3dabH1vYjGeyv1wtYdpxb4VtGLvCrrq4qtodvvZUbt+avFThIWcMnwHlnV21nfW5UvW91hvXAD2ntOblu1ZRlmzZLU2rmH3Vr6XHqoWKMxlMr3gJY7R/fMshUerP0oD1wy0XOmbK9x/iwktgvJB+Ps1l15DINBNNmXrFALxr5vd5oIeNWcikngR1v+r8X9WkU1VvNep7sGAlQNo5KbwKFbdP/S/kV2hm1cZDp3wVRsLnBTHppXKVuhXux+1KxuIfI/Wvtn+DT2+6PGw02OVZlHO7pl9j/V8cHOLTjXJeuk4NxvfjPb+tTfVJTtJGbnhEy0ZgSzMqiOqBt07kZemjYJvO35rzW39sDZft6Gtf24NcxUrmdpqUivafjQ07+5+bXfqW7OvY3f5GLoVHNefGWTrTGkzxQ840sSHqVglsldWd1ttK3GJe2veznmU/8L8dN0V17n267ONn9G7Ke9ax/lZy0PfkFEdifUecb0ghwP4vTKixQiqelnoWcJppg0O/N2vrMNY+u7l3Im/TCQUq4X5eW/je47vOjcULp/XYZ6Xbnk6Rtfk/nfVf9N9Ve7zdK7bQXq2xcXZL7Y2pv2ySHT/Z22fRX0WBbJB3Yj/DQc3UJcZXaxjIVUD6T8/7cTZE4QodGV+buadOneKrhsZ/v5xe3dFcm065thAAZ5uJoS7G0Lye7QICOEeLXJyXsIhoL9Iodd3y6RbgtfxZa0vraJfpgj3/X/tp0MnDlnHgnzAogTnK0PFdKRbJbIdP308qHGM69Cj9oVwT+TRjb3v2HBq9FWjoKNO5TrRMzekJqBibynzePhu73eWDEeHch0I5IEyHuUCfetieYpRx2kdrZ+fqfUMdbomvLBbpIjZ6cND39lN59atLVNEN6Jv+tXp53aqp99BUkJvE3INWHR5Nb7A16MtR/44kgasCtQjeKLmE8H/dtvcWL5nOd07515ChtS0ttOM0aGKLAbB/Ph1jwcLqPpR/JZHfeG+WLpnqSWbccmFl9C3ncLT9b3ihONM6f5uBWQRBcll1uxIiA5TO1gFTbF4U+SZm1yGiXAH0cafmclbJtOzS5+1LhPkb7/lgfsNRDakJ0yGLBJkkyjDczb99unGY3nEerfy3YKEt10EvbpO5cxEJIH8AAkCQ1FMkCBKhx5/s0uD9kK485RqFLDDvQHzuvDU3xEq4pOTkiCVlQTM/VXupweqPhDJbZbqWJ5pon4cdNMguqnYTTH5xcl6ijn+9tT1T1GX8gHCwmSm9ySXELIj4NR43lzSvi6B0wUdOXmE6o+tH3YINMiXd1nuiINevNCJvHx4/sPBTB7l1ItEi9eB4EWqcY4f2uJ6gVBTxoHePz6Gdtko6hxdN18vGOz12k3HnT532ipCHGthYe7broCxUzSn+mbBj5cMrvfWvEeoQwLzKwsOvtS7t3je4mHrjowk3KuNqGaR6jBoeEPLm5uJJMTvsWazxHJfRXIul4qrXLAyjbolXNotEl/8WGiTI2MGBtIUsijY0EFQgV+2cu9Kuvubu4Pu7qxwpzWf8sNM2U+Q17KTxYu0zUgId64n70Zw88AZP96v+nXp70M/C+Havbv8yFzApiI2nvG+VYb5Od41biaEuxtC8nu0CAjhHi1ycl7CIaC/SHWd2tG1RluRhzrhjpc3Ir+RtgXLnSO3RWjsOrYriEGhiwrRZRddli6YYOIO8yv1V3UaH0BETCqDdjGPdkpvwh0EL9KHUUQlVm1Y08AgGixlf4rlO3/O/OkydqoR3FM7j+200i69EJyIMMI9+HKdl9O9r6rPq/atIlSVVyaSMqlvGUSE4B3i1ezS/xGB9uiCgHQBImix8G8zOaAT+p/r/kM9KwRkJ6IxXW+Ty0Is77zcer/FYq+teI1G/xSuHw65DOhT+2E8ctKpsKTeVtcZXa3ocmXftPuGkJkE44VNQYSr+9wpyhjn8XRbu2K2KpIUUVOIQlKRYG/c+IajxrIXrPgi9PX6r9Oi3YsIxTpzZs1Jq7qt8uLCeIyuv4yD3DSYdcLdjui+ccyNljwBtNhB/pw9f9Y1chIbLFiI6sbJGU6ID248mB6YFyB/H6z6IPWuEh59p/y0n9KeNv8Rqltip1GqE6CIfuw+M7BBZiKaTcSMiUji1zW59WRUISXUGlBmh7kXwr3myJp08lxgzoKCxSpK1evCUycJ1AYRdOlVBgii5aEFDvOjTgM0y6Fdzu21+q/RraVujfpeVid2md6FNhzaYL2f8Z6GuWnG2m1MKikaneDmnXSqHcCPQ5Ry32/7Eu4ZRNwjCg/FnfFu0c3tfaQXL3QiL02bamhv3h3zfJnL6hrxXqKjkTWKOR/qw+h64ZivgRBVRXrRV7eNOhzDx9BNUkbf2HPTLAahg2hUrAXwncY6wGS43/DdwnsPUfbIWPPD9CAI5ZN/2/R2uDyXl41wSNkhMECZX4S4qi8BEm/9ofVW8WqsoXD/ZZTxd6Yps4ZLgPE++lXIPq2vmwcWINtuVEt/CHdezBhjiIxwv6PEeWF74ORnDSn9Hod/P7N9IiHcufyMm8QKzz6pWqgqjWg5wtdbSO831gpDm4dnr0bbIO6Rxl8FalHxbzLmQaXyx1azxZT583HTj6n2VbVduyuEuytEckCUCAjhHiVwclriIaC/SDnJgqv5rMZnFsGsE+565DcIqXw58gWLheFcSAogyjGtDYsyEGaW1nz+Mr6S7n+c/IP2HN8TvAQs/HgxuPQm3O/55h5LHgHm1ySfj8/bq9+mz3/43Bo3RDV6KSTn1/iqew8RlSAToN2LLAmT/Xj4x2B08y2lbiEQaxlhq/etpl6zQ5GiLUq0oDcavOGpJ2P5fQAAIABJREFUK1gsY8IMmSJEcWakQVZkxrYZdEe5O6honqK+dQUk2Jc/fUmIeMV4ejE7wh1yHpD1gGHhh82vFhMDBfAgvQEJjkgMUVsqWmfRrkX04PwHg6fDF6JWYX5El/DCuhdkucCKMsE9DuLMD9MXAXZFK/W29AjXztd0pqdrPW0dxnXnp7edHsx8ctOe5xIHdtHwD817iBbuXmhJjiESTqUAP3fDc1ZmQyzGC1qB8Jm/cz5N+CVQ7MtLtgLqkkDCA4UjFRY4l8vvqP45kTg4RifcTfcprx0A6R7IwKhiwE7EuK7drPrEvwtcdx6Rm22nBGSXnEhKPQrdTjpH12MHEV5vTD3Lv4m0QgHZpuPD07sVHviGY06Bb+uD8x60NklguBadMJ3Vbpa12aabF8Id6dpoq2XJlgRyBbrvMK/FTfXnTEnnYCMQG4J5suexIhiVhIkfmsB9F/WlmdvDdX/9eE6scZrSzir4inkNxsft3sDvdoS7abxQ52DNgTXBoXLLjlEHzt4+m7Apx+8lnrkCqa/T/wSCLFS7du8MLlHkdqwpqhPn9Ly2J/2nZqA/sVi14dWszTRlKPSNrBfdkCmKbx3u0Rm/zrCKGJuiY00RkfjOvlgnVJjY1F8+hm73vl5Y101Ki79/ne5/ZB3BtzI/vrPwhYLFyCSAATP1Lp1420SrSKzJkFE3ZvMY6ye37zLmDSjejvcIDN9zfFdi1YrGfBD1JSApBuIUZDvqpvgdFR3p/YtrBakOG9JkCNUpXCfMhV1UbqwFknkjCKjCWiRWjE3XDvkv9R2oWKAifXnrl5FCZDyeE/moe4BNbFwDCnT7ZTwIBT4RiIVC1n4YAiwQUMQN80CsV/ywSAh3zks41ZRBv4b/MJzeXP1msItuc7RIr0Xvt5+bNNikbDmxpdUlXnx9dMvRVKlQpUi7GnY81AhuGheeFedFMhPzgpWrV1Lrhq0pJSWFqlcPr3MVU6fk5EyPgBDumf4WyDwA6IT7R+s+IqRkKfuo2kdU8MKCVLZs2bDJDpeTwbHYuUfxDa7biQhp08I4GnQx4cLC+6LsF6XSHENEC3aGYVgM+DUhgD98pHCtynjU/j///EO//PILZc+enUqVCt99hoQEIsdA2Ow+vttKHUbfYzX+sbfTA0YbIOXR9xYlW9jqVpr6UnV41aCGsJ+TKy/XrU9knCa/fLFWIGcBWthxoZcmfD+Gy5zAeSQTXiX3gOcGEUwgEJAijwVcepvSbfYzXRzX4LVYHb9eu3O4pjgmoCCJlJyPm961jicWKihUiecDEZTTt02nJxc/GTwMUZ5IG4fNaDuDiuZ13oRAtB6InQoFKhgXhVwmQ0Wu3FziZoI0TqzGcVG+TAtjUzt6kTbeJy6Dg3T8el/WsyIp3bI4OGFrRwwqYguRXygsqYrhIur4roqhjJFosOGRZYi6BnmntL29FMfkJDmXGtG1zdE3FaG67uA6q4A4iBKeZaVruENfVZf84ZFHkGXBuw3fDGV2G6teCHcVuQnpHkReK0LcKfVc34TB/bqya6AIKDc98hXfo4bjGlrk4I1FbrSiW7lt/n1zmDSM+g0EBCLYsbENyQKkbCO6UxW55VFfOMdOAsNUNJVvsHAtbxCBeFYRmQ4zFQM03Xv6NwrPL54Zlf2AzcoZt88gFRWK9wuyNrwaNl+W711O1xa4NijHZyrk6VZQ12t7WNxjkY+oQUgawZzIZV0PXW8H9yqeA9z3MF77Af/2ulHAn2GkvCMDAZl3wBkGnHk2Je69o6ePWjUQ9GwkFCmFdJbb84Tf7/3mXgv/i7JdRH+f/Tvs8pzmW17wNmk6Y1MPRTd1Q3Q/snJM+PK/mTax8LtbXyOJcNffB6ixAT10Oxu8djB9uO5D62cnSYelvy0lfAeURTJ3csKbF1dHIIOSxzLJoSg/vKaIW9aBKYPDy3fF7R7hkfn4Bu49vtfaaLN7/7r58+t3XbIIm2iIXlfrGX3jVbXrl+wVzyJF3Rt8W/A/v2zYxmH0Tso7lju36OlI2uRraTznKiPCj3tF9QPvCLwrlKFAN+ZTfphJbszrd9Ktff3Zx/FOAWR8Llrnqjo0pOkQ2yb0mhNONWjc+qn/bqoj4mcRaZ5pi/XvxsMbrS74UZhZlwtW1+aEO951yCo7+MtB2tpvqxDukd4wcrwrAkK4u0IkByQLAjrhjoJiKrIT1/hWjbeoWNZilDdvXrrssssschnRmYg24obJF8huTk7nvTCvb9Gy245sC6Y8F85T2Ir6UMZJcfTDz2hhXhgW7aFdtH/mzBk6cOAAHT16lAoUKGBho8z0YXObxHu9n/hCaUWXFUYSn3+07YrX2bUXVjD31jEWKZFe5qUYm+rL4t2Lg/IIGRkBhOjZRxY8EoQoEs1Afr0gGt9f874V0YaFYVpE8tiNIy8y5DbxjfRe8JNw53JXiFZD9gMWg7BIIxCbfNWE9v8d2EjDZgcWAM8ve976N6J/EWmrop7cUu6t9mf2tCI57aRtFPGJiHosoBG9hmJOkFOJ1UzPzXWXX2elubpt3vCMGfSjeYnm9FaDt6wucRICWuXQT0akmxsBwAn3Z2s9Sx2vCejsQ/4kC2Wh1mVaB4ktFDKFZqqKvHGTh/CCFY9wQlQ3IkQ/2RAgtbxEUdrpGyvZF70PPHJcJ0JVBLE6555K91iSHdxwL6DwsrqPV+5bGSQ/8TeT9jDI6eYTmhvhUAsoHnkIkgx+VEEunsmgO9EL99lF5fWY2YNQyFgZ2lVyQiBlvmjxRZhrbALjftONk734DffEnr/2WMVSIdmCLLMbx4YIFjudfxPhzskNRNDX/jKQPg2de7T79JJANocTGaf6a1psI6NuUutJFqELYhdSbIgYVtIhDYo0sLJYsJFqeqdjHDHfAimAGhSfrP+EBn0/yMrUg1+Y2rTBs6OkQ0wbN07PBoh8FJ7DNZe5pEzwUDx3mD+BqFGZc051SOz0mvk9AIkqSFXBelXoRcN+GBZsz00fXh04bvM4evm7l61/qtoLvDAtdKRBwCtDyn2n6Z2s9x0KenIpwzX711DPWSG5MacsF1VEFhvPw1sMD6b3ox1sOkUijaaPh+k9bRetadrcgz+dHLEjUSCLgbmEnYXN824ZQxUK2s/z9Cwd+HQi9Plz6LThtGDnAnp4wcNhXfTyfna6z/Eb39jDd3D1/sDmgFMwAf/WuclymKSNvNaAcOo715FHJgju78lbJ/sWQa/aBoGNoCp8A/C9dzNdBgnHc8kwu4wXtRnp5t/td32OguNTuqX4lsnMiXH1/nbrk5ffeXYZ5nrQdId5kSzy4h/HcG1z/NvPaOtuM7oRAgm4gegG4R2LQcu++ojUUdJOxC+XbIPs3uAmg227wHFXB/mlPa8XTIV/N035SLDCpgykfGDNijejb3Z8Y/33eze9R42KhWqFReJTHcszxPj5TtiojPcT208I4R4N6HKOKwJCuLtCJAckCwI64f7GqjcIxJayx6s9Tg3yNKCTJwO6p1mzZqXT508TFnDcEFkE3W2lpY7fFLmkYwXC3o0I0s8BKcEN5L4ytKnSO9EPPyLJlW/ovfJrhX9oAZ87d846JGfOnFS0aFHKli1bsD96RJX6wQ8JGD65tUuV4xq4kUicoJ/cPyIlsBBPDzORGWjXDjMeLealcFpaXcOsX2dRn2/7BN27pTvyftgtVLhkAvRbQcig0JyfUT2qHybc7YoSRoNhpIS7vgjn5AiPXJl5+0xLG1YRiHYkEa7v2JljVvYN7IdDP1hFKXk0OzalECmoCJ4xt46xFu2ISochSrrqZVUdL9/tOlXEIggbvD+gWwtzK7rJG4VmNt5zePfxd5zdfQRZAScZH0QiK61p1U6joo3ovUbvWd8AfAtgeOdhUl55eIjAGVB/ALUsFUh91Q2FbCH5BHvy+icJY6MkNvA34ItFEYhl1GsAQVlrdOA94yZX4+Ue5ATB3PZzaeq2qRFlK3DZh0oFK9EXN39B2bNmtxaJWCwCD6T9K0PUrrp39HeWrodu2lDgWuiIbERmFE/lntpmapi+sV0Kv+qPIuj1ugEgyaoMr+KapeCFYAMODcY0sJ4tmCocpjZbTJGCevq721hiwfl2w7dJ1x61KzxrItz5hjOPlEdGDMgVJVvihUiwi+7Gs4Fx3vrn1iDhoSLH1TXayZ4pDXUcB31cvrGgNtSh6Yq+g0xR9RawYYACuV6NkxBcW1nJRXBCyEmShG9a6G2rjTi+sQLJIARxKOtzXR/qUaGHa7f5+wdzRXyTsGEAbXDYHWXvIGjbK0M9DJCTsDZl2lhZS8r0yHI74pwTQSpTgb9bY9UvNr2n7SJq9Y06dS0gXkrlKxV8H/BsAg6q3TOijuF9GdlyJFUpVMV2TBqNa0QHTxwM+92J8OTvHSe5Pz6eyrkfMiQbD22kztM7G+8Tu42Cfsv6BWXH3Ah30/zeS6FVt5sehaLVnAPfHGwUj9081jotknmCUzuQj8K9pWxY82F03RXXOXbNNP58I8Vu/uG1XoMbLibC348NDtXuoDWDghvyKqvKrU9efkfdDfWOAl48Y8WPtSD6wDcm8W++Ueulj07HdJ7WORhhrY7zYxNFz1hTvp2IX15jwalIqV3Bbr/uF33zH31Hpi38+2E8s+uBKg/Q4HWBjYVoniVspCP7W2306/Knqr9OdYgU7kK4+zG64sOEgBDucl9kGgR0wv36UdcHI8kBAsgSyKL8+eefVjT32bNn6bs931mLYG4gtPJdmC8szRcR7oh044YoDpBGKLxUsWBFzzgjzZ4byEdF2iPKB8UzYehH9cu9aYxhgfXX6b+sfttFFEPbWmmbqvbLXlqWSlxSwor6z5cv9bl2qfN8koVNBxRsW3tgLXW9tis1LdbUU6FQPrkde+tYK/VcNz0iBJFaIIK9GPc/sOFAalw8UMDFbwNphKgFLGwR3Y3iuzVH1UzVjB35ywsjYqG/rPOyoB6333118qdkYdQxXlNSTQVslA+u18fJL6+TdNx/2ASoV7heGCmDBe4XG7+gPjX7BJ8RvfAh+mCXOREprno0iFv/TSn3SF1HdC6ML4wQCYfJJCeBTcVNoa2MdwdkHYAHCCZeYA5+EZUMQpXrOUMeRqXquqVz6psWuE7gio0vyCFA+1fJQkDjWZGUaNurxALSzaF/rYjer1t/HSygZ7fgVRHCduOmCpfy3xE9BLIGWrLKVKEvvR2Q83UL1w3TXNd1IlEkFO9jREspQxYAtGkRwYfooMltJltEMMyP6C89CwgFB71mK5jeQyDvoPmtMEF9Cy6dpuPL73OdcO9duTc9WC1UKwDncsxAyEPaA7UdlOnRqt1ndKe1B9faPo6KcNSLvKJfKkrfSb7BFF2rL4Z5zQM8h+NvG29901WbSgaEdxI1Ip5Y/ITn1wgWnPdXvd86nuuY96/b38qS4GZXqPOF2i9YsiYwnhX1aPVHredHaUhD9xaYOBk29vlzoY5d3HGxFV0N7WhVQK3Z+Gap7hHT+4/fq7xOAnxDmgbfR0U44dlc/NviqJ4T3g7mO1hk8/cW7m9siGBu5kSSmggHhQMCLHCf8E1TRLS/tjJUp8IkGQVcIfuE+aDKTlSR/so3sONkhL7JdVPRm6x3Ckx/7+mbuHYEw9ANQ2ngmpCeOtrk0a+xagGb3tN20ZF809J0T6prMJHWON70jHA/vC8gd+3mzLhHsKnN9fLhx6mQOCfcnfTQ9bkT/HrV+Hd6TnlGAzadFYmNc+zmNpCXA8ENc5N6M2XqRDLHVn0HAYbaIiisXL5Aefpw7YdBgg0BBah9M/zH4dbhfhRuhx+1ecfxc7uvVRYMP0e9I+wCZXAsf/d6fukbDrx79t3W5jw3bNr7lX2ronj5uyaW/uJcLvWEAAu8n3gdDre5sNf2+cYkzvFTElKv5QL/Xuerqv+4P5AVyWW+7NbHTusO/v3nMlzYxMD8VAUjcfkhjmE0z6dpDEyZhVifrOq6ypesZP4NQlALny9Fsmmg3iWQKHzi+sCci2eI8WtT8wzT9Qrh7vVJlOOiRUAI92iRk/MSDgGdcNc/sqaFuSkCznTh+m67Ho2D6EO7opi6P32xwosC8uJ+OA+asF6KfapFDVL8kepvMqRGq6gy/jsnAvXzvBDu+kIJMg5e0js5DnZyMabq8l4meHp0AIgmkDdpYQ/MfSBIHkAjGxG70P/VzSSngGP0RQ8mtW2vbhtW5JD7wsQP5rdUix5hAsIAKe1uZiI7+TkqqpqPt9M9x8/lRSt5VB73pSKmTPeqH2nd6M+EnydQv+X9gl1zuwdNmpF8ocmLIqrJOb+mDmU70HO1nwu2h00tReTij1jMK9kYjhfucUQ2vZ3ytvVnEMA7/twRTHeHFinegyAdFPnPz9cjX3GdXF8bEYSYSIMQgjyCim6HD6/6jzzlHedVLljZkmKB2RHuIMMRMWhn+uYqjqt1RS1rQ6b91ABJqQzXZGonW5ZstLzLcsqZLad1qK7rDb1yROb2ntM76AsbuCBfQRojWhN4K81rHGRHiGHjBAQY3tVNijcJ+sPmlV3EPyIaQbh7zVbgxW1VA0i9Rwq9ij4G9tAYtzN+n+uFVk21BnhRULSD1F8UlFU2uPFgql+kfvDfduPN+4Pr/tecfwVlQpSkWZuv24RFYpuuofG4xnTgRKAmijI9KnjIuiH0wdoPrJ8xfhhHmHqvF8pViOZ3mB/mgxOmtuCxH/h9wCMzn6j5BHW7NrSBw9vV/SqCd9fRXdRyUigjA1JHqMug7ksv31+7TVIQ5ZDXOXzycFC7nkfMqj6Z5iV8LCGL0npyaCNBfQMgN4QMvybFmtDSPUutgIhIMtf0dzw2qCG1gywUFQkMKTToxbpJXdlFJ6prxAY5ZA7U84aNDF4Y01QEmL/bVKSwLm2ITCcQkANWDbCaQvYdlyfi0iH472E3h2Rs9Cw0u++bLqGA55jrU2N8SuUPr9WDvuhZVHb3tum5tYuO7Dq9q+M7Bm1gPgACFcELMJBOIFVgpmeE94v3xU6iCcebJBTwd6c5Ah9PJ8JdnzvBr9Nc3A5XbLYdP3OcsAl4a+lbrSLASpYBpNWWI1uCEcx25PLD8x8Obtg0LNKQ3m9sX3jSJIUTqXQjrkVlUqkitPydgQwCfOsikULz8k413YNum40Nxza03m3cVBaAXaAMjkV2GzLWYjVdugz+eJZOrP71TDCn4rpe21JF4XE8gsBAEit5EPzNbS7stR1eTBTnoAg9arX4YUrKDPenyjDHRvXdle725B7vRaxzIKXTv15/q74NjBdV5o6cMohUUXIcrza1H5n/CM3fFZhjqG+lXohZ+YesG95FdoYAG2z8YuNLGfqPuiAYP7Vu5AW4eaZjJFyG8o/3NuqFYCMdmwYw1BJATQEYNglw7yszfTvtrseUcat/B9W5TptXQrh7utXloBgQEMI9BvDk1MRCQCfc1YJcXYVJk9or4Q4t1tntZwcB0Qk1RGkiKg5kjYnI4kjqE0Uu88ALquCcfrX7UbuyobRJ04joE0W7CVCtUbVSFc+CP6fdZp7SyttGJBwKycJ0Ygqao9CSdjMdBxNRYFqsOU3wsKjC5AHREjzCy23R5tZXp9/5dWBiUTBnwTBCRJ1rt/tuKrqDc0yTB0Qe3jzhZktHF/ejkheJpf/q3M83fh4kavE3/Z73MiEyHaOeO44Tl5rBOXbSTPwcJUehRyKpwoNPL37aktzghg2Qq3JfZckYXJn7yqhh0gtyui0yTBE1/JnhC1IlNcOvVS1cVYfd9IbVcSBQbyp2U0h25PYZVrQqX7RP2TaFVu1dZWlH6jJLpmhMHuH65o1v0pStU6wNJhCRPD0fWsTQj3YzvXCiilLFeXYErFsROiUnwdtG1Bj0oTlJht/tCHf9XagXCQU5Dny5Vi9IeBBDkE65+pKrCQtcfg26JITqn2kRAWkgFLzlRA0iMjH2Ss+UFxZzkw4xve8hsYEio6qwK1KaQXzamRPhDskYkMB29ygWVYhwR7SxMn2x6IVwx6IbkYEgm2DqObpr9l2WXA2kfGa2S12UEcfqRfLwN2QQIboL3zZoiYKgUlH2fCNQbSSi6OSKrivCIBq9aXRYtLPTPa/PO1BAsNmEZtYpPPLddG9wvwrvqVunBvXa8TsyXvDNVUU4vaRsY/GtakbwNlBIDu8KkH6qLoOJqDRtHvOxRK0IvtGlrlNtjCHyFpGekIKCedWlxbcP7zNuIDegF6uyeLCpBGIE2RamgrfqXPUttRs7bISiQLGSkcHms3pucI7Jd/0x9enIqSOWSyW5pM/p0F/IMyi/+EbxDRTeH71+gK5zPLvdbOv7hgAD1F/Buwj9wr2tsFXvPE4K2xET2GRCdhbqcdjp7OqZAWrTzq7+jIlk1DEf2mwo3f1NiPxCdhAipmEPV3uY/lU5oAVsMn7ffdz0Y6p9VaC2gW52RVntZFd0mTKn2kV6dC7adirmbOqfqaAwyO9/z/u3dfi7Dd+1arWoDCe7gss8SEVldOF8kGJYn+S4IEeQdDNlFThJrJn6rc/HsEGKPmOOoEhTvqmpz/1sB9bhB73ekDrULWrZJOmighucNuCQ3darYi/PXQUmmNNCmlQZ/tZkfBNrLsrNy/vaa8NcHxznvN3gbWpWIvCtidb484VvIeaXmKcoc5sLe22XFyjGOW71dXAMMEV2Ny/ubmpPcQHF8hSjncd2Wofo8xenfvJAAp7Jg4LK6DcMQXlqjuK0psazoTYT1ZyZY6z6ZcqaQTtOkf94x+EbicxXbD7CP0x9g/h8g88jQPyrzItIM3PAP4BH2X18t9UWgu1eqfcKYfNHvcOxOajmPDgGsl8I3jEZxhT/h6x//ZlU95oeAKX8OGXwCuHu9UmU46JFQAj3aJGT8xIOAZ1w17VHEfH4afPwquc6qWJ30ZwUwjE64f587efple9esT6GX7f52jEqXY/GVBqb8KtHJfIJs13f9KgGuwkQ1/PlvuyinXAMZGK6z+yeqmmuia4T7l4Kr6CADZdmQAMqQpQ3hgXur3/+Gta+3fVBqqLN5DbW5AuLbW4mYsOPG1xPzccCCRsvyDjQDfrO0NrVjUsa6L/pETt8YhZroUpET7247EWryBgidVF8CpFIyrxGmHghzXSSk2utggh4c9WbVrRv7yqh6GH0g/tWG1M6WWSKoFfXgE0cTCwX7V4UcQopHwv9Gp0KreE8Hpmv/PBIOpX2jc05kHz6terY82KUTvct3hdI68ZCAIaJPxbp6llDVI8uNaD8mRacGDedcIc+K6JZdDkS0/vV1FdE4oLUUcYLWXKcO5brGNR9NRWu5L7rjK4TJm+D34AhoqxfWfFKqveH3T3LSQy94Ca0pkF8K+1lOEWaK+RkQCyjWCTO5775+NrdT8CYRxyriGos2KsOrxqmU86jnty0jWuMqJFKPgGRxbgOVXhRLwSpjxd/1+qbSLr2Ni8wCT/QSP1m+zfBAmv4Gy80aVdwTO8Dnm/0F3hw0suJEIcPZGtANoVr1OPveA6h/csJSfxdX8gishn3Ogp8ru2xNqxWCyK3EMHlxYDx/133f8FDuW69/pv+HuD+1YbOqE2jgqQbfgdBVixvsWCEtxf5Azs5FRCW98+938KME5F6poApCo7f95AS6zKjS7D7qoBftRHVLHIY48g3R71KvpmeW0hWYFPnrdWBAsnY9MImGwh1bChirmIy1BRp9XUr2yHEfYKo8M9/CGwiIkuh3ph6YcdzOSz8wDf+lG6/ntGDzQbca0M3DrV8gYDHZgE2DXTT33tjfxpL/Vf0Dx6mNqH1zEjTc4yNUpAOMJPetT6XMc2zTJsvStPZjiBTG2NOz8rr9V8Pq0UCclNFR7oVn+b3hIoW5qSNatcuWxO/m65Vr6PgpIeuR+fCp91mqwkHu1oW2Hx9b8171imYW+KdBXk3mB1Rq2eyIggE72FsHsG41Bm/J1S/3EhrdRyeY9yzkOHqMK1D8LIgSYE+YH6pvolh2RUsi8jpnuC/4b7jRX7tvt+of/BS3Zds62qZCHc1rjziV+9XJBG5GEtseiAYYfjNw63sI5hdJqgb3riXIV+KjbUS+Uo4QqY27SMdSzuneqYwSNC2ZdoGiVS7Z8fruPLjIEv62cbPwk51qsEEXDCXRIbeJ00/oUqFKlnnggBGkALW7MrUfJzXDkHtDKzbvZhe60C9L7i2PYIvsIaCTWs7zZJgNBnfEIM8KtZeyB5UpuqOjPxxZDALCnMgvg63q90xd8dcemxhIAiCz2f482IK8OEZs5FKIXJ5O3UNeG8h6wwb3wgOm3vHXOvbqMxuPo+xw3XieYf8IJ5JXiRc3Q98gxMye+N/Hm+5xkYx1sUmE8Ldy50ux8SCgBDusaAn5yYUAopwX7BsATWs3TCVxp8pAtMr4Q65AaRRq3Qsk2SEAkvXI8fC/+klT1taePgg4OOqF25SH3BeUAX+3HS09/+134qa4Ab5hedveN4iq7Dr3qp0K2uRi8UuDFEKf58N6dYjqs1Og95OR44v6vmOPfw3KNKAPmgcSNE3mV3qJifecJ5dYTc7wp1PfvR2Iy3Mpp+PCS8KL4IE7HRNp+DPfIKDP4L8uCTnJXTvnHtTXbpdQS+7tETlgG+I6AsNJ806E/ZYsIFEQuofj0AEgfLFj1+EFRnGAgcyHkh9xySsQ7nQoor7joZw5wQLP18vqAXCURFmiJrA4ohHm6AfKqrB1A9M7NYcWBPsbrTROLpvLCoRLYZJPyaHenFjpS/NceIp4A/Oe9DaBODEOm9Dl7HQ9cSdXszACAtpGOSqcK4aa6RFg7BTxiNVTYSETriDGMHkdvX+1ZYm865ju4K+nKJWeH91wh2/qXHhcix43+I9i+hxGDbNUKRQpaxyn0qqQseFFyDEb2rTwy5dl0dIqjFSPrFAwzU+u/TZYDMgDlfsW2FF4pgyOfi1qZP0iEC8mxANCUkFZSBX8L1SixRfal2xAAAgAElEQVSlX8nrPbilFps2WJEOjvcX0pph2NBDtCCkakzG7w+9+CHehc/eEMJC/x0Rwk8tfiqYKm2NYdUHrE0QGPRQ+SLM7p5GdKEit6GZ37NCT+tQbHCP2TzG+m/TAtTumdGjr1W7iiBV/zbJPqnfeGSbXb/V3/WoW05s6hjiHKf3KTb6sKgfsn5IsFmMEeYWqoAg8AXOTmaHDUg8zFVgvOgvL4KI3xDtrTTKVTu838i+4NJLqM8y5pYxwToVIG34PWeqB2Dqv2m+hvGExAEKUcPm3zGfQPKioLRT4W+7Ip28XZCmiCqH4dtUfWR4TR2uEY8NJGxyqboaiPwGCdN7bvgmMnzxQqnYcEUBV5MMncpsUX3ixCX+pjbxITeGDSk7w/sV5AeiqGEmGQud9DV9K3mxb9UWCCLcHzBeGFz9fu8391obtE4GUh3zVWymw5Ahqd6HXLvX5IPfdx80+sAqnImMNGw049krd2k56zS7uSx+M10r10LHMU6Eu2nDwy0ri18L12rnf8cmNr4vMMxzMEaqODL+Zpr/tf66dbAOFI5BBpCKPlW+VQQuvuWIiubm5f2B4/WNP+UDcw5EvEJuTmWBQELp1RWvWoeMu3VcmNyF440BSaFvn7A2DF6/8fWgVKXTO9KuWLndugOa5IMaDUoVXIRIY0UAu2368Gvg9XkUUe+kD+8mV6MikTHvwbtNn2vytrlcCf5uqjPBj4f2Pmp7IYuab2ioY0wbQZCFe2Be6PviRIq7jS3/nX9v1d8xh5i7c661+YZgkQZFGwRP4cFgah6NMYa0GN79ePZRAwOmarkgkhvBEQhg8RoggvP1Ip3qfaHkm5BpjG8ur51kCq6CL84d4P2O95vKzsLviqfgm3h6TRS9+LwCBfVD1PvBbm2h1iH8GcJ6DJKZyM5yk6HCvYw1GCR0EdyGbAds9HCDD6yL8O5CpjSyWniNKjvCnX/fgEudq+qE3WvITkT2L69Hggw/hZ+TIoAQ7pE8jXJsNAgI4R4NanJOQiKgCPear9WkpX2XEqKyuMYwLgqT5oeqPWRV44bpheCcLpynm5sINXWuXhiO673i44OFgB51pz7gelqpU0o0PnzY6X1z9ZuO4wXSHulltb8MpNri2nnxVKTzXn/l9UYfy35bZlww8mJMOtHCC8GYnJqKtajjFJGJf9uljdlFFyPyFCmyJsMCH5Ev0ZhOqvPoMD2yCXq6+XLmC4uCVW3yrADeD7tiYfwYXDM2TfQFv5coDZ52yfUYuX/ozSICSqUA4jdEdvKinHZktRfCHZNyrkHOFxn8fK6hrD+fPa/taRXt3PLHFmo7pW2w+1hkYyKu69biAMiKIDpFmRvhjqhIaOgXyFUgeM4Ph36wCglyw0QQz9W+v/cRZD4w0YPuvjJTxDWkA1S0k5p0I8V1+u2B9FyOgx7hzmUo3O5hTPQRXQZDVObRU0eDkgWI/gDxoqxxscZWYVGYKesEGzF8Qw+kN6LTIcEBwo1nn7htDqo2EUHLC2ni72pcFEmsyI375t5HkFxShqKwd1a8MxUEJukQC9OClSzCHpFZIMx4ijfI4GnbpoX5gmTOzSVvpu8PfB+mOakOwn2rFlX4GyRZQCaB7AK5D31PPo5I30/pnhLWhimyW9e8hj4+ouUV9pDGAXm34eCGYOQworPw/NuZiXAHHtg4U1GSKDKIqDlE/pmMkyOmbCNERoEkw2L95e9eDrpQC0JOPuBHTp7ZFQfV+4FzVHQmFleIqIVx0tskU8Cj0vA8qYh2fAtByOqmy2zwjB89RXxgysBghLLb86i/c/A+xua3HkWu/Di9T6GHDOJKvafVBtKOozvo1kkhXVe395ydvAbPKlH3HPqlSzjoQQX6Zh2yG3gmCOYciNJDsWQYZBzG/TwuCJ1XyQZTTRfIWGEDTUWiYwPirll30eY/NluF2NFXkyECz5SJZjoWMnWQvcGzzjcSsHENaS6YniGEjL1tf25L5Q7fVcy3ULsF0cELOy4MC4jgJ6gIYfU3nfBWRcndvsG4H3gkoikSUA/eMN1Dpna6XNOFRv802uqiKevOVChSBwXRoNiAw0YQCoLjm151RFXrMLeIyzDi6KaB1vdO1Tfhm2g8sAHRn1yayCRpxGuXqP5i7QDyVa+fw4tVqneN02aPfv12mwHIllTZmnhXAyNOdnYq14meuSGQtQDDZh6kxM6ePxv8m6kwttoEdCLN+RzI9EzY3XN49+NbgbmjivLnayAuoen27tSl9NQ9ydvGM45nmZt+72LujOxXvCd1U4WJ9UKMeP+pjE8193Trr/4eVhlZTpKAfBPZDWdVFwLHQZYKUj2IJkZQFUwPZnDaKMAmn1oTIrsUfnQzrdWwFkGW9slzJ63D7erU4DcETfE5lxN+ppoz2LzhG5FqXO2CQ/RAClUfTWVpYm2K7y+I4MsvutyKvPZiehS36gdqb+A9jvcJ9OAR9AVzCmLrMr1LMIgE8zFr03bl62HdAKaY86j7D/NwZISpbBe7NbsuOYZvI8htTnardSgvIIyNDfRr659brTnz6FsC73OTqayYigUqWsdhLqJv2iHoDjwHNnPUukB/Zk3fZQS1gdOAobZLo+KNwuYRSkLtndXv0LAfUuvD260P4E8Idy93uhwTCwJCuMeCnpybUAgowr10v9K05D9LCJEePJJbXQyPKtMLwTldsPp4Hzl5hOqPDRV+08/RI9p4JJ6df7Vw1skoJxLLLTKat8VTdjkhh2OcCg3ZyZ1wnXad7HIj3py0Uznhajehtyskq6dT8uuPVn7FjngDwYToEUz8OEmNSWue7HnC0r5VP+xw1jV5TfcICKUz586kSoFHUbWPmn5kWzcA5N79c+630i4R1aZ0fvU2sHDHRGfmdrMWMo5HxN5D1R+yiiYp04t5Ot3fmOAp48QbH2e9qCLXf1VFy3QCHOQONoC8bJ45EVEgdvH8YWwxscuVPZcluaPrwpuuUREn6jdTxDXPVFCbVJwQ0u93kKmIfIZchL6Q8/pixiYhonkU9ojQBrHOTWFiqiXAiympc1AcFWQWJC4QJarMJAll6qceOY5jEKGMjQ61MFAbZPozjWNWdVtlucXCCRFYqCXBtZN5m0grto65MD8t7rQ4rDt80q5+QHovNKDtIuYRxc6jNTmZoYqI6uMI0hrEmSJpTLIMXKtX9QXSQMN/HG79Uy3K+WaTvlDH4hYLNxAd2BioOaqmReRxwyYJro9HG5bOX9qSXjEZJ+ZUlJiXe09FugJ7RN0hIwLGo0S9biLxTSJk3CCDC8Y1qU2bmXzxjcUhCmnCEM316MJAhD83vZAzT1vW5cB4NB42oQavC5Cuuqn0cP3vakPO9F1yIk9ReLnPt32sDSv+ztGJETfC3U2/HP3tc10fK6MEBtkk/u3QJUn0yHOelWDCBVGo2HBRG+ReI0hNhd/x7IAQUdkO2JRAhDO+eU56t6YNRrt7G2nxKKiMbzDf9Ob6/DqBD0IHpIPJ8I3Be4CTsqZx1+X59A0sVeDSC+HOozRNciT6NwbzFRDBIOOQtQcztcPlX3CMfu91n9E9WCPBDl9kN+LdfuzMsSBpr+pXtCzZkgbcGCgwazLeJ2hW/3LklzBpPBQR/7jZx9YzY1cA10Qa6lJAqm3+DlJ/w/sUUdwwzH8RReu16DzOcZIVVG2AxEMEb6/ZIS1xPZAEBBeXp8C5wBbzQG7P1HrGynSyk8YCcQXtb8x/oeVvin62u+eADzbKYbg38C5AYfEnFj9h/c0u8MQ0ttiwwjpOmYlw17MYTfegnTSmGq9xrcalitTlcj74ZmJu4GZ6jQlVFFOvBwBCEhmOsEhqFHAil2d/qu+tXi9B35Dh/dcDV4AtMnkxv8HcA5s9plpEOI5r8kPSq0ieIqmgAfmL5+LuineHSUXiOUGNib41+4bJvujSpHCIDA5IwypTwVamrBlstGJOoEhpnKPmc8iWwYYo5g4IgliwawEhqOHbToHCzG7GI8dxLL4xiO5WeONZxzdMZYc5zYV5bTnM/7FpyzPW4B/Zi1hbcjkzfF9U5rSdnJReWwYSgggC4ZmESsJI9V0Vu1Ybo261u/hzj/cmpNGU/JfCsVHRRhbZvuevPcFMAh6kYPdd5lwJ5oqI9lfvbPhGNhsylvi7mevD492LIuOmLFgh3N3ucvk9VgSEcI8VQTk/YRDghPuixxdZEV864aBP3EwTCrsLVhGqTpM3nKtr65pS5fQ2VMSYXpwRx9lp/Oka9U4DhcnAJxs+sQ5BRAcWUsp41KDuQ4/u5r9jVxxRDnp0pFvR1J1Hd9Itk24JuuILUyW74hQFj3ZNaZW6HA/vK0hi6HljAXx1/qtTRSjZYWe36LI7HhNs6Maqgmj8OLsUYx79Y+cX6fhYNJn09EGA3lP5HmsiyQudYXEGzVlE18DUIt/UBhZBmKzN3zXf8Xm/LNdlNK9DqAgi1552OhELBaR6KsMieFLrSRbpUGt0reDf9YI9/PlU5Iae3tm/bn9qXaa19bybIph4v5yIqCZfNQkSJJgQQhuQT97dXoTct6mIp5oswg8iPRFlytNaTQtYpUHsRf5A7x82fpZ1WWYt0kG+wpCOCQJeGY+kn/XrLIvM82p6ZJkTucV9PjL/kVT3GXSXsUhRUY0qc0OvT8EJdxURBWIQk35dk5u3iQhK6Gpy0+8j/KYkT+zIBK4BquOk3tOmc7HofLRGgOQ16fHjGpwylZSEFydKEfGOKDxlPEIPZAEitPXvH6SKul3bjaCXClOR6HbXyyOG1KLV7f4wpQsr7VwuN+akoY3NTNVH3h4nHPRvE8jo3DlyBw/nhDwiXSE7Anuxzothizh1gv5u4EXLdIKZFz0GcYDILJPZZVYpTXRIvuE9yM2JPEUBWUR5I4OFb2zrkgV277ldR3dZ9xmeB7WYtxtPvqjXi6frG6NuhK/eBqKiH6z2oLWxBTNJ65j6ZZKUwfwFRBEkahA9jmwqZDuBcIfpGYfKr+n5t8MC5BOCInScOeGuZwPi/QsC2cn4BpQJQ0WGwIdJYg/3MjZ1lDa+XVu4H/hGtWlOaadxrja64VvvI77X+I7xDSd9foYsAj0C2QkT1Z7aRFWSH3bn8D5h8z1lX0pw80WdAx/Y3FDSVAjsAImmCh6aMmR0DXfePpeHw99VvQf8N7JS8S7GJg0IKS8RvrwYtt11Yv6ArBielaFH/zvN17lfSGCAoOTSDHbt2hWXtHvmsUGDzE+Y+n7w4CC1SeT4YPzvRz3y30S4c9kd5ZNnyuJv0JpXheP1di0CtuMCa1OA13tB399Oeds63C3LQvnUMcGG/Dftv7Gk9zhxzDN81KaECQ89E0lFNutzCHU/6gFk/NnV/eMbomTI8BtIZL7xrpPd6nyMAZcI0rOdTFioyGSe1aZvNvdd1DdVwI/KUFQ+1caYSdIVZDrWJ1yqDOtePI9q3YT5B9ZB2Og1FUO3uyf1yHFIXmGdq95tCKjAfc/lnuzWqTyyHOchaEpl8Kn2kUmDmmRqExnBAL8d+41aTw5sPkFeBxH1uplqSSA7T2WW4XgEO2EOiHk4zwJTGeKYYyMARs/iMY2rri2vjkG2J6SA/p+98wC3qrja/0QFS2yxfAYrYIufFUSRorEFotghYtRPMSFRiTVGE2PDFmOLNXYjqCgWRI0N7AULgt3Y0SiKiV1UEtHk//z2/a/DuuvObueeC+fcu+Z5fB65Z8/s2e/Mnj3zrrXeRUSOjDPfTsYBQ3csNx3OW2Aj+3i+a+xfRR6TtolOhL+Q6FSMiRjCMc5KIWkrZ31bnHAvsuL6Na1BwAn31qDndRsKAU2433PIPakJsSD7xgwakyz6RbxiBQRJqKcJUh12KNdZ67MON9WAagKUDwQfCpuoT29y7GBYKZeswUICQxIVIiNBkjEpabpndpNh28dzk43fzyc2ffi1Jw3EAGRerFjPCi37cfHWF4e+K/TN3CBrXWHdfiwEWH6HlP7s68+Sw2FeskHdpg5xK/oyyIErdn0sWRmhoRKKmHYPvNPxNo5pw+s6siHhb8hlsDEpUvBmQ0PVSn3E6moyR3suZd0HqQ5L5rJRZ85Aokixno5axkIS7+13935h0ntzZEZEnkYOO2y8CY9//dPXW3RJNABjfbXJjIvgpq8Rwi8mQcN1GE1IUMvGkoMNm0mtAZx2gLVkSdF+ae/INOOcHAhps8g81PfO8pa3fcSDj0MnXnV4AUEw6ILX8aYrblo58IlnFoSIJICV68GjaGSF1CE6gzVfl1gbEIFH9j4yVUcb7x+8dmJFpI3SxlG8s2IJK4lkyCJARepGa6pyaD+mT1MCPYpOssW7gnegJdz55qCBrkOV0eJM67MmQmMJ52I4aOOC/C5Jy7RHb1YSQzwwbbJb2tKyTFb3WAxvck8tCaOTw8a8r2Xs9PPc//b94aD7D0r+JPjL7/rAx3xJW7/TCHdtHCT6jHVAShZ5jdyGrNE2V4qEt2eFysfknNLWEx22bhNqyn6lSJ9j7WPMxIgkXszIBEGc5xWZR5BkX//n6+RypJUg5lhTxCCnI1Q0aa3bh6TP+57K9ehg3zm4ac3S46MJd/stRMYqS1edtjTxLVjoPmovzBiZCjHDOpAVcUl7rJnTPp1WIWxiMhZZjiTUtwkURZsXRw7tYGDll9Dzjn2L08ZayE0xSudJFOrxYA7x3tpIPQzN4CSJaolWveWNW1oYHnWfrLHX9lfr1esk6HgHi3OLfPNtXZIB8l0b1G1Q2GLlLZK8KFaWwdYhbwKFPZEUG0GTJsMYw5r9O/Jy0tesd0/v+ZjTaGRrz/O0uuLMw5rF2kMhCgHv+SLF7umF3NVjHkv8bb2urVyMvTdE7XarbtcsaSeEO/OadSaLuJa2Ys4nGAAhsvkW65xJGMSJViEaLUvuUuPGfSRK1r6rSIfgDWw97LP0uG0bsbNsbIyYC9rjO/bttOuk7EVtFJA23MYcMez9xWklTRoTica3Z77d7P2Q/BL8Ec9rjPKQuORle3qvp4tMw8QZ6ZTJp1SulTksaxuOGAf3OLhyFubCWK4C5PeICJdClCh7Ux0lzW+sgbxn2ohMXUnanSZxZCOgaIvE3sgp6aLlQmV91QbGx3d/POolbsfVSlTKPfDaf/jdpohSbazSedZsvi4rW6fl7aRd2SuJdj4RrBhhyJ0i+wGujTkcOOFeaKr7Ra1AwAn3VoDnVRsLAU2433bgbZXQShZ/iD3tvbvg/AsmBzUW4bTCx4SPkWjTyuYALxkJoYJA1SGetIWO99AfDE3Cj39x9y+ScOxYYZP3z1n/rPykddTs9bEPSBnPIYwLWJspNnEiHnok7rPFejTykcar8vxnmhKispnGGi36c2xKRRM5a6NnM75rEoGNDAYBLPlp3sppmodZkjL62SCun9nrmeiYYIXHa19CaMto9doGuQ/ei/qAZEky6mjpgrS5CNbM2YPvb6mzqOto/b0iUjVS97cb/TbRwUXb0Gq32z6Jl4kNk81aLSAGrNc/hik8By3poY01cuimbZFQsIQUUh4QVnIA3GDZDZJ5qTfe0rcsaaG8xHN5q6F436Z52ot2qU5YqL3HsohaNNMJAS1TOFycs+U5Te/87XtUPD51GxBXeM/gzUKCsJhXcdo9WRvxHNMldphmLLa8fsvEOw8vIIxeVjsdz3IOERLtIJJDMY1ZJLvwDNrsus0Kw4ERhlB3WwgzRuIGCQCKyBekGV84pGl9XN2eGGTTxlGMPbGElTo5Y+yhtO6t6JFaT/IipA1ta010MV6m9VnPoVheglhfY+uzSIHoUOvnPngu8PdYgTzXyWnlGi39EPOQ199J7YV+5MZHVg7MGASEeKPdNL1V6xWpvSYl1wpezL/r/bvUfUSapIxdI0S6RyfFzZvcNpnkofcfmniVSWRLrH4ZT3SbmI3EhYc9eFjSrI1EKtMu9YVkYl0ggTx7AIzKeWXgjQMTg5eOimO+YXxhfycHcJu/ILZ/KhPdqA12+llxZCBBLMWSMnnPwu9XbnNl4nlNieUF0hE9Y18e28IIhdQFeSQOuO+ApA2MGETZQQ5p4znPr6MGbXQMddEixmgTK9TXESNcI/J/Wl6Cv0suC2lHz/UsZwS5XpJeirEdwy5EI3syEpXboscDQobIlFiSVp2oFllC8JTIFCKsIL90yZOC1KRu5d3rvFg4d4tzK2cC1p3d19q9RZ+1DCPY2mS4sTHAq5b9qc6pgs7xaT+cY6jK+4bj2S6JaSG0MP5K5A9zAiNl2vjzdwxvnJnSciXZurKGaE91ZC7O2qIpwsoW9h9EcRG5AeEoETD6OiJNtDwhjg6iRS7XWZ14nTA47b20ESkQ7hc9d1FybkrzmtVtvfTRS2HX23Zt0TyRDl/M/qLZ39lvIyNCkkpxJIn1K5aQ8qGhD4U73ryjme43BlAiaLWnL+1JAs5Y22n5udLwkb9bB5BY0ldLLFOX7ydnYZEb0u3x/zZfT6wfEh3x+4d/X0jq0bbB/h95QZxLKLHcDbH7Xv785eHsp5pyHUnBsIgMC+cMvNRxEtC5pbTzk9T51b2/SqJfpOD894Olf5DIGbEXX3zBxZOcDXxX+JZpIzLvA5FMOl+Q7Wssmj7NC13qitPPpc9dGs59+tzkzyRpRcrSFmt05azF2UTKSoutlDjW6Pwl+oxDxLBEv4iMrtS132P6BS66xCJQmY86aoDrMYZi3EHqR6IeZc7MemtWeGPkG2Hq1KmhZ8/mSdDz5r7/7ghkIeCEu8+PDoOAJtxv2P+GCkGF9+BhvQ5rpvtVBJSzNj8rIR+13iuLu2ifSdZ4LYlBu5IADMu61h/LuyekKmS+TmgqdWIHRvH2SmsXb/G/vPiX5CCli038d8AGBzTT2ONam3yGv3EoAQ/ZVPCckOJinUeLUD7YXJ8W1m510TVRLxtt6+0jutFpeMS0K7Pwfnjow4mxQ2eSJ2SbhFQcDs7f6vxk06O9JLPai+lk4p1GqLKeH+JBK20VJa0hOCDcRQczrS8LzLdAkhwSArVoeDFtYQggxJTNk/USsfcS8iFPA1d7zHAIx6NMFw7AbC7RU9SFjevgNQaHVz9+tVmyUjGUWHIHDwo2+DoZaJZ+rp2XbGAxZDDnW1MksiWNfJINuPby0YeVmIY6/eFAiZEqjQyRPltvk33X2zeRbaDYZFr6OcUzP+Ydk4UHYfp27JijEPi6WDkK9PbtgR0jG++bGDfFgyfNaGTDZPPGLU8HWOSExGOVxHPk/+Bd4OBRJPKDgzBax2mkqURvxBJWYqB8YHr6/NPelBIFZeVIYoRcDBctryL5MNLmrCb1Yx64sfatpznXjLhnROLxJNIc/C0tUSC/QSDo8Gy5D3IheA5TkMrC614MyfxN8qzoexJpRQi2JFLUxBvkGB6msWI9ACVXhH0eyJM0KaY0wl0bEuXeEBIi/ZQ3n/kdj1cOlFLEgwt8mC+xkPDYOGOwJBmnLTYkXkckWJLFepjl9V+kVDCS4v2JhyDSL3ll8+s2Dx/966PE4MY3n8J3hmTCRD2JnJ2VWIntRcoYCXTyel1PJL/ox4XPXJiq5c/vED0QbLqINAF/s96pcp28+zHvZQjXPsv3qcxtIfBtfgSeX+81YlEoWTri1mCuPf5HvTCqIr0hfdaGMZnrrK1I3unIFdYw6/0uEhvWoYRvOiS/1ue1eYxwornhlRsqBlSNtXwfRUpCr5cxWYw8OUEMLXyzKPJ9pY8kXxZCOC0ZpZ5DjE3e3GHvg6f0l9982cxDlnvrua0dRLSTjeBgyWqND/tGJB90knn5nXsgTYenrE42m/W+cn+MzKxHNppJr9OVe6iE4BgDSO6tJU/kOu2gE0tUznU2ijVGXOetNZxvMGDwzmrDc1q9MpJ8GMY4l8k+yJKPco/rXr6uRT4oDFLsR7RDEusxuVisbE4WmU+UM/lVyhbmgnYaiOXfiJ3HkKjhmyo653pu8f8kMtdSp7F+yXcnlvC+yHOw92QPIhIuabIvtq3znz6/hc46+4EznmySKcXoicFYJyeNef7bbw6e/5DTYizm/zkfYxhj78WeUIzI9EmMsmnypNrJgOtZp0mqLNElMYyIyDl8o8OD/r5oQ7CuY50chGCXa0QCSJ+HkQeEdKdow6JOABwb/5hxliTEv+7162YGN+ajjoSmLb6LRDmRu+fa7Zpya4iThBPuRd4Uv6YaBJxwrwY1r9OQCGjC/crhV4Z979k3eQ5JZleWAL90QJPmud7E8JEQwllCt/mI4F1ImCWFAyDeIjqRUgxQG9oO0Xj6k6cnoVHW28IeGIt4RVMn5vUNqU0RYwDWeRKNSLHafvJ3yOMlOi9R8SbBu4rNOZ6K6DdDKA4cN7DSjkgo2Ge3CWi0xyVaxnhv2E1/HplfJvkt/WHTxaaRTdEmy28S5gvzhS1u2CJJsEjBmwodO7yyY2SEfaZY4iYJo9SbLKuHmXeok/uQ/AcPiJGPjcx9N+UwU+YAwGGUgxRkMMYN5gDhrrFCxMgFW18Q8jRw2cwSAmkTduU9ABt4PGGe+udTLS6FfOg1plczqQw8BBlPTbhj7Pjk359Eb2VDGct4lWb1XQ4ePa/qmfrMeNRwWDrwvgOTpjDqbb3K1pVmYxqM6F9CSuAdk1Xw9DxjyhztQtH9ps5hDxxW8WSzbaBtjqZz1jWx+yIDYaVhuM6uVTq5F7/HwlAt8SLvSVooOH3Gc7JoyUoeRhuyfqCLDfmCljyGGDzPWZfziFAdKUB7WfJAVs+V65nDHLQorMeSZJR/Ww9skQ7RckBcFyO+BB/tiYTEBqQ/xjnmI4W1Aq9Yq4MvHulWuzoL91hSPC3BAnEEGWzD5XWbsSSysbnFAZAIM9ZyKaIXK2MKOcuhUg762uAgUQmx57EkkZaKkwRjfPc4rGriQhuQ9Tuo7xHzZqYvNuFhGs5W0oXr9H6Db5dNdJg2hpCUVhIHCQ7IMl00iUui2P03aJUkQnAAACAASURBVJKIyJJ3goRgryJydtKe5GiQhJo2Oahch1EXL2TeQ+qIVIyWyGP/QIQK3wwMZLfvcnvQciDayKOfJ/aO6jB2HYGoI8d0PW0oyJMgsXsY1gwSQIsBKU16RSJjYtE+EIH0QbwvxQhjPRFZk3WyZvEi13hA/qHjW6RIElmujZGC2sNY528guSLPIUWPo/xt//X3T3JpxKKyeN8g7gSzWALuvP7LuqnPAzFP4Ly9mUSycj+ZxxjAeI/F0zgtN4GeQ6yHGLtH/210atelz+yl2F/ootcwHFU4i1D4pmtSFswwWB4z6ZiAXKQt7Nch5rRcn1zD/Mlar7mO/Qfa3kLI8825aturkiaskZl1AeJcF00AYyQl6kcnao6BI/jad9muu3nymLG2IQrH/G1M4phTJALHRnpkzcNbdrwlIZdPeuKk5LI06aFYUlvrfER99p6Q69bwm5UAs8z7rp+FuaAlxmJRuzbJNvXJzwXhrveo/B3nJzy7iTDNKxhqcZ6wXvJ59eR3iNjlF12+EuGWJX2q24yt7cgCXfnilck5Q/JM2Kg4SU4sbdl5yveK/lAPPmHn1XeuyP2x1vEu6ZxoMWk+3U+rgy/5vbLWdSHEtYQeBiu+60T58K34xXq/SG5j28d4iWOKlNh6rt9FvebaKBSRiZG2WJNj6gA4n4nzhEgUkrOFvUKsSBSnGEWdcC/6tvh1ZRFwwr0sYn59wyKgCfe+G/etEBjiwW21w+2D2mRqEB0QDtpD2XrOCrn0xddfVIho5FmQadF6ZfZehJLdsMMNCZkvHxV0TWWzrElo2ShLG0jV9Lw6OxRKLOCxQwMZ0CG9dPihkONZxIpsTkRagE0GetVsSCW0Wh+S0BXEyxpPFe2JZ+UadCgrB3lCXK3Xk05gBA6WNI0RGK2dyGBCCJyWH5A2ORBocoqDr004Sig0m0wdym1lALLCKJlHkBUUjDN4DZz65KnJv7P0YUUnvkgyVnkeDAZ4iYM75AIHNQk9tjjKQSorERV1IMdJjlvUI0rug7dI7NDH75D4NqKEsWDjpfMS2I2gfgY2+HiNYNjCIztP37PoPIIU4tApOouxeniuQC6LMcHqPMYOQVzDHNKRNrG28f5h04wsEEVvaK3ni66PNwtjqr1zijwzkQVWe9LqYsb0ytGefnD6g8ktRAdeDGByX3RZ8WRJkx1By1Nrotr+2gTBonGa9lyswyKPo5OHCVGfp++vPT65RxrhDsEN4a5lpmyf8HYjvBapDZ4Dz3ktpZAmHYImsCQB1G1yIOYgp5MW87slVWNrvyTV1Yl38+YGhBieT7roA6t4lWV52GG8xeNNl1gyVn7H011/y8R7Wog+PKXwjBIyAnJXjONpodO0S4LRbcdvW+mCJtzlO8d3/Dcb/aaZBxlzjcgMjAqQcrGkibGkyrFnTsNaJ2CWa7LCtbkmJmXE3/UBVtqKJRkmkoB+U/R3LGtu4O1LjhaIQkK6xaNT6kuIvU7erJ9Zf9f5HvMeIvlmjX2s48wDifrQBJ81TNG+1aSXe2IswjOX9RavYllz9fPqdxsZEiL/KKLjnTZmkBiE/M/4ckZyicVYZJds/XuG3BPIs6BD/uUaiECeWfI/8G1bcqElk5/FgCoST9owEou82OjqjRJsixbZ+8ai9HRiTNkvsueEPNKEe+wbIgkBhcS2/dEGPZEYKtpnrsMAB0lto6dsfhdNXqe1z1rDuQEpERKbi0elGN11jhbdhp5D7Ktx7JC9P/u3tZZeK5A0VpwVxMmBNqwnMHuKawZdk8wn8eJkDrMGSxQI9USeKO07wXhK4kT7vBjwHn/v8UpOixgerCMY/WQO6XwdVt+cMwiGSV10hB/GKAh3kUrSUUm6jpy17PfW5rcom5+Ge0BEIqPE/lVHsqTNBYkwypuL8j7qvR5yd8je2RKLsI05OvA+E3kqDjliLIwZTuUeZSQnpY42jMqeCK9xvL11icnV8N4yxle8OMe5izrIRfFtwTksr3A2QNLPRm3benyrrSc912BsxzAhsqixZMmxPmD4seQvaxdjqCWHiLTa/Y45ElKc2YgipMQM05DqfD+J2uJ9Ib+OjToQIzJtxKT5dH+tARL+gnckKz/Eif1OTAzaOmIZklzXkSirvPUWhxWRZ5R+iVwe/9aydDbxunX44bst30r9jFoWS9rOOkdL9JJg54R73lvmv1eLgBPu1SLn9doUgW+//Tacfvrp4bLLLgvvvPNOWGmllcLw4cPD4YcfHuaff/6q7q0J9xV+sEKFEIWsHbbOsPDpvz5NTS4luqd9rulT0dsbt8O45OOcpouow5WQIyERIjrFHO7/sOkfEm/1K/92ZYtnYTOEFxYkivY64l54FlOwnnNAlsOJyD5wuMELDu3hrCLX/2nKn1pscNBZ5vCjCTY5qFn5B30P8ZojySWHCz6u02dODzNnz6xkIo+F3mkLPe3ZzTHe22zUKXgiQsRYktZGA4AVhybxdJJQ86omTkoliMg03Wwru8KYs/nS3twShg6RRYg7c0PIILllmmUeQhhSRbLLY4joNH+nxABAielCSpuSiC1PYqL393snkQToS7KRxqMdoh1iizDJNKJcNt0PT384keCJFfGeTdMOj9XhwPDch88l4ZRpZH+alIgOM6btmGyJ3BNdUQxRbDCZe8yhmF50rI/aCGJ/55BHMrTpX0wvNA25L+SjJlNjHmwcVHjvj3joiMx2OSBCnONBBJGN0U9kJdLWIhqECOJd1tEp9kbWe57fbS4I/qbDX/l3TD4Fkor1g3WQg+xfp/01SWCltdHFA5P5GPNkv2bba5odbGx/xYubv6d5z+o6OgG11rwU4j8mAaLra28+/m69deRayGgOWDpRsO076yykPN8d9G51BATXioci8l7kopA1EP1b6tiCt+jwdYYnXvqsQVLsuszf7drMuHBgJPJHEjOK51XaZIxFNunkt5JUMSvhMh5/u92+W+UW/7v0/ybGrI2+v1H0trbfGGTFKM3BmPXh0AcObVE3LZSfC62xiLWCqC6KzBfIZL5Nkjic39I04fXNdVJP+TvvYZEQf94xSFirZ62jY2KGBLzM8fKy5eT+J7fQoI+9M3zHIBJ5T7VEk07ka9vW/dAeoJCUkEQSgael0HQbelwZKzTf+U6l5TyIhZBrb2xpO63P2jAHQUL/2OOcu+W5SRSVfUd4FyBtKFmyXfzOOo4El+zpbDLQtPdXtNK15BfkKcQm3/CuS3RNEp5TRCKK/6f/EBb0UYqQZDZJbREnDj0u+l3g7zZ/hDZOafKZNV8TbrHvishGiHSjnVMi2cjfrZRA2pqk/47G/eUDL0+ierRHsH1nihKoum3G47KBlyVSV3yzY7mMLPHGNwHCnWgxLcmmn00iQrgX0Qvs7cT5gr/JM0n0E57NGF6IWJTCvgpvzzRHDAj3mAY09ScOnpgY8vn2pBUSS+PEIHmxeEch8yjWmKuTBUt7Wh4IovKEficEIqMoJHAmKlB70/J3keyJGbi1wwGe93LGKDJHuAbDD/XYC1Py5Ec02WmlNuSerN137XJXoiutHVZs4my5nugecbqRv/HNsRHAnDVYTyQngUh7ZMmLFXXI4VtAZAoa9bw3SNdQJMcXJPhFP2qeH8cmwOR6oonZ6xHhrAuSbJ99/VnFszs2PrLesQ/QczptLDm7EeW6/c3bN7sEx6iNu2xc0b/PinDTFUXuC+whx9nXsud74aMXkvdRznU6MbXUF8OkPuvLb7ynzC/2Zcgjcb6wjiTaqJtnoLbGOOYhDhdnTj0zuSX9ZN/FWZL+UOQ90Q4GVkJM8lXk7YM5g9g8UNpAqvcgklBZsEgz9vF7LIKcv4thN22/ra/Z6eadwhufvRGccC+6Avp1ZRFwwr0sYn79XEFgxIgR4cILLwz77LNP6Nu3b3j00UfDFVdcEfj7n/8cT9yT1zFNuC+12lKVD4ps4CHFkQqIFSGKCHnDms0mA8Id77S0jYlNPLXNuG0Ssk08O2KbJe4tByjpx6CbBrVI8Ii3CKFq8vEi0ziHpywtNmmPjyybeMpFz17UIhGSaMvpTSqELlI4eLDZTa20K0SKfPTZ0Mz8emZyAJcNR1ryJ9l0xAhFvF3wfuMgrcP99ThhgBCyWf4u0gH82yZ4zZsrRX4XYjB2rbXkQ+pgKNAarWJ4ob4Oq0YfXkpaGDmyEsiNCMnFfMRIcunzTTJHWTrr4o2XlYhLQiAheMQzXLz22bhDUOnQT02yoUX78G4Ph9imWp4LwhNirWjIN96E9Imkf1mF91Rkf/R1OoEnfSWyAA+NmC67Nd4UmQtyTcwLVTwxshJqxu6RRgTbwyOHMTb1eUYBK1ek75nm1cY1kCOMl/Uo1vXx1L3shcua5ZfgsCsJkPS1eK7xvtJmGmHO9eAGmWwPlPwmYcppRtI8b2BtvNQH/7Sx1phDJiJrRRF5gzzJKpuU9aNZHyURThwQV1hshQpxgO4v62YsuZpdZ9P6qkkRMawm4/jEHxKCwBYxOFuN6Nj8ixEXeH7ixSXGv5gkkESUxKQC6M/Vf7u6QhDxreD7RnSEaPbbPhNyT+LsopjYfmutYsLt8RjF+9OWLBLFkkSa6JNEkBwEOWSifSwlpgdt7xvzmLNeZboO32x0iAk/hyxdc6k1WzyLTtppI2e4GL3ZmGwF64v1Lkxbm7a9advEGKSlVDD+8/2NFa3VzAEfL7ZFOi0STt301GRvpb3yGfPuS3Zv1oweV94xPCRlfbj+1etb3FJLgxw76dgw/vXxSd4ZbZiiUlqf+W5grMwq+v3Tnvl5SeyR8/jHl/9I9pfs7Vh3tTENfHa/ffcW0X0iN6H3k+LBinf7Osusk0iEZJFr8jwSMaA16fkN4zrrQ9FCFFDn+TtXLrcyhJBoe/7vns0iCZD/YD3d/PrNK/WY1+LFLH9E4giCOc3DXSQbuX6r67dKIizLFEmcbvXfrcSBlU8ocg/xRJecIDEy0hJvzHtyNxH1pefTT2/7aULoUazmfsyQzf6cOYiHKV787M2104RIK6XlimGPnpaziEgVJAStHIhdo8gnwFr45mdvJiT5usuuW7lE7xdjibWzPK5ZU4dPGJ449+gSS6Iov2ttcaQ/Tp/S3As7bzytAdRGp1Kf7yJEIblbeObnP3w+0c3GoYootVc+eSW5DQQ4WtrfX+T7YemFl07+BmlOPhZKzADB38WAoiNaWc+s3CNEMFHNkvRWf6NFUsM+r02CzO+xXEuSjwFDkRj3uVbnEJM8aXIPjEfWQQQZNMYBp5qlF1o6Ia5jxXqnc0/IbaJCIagxZOVF4uCsxB7QRm2y7nHGlL10LJdFrE86Sod9AecUvd8nOp3vd+y9lLNvbC+77MLLJpGMFNY89s02QlbLmYmBWnvO6/4OuXVIZc7xd/bgjCkJeinkDOH8hiMOY8Eazrzm3zqCTUcBUg8HF97lrEhP9vNImsFn6DVZGzV0BIB+Lu7BfIlJVPIbUr7kh7M5o1hjMKAcfN/BLSLMBRfJvSNODk645618/nu1CDjhXi1yXq/NEHj++efD+uuvHw488MBwzjlNHruUgw8+OJx33nnh2WefDeuuO2ejVrQjmnBfuOvClWpaQywt1F+HP+JdSyg/H7XkI5WSXMbKmvxy4i/DYzMeSzYTDwx9INE/G/vK2Gbdj2lnxryc2TBwiJGwOD4s2osuCxNJOMg1Ma33S350SZJoS2MBOcxhSIfQ23vIxuHEx04M9rArBJn1dJI2xOsvJjGBxz2hkBwQYoVNFrI0Nku8zgI/4MYB0fCzonOn7HV4WuoEP3g+Ik2iDzh6gy7EOkT99ds3EQVvf/52IrkSK2xGRv94dMVLk4MY4clCTtr72zY4fLHJkg24/V2SQMU8n9mUYgTpd+2cEFcOSMjNiPYnIYa8F4c9eFilab0BFZLz6EeObpYsFa9a2rKbcQ43JG2DIClatBGApJtiONAeFURsMG8g9EVHOKaBWfSe2vuZOngUcjCWg1XRdrjO5k6QunaNor/M/zRyUurhYfbjbnHSRBOeto94K7JZFl352DPgkYpXnQ4XxQuGdROvNxsNgWf2WVuc1SJZmm4bw+DOq+3cLNGy/C6SB2lG0nO2OCdJdJtW8HQVsiJ2ULb1tFyDPnSKvqUkKpV6VrJGSJxYf7T2LWsd4dAxslDqpiWblt9j3uL8JgRjbHxZn6z3Iod0iBRdYt/HO3a+oyly6/97i0E8Q97It4lICgx0GBkgPGPJOq03O+MHOREz2NAfjKk64iIPEx3JBRl55bZXVghE5imJb62OKcQFJGisv7F3UeuWC6GGlBqHZIguKTG5FzsmkDNWVogkx3IwttfnPT/X3/L6LRUiQWTFdDtpYdccSC02acY72eOA8b273ps0b6V39D0tMWufS88LTaRCamR9v7Tknm5TE5yaoLZyIbE8CrQjEjipC0sIgTWJ5JHIEkmuF64XgxbvAP3XOUh0kll+433Cq98Wm+yU34VU0BKFsWSjui9p/RfDP7/r6I6Y5nJaG7FEjFo2j3oylvp5ZE7pNQaymX2tzsGAMWbb7tuGtOg/nBtG9m3KZVM0kbN+FqlvpeSsYVY7I0h9DIUYZLQxULctRLLMBfF419fY6ArWC7zV2U9qabK979y7Mof02kNbsQgNnHJITv3el+8lkQ9vz3y72Z5Y9LzTcjSxxsRyyHA/JE8ee++xTJ15MbYyv0WuTz+3JiPt83BdjACW+nyDYmcT+T7HvluQmRijyJ2AMcOeH9LmN8ZE9unob2vCVqSIpF5aNLDs8cGZJLZEkDKnuyzapdktiYZkHaGQu2qvtfdq0SWR8OBbzf4b2SxdZB1A6hRHAYke4QwoxlWMiKsstkpFakrq2z2hRLzpSJ1YQlSpj0FB7weJHCXahhJzUiOZOvOLdZN9IxKv1oDCOWf8juMTByUp/I0IDiKIWeMgjGNSIxqX+35yX1h2kWXDrW/c2ix6i+8DexUdHZL3bdXGWdYO5FGt4Wn3H+wejux9ZBKZq89N9GnKnlOSyJUYGY/kj5x74QYwVCKZKd7n1Je9NP+vZa6QJ7TfEPsesE8j8lakH8s4GGg88SQHuzSHxWTMdxgfVvveakkSdJKhS9GOcXbfo5NrZyXCZYxiOcPEQJ7l4U4/Ht/98YocnhPuaSuf/721CDjh3loEvX7NETjqqKPCH/7whzBt2rTQrVu3Svtvvvlm6N69e/j9738fTj755NL3TSPcCZnGq46SRrhLsqnYTdkIW+9Pqz9GPa2Xzodkm5u2aUYiQypCDNoS0/7kA4N3rpBgRcLNkdEgVPHgHgdXNlexRLEJkbtcz7De6PUqnhJ46kFMkIAurcjGJLYpF8IpLREPhB0bi5iHDM+G912aFMfFW1+c/GYJR60NZ703S08eVSFL/1suwxtbW9vx8IBY09rz2otHdJepz9xg4whpk5bYUw61Ml+tZ3eaRqH0j/BoyOs0Qot5CO6EiVpvW9ngaW+JIzc+MtkwyoYe4hmSNU13ket3X2v3YCWN8PjFW0mHPkI0ES2CB1LM2zltLLWMDFrKhAtSJPxR17PebNXMDzbNvDta6oJ3IuatWqR9GyEjdYhMIFGvyOogtQMB8cfJf0wu0V4xUofNOoe2mF4012SFD0MYYgiLyV9J+3gdog//8LsPVx5NHxKtYYWLOBAwv7SmpcYFLxoOmTZhI9eQ3Oq0H56WumaL/FAazqINz+/MrwN6HJA5JNr7qE+XPonhlCLz2JKVaGNCmklSOisVpW/21D+eCnvftXfyJw6deZEKeQdA7a2HfjSROJQ0j0xIIjTcbRLQWCK42PcR7ybmlZDKIifB/MRjV+6fBTDJTXV4N+sPEgdpBjY8sbTXdB4m2pBLBAHSIEKKsQ5z8IytVXnt6m+/1gJHX5loJr4DEDqSSB0MIL4k7D4LE2sAYQ5BEMRKXj+pQ74Ukc3RGtp4Un486+PE+GqlCKhHJJWW2+HdIRIDHWhbZK+CM4Ikv0UeKk0iKa/flvQUvXISCKfJudEnyFuKlVCSyC1+01E9SGJowistn08RYwlt65wYom8ruvzshTCssf8TQ2Ra8lyL7wdffRC2vGHLZn9G4xjvVZ14GPIPg5UuEnmWNef0+y0kEdcTPVFEQ5lrxdtR38cSwBj4WCf0HBfyWfeB/BQnP3FyM5kJmbtpcnTiRV40r4TeG9DnfdbZJ5GBikksIXPAe876H8uHIfOZiDOMDNZhQmQXJQImlozVRlfgjMLeVhLW37hDU9JTMW7x/5aQtXkruIZv9JlTzmyKRlrlR8n8YM8mBaKQc06anBLPpg1g2qEhlufBzjPm/ICuA1Knn76v9YiOkZG6ISQveZ+vefmaZu2LIUtHytgO8H0auMrAim63/l1yP8jf2JdDzoknt56rlnBPyxuV5khh+4VUFWsEhbPXL9f7ZQvsIG/5zvK95FukpRb5fm664qbJuwvxustqu1QM+eAi+0Ua5bkgxMkFQdH3lptKZAme7Bi78H5GSov7xIrd90rkNNfG5Czx4mcMMa6x92DPJU4R0j7vKkZPnaSevuMEIc5r6Ptj0EkrIg8rv+sobyQM6YeWKcz7RhF9QvJaCoaMH3X9UYKPLiI9aJNVcw3GopUWXynqYMV3VGRIpQ0dOUB9bZzSRmQd3ch1dn9n8SkSAZXGj7Bv3XLlLZOk5WlF5MzsN0yT/DaPjJD0zDmcWqz+O/eSaDuuwRgkuZb4Tb7XeYQ7DmQiT7XdgtuFP/70j2Hq1KmhZ8/sXHipD+s/OAIRBJxw92lRdwgMHDgw8WJ///05m0Hp5HLLLRd69OgR7rqrSRezTEkj3CWkiLZiH5Q8D0j7IcO7a+KQiS3IrSwJD/1xsM9kyTDRR9VeR0U2vJAUeCnoEiPAxdtcPxceEof1OixTJ1o2JrHQT9EjTQtXZTMJ+ctH0xY2ahc8e0GqNh8ey2yMddg+bXCIxSsJzUiRgLBtS+h1mXlkw+lidfHo116qPB/kgU5Sde4W54YtVt4iqa5D3qj7s3V/lhnCLYejtMRdeLAjN6T1UPEWFgJLEtZe/dLV0UcXUl2HEcqFou+qPViQFCGMlcMxhQ0Muq+SLd7eRKIobP4DPPOJTOCwjJchHjriYZolexJ7CCIyqGOLaETrv+Od9cu7Wx5obF084QnztzqTXIdXLodQrbHIO4EMgCU/8ubbwK4DE1kN5BXSikRtMBcYWzb+FEhWTXAV8crUZJy9n05imtYXxuy2abcFDHhS5IDGv2OREhjK0IpMk6ph7PFQQ6LKFp0gM+0QkIWx1nzEoID8TVZhXdrwqg2b6chzvZDVOqEUf8eLjbkiB0ZJrhq7hzZq6XwVsWtjCcjsdfp7gVYp3mKUA+89MDww/YEWzUKoMqdtokgteSWVYokbMS7z7ss45RErseey98ZTDAMsCbJjIfIQcZtdt1mlqbxDMRcKGYzeKwZLQtcprFWMr2gL6/7ltWuJLfHIkgSTGIYw5mjiTXv6Zc05Dp8YisVrES++ye9PjlbJ6yeVYvqoaYlS9U34ThHKfedbdyZ/ztK11wQqxBSkPInTtRGyDL7Ws1qkFdA514SRBQUPauQASGgOoSJFk8jag1MT6XjgYniwSYRpoxpjCThAAknOANHbxssPbz+9jmQuQpG8AbpuJVly58XC6kuu3syDnuvKEu58g5B5oFz+/OVRD2CiV0QXmut09Jh9Fk0GyR5Wr90ytvpvGCtIaCn7CtqU6Iy076oY7TH2bX3j1pmQ4jGOhJ94EnOxJGWNJeTmWwthhFeyLVZyht/RXsc4TpEoT/5fxt7m9uA3GxHCGk50Ep6/+ruHvCV7XnIQIBGJbImUWIJrDBqSMJ33gIg/0R+nnuBGXWR9kOaQIlrzkH8kEAdb8lCJ0SvLGChtZK0bXKPlJDVW/JYmHyRtY7zHwD3qhVHNiHPZg/B94eyx9jJrR+Wt8NQWOUY9rry7FLC/8JkLE4OBOGfxdz1XbWRH2r4E4xhGsryi1+aYJ7nOmUGfSFqrpTrwxO+xbI+KJzuGKBwiIHHZq8byK4ksWiwvWSyRbdYzEE2hHTB0xFzMKQsP6UnvNUmC8d1EWseeT2T+26TiaXv9WP+e3OPJZvlN9LOKAUzGTpJsZz2nzuWARzXRx3jga/lQ7dRh54UYW9MiS+TenCETw8v/j5SXv3P2GvqDpgg6vd6IF79clxUhItfk7SPsmEo9ZAk5F2att9K2NYTqe9rfOFdgoGL9lzwkdiz0vMIoqaMJWReJlM0j3LUm/dDvDg3H/OQYJ9zzFij/vTQCTriXhswrtDUCyMV07tw5WfBsweI4e/bsgOxMVpkxY0bgP11eeumlsOeee4ZVR64atKQMmw+ss3YDJXW1Nmvsntb7QsIY7bVZmtZc++DQJo1GW+yHmMQpHHQ0IY7122Z3t+3E2rceZNSRZLD8v9Y5PajnQRWddC3RYT/WsdAukXeRQ4LtW1YSS8JVOXSJJIite+mAS5OEQFtcv0Wz0GOINMJkf/vwb1OnCsSOhNMVmdd4K+JlneZ5Lm3YDfwBGxyQeLxrD0Id1o9cimiVQtaRTMomx9H9k9DiNE1NNjH20AUxJptsDnqEd4oEjH12Idx1Qle5Bm+Sk/qflGxsJEER4bUb/M8GScJeCqGPOixzlcVXSYwfeBpBRHKQIamfNSZB7moNe92vmPxR1pjhjYZnmJUiih38skghuQdkOkmhIKdjkRhgrsOAqcffYgevrMSSMf3S2HPK5hfvXAjd859p0v63chtFvDJ1gi7ayJNk0f1hrPGgZ7OvD606MV5snuJlxbxIyzvBe4BhRvIU6Hvq6JXWEu5p67XFnISMoqcpv0FIQUxRdKJLSG7enWc+eCb5LUs/X+vYQ/ZkhbanaaDrvk58a2JFykl7MtuEWVJHJ4LUGpwkqD58o8ObwYAszH3v3BcgrUUyhvfsq9lfFlC1NAAAIABJREFUJbJflBjxVGRt1eMIphj7iAqCKNSHV9rCKwrJFQgjpKqe3uvp3Ftor2M8/vA2k7YwoMWMg3kHULvGYtyCeCERJIXvC+Sv6Nvzt5jBL63zWs+ZNT8W5SVSEHkAaKOQHPLTJN50W8whDKEk5cTYLIf72P104lM57KbJkaRF9Ol2rTODePJmJXmmvhjRGB/mCYQZRRPmfPskyaO8A3iIItWhI9F0f27b+bZkzcormvhg/0jeCvFMF/JMJ2LWxsmstvmWWS9CkTuUKBucKoiw0Z5+0mbefNbvoJZmOe7R45oZU2kPgoXn0gZRPI1JxplWZA1Fb/9PP/xTIo8gRSQYRb5L8gBYbWPJP2BlvKQdxodxyiOwZB9NPb22y1hkSfrZ50szNEBMM/8w6CGFQXJJio4OhKBjXSdKkWKjK5AMIrqAb4+NOiJ6BNkJtJhtsd9FLenH+WHUi6OSXAVStLc93yQMDvSX/Twa1JbQZ/3sNaZX8mxpuXN0n/LmHtdi1MY7mXkFwSsl7xuv29bX4nm742pz5Ctoz5K1/C2Wd4S/5/U55jkvUThpfZbojrw1RL/rsW+xJidpkzMEckFS2MOzbp8yeQ6O/Mb3FKcMGykj9ZBRO//p81sYIM7e/Oyw1SrxXByxZyEfBwZzXSCkkUDUHuqxuhiHkMi032SRusRxSc4a1Lce+1nY2jHVEYFiAJO1lGjR+3a9L3Oo9LdIpMm03BOVOTf+Yr1fJO3YeSHGLK1fHrshZ8h919+3hTSg3oNqQ4bV/dd7cEjsKf+Y0uI2efPdysFIA/APRElaGbzY+883mbFDZlNyech1dj/FGYLIWu2oZjut1y2b/0LyysXkv3Q75A8RQn/YksPCb3b6jRPueQuU/14aASfcS0PmFdoagVVXXTXgyU6iVFtIoPrPf/4zvP7665ndGDlyZDj++OOj11jCHU/Lvis0hULFNklpCWukcRb53mN6V+RX0jYmaWHKtJOlhffF11+EPtf2qTyLEEQxPc8sUGLJcWKHYX2o1AdoLZMCacmGSuuQysfahsTqBGsxiRL6bJOM6ueAUCdcUjyF7DMKma+JJq5hE4B3tA0r1/UhgTlYsJHAUwgvG6uDqK8vurGz2diRB3l4+sMVr0ra1Mli9EYDfelf9fhVZgJcIg7u+ck94bqXrwsnPXFS6sZJz2c8pWJh+Hi8sLnV5LuQ6jRsQ2PFQ08n7UJag/kxYFxTyDCbSO1Ny7MyD4g04IApMhM2/4F4z8fmMR5GRDoULXgREVViN5ZaF1Daimkr2vtI4kur+yjzF+19e0jnndBSUlwryf/2uWuf6KZXvKbznlM8donu4EAmZLdOCEkbRbwyrd5omqHA9gnDwV2Dm6KNdFJG/q3XwVjCTkL38U75zYO/iT4q78G1210bbOJgvJx450UeRw48eEXd/fbdFSI1Cz/IHN57SlEDh9Ukpa423nDYQIOSQmgyER6yPsphKdYnHWKbpdNNXZ2XIu35tCczHloQ4EiJxfqv52Py3l63eSVZWZbnvz4cQlBBipG0ioJcFZroZYuOskC2h3UY/GIJoPF8xRuOcHnIBox9eSWWpFy8Eq1nlLSVdwDlOr3GEo2Fp6gmV0kOqTVn0wzraf0XXe20pMu8f7yHeUXvP2TOx9Yy245EI+W1z+/ai06kRWLSHFwbW4ftPay0gWh/oylPdF5a0e80xBURTLyTQmpST8uIYTCGMEAmJGu/UBRrnfNB1sJDHjgk6a4YDTRhLNJUeRhj2NIkNdfL/kpIHghn/sOZwpa8+aznMiTE0ZscnTShvfH5N/IDfFfQSiaMX0pMN1j3QdZyJL+QctQyUtI3NPB570n8K3IVGiuJnLAJAOU+klg0JvWo+6KNoKKFze9C0sbyCaWNTxauksRdzz3rsa2/D9azHocTEjp/9c1XiXFXog7y5kpaRBP1MKiTQ0p7REvS1Lx29e+Sq6JInby5RxsixSXEKn/jOyrRIUXwX//K9SuRshK9petlncPKvi8x6R7xik4j3NP02O29tcc/v/GtYs6yV6dg/JYEw7EE9UQJkNvHOu7IeqG/9freSC7i3GLleYoY+3U7GDOtQw/7G55D53aKjSnrwyUDLqnoass1EnUXI2bFASDWHmsZezPOBDZqVEdLSaJOST5KW7x/7P11wUCPQY8oKiJLhawVo6E+N1NPf4/svEAm5+adbk7OuGnRnrQhjn86Rw9/13tCG/mVZohiDrF30kWv92nvWdqayNkPD/xYVBht2e8bzhTTPp2WRJzoRLtcq/ckRaLJbeJp3u+rXroqeVfEOG7zF/HtwYFBpBx1dMWIZUaEEduNcMK9yKLu15RCwAn3UnD5xXMDgbnt4a4PfrFNUpFQOsKTSbzDhhh5h5hWcpamZN5mNOa1EfN2YnwIr8PjFK/dfe+ZcxiS5Cx6DK2nAL9pPVMtD4P2LZ7dhEfTFhZq7WWgn0GTjJro15vEonOJDQXPcubUM6NV8Mjgow2hrcMkSawImaxD0XQSGhr746Z/TAidW964JRk79KLFG47frV47ZCibBe29HesURhqtKU/IJxIpaM9KEe0++XdauF6sfTlUpmmPy1iIxiMeDRgLYl7zaBoO7DYw4O0oRSfW1YdRfpfEvlpDlbaZ90IGWA1tIZnts9hoCO1VZ69FskR09vRvePRpTy35Da8zogrYhOqSlhgoz4tKDoF2ntG2jKVNDsc4EBqM9M/U96eGA3semBCElDTCvagHrH7HGBN5Ttaz/mP7Vx65iISF1dCm33i0xsKsNZY6PJpDiCbP9UEl5r0zYJUByUEG70mK1Z4XbyPtmcx19hANQYO2IwQNuqFCpKetL4TTL7/o8pUohaIe2fvdvV8l5Jm2rRyA1tZkA/+vb/8VMGhSsrzotUEVr0vJU6D1O+VZivTVYi3an4NuGpQkyrNFhx7rXBdZhmYOS6KBTjgx3pei8V+ESE0bG6SQ8NrEEINEAN+nmDE273sZax+vPZt0VHtYxQx6Re6j5ahIfoc+u6yztI9RVxvMsxKTxfptNVu5hrGBjObgzLwvUrSBXnRftZd3WhuS06XIPe7++90JOUgRw2HaN6oIDnbPJFITQi7j2at1qKWPkkcgq89lEoFKO+K9moeFjdxiLyJyW5IzSCf9LGr0i5GPsheQiDM8SDF4MRa6sJd5Yo8nMruOUwPe+RTmFvsjPJiRSNK6yOIsYCMW894XbRSA2BYZQDyuWfvSCms6e65B3QYluV8o2sCp62GAZn+al5dFk9x6b6G/v0gR8H6vtfRazfZutp95z22vt7IQGBghGHXiW6mjo83YY53Q74S86Zf8jgc6awTfE5uEm6g3vHh1MlrqlH0O68mL9zTzxu65irYte02RoKReLG+BBsASbj2u6lExupNrgsTVsaJzp6QBWgSP4ROGV6R6pB30qjFGaFke+a1IZI9cu8GVGyTfQV2kT9q5A+M43va6iBOX3dfKHjstSTbRPjjyiISYtBkzXmRNxFOeOKUFaQ+pi8SHRIhy5orJM0r+Imt8sjJXzDOMgkSsWelB9mdEGELa3rLTLS2IXek70dOSJ0iMJciV2TkMxhDsnA/FkxsiGWM950etgW7P5hh0d/vBbskt7XhgVOSMTDSfRHvqCDzpp+zH7LdF5+mxUkAyV+y5RHt00z45EyD0sxLEcx177VhiVM7VRDpK/8FCy8PGjBZpc6esI6E2zqW1qSP5T9/s9PDjbj9ulqRWO3X85vu/CcN+PMwJ90JfGb+oDAJOuJdBy6+dKwjMbQ137ZUT88TUWtutBYBEbzFyMG9jpz/S4mnABw1vDlsk5Ja/s6GGaMC7C+9hW2LJiB7Y9YFEP48SS04mXq0xb15pHw8ESuwDrhMvFcGT50ED2yZFpS4Jc0hERbFEE7I3kFmiW4kVHimUu968K9F/xcOWjZ22sFvZBTxYCf2WjTMfa3QcY7jrZ2HzccRDR1T+BOkC4S4EHD9YaRM8jiTxTx4ubHAIX4xJ9OgkOhBjkM6E1c6aPStsO37bFk2z4UNTVd9bHzp3unmnSsJRKguBpwkDDszkOsATiYMeMgc6vNUmpZNO2IR6sdBZuRaPH/QS0RPWhcPqN//9JvEQ0WXMtmMSLxTIbl1I5kfCJ1usl7f9Xbzv7XUYF8YMaiL17eEw671OS6YqYZB5c0CHM2tJJt4HpEGkiLRDVnsQOZCCeGyJpws46zkcq6/zQlgPHU3UxTRl8SZKMH2yKfkpnsEiUcS/JVTUJtjK8vJOO0TqvkP0QWbjkY2xJovo0fXQrtUyDTYc1h6kdNhulre4PsQQWcLhjcJBAvkWXfTanjaeMYKCeSie0kSf7L323skBle8Cic+kDJ84PDwxo4mU01Jr9l5aHxmvNb4jcujke2q9lvLmsvwu7wSHcrTbMRDEwp/zvpex+8V0qJHuYm2mWO9h5gjESV7RUi0j+4xMjDmSDwICHn38Da/esNJMnhewvV8sOSSh+SQvLVNsMkQwPHvq2YnOeVaRnC5F7qXlkYREtJEv0o4YyvPa1e+VSJ1J/oq0ZO6Mw+A1Bmc2HUsMmNcXSXqZdx1zCfJBRwBKHZF50gbXorJWsXUUB4ip/ze1mS44c9DmrYFUuH2X5l6N9jl0+5J81Mr66HUhS483hhHGGAwBSFL9cbM/BkL989aaNKy1cZBrMDzIPg2DAN8SMebG2tBGDvbSt7x+SyLN0mf5OdGk1OObSOSG1qrX7ek9aN68kN91zh7529hBY6O5DjQpmZdPKnZ/TSjK70QJQAhrLXpkVZBqK1O0JzD1kDdiPzT6b6NbNFNkzZYICJEFopGspMusrxDqWsao19W9KlGqWTkF8hKxakm8LEys8YRrcTA56P6DKknTdf1YpHFa+0ROE9mgizhO6WhhCF2d54DrJdGqdWqRtSYtkSxGNgyxeq+DU86EIRMS+aKiJdb+ZituFrot3q0yP2w0prQt6yzvs44OS5N3jZ2DiLzbaLmNkj1eVi4k7SjCtexp06JpMeBwphKHK8h8kuUSbWXXAb0+Hd/3+IDRlWKNKOxz2BM88M4DQaKgrGMY9URGcfKMyeHnE39eGQZ9jrT5H0RO0u7Ncfq59uVrK22UMQKlOSbp6G+9FnOTWCLttHlUNNm11Jd8IHnzEsMj32WkfdifxqJTaOOYFY8JQ7ce6oR7HqD+e2kEnHAvDZlXaGsEfv/734dTTjklTJs2LXTr1q1yuzfffDN079498PvJJzclZyxT0pKm6o0gCzJhrpoUz9q0lbk/1/a5pk+LhEt8cJ/bu0neIK3oj5yWiIh9/IoeZLlX7KOjs5vHEk+xwWXjYROuFdlQy/NpreA8DDEAoH0eS56IDMxjuz+WNGH12yBqGEdIG9E5zbuXyHTIdRxM8BIXLxMJr8dbLeswp/XSaQtClHA8If/5m80in5YUlAMu3hY8g3hoyuYuRhqkaXanJchDquCna/204lnLBpIDqxQtHcPfJHmP9m6Sw2tamGqatquVHxLJgKLvAtdBfOJ9R5JYXcABz1urEZ72flitWLTmtXeRkD0Wc5IZou1OsaRd1jsR06Alie+9u96bN02T37U3iyYlkdvQXihpxg57E/Tn8bKBgCT83eq6cz2HUEJ38ZbkYIJUiRSrX3/ddtclJLoUQowhNUiwSWFTTsizJDW0yVnxbEamxx6msjTpj3jwiBaeWfY5y6xTuu7RjxxdIcP5OwdTCe/m33Yt1uQ5XuDD1hmWOq5CEmgMOEhY0qyIPJDtCzgjP4WXKvOZaBu8bDGykLRWFw7xhNliVGX8YoYprtffDSSmIPmRkCIK6qHdWkpZFJrQaJ3ed1BiIGT+sS599K+PAod0K49RzRhywMSgrguGUTFEWwM2CT8laV5W/7VWNIdOvDwhoijIoaFHu96V61WaKNv3mBbu+B3Gh9W+t1pRWJPrMITi/SmFyIY0HV/dcJEcEPp6SWYphvk/TflTNL9MURwIfRc8IdiZu9vc1OQ8INJn1tu5CFlm8SgCZtE+01YacSDGEiGyIczv/snd0fw9sT7F9nwYkbcbv10i8YIRje/IX6f9tVl16wmc9ryCJQYd+qq9rrWnptTX/cnDR2vb6zw3OrlzkXHgGq27jhMAZLnoVadFPui2hZAscj++W0dPapLXsaWoRIiuZ4nqIn3gGtl7Fb2e66ykk+wxLPFn96NF7mGj4PCeRusdLWldis49nRcIj16+LRgMYs42aRInWuYmyzif5rBEv3UixjwctJFarsWohgONdjrht7zEsfZesXf91p1uDSTv1SSq7Mt0fdmTW0lS2bfYiESpy/qBcVaiyyBjybcUyy+WhY2OlpHr+K5zfsSZA4M265Y46cg1GOOe3LPJecbK6qQ5yyAXY/XDtbZ5Vj+14QInLZ43zUjMnow+SfQQXvTMd/YsNim1lkKUnCn0Q0dgSL+ICiSpr+QbQzJUJzTmOsn59e4X7ybJ1KXY84wkz5bfyQFBHdHDJwKetiXiiuuKSBVKe3pOYhjDyE7RXvPI5Lzx2RuVPhbNfSIVyvADGDIwaFRToooGXU8J22++vRPu1QDqdTIRcMLdJ0jdIfDss8+GHj16hAMPPDCcc86cMLmDDz44nHfeeeGZZ54J66035wBb9AFihHvMi83qYpfx8MrrS8wLkg/gxl3meKTG2jjxsRMrYaGiE8d1tj3tbZvXl7SPm97UsCmFDGKTIUUSwJQhF21f8BKGXLFJCGN9ZkOB5xVJIdkIjn99fCVk1BKUOkwcnfCPZ31cIW3YBOeVM548o5l3DuTl4Q8dXtlgiee39uSDBGDTpZO6sjnaZ8I+ldvhnYBkC4cfKXoc+VtMj117J+Mhv+1NTR7qklTKGhn4TTbk9lnTLPpcR/i/bMjsQdR6/UsotvbQFs+TtDDvtI2yJSXyiEn6eurkU8PVL12dPB4eX7/u9esw7tVxLTx8ONwgYWRldNJIAes9CNEUq2vnvXgC0h/bRhYBoXVx8YDmoPHDlX6YhNwWKVovmSR55CGQBJJ6XdCSIUXalWusZyN/RzoHuSzISK1Jy2/WG8nOQ7BhvhJOzCGagiQNnj2E0CL1IrIk/CYHGCScSHQmJUtyR6+Tac+aRwql1bPyW9YrSGOOXM6RvY9MomNYOyFIl/vucqnwS54ErS0fS+hcJFqBm+gDI+QTRmMIOUqWnjy/M785YOd5qUufIcQ///fnlfDtv+7cnOgrM+fEqMG9ISKR5Ykl1K5mDGOkWdYY8v0gXDuvaK8yoqY4LBNBRRHpjTKkpL2fToRW5B3I6q/uB7lrtORcWr0iklS6LlExmlDh33gAIvWh86OUGUNyjxBth0fhIRseUvGMlvBwkSKSfhT12NNraNrzEzFG9AZkp3gp5s0J+R0jF3NYF00+YKTEeI5HetESIwkeGvpQ4ijC/ojImIU7LdxCo7foOErkGljj8Tn5/aYIQkqsDSQO2JuxrqCDn1V01BT7JokAQPKBb1iZoqNF2dsh5aSJqLy2svIm2bp8ow6878AWTRKlRSRdnhSDrRiTjsnrL78XjYTQbVlHAtmvaA9cLUtRpB9yjU26fPoPT08Sx4sRneuQOLroRxcFNOLzSo8reyTRilKsEZ59Jvck+i1NWoczANEjvFPMV2tU1n1I89YVo3Ref/n95xN+3uwd4W9E2Jw55cwwc/bMZk2UcYaiYqx/YmggSeoB9x2QtI9TDkYc9ldS0mRMhFxNSwrMd5f9HfKhEqVUBAd7DTKrWdKbXb7bJUwcMrFZsnnawJv+0d3nnJPuf/v+xPmD9Vcir+297N6T34vI70k7RK9AvCMfy35JS6NlPTv7NZy+ONdJXi25XmvYk9uFvT2FhOr6PM3fOGsQkSNnMAwqkg9I2hNnCwzFJM5mrLmOfbYu9ptGhAzEuORAY/+Mc5J25ijjgW4jzu55+57k9jgWiEMZTkj6u1HW0GSjl7LGoGgS4lgbMQexs1c/O2zdb2sn3Kt56b1OJgJOuPsEqUsE9ttvv3DxxReHffbZJ/Tr1y9MmjQpXHHFFWHfffcNF110UVV9jhHu6NWxedNFa6nx92oOA2kd1JqpZTb8HKQgo/iQ4YEgxW7IsqQL0vokiYrkdytpAVEjVmyukZBo/h+vczYbbPggXsqWtNA9DrZLL7R0Et670fc3atYsGw76REgo42cT5onWMmQ8IbOEZELacBjIK6NeGFXRihctUO6DZyTzBCkGKYT2odvPBx/C8Ec3/qjyG0YanUAGTNGXZ25RiGpg860PapZY5Do7FoTFsTFDwgWSn2LnQJZHs01AKR3GsHDkI0cmsjPgBOEmhTHWHqZCriM9gXcPRe5pk4GlzSk9Drr/eQmKqYdnLgmd2GzKnIt5pEDoxHIGZBE9ui8kfxw0vilBlRTqQhxjhBJNWxuKXZRc09r4QhzlzU/9O9JIGIMokN+sERL5oPtQNkmj3MNGH/D3LA1jq++YRoxrAlGiCDiUgyPEjRQdoqufJ814Qz0OEjrpIWsAXvY6gW8Zos+OBwmZeK+RYbp151uTg6kU3Uchpr7+9uvkcKWvi42xHDDwCsYbiYIxSQxLUkdL+OTNFQl1p6/IxmAgo2gZlbw2sn6XJKxgDMHHN8Lq2pdtP5bYNGZ4qGYMY4doIpE2XXHT6BgWke+hopXwQQ911IujkjbFQFJ0TYjhFTMUICdWJrxf2t3q+q0qiRLRnxWPYH1fJPSQQ5AyYfCEUoSwHkO8ZiGFIMEwJGI0llJmDJEeEYO29qQTEsImBC4alRjLLWHHADJbvrVl53OMMGtNjgPuD/krhCaRf8k82/mOxMMTshKykD2SjY4pindWss1YHqAymOhoJQyqn/7706R6Nd8o2X9A5DJHicbR8ySrXxj0MHwUNW7H9L4xbj8w9IEWhucieEii7yLX6muO7n10GPqDoWWrVeTEqCjOGuhjI32F0YDIzbJGA9qy3vPMbXImSR4Arik677h2jzv2yMzBgpGw7wpxTXYNCnt29kTsIbIKpLis1fq6IWsMCXglFynWISWrThksaCe2fsgeWUf+sN7xPmkHEcmhYduR9TzLw1+eQWQUi+Bgr9H5v2L1OcfSb5yI9HchzyEg1pb1hOeaormQYu2l5Uez12I0wPOfdRiDIVyBFIwAB9x7QELg420vDgwbXrVhs3wYXE+EAmuhyFbZHFhco6VekWXFqx45PxvpZnNXEK2xzjLrNEvsSq4lLVc4bodxSTLbIkWkCbmW6J7TpzSdq3UuLZuUtayhCUcVIgeLFJE4LXKtvUY7b8lvl/7vpaHPxn2ccK8GUK+TiYAT7j5B6hKBb775Jpx22mnhsssuC9OnTw8rrrhiGD58eDjiiCPCAgssUFWfY4R77OBqPViLJsoq2ikO0JBZJH/KI2Ly2tQbMnSzr93u2tKhf9pTSEhmfV+rUahDzCEfIbSrfQ69adT3zNtYQ2R9/vXnUa8Z7WHHwRMJi6JhZzq7PCTgjTvMSSSaNRbWwwKinMMfYXXI70Ck9b2mbzOPl9jmu2wSMvpkN+V6Y2b7HNPk55qsg4CVNEA2gSSdjD1hrciKiHQIG0yMELYUJbmLSAHExsGGr8o8jh0qivbFSi5oj1c0/CUp0Pbdtw9/2HSOVEVRcu3Rdx9NPEzpKx4gZQk0QlDRLNdFEujpPlRL8MQS9KVJA0kf9H3TSEGb9Im6eOFwyJDNu7QnY/XnZ/6ckEx5B2HrDYxxEGPYvnfPSR5d9tBr55t4kdnD/K1v3JrkGMCbCK+jPA9x3a7OhyB/R15Jewry9zz8dZskGCYZIFFcHPgOvv/g5OfztjwviSxobbHRQDKO3KvaoiUnpA1reLBSRUXvZQ3p1CPcWkeX6fmLfjvY5RUbOYRnsCTelrW46JoQu5esE/o3DKSxxOx5fdVtkS9DR5RQF9IGgllL4JT1TmPO8r5SkA9AyozDMwd/yHJ+P6jnQc3kmPL6HSNSITwn7zk5GSOrc48e9trLrJ3XbIuIpFiFojk1YnVj3oytaU/fQ0sk4c0pCUh3W3O3xPhqkx4WXfesdJa+Z2v7ThQWkV22ZBlRswaRZN9LLbxUYgClaK/ftHqQiBjFtNxZ3kSxcmlcXyTpb1q7omWfd1/7e7X7Ix1Npz1CWbvwaK6GbKdvOtKTfzPHtNRd0TwY8px5ESfV7mXScGYPCzkPKYr04KT3JiWXEm1HhFqRkpaLR9fFsQD5PJI5lykxwp3EnUT5aFJS1rv1Rq9XkexD337b7k0RsduM2yZM/2J68v+a/MQLHZKX92HdZdetJLyWPpbBwT5X7Hurr5HEqCJBJr9Va9QjChKnJQp7L9op8v1OG48rX7wy2Y/GcunE6hSNLtc5BqQdIuN4D0Uy1EZ2cF3R3C/WiMzZE3kwDLByLrIybzgXkWi7SOHcgfMY0qNIufzkrz9pUQ0S/IoXr0j+LrmYirQt19hE8USsSb4P2w4KASM2GFGm+cq1sZwoo9cdHTbccEMn3KtC1CtlIeCEu8+PDoNAjHBPO7jqjU412oZzC1S96arWoj/opkGJzjlFknHq/pN0kjBOKa3x+LK4xBJVIiuCJ3m1h4BY8lESI+IVnlde/PDFSuIqPL3xjC9StE5imvav3TzHDsCW5CxySLYhrXmJ3axHCc+XdR8h7gSHLC90CEeIR112Xm3n1PBfrtO46OiJIrjLNZbE1TqQ1qu/KOGOfrOWMtFEn+7z8HWHByJLpIiBKo8cZrNHwsVlF1k2MciULTpZo9RdbcnVwvgdxzfDlOeo1iBm52weMaKvT/Nque/t+yrkr/QbrDAYkshUijX+YaRcduFlM9cFe2BHgxjPe3TJpRR5p8qOBdcznn/7+G+J16QQQEXbiREwsURoZUgeLVuAt54kD65GLzn2HDHDCQdHImCqLTH5FELJl+i8RJLcExKk6Jps+4BHJx6Uutiwcz1/y5A1ayYPAAAgAElEQVSLWjdYty9rseQWqCYCzUo7kT/hiT2aEtuWLdrgqnMEQAQhPUFEGRFjGocySf7oT0wrn78Tcn7ZwObazkX7H/MI1h6FOp8IbabJqsXuN/GtieGwBw9r9pNIdFWTSFI3dMULV4Q/TW2eiLJW64/2IMXIhdcihe8ReUaQ8ZGCfMvobVomsozhETOk1WrtjOWRwXCCcava/Z5+hpgMmn1GradcdP7Zfq+46IrhzsHNk7cXbYvrynhF63azElln3V/n4cEr9oAeTVIkrS04HUDmY2Ak9wvRU0JU0jbGbojCMmXIrUPCK5+80qJKLfsd649Oig4BfViv5mtC2jPc8/d7wqEPHJr6iKwhJ/U7KTNxZ1rlGOGOzAsSlSS5lyLrnSadz9787LDVKlsllyCXQvTfdqtul0TA6IKsIxGtNrEm11TzvZK2Z3wxIwwcNzAxAKAnjzORyI9wDVE5Ky2+UuI0AolLIaH7eVudV2a6VK7VEaNlciFl3Yw9HeuSPQPF6hCJjVxPXonJjPVfoX9yFsCznsK7RDS8FPaTfIeLFOv8xfq6yfKbJNHV4pCDRz45pKSUdSpkr4CjFV75W1y/RbNu4XCAoeeCZy5I/i4534r0Xa7RDihSP03+6ZCeh4SfrzsniWyZ+3CtbheeYOv5t3bCvSyIfn0hBJxwLwSTX9QeEBDCvdcpvcK/uvwrIbnuGjznUKKfkSSV6LAiW0HG+VocBtoCQ/RjyU6Ptw5eY9UUTUgi40KYrC6WBClDROT1xyaAySP08trjd/GG1deK7nyR+hgXOEiQsKnMuENo4WGFNR5tP1uKEO7UOXvq2WHsK2MTHcgfd8sn/K3XWN6BPhaul1WH5LA6wU6WJEUsRC/PYKVxKaO7qPElpLT3mN4VbUQtR2KlUbKeVYhPvJQJOdd9e3KPJytSO/rvVsIH4wvEFp6zkMZtVaZ9Oi3seEtzb0EhtXT/qvUYsptR/p03t4p48uo8C4IN3rZoror2NX8XD6gy+GmZHerhEf7ul+82O1zkPUOZ+9XqWmvUpN2zNj+rxUG+qJcT9TVJCREO+UcpquWc92wxb9JqJQ/kXjHdV9EtlsNvXr/SfocAGDBuQLOfrbf8+U+fn3iZ2fDwvHtaT0+u17JhfE/enfluWHGxFUt9U2iHZNubXTdHro3QbaSFqin6oK01V20CQv0el/WmT4taw1PwnC3n5OQp03+LAXW196U1OpcxEliiCULrz1v/OSAfRbh+a7wkGXeIDkn4DhnRmhwHGjOtK46TwplTz0x+hiTDI5voFilFcz9wfczoJe20du2MRU3FnDzKzA19bWyeMJ6PzXischk6zciqlCmsPf3H9k+iKimtlc7Cm1rkBcv0o6hUkm1TE/zVSHZk9REtcJ4FA96SCy3ZzOBWDeGO4YiEnraUTd5cBleu1WtIGblP5gYJiokOOnbSsUnOKF36rdAvXLR1dTKoyCaRO0Brs9M2eQO08Vjy9Ggyt6zzik7+Lf3Pkqcsgi/OFRircKjQ6yAe3Odv1SQfqJ0NmEOnbnZqkaZbXKNlxZBJumbQNVW1E6uUJj2kry3qya2NX3ji842AZyCyXhKlEoWC4VpK7Fye9XBWqlWkCldebOVw+y63J1X1Nz4rKjrrPkSQE8WFUUUKMjPo1UvOICK8Ic3LFIwzGGJwFMKBCIMDkoDwMuRH0lJ4rTEKWRzYBy3yj0WccC8zWH5tYQSccC8MlV/Y6AgI4X7z/TeHD5b+IJCRnA9drLCJev7D50PXJbqW9lZsNJywdIsWKF6mE4Y03+ySsAbvD4pkca/VMyINg4Y8sjQQ3Mf2ObbVTcf0vGmX9tu6ZJFCRQl3+sgmrIwkBRt9kskWSfYU01nPOkif9PhJFf0/+qZDVS2eFz57YcWzQX7L0+/TuIgmbzXj9Nh7jyWapBQdZWBlZbKelcMBhz3mOWHGaR6vgol4jFTT39bWIRRa5w2gPfSuR/Yd2azfRaUxYv3RSUiLbPrFu83K7Oi2Y+H5yKcgHUJyxPe+eC8cvcnRibGprMHCyuww1tqoBwn63N7PtRb6mtfHC1YIcWkcT3Tw0KUM4aUNj5KclrbyImCKPpyVv6Je2UO+vZdNwsfvOvlb0b7FrouRfXa94QDJHEKOpEiSP30fKxnWGk903a4Ne24NaavfvVWXWDWRPKMQCULYuZQihrO0sUiTEijybcoaX0siaAIOyShJSA5BjuG+qLHcJpWs1fuhn4XcMOSRwLs6bc9Zdm6Ty2XobU163juuumOS2JVCtALkmUQl8ttJ/U8q3HzsHaTyJl02CZcOuLRwO2kXbjxm42YEok022Job8K7wTRTiCvk7PIyRTZSiPX/L3OvS5y6tRGDZqLYy7XCtyB5KPdYa9h5SYvk7+I3cQOgxly06D49IkpRto+j1JEQnuooiSdyL1uU66+AhdfP2kWXuEbuWfEQQ3JRqjP3Je3jzjknyel1aE9kj7RCxAvH++qevJ3+yxnjBRkcXlCVRrWOKdlppLbbUZx8+7rVxYakFl6p43vP33z7020q+ibyo0Kx+aA/3rVfeOpy1xVm16HbSRiwyxzZeNBqK+cF5eq2l1kqIavJjYazBu/3b/36bRIIhX6nz90iC2TIPpN9DqaeNAkRAHf7g4YGoWDTcy5w3dT82G7tZkmBXijhN4XTEM5Gkuei3WLeLLBqRF/YMYM896MX/cdOmJPXVFHv+/GzaZ064VwOk18lFwAn3XIj8gvaCgBDuU6dODT179mwvj9Xq59Dh2LHDPIeYiX+fGCDH8UCoRjs2q5N4mEHeoAu+SKdFWv08WhZGGmODuvUqW7e67dY0gJc4hwkpZcizvPtCJj334XOJTq5OeBqrp8kJft+m6zbhtB+elnoL67WehaU1dhQ57AtBg7Hntl2aNKerKVqfeLFOi4VHd3+00ky1BFJaPTaSbFjZHBfVPqzmmbLqxBI7ib4+m3g0uzdbYbOqvUq5N+8+RgwOfEQ29Pp+r9zH+MeX/0gSKKVtsmOHF0nE21ovZu3hiIQUIaK0uc+EfZLEjXiCDlunKXloPRVN5ki/bNJe9DLJRVG0aC1dIjbwwuZg9/BuDxdtIvO6mFd3tfrqciO8cgnf1qVa3eJY522CcAlrrwUglmypJZGopQJiRvGi/Sc5HZJiFNZZIoMoRPF1X7J7q9dLGohJ9/D31ugBU99KGOnvp82BUPbbiuccERu/6/27JLqhEYo2FPDdF6cJ3hcMK0gwUYrmr5FnjknsnLbZaYmXIokoW1sgxCFNpGD4uXmnOfIJrW3/zc/eTOQZBnUbFDrN36lFhIiN5ihzP76DrHtEr1W7T+F+tLPNTdtUbk3U6PY3b5+0TcFBREhr3T+SMlYzP7XhfMT6I8L+G+xf5rFLXYsUxjGTjknqoF3+zF7PlKqfljgbR4K2LHpfjCY02tBli5W2on5Rz+e8e5371Lnh0uebDF4kHBXjAMYa8mxQ8JImaS362siDlSmc7za8esNKFQyDSNW0ddGSMj9b52eBiLZqSr9r+1UiUNpin4f8Kc5n5zwVj9Iqs0+RfW5MgpPoCnIr6PwqGMMxipcpsRxP1ugN+Q+Zn5dcOOu+VgKqVhGUafe0OXNO7n9yC5mkMjjpMx7ym688/4oT7mUA9GsLI+CEe2Go/MJGR8AJ9/gI6kSXogHdyGNtPTV4lisGXlGILGzL57aW+bKkQK36ZhPQ5Wnyo/0IeScly4vVygkQ+hqT17HPAhGEt3i1WuO0p8nWIzc+MklKLKXWhHutxqI17aBNvsFVGzRrAhmiwWsMTv7G4YuNdDXeJa3pV17dmKdxa6VI9D2nvD8lIZx2Xn3n0Hn+zhUsmGNrfG+NusODDo59eWwiDaaLzSFw0w43JZ5PRUtMSxuvquu3v75oE5nX4YGEzIIu1eYRkTbu/fu94ZAHDmnWJhJdRJzUomj5NIwPhOJDytWiaA1g2qvlt/SOaXeE3z7826SbmmAp2+8PvvogbHnDli2qiSSB/HDKE6eEa16+JtcYG7t/zBDDdWVkGmLt3v/2/eGg+5tk84g+Yq5J0V52hLTvtXbzyJCyODXC9ZA2va/pnXiLk3Dv6/98nXSb9wXNdghd1lokbJDrKloenv5wkhSvgu2KmyWRK7UqNkliLTyAs/pm1yk712v1XGXbQT7rptdvCuxV0H/GYILcBOvStdtdG348rqWcYLXrK0buHW7eISHAIcSQfmmroo2meM3ifV2moP1MpKQUDHUYz2vt6GP7pInfahMx4oWO1JMurZUfkrb0N0C33xoDksUAWUaijSll8j6UGV977S637hJe++S15M92316mXZk3yBjhrFBmzStzHzT7b3n9liRiSZcycn9SL5abBOMmmvuSdJRrq4kOi0kEVWtIysLnwHsPbIZFrRMbx+5dTXL7tGcg6evLH7+c/MyZ3HmiMm+DX1sGASfcy6Dl1zY0Ar6QxodPb3BrFQY/LydKEemAedE/m8ymHgh3ogrwis4qNolalo6olROY28+IZxuaott02yZJ2CWlWsIdj5bznj4vkTuhzXorNjyf0EpCLOu92MS9ZbyD6v3ZqumfNVRhKCFB6npXzskFYb2Q8+6jkyrKtSQcJRl0LQoh4j2u6pGEikvReQ6quUfMK6vavA6x+4+4Z0R4+N0mD//WEsC2feut1uN/egRkgWpRtKxbazwmY0YS+vfUnk81MzwgrYNHH7lhxGhV9Dli31/qVktiyX3pO0n4MCSSABR8Y+v7qB+PSrxKO0LRZJU87+UDLk88sNEbZxwxZJcpVtN+7HZjk8i5WhVrXEST98zNm/Tn26J8OfvLZsnP5/aepMwz4ZRBlOd8Yb5mSTGljdbIHYkOeGu8WYs8C5J8ksC3GsJ99IujwxlTzkhuVavkl0X6vd/d+4VJ7zUlpkTiDlmZsuXoR46uSDtJ3fWWWS+MGTSmbFMtrrce6HJBLZ2JNPlYa/nQNAD2uH2PJDqX0hpJOjyfb3vjtiTiFANWW5cfXvfDwJmOgiMHsixlSyyykX3erW/cWolQos0yOcikD7F8FiTXHth1YNluZl5vJUfbWvqJziCXQyQNhjgthVfNg7312VtJ5Ah7401X3NQJ92pA9DqFEHDCvRBMflF7QMAJ9/goWo+mej6QFJ2HO928U0Wfljpl9QyL3qfMdSTT7HPtnDDPeYWz9sIpoudpN1RZxJ/VdZ5Xz2jHRRIzFdVZLDOu8/Laza/bvFmSrlp6A7flc6EdiSSPlGp1dduyj3OzbSSAJLEi9xXZEG0oKhuqG9NYP6HvCYnnf62K9iyuheZrLKHuhMETauathkFu+IThiTGOA3ItveBIdi0yHuC7WQ09g4lm2fuuvQNyGaN/PDpJ5llN+dc3/wobjWlORrSFdICdz/RVkt9W02+pg4f+zNkzW8hq6PeERMlt6cHbmv7Xuu7IR0cmusi6tNbD8PkPng+73zEnOqzW33A7B6tJqlcGR4wOGAal1Pp5yvSl6LVWNqGR+n7v2/cGoigp1eRMuf6V68OJj5+Y1Eca5YbtbygKW6uu08ksq42SiUmEZOU8KtvhGKFfS4OY1s8vK0VV9lnkevYpJPUlofi47cfVLOKs2v4UraeT+1abpNXqrKNXTmQjTnAiH0R/cL4oK7dqc7/QzmM/fSws2nnRoo9Y6LrLn788nP3U2Q21vmY9mPNEhYbdL6oCASfcqwDNqzQmAr6QxsdNW8Kzkh020qhbr+xqwv1q/bz2EDWvDn7737N/wBOdsu96+4YDehyQ+ahaO5IL2RCmSb/g8bHV9VuFb/77TV3pZeMVieceni9lN661nge1bG/QTYPC2zPfrjR50dYXhX4r9KvlLdqkLUtOtjXp0iYPUcNGSTClE6TiUcpBWhOJZYln5jySE7roRJO16D6yBySlpayw6ArhrsFzjCjVtI+sAkm8peDheM9P7qmpDBDa1/PNN1/Nk6GjA/7HyXOSd5Hv5NTNTq0GhmgdDtCQh62RwIkdwmvt6S+dx9MdWRq8VZkbSBkt3nnxmuGhGxKv6VrJN7RJJ9ugUZvzwErtVHNL5B3wnJfSFvsUJE4wHiFxVWsCKPbM1Ua4VYNfLerE5OJoty3Gohb91W1YY1vZPmsSsk+XPuGSAZfUuovR9jRxWC2JfeykY8P418cn7RNZckjPQ8KOq+1YdUJK21H0wy97/rJmf544eGLosmiXmmBEHosD7jsgkSIkUmbdZdetSbt5jRC9xJlCR6Xm1ZnXv2vjSq/leoUrfnxF6S7d/fe7A85AUkSGTu+Pt1hpi3DulueWbpsKSNPsetuuSd3Bqw8ObZEHwUZnln3fq3qwNqzkPFEbgtvBm3bCvYNPgI70+L6Qpo82CcmeeP+JcGjPQ8Ny312u4adFazf9bQEA0gvrX7l+pel5tTHRmv2/6fWbsPfae2c+rtbEH7LGkHBcnzmJX2MVkYWAhONaQoq9tB0Cu/511/DSxy9VbtAocgro15765BwyspayIW2Hdtu1bHWv+6/QP6DNqomiarSHbaLmWhseB986OKAVShEjQWtQIokXyUelzE0Px9b0m7poux76wJyEb0PXHBqO3uTo1jZb8/obXrVhRe+bxnXeh5rfLIQAmUIib7z32qpgSHj909cTL8m2lsxoq2eopl27bmzSZZNw6YCmxIrVFv0OLjT/QuHJPZ+stqm6qddohDvAobmOUULKgT0ODL9c75d1g2laRx5979FAAlJKNR7u0z6dFna8pekbcMwmx4Rd12wiDNu6EHnx52f+nBgHd/vBHKNvmfu+8vErieGc5MI373hzzZ07YnlZpu45tbTsV9Yzkf8Gw+iyiyxb5tE73LXHP3Z8uPHVG5PnrtYwZOW7RC4Owz0GfEprDfcfzfooPPXPp5KIu7b4BuuIqE1X2DRcsPUFDT0XnCdq6OGr68474V7Xw+OdqyUCvpDWEs36bst6CM0rctuiVA8HP7xISVyGAWD8DuMLyROgc0cyJTR9vdQPAsPuGhaQ4ZBSrWfW3H6iO9+8Mxzx0BGV2yLvgQ5mRy2z/zM7bHz1xklkCEUijVorlQERufUNW4d/zvpn6N2ldyD/Qi0L5ALe+RQxErSm/RlfzAgDxg2oNDG3Ere1ps9S13rnD193eDi458G1aLqmbfS9pm8iyyLlkh9dEvosP0fqrKY388baFAErU0eukd9u3JRct9rC3mnIX4cEiPe/DPxLu9DDr4d9V9nxIBIHCazFF1w8IFnRKN6/mkTsNF+n8NT/PVX20cNT/3gqSWRIAvi2IAlLd6hEBSLLMDC2hbNJLD9GvZxtSkDULi7VpHjf5fsGojTLFivftc7S6yQJk7W0T1t5ppfta9r17DHPmnpWeO3T1xJNdSTqGrk4T9TIo1fffXfCvb7Hx3tXQwR8Ia0hmA3QVD0eskRbvtqkTLWCffrM6YEkTN2X7F6rJr2deYAAut9Ec0jBq2rVJVedBz0pd0vr2XPnLncm3qkduexxxx7huQ+akoftusau4Zg+xzTzcK9Gx5O2IC4mz5gctlt1u9IJFPPGQyeaq4UcmU301W/5fuGiH12U1426+N0mtatXeSf9XQS4O3a5I6y02Ep1gaF3ohwCViLovC3PC5uvtHm5RiJXYwCEOMRTtz2UetwLtgdcY8/wxIwnwvCJw5OfapHXo73iVO1zaY38pRdaOjww9IFqm/J6rUDgT1P/FK54oUlGplrC3cqMdl+ie7hlp1vCEQ8eEe58686k7VoYUVvxmB2uqvNEHW7I59oDO+E+16D2G81rBHwhndcjMHfvP/GtiWH0i6PD/hvsn3hf1kPBa+lvH/0tbNRlo4D3jxdHoDUI6I057aChTUh0vRcdNk5fHxz6YM3J4HrHwPbv1Mmnhqtfujr587C1h4XDeh3WjHB/as+nWqXf3RZ4/HLiL8NjMx5Lmt5n7X3Cr3vN0SOt5n6zvpkVNh6zcaVqoyU53mbcNmH6F9OT/j+717Nt4uVYDa66jiYf0c0lkdp3vvOd1jbr9ecRAno8r9/u+rDW0mvNo57U7217j+mdROitvNjK4fZdbq/fjraDnj367qNh33uaJGUW67RYeHT3R9vBU9XXI2DUQC5un3X2SRLLepn7CJz/9Pnh4ueavNpb4xig8/ec+cMzw4CuA5IksjilUOa1c9bcR3be3tF5onmLf3u+uxPu7Xl0/dmaIeALqU8IR8ARaE8IjHx0ZBj32rjKI92/6/1hmYWXqftHRNe5/9g5RrAn93gyCcPuyOWDrz5I9MvxLh2/4/jE41+Tac/t9VzdEaM6SdyvN/x1QgC0ptg8FzusukM4uf/JrWlyrtad8v6U8JcX/hL2WGuPuk1erOeUe7fP1enRJjd7ePrDYcS9I5IEpNcOujbMP9/8bXKfRm4ULfS73rorsJ40gkG6kbHW+ZO+t+D3wkO7zYnAa+Tn8r47AhqBC5+5MFzwbJNeeWsId+rf+/d7w8f//jgMWX1Isscb9cKocObUM5O2x2w7Jqy37HoO/lxCwHmiuQR0B7yNE+4dcNA76iP7QtpRR96f2xFonwic/uTp4cq/XVl5uMd3fzzgtVrvxUoh1COZPC8wRJP52/9+W5FyqHcpBLR2kQ9YrPNiYeygsaHLol1aDRuJpSHeKbutuVs4apOjWt2mNzAHgZ1v2TlJMLrIAouER376iEdatYPJgTRB5/k6151Brh1A649QEgGMjvtMaDK8ShLIkk345Y5A3SNwwTMXhAufvTDpZ78V+gUk5GpV2Aee+/S5oeviXcPua+1eq2a9nQIIOE9UACS/pCoEnHCvCjav1IgI+ELaiKPmfXYEHIE0BPSmn2saibiudzK5HmZdI2BEtELn+Tsner21KPqZf7bOz8KhGx5ai2a9jf+PwD++/EdCFEASINnjxRFwBByBWiGAMZ2IC2TjLht4meeHqBWw3k5dIdCWhHtdPWgH64zzRB1swOfi4zrhPhfB9lvNWwR8IZ23+PvdHQFHoLYIkKPgjClnVBp9fu/na3uDNmztdw//Ltw+7fYwdM2h4ehNjm7DOzVu08MnDA9PvP9E8gCNNLatQVwT7gdscEDYd/0mPWAvjoAj4Ag4Ao2BAMS754ZojLHyXpZH4MwpZ4ZRL45KKm650pbhnC3PKd+I16g7BJwnqrshaTcdcsK93QylP0geAr6Q5iHkvzsCjkAjIXDrG7eGox6ZI7nRSKTs7G9nh5c+filJ8ucJhOOz7qNZHyXJ0TZbcbOw5lJrNtLUrLqvmnA/vNfhYa+196q6La/oCDgCjoAj4Ag4Ao5ALRE44bETwg2v3pA0OXj1wWFk35G1bN7bmkcIOE80j4DvALd1wr0DDLI/YhMCvpD6THAEHIH2hMBXs78Km1+/eZj1zawwdruxYe2l125Pj+fP0gER0IT7cX2OC0PWGNIBUfBHdgQcAUfAEXAEHIF6RGDaZ9OSJPcLfGeBcOvOt7p0Uj0OUhV9cp6oCtC8SiEEnHAvBJNf1B4Q8IW0PYyiP4Mj4AhoBL79z7fJP+efb34HxhFoeAQ04X7qpqeGbbtv2/DP5A/gCDgCjoAj4Ag4Au0HgVc/eTUsMN8CofsS3dvPQ3XwJ3GeqINPgDZ8fCfc2xBcb7q+EPCFtL7Gw3vjCDgCjoAj4AhoBDThft6W54XNV9rcAXIEHAFHwBFwBBwBR8ARcATaDAHnidoM2g7fsBPuHX4KdBwAfCHtOGPtT+oIOAKOgCPQeAhowv3yAZeHjbts3HgP4T12BBwBR8ARcAQcAUfAEWgYBJwnapihariOOuHecEPmHa4WAV9Iq0XO6zkCjoAj4Ag4Am2PQO8xvcNX33yV3Oiaba8J6y67btvf1O/gCDgCjoAj4Ag4Ao6AI9BhEXCeqMMOfZs/uBPubQ6x36BeEPCFtF5GwvvhCDgCjoAj4Ai0RGDSu5PCQfcdFJZYcIlwxy53hIUWWMhhcgQcAUfAEXAEHAFHwBFwBNoMAeeJ2gzaDt+wE+4dfgp0HAB8Ie04Y+1P6gg4Ao6AI9CYCHw468OwaKdFnWxvzOHzXjsCjoAj4Ag4Ao6AI9BQCDhP1FDD1VCddcK9oYbLO9saBHwhbQ16XtcRcAQcAUfAEXAEHAFHwBFwBBwBR8ARcAQcgfaDgPNE7Wcs6+1JnHCvtxHx/rQZApMmTQr9+/cPV199dVhrrbXa7D7esCPgCDgCjoAj4Ag4Ao6AI+AIOAKOgCPgCDgCjkB9I/DSSy+FPffcMzzyyCOhX79+9d1Z711DIeCEe0MNl3e2NQiMGTMmWUi9OAKOgCPgCDgCjoAj4Ag4Ao6AI+AIOAKOgCPgCDgCIIBj5h577OFgOAI1Q8AJ95pB6Q3VOwIffvhhmDBhQujatWtYeOGF67277ap/YjVupOiCb775JvTu3Ts88cQTYYEFFmhX41GLh2nEMa3Fc7f3NqoZV39X6ntWVDOm9f1Ejdm7Wr4nPqaNOQeyeu1jOgedWr4r83qm+LjO6xGo/f3raUzb07tS+5Eq3mI9jWnxXvuVeQjIuI4aNSoMGzYs80w/a9as8NZbb4WBAweGZZZZJq9p/90RKIyAE+6FofILHQFHoFoEGlEXbfbs2aFz587h66+/Dp06dar20dttvUYc03Y7GDV8sGrG1d+VGg5AGzRVzZi2QTc6fJO1fE98TNvfdPIxnTOmtXxX5vVM8XGd1yNQ+/vX05i2p3el9iNVvMV6GtPivfYr8xCQcX388cfDJpts4mf6PMD89zZBwAn3NoHVG3UEHAGNQCNuZL799ttw4oknhmOOOSbMP//8PqAGgUYcUx/EfASqGVd/V/JxnZdXVDOm87K/7fXetXxPfEzb3yzxMZ0zprV8V+b1TPFxndcjUPv719OYtqd3pfYjVbzFehrT4r32K/MQkHGdPHlyuP322/1MnweY/94mCDjh3iaweqOOgCPQ6IS7j2A2AhbChMsAACAASURBVL45bZ8zxMe1/Y2rj6mPaftDoP09kb+n7W9MeSIf1/Y3rj6mPqbtD4H2+UT+rrbPcW20p3LCvdFGzPvrCDQgAv7Ba8BBy+myj2n7G1MnB3xM2ycC7e+pfP31MW1/CLTPJ/J3tf2Nq4+pj2n7Q6B9PpG/q+1zXBvtqZxwb7QR8/46Ag2IwIwZM8LFF18c9t1339ClS5cGfALvskXAx7R9zgkf1/Y3rj6mPqbtD4H290T+nra/MeWJfFzb37j6mPqYtj8E2ucT+bvaPse10Z7KCfdGGzHvryPgCDgCjoAj4Ag4Ao6AI+AIOAKOgCPgCDgCjoAj4Ag4Ao5AXSLghHtdDot3yhFwBBwBR8ARcAQcAUfAEXAEHAFHwBFwBBwBR8ARcAQcAUeg0RBwwr3RRsz76wg4Ao6AI+AIOAKOgCPgCDgCjoAj4Ag4Ao6AI+AIOAKOgCNQlwg44V6Xw+KdcgQcAUfAEXAEHAFHwBFwBBwBR8ARcAQcAUfAEXAEHAFHwBFoNASccG+0EfP+OgKOgCPgCDgCjoAj4Ag4Ao6AI+AIOAKOgCPgCDgCjoAj4AjUJQJOuNflsHinHAFHwBFwBBwBR8ARcAQcAUfAEXAEHAFHwBFwBBwBR8ARcAQaDQEn3BttxLy/joAj4Ag4Ao6AI+AIOAKOgCPgCDgCjoAj4Ag4Ao6AI+AIOAJ1iYAT7nU5LN4pR8ARcAQcAUfAEXAEHAFHwBFwBBwBR8ARcAQcAUfAEXAEHIFGQ8AJ90YbMe+vI+AIOAKOgCPgCDgCjoAj4Ag4Ao6AI+AIOAKOgCPgCDgCjkBdIuCEe10Oi3fKEXAEHAFHwBFwBBwBR8ARcAQcAUfAEXAEHAFHwBFwBBwBR6DREHDCvdFGbB7294svvghnnHFGmDp1apgyZUp4//33w9577x1GjRpVuFcvvPBCOOKII8IjjzyS1Onfv3847bTTwjrrrNOsjWHDhoXRo0dH233nnXfCiiuuWPiefqEj4Ag4Ao6AI+AIOAKOgCPgCDgCjoAj4Ag4Ao6AI+AIOAJzAwEn3OcGyu3kHm+99Vbo1q1b6NKlS9hwww3DbbfdVopwf+2118JGG20UllpqqXDggQcmqJx77rnh008/DZMnTw6rr756BSkh3CHd55tvvmYI7rLLLmGRRRYpjeqHH34YJkyYELp27RoWXnjh0vW9giPgCDgCjoAj4Ag4Ao6AI+AIOAKOgCPgCDgCjkD7QGDWrFkBrmvgwIFhmWWWaR8P5U9RFwg44V4Xw9AYnfj3v/8dIK1XWGGF8M0334ROnTqVItyHDBkS7rrrrvDSSy+FlVZaKXlovNXXWmutsM0224QbbrihBeE+e/bssMACC9QEoDFjxoQ999yzJm15I46AI+AIOAKOgCPgCDgCjoAj4Ag4Ao6AI+AIOAKNj8DVV18d9thjj8Z/EH+CukHACfe6GYrG6khZwh05mqWXXjrstttuLaRikKW57rrrEjJ/0UUXTYAQD/evv/46YHHk79bTvSxikyZNSiRsWEgh+b04Ao6AI+AIOAKOgCPgCDgCjoAj4Ag4Ao6AI+AIdEwEcAjFMRPZ4379+nVMEPyp2wQBJ9zbBNb232hZwv2xxx4Lffv2DRdeeGHYb7/9mgHE30aMGBG4ZpNNNmlGuC+22GJh5syZiQQMXvDova+66qpVAfzUU08lUjho0Pfs2bOqNrySI+AIOAKOgCPgCDgCjoAj4Ag4Ao6AI+AIOAKOQOMj4DxR449hvT6BE+71OjJ13q+yhPu4ceMCkjK33npr2H777Zs9HX/bcccdw4033hgGDx6c/Pa73/0uICcDQb7ggguGxx9/PJx33nkBAp6ErausskomQjNmzAj8p4tYLp1wr/PJ5d1zBBwBR8ARcAQcAUfAEXAEHAFHwBFwBBwBR6CNEXDCvY0B7sDNO+HegQe/NY9elnC/6qqrwl577ZUkLR0wYECzW0+cODFJUME1WRrrd999d1IXCZpRo0Zldn/kyJHh+OOPj17jhHtrRt7rOgKOgCPgCDgCjoAj4Ag4Ao6AI+AIOAKOgCPQ+Ag44d74Y1ivT+CEe72OTJ33qyzhXtbDPe3x8XjHc/29997LRMg93Ot8Ann3HAFHwBFwBBwBR8ARcAQcAUfAEXAEHAFHwBGYhwg44T4PwW/nt3bCvZ0PcFs9XlnCvayGe1q/d9lll3DbbbcFkqmWLb6QlkXMr3cEHAFHwBFwBBwBR8ARcAQcAUfAEXAEHAFHoH0i4DxR+xzXengqJ9zrYRQasA9lCfcvvvgiLL300mG33XYLo0ePbvbESMSMHTs2fPTRR2HRRRfNRGO99dYLn3zySXjnnXdKo+YLaWnIvIIj4Ag4Ao6AI+AIOAKOgCPgCDgCjkAHQ+C///1vmDlzZvj888/Dv//978C/vTgCjYLAfPPNl3BL3/ve90KnTp0yu+08UaOMauP10wn3xhuzuuhxFuFOstM33ngjLLHEEqFLly6V/pIQFQ33l19+Oay44orJ3yHO11prrUTDHdkZypdffhkWWGCBJFmqLtddd11C2O+7777hoosuKo2DL6SlIfMKjoAj4Ag4Ao6AI+AIOAKOgCPgCDgCHQgByPX3338/fPrpp8lTzz///AEC04sj0CgIfPvtt+E///lPWGihhULXrl3Dd77zndSuO0/UKKPaeP10wr3xxmye9vj8889PPrwsXscdd1zo0aNHQOaFssMOOwQ80N96663QrVu3FslNX3nllbDxxhsnnu4HHXRQUufcc89NPNsnT54c1lxzzeRvzzzzTBg0aFDYaaedwuqrrx46d+4ckKS55pprwkorrRSeeOKJsNxyy5XGwRfS0pB5BUfAEXAEHAFHwBFwBBwBR8ARcAQcgQ6EAF7t7777bkJWLr/88i0c4ToQFP6oDYoAfBV5/ZjLOIEuueSSTrg36Fg2credcG/k0ZsHfcc6+Pe//z165yuuuCIMGzYslXCn0nPPPReOOOKIMGnSpKSN/v37h1NPPTUh6qVgTT/ssMPCk08+mSRHxWMeon377bcPRx11VFhmmWWqenIn3KuCzSs5Ao6AI+AIOAKOgCPgCDgCjoAj4Ah0EASmT5+eyMl0797dyfYOMubt8THhkV5//fXw3e9+N6y88spOuLfHQa7zZ3LCvc4HyLtXOwSccK8dlt6SI+AIOAKOgCPgCDgCjoAj4Ag4Ao5A+0MAeVgkOdZYY43293D+RB0KgVdffTWRK8Z4lFacJ+pQU2KuPqwT7nMVbr/ZvETAF9J5ib7f2xFwBBwBR8ARcAQcAUfAEXAEHAFHoN4RwCuYstpqq9V7V71/jkAmAkXmsvNEPonaCgEn3NsKWW+37hDwhbTuhsQ75Ag4Ao6AI+AIOAKOgCPgCDgCjoAjUEcIFCEp66i73hVHIBWBInPZeSKfQG2FgBPubYWst1t3CPhCWndD4h1yBBwBR8ARcAQcAUfAEXAEHAFHwBGoIwSKkJR11F3viiPghLvPgbpEwAn3uhwW71RbIOCEe1ug6m06Ao6AI+AIOAKOgCPgCDgCjoAj4Ai0FwSccK+Pkbz22mvDSSedlCT+/Prrr8Mnn3wSllxyyfroXIP0oshcdp6oQQazAbvphHsDDpp3uToEfCGtDjev5Qg4Ao6AI+AIOAKOgCPgCDgCjoAj0DEQKEJSdgwk5t1TvvLKK2HttdcOm266afi///u/0Llz5zB06NDQqVOnedepBrxzkbnsPFEDDmyDdNkJ9wYZKO9m6xHwhbT1GHoLjoAj4Ag4Ao6AI+AIOAKOgCPgCDgC7ReBIiRl+336+niyiy66KOy///7hySefDL169aqPTjVgL4rMZeeJGnBgG6TLTrg3yEB5N1uPgC+krcfQW3AEHAFHwBFwBBwBR8ARcAQcAUfAEWi/CBQhKdvv0xd7sm+//TaReVl44YWLVSh51QknnBCOO+648Nprr4XVVlutZO3aXD5z5syw2GKL1aaxedRKkbnsPNE8GpwOcFsn3DvAIPsjNiHgC6nPBEfAEXAEHAFHwBFwBBwBR8ARcAQcAUcgHYEiJGV7wG/UqFFhn332CXfccUd46KGHwujRoxOd9I022iicffbZoWfPnsljPvDAA2GLLbYIl1xySYCEvuCCC8Jbb70VbrzxxrDTTjuF999/Pxx99NHh9ttvDx9//HFYeeWVExmYI488soUEzNtvvx2OP/74cOedd4YPP/wwrLDCCmH33XcPxx57bFhwwQWT+33nO99pAe/ee+8d6O+wYcOSfk6fPj38+te/DhMmTAj//e9/w3bbbRfOOuus8D//8z/N6n700UfhxBNPDDfffHN47733wrLLLht23nnnRBte68FLu++880444ogjknb/85//JHh89dVX4eSTTw7XX399ct9FFlkkdOvWLfzsZz8LI0aMqNzv888/DyNHjgzjxo0LM2bMCF26dAlDhgxJ/maJewwJRx11VLjvvvvCF198EVZfffWw3377hV/96lfN+r/55psnGvaPPvpoOOigg8K9996bYLrrrruGc845p4JZ2nwsMpedJ2oPb3N9PoMT7vU5Lt6rNkDAF9I2ANWbdAQcAUfAEXAEHAFHwBFwBBwBR8ARaDcIFCEp28PDCuG+/vrrJ6Q1pDak8fnnnx9mz54dpkyZkhDBQrivs846YdasWeHnP/95WHzxxUO/fv3CKquskhDz7777biIBs+aaa4Z77rknjB8/PgwePDgh5aVMmzYt9OnTJyGMhw8fHpZffvn/1969wFsx7/8f/6QkpFCkVBJFuVaUS3I5FCdE6pBQEdHJXSGcyiUKSST3CocIR5RLbjmkTuQSXeniH6JCEUpx/o/392f2WXu323utvea+X/N4eKBmzfc7z8/MrDWf+c7n60rGjB492tq1a2cTJ050yfbHHnvMnn32WbeN2267zWrVqmW77bab+6yXGFef69WrZ8cee6zNmTPHVIJmn332sRkzZrh671qULG/VqpVL7J933nnWsGFDmzdvno0aNcqaNGli06ZNK0hYe9vVPqot9UcWV155pWvz8ccfdwnxfffd137++WebPXu2+/tx48a5tjTav3Xr1m5/9BBDZXDkp3076KCD3AMNr/78woULrWXLls64T58+LjGvfX3zzTfdQ4Tbb7+9wEwJ908++cS22247O/zww93DkOnTp7uHDnrIoYcJJS3ZHMvkidJwNsdzH0i4xzMu9CoAAS6kAaCySQQQQAABBBBAAAEEEEAAgdQIZJOkTMPOegl3JaI//vhjq1q1qtst/beS6Bqd/eSTTxYk3GvUqGELFiyw7bffvmD3lZAeOnSoSzxrUlNvUfJdSfCXX37ZJa+1tG/f3j799FP78MMPC21DCf4LL7yw0LoaFa6R8EVLyniJcY3wVt+85a677nIjwDX6Xm1r0WhxJe+VB1ES3VuU2D/hhBNc/3r16uX+2NuukuUPP/xwofAq2d2lSxe37U0tSuJrtPstt9zikvTeMmTIELvqqqsKtSWn8ePHu1HrSsZr0Wh69Ukj//UAYc8993R/roT7W2+95R48XH755QXb1ZsF+vzy5ctLPBSzOZbJE6XhbI7nPpBwj2dc6FUAAlxIA0BlkwgggAACCCCAAAIIIIAAAqkRKClJ+dUVfe23RYtita+VGza0nW+7Nec+eQn3wYMHu/IvmUvbtm3dCPDVq1e70dkqKXPxxRe7UjOZi0aKa6S2Z+b9nUrHaPS7kt9KVK9atcqUsL/kkks2aktlaDQy/oorrrBbb/2//Sgt4a5ks0a8e8u6deusZs2adthhh7kSORqxr/IxRx11VLGJ8gYNGthxxx3nEt9avIS7Hgbsv//+hfZR5WP0kEGj7rVPxS3a1ttvv20rVqwoVNdebwSoXxqdrn6p9n316tXdyHuVh8lc5Kz1lKRXWRstSrjrzzWqPrNevsrnaDS8RtmXVGeehHvOpwUf8FGAhLuPmGwq3gIk3OMdH3qHAAIIIIAAAggggAACCCAQrUBJScrFHU+xtXPmRNvBIq1XadrUdn32mZz75CXcVXO8Y8eOhT6vEecaea767HPnznUJ9xEjRriR6JlLlSpV7JhjjrEXXnhho/aVCFaZFY3aVqkXJZlLWs466yxXKkVLaQl31WbPHGmvz6ikzIYNG1x/NfJbpWhKWtq0aeNGj2vxEu7FJbCVaFfflPTea6+97Oijj3aj/7Vv3qIR6SoZo/IvRReVqVGiXf2Sp0rIqJSMRuVnLip9o4cEKl2jEfNalHCfP3++qwmfuXixUy39TT0E0Pok3HM+LfiAjwIk3H3EZFPxFiDhHu/40DsEEEAAAQQQQAABBBBAAIFoBcrbCHcllDWRaOZSXML9gQcecLXXM5fSEu7eiHPVHdeIdCWTVdu9uEWJaCW0tZSWcNeoeJV6yVwyE+5eYlulV4pOROp9RpOmqta6Fi/hrtH6lSpV2qh7SoarFI3q2U+ePNklwFVCZuTIkW7d0hLuKhmjUjHZJNy9twK0XW/SVE3Wmrl4CffFixebRutvaiHhHu21pLy3TsK9vB8B5Wj/SbiXo2CzqwgggAACCCCAAAIIIIAAAjkLZJOkzHmjMfxAriVliku4b6qkzNKlS61+/foFSWmVWtGIc01eqtrppS2lJdxLKymjEeUqYaMa6aojX9pSWsI98/MaRd+1a1d76qmnTBPBquSMV1JGiXk9hPCWtWvXFpSUmTRpUoklZVSSRqPuVRO/b9++bhMk3EuLHH8fZwES7nGODn3zVYCEu6+cbAwBBBBAAAEEEEAAAQQQQCBlAuUt4a5JU2fNmmVbb721i6Q3aapGoiuprFHdKilTXMJdE4Kq5rhqoavMirdoVLlqt7/yyiumevBaNHmqksozZ840JeozFyWmf/vtN6tWrZr749IS7puaNFUjzjXyXIsmRFWfX3vtNVfLPXNRQl716b2yNJtKuGu9n376yTQaPnO58cYb7brrrrP33nvPjZLXQwSNTFcNetWi9xb9v+qx33fffe5hg5bTTjvNuWrUf8uWLd2faQR8hw4dTEn5opOm6nhkhHvKLjLlZHdIuJeTQLOb5mbnbtGihfuC06zjLAgggAACCCCAAAIIIIAAAggg8D+B8pZw32+//dwko0o6q4a5aotrEtL333/fTWZaUsL9hx9+cLmFr776yiW6GzdubG+88YapLrwS9k8//XQBrEaDH3rooa6Ns88+21TbXHXRVaNc6z355JOuPrqW0hLu6nO9evXcyHIlqFXzXOVolADfYost3DZUdkbtKZ5nnnmmy4Uoga7/VxkdteGVyNlUwl2TvdapU8dUmkaTqWrU/Lx581wpGT2o0MOJihUruocFqukusx49ergkvP579OjRrna9Jj5VjXctCxcutAMPPNDVm1fpnp122skmTJjgJlHVRKi33357gRkj3LkyJVmAhHuSo0ffcxIg4Z4TFysjgAACCCCAAAIIIIAAAgiUM4HylnB/8cUXXUJYE5YqSa1k8B133FFQ37ykhLsODdUzv/baa93obH1epWQ0yejVV19dkGT2DiGtO3jwYFcPXUl6jWhXSZb27du7iURr1qyZVcJdI76VnFa5GD0s0OeHDx++0USpGsWuEfh6APDFF1/Ylltu6fqn0fYahe9NOLqphLsS6f/4xz/cKHk9MPjll1+sbt26duKJJ7r90ySn3qIHCQMGDHAPD1SrXYn0zp0726BBg0wTyGYuCxYssGuuucY9nFizZo01atTI1bdXnypUqEDCvZxdc9K6uyTc0xpZ9msjARLuHBQIIIAAAggggAACCCCAAAIIbFqgvCXcX3311YKR5XE/LnKptR73fQmjf9kcy+SJwohE+WyDhHv5jHu53GsupOUy7Ow0AggggAACCCCAAAIIIIBAlgLZJCmz3FSsV/MmTSXhHusw5dW5bI5l8kR5EfPhEgRIuHN4lBsBLqTlJtTsKAIIIIAAAggggAACCCCAQBkEsklSlmGzsfsICffYhcT3DmVzLJMn8p2dDf4pQMKdQ6HcCHAhLTehZkcRQAABBBBAAAEEEEAAAQTKIJBNkrIMm43dR0i4xy4kvncom2OZPJHv7GyQhDvHQHkT4EJa3iLO/iKAAAIIIIAAAggggAACCOQikE2SMpftsS4CUQlkcyyTJ4oqOulvlxHu6Y8xe/inABdSDgUEEEAAAQQQQAABBBBAAAEENi2QTZISPwSSIJDNsUyeKAmRTGYfSbgnM270ugwCXEjLgMZHEEAAAQQQQAABBBBAAAEEyo1ANknKcoPBjiZaIJtjmTxRokMc686TcI91eOicnwJcSP3UZFsIIIAAAggggAACCCCAAAJpE8gmSZm2fWZ/0imQzbFMniidsY/DXpFwj0MU6EMoAlxIQ2GmEQQQQAABBBBAAAEEEEAAgYQKLFq0yNavX2+NGze2ChUqJHQv6HZ5F/jvf/9rCxYssM0339waNmy4SQ7yROX9SAlu/0m4B2fLlmMmwIU0ZgGhOwgggAACCCCAAAIIIIAAArESWL58uX333XdWrVo123HHHV3CkgWBJAko2f7NN9/YqlWrrHr16lanTh0S7kkKYEr6SsI9JYFkN0oXIOFeuhFrIIAAAggggAACCCCAAAIIlF8BjW7/8ssvbe3atQ6hYsWKttlmm5VfEPY8cQK///67/fHHH1alShWrX7++O4Y3tZAnSlx4E9NhEu6JCVX0HV2zZo3ddtttNnPmTHv//ffdE8Nu3brZmDFjsu7cp59+av369bN33nnHfaZ169Y2dOhQ23vvvTfaRi7rZtMBLqTZKLEOAggggAACCCCAAAIIIIBAeRbQCOHVq1fbjz/+aBs2bHDJSxYEkiKgB0RKtteqVavEZLv2hzxRUqKavH6ScE9ezCLr8ZIlS2zXXXe12rVrW4sWLWzixIk5Jdw/++wzO/DAA2377be3Cy+80O3HiBEj3Gs+M2bMsEaNGhXsWy7rZgvChTRbKdZDAAEEEEAAAQQQQAABBBBAAAEE0i1Anijd8Y1y70i4R6mfsLbXrVtnK1eutJ133tk95VYtt1xGuHfq1Mlefvllmzt3rtWrV8/t/dKlS61JkyZ23HHH2fjx4wtEclk3W0YupNlKsR4CCCCAAAIIIIAAAggggAACCCCQbgHyROmOb5R7R8I9Sv0Et51rwl3laGrUqGGnnXaajR07ttCeK2n/5JNPumR+1apVLZd1cyHkQpqLFusigAACCCCAAAIIIIAAAggggAAC6RUgT5Te2Ea9ZyTco45AQtvPNeE+bdo0O+SQQ2zUqFF2/vnnF9pr/Vnv3r1N6xx00EHu39mumwufdyF9rd+Vtu+fI+xz+TzrIoAAAggggAACCCCAAAIIIIAAAgikQ2DW0qV29NAhbq7C5s2bp2On2ItYCJBwj0UYkteJXBPuzzzzjKlMzPPPP28nnHBCoR3Wn3Xo0MGefvppO+WUUyyXdTclt2zZMtM/mYtK2Zxxxhn29C4NrGmVKslDp8cIIIAAAggggAACCCCAAAIIIIAAAr4IzFm71jp9sYSEuy+abCRTgIQ7x0OZBHJNuD/66KN21lln2SuvvGJt27Yt1ObkyZOtXbt2pnWUEM9l3U11fuDAgTZo0KBi/5qEe5lCzocQQAABBBBAAAEEEEAAAQQQQACB1AiQcE9NKGO3IyTcYxeSZHQo14R7LqPWc1l3U1oljXD/z+TJ1mzffZMBTS8RQAABBBBAAAEEEEAAAQQQQAABBHwX+HDWLGvVti0j3H2XZYMk3DkGyiSQa8I9l7rsuaybS+eZDCMXLdZFAAEEEEAAAQQQQAABBBBAAAEE0itAnii9sY16z0i4Rx2BhLafa8J9zZo1VqNGDTvttNNs7Nixhfa6W7duNm7cOPvuu++satWqlsu6ufBxIc1Fi3URQAABBBBAAAEEEEAAAQQQQACB9AqQJ0pvbKPeMxLuUUcgoe2XlHBfv369LVy40KpXr261a9cu2ENNiKoa7vPmzbO6deu6P1+6dKk1adLE1XBXKRlvyWXdbAm5kGYrxXoIIIAAAggggAACCCCAAAIIIIBAugXIE6U7vlHuHQn3KPUT2Pbdd99tq1atsj/++MMGDBhgzZo1s44dO7o9OfHEE23fffe1JUuW2K677moauT5mzJiCvZw/f761bNnSjXS/6KKL3J+PGDHCjWyfMWOG7bHHHmVaN1tGLqTZSrEeAggggAACCCCAAAIIIIAAAgggkG4B8kTpjm+Ue0fCPUr9BLbdoEED++KLL4rt+ejRo6179+6bTLjrQ7NmzbJ+/frZ1KlT3TZat25tQ4YMcYn6oksu62ZDyYU0GyXWQQABBBBAAAEEEEAAAQQQQAABBNIvQJ4o/TGOag9JuEclT7uhC3AhDZ2cBhFAAAEEEEAAAQQQQAABBBBAAIFYCpAnimVYUtEpEu6pCCM7kY0AF9JslFgHAQQQQAABBBBAAAEEEEAAAQQQSL8AeaL0xziqPSThHpU87YYuwIU0dHIaRAABBBBAAAEEEEAAAQQQQAABBGIpQJ4olmFJRadIuKcijOxENgJcSLNRYh0EEEAAAQQQQAABBBBAAAEEEEAg/QLkidIf46j2kIR7VPK0G7oAF9LQyWkQAQQQQAABBBBAAAEEEEAAAQQQiKUAeaJYhiUVnSLhnoowshPZCHAhzUaJdRBAAAEEEEAAAQQQQAABBBBAAIH0C5AnSn+Mo9pDEu5RydNu6AJcSEMnp0EEEEAAAQQQQAABBBBAAAEEEEAglgLkiWIZllR0ioR7KsLITmQjwIU0GyXWQQABBBBAAAEEEEAAAQQQQAABBNIvQJ4o/TGOag9JuEclT7uhC3AhDZ2cBhFAAAEEEEAAAQQQQAABBBBAAIFYCpAnimVYUtEpEu6pCCM7kY0AF9JslFgHAQQQQAABBBBAAAEEEEAAAQQQSL8AeaL0xziqPSThHpU8RkQ/zgAAIABJREFU7YYuwIU0dHIaRAABBBBAAAEEEEAAAQQQQAABBGIpQJ4olmFJRadIuKcijOxENgJcSLNRYh0EEEAAAQQQQAABBBBAAAEEEEAg/QLkidIf46j2kIR7VPK0G7oAF9LQyWkQAQQQQAABBBBAAAEEEEAAAQQQiKUAeaJYhiUVnSLhnoowshPZCHAhzUaJdRBAAAEEEEAAAQQQQAABBBBAAIH0C5AnSn+Mo9pDEu5RydNu6AJcSEMnp0EEEEAAAQQQQAABBBBAAAEEEEAglgLkiWIZllR0ioR7KsLITmQjwIU0GyXWQQABBBBAAAEEEEAAAQQQQAABBNIvQJ4o/TGOag9JuEclT7uhC3AhDZ2cBhFAAAEEEEAAAQQQQAABBBBAAIFYCpAnimVYUtEpEu6pCCM7kY0AF9JslFgHAQQQQAABBBBAAAEEEEAAAQQQSL8AeaL0xziqPSThHpU87YYuwIU0dHIaRAABBBBAAAEEEEAAAQQQQAABBGIpQJ4olmFJRadIuKcijOxENgJcSLNRYh0EEEAAAQQQQAABBBBAAAEEEEAg/QLkidIf46j2kIR7VPK0G7oAF9LQyWkQAQQQQAABBBBAAAEEEEAAAQQQiKUAeaJYhiUVnSLhnoowshPZCHAhzUaJdRBAAAEEEEAAAQQQQAABBBBAAIH0C5AnSn+Mo9pDEu5RydNu6AJcSEMnp0EEEEAAAQQQQAABBBBAAAEEEEAglgLkiWIZllR0ioR7KsLITmQjwIU0GyXWQQABBBBAAAEEEEAAAQQQQAABBNIvQJ4o/TGOag9JuEclT7uhC3AhDZ2cBhFAAAEEEEAAAQQQQAABBBBAAIFYCpAnimVYUtEpEu6pCCM7kY0AF9JslFgHAQQQQAABBBBAAAEEEEAAAQQQSL8AeaL0xziqPSThHpU87YYuwIU0dHIaRAABBBBAAAEEEEAAAQQQQAABBGIpQJ4olmFJRadIuKcijOxENgJcSLNRYh0EEEAAAQQQQAABBBBAAAEEEEAg/QLkidIf46j2kIR7VPK0G7oAF9LQyWkQAQQQQAABBBBAAAEEEEAAAQQQiKUAeaJYhiUVnSLhnoowhrMTv//+u91666324IMP2tKlS61evXrWs2dP69u3r1WsWLHUTowZM8ZGjBhhc+bMsa222sqOPPJIu+WWW6xRo0aFPjtw4EAbNGhQsdt7++23rXXr1qW2VdwKXEjLxMaHEEAAAQQQQAABBBBAAAEEEEAAgdQJkCdKXUhjs0Mk3GMTivh3pHfv3jZq1Cjr0aOHHXLIIfbuu+/a6NGjTX8+cuTIEndgwIABdv3119tRRx1lJ598sq1evdruvvtu27Bhg7333nvWoEGDgs97CffbbrvNatWqVWi77dq1sx122KFMWFxIy8TGhxBAAAEEEEAAAQQQQAABBBBAAIHUCZAnSl1IY7NDJNxjE4p4d+STTz6x/fbbzy688EK78847Czp78cUX21133WUff/yx7bPPPsXuxDfffGP169d3I9pffvllq1Chglvviy++sKZNm1qHDh3s8ccf3yjh/tlnn9nuu+/uGwwXUt8o2RACCCCAAAIIIIAAAggggAACCCCQaAHyRIkOX6w7T8I91uGJT+euueYaGzx4sC1atMh23XXXgo4tXrzYGjZsaP3797ebbrqp2A4/++yzdsopp9ijjz5qZ5xxRqF12rdvb2+88YatXLnStt56a/d33gh3Jdx33HFH9+fZlKwpTYsLaWlC/D0CCCCAAAIIIIAAAggggAACCCBQPgTIE5WPOEexlyTco1BPYJsq5aJR7BqtXnRR2ZdmzZq50evFLePGjbMuXbrYM888Yx07diy0SufOne3pp5+26dOnW6tWrQol3LfZZhv76aefbPPNN7cjjjjC1Xtv3rx5mfW4kJaZjg8igAACCCCAAAIIIIAAAggggAACqRIgT5SqcMZqZ0i4xyoc8e2MysVUrlzZZs6cuVEnlQRfv369qexMcYsS9fvvv78rR6NJU71l7dq1bsLUL7/8slAyfvjw4TZ//nw7+OCDrVq1ai7RP2zYMNfGv//9bzvggANKhVq2bJnpn8xl7ty5boS99iGfxH2pjbMCAggggAACCCCAAAIIIIAAAggggECsBUi4xzo8ie4cCfdEhy+8zu+2225uAlNNlFp00QSqy5cvt88//3yTHTr88MNt2rRpriyNN2mqJlJ95ZVXXCK9uHIzmRubPXu2S5IrCT9lypRSd9wrS1PciiTcS+VjBQQQQAABBBBAAAEEEEAAAQQQQCDVAiTcUx3eSHeOhHuk/MlpPJ8R7tpLJeS7detWqOyMkudHHXWUq/3+3HPPuclTS1pUB17rrVmzxrbccssS12WEe3KOLXqKAAIIIIAAAggggAACCCCAAAIIhC1Awj1s8fLTHgn38hPrvPY0nxrumQ2rfIwmXtVkqHvuuaddddVVNmTIEFO5F/1/Sctll11md9xxh3311VdWp06dnPeHC2nOZHwAAQQQQAABBBBAAAEEEEAAAQQQSKUAeaJUhjUWO0XCPRZhiH8n+vfvbzfffLNLlu+6664FHV68eLE1bNjQ9PcaqZ7rotruq1evdtutUKFCiR8/8cQT7aWXXnITqVapUiXXpmzq1KnWunVre+yxx6xJkyY5f54PIIAAAggggAACCCCAAAIIIIAAAgikQ8Cb6++dd96xQw89NB07xV7EQoCEeyzCEP9OaOLSZs2auYlP77zzzoIOX3zxxXbXXXfZRx99ZPvuu6+rx75w4UKrXr261a5du8Qde/DBB+3cc8+1UaNG2fnnn+/W3bBhg/3yyy9ustTMRbXj27RpY0cffXShsjS5yP3zn/90k6ayIIAAAggggAACCCCAAAIIIIAAAgggIAENzOzatSsYCPgmQMLdN8r0b0hJ8fvuu8969OjhnvxpxPjo0aOtV69edu+99zqAJUuWuBHwqtc+ZsyYApQrrrjCVqxYYS1atHCj09944w176qmn7NRTT7XHH3+8YHT7qlWrTBO0amJVlZjZZpttXDL/4Ycftq233tq1WdbR6StXrnSTtDZo0KDUGvDpj2a4e+g9NU7S2wV6+NOqVSv7z3/+Y5UqVQoXLAGtJTGmCWCNvItliSvnSuRhK7EDZYlpvPcomb3z8zwhpsk8BkrqNTH9n46f50rURwpxjToC/rcfp5im6VzxP1LZbzFOMc2+16xZmoAXV+WkunfvXuI9/a+//uryWCqjXLNmzdI2zd8jkLUACfesqVhRX+pDhw41jUxXLfa6detaz549rV+/fgUJyU0l3JVUHzZsmC1YsMB+//13l0w/77zz3Aj3zTbbrAB33bp11rt3b5s+fbprQxc/jZQ/5phj7Nprr3XJcpbkCSSxLpre1qhcubL99ttvtvnmmycPPeAeJzGmAZOkYvNliSvnSrxDX5aYxnuPktk7P88TYprMY6CkXhPT/+n4ea5EfaQQ16gj4H/7cYppms4V/yOV/RbjFNPse82apQl4cVVe6aCDDuKevjQw/j4QARLugbCyUQQQyBRI4g8ZPRi64YYb7LrrrrOKFSsS0CICSYwpQSxdoCxx5Vwp3TXKNcoS0yj7m9a2/TxPiGn6jhJi+r+Y+nmuRH2kENeoI+B/+3GKaZrOFf8jlf0W4xTT7HvNmqUJeHGdMWOGTZo0iXv60sD4+0AESLgHwspGEUAg6Ql3IliyAD9O03mEENf0xZWYEtP0CaRvjzhP0xdT7RFxTV9ciSkxTZ9AOveIczWdcU3aXpFwT1rE6C8CCRTgCy+BQSuly8Q0fTElOUBM0ymQvr3i+ktM0yeQzj3iXE1fXIkpMU2fQDr3iHM1nXFN2l6RcE9axOgvAgkUWLZsmZtwVxPsqiY/S/IFiGnyY1jcHhDX9MWVmBLT9Amkb484T9MXU+0RcU1fXIkpMU2fQDr3iHM1nXFN2l6RcE9axOgvAggggAACCCCAAAIIIIAAAggggAACCCCAQCwFSLjHMix0CgEEEEAAAQQQQAABBBBAAAEEEEAAAQQQQCBpAiTckxYx+osAAggggAACCCCAAAIIIIAAAggggAACCCAQSwES7rEMC51CAAEEEEAAAQQQQAABBBBAAAEEEEAAAQQQSJoACfekRYz+IoAAAggggAACCCCAAAIIIIAAAggggAACCMRSgIR7LMNCpxBAAAEEEEAAAQQQQAABBBBAAAEEEEAAAQSSJkDCPWkRo78IIIAAAggggAACCCCAAAIIIIAAAggggAACsRQg4R7LsNApBBBAAAEEEEAAAQQQQAABBBBAAAEEEEAAgaQJkHBPWsToLwIxE/jjjz9ss802i1mv6E4+AsQ0H734fpa4xjc2Ze0ZMS2rXHw/R0zjG5t8ekZc89GLz2cz4/jf//7XKlSoEJ/O0ZMyCRDTMrHF+kPENNbhKXPniGuZ6fhghAIk3CPEp2kEkibw7bff2u23327r16+3WrVq2TnnnGM1a9Z0NxzcTCYtmv/XX2KazLiV1mviWppQ8v6emCYvZqX1WDEdOXKke2i9884721lnnWVbbLGF+xjJvNL04vv3nKvxjU1Ze/bNN9/Y4MGDbc2aNbbDDjtYjx49rHHjxu7c5fdvWVWj/RwxjdY/iNaJaRCq0W+TuEYfA3pQdgES7mW345MIlCuBBx54wC699FKrV6+e/f777/b555/bbrvtZldccYX16tWL5EACjwZimsCgZdFl4poFUsJWIaYJC1gW3b3nnnusb9++VrduXfvpp59MN5SHHnqo9evXz0444QSSeFkYxnEVztU4RiW/Pj3yyCN24YUXut+/VapUsU8++cS23npru+iii2zgwIH5bZxPRyJATCNhD7RRYhoob2QbJ66R0dOwTwIk3H2CZDMIpFng66+/tmOOOcb22Wcfd3NRp04dW7RokRuNN2fOHHvllVfsL3/5S5oJUrdvxDR1IXU7RFzTF1dimr6Yzp492zp06GBt2rRxSffq1avbxx9/bGeccYZVrlzZJk+e7L5vGTmbrNhzriYrXtn0Vg/DjjrqKNtpp53s1ltvtYYNG7o3A88//3x76aWX7OGHH7auXbva5ptvns3mWCcGAsQ0BkHwuQvE1GfQmGyOuMYkEHQjLwES7nnx8WEEyofAk08+aV26dLGZM2das2bNCnb6jTfesIsvvtiVmFHSfZdddikfICnYS2KagiAWswvENX1xJabpi+ndd9/tRsfOnz/fGjVqVLCDTzzxhF1yySXuu3TGjBnp2/GU7xHnavoC/Oqrr1q7du3stddec4l3b9Eod73h+emnn9q4cePssMMOS9/Op3SPiGn6AktM0xdT7RFxTWdcy9tekXAvbxFnfxHIQqBo7ViN6rnmmmvsvffes/32288l2DWaR6Pv/vnPf7qSMn369HH1LStVqpRFC6wStQAxjToC/rRfdAQscfXHNU5bIaZxikbuffG+TzO/V/V9+fjjj9tHH31k9evXL/hO3bBhg91yyy32j3/8w+644w73QJtR7rmbh/GJdevWuXr7KrFXsWJF1yTnahjy4bbx1FNP2WmnneYSP3qT0/v9q168/fbbdvLJJ1vbtm1t+PDhtuOOO4bbOVorkwAxLRNbrD5U9HuRmMYqPL51hrj6RsmGIhQg4R4hPk0jEDcBjWDXyDq93p75eqxG3emV2WeffdZOOukk120veaBXa/VK/PPPP2/vv/++7b777nHbLfqTIeDFjZgm+7D46quv3CSL3uLdfBDX5MZVJUWUsKlatapts802BTtCTJMbU9VpX7VqlV1++eUuOauEuh5Kjxgxwq666iqbOnVqwVtj3jm8YMECO++882zu3Ln2//7f/3OfYwLVeB0DKq03bNgwF59tt9224KEI52q84pRLb3QuqlyiJkTVNdhbVN7p2GOPdfHW2yeZv3/Xrl1rN9xwg/u7CRMmuMQ7S3wEvOut1yPvOkpM4xOjXHuycOFCN++J7lE1YTHnaa6C8Vz/P//5j22//fZWrVo1q1WrFnGNZ5joVRkFSLiXEY6PIZAmgUmTJrlXY7///nv75Zdf7KCDDnJJdO/mYcmSJe7PTjzxRLvvvvusQoUKhXb/hRdesFNPPdW9Iq/ReZkjvtLklKR90Q2F6gHfddddLjZFbzyUKGjZsiUxTVJQzWzixInu5v7HH3+07777zr3q3r9/fzdKVssXX3xhrVq1Iq4JiquunzfeeKOtXLnS9CBl//33twEDBthxxx1HTBMUx6Jd1STjd955p3sr7Pbbb3flKLyEz1tvvWV//etf3ffuoEGDNvrOVKJeo+D1OW2HUe7xOBCee+459zvn119/tdNPP909NKldu3ZB5/hejUeccumF6rArkb5ixQr7+eefba+99nITpPbo0cNtRr9n99xzT9tjjz1cvfaio9g//PBDN8mx5jkaPXo052ou+AGtq9+/3bp1c9dXPewsuhDTgOAD3Kx+J+kNIv3u1VwZRx55pLv+6j5Gi+5xmjRpwnkaYAyC2LQG611//fVuXgxNHL/rrru6ieN79uxJXIMAZ5uRCJBwj4SdRhGIj4BuILt3727HH3+8HXrooS7hftttt5lel9ZNv16l/eGHH9wXoMrHTJ8+3fbdd1+3A14SYNmyZXbKKae4kXwa5b7VVlvFZwfLWU80wYxKEQwdOtTFUj9eNCJES+YoydWrV7uHKo899hgxTcAxomTslVdeaU8//bS70dBIPMVVdWX1QOXmm292b6foXNV6xDX+QdV1U+fgv/71L3f9PfDAA905qoeWOm9VcqRx48bENP6hLNRD74GzysKMGjXKdK09++yzXck1jeDS8uWXX7obynfffdf9t0Z1Kfb6R6P2dG4fccQRLlmvc75KlSoJU0hXdxWPc88919555x33W6d3794uNopb5sL3arLi/vrrr7vfuBpcolHsGkyi6++cOXPcwzIl3rXogaiSQjoXlVzXet7vX/3uveCCC+zll1+2xYsXuzceWKIRWLNmjWl+DMVQgxL0FqBGzur3Uuaia7TW0cNOYhpNrLJtVQPBVNJUv4f0UEtvUSsxq1IjmlNMg8D23ntvV+pJ9z3ENFvZaNdTgl15BZ1/GsynOTD0dv3VV1/tHp7ojSH9Jiau0caJ1v0RIOHujyNbQSCRAvoi69ixo3stWol3JXm0qC6lasfq5kEJAY0a0M2ERkwffvjhptemK1eu7Nb1kgsaDTRlyhRX571GjRobjYJPJFDCOv3bb7/Zvffe6xKuBx98sEvW3X///e6VZ/1gLfrmwYsvvuhGAbVp04aYxjjWGnWnEc8aCaJRr506dXI3kIq3bi40Cnb8+PEuEaCFuMY4mH92TUkaJe0+++wzO+ecc6xDhw4FI2V106iRW9OmTXNvK2jRKMyzzjqLczX+oS3oob5bvdGwjzzyiI0dO9Y6d+5c8PcPPvigKx2jf3Td9hbvOq03HPQATd/HqhGe+fp8ghgS31U9EFEyQG8P6UGmHo55ifbiSv1w/U1GyJUw12ATnV+KmX7napk1a5abQ0EPszUJbvv27d3EqHrQolIHOpcbNGjg1vWS7vp9pUSvfv/qdxdL+AJK0uneRNdTJWL1RpF+G+n7VbEpuqiEmwYr6BpNTMOPVzYtqmTTTTfd5JLteqilt4q8hyfexOMqz6bfxVqIaTaq0a+jB2PXXnut/fvf/3aDEXRt9d4UGzNmjPszPVDRvQ5xjT5e9CB/ARLu+RuyBQQSK6ARIPvss4+7gRw5cmShEdB6uqzJUJXw0RefkvMaoadRIVr3zDPPLFTnUj9qlRBU+Zmtt946sSZJ77h+xGg0nm48lKxRIk9vJegVzJo1a7qkuxI3GqGl0fCKp0ZHE9P4Rl5lRjSyRyNeVSLIm6BPN5iq86ybS72V4tWXJa7xjWVmz/7+97+7UgXnn39+wZwZus6qZIVGXioJ5M2JoWv1kCFDOFcTEFovYa4HKhrFpYSAknl6sKkkgZesUwkLnbO6VqtUlEbYZibVlXDXQ+/Zs2cXnPMJ2P1UdlHfqyrlpfI+SgBp0QMTjZ7daaed7JBDDnHX5y233NK96afSB3yvxv9QUPkuXWM1yjLz4Yne1NQDTo241JudGozywAMPuIekKlNy2WWXFSoto1GZerNQg1eYODW6uOuNIsVOb+fqWqr7El1f9fD6gAMOcB3z4qwBC3oIqkQuMY0uZiW1rNJdGuSlck6Klff9qAddStrWq1fP/X7SbyMtxDSecSyuVxospPky9OZY5pxxGlz06KOPujc/9RaZFr1xr4dinKvJiS89LSxAwp0jAoFyLKAyFfoho1qyGmGnRLk3Ykc/ZnSDqcnBNMpHI/M0mZt+mKr+rG5AVQ5ByT39wNVIaY0+UAKXJXwBL24qI6PyA94PU9UU1Q8ajeTRjWPRWsCff/65q3GptxOIafhxy6ZFxVQjd/TWQuYNo/5br74raaAfr7rp924miWs2stGs452DSq5n3mioN7qp0PmoUVw6H/XAU6MqNXHmvHnz3NsrnKvRxC3XVpVAV6JOSSDdROpNo8wyFdqe3iDT22T6LlaCVuUt9EaLSpfoO1UJeb3twBKNgHeu6oG13ljQAxANPNBbKBpcoGS7RsDr+1ajpZX4UdkgztVo4pVLqyr/07p1a/dGpt7wzJz8Vg+zNapWb24qprom67zUv5V418NSPfzWwxWNftd6f/nLXwq9qZJLX1g3PwHvd49GROs71RuUoDfDlHRX4k7/XXTRg2zdxxDT/PyD/LR+4zZs2NDd12Q+FNN1t3nz5m50tL5jvYWYBhmN/LftfacWnVdMW9Y1V795lIvQtVYPsRV7lalVaSHd43Cu5h8DthC+AAn38M1pEYFYCHhfehrdrlE5KhlTtM6hXq3t2rWre3166tSprt/Lly93pSv06myjRo1cQuGTTz5xN5l63dp7Ih2LnSzHnfBGWerHp95U0EMTJXc0+W3RHzrENP4HipecLVrCQG8vqNyBHqb87W9/K/RAhbjGP67qoa7FStzoFXjdXOptBl1zdYOhCfn0irxqCCv2GhXN9TfecfW+WzVCViP0VO5J12HVI9WNpB6C6ntSD9J0I/nBBx+4V6dVskTrqO6wRmTq+1jfqXoLgiU6Ae+a+9BDDxW8RXTSSSe5B9maN0NJvuuuu86NktYIeJWx4LdSdPHKpmUvpkqU67evJmT0RkB7n9fbKSqjqIctKjvjzb+gBy9K0Gsku0bH6yFM1apV3bmq85cleoHMASh60KmHJuPGjXO/kYpbiGn0MdtUDzY1YfiiRYvcfGJ6UK25FoquR0zjG9PMnuleVb+FNIecHlQrJ7Hddtu538Svvvqqe9CtMjPeQlyTEVd6WViAhDtHBAIpFiiuvmjm7urvdROphI6eLGt0nZbMVy41wl2j1jPrCWvCGn0RasSIvhQ18lY3nCzBC5QW06LxVemYV155xd046uHIjBkz3Crej1Pv38Q0+NiV1EIucc2Mn0b2aISsknaaOMrbDnGNNp6Z19FseqJXoXUNVdJdSRsld5Rw1yjnSZMmuVqXGo2phXM1G9Fg1snlPNWr8Eqsq6SMFpU20ANsPQDVhLlNmzZ1o9f1cEVvpDzzzDPu7QWNpNVxoO9elnAEsomrzlGNplSSVaPv6tatW9A5vemnmC1dutTefPPNgnrgnKvhxK+srahOu97wVFJWZWI0OjrzO1Rlg1SyQtdglXjSoodnKiWkpLsegKqkm0ZessRLwIvjzJkz3Sh3laXQ799tttmmIMbe4BNiGq/YZfNbWSVHdD3WG9cadOLFO3OwEedpcuKq3zvKJWhQmEp56ftW37Mqd5pZz51zNTkxpaf/EyDhztGAQAoFNFrnyCOPdKNuij711w2CbgJVSkYTn2oUu16F1g9PjeLRF11mQk+13DX6Tq9Qa/RW0UVfit4EqimkjM0uZRNT1QmuVKlSQZ+9H6D6t0oBqcaoRlcqiVd0yUw4ENPwwl6WuGb2TqMsleDReazRssQ1vNhtqqVcYpp53hWd1Fjb17wYGk2rkZh6OMr1N5r45hJT720UJQN0TqoeqRbNqaFRtHoVXq/Hq86w1tF/e4s+q+Mg88+i2ePy0WoucZWI3kBR3WAl7bzFO29VLki/kVRrWHPccK5GcwzpOqnrqgYZFD2P9NaXSiOqFIXOTY1e13eo5knQsaA5jbR412W9FajSUErY6vdT0aW4sgjR7HW6W80mpi1atHBzKBT38EwPPVWqQvMvFPdwJPM+iZiGcyzlG1MlaHXN1cTzmp+qpN++xDScmKqVXOOq81Ul2Yo7b/Vmfbt27dwcKZMnTy50bdb/ENfw4kpL+QmQcM/Pj08jECsBjbLSzYOeBmviveHDhxf6EtMNv/5eX2JKpLds2dIl5PUEWT9GVWdWNYJVL9hLGugzqnF53333uc+yhCuQS0yLey3au5FQaQrdgKpWsF6V1mvwGjWr+tAahVlcsi/cPS1freUbV2kphvohqrIGGu2jRaO4VJpCiYb69etv9MCtfCmHu7d+xNRL9uh81MMzjebRxFJ6i0EPPVnCFcgnpnpTQXWd9YaYXolWWSCNbNd5q8msVQNa5WOyGV0d7l6nv7V84uqdo3p7LPOmX5Mc63V4lZbRa+8s4Qrod22fPn3cfCcqIaI665kPoXXe6c806CAzRnqoqTdPunTp4uZCqV27dsHvX+2BykDpTRTe4gw3nmotl5jqDaGTTz65UCe9a+vChQvdsaESfHpopgdmGqigexv9huL3b3ixzTemXk/btm3r3gbzyp3qt6/eFFP9fpVh21QpmvD2tHy15Fdcdc4qdt48DHrbUw89Nb9R5oCy8qXL3iZdgIR70iNI/xHIEFCiTclTb9IgPRFWjTvvx6TqyeqmXzccKjPijebRa9DXXHONe6VdJSp086EvO31Or9RqZnDdTOpLjyVcgbLGNLOX3k3ikrYkAAAfyUlEQVSHEjxK3GmEu24qNcKyffv2rvaolzwId+/Kb2t+xHX+/PnuHFYce/bs6Ub66DV3TSqkG08lHVjCE/AjpkVH2t16663u2lxS/dnw9rD8tVSWmHox1JsJGlGr5I5KV+j/VbZCI6D1HayH2GeffXb5Q43BHpclrkW7XfRBid4UVNkgTXhLLe/wgqxzTIl0/X5V2RfVc9Zk06oDXPR3kM49TUathLtKF2jRQ019V+rB2D/+8Q836EQPrDV6UttUIl5zpOjfLOEI5BvT4n7/6reR5tVQ6SeVV9T1V6PiVZJEI2xZghXwM6ba1m677eZ+G+lhmN5a0YAjvcmgBygqkco9TbDx9LbuZ1wzf//qTev777/fDR7Uv3WPw4JAUgVIuCc1cvQbgSICuvnzRrzqlWdNaqp6aM8++6xb07s5/O6779yNSNEfmJqA5vTTT3elKZRg142LSs8o4aPX9fRjNfM1agIQvEC+MS3aQ91YqF6/ErNadJOqtyC8kQTB7xEteOdiPueqp6gHJbqB1Nsqepg2bNgwV6NUb6IoCU9cwzve/D5XNZG1HopqVLseqmh0j0qEsYQnkG9M9dBL56a+h5UEVKJHEy1+9dVXttdee7nJNVWqgiVcgXzjWrS3OlcVZ03ep5jrjUGWcAQ0qlL1m/UbVUlzTTitt0Y2lWzTKFiVQCz690ruKHaaQFVzGenh2Jo1a9xbKBrAomSezl2W4AX8imnRnqqetwacePMYKZF32223MWo2+JC6Ueh+nKdeV/XbSPeoDz/8sHsDRXHUPa/mW9A5y2/fEIL65xsofsbV6/WSJUvcGyi6pusNXt3r6E1PFgSSKkDCPamRo98IFCOg1+l0U6/RO/oBojITSrifcMIJhV6R1UeLq32mke79+/d3o7T0Kq5GuOvLVKPcMycIAz88gXxjqp7qxlEPTDSiRz98dTOp5GyDBg3C2xFaKiTgR1z79u3r6sqqjIFXi1gx1sgflvAF8o2pyngp4aNJ3vSP/lvXbj082WmnncLfIVp0r6jn+p3qvVE2b948d71t06aNOyczH3JrVK0mS2WJRqAscc3sqX4/vf766y7Jo0SezlXV41eyh8RAeDFVjXUNIlDt7vHjxxf8plG5PCXXVTJP556Scpuq0+0NRlG5PY2Q9Wq163zVwzKNrlR5NpZwBPyIaWZPNbhB90F6EDZt2jRXzksx5vdvOPFUK37HVPe3/fr1M5WVefXVV92cZfz2DS+eXkt+xlXfqTpP9dtXA/+8Ca311n2dOnXC3zlaRMBHARLuPmKyKQTCENBIVt1cFJcw1+h1TZypRLue8GvEjhLluinUUlKtWO/vdFOiEdCq862bFL1yyRKsQFAx9Xqttxd69eplc+fOdRPaaBIaluAFgoyrkrO6cVSip2nTpu51eCXeWYIVCDKmixcvdiPwPvjgA9t9993dw0/dULIEKxBkTL25UILdA7ZenECQcdV36uWXX+7Kx2gCetX35ns1+OPQi6k3sbuS6hoQotHKGgWpxIz++5NPPinozNFHH+1+9+jNz2wWTWr8/fffu9/LKtHIEqxA0DFdsWKFK+WlBJ7m0uA8DTae2nrQMdWbnTrf9957bxs8eDC/fYMPqWshyLhqYFjv3r3dyHbV4NcDFb2xxIJAGgRIuKchiuxDuRDQDcaZZ57pkuFKyBS3qI6dJkLV6B7VbtckQXo6rNEAl156abGf0UgvjbTT67JM3hbuoRRGTL090qSpzZo1C3cHy2lrYcRViTzVqdRoWupAB3+gBRlTlerSSEzFUm8ZrVq1yvbff//gd6qctxBkTL3v1HJOHMnuBxnXzHNVEzEqMevVAo9kZ8tJo8XF1Pu9qgeVKqP2xhtvuN+yrVu3tr/97W9WvXp190BaI1/1pqbe/Cz69oEGIajEjEbB8/s33IMpjJh6e6RzlTf/go9vGDHVeTplyhTTec9v3+BjqhaCjKtKdmmAiRZ9n3799dfuQQoLAmkSIOGepmiyL6kW0KR5qrGuxZtAxHt13dtxfVE1b97c1bX761//anqlXa85//TTTzZx4kRXE1g3h7r50Eh23aB07NjRjf64+uqrbYsttki1Ydx2jpjGLSL+9CfouGpSN73lwhKeQNAx1cRfmqiPJTyBoGPKd2p4scxsKei4cq6GH9fiYuq9PaIEnCY31YSnKpenwSWq6a467SonopJcKr+mMnp6g8grLfP+++/b4Ycf7t4Uu/feeynxFHJYiWnI4CE0F3RMNYBMD9JYwhUIOq5cf8ONJ62FL0DCPXxzWkSgTAKqP6gbiVatWrnXZTWhqRI0maNyPvroI5dMV51C7wmxJvIaMGCAqx+rUex33nmnKzWjRbVHTzzxROvUqZOraaiRPizhCRDT8KzDbCnouCpxwMOxMCNqrv5rkNdfYhpuPNUaMQ3fPIwWiWsYyuG2samYeoNO9GaQJsNUAl3Jdi3e3+mt0K5du9ovv/xin376aUHHNUDl2GOPdWVjlPBRCUWW8ASIaXjWYbVETMOSDrcd4hquN62lT4CEe/piyh6lTMBLqD/wwAP2yCOPuJHr11xzjRupoyS5N1pH6+kVuwMPPNAmTJjgXqvVCHYliWbPnu1quuumokePHgX13zVCSIn7bGtbpow2st0hppHRB9owcQ2UN5KNE9NI2ANtlJgGyhvZxolrZPSBNVxaTIu+5amOeJ/JHIyixLrmMtJglcwJ+DRRqpegD2wn2HAhAWKavgOCmKYvppnX0k3lH7j+pjPu7JX/AiTc/TdliwgEIqBJuZRAnzRpkisto9qU8+fPt0aNGhUk0HVDcdxxx7mSMkrOa8ZvTbqnETyaWEqj41988cVA+sdGcxcgprmbJeETxDUJUcqtj8Q0N68krE1MkxCl3PtIXHM3i/snSoppZtKnuGS79k1vfKpWsN7+pHRXPKJNTOMRBz97QUz91IzPtohrfGJBT5IpQMI9mXGj1+VIwLuB0Gh21VFTGRjVq+zevbsbxf7SSy8VjOiZM2eOq9Gu2b4bN25sl1xyiSsfown5VKfyhRdesOnTp7uJVVmiEyCm0dkH2TJxDVI3mm0T02jcg2yVmAapG922iWt09kG1nEtM1YeiE5+uWLHCNDrzhhtucHMfnXnmmUF1le1mKUBMs4RK0GrENEHByqGrxDUHLFZFoAQBEu4cHgjEXMD7wtNEia+//rppoqeff/7ZlYrRqPXJkyfb0UcfbXPnzrU999zTVLNdI340GaqS7hrVo0Wv0qqO+1577RXzPU5/94hpOmNMXNMXV2JKTPlOTcYxwLmajDjl0stsY/rxxx+7Nzm9RXXbNaeR3ggdP368+z08fPhwq1GjRi7Ns24AAsQ0ANSIN0lMIw5AQM0T14Bg2Wy5EyDhXu5Czg7HScCrv76pPmX+/cCBA+3NN990o9SrVavmXo3VRFAbNmyw+vXr27fffusmjdJkivqSZAKoaCJNTKNxD7pV4hq0cPjbJ6bhmwfdIjENWjia7RPXaNyDbNXPmC5fvtymTp1qO+ywgz366KPWu3dv23777d3cRQMGDLBu3boFuSts+08BYpq+Q4GYpi+m2iPims64slfxFCDhHs+40KuUC5Q0UZPqsmsku24YtHj1KVUeRkl2lZTRoglSVS5GI9d32WUXe+ihh6xFixYuGc8SvgAxDd88jBaJaxjK4bZBTMP1DqM1YhqGcvhtENfwzYNuMaiYNmvWzLbddls3COWmm26yBg0akGgPOph/bp+YhgQdYjPENETsEJsiriFi0xQCfwqQcOdQQCBEAU1kes8997gnyxqJ06lTJ+vRo0ehHnTp0sWefPJJGzVqlPXq1augJqUS7npNVon1++67z26//XaXXFfJmO+//94l4DWip7Sn1iHubrloipimM8zENX1xJabElO/UZBwDnKvJiFMuvQwjpuvXr3e/ifkdnEtkyr4uMS27XVw/SUzjGpn8+kVc8/Pj0wjkI0DCPR89PotAlgI//PCD/f3vf7cJEybYcccdZ1tttZV9+umnrsZk37597aKLLrKdd97Zbe21116zQYMG2d133+1qUno3DhdccIF7VbZ27dr2zTffWM+ePd0oeG80/KmnnmpPPPFElj1itXwFiGm+gvH8PHGNZ1zy6RUxzUcvnp8lpvGMS769Iq75Csbv88Q0fjHJt0fENF/B+H2emMYvJn70iLj6ocg2EMhPgIR7fn58GoGsBJ5//nk744wzTHXY9e8dd9zRVqxYYZoIdcyYMabR68OGDStxW9qGkvYtW7a0Pn36WPPmza169epudPtll11mhx12mJ1zzjlZ9YeV8hcgpvkbxnELxDWOUcmvT8Q0P784fpqYxjEq+feJuOZvGLctENO4RST//hDT/A3jtgViGreI+NMf4uqPI1tBIB8BEu756PFZBEoQ8Gb31irHHnusLViwwI1q1+h2Lfp7lYhRonz16tVudLpqsqv+ZKVKlQr+7TWhp9SLFi2yWrVqWd26dQu2UaFCBeIQkgAxDQk65GaIa8jgITRHTENADrkJYhoyeEjNEdeQoENshpiGiB1SU8Q0JOgQmyGmIWKH2BRxDRGbphDIQoCEexZIrIJALgJff/217bTTTrbZZpu5j61du9Y6duzokuv6R4s3EaomL2nbtq0rLaMJT6dOnWqVK1cuqNtetN3ML9Fc+sS6+QkQ0/z84vpp4hrXyJS9X8S07HZx/SQxjWtk8usXcc3PL46fJqZxjEp+fSKm+fnF8dPENI5Ryb9PxDV/Q7aAQBACJNyDUGWb5VJg9uzZdsUVV9iyZcvcpE0auT5gwABX9kX11++//37TpCVdu3YtqMs+a9YsN6q9atWqNmfOHFdeRn/vLRrtPnnyZFeC5oADDtho1Hu5hA5xp4lpiNghNkVcQ8QOqSliGhJ0iM0Q0xCxQ2yKuIaIHVJTxDQk6BCbIaYhYofUFDENCTrkZohryOA0h0COAiTccwRjdQQyBbwR5//617/cJKZNmza1Vq1amRLpb775pqu3fu+991qVKlXcn1erVs3Gjx/vSsL8+OOP1q1bN6tZs6ar5X744Ye7Wu5DhgxxCXst77//vtuGRszryTVL8ALENHjjKFogrlGoB9smMQ3WN4qtE9Mo1INvk7gGbxx2C8Q0bPHg2yOmwRuH3QIxDVs8nPaIazjOtIKAHwIk3P1QZBvlXuCEE05wk6COHTvW9thjD+fxwgsvuFIySrS/9NJLpqR837593Xrbbbed/fTTT66MzKOPPmq77767HXzwwVajRg2bOHFiwQh4baddu3bWqFEjGz58uFWsWNGo2R7O4UZMw3EOuxXiGrZ48O0R0+CNw26BmIYtHk57xDUc5zBbIaZhaofTFjENxznMVohpmNrhtUVcw7OmJQTKKkDCvaxyfA6BPwXmzZtnhx56qJ1zzjk2dOhQ96fexKc33nijDRo0yM477zwbOXKkad2XX37ZPv/8czv66KNdkl2ToK5bt87atGnjRsDr75VY97ahv9tiiy3wDlGAmIaIHWJTxDVE7JCaIqYhQYfYDDENETvEpohriNghNUVMQ4IOsRliGiJ2SE0R05CgQ26GuIYMTnMIlFGAhHsZ4fgYAp7Ad999Z/Xr17errrrKrrvuOlu/fr1LmGvS1N9++806dOhg77zzjhvhriS7N2FqpuDq1autXr161rt3b7vlllvAjViAmEYcgICaJ64BwUa4WWIaIX5ATRPTgGAj3ixxjTgAATRPTANAjXiTxDTiAATQPDENADUGmySuMQgCXUAgCwES7lkgsQoCJQn8/PPPrv66EuwzZswoWNVLrL/44ot2+umnW9u2be2pp57aaFOLFy925WKef/55e/XVV115GZZoBYhptP5BtU5cg5KNbrvENDr7oFompkHJRrtd4hqtfxCtE9MgVKPdJjGN1j+I1olpEKrRb5O4Rh8DeoBANgIk3LNRYh0EShHo37+/3XHHHW5C1OOPP36jUezHHHOMzZ8/35577jlr3ry525pqvC9atMjVd3/77bdN29AoeSXuqdMe/SFHTKOPQRA9IK5BqEa7TWIarX8QrRPTIFSj3yZxjT4GfveAmPotGv32iGn0MfC7B8TUb9F4bI+4xiMO9AKBkgRIuHN8IOCDgCZC1cSmquU+YcIEq1SpkmkG8T/++MOVl1E5mVNOOcWmTJniarVr6d69u02aNMmaNm3qysionjtLfASIaXxi4WdPiKufmvHYFjGNRxz87AUx9VMzPtsirvGJhV89IaZ+ScZnO8Q0PrHwqyfE1C/JeG2HuMYrHvQGgeIESLhzXCDgk8BNN91kgwcPtiFDhlifPn3cKHdvtLpKzRxyyCH24IMPukS7lpUrV9qSJUvsgAMO8KkHbMZvAWLqt2g8tkdc4xEHP3tBTP3UjMe2iGk84uB3L4ir36LRb4+YRh8Dv3tATP0WjX57xDT6GATRA+IahCrbRMA/ARLu/lmypXIusG7dOmvRooUtW7bMlYjRyHVvueeee+yiiy6yyZMn21FHHeVGv1M2Jv4HDDGNf4zK0kPiWha1eH+GmMY7PmXpHTEti1r8P0Nc4x+jXHtITHMVi//6xDT+Mcq1h8Q0V7FkrE9ckxEnell+BUi4l9/Ys+cBCGgke6dOnVxJmZtvvtnVa1+4cKENHDjQqlWr5mq8V69ePYCW2WRQAsQ0KNlot0tco/UPonViGoRqtNskptH6B9U6cQ1KNrrtEtPo7INqmZgGJRvddolpdPZBtkxcg9Rl2wjkJ0DCPT8/Po3ARgLvvvuunXvuuTZv3jyrVauWrVmzxnbZZRcbO3ZswYSpsCVLgJgmK17Z9pa4ZiuVnPWIaXJilW1PiWm2Uslaj7gmK17Z9JaYZqOUrHWIabLilU1viWk2Sslbh7gmL2b0uHwIkHAvH3FmL0MWWLp0qX300UdudPvOO+9snTt3DrkHNOe3ADH1WzQe2yOu8YiDn70gpn5qxmNbxDQecfC7F8TVb9Hot0dMo4+B3z0gpn6LRr89Yhp9DILoAXENQpVtIpCfAAn3/Pz4NAIIIIAAAggggAACCCCAAAIIIIAAAggggAACToCEOwcCAggggAACCCCAAAIIIIAAAggggAACCCCAAAI+CJBw9wGRTSCAAAIIIIAAAggggAACCCCAAAIIIIAAAgggQMKdYwABBBBAAAEEEEAAAQQQQAABBBBAAAEEEEAAAR8ESLj7gMgmEEAAAQQQQAABBBBAAAEEEEAAAQQQQAABBBAg4c4xgAACCCCAAAIIIIAAAggggAACCCCAAAIIIICADwIk3H1AZBMIIIAAAggggAACCCCAAAIIIIAAAggggAACCJBw5xhAAAEEEEAAAQQQQAABBBBAAAEEEEAAAQQQQMAHARLuPiCyCQQQQAABBBBAAAEEEEAAAQQQQAABBBBAAAEESLhzDCCAAAIIIIAAAggggAACCCCAAAIIIIAAAggg4IMACXcfENkEAggggAACCCCAAAIIIIAAAggggAACCCCAAAIk3DkGEEAAAQQQQAABBBBIuED37t1typQptmTJkoTvCd1HAAEEEEAAAQQQQCDZAiTckx0/eo8AAggggAACCCBQjgQ++OADe/75500J9gYNGhTsOQn3cnQQsKsIIIAAAggggAACsRYg4R7r8NA5BBBAAAEEEEAAAQT+J/Dggw/aueeea2+++aYdccQRBX+xbt06+/33322rrbaCCwEEEEAAAQQQQAABBCIUIOEeIT5NI4AAAggggAACCCCQi8CmEu65bIN1EUAAAQQQQAABBBBAIDgBEu7B2bJlBBBAAAEEEEAAAQR8Exg4cKANGjRoo+2NHj3a1W8vWsNdJWfq1q1rI0aMsEsvvdTee+89q1Gjhl155ZXWp08fW7x4sV100UX21ltv2RZbbGG9evWyG264wSpUqFCojXfffdduvPFGmzZtmv3666+25557uu1169bNt31jQwgggAACCCCAAAIIpEWAhHtaIsl+IIAAAggggAACCKRaYNasWS55/tBDD1n//v2tSZMmbn8POeQQu/7664tNuG+22WYuSX7GGWe4mu9jx451iXcl6ZXAP/74422vvfay8ePHuzI1+vuzzjqrwPG5556zzp07W/Pmza1Tp06uZI1qyE+ePNmGDBli/fr1S7U5O4cAAggggAACCCCAQK4CJNxzFWN9BBBAAAEEEEAAAQQiEthUSZniJk1Vgv2LL74wJc07dOjgerxy5Uo36v23336zkSNH2gUXXOD+fO3atVavXj1r3LixTZ061f2ZEvX169e3gw46yCXZM0e+K/n+4osv2tdff23bbrttRBo0iwACCCCAAAIIIIBA/ARIuMcvJvQIAQQQQAABBBBAAIFiBXJNuCuxrqR45rL33nvb/Pnz7eeff7bKlSsX/NWxxx5rH374oX377bfuz5RkV6L+mWeesTZt2hTaxgsvvGBnn322TZw40dq3b0+0EEAAAQQQQAABBBBA4E8BEu4cCggggAACCCCAAAIIJEQg14R77dq1Xe31zKV169Zu5PvSpUsL/flpp53mkuvr1693fz506FBX772k5eGHH7YePXokRI9uIoAAAggggAACCCAQvAAJ9+CNaQEBBBBAAAEEEEAAAV8Eck24q3zMO++8s1HC/csvv7QlS5ZslHB/+umnbcOGDe7Pb7nlFrv66qtt1KhRtvvuuxfb/6ZNm1qdOnV82Tc2ggACCCCAAAIIIIBAGgRIuKchiuwDAggggAACCCCAQLkQ0ISpPXv2dBOcHnHEEQX7vKka7vkk3DXaXbXan3jiCdPodxYEEEAAAQQQQAABBBAoXYCEe+lGrIEAAggggAACCCCAQCwExo0bZ126dLFnn33WTj755EAT7mvWrLFddtnFVJZm+vTpVrVq1UIGK1assJo1axaaTDUWSHQCAQQQQAABBBBAAIEIBUi4R4hP0wgggAACCCCAAAII5CLw2WefWePGje3AAw+0Cy64wLbccktr1aqVDRo0yKZMmVKoTEyDBg0snxHu6teECROsc+fOVqtWLdMoeiXgly9f7iZX1aSqmni1UqVKuewC6yKAAAIIIIAAAgggkGoBEu6pDi87hwACCCCAAAIIIJA2gZEjR9qwYcPcxKe///67jR492iXbg0i4y27mzJl2880329tvv20//PCD7bDDDqba7SeddJL17t2bEe5pO8DYHwQQQAABBBBAAIG8BEi458XHhxFAAAEEEEAAAQQQQAABBBBAAAEEEEAAAQQQ+D8BEu4cCQgggAACCCCAAAIIIIAAAggggAACCCCAAAII+CBAwt0HRDaBAAIIIIAAAggggAACCCCAAAIIIIAAAggggAAJd44BBBBAAAEEEEAAAQQQQAABBBBAAAEEEEAAAQR8ECDh7gMim0AAAQQQQAABBBBAAAEEEEAAAQQQQAABBBBAgIQ7xwACCCCAAAIIIIAAAggggAACCCCAAAIIIIAAAj4IkHD3AZFNIIAAAggggAACCCCAAAIIIIAAAggggAACCCBAwp1jAAEEEEAAAQQQQAABBBBAAAEEEEAAAQQQQAABHwRIuPuAyCYQQAABBBBAAAEEEEAAAQQQQAABBBBAAAEEECDhzjGAAAIIIIAAAggggAACCCCAAAIIIIAAAggggIAPAiTcfUBkEwgggAACCCCAAAIIIIAAAggggAACCCCAAAIIkHDnGEAAAQQQQAABBBBAAAEEEEAAAQQQQAABBBBAwAcBEu4+ILIJBBBAAAEEEEAAAQQQQAABBBBAAAEEEEAAAQRIuHMMIIAAAggggAACCCCAAAIIIIAAAggggAACCCDggwAJdx8Q2QQCCCCAAAIIIIAAAggggAACCCCAAAIIIIAAAiTcOQYQQAABBBBAAAEEEEAAAQQQQAABBBBAAAEEEPBBgIS7D4hsAgEEEEAAAQQQQAABBBBAAAEEEEAAAQQQQAABEu4cAwgggAACCCCAAAIIIIAAAggggAACCCCAAAII+CBAwt0HRDaBAAIIIIAAAggggAACCCCAAAIIIIAAAggggAAJd44BBBBAAAEEEEAAAQQQQAABBBBAAAEEEEAAAQR8ECDh7gMim0AAAQQQQAABBBBAAAEEEEAAAQQQQAABBBBAgIQ7xwACCCCAAAIIIIAAAggggAACCCCAAAIIIIAAAj4IkHD3AZFNIIAAAggggAACCCCAAAIIIIAAAggggAACCCBAwp1jAAEEEEAAAQQQQAABBBBAAAEEEEAAAQQQQAABHwRIuPuAyCYQQAABBBBAAAEEEEAAAQQQQAABBBBAAAEEECDhzjGAAAIIIIAAAggggAACCCCAAAIIIIAAAggggIAPAiTcfUBkEwgggAACCCCAAAIIIIAAAggggAACCCCAAAIIkHDnGEAAAQQQQAABBBBAAAEEEEAAAQQQQAABBBBAwAcBEu4+ILIJBBBAAAEEEEAAAQQQQAABBBBAAAEEEEAAAQRIuHMMIIAAAggggAACCCCAAAIIIIAAAggggAACCCDggwAJdx8Q2QQCCCCAAAIIIIAAAggggAACCCCAAAIIIIAAAiTcOQYQQAABBBBAAAEEEEAAAQQQQAABBBBAAAEEEPBBgIS7D4hsAgEEEEAAAQQQQAABBBBAAAEEEEAAAQQQQAABEu4cAwgggAACCCCAAAIIIIAAAggggAACCCCAAAII+CBAwt0HRDaBAAIIIIAAAggggAACCCCAAAIIIIAAAggggAAJd44BBBBAAAEEEEAAAQQQQAABBBBAAAEEEEAAAQR8ECDh7gMim0AAAQQQQAABBBBAAAEEEEAAAQQQQAABBBBAgIQ7xwACCCCAAAIIIIAAAggggAACCCCAAAIIIIAAAj4I/H9BFm6h0h0TzQAAAABJRU5ErkJggg==\" width=\"1200\">"
      ],
      "text/plain": [
       "<IPython.core.display.HTML object>"
      ]
     },
     "metadata": {},
     "output_type": "display_data"
    },
    {
     "data": {
      "text/plain": [
       "array([<matplotlib.axes._subplots.AxesSubplot object at 0x0000021416C001C8>,\n",
       "       <matplotlib.axes._subplots.AxesSubplot object at 0x0000021416C3EE48>,\n",
       "       <matplotlib.axes._subplots.AxesSubplot object at 0x0000021416CAD6C8>,\n",
       "       <matplotlib.axes._subplots.AxesSubplot object at 0x0000021416C66308>],\n",
       "      dtype=object)"
      ]
     },
     "execution_count": 11,
     "metadata": {},
     "output_type": "execute_result"
    }
   ],
   "source": [
    "backward_180_right_right_nospringa.plot(x='time', subplots=True)"
   ]
  },
  {
   "cell_type": "code",
   "execution_count": 12,
   "metadata": {},
   "outputs": [],
   "source": [
    "backward_180_right_right_1 = [backward_180_right_right_nospringa]"
   ]
  },
  {
   "cell_type": "code",
   "execution_count": 13,
   "metadata": {},
   "outputs": [],
   "source": [
    "for df in backward_180_right_right_1:\n",
    "    f = sampling_freq(df)\n",
    "    freq += f"
   ]
  },
  {
   "cell_type": "markdown",
   "metadata": {},
   "source": [
    "#### backward_180_left_left"
   ]
  },
  {
   "cell_type": "markdown",
   "metadata": {},
   "source": [
    "#### tussenpauze"
   ]
  },
  {
   "cell_type": "code",
   "execution_count": null,
   "metadata": {},
   "outputs": [],
   "source": [
    "#8 segmenten\n",
    "forward_180_left_backwards_other1 = pd.read_csv(r\"C:\\Users\\Elise\\Documents\\unif\\master\\semester2\\masterproef\\gitProject\\thesis\\data\\forward_180\\proefpersoon1\\forward_180_left_backwards_tim_other_side1.csv\", sep=';', header=0, skipinitialspace=True)"
   ]
  },
  {
   "cell_type": "code",
   "execution_count": null,
   "metadata": {},
   "outputs": [],
   "source": [
    "f1 =  forward_180_left_backwards_other1[forward_180_left_backwards_other1[\"time\"] <= 32379000000000]\n",
    "f2 =  forward_180_left_backwards_other1[(forward_180_left_backwards_other1[\"time\"] >= 32379000000000) & (forward_180_left_backwards_other1[\"time\"] <= 32383100000000)]\n",
    "f3 =  forward_180_left_backwards_other1[(forward_180_left_backwards_other1[\"time\"] >= 32383100000000) & (forward_180_left_backwards_other1[\"time\"] <= 32387300000000)]\n",
    "f4 =  forward_180_left_backwards_other1[(forward_180_left_backwards_other1[\"time\"] >= 32387300000000) & (forward_180_left_backwards_other1[\"time\"] <= 32391400000000)]\n",
    "f5 =  forward_180_left_backwards_other1[(forward_180_left_backwards_other1[\"time\"] >= 32391400000000) & (forward_180_left_backwards_other1[\"time\"] <= 32395500000000)]\n",
    "f6 =  forward_180_left_backwards_other1[(forward_180_left_backwards_other1[\"time\"] >= 32395500000000) & (forward_180_left_backwards_other1[\"time\"] <= 32399600000000)]\n",
    "f7 =  forward_180_left_backwards_other1[(forward_180_left_backwards_other1[\"time\"] >= 32399600000000) & (forward_180_left_backwards_other1[\"time\"] <= 32403800000000)]\n",
    "f8 =  forward_180_left_backwards_other1[(forward_180_left_backwards_other1[\"time\"] >= 32403800000000) & (forward_180_left_backwards_other1[\"time\"] <= 32408100000000)]\n"
   ]
  },
  {
   "cell_type": "code",
   "execution_count": null,
   "metadata": {},
   "outputs": [],
   "source": [
    "f1 = preprocess(f1, \"backward_180\", 0.8, 0.6)\n",
    "f2 = preprocess(f2, \"backward_180\", 1, 0.7)\n",
    "f3 = preprocess(f3, \"backward_180\", 1.3, 0.6)\n",
    "f4 = preprocess(f4, \"backward_180\", 1.2, 0.6)\n",
    "f5 = preprocess(f5, \"backward_180\", 1.1, 0.7)\n",
    "f6 = preprocess(f6, \"backward_180\", 1.3, 0.6)\n",
    "f7 = preprocess(f7, \"backward_180\", 1.2, 0.7)\n",
    "f8 = preprocess(f8, \"backward_180\", 1.2, 0.7)"
   ]
  },
  {
   "cell_type": "code",
   "execution_count": null,
   "metadata": {},
   "outputs": [],
   "source": [
    "forward_180_left_backwards_other_side_1 = [f1,f2, f3, f4, f5, f6, f7, f8]"
   ]
  },
  {
   "cell_type": "markdown",
   "metadata": {},
   "source": [
    "#### zonder tussenpauzes"
   ]
  },
  {
   "cell_type": "code",
   "execution_count": 70,
   "metadata": {},
   "outputs": [],
   "source": [
    "backward_180_left_lefta = pd.read_csv(\n",
    "    r\"C:\\Users\\Elise\\Documents\\unif\\master\\semester2\\masterproef\\gitProject\\thesis\\data\\forward_180\\proefpersoon1\\backward_180_left_left_tim1.csv\", \n",
    "    sep=';', header=0, skipinitialspace=True)\n"
   ]
  },
  {
   "cell_type": "code",
   "execution_count": 71,
   "metadata": {},
   "outputs": [],
   "source": [
    "backward_180_left_lefta = preprocess(backward_180_left_lefta, \"backward_180\", \"left_left\", 1)"
   ]
  },
  {
   "cell_type": "code",
   "execution_count": 72,
   "metadata": {},
   "outputs": [],
   "source": [
    "backward_180_left_left_1 = [backward_180_left_lefta]"
   ]
  },
  {
   "cell_type": "code",
   "execution_count": 73,
   "metadata": {},
   "outputs": [],
   "source": [
    "for df in backward_180_left_left_1:\n",
    "    f = sampling_freq(df)\n",
    "    freq += f"
   ]
  },
  {
   "cell_type": "markdown",
   "metadata": {},
   "source": [
    "#### backward_180_right_left"
   ]
  },
  {
   "cell_type": "markdown",
   "metadata": {},
   "source": [
    "#### tussenpauze"
   ]
  },
  {
   "cell_type": "code",
   "execution_count": null,
   "metadata": {},
   "outputs": [],
   "source": [
    "#7 SEGMENTEN\n",
    "forward_180_right_backwards_other1 = pd.read_csv(r\"C:\\Users\\Elise\\Documents\\unif\\master\\semester2\\masterproef\\gitProject\\thesis\\data\\forward_180\\proefpersoon1\\forward_180_right_backwards_other_side_tim1.csv\", sep=';', header=0, skipinitialspace=True)\n",
    "#1 SEGMENT\n",
    "forward_180_right_backwards_other2 = pd.read_csv(r\"C:\\Users\\Elise\\Documents\\unif\\master\\semester2\\masterproef\\gitProject\\thesis\\data\\forward_180\\proefpersoon1\\forward_180_right_backwards_other_side_tim2.csv\", sep=';', header=0, skipinitialspace=True)\n"
   ]
  },
  {
   "cell_type": "code",
   "execution_count": null,
   "metadata": {},
   "outputs": [],
   "source": [
    "f1 =  forward_180_right_backwards_other1[forward_180_right_backwards_other1[\"time\"] <= 31867200000000]\n",
    "f2 =  forward_180_right_backwards_other1[(forward_180_right_backwards_other1[\"time\"] >= 31867200000000) & (forward_180_right_backwards_other1[\"time\"] <= 31871500000000)]\n",
    "f3 =  forward_180_right_backwards_other1[(forward_180_right_backwards_other1[\"time\"] >= 31871500000000) & (forward_180_right_backwards_other1[\"time\"] <= 31875700000000)]\n",
    "f4 =  forward_180_right_backwards_other1[(forward_180_right_backwards_other1[\"time\"] >= 31875700000000) & (forward_180_right_backwards_other1[\"time\"] <= 31880400000000)]\n",
    "f5 =  forward_180_right_backwards_other1[(forward_180_right_backwards_other1[\"time\"] >= 31880400000000) & (forward_180_right_backwards_other1[\"time\"] <= 31885400000000)]\n",
    "f6 =  forward_180_right_backwards_other1[(forward_180_right_backwards_other1[\"time\"] >= 31885400000000) & (forward_180_right_backwards_other1[\"time\"] <= 31889600000000)]\n",
    "f7 =  forward_180_right_backwards_other1[forward_180_right_backwards_other1[\"time\"] >= 31889600000000]\n",
    "\n",
    "f8 =  forward_180_right_backwards_other2[forward_180_right_backwards_other2[\"time\"] <= 31918500000000]"
   ]
  },
  {
   "cell_type": "code",
   "execution_count": null,
   "metadata": {},
   "outputs": [],
   "source": [
    "f1 = preprocess(f1, \"backward_180\", 1.8, 0.4)\n",
    "f2 = preprocess(f2, \"backward_180\", 1.2, 0.4)\n",
    "f3 = preprocess(f3, \"backward_180\", 1.2, 0.6)\n",
    "f4 = preprocess(f4, \"backward_180\", 1.2, 0.6)\n",
    "f5 = preprocess(f5, \"backward_180\", 2, 0.6)\n",
    "f6 = preprocess(f6, \"backward_180\", 1.2, 0.6)\n",
    "f7 = preprocess(f7, \"backward_180\", 1.2, 4.8)\n",
    "f8 = preprocess(f8, \"backward_180\", 1.5, 0.5)"
   ]
  },
  {
   "cell_type": "code",
   "execution_count": null,
   "metadata": {},
   "outputs": [],
   "source": [
    "forward_180_right_backwards_other_side_1 = [f1,f2, f3, f4, f5, f6, f7, f8]"
   ]
  },
  {
   "cell_type": "markdown",
   "metadata": {},
   "source": [
    "#### zonder tussenpauzes"
   ]
  },
  {
   "cell_type": "code",
   "execution_count": 74,
   "metadata": {},
   "outputs": [],
   "source": [
    "backward_180_right_lefta = pd.read_csv(\n",
    "    r\"C:\\Users\\Elise\\Documents\\unif\\master\\semester2\\masterproef\\gitProject\\thesis\\data\\forward_180\\proefpersoon1\\backward_180_right_left_tim1.csv\", \n",
    "    sep=';', header=0, skipinitialspace=True)\n",
    "\n",
    "backward_180_right_leftb = pd.read_csv(\n",
    "    r\"C:\\Users\\Elise\\Documents\\unif\\master\\semester2\\masterproef\\gitProject\\thesis\\data\\forward_180\\proefpersoon1\\backward_180_right_left_tim2.csv\", \n",
    "    sep=';', header=0, skipinitialspace=True)"
   ]
  },
  {
   "cell_type": "code",
   "execution_count": 75,
   "metadata": {},
   "outputs": [],
   "source": [
    "backward_180_right_lefta = preprocess(backward_180_right_lefta, \"backward_180\", \"right_left\",1, 3, 4)\n",
    "backward_180_right_leftb = preprocess(backward_180_right_leftb, \"backward_180\", \"right_left\",1)"
   ]
  },
  {
   "cell_type": "code",
   "execution_count": 76,
   "metadata": {},
   "outputs": [],
   "source": [
    "backward_180_right_left_1 = [backward_180_right_lefta, backward_180_right_leftb]"
   ]
  },
  {
   "cell_type": "code",
   "execution_count": 77,
   "metadata": {},
   "outputs": [],
   "source": [
    "for df in backward_180_right_left_1:\n",
    "    f = sampling_freq(df)\n",
    "    freq += f"
   ]
  },
  {
   "cell_type": "markdown",
   "metadata": {},
   "source": [
    "#### zonder tussenpauzes, zonder springen"
   ]
  },
  {
   "cell_type": "code",
   "execution_count": 17,
   "metadata": {},
   "outputs": [],
   "source": [
    "backward_180_right_left_nospringa = pd.read_csv(\n",
    "    r\"C:\\Users\\Elise\\Documents\\unif\\master\\semester2\\masterproef\\gitProject\\thesis\\data\\forward_180\\proefpersoon1\\backward_180_right_left_tim_nospring1.csv\", \n",
    "    sep=';', header=0, skipinitialspace=True)"
   ]
  },
  {
   "cell_type": "code",
   "execution_count": 18,
   "metadata": {},
   "outputs": [],
   "source": [
    "backward_180_right_left_nospringa = preprocess(backward_180_right_left_nospringa, \"backward_180\", \"right_left\",1, 0.8, 2.5)"
   ]
  },
  {
   "cell_type": "code",
   "execution_count": 36,
   "metadata": {},
   "outputs": [],
   "source": [
    "backward_180_right_left_1 = [backward_180_right_left_nospringa]"
   ]
  },
  {
   "cell_type": "code",
   "execution_count": 37,
   "metadata": {},
   "outputs": [],
   "source": [
    "for df in backward_180_right_left_1:\n",
    "    f = sampling_freq(df)\n",
    "    freq += f"
   ]
  },
  {
   "cell_type": "markdown",
   "metadata": {},
   "source": [
    "### SEGMENTATION"
   ]
  },
  {
   "cell_type": "code",
   "execution_count": 78,
   "metadata": {},
   "outputs": [],
   "source": [
    "if( not raw):\n",
    "    #segmentation + feature extraction\n",
    "    for i in range(0, len(backward_180_left_right_1)):\n",
    "        backward_180_left_right_1[i] =  feature_extraction_segmentation(backward_180_left_right_1[i],1, True)\n",
    "\n",
    "    for i in range(0, len(backward_180_right_right_1)):\n",
    "        backward_180_right_right_1[i] =  feature_extraction_segmentation(backward_180_right_right_1[i],1, True)\n",
    "\n",
    "    for i in range(0, len(backward_180_left_left_1)):\n",
    "        backward_180_left_left_1[i] =  feature_extraction_segmentation(backward_180_left_left_1[i],1, True)\n",
    "    \n",
    "    for i in range(0, len(backward_180_right_left_1)):\n",
    "        backward_180_right_left_1[i] =  feature_extraction_segmentation(backward_180_right_left_1[i],1, True)"
   ]
  },
  {
   "cell_type": "code",
   "execution_count": 79,
   "metadata": {},
   "outputs": [
    {
     "data": {
      "text/plain": [
       "(2706, 7)"
      ]
     },
     "execution_count": 79,
     "metadata": {},
     "output_type": "execute_result"
    }
   ],
   "source": [
    "backward_180_left_right_1 = pd.concat(backward_180_left_right_1, ignore_index=True)\n",
    "backward_180_left_right_1.shape"
   ]
  },
  {
   "cell_type": "code",
   "execution_count": 80,
   "metadata": {},
   "outputs": [
    {
     "data": {
      "text/plain": [
       "(3226, 7)"
      ]
     },
     "execution_count": 80,
     "metadata": {},
     "output_type": "execute_result"
    }
   ],
   "source": [
    "backward_180_right_right_1 = pd.concat(backward_180_right_right_1, ignore_index=True)\n",
    "backward_180_right_right_1.shape"
   ]
  },
  {
   "cell_type": "code",
   "execution_count": 81,
   "metadata": {},
   "outputs": [
    {
     "data": {
      "text/plain": [
       "(3017, 7)"
      ]
     },
     "execution_count": 81,
     "metadata": {},
     "output_type": "execute_result"
    }
   ],
   "source": [
    "backward_180_left_left_1 = pd.concat(backward_180_left_left_1, ignore_index=True)\n",
    "backward_180_left_left_1.shape"
   ]
  },
  {
   "cell_type": "code",
   "execution_count": 82,
   "metadata": {},
   "outputs": [
    {
     "data": {
      "text/plain": [
       "(3865, 7)"
      ]
     },
     "execution_count": 82,
     "metadata": {},
     "output_type": "execute_result"
    }
   ],
   "source": [
    "backward_180_right_left_1 = pd.concat(backward_180_right_left_1, ignore_index=True)\n",
    "backward_180_right_left_1.shape"
   ]
  },
  {
   "cell_type": "markdown",
   "metadata": {},
   "source": [
    "### SHUFFLE - BALANCING"
   ]
  },
  {
   "cell_type": "code",
   "execution_count": 83,
   "metadata": {},
   "outputs": [
    {
     "data": {
      "text/plain": [
       "2706"
      ]
     },
     "execution_count": 83,
     "metadata": {},
     "output_type": "execute_result"
    }
   ],
   "source": [
    "shape = np.min([\n",
    "    backward_180_left_right_1.shape[0], \n",
    "    backward_180_right_right_1.shape[0], \n",
    "    backward_180_left_left_1.shape[0], \n",
    "    backward_180_right_left_1.shape[0]])\n",
    "shape"
   ]
  },
  {
   "cell_type": "markdown",
   "metadata": {},
   "source": [
    "#### shuffle"
   ]
  },
  {
   "cell_type": "code",
   "execution_count": 29,
   "metadata": {},
   "outputs": [],
   "source": [
    "backward_180_left_right_1 = shuffle(backward_180_left_right_1).head(shape).copy()\n",
    "backward_180_right_right_1 = shuffle(backward_180_right_right_1).head(shape).copy()\n",
    "backward_180_left_left_1 = shuffle(backward_180_left_left_1).head(shape).copy()\n",
    "backward_180_right_left_1 = shuffle(backward_180_right_left_1).head(shape).copy()"
   ]
  },
  {
   "cell_type": "markdown",
   "metadata": {},
   "source": [
    "#### no shuffle"
   ]
  },
  {
   "cell_type": "code",
   "execution_count": 84,
   "metadata": {},
   "outputs": [],
   "source": [
    "backward_180_left_right_1 = backward_180_left_right_1.head(shape).copy()\n",
    "backward_180_right_right_1 = backward_180_right_right_1.head(shape).copy()\n",
    "backward_180_left_left_1 = backward_180_left_left_1.head(shape).copy()\n",
    "backward_180_right_left_1 = backward_180_right_left_1.head(shape).copy()"
   ]
  },
  {
   "cell_type": "code",
   "execution_count": 85,
   "metadata": {},
   "outputs": [],
   "source": [
    "backward_180_1 = pd.concat([backward_180_left_right_1, backward_180_right_right_1, backward_180_left_left_1, backward_180_right_left_1])"
   ]
  },
  {
   "cell_type": "markdown",
   "metadata": {},
   "source": [
    "# <font color='green' >PROEFPERSOON 2"
   ]
  },
  {
   "cell_type": "markdown",
   "metadata": {},
   "source": [
    "## backward 180"
   ]
  },
  {
   "cell_type": "code",
   "execution_count": 86,
   "metadata": {},
   "outputs": [],
   "source": [
    "backward_180_left_right_2 = []\n",
    "backward_180_right_right_2= []\n",
    "backward_180_left_left_2 = []\n",
    "backward_180_right_left_2= []"
   ]
  },
  {
   "cell_type": "markdown",
   "metadata": {},
   "source": [
    "#### backward_180_left_right"
   ]
  },
  {
   "cell_type": "markdown",
   "metadata": {},
   "source": [
    "#### tussenpauze"
   ]
  },
  {
   "cell_type": "code",
   "execution_count": 290,
   "metadata": {},
   "outputs": [],
   "source": [
    "#7 SEGMENTEN\n",
    "forward_180_left_backwards1 = pd.read_csv(r\"C:\\Users\\Elise\\Documents\\unif\\master\\semester2\\masterproef\\gitProject\\thesis\\data\\forward_180\\proefpersoon2\\forward_180_left_backwards1.csv\", sep=';', header=0, skipinitialspace=True)\n",
    "\n",
    "#1 SEGMENT\n",
    "forward_180_left_backwards2 = pd.read_csv(r\"C:\\Users\\Elise\\Documents\\unif\\master\\semester2\\masterproef\\gitProject\\thesis\\data\\forward_180\\proefpersoon2\\forward_180_left_backwards2.csv\", sep=';', header=0, skipinitialspace=True)\n",
    "forward_180_left_backwards3 = pd.read_csv(r\"C:\\Users\\Elise\\Documents\\unif\\master\\semester2\\masterproef\\gitProject\\thesis\\data\\forward_180\\proefpersoon2\\forward_180_left_backwards3.csv\", sep=';', header=0, skipinitialspace=True)"
   ]
  },
  {
   "cell_type": "code",
   "execution_count": 292,
   "metadata": {},
   "outputs": [],
   "source": [
    "f1 =  forward_180_left_backwards1[(forward_180_left_backwards1[\"time\"] <= 11248600000000)]\n",
    "f2 =  forward_180_left_backwards1[(forward_180_left_backwards1[\"time\"] >= 11248600000000) & (forward_180_left_backwards1[\"time\"] <= 11253300000000)]\n",
    "f3 =  forward_180_left_backwards1[(forward_180_left_backwards1[\"time\"] >= 11253300000000) & (forward_180_left_backwards1[\"time\"] <= 11258300000000)]\n",
    "f4 =  forward_180_left_backwards1[(forward_180_left_backwards1[\"time\"] >= 11258300000000) & (forward_180_left_backwards1[\"time\"] <= 11263400000000)]\n",
    "f5 =  forward_180_left_backwards1[(forward_180_left_backwards1[\"time\"] >= 11263400000000) & (forward_180_left_backwards1[\"time\"] <= 11268300000000)]\n",
    "f6 =  forward_180_left_backwards1[(forward_180_left_backwards1[\"time\"] >= 11268300000000) & (forward_180_left_backwards1[\"time\"] <= 11273000000000)]\n",
    "f7 =  forward_180_left_backwards1[(forward_180_left_backwards1[\"time\"] >= 11273000000000)]\n",
    "\n",
    "f8 =  forward_180_left_backwards2[(forward_180_left_backwards2[\"time\"] <= 11287300000000)]"
   ]
  },
  {
   "cell_type": "code",
   "execution_count": 293,
   "metadata": {},
   "outputs": [],
   "source": [
    "f1 = preprocess(f1, \"backward_180\", 1, 0.7)\n",
    "f2 = preprocess(f2, \"backward_180\", 1, 1)\n",
    "f3 = preprocess(f3, \"backward_180\", 1.3, 0.9)\n",
    "f4 = preprocess(f4, \"backward_180\", 1.4, 0.9)\n",
    "f5 = preprocess(f5, \"backward_180\", 1.2, 1)\n",
    "f6 = preprocess(f6, \"backward_180\", 1.1, 1)\n",
    "f7 = preprocess(f7, \"backward_180\", 1.2, 2.4)\n",
    "f8 = preprocess(f8, \"backward_180\", 2, 1.1)"
   ]
  },
  {
   "cell_type": "code",
   "execution_count": 295,
   "metadata": {},
   "outputs": [],
   "source": [
    "forward_180_left_backwards_2 = [f1, f2, f3, f4, f5, f6, f7, f8]"
   ]
  },
  {
   "cell_type": "markdown",
   "metadata": {},
   "source": [
    "#### zonder tussenpauzes"
   ]
  },
  {
   "cell_type": "code",
   "execution_count": 4,
   "metadata": {},
   "outputs": [],
   "source": [
    "backward_180_left_right_2a = pd.read_csv(\n",
    "    r\"C:\\Users\\Elise\\Documents\\unif\\master\\semester2\\masterproef\\gitProject\\thesis\\data\\forward_180\\proefpersoon2\\backward_180_left_right.csv\", \n",
    "    sep=';', header=0, skipinitialspace=True)\n"
   ]
  },
  {
   "cell_type": "code",
   "execution_count": 5,
   "metadata": {},
   "outputs": [
    {
     "data": {
      "application/javascript": [
       "/* Put everything inside the global mpl namespace */\n",
       "window.mpl = {};\n",
       "\n",
       "\n",
       "mpl.get_websocket_type = function() {\n",
       "    if (typeof(WebSocket) !== 'undefined') {\n",
       "        return WebSocket;\n",
       "    } else if (typeof(MozWebSocket) !== 'undefined') {\n",
       "        return MozWebSocket;\n",
       "    } else {\n",
       "        alert('Your browser does not have WebSocket support. ' +\n",
       "              'Please try Chrome, Safari or Firefox ≥ 6. ' +\n",
       "              'Firefox 4 and 5 are also supported but you ' +\n",
       "              'have to enable WebSockets in about:config.');\n",
       "    };\n",
       "}\n",
       "\n",
       "mpl.figure = function(figure_id, websocket, ondownload, parent_element) {\n",
       "    this.id = figure_id;\n",
       "\n",
       "    this.ws = websocket;\n",
       "\n",
       "    this.supports_binary = (this.ws.binaryType != undefined);\n",
       "\n",
       "    if (!this.supports_binary) {\n",
       "        var warnings = document.getElementById(\"mpl-warnings\");\n",
       "        if (warnings) {\n",
       "            warnings.style.display = 'block';\n",
       "            warnings.textContent = (\n",
       "                \"This browser does not support binary websocket messages. \" +\n",
       "                    \"Performance may be slow.\");\n",
       "        }\n",
       "    }\n",
       "\n",
       "    this.imageObj = new Image();\n",
       "\n",
       "    this.context = undefined;\n",
       "    this.message = undefined;\n",
       "    this.canvas = undefined;\n",
       "    this.rubberband_canvas = undefined;\n",
       "    this.rubberband_context = undefined;\n",
       "    this.format_dropdown = undefined;\n",
       "\n",
       "    this.image_mode = 'full';\n",
       "\n",
       "    this.root = $('<div/>');\n",
       "    this._root_extra_style(this.root)\n",
       "    this.root.attr('style', 'display: inline-block');\n",
       "\n",
       "    $(parent_element).append(this.root);\n",
       "\n",
       "    this._init_header(this);\n",
       "    this._init_canvas(this);\n",
       "    this._init_toolbar(this);\n",
       "\n",
       "    var fig = this;\n",
       "\n",
       "    this.waiting = false;\n",
       "\n",
       "    this.ws.onopen =  function () {\n",
       "            fig.send_message(\"supports_binary\", {value: fig.supports_binary});\n",
       "            fig.send_message(\"send_image_mode\", {});\n",
       "            if (mpl.ratio != 1) {\n",
       "                fig.send_message(\"set_dpi_ratio\", {'dpi_ratio': mpl.ratio});\n",
       "            }\n",
       "            fig.send_message(\"refresh\", {});\n",
       "        }\n",
       "\n",
       "    this.imageObj.onload = function() {\n",
       "            if (fig.image_mode == 'full') {\n",
       "                // Full images could contain transparency (where diff images\n",
       "                // almost always do), so we need to clear the canvas so that\n",
       "                // there is no ghosting.\n",
       "                fig.context.clearRect(0, 0, fig.canvas.width, fig.canvas.height);\n",
       "            }\n",
       "            fig.context.drawImage(fig.imageObj, 0, 0);\n",
       "        };\n",
       "\n",
       "    this.imageObj.onunload = function() {\n",
       "        fig.ws.close();\n",
       "    }\n",
       "\n",
       "    this.ws.onmessage = this._make_on_message_function(this);\n",
       "\n",
       "    this.ondownload = ondownload;\n",
       "}\n",
       "\n",
       "mpl.figure.prototype._init_header = function() {\n",
       "    var titlebar = $(\n",
       "        '<div class=\"ui-dialog-titlebar ui-widget-header ui-corner-all ' +\n",
       "        'ui-helper-clearfix\"/>');\n",
       "    var titletext = $(\n",
       "        '<div class=\"ui-dialog-title\" style=\"width: 100%; ' +\n",
       "        'text-align: center; padding: 3px;\"/>');\n",
       "    titlebar.append(titletext)\n",
       "    this.root.append(titlebar);\n",
       "    this.header = titletext[0];\n",
       "}\n",
       "\n",
       "\n",
       "\n",
       "mpl.figure.prototype._canvas_extra_style = function(canvas_div) {\n",
       "\n",
       "}\n",
       "\n",
       "\n",
       "mpl.figure.prototype._root_extra_style = function(canvas_div) {\n",
       "\n",
       "}\n",
       "\n",
       "mpl.figure.prototype._init_canvas = function() {\n",
       "    var fig = this;\n",
       "\n",
       "    var canvas_div = $('<div/>');\n",
       "\n",
       "    canvas_div.attr('style', 'position: relative; clear: both; outline: 0');\n",
       "\n",
       "    function canvas_keyboard_event(event) {\n",
       "        return fig.key_event(event, event['data']);\n",
       "    }\n",
       "\n",
       "    canvas_div.keydown('key_press', canvas_keyboard_event);\n",
       "    canvas_div.keyup('key_release', canvas_keyboard_event);\n",
       "    this.canvas_div = canvas_div\n",
       "    this._canvas_extra_style(canvas_div)\n",
       "    this.root.append(canvas_div);\n",
       "\n",
       "    var canvas = $('<canvas/>');\n",
       "    canvas.addClass('mpl-canvas');\n",
       "    canvas.attr('style', \"left: 0; top: 0; z-index: 0; outline: 0\")\n",
       "\n",
       "    this.canvas = canvas[0];\n",
       "    this.context = canvas[0].getContext(\"2d\");\n",
       "\n",
       "    var backingStore = this.context.backingStorePixelRatio ||\n",
       "\tthis.context.webkitBackingStorePixelRatio ||\n",
       "\tthis.context.mozBackingStorePixelRatio ||\n",
       "\tthis.context.msBackingStorePixelRatio ||\n",
       "\tthis.context.oBackingStorePixelRatio ||\n",
       "\tthis.context.backingStorePixelRatio || 1;\n",
       "\n",
       "    mpl.ratio = (window.devicePixelRatio || 1) / backingStore;\n",
       "\n",
       "    var rubberband = $('<canvas/>');\n",
       "    rubberband.attr('style', \"position: absolute; left: 0; top: 0; z-index: 1;\")\n",
       "\n",
       "    var pass_mouse_events = true;\n",
       "\n",
       "    canvas_div.resizable({\n",
       "        start: function(event, ui) {\n",
       "            pass_mouse_events = false;\n",
       "        },\n",
       "        resize: function(event, ui) {\n",
       "            fig.request_resize(ui.size.width, ui.size.height);\n",
       "        },\n",
       "        stop: function(event, ui) {\n",
       "            pass_mouse_events = true;\n",
       "            fig.request_resize(ui.size.width, ui.size.height);\n",
       "        },\n",
       "    });\n",
       "\n",
       "    function mouse_event_fn(event) {\n",
       "        if (pass_mouse_events)\n",
       "            return fig.mouse_event(event, event['data']);\n",
       "    }\n",
       "\n",
       "    rubberband.mousedown('button_press', mouse_event_fn);\n",
       "    rubberband.mouseup('button_release', mouse_event_fn);\n",
       "    // Throttle sequential mouse events to 1 every 20ms.\n",
       "    rubberband.mousemove('motion_notify', mouse_event_fn);\n",
       "\n",
       "    rubberband.mouseenter('figure_enter', mouse_event_fn);\n",
       "    rubberband.mouseleave('figure_leave', mouse_event_fn);\n",
       "\n",
       "    canvas_div.on(\"wheel\", function (event) {\n",
       "        event = event.originalEvent;\n",
       "        event['data'] = 'scroll'\n",
       "        if (event.deltaY < 0) {\n",
       "            event.step = 1;\n",
       "        } else {\n",
       "            event.step = -1;\n",
       "        }\n",
       "        mouse_event_fn(event);\n",
       "    });\n",
       "\n",
       "    canvas_div.append(canvas);\n",
       "    canvas_div.append(rubberband);\n",
       "\n",
       "    this.rubberband = rubberband;\n",
       "    this.rubberband_canvas = rubberband[0];\n",
       "    this.rubberband_context = rubberband[0].getContext(\"2d\");\n",
       "    this.rubberband_context.strokeStyle = \"#000000\";\n",
       "\n",
       "    this._resize_canvas = function(width, height) {\n",
       "        // Keep the size of the canvas, canvas container, and rubber band\n",
       "        // canvas in synch.\n",
       "        canvas_div.css('width', width)\n",
       "        canvas_div.css('height', height)\n",
       "\n",
       "        canvas.attr('width', width * mpl.ratio);\n",
       "        canvas.attr('height', height * mpl.ratio);\n",
       "        canvas.attr('style', 'width: ' + width + 'px; height: ' + height + 'px;');\n",
       "\n",
       "        rubberband.attr('width', width);\n",
       "        rubberband.attr('height', height);\n",
       "    }\n",
       "\n",
       "    // Set the figure to an initial 600x600px, this will subsequently be updated\n",
       "    // upon first draw.\n",
       "    this._resize_canvas(600, 600);\n",
       "\n",
       "    // Disable right mouse context menu.\n",
       "    $(this.rubberband_canvas).bind(\"contextmenu\",function(e){\n",
       "        return false;\n",
       "    });\n",
       "\n",
       "    function set_focus () {\n",
       "        canvas.focus();\n",
       "        canvas_div.focus();\n",
       "    }\n",
       "\n",
       "    window.setTimeout(set_focus, 100);\n",
       "}\n",
       "\n",
       "mpl.figure.prototype._init_toolbar = function() {\n",
       "    var fig = this;\n",
       "\n",
       "    var nav_element = $('<div/>');\n",
       "    nav_element.attr('style', 'width: 100%');\n",
       "    this.root.append(nav_element);\n",
       "\n",
       "    // Define a callback function for later on.\n",
       "    function toolbar_event(event) {\n",
       "        return fig.toolbar_button_onclick(event['data']);\n",
       "    }\n",
       "    function toolbar_mouse_event(event) {\n",
       "        return fig.toolbar_button_onmouseover(event['data']);\n",
       "    }\n",
       "\n",
       "    for(var toolbar_ind in mpl.toolbar_items) {\n",
       "        var name = mpl.toolbar_items[toolbar_ind][0];\n",
       "        var tooltip = mpl.toolbar_items[toolbar_ind][1];\n",
       "        var image = mpl.toolbar_items[toolbar_ind][2];\n",
       "        var method_name = mpl.toolbar_items[toolbar_ind][3];\n",
       "\n",
       "        if (!name) {\n",
       "            // put a spacer in here.\n",
       "            continue;\n",
       "        }\n",
       "        var button = $('<button/>');\n",
       "        button.addClass('ui-button ui-widget ui-state-default ui-corner-all ' +\n",
       "                        'ui-button-icon-only');\n",
       "        button.attr('role', 'button');\n",
       "        button.attr('aria-disabled', 'false');\n",
       "        button.click(method_name, toolbar_event);\n",
       "        button.mouseover(tooltip, toolbar_mouse_event);\n",
       "\n",
       "        var icon_img = $('<span/>');\n",
       "        icon_img.addClass('ui-button-icon-primary ui-icon');\n",
       "        icon_img.addClass(image);\n",
       "        icon_img.addClass('ui-corner-all');\n",
       "\n",
       "        var tooltip_span = $('<span/>');\n",
       "        tooltip_span.addClass('ui-button-text');\n",
       "        tooltip_span.html(tooltip);\n",
       "\n",
       "        button.append(icon_img);\n",
       "        button.append(tooltip_span);\n",
       "\n",
       "        nav_element.append(button);\n",
       "    }\n",
       "\n",
       "    var fmt_picker_span = $('<span/>');\n",
       "\n",
       "    var fmt_picker = $('<select/>');\n",
       "    fmt_picker.addClass('mpl-toolbar-option ui-widget ui-widget-content');\n",
       "    fmt_picker_span.append(fmt_picker);\n",
       "    nav_element.append(fmt_picker_span);\n",
       "    this.format_dropdown = fmt_picker[0];\n",
       "\n",
       "    for (var ind in mpl.extensions) {\n",
       "        var fmt = mpl.extensions[ind];\n",
       "        var option = $(\n",
       "            '<option/>', {selected: fmt === mpl.default_extension}).html(fmt);\n",
       "        fmt_picker.append(option);\n",
       "    }\n",
       "\n",
       "    // Add hover states to the ui-buttons\n",
       "    $( \".ui-button\" ).hover(\n",
       "        function() { $(this).addClass(\"ui-state-hover\");},\n",
       "        function() { $(this).removeClass(\"ui-state-hover\");}\n",
       "    );\n",
       "\n",
       "    var status_bar = $('<span class=\"mpl-message\"/>');\n",
       "    nav_element.append(status_bar);\n",
       "    this.message = status_bar[0];\n",
       "}\n",
       "\n",
       "mpl.figure.prototype.request_resize = function(x_pixels, y_pixels) {\n",
       "    // Request matplotlib to resize the figure. Matplotlib will then trigger a resize in the client,\n",
       "    // which will in turn request a refresh of the image.\n",
       "    this.send_message('resize', {'width': x_pixels, 'height': y_pixels});\n",
       "}\n",
       "\n",
       "mpl.figure.prototype.send_message = function(type, properties) {\n",
       "    properties['type'] = type;\n",
       "    properties['figure_id'] = this.id;\n",
       "    this.ws.send(JSON.stringify(properties));\n",
       "}\n",
       "\n",
       "mpl.figure.prototype.send_draw_message = function() {\n",
       "    if (!this.waiting) {\n",
       "        this.waiting = true;\n",
       "        this.ws.send(JSON.stringify({type: \"draw\", figure_id: this.id}));\n",
       "    }\n",
       "}\n",
       "\n",
       "\n",
       "mpl.figure.prototype.handle_save = function(fig, msg) {\n",
       "    var format_dropdown = fig.format_dropdown;\n",
       "    var format = format_dropdown.options[format_dropdown.selectedIndex].value;\n",
       "    fig.ondownload(fig, format);\n",
       "}\n",
       "\n",
       "\n",
       "mpl.figure.prototype.handle_resize = function(fig, msg) {\n",
       "    var size = msg['size'];\n",
       "    if (size[0] != fig.canvas.width || size[1] != fig.canvas.height) {\n",
       "        fig._resize_canvas(size[0], size[1]);\n",
       "        fig.send_message(\"refresh\", {});\n",
       "    };\n",
       "}\n",
       "\n",
       "mpl.figure.prototype.handle_rubberband = function(fig, msg) {\n",
       "    var x0 = msg['x0'] / mpl.ratio;\n",
       "    var y0 = (fig.canvas.height - msg['y0']) / mpl.ratio;\n",
       "    var x1 = msg['x1'] / mpl.ratio;\n",
       "    var y1 = (fig.canvas.height - msg['y1']) / mpl.ratio;\n",
       "    x0 = Math.floor(x0) + 0.5;\n",
       "    y0 = Math.floor(y0) + 0.5;\n",
       "    x1 = Math.floor(x1) + 0.5;\n",
       "    y1 = Math.floor(y1) + 0.5;\n",
       "    var min_x = Math.min(x0, x1);\n",
       "    var min_y = Math.min(y0, y1);\n",
       "    var width = Math.abs(x1 - x0);\n",
       "    var height = Math.abs(y1 - y0);\n",
       "\n",
       "    fig.rubberband_context.clearRect(\n",
       "        0, 0, fig.canvas.width / mpl.ratio, fig.canvas.height / mpl.ratio);\n",
       "\n",
       "    fig.rubberband_context.strokeRect(min_x, min_y, width, height);\n",
       "}\n",
       "\n",
       "mpl.figure.prototype.handle_figure_label = function(fig, msg) {\n",
       "    // Updates the figure title.\n",
       "    fig.header.textContent = msg['label'];\n",
       "}\n",
       "\n",
       "mpl.figure.prototype.handle_cursor = function(fig, msg) {\n",
       "    var cursor = msg['cursor'];\n",
       "    switch(cursor)\n",
       "    {\n",
       "    case 0:\n",
       "        cursor = 'pointer';\n",
       "        break;\n",
       "    case 1:\n",
       "        cursor = 'default';\n",
       "        break;\n",
       "    case 2:\n",
       "        cursor = 'crosshair';\n",
       "        break;\n",
       "    case 3:\n",
       "        cursor = 'move';\n",
       "        break;\n",
       "    }\n",
       "    fig.rubberband_canvas.style.cursor = cursor;\n",
       "}\n",
       "\n",
       "mpl.figure.prototype.handle_message = function(fig, msg) {\n",
       "    fig.message.textContent = msg['message'];\n",
       "}\n",
       "\n",
       "mpl.figure.prototype.handle_draw = function(fig, msg) {\n",
       "    // Request the server to send over a new figure.\n",
       "    fig.send_draw_message();\n",
       "}\n",
       "\n",
       "mpl.figure.prototype.handle_image_mode = function(fig, msg) {\n",
       "    fig.image_mode = msg['mode'];\n",
       "}\n",
       "\n",
       "mpl.figure.prototype.updated_canvas_event = function() {\n",
       "    // Called whenever the canvas gets updated.\n",
       "    this.send_message(\"ack\", {});\n",
       "}\n",
       "\n",
       "// A function to construct a web socket function for onmessage handling.\n",
       "// Called in the figure constructor.\n",
       "mpl.figure.prototype._make_on_message_function = function(fig) {\n",
       "    return function socket_on_message(evt) {\n",
       "        if (evt.data instanceof Blob) {\n",
       "            /* FIXME: We get \"Resource interpreted as Image but\n",
       "             * transferred with MIME type text/plain:\" errors on\n",
       "             * Chrome.  But how to set the MIME type?  It doesn't seem\n",
       "             * to be part of the websocket stream */\n",
       "            evt.data.type = \"image/png\";\n",
       "\n",
       "            /* Free the memory for the previous frames */\n",
       "            if (fig.imageObj.src) {\n",
       "                (window.URL || window.webkitURL).revokeObjectURL(\n",
       "                    fig.imageObj.src);\n",
       "            }\n",
       "\n",
       "            fig.imageObj.src = (window.URL || window.webkitURL).createObjectURL(\n",
       "                evt.data);\n",
       "            fig.updated_canvas_event();\n",
       "            fig.waiting = false;\n",
       "            return;\n",
       "        }\n",
       "        else if (typeof evt.data === 'string' && evt.data.slice(0, 21) == \"data:image/png;base64\") {\n",
       "            fig.imageObj.src = evt.data;\n",
       "            fig.updated_canvas_event();\n",
       "            fig.waiting = false;\n",
       "            return;\n",
       "        }\n",
       "\n",
       "        var msg = JSON.parse(evt.data);\n",
       "        var msg_type = msg['type'];\n",
       "\n",
       "        // Call the  \"handle_{type}\" callback, which takes\n",
       "        // the figure and JSON message as its only arguments.\n",
       "        try {\n",
       "            var callback = fig[\"handle_\" + msg_type];\n",
       "        } catch (e) {\n",
       "            console.log(\"No handler for the '\" + msg_type + \"' message type: \", msg);\n",
       "            return;\n",
       "        }\n",
       "\n",
       "        if (callback) {\n",
       "            try {\n",
       "                // console.log(\"Handling '\" + msg_type + \"' message: \", msg);\n",
       "                callback(fig, msg);\n",
       "            } catch (e) {\n",
       "                console.log(\"Exception inside the 'handler_\" + msg_type + \"' callback:\", e, e.stack, msg);\n",
       "            }\n",
       "        }\n",
       "    };\n",
       "}\n",
       "\n",
       "// from http://stackoverflow.com/questions/1114465/getting-mouse-location-in-canvas\n",
       "mpl.findpos = function(e) {\n",
       "    //this section is from http://www.quirksmode.org/js/events_properties.html\n",
       "    var targ;\n",
       "    if (!e)\n",
       "        e = window.event;\n",
       "    if (e.target)\n",
       "        targ = e.target;\n",
       "    else if (e.srcElement)\n",
       "        targ = e.srcElement;\n",
       "    if (targ.nodeType == 3) // defeat Safari bug\n",
       "        targ = targ.parentNode;\n",
       "\n",
       "    // jQuery normalizes the pageX and pageY\n",
       "    // pageX,Y are the mouse positions relative to the document\n",
       "    // offset() returns the position of the element relative to the document\n",
       "    var x = e.pageX - $(targ).offset().left;\n",
       "    var y = e.pageY - $(targ).offset().top;\n",
       "\n",
       "    return {\"x\": x, \"y\": y};\n",
       "};\n",
       "\n",
       "/*\n",
       " * return a copy of an object with only non-object keys\n",
       " * we need this to avoid circular references\n",
       " * http://stackoverflow.com/a/24161582/3208463\n",
       " */\n",
       "function simpleKeys (original) {\n",
       "  return Object.keys(original).reduce(function (obj, key) {\n",
       "    if (typeof original[key] !== 'object')\n",
       "        obj[key] = original[key]\n",
       "    return obj;\n",
       "  }, {});\n",
       "}\n",
       "\n",
       "mpl.figure.prototype.mouse_event = function(event, name) {\n",
       "    var canvas_pos = mpl.findpos(event)\n",
       "\n",
       "    if (name === 'button_press')\n",
       "    {\n",
       "        this.canvas.focus();\n",
       "        this.canvas_div.focus();\n",
       "    }\n",
       "\n",
       "    var x = canvas_pos.x * mpl.ratio;\n",
       "    var y = canvas_pos.y * mpl.ratio;\n",
       "\n",
       "    this.send_message(name, {x: x, y: y, button: event.button,\n",
       "                             step: event.step,\n",
       "                             guiEvent: simpleKeys(event)});\n",
       "\n",
       "    /* This prevents the web browser from automatically changing to\n",
       "     * the text insertion cursor when the button is pressed.  We want\n",
       "     * to control all of the cursor setting manually through the\n",
       "     * 'cursor' event from matplotlib */\n",
       "    event.preventDefault();\n",
       "    return false;\n",
       "}\n",
       "\n",
       "mpl.figure.prototype._key_event_extra = function(event, name) {\n",
       "    // Handle any extra behaviour associated with a key event\n",
       "}\n",
       "\n",
       "mpl.figure.prototype.key_event = function(event, name) {\n",
       "\n",
       "    // Prevent repeat events\n",
       "    if (name == 'key_press')\n",
       "    {\n",
       "        if (event.which === this._key)\n",
       "            return;\n",
       "        else\n",
       "            this._key = event.which;\n",
       "    }\n",
       "    if (name == 'key_release')\n",
       "        this._key = null;\n",
       "\n",
       "    var value = '';\n",
       "    if (event.ctrlKey && event.which != 17)\n",
       "        value += \"ctrl+\";\n",
       "    if (event.altKey && event.which != 18)\n",
       "        value += \"alt+\";\n",
       "    if (event.shiftKey && event.which != 16)\n",
       "        value += \"shift+\";\n",
       "\n",
       "    value += 'k';\n",
       "    value += event.which.toString();\n",
       "\n",
       "    this._key_event_extra(event, name);\n",
       "\n",
       "    this.send_message(name, {key: value,\n",
       "                             guiEvent: simpleKeys(event)});\n",
       "    return false;\n",
       "}\n",
       "\n",
       "mpl.figure.prototype.toolbar_button_onclick = function(name) {\n",
       "    if (name == 'download') {\n",
       "        this.handle_save(this, null);\n",
       "    } else {\n",
       "        this.send_message(\"toolbar_button\", {name: name});\n",
       "    }\n",
       "};\n",
       "\n",
       "mpl.figure.prototype.toolbar_button_onmouseover = function(tooltip) {\n",
       "    this.message.textContent = tooltip;\n",
       "};\n",
       "mpl.toolbar_items = [[\"Home\", \"Reset original view\", \"fa fa-home icon-home\", \"home\"], [\"Back\", \"Back to previous view\", \"fa fa-arrow-left icon-arrow-left\", \"back\"], [\"Forward\", \"Forward to next view\", \"fa fa-arrow-right icon-arrow-right\", \"forward\"], [\"\", \"\", \"\", \"\"], [\"Pan\", \"Pan axes with left mouse, zoom with right\", \"fa fa-arrows icon-move\", \"pan\"], [\"Zoom\", \"Zoom to rectangle\", \"fa fa-square-o icon-check-empty\", \"zoom\"], [\"\", \"\", \"\", \"\"], [\"Download\", \"Download plot\", \"fa fa-floppy-o icon-save\", \"download\"]];\n",
       "\n",
       "mpl.extensions = [\"eps\", \"jpeg\", \"pdf\", \"png\", \"ps\", \"raw\", \"svg\", \"tif\"];\n",
       "\n",
       "mpl.default_extension = \"png\";var comm_websocket_adapter = function(comm) {\n",
       "    // Create a \"websocket\"-like object which calls the given IPython comm\n",
       "    // object with the appropriate methods. Currently this is a non binary\n",
       "    // socket, so there is still some room for performance tuning.\n",
       "    var ws = {};\n",
       "\n",
       "    ws.close = function() {\n",
       "        comm.close()\n",
       "    };\n",
       "    ws.send = function(m) {\n",
       "        //console.log('sending', m);\n",
       "        comm.send(m);\n",
       "    };\n",
       "    // Register the callback with on_msg.\n",
       "    comm.on_msg(function(msg) {\n",
       "        //console.log('receiving', msg['content']['data'], msg);\n",
       "        // Pass the mpl event to the overridden (by mpl) onmessage function.\n",
       "        ws.onmessage(msg['content']['data'])\n",
       "    });\n",
       "    return ws;\n",
       "}\n",
       "\n",
       "mpl.mpl_figure_comm = function(comm, msg) {\n",
       "    // This is the function which gets called when the mpl process\n",
       "    // starts-up an IPython Comm through the \"matplotlib\" channel.\n",
       "\n",
       "    var id = msg.content.data.id;\n",
       "    // Get hold of the div created by the display call when the Comm\n",
       "    // socket was opened in Python.\n",
       "    var element = $(\"#\" + id);\n",
       "    var ws_proxy = comm_websocket_adapter(comm)\n",
       "\n",
       "    function ondownload(figure, format) {\n",
       "        window.open(figure.imageObj.src);\n",
       "    }\n",
       "\n",
       "    var fig = new mpl.figure(id, ws_proxy,\n",
       "                           ondownload,\n",
       "                           element.get(0));\n",
       "\n",
       "    // Call onopen now - mpl needs it, as it is assuming we've passed it a real\n",
       "    // web socket which is closed, not our websocket->open comm proxy.\n",
       "    ws_proxy.onopen();\n",
       "\n",
       "    fig.parent_element = element.get(0);\n",
       "    fig.cell_info = mpl.find_output_cell(\"<div id='\" + id + \"'></div>\");\n",
       "    if (!fig.cell_info) {\n",
       "        console.error(\"Failed to find cell for figure\", id, fig);\n",
       "        return;\n",
       "    }\n",
       "\n",
       "    var output_index = fig.cell_info[2]\n",
       "    var cell = fig.cell_info[0];\n",
       "\n",
       "};\n",
       "\n",
       "mpl.figure.prototype.handle_close = function(fig, msg) {\n",
       "    var width = fig.canvas.width/mpl.ratio\n",
       "    fig.root.unbind('remove')\n",
       "\n",
       "    // Update the output cell to use the data from the current canvas.\n",
       "    fig.push_to_output();\n",
       "    var dataURL = fig.canvas.toDataURL();\n",
       "    // Re-enable the keyboard manager in IPython - without this line, in FF,\n",
       "    // the notebook keyboard shortcuts fail.\n",
       "    IPython.keyboard_manager.enable()\n",
       "    $(fig.parent_element).html('<img src=\"' + dataURL + '\" width=\"' + width + '\">');\n",
       "    fig.close_ws(fig, msg);\n",
       "}\n",
       "\n",
       "mpl.figure.prototype.close_ws = function(fig, msg){\n",
       "    fig.send_message('closing', msg);\n",
       "    // fig.ws.close()\n",
       "}\n",
       "\n",
       "mpl.figure.prototype.push_to_output = function(remove_interactive) {\n",
       "    // Turn the data on the canvas into data in the output cell.\n",
       "    var width = this.canvas.width/mpl.ratio\n",
       "    var dataURL = this.canvas.toDataURL();\n",
       "    this.cell_info[1]['text/html'] = '<img src=\"' + dataURL + '\" width=\"' + width + '\">';\n",
       "}\n",
       "\n",
       "mpl.figure.prototype.updated_canvas_event = function() {\n",
       "    // Tell IPython that the notebook contents must change.\n",
       "    IPython.notebook.set_dirty(true);\n",
       "    this.send_message(\"ack\", {});\n",
       "    var fig = this;\n",
       "    // Wait a second, then push the new image to the DOM so\n",
       "    // that it is saved nicely (might be nice to debounce this).\n",
       "    setTimeout(function () { fig.push_to_output() }, 1000);\n",
       "}\n",
       "\n",
       "mpl.figure.prototype._init_toolbar = function() {\n",
       "    var fig = this;\n",
       "\n",
       "    var nav_element = $('<div/>');\n",
       "    nav_element.attr('style', 'width: 100%');\n",
       "    this.root.append(nav_element);\n",
       "\n",
       "    // Define a callback function for later on.\n",
       "    function toolbar_event(event) {\n",
       "        return fig.toolbar_button_onclick(event['data']);\n",
       "    }\n",
       "    function toolbar_mouse_event(event) {\n",
       "        return fig.toolbar_button_onmouseover(event['data']);\n",
       "    }\n",
       "\n",
       "    for(var toolbar_ind in mpl.toolbar_items){\n",
       "        var name = mpl.toolbar_items[toolbar_ind][0];\n",
       "        var tooltip = mpl.toolbar_items[toolbar_ind][1];\n",
       "        var image = mpl.toolbar_items[toolbar_ind][2];\n",
       "        var method_name = mpl.toolbar_items[toolbar_ind][3];\n",
       "\n",
       "        if (!name) { continue; };\n",
       "\n",
       "        var button = $('<button class=\"btn btn-default\" href=\"#\" title=\"' + name + '\"><i class=\"fa ' + image + ' fa-lg\"></i></button>');\n",
       "        button.click(method_name, toolbar_event);\n",
       "        button.mouseover(tooltip, toolbar_mouse_event);\n",
       "        nav_element.append(button);\n",
       "    }\n",
       "\n",
       "    // Add the status bar.\n",
       "    var status_bar = $('<span class=\"mpl-message\" style=\"text-align:right; float: right;\"/>');\n",
       "    nav_element.append(status_bar);\n",
       "    this.message = status_bar[0];\n",
       "\n",
       "    // Add the close button to the window.\n",
       "    var buttongrp = $('<div class=\"btn-group inline pull-right\"></div>');\n",
       "    var button = $('<button class=\"btn btn-mini btn-primary\" href=\"#\" title=\"Stop Interaction\"><i class=\"fa fa-power-off icon-remove icon-large\"></i></button>');\n",
       "    button.click(function (evt) { fig.handle_close(fig, {}); } );\n",
       "    button.mouseover('Stop Interaction', toolbar_mouse_event);\n",
       "    buttongrp.append(button);\n",
       "    var titlebar = this.root.find($('.ui-dialog-titlebar'));\n",
       "    titlebar.prepend(buttongrp);\n",
       "}\n",
       "\n",
       "mpl.figure.prototype._root_extra_style = function(el){\n",
       "    var fig = this\n",
       "    el.on(\"remove\", function(){\n",
       "\tfig.close_ws(fig, {});\n",
       "    });\n",
       "}\n",
       "\n",
       "mpl.figure.prototype._canvas_extra_style = function(el){\n",
       "    // this is important to make the div 'focusable\n",
       "    el.attr('tabindex', 0)\n",
       "    // reach out to IPython and tell the keyboard manager to turn it's self\n",
       "    // off when our div gets focus\n",
       "\n",
       "    // location in version 3\n",
       "    if (IPython.notebook.keyboard_manager) {\n",
       "        IPython.notebook.keyboard_manager.register_events(el);\n",
       "    }\n",
       "    else {\n",
       "        // location in version 2\n",
       "        IPython.keyboard_manager.register_events(el);\n",
       "    }\n",
       "\n",
       "}\n",
       "\n",
       "mpl.figure.prototype._key_event_extra = function(event, name) {\n",
       "    var manager = IPython.notebook.keyboard_manager;\n",
       "    if (!manager)\n",
       "        manager = IPython.keyboard_manager;\n",
       "\n",
       "    // Check for shift+enter\n",
       "    if (event.shiftKey && event.which == 13) {\n",
       "        this.canvas_div.blur();\n",
       "        // select the cell after this one\n",
       "        var index = IPython.notebook.find_cell_index(this.cell_info[0]);\n",
       "        IPython.notebook.select(index + 1);\n",
       "    }\n",
       "}\n",
       "\n",
       "mpl.figure.prototype.handle_save = function(fig, msg) {\n",
       "    fig.ondownload(fig, null);\n",
       "}\n",
       "\n",
       "\n",
       "mpl.find_output_cell = function(html_output) {\n",
       "    // Return the cell and output element which can be found *uniquely* in the notebook.\n",
       "    // Note - this is a bit hacky, but it is done because the \"notebook_saving.Notebook\"\n",
       "    // IPython event is triggered only after the cells have been serialised, which for\n",
       "    // our purposes (turning an active figure into a static one), is too late.\n",
       "    var cells = IPython.notebook.get_cells();\n",
       "    var ncells = cells.length;\n",
       "    for (var i=0; i<ncells; i++) {\n",
       "        var cell = cells[i];\n",
       "        if (cell.cell_type === 'code'){\n",
       "            for (var j=0; j<cell.output_area.outputs.length; j++) {\n",
       "                var data = cell.output_area.outputs[j];\n",
       "                if (data.data) {\n",
       "                    // IPython >= 3 moved mimebundle to data attribute of output\n",
       "                    data = data.data;\n",
       "                }\n",
       "                if (data['text/html'] == html_output) {\n",
       "                    return [cell, data, j];\n",
       "                }\n",
       "            }\n",
       "        }\n",
       "    }\n",
       "}\n",
       "\n",
       "// Register the function which deals with the matplotlib target/channel.\n",
       "// The kernel may be null if the page has been refreshed.\n",
       "if (IPython.notebook.kernel != null) {\n",
       "    IPython.notebook.kernel.comm_manager.register_target('matplotlib', mpl.mpl_figure_comm);\n",
       "}\n"
      ],
      "text/plain": [
       "<IPython.core.display.Javascript object>"
      ]
     },
     "metadata": {},
     "output_type": "display_data"
    },
    {
     "data": {
      "text/html": [
       "<img src=\"data:image/png;base64,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\" width=\"1200\">"
      ],
      "text/plain": [
       "<IPython.core.display.HTML object>"
      ]
     },
     "metadata": {},
     "output_type": "display_data"
    },
    {
     "data": {
      "text/plain": [
       "array([<matplotlib.axes._subplots.AxesSubplot object at 0x0000020E443C70C8>,\n",
       "       <matplotlib.axes._subplots.AxesSubplot object at 0x0000020E443D4A08>,\n",
       "       <matplotlib.axes._subplots.AxesSubplot object at 0x0000020E4436AA88>],\n",
       "      dtype=object)"
      ]
     },
     "execution_count": 5,
     "metadata": {},
     "output_type": "execute_result"
    }
   ],
   "source": [
    "backward_180_left_right_2a.plot(x='time', subplots=True)"
   ]
  },
  {
   "cell_type": "code",
   "execution_count": 88,
   "metadata": {},
   "outputs": [],
   "source": [
    "backward_180_left_right_2a = preprocess(backward_180_left_right_2a, \"backward_180\", \"left_right\", 2)"
   ]
  },
  {
   "cell_type": "code",
   "execution_count": 89,
   "metadata": {},
   "outputs": [],
   "source": [
    "backward_180_left_right_2 = [backward_180_left_right_2a]"
   ]
  },
  {
   "cell_type": "code",
   "execution_count": 90,
   "metadata": {},
   "outputs": [],
   "source": [
    "for df in backward_180_left_right_2:\n",
    "    f = sampling_freq(df)\n",
    "    freq += f"
   ]
  },
  {
   "cell_type": "markdown",
   "metadata": {},
   "source": [
    "#### zonder tussenpauzes, zonder springen"
   ]
  },
  {
   "cell_type": "code",
   "execution_count": 26,
   "metadata": {},
   "outputs": [],
   "source": [
    "backward_180_nospringa = pd.read_csv(\n",
    "    r\"C:\\Users\\Elise\\Documents\\unif\\master\\semester2\\masterproef\\gitProject\\thesis\\data\\forward_180\\proefpersoon2\\backward_180_left_right_nospring1.csv\", \n",
    "    sep=';', header=0, skipinitialspace=True)"
   ]
  },
  {
   "cell_type": "code",
   "execution_count": 27,
   "metadata": {},
   "outputs": [],
   "source": [
    "backward_180_nospringa = preprocess(backward_180_nospringa, \"backward_180\", \"left_right\",2, 0.8, 2.2)"
   ]
  },
  {
   "cell_type": "code",
   "execution_count": 36,
   "metadata": {},
   "outputs": [],
   "source": [
    "backward_180_left_right_2 = [backward_180_nospringa]"
   ]
  },
  {
   "cell_type": "code",
   "execution_count": 37,
   "metadata": {},
   "outputs": [],
   "source": [
    "for df in backward_180_left_right_2:\n",
    "    f = sampling_freq(df)\n",
    "    freq += f"
   ]
  },
  {
   "cell_type": "markdown",
   "metadata": {},
   "source": [
    "#### backward_180_right_right"
   ]
  },
  {
   "cell_type": "markdown",
   "metadata": {},
   "source": [
    "#### tussenpauzes"
   ]
  },
  {
   "cell_type": "code",
   "execution_count": 297,
   "metadata": {},
   "outputs": [],
   "source": [
    "#4SEGMENTEN\n",
    "forward_180_right_backwards2 = pd.read_csv(r\"C:\\Users\\Elise\\Documents\\unif\\master\\semester2\\masterproef\\gitProject\\thesis\\data\\forward_180\\proefpersoon2\\forward_180_right_backwards2.csv\", sep=';', header=0, skipinitialspace=True)\n",
    "#4 SEGMENTEN\n",
    "forward_180_right_backwards3 = pd.read_csv(r\"C:\\Users\\Elise\\Documents\\unif\\master\\semester2\\masterproef\\gitProject\\thesis\\data\\forward_180\\proefpersoon2\\forward_180_right_backwards3.csv\", sep=';', header=0, skipinitialspace=True)"
   ]
  },
  {
   "cell_type": "code",
   "execution_count": 299,
   "metadata": {},
   "outputs": [],
   "source": [
    "f1 =  forward_180_right_backwards2[(forward_180_right_backwards2[\"time\"] <= 11719400000000)]\n",
    "f2 =  forward_180_right_backwards2[(forward_180_right_backwards2[\"time\"] >= 11719400000000) & (forward_180_right_backwards2[\"time\"] <= 11723600000000)]\n",
    "f3 =  forward_180_right_backwards2[(forward_180_right_backwards2[\"time\"] >= 11723600000000) & (forward_180_right_backwards2[\"time\"] <= 11727900000000)]\n",
    "f4 =  forward_180_right_backwards2[(forward_180_right_backwards2[\"time\"] >= 11727900000000) ]\n",
    "\n",
    "f5 =  forward_180_right_backwards3[(forward_180_right_backwards3[\"time\"] >= 11736100000000) & (forward_180_right_backwards3[\"time\"] <= 11740600000000)]\n",
    "f6 =  forward_180_right_backwards3[(forward_180_right_backwards3[\"time\"] >= 11740600000000) & (forward_180_right_backwards3[\"time\"] <= 11744900000000)]\n",
    "f7 =  forward_180_right_backwards3[(forward_180_right_backwards3[\"time\"] >= 11744900000000) & (forward_180_right_backwards3[\"time\"] <= 11749400000000)]\n",
    "f8 =  forward_180_right_backwards3[(forward_180_right_backwards3[\"time\"] >= 11749400000000) & (forward_180_right_backwards3[\"time\"] <= 11754200000000)]"
   ]
  },
  {
   "cell_type": "code",
   "execution_count": 300,
   "metadata": {},
   "outputs": [],
   "source": [
    "f1 = preprocess(f1, \"backward_180\", 0.2, 0.7)\n",
    "f2 = preprocess(f2, \"backward_180\", 0.7, 1)\n",
    "f3 = preprocess(f3, \"backward_180\", 0.7, 1)\n",
    "f4 = preprocess(f4, \"backward_180\", 0.8, 1.3)\n",
    "f5 = preprocess(f5, \"backward_180\", 1, 1.1)\n",
    "f6 = preprocess(f6, \"backward_180\", 0.9, 0.8)\n",
    "f7 = preprocess(f7, \"backward_180\", 0.8, 1.1)\n",
    "f8 = preprocess(f8, \"backward_180\", 1.3, 1)"
   ]
  },
  {
   "cell_type": "code",
   "execution_count": 302,
   "metadata": {},
   "outputs": [],
   "source": [
    "forward_180_right_backwards_2 = [f1, f2, f3, f4, f5, f6, f7, f8]"
   ]
  },
  {
   "cell_type": "markdown",
   "metadata": {},
   "source": [
    "#### zonder tussenpauzes"
   ]
  },
  {
   "cell_type": "code",
   "execution_count": 91,
   "metadata": {},
   "outputs": [],
   "source": [
    "backward_180_right_right_2a = pd.read_csv(\n",
    "    r\"C:\\Users\\Elise\\Documents\\unif\\master\\semester2\\masterproef\\gitProject\\thesis\\data\\forward_180\\proefpersoon2\\backward_180_right_right1.csv\", \n",
    "    sep=';', header=0, skipinitialspace=True)\n"
   ]
  },
  {
   "cell_type": "code",
   "execution_count": 92,
   "metadata": {},
   "outputs": [],
   "source": [
    "backward_180_right_right_2a = preprocess(backward_180_right_right_2a, \"backward_180\", \"right_right\", 2)"
   ]
  },
  {
   "cell_type": "code",
   "execution_count": 93,
   "metadata": {},
   "outputs": [],
   "source": [
    "backward_180_right_right_2 = [backward_180_right_right_2a]"
   ]
  },
  {
   "cell_type": "code",
   "execution_count": 94,
   "metadata": {},
   "outputs": [],
   "source": [
    "for df in backward_180_right_right_2:\n",
    "    f = sampling_freq(df)\n",
    "    freq += f"
   ]
  },
  {
   "cell_type": "markdown",
   "metadata": {},
   "source": [
    "#### zonder tussenpauzes, zonder springen"
   ]
  },
  {
   "cell_type": "code",
   "execution_count": 22,
   "metadata": {},
   "outputs": [],
   "source": [
    "backward_180_right_right_nospringa = pd.read_csv(\n",
    "    r\"C:\\Users\\Elise\\Documents\\unif\\master\\semester2\\masterproef\\gitProject\\thesis\\data\\forward_180\\proefpersoon2\\backward_180_right_right_nospring_handenbijelkqat.csv\", \n",
    "    sep=';', header=0, skipinitialspace=True)"
   ]
  },
  {
   "cell_type": "code",
   "execution_count": 23,
   "metadata": {},
   "outputs": [],
   "source": [
    "backward_180_right_right_nospringa = preprocess(backward_180_right_right_nospringa, \"backward_180\", \"right_right\",2, 5.5, 6.5)"
   ]
  },
  {
   "cell_type": "code",
   "execution_count": 36,
   "metadata": {},
   "outputs": [],
   "source": [
    "backward_180_right_right_2 = [backward_180_right_right_nospringa]"
   ]
  },
  {
   "cell_type": "code",
   "execution_count": 37,
   "metadata": {},
   "outputs": [],
   "source": [
    "for df in backward_180_right_right_2:\n",
    "    f = sampling_freq(df)\n",
    "    freq += f"
   ]
  },
  {
   "cell_type": "markdown",
   "metadata": {},
   "source": [
    "#### backward_180_left_left"
   ]
  },
  {
   "cell_type": "markdown",
   "metadata": {},
   "source": [
    "#### tussenpauzes"
   ]
  },
  {
   "cell_type": "code",
   "execution_count": 304,
   "metadata": {},
   "outputs": [],
   "source": [
    "#8 SEGMENTEN\n",
    "forward_180_left_otherside1 = pd.read_csv(r\"C:\\Users\\Elise\\Documents\\unif\\master\\semester2\\masterproef\\gitProject\\thesis\\data\\forward_180\\proefpersoon2\\forward_180_left_back_otherside1.csv\", sep=';', header=0, skipinitialspace=True)"
   ]
  },
  {
   "cell_type": "code",
   "execution_count": 306,
   "metadata": {},
   "outputs": [],
   "source": [
    "f1 =  forward_180_left_otherside1[(forward_180_left_otherside1[\"time\"] <= 20761300000000)]\n",
    "f2 =  forward_180_left_otherside1[(forward_180_left_otherside1[\"time\"] >= 20761300000000) & (forward_180_left_otherside1[\"time\"] <= 20766800000000)]\n",
    "f3 =  forward_180_left_otherside1[(forward_180_left_otherside1[\"time\"] >= 20766800000000) & (forward_180_left_otherside1[\"time\"] <= 20772100000000)]\n",
    "f4 =  forward_180_left_otherside1[(forward_180_left_otherside1[\"time\"] >= 20772100000000) & (forward_180_left_otherside1[\"time\"] <= 20777400000000)]\n",
    "f5 =  forward_180_left_otherside1[(forward_180_left_otherside1[\"time\"] >= 20777400000000) & (forward_180_left_otherside1[\"time\"] <= 20782700000000)]\n",
    "f6 =  forward_180_left_otherside1[(forward_180_left_otherside1[\"time\"] >= 20782700000000) & (forward_180_left_otherside1[\"time\"] <= 20787800000000)]\n",
    "f7 =  forward_180_left_otherside1[(forward_180_left_otherside1[\"time\"] >= 20787800000000) & (forward_180_left_otherside1[\"time\"] <= 20793100000000)]\n",
    "f8 =  forward_180_left_otherside1[(forward_180_left_otherside1[\"time\"] >= 20793100000000) & (forward_180_left_otherside1[\"time\"] <= 20798900000000)]"
   ]
  },
  {
   "cell_type": "code",
   "execution_count": 307,
   "metadata": {},
   "outputs": [],
   "source": [
    "f1 = preprocess(f1, \"backward_180\", 1.7, 1.1)\n",
    "f2 = preprocess(f2, \"backward_180\", 1.6, 1.7)\n",
    "f3 = preprocess(f3, \"backward_180\", 1.7, 1.1)\n",
    "f4 = preprocess(f4, \"backward_180\", 1.7, 1.1)\n",
    "f5 = preprocess(f5, \"backward_180\", 1.8, 1.2)\n",
    "f6 = preprocess(f6, \"backward_180\", 1.5, 1.3)\n",
    "f7 = preprocess(f7, \"backward_180\", 1.5, 1.3)\n",
    "f8 = preprocess(f8, \"backward_180\", 1.8, 1.5)"
   ]
  },
  {
   "cell_type": "code",
   "execution_count": 309,
   "metadata": {},
   "outputs": [],
   "source": [
    "forward_180_left_other_side_2 = [f1, f2, f3, f4, f5, f6, f7, f8]"
   ]
  },
  {
   "cell_type": "markdown",
   "metadata": {},
   "source": [
    "#### zonder tussenpauzes"
   ]
  },
  {
   "cell_type": "code",
   "execution_count": 95,
   "metadata": {},
   "outputs": [],
   "source": [
    "backward_180_left_left_2a = pd.read_csv(\n",
    "    r\"C:\\Users\\Elise\\Documents\\unif\\master\\semester2\\masterproef\\gitProject\\thesis\\data\\forward_180\\proefpersoon2\\backward_180_left_left.csv\", \n",
    "    sep=';', header=0, skipinitialspace=True)\n"
   ]
  },
  {
   "cell_type": "code",
   "execution_count": 96,
   "metadata": {},
   "outputs": [],
   "source": [
    "backward_180_left_left_2a = preprocess(backward_180_left_left_2a, \"backward_180\", \"left_left\", 2)"
   ]
  },
  {
   "cell_type": "code",
   "execution_count": 97,
   "metadata": {},
   "outputs": [],
   "source": [
    "backward_180_left_left_2 = [backward_180_left_left_2a]"
   ]
  },
  {
   "cell_type": "code",
   "execution_count": 98,
   "metadata": {},
   "outputs": [],
   "source": [
    "for df in backward_180_left_left_2:\n",
    "    f = sampling_freq(df)\n",
    "    freq += f"
   ]
  },
  {
   "cell_type": "markdown",
   "metadata": {},
   "source": [
    "#### zonder tussenpauzes, zonder springen"
   ]
  },
  {
   "cell_type": "code",
   "execution_count": 46,
   "metadata": {},
   "outputs": [],
   "source": [
    "backward_180_left_left_nospringa = pd.read_csv(\n",
    "    r\"C:\\Users\\Elise\\Documents\\unif\\master\\semester2\\masterproef\\gitProject\\thesis\\data\\forward_180\\proefpersoon2\\backward_180_left_left_nospring.csv\", \n",
    "    sep=';', header=0, skipinitialspace=True)"
   ]
  },
  {
   "cell_type": "code",
   "execution_count": 47,
   "metadata": {},
   "outputs": [],
   "source": [
    "backward_180_left_left_nospringa = preprocess(backward_180_left_left_nospringa, \"backward_180\", \"left_left\",2, 5.3, 5.5)"
   ]
  },
  {
   "cell_type": "code",
   "execution_count": 36,
   "metadata": {},
   "outputs": [],
   "source": [
    "backward_180_left_left_2 = [backward_180_left_left_nospringa]"
   ]
  },
  {
   "cell_type": "code",
   "execution_count": 37,
   "metadata": {},
   "outputs": [],
   "source": [
    "for df in backward_180_left_left_2:\n",
    "    f = sampling_freq(df)\n",
    "    freq += f"
   ]
  },
  {
   "cell_type": "markdown",
   "metadata": {},
   "source": [
    "#### backward_180_right_left_2"
   ]
  },
  {
   "cell_type": "markdown",
   "metadata": {},
   "source": [
    "#### tussenpauzes"
   ]
  },
  {
   "cell_type": "code",
   "execution_count": 311,
   "metadata": {},
   "outputs": [],
   "source": [
    "forward_180_right_otherside1 = pd.read_csv(r\"C:\\Users\\Elise\\Documents\\unif\\master\\semester2\\masterproef\\gitProject\\thesis\\data\\forward_180\\proefpersoon2\\forward_180_right_backwards_otherside.csv\", sep=';', header=0, skipinitialspace=True)"
   ]
  },
  {
   "cell_type": "code",
   "execution_count": 313,
   "metadata": {},
   "outputs": [],
   "source": [
    "f1 =  forward_180_right_otherside1[(forward_180_right_otherside1[\"time\"] <= 21087100000000)]\n",
    "f2 =  forward_180_right_otherside1[(forward_180_right_otherside1[\"time\"] >= 21087100000000) & (forward_180_right_otherside1[\"time\"] <= 21091500000000)]\n",
    "f3 =  forward_180_right_otherside1[(forward_180_right_otherside1[\"time\"] >= 21091500000000) & (forward_180_right_otherside1[\"time\"] <= 21095700000000)]\n",
    "f4 =  forward_180_right_otherside1[(forward_180_right_otherside1[\"time\"] >= 21095700000000) & (forward_180_right_otherside1[\"time\"] <= 21100000000000)]\n",
    "f5 =  forward_180_right_otherside1[(forward_180_right_otherside1[\"time\"] >= 21100000000000) & (forward_180_right_otherside1[\"time\"] <= 21104500000000)]\n",
    "f6 =  forward_180_right_otherside1[(forward_180_right_otherside1[\"time\"] >= 21104500000000) & (forward_180_right_otherside1[\"time\"] <= 21109700000000)]\n",
    "f7 =  forward_180_right_otherside1[(forward_180_right_otherside1[\"time\"] >= 21109700000000) & (forward_180_right_otherside1[\"time\"] <= 21115000000000)]\n",
    "f8 =  forward_180_right_otherside1[(forward_180_right_otherside1[\"time\"] >= 21115000000000) & (forward_180_right_otherside1[\"time\"] <= 21119800000000)]"
   ]
  },
  {
   "cell_type": "code",
   "execution_count": 314,
   "metadata": {},
   "outputs": [],
   "source": [
    "f1 = preprocess(f1, \"backward_180\", 1.3, 0.5)\n",
    "f2 = preprocess(f2, \"backward_180\", 1, 0.7)\n",
    "f3 = preprocess(f3, \"backward_180\", 0.8, 0.7)\n",
    "f4 = preprocess(f4, \"backward_180\", 0.9, 0.7)\n",
    "f5 = preprocess(f5, \"backward_180\", 1, 0.7)\n",
    "f6 = preprocess(f6, \"backward_180\", 0.9, 1.6)\n",
    "f7 = preprocess(f7, \"backward_180\", 1.7, 0.8)\n",
    "f8 = preprocess(f8, \"backward_180\", 1, 0.8)"
   ]
  },
  {
   "cell_type": "code",
   "execution_count": 316,
   "metadata": {},
   "outputs": [],
   "source": [
    "forward_180_right_other_side_2 = [f1, f2, f3, f4, f5, f6, f7, f8]"
   ]
  },
  {
   "cell_type": "markdown",
   "metadata": {},
   "source": [
    "#### zonder tussenpauzes"
   ]
  },
  {
   "cell_type": "code",
   "execution_count": 99,
   "metadata": {},
   "outputs": [],
   "source": [
    "backward_180_right_left_2a = pd.read_csv(\n",
    "    r\"C:\\Users\\Elise\\Documents\\unif\\master\\semester2\\masterproef\\gitProject\\thesis\\data\\forward_180\\proefpersoon2\\backward_180_right_left1.csv\", \n",
    "    sep=';', header=0, skipinitialspace=True)\n"
   ]
  },
  {
   "cell_type": "code",
   "execution_count": 100,
   "metadata": {},
   "outputs": [],
   "source": [
    "backward_180_right_left_2a = preprocess(backward_180_right_left_2a, \"backward_180\", \"right_left\", 2)"
   ]
  },
  {
   "cell_type": "code",
   "execution_count": 101,
   "metadata": {},
   "outputs": [],
   "source": [
    "backward_180_right_left_2 = [backward_180_right_left_2a]"
   ]
  },
  {
   "cell_type": "code",
   "execution_count": 102,
   "metadata": {},
   "outputs": [],
   "source": [
    "for df in backward_180_right_left_2:\n",
    "    f = sampling_freq(df)\n",
    "    freq += f"
   ]
  },
  {
   "cell_type": "markdown",
   "metadata": {},
   "source": [
    "#### zonder tussenpauzes, zonder springen"
   ]
  },
  {
   "cell_type": "code",
   "execution_count": 64,
   "metadata": {},
   "outputs": [],
   "source": [
    "backward_180_right_left_nospringa = pd.read_csv(\n",
    "    r\"C:\\Users\\Elise\\Documents\\unif\\master\\semester2\\masterproef\\gitProject\\thesis\\data\\forward_180\\proefpersoon2\\backward_180_right_left_nospring.csv\", \n",
    "    sep=';', header=0, skipinitialspace=True)"
   ]
  },
  {
   "cell_type": "code",
   "execution_count": 65,
   "metadata": {},
   "outputs": [],
   "source": [
    "backward_180_right_left_nospringa = preprocess(backward_180_right_left_nospringa, \"backward_180\", \"right_left\",2, 4.5, 5)"
   ]
  },
  {
   "cell_type": "code",
   "execution_count": 36,
   "metadata": {},
   "outputs": [],
   "source": [
    "backward_180_right_left_2 = [backward_180_right_left_nospringa]"
   ]
  },
  {
   "cell_type": "code",
   "execution_count": 37,
   "metadata": {},
   "outputs": [],
   "source": [
    "for df in backward_180_right_left_2:\n",
    "    f = sampling_freq(df)\n",
    "    freq += f"
   ]
  },
  {
   "cell_type": "markdown",
   "metadata": {},
   "source": [
    "### SEGMENTATION"
   ]
  },
  {
   "cell_type": "code",
   "execution_count": 103,
   "metadata": {},
   "outputs": [],
   "source": [
    "if( not raw):\n",
    "    #segmentation + feature extraction\n",
    "    for i in range(0, len(backward_180_left_right_2)):\n",
    "        backward_180_left_right_2[i] =  feature_extraction_segmentation(backward_180_left_right_2[i],1, True)\n",
    "\n",
    "    for i in range(0, len(backward_180_right_right_2)):\n",
    "        backward_180_right_right_2[i] =  feature_extraction_segmentation(backward_180_right_right_2[i],1, True)\n",
    "\n",
    "    for i in range(0, len(backward_180_left_left_2)):\n",
    "        backward_180_left_left_2[i] =  feature_extraction_segmentation(backward_180_left_left_2[i],1, True)\n",
    "    \n",
    "    for i in range(0, len(backward_180_right_left_2)):\n",
    "        backward_180_right_left_2[i] =  feature_extraction_segmentation(backward_180_right_left_2[i],1, True)"
   ]
  },
  {
   "cell_type": "code",
   "execution_count": 104,
   "metadata": {},
   "outputs": [
    {
     "data": {
      "text/plain": [
       "(2840, 7)"
      ]
     },
     "execution_count": 104,
     "metadata": {},
     "output_type": "execute_result"
    }
   ],
   "source": [
    "backward_180_left_right_2 = pd.concat(backward_180_left_right_2, ignore_index=True)\n",
    "backward_180_left_right_2.shape"
   ]
  },
  {
   "cell_type": "code",
   "execution_count": 105,
   "metadata": {},
   "outputs": [
    {
     "data": {
      "text/plain": [
       "(3823, 7)"
      ]
     },
     "execution_count": 105,
     "metadata": {},
     "output_type": "execute_result"
    }
   ],
   "source": [
    "backward_180_right_right_2 = pd.concat(backward_180_right_right_2, ignore_index=True)\n",
    "backward_180_right_right_2.shape"
   ]
  },
  {
   "cell_type": "code",
   "execution_count": 106,
   "metadata": {},
   "outputs": [
    {
     "data": {
      "text/plain": [
       "(3036, 7)"
      ]
     },
     "execution_count": 106,
     "metadata": {},
     "output_type": "execute_result"
    }
   ],
   "source": [
    "backward_180_left_left_2 = pd.concat(backward_180_left_left_2, ignore_index=True)\n",
    "backward_180_left_left_2.shape"
   ]
  },
  {
   "cell_type": "code",
   "execution_count": 107,
   "metadata": {},
   "outputs": [
    {
     "data": {
      "text/plain": [
       "(4437, 7)"
      ]
     },
     "execution_count": 107,
     "metadata": {},
     "output_type": "execute_result"
    }
   ],
   "source": [
    "backward_180_right_left_2 = pd.concat(backward_180_right_left_2, ignore_index=True)\n",
    "backward_180_right_left_2.shape"
   ]
  },
  {
   "cell_type": "markdown",
   "metadata": {},
   "source": [
    "### SHUFFLE - BALANCING"
   ]
  },
  {
   "cell_type": "code",
   "execution_count": 108,
   "metadata": {},
   "outputs": [],
   "source": [
    "shape = np.min([\n",
    "    backward_180_left_right_2.shape[0], \n",
    "    backward_180_right_right_2.shape[0], \n",
    "    backward_180_left_left_2.shape[0], \n",
    "    backward_180_right_left_2.shape[0]])"
   ]
  },
  {
   "cell_type": "markdown",
   "metadata": {},
   "source": [
    "#### shuffle"
   ]
  },
  {
   "cell_type": "code",
   "execution_count": 53,
   "metadata": {},
   "outputs": [],
   "source": [
    "backward_180_left_right_2 = shuffle(backward_180_left_right_2).head(shape).copy()\n",
    "backward_180_right_right_2 = shuffle(backward_180_right_right_2).head(shape).copy()\n",
    "backward_180_left_left_2 = shuffle(backward_180_left_left_2).head(shape).copy()\n",
    "backward_180_right_left_2 = shuffle(backward_180_right_left_2).head(shape).copy()"
   ]
  },
  {
   "cell_type": "markdown",
   "metadata": {},
   "source": [
    "#### no shuffle"
   ]
  },
  {
   "cell_type": "code",
   "execution_count": 109,
   "metadata": {},
   "outputs": [],
   "source": [
    "backward_180_left_right_2 = backward_180_left_right_2.head(shape).copy()\n",
    "backward_180_right_right_2 = backward_180_right_right_2.head(shape).copy()\n",
    "backward_180_left_left_2 = backward_180_left_left_2.head(shape).copy()\n",
    "backward_180_right_left_2 = backward_180_right_left_2.head(shape).copy()"
   ]
  },
  {
   "cell_type": "code",
   "execution_count": 110,
   "metadata": {},
   "outputs": [],
   "source": [
    "backward_180_2 = pd.concat([\n",
    "    backward_180_left_right_2, \n",
    "    backward_180_right_right_2, \n",
    "    backward_180_left_left_2, \n",
    "    backward_180_right_left_2])"
   ]
  },
  {
   "cell_type": "markdown",
   "metadata": {},
   "source": [
    "# <font color='green'> Frequency"
   ]
  },
  {
   "cell_type": "code",
   "execution_count": 55,
   "metadata": {},
   "outputs": [
    {
     "data": {
      "text/plain": [
       "8.09065359749383"
      ]
     },
     "execution_count": 55,
     "metadata": {},
     "output_type": "execute_result"
    }
   ],
   "source": [
    "#mean\n",
    "freq = freq/64\n",
    "freq"
   ]
  },
  {
   "cell_type": "markdown",
   "metadata": {},
   "source": [
    "# <font color='green'> Merging datasets"
   ]
  },
  {
   "cell_type": "code",
   "execution_count": 111,
   "metadata": {},
   "outputs": [],
   "source": [
    "shape = np.min([\n",
    "    backward_180_1.shape[0],\n",
    "    backward_180_2.shape[0]\n",
    "])"
   ]
  },
  {
   "cell_type": "markdown",
   "metadata": {},
   "source": [
    "#### shuffle"
   ]
  },
  {
   "cell_type": "code",
   "execution_count": 56,
   "metadata": {},
   "outputs": [
    {
     "data": {
      "text/plain": [
       "(832, 22)"
      ]
     },
     "execution_count": 56,
     "metadata": {},
     "output_type": "execute_result"
    }
   ],
   "source": [
    "dataset = pd.concat([\n",
    "    shuffle(backward_180_1).head(shape),\n",
    "    shuffle(backward_180_2).head(shape)\n",
    "])\n",
    "dataset.shape"
   ]
  },
  {
   "cell_type": "markdown",
   "metadata": {},
   "source": [
    "#### no shuffle"
   ]
  },
  {
   "cell_type": "code",
   "execution_count": 112,
   "metadata": {},
   "outputs": [
    {
     "data": {
      "text/plain": [
       "(21648, 7)"
      ]
     },
     "execution_count": 112,
     "metadata": {},
     "output_type": "execute_result"
    }
   ],
   "source": [
    "dataset = pd.concat([\n",
    "    backward_180_1.head(shape),\n",
    "    backward_180_2.head(shape)\n",
    "])\n",
    "dataset.shape"
   ]
  },
  {
   "cell_type": "code",
   "execution_count": 113,
   "metadata": {},
   "outputs": [],
   "source": [
    "dataset.to_csv(\"backward_180_zonder_pauze_raw.csv\", sep=';')"
   ]
  },
  {
   "cell_type": "code",
   "execution_count": null,
   "metadata": {},
   "outputs": [],
   "source": []
  }
 ],
 "metadata": {
  "kernelspec": {
   "display_name": "Python 3",
   "language": "python",
   "name": "python3"
  },
  "language_info": {
   "codemirror_mode": {
    "name": "ipython",
    "version": 3
   },
   "file_extension": ".py",
   "mimetype": "text/x-python",
   "name": "python",
   "nbconvert_exporter": "python",
   "pygments_lexer": "ipython3",
   "version": "3.7.4"
  }
 },
 "nbformat": 4,
 "nbformat_minor": 2
}
