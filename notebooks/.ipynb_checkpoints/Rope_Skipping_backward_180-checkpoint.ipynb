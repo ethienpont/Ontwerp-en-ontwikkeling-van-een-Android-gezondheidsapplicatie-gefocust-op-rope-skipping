{
 "cells": [
  {
   "cell_type": "code",
   "execution_count": 1,
   "metadata": {},
   "outputs": [],
   "source": [
    "%matplotlib notebook\n",
    "import pandas as pd\n",
    "import numpy as np\n",
    "import math\n",
    "import statistics\n",
    "from datetime import datetime\n",
    "from sklearn.model_selection import train_test_split\n",
    "from sklearn import preprocessing\n",
    "from sklearn.ensemble import RandomForestClassifier, ExtraTreesClassifier, AdaBoostClassifier\n",
    "from sklearn.model_selection import GridSearchCV\n",
    "from sklearn.linear_model import SGDClassifier\n",
    "from sklearn.naive_bayes import GaussianNB, MultinomialNB\n",
    "from sklearn.neighbors import KNeighborsClassifier\n",
    "from sklearn.svm import SVC, LinearSVC\n",
    "from sklearn import svm\n",
    "from sklearn.neural_network import MLPClassifier\n",
    "from sklearn.metrics import confusion_matrix, classification_report\n",
    "from sklearn.preprocessing import StandardScaler, LabelEncoder, normalize\n",
    "import matplotlib.pyplot as plt\n",
    "import seaborn as sn\n",
    "import matplotlib\n",
    "from mlxtend.plotting import plot_confusion_matrix\n",
    "import warnings\n",
    "from scipy.signal import savgol_filter, find_peaks, correlate\n",
    "from sklearn.decomposition import PCA\n",
    "import scipy.fftpack as FFT\n",
    "from sklearn.utils import shuffle\n",
    "import joblib\n",
    "warnings.filterwarnings('ignore')\n",
    "matplotlib.rcParams['figure.figsize'] = [12,5]"
   ]
  },
  {
   "cell_type": "markdown",
   "metadata": {},
   "source": [
    "## help functions"
   ]
  },
  {
   "cell_type": "code",
   "execution_count": 2,
   "metadata": {},
   "outputs": [],
   "source": [
    "def sampling_freq(df):\n",
    "    start = df['time'].iloc[0]\n",
    "    sum_samples = 0\n",
    "    index = 0\n",
    "    while  (start + pd.to_timedelta(1, unit='s')) < df['time'].iloc[-1]:\n",
    "        end =  start + pd.to_timedelta(1, unit='s')\n",
    "        sum_samples += df[(df['time'] >= start) & (df['time'] < end)].shape[0]\n",
    "        start += pd.to_timedelta(1, unit='s')\n",
    "        index += 1\n",
    "    return sum_samples/index\n",
    "\n",
    "def convert_to_float(x):\n",
    "    try:\n",
    "        return np.float(x)\n",
    "    except:\n",
    "        return np.nan\n",
    "\n",
    "def convert_to_datetime(x):\n",
    "    dt = datetime.fromtimestamp(x // 1000000000)\n",
    "    s = dt.strftime('%Y-%m-%d %H:%M:%S')\n",
    "    s += '.' + str(int(x % 1000000000)).zfill(9)\n",
    "    return s\n",
    "\n",
    "def heatmap(cm, labels):\n",
    "    df_cm = pd.DataFrame(cm, index=labels, columns=labels)\n",
    "    plt.figure(figsize = (10,7))\n",
    "    sn.heatmap(df_cm, annot=True)\n",
    "\n",
    "    plt.show()\n",
    "    \n",
    "def preprocess(data, activity, type_, p, drop_interval_begin = 3, drop_interval_end = 3):\n",
    "    #convert nanoseconds to date \n",
    "    data['time'] = data['time'].apply(convert_to_datetime) \n",
    "    data['time'] = pd.to_datetime(data['time'])\n",
    "\n",
    "#convert to same data type\n",
    "    for i in range(1, 4): \n",
    "        data[column_names_org[i]] = data[column_names_org[i]].apply(convert_to_float)\n",
    "    \n",
    "#drop rows with NaN values \n",
    "    data.dropna(axis=0, how='any', inplace=True) #TODO: invullen met mean, mod of median / interpolatie\n",
    "\n",
    "#drop duplicates \n",
    "    data.drop_duplicates(subset=None, keep='first', inplace = True)\n",
    "    \n",
    "    #drop first and last 3 sec\n",
    "    indexFirst = data[ (data['time'].iloc[0]+ pd.to_timedelta(drop_interval_begin, unit='s')) > data['time'] ].index\n",
    "    data.drop(indexFirst , inplace=True)\n",
    "    indexLast = data[ (data['time'].iloc[-1]- pd.to_timedelta(drop_interval_end, unit='s')) < data['time'] ].index\n",
    "    data.drop(indexLast , inplace=True)\n",
    "    \n",
    "    #add activity label\n",
    "    data['activity'] = activity\n",
    "    data['type'] = type_\n",
    "    data['proefpersoon'] = p\n",
    "    \n",
    "    return data\n",
    "\n",
    "#feature extraction\n",
    "def get_mean_window(df):\n",
    "    return df.mean()\n",
    "\n",
    "def get_min_window(df):\n",
    "    return df.min()\n",
    "\n",
    "def get_max_window(df):\n",
    "    return df.max()\n",
    "\n",
    "def get_std_window(df):\n",
    "    return df.std()\n",
    "\n",
    "def get_med_window(df):\n",
    "    return df.median()\n",
    "\n",
    "#TODO: scipy integrate\n",
    "#TODO: voor elke as apart??\n",
    "#measure of activity level (m/s²)\n",
    "def get_signal_magnitude_area(df):\n",
    "        sum = 0\n",
    "        for i in range(0, len(df)):\n",
    "            sum += (abs(df['x'].iloc[i]) + abs(df['y'].iloc[i]) + abs(df['z'].iloc[i]))\n",
    "        return sum /len(df)\n",
    "    #result = integrate.quad(lambda t: df['x'].apply(lambda n : abs(n)) + df['y'].apply(lambda n : abs(n)) + df['z'].apply(lambda n : abs(n)), 0, len(df))\n",
    "\n",
    "#TODO: voor elke as apart??\n",
    "#degree of movement intensity (m/s²)\n",
    "def get_signal_magnitude_vector(df):\n",
    "    sum = 0\n",
    "    for i in range(0, len(df)):\n",
    "        sum += math.sqrt(df['x'].iloc[i] * df['x'].iloc[i] + df['y'].iloc[i] * df['y'].iloc[i] + df['z'].iloc[i] * df['z'].iloc[i])\n",
    "    return sum\n",
    "\n",
    "#average angle (radian) between accelerometer vector and x as (parallel with arm)\n",
    "def get_tilt_angle(df):\n",
    "    df_cos = pd.DataFrame(columns=[\"tilt_ang\"])\n",
    "    df_dot = df['x']\n",
    "    for i in range(0, len(df)):\n",
    "        s = pd.Series({\"tilt_ang\" : (df_dot.iloc[i])/(math.sqrt(df['x'].iloc[i]*df['x'].iloc[i] + df['y'].iloc[i]*df['y'].iloc[i] + df['z'].iloc[i]*df['z'].iloc[i]))})\n",
    "        df_cos=df_cos.append(s, ignore_index=True)\n",
    "    df_angle = np.arccos(df_cos)\n",
    "    return df_angle.mean()['tilt_ang']\n",
    "\n",
    "def get_power_spectral_density(df):\n",
    "    df_psd = np.abs(df)**2\n",
    "    return df_psd.sum()\n",
    "\n",
    "#TODO: datatype is object en niet compex nr\n",
    "def get_entropy(df):\n",
    "    entropy = []\n",
    "    pdf = df / df.sum()\n",
    "    for i in range (1, len(pdf.columns)):\n",
    "        entropy.append(np.complex(-np.nansum(pdf.iloc[:,i] * np.log2(pdf.iloc[:,i]))))\n",
    "    return entropy\n",
    "\n",
    "#generate windows with 50% overlap\n",
    "def windows(df, time, overlap):\n",
    "    start = df.iloc[0]\n",
    "    while  (start + pd.to_timedelta(time, unit='s')) < df.iloc[-1]:\n",
    "        yield start, (start + pd.to_timedelta(time, unit='s'))\n",
    "        if overlap:\n",
    "            start += pd.to_timedelta(time/2, unit='s')\n",
    "        else:\n",
    "            start += pd.to_timedelta(time, unit='s')\n",
    "    #last samples \n",
    "    yield (df.iloc[-1] - pd.to_timedelta(time, unit='s')), df.iloc[-1]\n",
    "        \n",
    "def feature_extraction_segmentation(data, window, overlap):\n",
    "    column_names = [\"x_mean\", \"y_mean\", \"z_mean\", \"x_min\", \"y_min\", \"z_min\", \"x_max\", \"y_max\", \"z_max\",\n",
    "                \"x_std\", \"y_std\", \"z_std\", \"x_med\", \"y_med\", \"z_med\", \"activity\"]\n",
    "    df = pd.DataFrame(columns = column_names)\n",
    "\n",
    "    for (start, end) in windows(data['time'], window, overlap):\n",
    "        vw1 = data['time'] >= start\n",
    "        vw2 = data['time'] < end\n",
    "        mean = get_mean_window(data[vw1 & vw2])\n",
    "        min = get_min_window(data[vw1 & vw2])\n",
    "        max = get_max_window(data[vw1 & vw2])\n",
    "        std = get_std_window(data[vw1 & vw2])\n",
    "        med = get_med_window(data[vw1 & vw2])\n",
    "        sma = get_signal_magnitude_area(data[vw1 & vw2])\n",
    "        smv = get_signal_magnitude_vector(data[vw1 & vw2])\n",
    "        tilt = get_tilt_angle(data[vw1 & vw2])\n",
    "        #fourrier transform\n",
    "        t_x = data[vw1 & vw2][['time','x']].set_index('time')\n",
    "        t_y = data[vw1 & vw2][['time','y']].set_index('time')\n",
    "        t_z = data[vw1 & vw2][['time', 'z']].set_index('time')\n",
    "\n",
    "        df_f = pd.DataFrame(columns=['f', 'x_f', 'y_f', 'z_f'])\n",
    "\n",
    "    #TODO: determine sampling rate (datapoints per second)\n",
    "        sampling_rate = 52\n",
    "\n",
    "        df_f['x_f'] = FFT.fft(t_x).ravel()\n",
    "        df_f['y_f'] = FFT.fft(t_y).ravel()\n",
    "        df_f['z_f'] = FFT.fft(t_z).ravel()\n",
    "        df_f['f'] = FFT.fftfreq(len(df_f['x_f'])) * sampling_rate\n",
    "\n",
    "        psd = get_power_spectral_density(df_f)\n",
    "        #entropy = get_entropy(df_f)\n",
    "\n",
    "        df = df.append(pd.Series({'x_mean': mean['x'], 'y_mean': mean['y'], 'z_mean': mean['z'], \"x_min\" : min['x'],\n",
    "                              \"y_min\" : min['y'], \"z_min\" : min['z'], \"x_max\" : max['x'], \"y_max\" : max['y'], \"z_max\" : max['z'],\n",
    "                              \"x_std\" : std['x'], \"y_std\" : std['y'], \"z_std\" : std['z'], \"x_med\" : med['x'], \"y_med\" : med['y'], \"z_med\" : med['z'],\n",
    "                              \"sma\" : sma, \"smv\" : smv, \"tilt\" : tilt, \"x_psd\" : psd['x_f'], \"y_psd\" : psd['y_f'], \"z_psd\" : psd['z_f']\n",
    "                              , \"activity\" : data['activity'].iloc[0]}), ignore_index=True) # \"x_entropy\" : entropy[0], \"y_entropy\" : entropy[1], \"z_entropy\" : entropy[2],\n",
    "    return df\n",
    "\n",
    "#3 keer savgol filter uitvoeren met 33,5\n",
    "def get_turns_smooth_side_swing(df):\n",
    "    for i in range(0,5):\n",
    "        df['x'] = savgol_filter(df[ 'x'].to_numpy(), 101, 5)\n",
    "        df['y'] = savgol_filter(df[ 'y'].to_numpy(), 101, 5)\n",
    "        df['z'] = savgol_filter(df[ 'z'].to_numpy(), 101, 5)\n",
    "        df.plot(x='time', subplots=True)\n",
    "\n",
    "    wx = find_peaks(df['x'])\n",
    "    wy = find_peaks(df['y'])\n",
    "    wz = find_peaks(df['z'])\n",
    "    return (len(wx[0]) + len(wy[0]) + len(wz[0]))/3\n",
    "\n",
    "\n",
    "column_names_org = ['time', 'x', 'y', 'z']"
   ]
  },
  {
   "cell_type": "code",
   "execution_count": 3,
   "metadata": {},
   "outputs": [],
   "source": [
    "raw = True\n",
    "freq = 0"
   ]
  },
  {
   "cell_type": "markdown",
   "metadata": {},
   "source": [
    "# <font color='green' >PROEFPERSOON 1"
   ]
  },
  {
   "cell_type": "markdown",
   "metadata": {},
   "source": [
    "## backward 180"
   ]
  },
  {
   "cell_type": "code",
   "execution_count": 61,
   "metadata": {},
   "outputs": [],
   "source": [
    "backward_180_left_right_1 = []\n",
    "backward_180_right_right_1= []\n",
    "backward_180_left_left_1 = []\n",
    "backward_180_right_left_1= []"
   ]
  },
  {
   "cell_type": "markdown",
   "metadata": {},
   "source": [
    "#### backward_180_left_right"
   ]
  },
  {
   "cell_type": "markdown",
   "metadata": {},
   "source": [
    "#### tussenpauzes"
   ]
  },
  {
   "cell_type": "code",
   "execution_count": 5,
   "metadata": {},
   "outputs": [
    {
     "ename": "FileNotFoundError",
     "evalue": "[Errno 2] File b'C:\\\\Users\\\\Elise\\\\Documents\\\\unif\\\\master\\\\semester2\\\\masterproef\\\\gitProject\\\\thesis\\\\data\\\\forward_180\\\\proefpersoon1\\\\forward_180_left_backwards_tim1.csv' does not exist: b'C:\\\\Users\\\\Elise\\\\Documents\\\\unif\\\\master\\\\semester2\\\\masterproef\\\\gitProject\\\\thesis\\\\data\\\\forward_180\\\\proefpersoon1\\\\forward_180_left_backwards_tim1.csv'",
     "output_type": "error",
     "traceback": [
      "\u001b[1;31m---------------------------------------------------------------------------\u001b[0m",
      "\u001b[1;31mFileNotFoundError\u001b[0m                         Traceback (most recent call last)",
      "\u001b[1;32m<ipython-input-5-d4f57a011849>\u001b[0m in \u001b[0;36m<module>\u001b[1;34m\u001b[0m\n\u001b[0;32m      1\u001b[0m \u001b[1;31m#8 SEGMENTEN\u001b[0m\u001b[1;33m\u001b[0m\u001b[1;33m\u001b[0m\u001b[1;33m\u001b[0m\u001b[0m\n\u001b[1;32m----> 2\u001b[1;33m \u001b[0mforward_180_left_backwards1\u001b[0m \u001b[1;33m=\u001b[0m \u001b[0mpd\u001b[0m\u001b[1;33m.\u001b[0m\u001b[0mread_csv\u001b[0m\u001b[1;33m(\u001b[0m\u001b[1;34mr\"C:\\Users\\Elise\\Documents\\unif\\master\\semester2\\masterproef\\gitProject\\thesis\\data\\forward_180\\proefpersoon1\\forward_180_left_backwards_tim1.csv\"\u001b[0m\u001b[1;33m,\u001b[0m \u001b[0msep\u001b[0m\u001b[1;33m=\u001b[0m\u001b[1;34m';'\u001b[0m\u001b[1;33m,\u001b[0m \u001b[0mheader\u001b[0m\u001b[1;33m=\u001b[0m\u001b[1;36m0\u001b[0m\u001b[1;33m,\u001b[0m \u001b[0mskipinitialspace\u001b[0m\u001b[1;33m=\u001b[0m\u001b[1;32mTrue\u001b[0m\u001b[1;33m)\u001b[0m\u001b[1;33m\u001b[0m\u001b[1;33m\u001b[0m\u001b[0m\n\u001b[0m",
      "\u001b[1;32m~\\Anaconda3\\lib\\site-packages\\pandas\\io\\parsers.py\u001b[0m in \u001b[0;36mparser_f\u001b[1;34m(filepath_or_buffer, sep, delimiter, header, names, index_col, usecols, squeeze, prefix, mangle_dupe_cols, dtype, engine, converters, true_values, false_values, skipinitialspace, skiprows, skipfooter, nrows, na_values, keep_default_na, na_filter, verbose, skip_blank_lines, parse_dates, infer_datetime_format, keep_date_col, date_parser, dayfirst, cache_dates, iterator, chunksize, compression, thousands, decimal, lineterminator, quotechar, quoting, doublequote, escapechar, comment, encoding, dialect, error_bad_lines, warn_bad_lines, delim_whitespace, low_memory, memory_map, float_precision)\u001b[0m\n\u001b[0;32m    683\u001b[0m         )\n\u001b[0;32m    684\u001b[0m \u001b[1;33m\u001b[0m\u001b[0m\n\u001b[1;32m--> 685\u001b[1;33m         \u001b[1;32mreturn\u001b[0m \u001b[0m_read\u001b[0m\u001b[1;33m(\u001b[0m\u001b[0mfilepath_or_buffer\u001b[0m\u001b[1;33m,\u001b[0m \u001b[0mkwds\u001b[0m\u001b[1;33m)\u001b[0m\u001b[1;33m\u001b[0m\u001b[1;33m\u001b[0m\u001b[0m\n\u001b[0m\u001b[0;32m    686\u001b[0m \u001b[1;33m\u001b[0m\u001b[0m\n\u001b[0;32m    687\u001b[0m     \u001b[0mparser_f\u001b[0m\u001b[1;33m.\u001b[0m\u001b[0m__name__\u001b[0m \u001b[1;33m=\u001b[0m \u001b[0mname\u001b[0m\u001b[1;33m\u001b[0m\u001b[1;33m\u001b[0m\u001b[0m\n",
      "\u001b[1;32m~\\Anaconda3\\lib\\site-packages\\pandas\\io\\parsers.py\u001b[0m in \u001b[0;36m_read\u001b[1;34m(filepath_or_buffer, kwds)\u001b[0m\n\u001b[0;32m    455\u001b[0m \u001b[1;33m\u001b[0m\u001b[0m\n\u001b[0;32m    456\u001b[0m     \u001b[1;31m# Create the parser.\u001b[0m\u001b[1;33m\u001b[0m\u001b[1;33m\u001b[0m\u001b[1;33m\u001b[0m\u001b[0m\n\u001b[1;32m--> 457\u001b[1;33m     \u001b[0mparser\u001b[0m \u001b[1;33m=\u001b[0m \u001b[0mTextFileReader\u001b[0m\u001b[1;33m(\u001b[0m\u001b[0mfp_or_buf\u001b[0m\u001b[1;33m,\u001b[0m \u001b[1;33m**\u001b[0m\u001b[0mkwds\u001b[0m\u001b[1;33m)\u001b[0m\u001b[1;33m\u001b[0m\u001b[1;33m\u001b[0m\u001b[0m\n\u001b[0m\u001b[0;32m    458\u001b[0m \u001b[1;33m\u001b[0m\u001b[0m\n\u001b[0;32m    459\u001b[0m     \u001b[1;32mif\u001b[0m \u001b[0mchunksize\u001b[0m \u001b[1;32mor\u001b[0m \u001b[0miterator\u001b[0m\u001b[1;33m:\u001b[0m\u001b[1;33m\u001b[0m\u001b[1;33m\u001b[0m\u001b[0m\n",
      "\u001b[1;32m~\\Anaconda3\\lib\\site-packages\\pandas\\io\\parsers.py\u001b[0m in \u001b[0;36m__init__\u001b[1;34m(self, f, engine, **kwds)\u001b[0m\n\u001b[0;32m    893\u001b[0m             \u001b[0mself\u001b[0m\u001b[1;33m.\u001b[0m\u001b[0moptions\u001b[0m\u001b[1;33m[\u001b[0m\u001b[1;34m\"has_index_names\"\u001b[0m\u001b[1;33m]\u001b[0m \u001b[1;33m=\u001b[0m \u001b[0mkwds\u001b[0m\u001b[1;33m[\u001b[0m\u001b[1;34m\"has_index_names\"\u001b[0m\u001b[1;33m]\u001b[0m\u001b[1;33m\u001b[0m\u001b[1;33m\u001b[0m\u001b[0m\n\u001b[0;32m    894\u001b[0m \u001b[1;33m\u001b[0m\u001b[0m\n\u001b[1;32m--> 895\u001b[1;33m         \u001b[0mself\u001b[0m\u001b[1;33m.\u001b[0m\u001b[0m_make_engine\u001b[0m\u001b[1;33m(\u001b[0m\u001b[0mself\u001b[0m\u001b[1;33m.\u001b[0m\u001b[0mengine\u001b[0m\u001b[1;33m)\u001b[0m\u001b[1;33m\u001b[0m\u001b[1;33m\u001b[0m\u001b[0m\n\u001b[0m\u001b[0;32m    896\u001b[0m \u001b[1;33m\u001b[0m\u001b[0m\n\u001b[0;32m    897\u001b[0m     \u001b[1;32mdef\u001b[0m \u001b[0mclose\u001b[0m\u001b[1;33m(\u001b[0m\u001b[0mself\u001b[0m\u001b[1;33m)\u001b[0m\u001b[1;33m:\u001b[0m\u001b[1;33m\u001b[0m\u001b[1;33m\u001b[0m\u001b[0m\n",
      "\u001b[1;32m~\\Anaconda3\\lib\\site-packages\\pandas\\io\\parsers.py\u001b[0m in \u001b[0;36m_make_engine\u001b[1;34m(self, engine)\u001b[0m\n\u001b[0;32m   1133\u001b[0m     \u001b[1;32mdef\u001b[0m \u001b[0m_make_engine\u001b[0m\u001b[1;33m(\u001b[0m\u001b[0mself\u001b[0m\u001b[1;33m,\u001b[0m \u001b[0mengine\u001b[0m\u001b[1;33m=\u001b[0m\u001b[1;34m\"c\"\u001b[0m\u001b[1;33m)\u001b[0m\u001b[1;33m:\u001b[0m\u001b[1;33m\u001b[0m\u001b[1;33m\u001b[0m\u001b[0m\n\u001b[0;32m   1134\u001b[0m         \u001b[1;32mif\u001b[0m \u001b[0mengine\u001b[0m \u001b[1;33m==\u001b[0m \u001b[1;34m\"c\"\u001b[0m\u001b[1;33m:\u001b[0m\u001b[1;33m\u001b[0m\u001b[1;33m\u001b[0m\u001b[0m\n\u001b[1;32m-> 1135\u001b[1;33m             \u001b[0mself\u001b[0m\u001b[1;33m.\u001b[0m\u001b[0m_engine\u001b[0m \u001b[1;33m=\u001b[0m \u001b[0mCParserWrapper\u001b[0m\u001b[1;33m(\u001b[0m\u001b[0mself\u001b[0m\u001b[1;33m.\u001b[0m\u001b[0mf\u001b[0m\u001b[1;33m,\u001b[0m \u001b[1;33m**\u001b[0m\u001b[0mself\u001b[0m\u001b[1;33m.\u001b[0m\u001b[0moptions\u001b[0m\u001b[1;33m)\u001b[0m\u001b[1;33m\u001b[0m\u001b[1;33m\u001b[0m\u001b[0m\n\u001b[0m\u001b[0;32m   1136\u001b[0m         \u001b[1;32melse\u001b[0m\u001b[1;33m:\u001b[0m\u001b[1;33m\u001b[0m\u001b[1;33m\u001b[0m\u001b[0m\n\u001b[0;32m   1137\u001b[0m             \u001b[1;32mif\u001b[0m \u001b[0mengine\u001b[0m \u001b[1;33m==\u001b[0m \u001b[1;34m\"python\"\u001b[0m\u001b[1;33m:\u001b[0m\u001b[1;33m\u001b[0m\u001b[1;33m\u001b[0m\u001b[0m\n",
      "\u001b[1;32m~\\Anaconda3\\lib\\site-packages\\pandas\\io\\parsers.py\u001b[0m in \u001b[0;36m__init__\u001b[1;34m(self, src, **kwds)\u001b[0m\n\u001b[0;32m   1915\u001b[0m         \u001b[0mkwds\u001b[0m\u001b[1;33m[\u001b[0m\u001b[1;34m\"usecols\"\u001b[0m\u001b[1;33m]\u001b[0m \u001b[1;33m=\u001b[0m \u001b[0mself\u001b[0m\u001b[1;33m.\u001b[0m\u001b[0musecols\u001b[0m\u001b[1;33m\u001b[0m\u001b[1;33m\u001b[0m\u001b[0m\n\u001b[0;32m   1916\u001b[0m \u001b[1;33m\u001b[0m\u001b[0m\n\u001b[1;32m-> 1917\u001b[1;33m         \u001b[0mself\u001b[0m\u001b[1;33m.\u001b[0m\u001b[0m_reader\u001b[0m \u001b[1;33m=\u001b[0m \u001b[0mparsers\u001b[0m\u001b[1;33m.\u001b[0m\u001b[0mTextReader\u001b[0m\u001b[1;33m(\u001b[0m\u001b[0msrc\u001b[0m\u001b[1;33m,\u001b[0m \u001b[1;33m**\u001b[0m\u001b[0mkwds\u001b[0m\u001b[1;33m)\u001b[0m\u001b[1;33m\u001b[0m\u001b[1;33m\u001b[0m\u001b[0m\n\u001b[0m\u001b[0;32m   1918\u001b[0m         \u001b[0mself\u001b[0m\u001b[1;33m.\u001b[0m\u001b[0munnamed_cols\u001b[0m \u001b[1;33m=\u001b[0m \u001b[0mself\u001b[0m\u001b[1;33m.\u001b[0m\u001b[0m_reader\u001b[0m\u001b[1;33m.\u001b[0m\u001b[0munnamed_cols\u001b[0m\u001b[1;33m\u001b[0m\u001b[1;33m\u001b[0m\u001b[0m\n\u001b[0;32m   1919\u001b[0m \u001b[1;33m\u001b[0m\u001b[0m\n",
      "\u001b[1;32mpandas\\_libs\\parsers.pyx\u001b[0m in \u001b[0;36mpandas._libs.parsers.TextReader.__cinit__\u001b[1;34m()\u001b[0m\n",
      "\u001b[1;32mpandas\\_libs\\parsers.pyx\u001b[0m in \u001b[0;36mpandas._libs.parsers.TextReader._setup_parser_source\u001b[1;34m()\u001b[0m\n",
      "\u001b[1;31mFileNotFoundError\u001b[0m: [Errno 2] File b'C:\\\\Users\\\\Elise\\\\Documents\\\\unif\\\\master\\\\semester2\\\\masterproef\\\\gitProject\\\\thesis\\\\data\\\\forward_180\\\\proefpersoon1\\\\forward_180_left_backwards_tim1.csv' does not exist: b'C:\\\\Users\\\\Elise\\\\Documents\\\\unif\\\\master\\\\semester2\\\\masterproef\\\\gitProject\\\\thesis\\\\data\\\\forward_180\\\\proefpersoon1\\\\forward_180_left_backwards_tim1.csv'"
     ]
    }
   ],
   "source": [
    "#8 SEGMENTEN\n",
    "forward_180_left_backwards1 = pd.read_csv(r\"C:\\Users\\Elise\\Documents\\unif\\master\\semester2\\masterproef\\gitProject\\thesis\\data\\forward_180\\proefpersoon1\\forward_180_left_backwards_tim1.csv\", sep=';', header=0, skipinitialspace=True)"
   ]
  },
  {
   "cell_type": "code",
   "execution_count": null,
   "metadata": {},
   "outputs": [],
   "source": [
    "f1 =  forward_180_left_backwards1[forward_180_left_backwards1[\"time\"] <= 31979000000000]\n",
    "f2 =  forward_180_left_backwards1[(forward_180_left_backwards1[\"time\"] >= 31979000000000) & (forward_180_left_backwards1[\"time\"] <= 31983000000000)]\n",
    "f3 =  forward_180_left_backwards1[(forward_180_left_backwards1[\"time\"] >= 31983000000000) & (forward_180_left_backwards1[\"time\"] <= 31987500000000)]\n",
    "f4 =  forward_180_left_backwards1[(forward_180_left_backwards1[\"time\"] >= 31987500000000) & (forward_180_left_backwards1[\"time\"] <= 31991800000000)]\n",
    "f5 =  forward_180_left_backwards1[(forward_180_left_backwards1[\"time\"] >= 31991800000000) & (forward_180_left_backwards1[\"time\"] <= 31995800000000)]\n",
    "f6 =  forward_180_left_backwards1[(forward_180_left_backwards1[\"time\"] >= 31995800000000) & (forward_180_left_backwards1[\"time\"] <= 31999900000000)]\n",
    "f7 =  forward_180_left_backwards1[(forward_180_left_backwards1[\"time\"] >= 31999900000000) & (forward_180_left_backwards1[\"time\"] <= 32004400000000)]\n",
    "f8 =  forward_180_left_backwards1[(forward_180_left_backwards1[\"time\"] >= 32004400000000) & (forward_180_left_backwards1[\"time\"] <= 32009000000000)]"
   ]
  },
  {
   "cell_type": "code",
   "execution_count": null,
   "metadata": {},
   "outputs": [],
   "source": [
    "f1 = preprocess(f1, \"backward_180\", 1.2, 0.8)\n",
    "f2 = preprocess(f2, \"backward_180\", 0.9, 0.5)\n",
    "f3 = preprocess(f3, \"backward_180\", 1, 1)\n",
    "f4 = preprocess(f4, \"backward_180\", 0.8, 0.9)\n",
    "f5 = preprocess(f5, \"backward_180\", 0.8, 0.9)\n",
    "f6 = preprocess(f6, \"backward_180\", 0.8, 0.8)\n",
    "f7 = preprocess(f7, \"backward_180\", 1.1, 0.9)\n",
    "f8 = preprocess(f8, \"backward_180\", 1.1, 0.9)"
   ]
  },
  {
   "cell_type": "code",
   "execution_count": null,
   "metadata": {},
   "outputs": [],
   "source": [
    "forward_180_left_backwards_1 = [f1,f2, f3, f4, f5, f6, f7, f8]"
   ]
  },
  {
   "cell_type": "markdown",
   "metadata": {},
   "source": [
    "#### zonder tussenpauzes"
   ]
  },
  {
   "cell_type": "code",
   "execution_count": 33,
   "metadata": {},
   "outputs": [],
   "source": [
    "backward_180a = pd.read_csv(\n",
    "    r\"C:\\Users\\Elise\\Documents\\unif\\master\\semester2\\masterproef\\gitProject\\thesis\\data\\forward_180\\proefpersoon1\\backward_180_left_right_tim1.csv\", \n",
    "    sep=';', header=0, skipinitialspace=True)"
   ]
  },
  {
   "cell_type": "code",
   "execution_count": 34,
   "metadata": {},
   "outputs": [],
   "source": [
    "backward_180a = preprocess(backward_180a, \"backward_180\", \"left_right\",1, 0.8, 1.8)"
   ]
  },
  {
   "cell_type": "code",
   "execution_count": 36,
   "metadata": {},
   "outputs": [],
   "source": [
    "backward_180_left_right_1 = [backward_180a]"
   ]
  },
  {
   "cell_type": "code",
   "execution_count": 37,
   "metadata": {},
   "outputs": [],
   "source": [
    "for df in backward_180_left_right_1:\n",
    "    f = sampling_freq(df)\n",
    "    freq += f"
   ]
  },
  {
   "cell_type": "markdown",
   "metadata": {},
   "source": [
    "#### backward_180_right_right"
   ]
  },
  {
   "cell_type": "markdown",
   "metadata": {},
   "source": [
    "#### tussenpauzes"
   ]
  },
  {
   "cell_type": "code",
   "execution_count": 10,
   "metadata": {},
   "outputs": [
    {
     "ename": "FileNotFoundError",
     "evalue": "[Errno 2] File b'C:\\\\Users\\\\Elise\\\\Documents\\\\unif\\\\master\\\\semester2\\\\masterproef\\\\gitProject\\\\thesis\\\\data\\\\forward_180\\\\proefpersoon1\\\\forward_180_right_backwards_tim1.csv' does not exist: b'C:\\\\Users\\\\Elise\\\\Documents\\\\unif\\\\master\\\\semester2\\\\masterproef\\\\gitProject\\\\thesis\\\\data\\\\forward_180\\\\proefpersoon1\\\\forward_180_right_backwards_tim1.csv'",
     "output_type": "error",
     "traceback": [
      "\u001b[1;31m---------------------------------------------------------------------------\u001b[0m",
      "\u001b[1;31mFileNotFoundError\u001b[0m                         Traceback (most recent call last)",
      "\u001b[1;32m<ipython-input-10-309f8187546f>\u001b[0m in \u001b[0;36m<module>\u001b[1;34m\u001b[0m\n\u001b[0;32m      1\u001b[0m \u001b[1;31m#EERSTE EN LAATSTE STUKJES NIET GEKNIPT\u001b[0m\u001b[1;33m\u001b[0m\u001b[1;33m\u001b[0m\u001b[1;33m\u001b[0m\u001b[0m\n\u001b[0;32m      2\u001b[0m \u001b[1;31m#5 SEGMENTEN\u001b[0m\u001b[1;33m\u001b[0m\u001b[1;33m\u001b[0m\u001b[1;33m\u001b[0m\u001b[0m\n\u001b[1;32m----> 3\u001b[1;33m \u001b[0mforward_180_right_backwards1\u001b[0m \u001b[1;33m=\u001b[0m \u001b[0mpd\u001b[0m\u001b[1;33m.\u001b[0m\u001b[0mread_csv\u001b[0m\u001b[1;33m(\u001b[0m\u001b[1;34mr\"C:\\Users\\Elise\\Documents\\unif\\master\\semester2\\masterproef\\gitProject\\thesis\\data\\forward_180\\proefpersoon1\\forward_180_right_backwards_tim1.csv\"\u001b[0m\u001b[1;33m,\u001b[0m \u001b[0msep\u001b[0m\u001b[1;33m=\u001b[0m\u001b[1;34m';'\u001b[0m\u001b[1;33m,\u001b[0m \u001b[0mheader\u001b[0m\u001b[1;33m=\u001b[0m\u001b[1;36m0\u001b[0m\u001b[1;33m,\u001b[0m \u001b[0mskipinitialspace\u001b[0m\u001b[1;33m=\u001b[0m\u001b[1;32mTrue\u001b[0m\u001b[1;33m)\u001b[0m\u001b[1;33m\u001b[0m\u001b[1;33m\u001b[0m\u001b[0m\n\u001b[0m\u001b[0;32m      4\u001b[0m \u001b[1;33m\u001b[0m\u001b[0m\n\u001b[0;32m      5\u001b[0m \u001b[1;31m#3 SEGMENTEN\u001b[0m\u001b[1;33m\u001b[0m\u001b[1;33m\u001b[0m\u001b[1;33m\u001b[0m\u001b[0m\n",
      "\u001b[1;32m~\\Anaconda3\\lib\\site-packages\\pandas\\io\\parsers.py\u001b[0m in \u001b[0;36mparser_f\u001b[1;34m(filepath_or_buffer, sep, delimiter, header, names, index_col, usecols, squeeze, prefix, mangle_dupe_cols, dtype, engine, converters, true_values, false_values, skipinitialspace, skiprows, skipfooter, nrows, na_values, keep_default_na, na_filter, verbose, skip_blank_lines, parse_dates, infer_datetime_format, keep_date_col, date_parser, dayfirst, cache_dates, iterator, chunksize, compression, thousands, decimal, lineterminator, quotechar, quoting, doublequote, escapechar, comment, encoding, dialect, error_bad_lines, warn_bad_lines, delim_whitespace, low_memory, memory_map, float_precision)\u001b[0m\n\u001b[0;32m    683\u001b[0m         )\n\u001b[0;32m    684\u001b[0m \u001b[1;33m\u001b[0m\u001b[0m\n\u001b[1;32m--> 685\u001b[1;33m         \u001b[1;32mreturn\u001b[0m \u001b[0m_read\u001b[0m\u001b[1;33m(\u001b[0m\u001b[0mfilepath_or_buffer\u001b[0m\u001b[1;33m,\u001b[0m \u001b[0mkwds\u001b[0m\u001b[1;33m)\u001b[0m\u001b[1;33m\u001b[0m\u001b[1;33m\u001b[0m\u001b[0m\n\u001b[0m\u001b[0;32m    686\u001b[0m \u001b[1;33m\u001b[0m\u001b[0m\n\u001b[0;32m    687\u001b[0m     \u001b[0mparser_f\u001b[0m\u001b[1;33m.\u001b[0m\u001b[0m__name__\u001b[0m \u001b[1;33m=\u001b[0m \u001b[0mname\u001b[0m\u001b[1;33m\u001b[0m\u001b[1;33m\u001b[0m\u001b[0m\n",
      "\u001b[1;32m~\\Anaconda3\\lib\\site-packages\\pandas\\io\\parsers.py\u001b[0m in \u001b[0;36m_read\u001b[1;34m(filepath_or_buffer, kwds)\u001b[0m\n\u001b[0;32m    455\u001b[0m \u001b[1;33m\u001b[0m\u001b[0m\n\u001b[0;32m    456\u001b[0m     \u001b[1;31m# Create the parser.\u001b[0m\u001b[1;33m\u001b[0m\u001b[1;33m\u001b[0m\u001b[1;33m\u001b[0m\u001b[0m\n\u001b[1;32m--> 457\u001b[1;33m     \u001b[0mparser\u001b[0m \u001b[1;33m=\u001b[0m \u001b[0mTextFileReader\u001b[0m\u001b[1;33m(\u001b[0m\u001b[0mfp_or_buf\u001b[0m\u001b[1;33m,\u001b[0m \u001b[1;33m**\u001b[0m\u001b[0mkwds\u001b[0m\u001b[1;33m)\u001b[0m\u001b[1;33m\u001b[0m\u001b[1;33m\u001b[0m\u001b[0m\n\u001b[0m\u001b[0;32m    458\u001b[0m \u001b[1;33m\u001b[0m\u001b[0m\n\u001b[0;32m    459\u001b[0m     \u001b[1;32mif\u001b[0m \u001b[0mchunksize\u001b[0m \u001b[1;32mor\u001b[0m \u001b[0miterator\u001b[0m\u001b[1;33m:\u001b[0m\u001b[1;33m\u001b[0m\u001b[1;33m\u001b[0m\u001b[0m\n",
      "\u001b[1;32m~\\Anaconda3\\lib\\site-packages\\pandas\\io\\parsers.py\u001b[0m in \u001b[0;36m__init__\u001b[1;34m(self, f, engine, **kwds)\u001b[0m\n\u001b[0;32m    893\u001b[0m             \u001b[0mself\u001b[0m\u001b[1;33m.\u001b[0m\u001b[0moptions\u001b[0m\u001b[1;33m[\u001b[0m\u001b[1;34m\"has_index_names\"\u001b[0m\u001b[1;33m]\u001b[0m \u001b[1;33m=\u001b[0m \u001b[0mkwds\u001b[0m\u001b[1;33m[\u001b[0m\u001b[1;34m\"has_index_names\"\u001b[0m\u001b[1;33m]\u001b[0m\u001b[1;33m\u001b[0m\u001b[1;33m\u001b[0m\u001b[0m\n\u001b[0;32m    894\u001b[0m \u001b[1;33m\u001b[0m\u001b[0m\n\u001b[1;32m--> 895\u001b[1;33m         \u001b[0mself\u001b[0m\u001b[1;33m.\u001b[0m\u001b[0m_make_engine\u001b[0m\u001b[1;33m(\u001b[0m\u001b[0mself\u001b[0m\u001b[1;33m.\u001b[0m\u001b[0mengine\u001b[0m\u001b[1;33m)\u001b[0m\u001b[1;33m\u001b[0m\u001b[1;33m\u001b[0m\u001b[0m\n\u001b[0m\u001b[0;32m    896\u001b[0m \u001b[1;33m\u001b[0m\u001b[0m\n\u001b[0;32m    897\u001b[0m     \u001b[1;32mdef\u001b[0m \u001b[0mclose\u001b[0m\u001b[1;33m(\u001b[0m\u001b[0mself\u001b[0m\u001b[1;33m)\u001b[0m\u001b[1;33m:\u001b[0m\u001b[1;33m\u001b[0m\u001b[1;33m\u001b[0m\u001b[0m\n",
      "\u001b[1;32m~\\Anaconda3\\lib\\site-packages\\pandas\\io\\parsers.py\u001b[0m in \u001b[0;36m_make_engine\u001b[1;34m(self, engine)\u001b[0m\n\u001b[0;32m   1133\u001b[0m     \u001b[1;32mdef\u001b[0m \u001b[0m_make_engine\u001b[0m\u001b[1;33m(\u001b[0m\u001b[0mself\u001b[0m\u001b[1;33m,\u001b[0m \u001b[0mengine\u001b[0m\u001b[1;33m=\u001b[0m\u001b[1;34m\"c\"\u001b[0m\u001b[1;33m)\u001b[0m\u001b[1;33m:\u001b[0m\u001b[1;33m\u001b[0m\u001b[1;33m\u001b[0m\u001b[0m\n\u001b[0;32m   1134\u001b[0m         \u001b[1;32mif\u001b[0m \u001b[0mengine\u001b[0m \u001b[1;33m==\u001b[0m \u001b[1;34m\"c\"\u001b[0m\u001b[1;33m:\u001b[0m\u001b[1;33m\u001b[0m\u001b[1;33m\u001b[0m\u001b[0m\n\u001b[1;32m-> 1135\u001b[1;33m             \u001b[0mself\u001b[0m\u001b[1;33m.\u001b[0m\u001b[0m_engine\u001b[0m \u001b[1;33m=\u001b[0m \u001b[0mCParserWrapper\u001b[0m\u001b[1;33m(\u001b[0m\u001b[0mself\u001b[0m\u001b[1;33m.\u001b[0m\u001b[0mf\u001b[0m\u001b[1;33m,\u001b[0m \u001b[1;33m**\u001b[0m\u001b[0mself\u001b[0m\u001b[1;33m.\u001b[0m\u001b[0moptions\u001b[0m\u001b[1;33m)\u001b[0m\u001b[1;33m\u001b[0m\u001b[1;33m\u001b[0m\u001b[0m\n\u001b[0m\u001b[0;32m   1136\u001b[0m         \u001b[1;32melse\u001b[0m\u001b[1;33m:\u001b[0m\u001b[1;33m\u001b[0m\u001b[1;33m\u001b[0m\u001b[0m\n\u001b[0;32m   1137\u001b[0m             \u001b[1;32mif\u001b[0m \u001b[0mengine\u001b[0m \u001b[1;33m==\u001b[0m \u001b[1;34m\"python\"\u001b[0m\u001b[1;33m:\u001b[0m\u001b[1;33m\u001b[0m\u001b[1;33m\u001b[0m\u001b[0m\n",
      "\u001b[1;32m~\\Anaconda3\\lib\\site-packages\\pandas\\io\\parsers.py\u001b[0m in \u001b[0;36m__init__\u001b[1;34m(self, src, **kwds)\u001b[0m\n\u001b[0;32m   1915\u001b[0m         \u001b[0mkwds\u001b[0m\u001b[1;33m[\u001b[0m\u001b[1;34m\"usecols\"\u001b[0m\u001b[1;33m]\u001b[0m \u001b[1;33m=\u001b[0m \u001b[0mself\u001b[0m\u001b[1;33m.\u001b[0m\u001b[0musecols\u001b[0m\u001b[1;33m\u001b[0m\u001b[1;33m\u001b[0m\u001b[0m\n\u001b[0;32m   1916\u001b[0m \u001b[1;33m\u001b[0m\u001b[0m\n\u001b[1;32m-> 1917\u001b[1;33m         \u001b[0mself\u001b[0m\u001b[1;33m.\u001b[0m\u001b[0m_reader\u001b[0m \u001b[1;33m=\u001b[0m \u001b[0mparsers\u001b[0m\u001b[1;33m.\u001b[0m\u001b[0mTextReader\u001b[0m\u001b[1;33m(\u001b[0m\u001b[0msrc\u001b[0m\u001b[1;33m,\u001b[0m \u001b[1;33m**\u001b[0m\u001b[0mkwds\u001b[0m\u001b[1;33m)\u001b[0m\u001b[1;33m\u001b[0m\u001b[1;33m\u001b[0m\u001b[0m\n\u001b[0m\u001b[0;32m   1918\u001b[0m         \u001b[0mself\u001b[0m\u001b[1;33m.\u001b[0m\u001b[0munnamed_cols\u001b[0m \u001b[1;33m=\u001b[0m \u001b[0mself\u001b[0m\u001b[1;33m.\u001b[0m\u001b[0m_reader\u001b[0m\u001b[1;33m.\u001b[0m\u001b[0munnamed_cols\u001b[0m\u001b[1;33m\u001b[0m\u001b[1;33m\u001b[0m\u001b[0m\n\u001b[0;32m   1919\u001b[0m \u001b[1;33m\u001b[0m\u001b[0m\n",
      "\u001b[1;32mpandas\\_libs\\parsers.pyx\u001b[0m in \u001b[0;36mpandas._libs.parsers.TextReader.__cinit__\u001b[1;34m()\u001b[0m\n",
      "\u001b[1;32mpandas\\_libs\\parsers.pyx\u001b[0m in \u001b[0;36mpandas._libs.parsers.TextReader._setup_parser_source\u001b[1;34m()\u001b[0m\n",
      "\u001b[1;31mFileNotFoundError\u001b[0m: [Errno 2] File b'C:\\\\Users\\\\Elise\\\\Documents\\\\unif\\\\master\\\\semester2\\\\masterproef\\\\gitProject\\\\thesis\\\\data\\\\forward_180\\\\proefpersoon1\\\\forward_180_right_backwards_tim1.csv' does not exist: b'C:\\\\Users\\\\Elise\\\\Documents\\\\unif\\\\master\\\\semester2\\\\masterproef\\\\gitProject\\\\thesis\\\\data\\\\forward_180\\\\proefpersoon1\\\\forward_180_right_backwards_tim1.csv'"
     ]
    }
   ],
   "source": [
    "#EERSTE EN LAATSTE STUKJES NIET GEKNIPT\n",
    "#5 SEGMENTEN\n",
    "forward_180_right_backwards1 = pd.read_csv(r\"C:\\Users\\Elise\\Documents\\unif\\master\\semester2\\masterproef\\gitProject\\thesis\\data\\forward_180\\proefpersoon1\\forward_180_right_backwards_tim1.csv\", sep=';', header=0, skipinitialspace=True)\n",
    "\n",
    "#3 SEGMENTEN\n",
    "forward_180_right_backwards2 = pd.read_csv(r\"C:\\Users\\Elise\\Documents\\unif\\master\\semester2\\masterproef\\gitProject\\thesis\\data\\forward_180\\proefpersoon1\\forward_180_right_backwards_tim2.csv\", sep=';', header=0, skipinitialspace=True)\n",
    "\n",
    "forward_180_right_backwards4 = pd.read_csv(r\"C:\\Users\\Elise\\Documents\\unif\\master\\semester2\\masterproef\\gitProject\\thesis\\data\\forward_180\\proefpersoon1\\forward_180_right_backwards_tim4.csv\", sep=';', header=0, skipinitialspace=True)\n",
    "\n",
    "forward_180_right_backwards5 = pd.read_csv(r\"C:\\Users\\Elise\\Documents\\unif\\master\\semester2\\masterproef\\gitProject\\thesis\\data\\forward_180\\proefpersoon1\\forward_180_right_backwards_tim5.csv\", sep=';', header=0, skipinitialspace=True)\n",
    "forward_180_right_backwards6 = pd.read_csv(r\"C:\\Users\\Elise\\Documents\\unif\\master\\semester2\\masterproef\\gitProject\\thesis\\data\\forward_180\\proefpersoon1\\forward_180_right_backwards_tim6.csv\", sep=';', header=0, skipinitialspace=True)\n"
   ]
  },
  {
   "cell_type": "code",
   "execution_count": null,
   "metadata": {},
   "outputs": [],
   "source": [
    "f2 =  forward_180_right_backwards1[(forward_180_right_backwards1[\"time\"] >= 11918100000000) & (forward_180_right_backwards1[\"time\"] <= 11923700000000)]\n",
    "f3 =  forward_180_right_backwards1[(forward_180_right_backwards1[\"time\"] >= 11923700000000) & (forward_180_right_backwards1[\"time\"] <= 11929200000000)]\n",
    "f4 =  forward_180_right_backwards1[(forward_180_right_backwards1[\"time\"] >= 11929200000000) & (forward_180_right_backwards1[\"time\"] <= 11935500000000)]\n",
    "f5 =  forward_180_right_backwards1[(forward_180_right_backwards1[\"time\"] >= 11935500000000) & (forward_180_right_backwards1[\"time\"] <= 11941400000000)]\n",
    "\n",
    "f6 =  forward_180_right_backwards2[(forward_180_right_backwards2[\"time\"] <= 11951900000000)]\n",
    "f7 =  forward_180_right_backwards2[(forward_180_right_backwards2[\"time\"] >= 11951900000000) & (forward_180_right_backwards2[\"time\"] <= 11956800000000)]\n",
    "f8 =  forward_180_right_backwards2[(forward_180_right_backwards2[\"time\"] >= 11956800000000) & (forward_180_right_backwards2[\"time\"] <= 11961900000000)]\n",
    "\n",
    "f9 =  forward_180_right_backwards4[(forward_180_right_backwards4[\"time\"] >= 11976300000000)]\n",
    "f10 = forward_180_right_backwards4[(forward_180_right_backwards4[\"time\"] <= 11976300000000)]"
   ]
  },
  {
   "cell_type": "code",
   "execution_count": null,
   "metadata": {},
   "outputs": [],
   "source": [
    "f2 = preprocess(f2, \"backward_180\", 1.7, 0.9)\n",
    "f3 = preprocess(f3, \"backward_180\", 1, 1.2)\n",
    "f4 = preprocess(f4, \"backward_180\", 1.5, 1.7)\n",
    "f5 = preprocess(f5, \"backward_180\", 2, 1)\n",
    "f6 = preprocess(f6, \"backward_180\", 1, 1)\n",
    "f7 = preprocess(f7, \"backward_180\", 1.5, 1.5)\n",
    "f8 = preprocess(f8, \"backward_180\", 1.7, 1.5)\n",
    "f9 = preprocess(f9, \"backward_180\", 1.5, 0.6)"
   ]
  },
  {
   "cell_type": "code",
   "execution_count": null,
   "metadata": {},
   "outputs": [],
   "source": [
    "forward_180_right_backwards_1 = [f2, f3, f4, f5, f6, f7, f8, f9]"
   ]
  },
  {
   "cell_type": "markdown",
   "metadata": {},
   "source": [
    "#### zonder tussenpauzes"
   ]
  },
  {
   "cell_type": "code",
   "execution_count": 41,
   "metadata": {},
   "outputs": [],
   "source": [
    "backward_180_right_righta = pd.read_csv(\n",
    "    r\"C:\\Users\\Elise\\Documents\\unif\\master\\semester2\\masterproef\\gitProject\\thesis\\data\\forward_180\\proefpersoon1\\backward_180_right_right_tim.csv\", \n",
    "    sep=';', header=0, skipinitialspace=True)\n",
    "\n",
    "backward_180_right_rightb = pd.read_csv(\n",
    "    r\"C:\\Users\\Elise\\Documents\\unif\\master\\semester2\\masterproef\\gitProject\\thesis\\data\\forward_180\\proefpersoon1\\backward_180_right_right_tim2.csv\", \n",
    "    sep=';', header=0, skipinitialspace=True)"
   ]
  },
  {
   "cell_type": "code",
   "execution_count": 42,
   "metadata": {},
   "outputs": [],
   "source": [
    "backward_180_right_righta = preprocess(backward_180_right_righta, \"backward_180\", \"right_right\", 1)\n",
    "backward_180_right_rightb = preprocess(backward_180_right_rightb, \"backward_180\", \"right_right\", 1)"
   ]
  },
  {
   "cell_type": "code",
   "execution_count": 43,
   "metadata": {},
   "outputs": [
    {
     "data": {
      "application/javascript": [
       "/* Put everything inside the global mpl namespace */\n",
       "window.mpl = {};\n",
       "\n",
       "\n",
       "mpl.get_websocket_type = function() {\n",
       "    if (typeof(WebSocket) !== 'undefined') {\n",
       "        return WebSocket;\n",
       "    } else if (typeof(MozWebSocket) !== 'undefined') {\n",
       "        return MozWebSocket;\n",
       "    } else {\n",
       "        alert('Your browser does not have WebSocket support. ' +\n",
       "              'Please try Chrome, Safari or Firefox ≥ 6. ' +\n",
       "              'Firefox 4 and 5 are also supported but you ' +\n",
       "              'have to enable WebSockets in about:config.');\n",
       "    };\n",
       "}\n",
       "\n",
       "mpl.figure = function(figure_id, websocket, ondownload, parent_element) {\n",
       "    this.id = figure_id;\n",
       "\n",
       "    this.ws = websocket;\n",
       "\n",
       "    this.supports_binary = (this.ws.binaryType != undefined);\n",
       "\n",
       "    if (!this.supports_binary) {\n",
       "        var warnings = document.getElementById(\"mpl-warnings\");\n",
       "        if (warnings) {\n",
       "            warnings.style.display = 'block';\n",
       "            warnings.textContent = (\n",
       "                \"This browser does not support binary websocket messages. \" +\n",
       "                    \"Performance may be slow.\");\n",
       "        }\n",
       "    }\n",
       "\n",
       "    this.imageObj = new Image();\n",
       "\n",
       "    this.context = undefined;\n",
       "    this.message = undefined;\n",
       "    this.canvas = undefined;\n",
       "    this.rubberband_canvas = undefined;\n",
       "    this.rubberband_context = undefined;\n",
       "    this.format_dropdown = undefined;\n",
       "\n",
       "    this.image_mode = 'full';\n",
       "\n",
       "    this.root = $('<div/>');\n",
       "    this._root_extra_style(this.root)\n",
       "    this.root.attr('style', 'display: inline-block');\n",
       "\n",
       "    $(parent_element).append(this.root);\n",
       "\n",
       "    this._init_header(this);\n",
       "    this._init_canvas(this);\n",
       "    this._init_toolbar(this);\n",
       "\n",
       "    var fig = this;\n",
       "\n",
       "    this.waiting = false;\n",
       "\n",
       "    this.ws.onopen =  function () {\n",
       "            fig.send_message(\"supports_binary\", {value: fig.supports_binary});\n",
       "            fig.send_message(\"send_image_mode\", {});\n",
       "            if (mpl.ratio != 1) {\n",
       "                fig.send_message(\"set_dpi_ratio\", {'dpi_ratio': mpl.ratio});\n",
       "            }\n",
       "            fig.send_message(\"refresh\", {});\n",
       "        }\n",
       "\n",
       "    this.imageObj.onload = function() {\n",
       "            if (fig.image_mode == 'full') {\n",
       "                // Full images could contain transparency (where diff images\n",
       "                // almost always do), so we need to clear the canvas so that\n",
       "                // there is no ghosting.\n",
       "                fig.context.clearRect(0, 0, fig.canvas.width, fig.canvas.height);\n",
       "            }\n",
       "            fig.context.drawImage(fig.imageObj, 0, 0);\n",
       "        };\n",
       "\n",
       "    this.imageObj.onunload = function() {\n",
       "        fig.ws.close();\n",
       "    }\n",
       "\n",
       "    this.ws.onmessage = this._make_on_message_function(this);\n",
       "\n",
       "    this.ondownload = ondownload;\n",
       "}\n",
       "\n",
       "mpl.figure.prototype._init_header = function() {\n",
       "    var titlebar = $(\n",
       "        '<div class=\"ui-dialog-titlebar ui-widget-header ui-corner-all ' +\n",
       "        'ui-helper-clearfix\"/>');\n",
       "    var titletext = $(\n",
       "        '<div class=\"ui-dialog-title\" style=\"width: 100%; ' +\n",
       "        'text-align: center; padding: 3px;\"/>');\n",
       "    titlebar.append(titletext)\n",
       "    this.root.append(titlebar);\n",
       "    this.header = titletext[0];\n",
       "}\n",
       "\n",
       "\n",
       "\n",
       "mpl.figure.prototype._canvas_extra_style = function(canvas_div) {\n",
       "\n",
       "}\n",
       "\n",
       "\n",
       "mpl.figure.prototype._root_extra_style = function(canvas_div) {\n",
       "\n",
       "}\n",
       "\n",
       "mpl.figure.prototype._init_canvas = function() {\n",
       "    var fig = this;\n",
       "\n",
       "    var canvas_div = $('<div/>');\n",
       "\n",
       "    canvas_div.attr('style', 'position: relative; clear: both; outline: 0');\n",
       "\n",
       "    function canvas_keyboard_event(event) {\n",
       "        return fig.key_event(event, event['data']);\n",
       "    }\n",
       "\n",
       "    canvas_div.keydown('key_press', canvas_keyboard_event);\n",
       "    canvas_div.keyup('key_release', canvas_keyboard_event);\n",
       "    this.canvas_div = canvas_div\n",
       "    this._canvas_extra_style(canvas_div)\n",
       "    this.root.append(canvas_div);\n",
       "\n",
       "    var canvas = $('<canvas/>');\n",
       "    canvas.addClass('mpl-canvas');\n",
       "    canvas.attr('style', \"left: 0; top: 0; z-index: 0; outline: 0\")\n",
       "\n",
       "    this.canvas = canvas[0];\n",
       "    this.context = canvas[0].getContext(\"2d\");\n",
       "\n",
       "    var backingStore = this.context.backingStorePixelRatio ||\n",
       "\tthis.context.webkitBackingStorePixelRatio ||\n",
       "\tthis.context.mozBackingStorePixelRatio ||\n",
       "\tthis.context.msBackingStorePixelRatio ||\n",
       "\tthis.context.oBackingStorePixelRatio ||\n",
       "\tthis.context.backingStorePixelRatio || 1;\n",
       "\n",
       "    mpl.ratio = (window.devicePixelRatio || 1) / backingStore;\n",
       "\n",
       "    var rubberband = $('<canvas/>');\n",
       "    rubberband.attr('style', \"position: absolute; left: 0; top: 0; z-index: 1;\")\n",
       "\n",
       "    var pass_mouse_events = true;\n",
       "\n",
       "    canvas_div.resizable({\n",
       "        start: function(event, ui) {\n",
       "            pass_mouse_events = false;\n",
       "        },\n",
       "        resize: function(event, ui) {\n",
       "            fig.request_resize(ui.size.width, ui.size.height);\n",
       "        },\n",
       "        stop: function(event, ui) {\n",
       "            pass_mouse_events = true;\n",
       "            fig.request_resize(ui.size.width, ui.size.height);\n",
       "        },\n",
       "    });\n",
       "\n",
       "    function mouse_event_fn(event) {\n",
       "        if (pass_mouse_events)\n",
       "            return fig.mouse_event(event, event['data']);\n",
       "    }\n",
       "\n",
       "    rubberband.mousedown('button_press', mouse_event_fn);\n",
       "    rubberband.mouseup('button_release', mouse_event_fn);\n",
       "    // Throttle sequential mouse events to 1 every 20ms.\n",
       "    rubberband.mousemove('motion_notify', mouse_event_fn);\n",
       "\n",
       "    rubberband.mouseenter('figure_enter', mouse_event_fn);\n",
       "    rubberband.mouseleave('figure_leave', mouse_event_fn);\n",
       "\n",
       "    canvas_div.on(\"wheel\", function (event) {\n",
       "        event = event.originalEvent;\n",
       "        event['data'] = 'scroll'\n",
       "        if (event.deltaY < 0) {\n",
       "            event.step = 1;\n",
       "        } else {\n",
       "            event.step = -1;\n",
       "        }\n",
       "        mouse_event_fn(event);\n",
       "    });\n",
       "\n",
       "    canvas_div.append(canvas);\n",
       "    canvas_div.append(rubberband);\n",
       "\n",
       "    this.rubberband = rubberband;\n",
       "    this.rubberband_canvas = rubberband[0];\n",
       "    this.rubberband_context = rubberband[0].getContext(\"2d\");\n",
       "    this.rubberband_context.strokeStyle = \"#000000\";\n",
       "\n",
       "    this._resize_canvas = function(width, height) {\n",
       "        // Keep the size of the canvas, canvas container, and rubber band\n",
       "        // canvas in synch.\n",
       "        canvas_div.css('width', width)\n",
       "        canvas_div.css('height', height)\n",
       "\n",
       "        canvas.attr('width', width * mpl.ratio);\n",
       "        canvas.attr('height', height * mpl.ratio);\n",
       "        canvas.attr('style', 'width: ' + width + 'px; height: ' + height + 'px;');\n",
       "\n",
       "        rubberband.attr('width', width);\n",
       "        rubberband.attr('height', height);\n",
       "    }\n",
       "\n",
       "    // Set the figure to an initial 600x600px, this will subsequently be updated\n",
       "    // upon first draw.\n",
       "    this._resize_canvas(600, 600);\n",
       "\n",
       "    // Disable right mouse context menu.\n",
       "    $(this.rubberband_canvas).bind(\"contextmenu\",function(e){\n",
       "        return false;\n",
       "    });\n",
       "\n",
       "    function set_focus () {\n",
       "        canvas.focus();\n",
       "        canvas_div.focus();\n",
       "    }\n",
       "\n",
       "    window.setTimeout(set_focus, 100);\n",
       "}\n",
       "\n",
       "mpl.figure.prototype._init_toolbar = function() {\n",
       "    var fig = this;\n",
       "\n",
       "    var nav_element = $('<div/>');\n",
       "    nav_element.attr('style', 'width: 100%');\n",
       "    this.root.append(nav_element);\n",
       "\n",
       "    // Define a callback function for later on.\n",
       "    function toolbar_event(event) {\n",
       "        return fig.toolbar_button_onclick(event['data']);\n",
       "    }\n",
       "    function toolbar_mouse_event(event) {\n",
       "        return fig.toolbar_button_onmouseover(event['data']);\n",
       "    }\n",
       "\n",
       "    for(var toolbar_ind in mpl.toolbar_items) {\n",
       "        var name = mpl.toolbar_items[toolbar_ind][0];\n",
       "        var tooltip = mpl.toolbar_items[toolbar_ind][1];\n",
       "        var image = mpl.toolbar_items[toolbar_ind][2];\n",
       "        var method_name = mpl.toolbar_items[toolbar_ind][3];\n",
       "\n",
       "        if (!name) {\n",
       "            // put a spacer in here.\n",
       "            continue;\n",
       "        }\n",
       "        var button = $('<button/>');\n",
       "        button.addClass('ui-button ui-widget ui-state-default ui-corner-all ' +\n",
       "                        'ui-button-icon-only');\n",
       "        button.attr('role', 'button');\n",
       "        button.attr('aria-disabled', 'false');\n",
       "        button.click(method_name, toolbar_event);\n",
       "        button.mouseover(tooltip, toolbar_mouse_event);\n",
       "\n",
       "        var icon_img = $('<span/>');\n",
       "        icon_img.addClass('ui-button-icon-primary ui-icon');\n",
       "        icon_img.addClass(image);\n",
       "        icon_img.addClass('ui-corner-all');\n",
       "\n",
       "        var tooltip_span = $('<span/>');\n",
       "        tooltip_span.addClass('ui-button-text');\n",
       "        tooltip_span.html(tooltip);\n",
       "\n",
       "        button.append(icon_img);\n",
       "        button.append(tooltip_span);\n",
       "\n",
       "        nav_element.append(button);\n",
       "    }\n",
       "\n",
       "    var fmt_picker_span = $('<span/>');\n",
       "\n",
       "    var fmt_picker = $('<select/>');\n",
       "    fmt_picker.addClass('mpl-toolbar-option ui-widget ui-widget-content');\n",
       "    fmt_picker_span.append(fmt_picker);\n",
       "    nav_element.append(fmt_picker_span);\n",
       "    this.format_dropdown = fmt_picker[0];\n",
       "\n",
       "    for (var ind in mpl.extensions) {\n",
       "        var fmt = mpl.extensions[ind];\n",
       "        var option = $(\n",
       "            '<option/>', {selected: fmt === mpl.default_extension}).html(fmt);\n",
       "        fmt_picker.append(option);\n",
       "    }\n",
       "\n",
       "    // Add hover states to the ui-buttons\n",
       "    $( \".ui-button\" ).hover(\n",
       "        function() { $(this).addClass(\"ui-state-hover\");},\n",
       "        function() { $(this).removeClass(\"ui-state-hover\");}\n",
       "    );\n",
       "\n",
       "    var status_bar = $('<span class=\"mpl-message\"/>');\n",
       "    nav_element.append(status_bar);\n",
       "    this.message = status_bar[0];\n",
       "}\n",
       "\n",
       "mpl.figure.prototype.request_resize = function(x_pixels, y_pixels) {\n",
       "    // Request matplotlib to resize the figure. Matplotlib will then trigger a resize in the client,\n",
       "    // which will in turn request a refresh of the image.\n",
       "    this.send_message('resize', {'width': x_pixels, 'height': y_pixels});\n",
       "}\n",
       "\n",
       "mpl.figure.prototype.send_message = function(type, properties) {\n",
       "    properties['type'] = type;\n",
       "    properties['figure_id'] = this.id;\n",
       "    this.ws.send(JSON.stringify(properties));\n",
       "}\n",
       "\n",
       "mpl.figure.prototype.send_draw_message = function() {\n",
       "    if (!this.waiting) {\n",
       "        this.waiting = true;\n",
       "        this.ws.send(JSON.stringify({type: \"draw\", figure_id: this.id}));\n",
       "    }\n",
       "}\n",
       "\n",
       "\n",
       "mpl.figure.prototype.handle_save = function(fig, msg) {\n",
       "    var format_dropdown = fig.format_dropdown;\n",
       "    var format = format_dropdown.options[format_dropdown.selectedIndex].value;\n",
       "    fig.ondownload(fig, format);\n",
       "}\n",
       "\n",
       "\n",
       "mpl.figure.prototype.handle_resize = function(fig, msg) {\n",
       "    var size = msg['size'];\n",
       "    if (size[0] != fig.canvas.width || size[1] != fig.canvas.height) {\n",
       "        fig._resize_canvas(size[0], size[1]);\n",
       "        fig.send_message(\"refresh\", {});\n",
       "    };\n",
       "}\n",
       "\n",
       "mpl.figure.prototype.handle_rubberband = function(fig, msg) {\n",
       "    var x0 = msg['x0'] / mpl.ratio;\n",
       "    var y0 = (fig.canvas.height - msg['y0']) / mpl.ratio;\n",
       "    var x1 = msg['x1'] / mpl.ratio;\n",
       "    var y1 = (fig.canvas.height - msg['y1']) / mpl.ratio;\n",
       "    x0 = Math.floor(x0) + 0.5;\n",
       "    y0 = Math.floor(y0) + 0.5;\n",
       "    x1 = Math.floor(x1) + 0.5;\n",
       "    y1 = Math.floor(y1) + 0.5;\n",
       "    var min_x = Math.min(x0, x1);\n",
       "    var min_y = Math.min(y0, y1);\n",
       "    var width = Math.abs(x1 - x0);\n",
       "    var height = Math.abs(y1 - y0);\n",
       "\n",
       "    fig.rubberband_context.clearRect(\n",
       "        0, 0, fig.canvas.width / mpl.ratio, fig.canvas.height / mpl.ratio);\n",
       "\n",
       "    fig.rubberband_context.strokeRect(min_x, min_y, width, height);\n",
       "}\n",
       "\n",
       "mpl.figure.prototype.handle_figure_label = function(fig, msg) {\n",
       "    // Updates the figure title.\n",
       "    fig.header.textContent = msg['label'];\n",
       "}\n",
       "\n",
       "mpl.figure.prototype.handle_cursor = function(fig, msg) {\n",
       "    var cursor = msg['cursor'];\n",
       "    switch(cursor)\n",
       "    {\n",
       "    case 0:\n",
       "        cursor = 'pointer';\n",
       "        break;\n",
       "    case 1:\n",
       "        cursor = 'default';\n",
       "        break;\n",
       "    case 2:\n",
       "        cursor = 'crosshair';\n",
       "        break;\n",
       "    case 3:\n",
       "        cursor = 'move';\n",
       "        break;\n",
       "    }\n",
       "    fig.rubberband_canvas.style.cursor = cursor;\n",
       "}\n",
       "\n",
       "mpl.figure.prototype.handle_message = function(fig, msg) {\n",
       "    fig.message.textContent = msg['message'];\n",
       "}\n",
       "\n",
       "mpl.figure.prototype.handle_draw = function(fig, msg) {\n",
       "    // Request the server to send over a new figure.\n",
       "    fig.send_draw_message();\n",
       "}\n",
       "\n",
       "mpl.figure.prototype.handle_image_mode = function(fig, msg) {\n",
       "    fig.image_mode = msg['mode'];\n",
       "}\n",
       "\n",
       "mpl.figure.prototype.updated_canvas_event = function() {\n",
       "    // Called whenever the canvas gets updated.\n",
       "    this.send_message(\"ack\", {});\n",
       "}\n",
       "\n",
       "// A function to construct a web socket function for onmessage handling.\n",
       "// Called in the figure constructor.\n",
       "mpl.figure.prototype._make_on_message_function = function(fig) {\n",
       "    return function socket_on_message(evt) {\n",
       "        if (evt.data instanceof Blob) {\n",
       "            /* FIXME: We get \"Resource interpreted as Image but\n",
       "             * transferred with MIME type text/plain:\" errors on\n",
       "             * Chrome.  But how to set the MIME type?  It doesn't seem\n",
       "             * to be part of the websocket stream */\n",
       "            evt.data.type = \"image/png\";\n",
       "\n",
       "            /* Free the memory for the previous frames */\n",
       "            if (fig.imageObj.src) {\n",
       "                (window.URL || window.webkitURL).revokeObjectURL(\n",
       "                    fig.imageObj.src);\n",
       "            }\n",
       "\n",
       "            fig.imageObj.src = (window.URL || window.webkitURL).createObjectURL(\n",
       "                evt.data);\n",
       "            fig.updated_canvas_event();\n",
       "            fig.waiting = false;\n",
       "            return;\n",
       "        }\n",
       "        else if (typeof evt.data === 'string' && evt.data.slice(0, 21) == \"data:image/png;base64\") {\n",
       "            fig.imageObj.src = evt.data;\n",
       "            fig.updated_canvas_event();\n",
       "            fig.waiting = false;\n",
       "            return;\n",
       "        }\n",
       "\n",
       "        var msg = JSON.parse(evt.data);\n",
       "        var msg_type = msg['type'];\n",
       "\n",
       "        // Call the  \"handle_{type}\" callback, which takes\n",
       "        // the figure and JSON message as its only arguments.\n",
       "        try {\n",
       "            var callback = fig[\"handle_\" + msg_type];\n",
       "        } catch (e) {\n",
       "            console.log(\"No handler for the '\" + msg_type + \"' message type: \", msg);\n",
       "            return;\n",
       "        }\n",
       "\n",
       "        if (callback) {\n",
       "            try {\n",
       "                // console.log(\"Handling '\" + msg_type + \"' message: \", msg);\n",
       "                callback(fig, msg);\n",
       "            } catch (e) {\n",
       "                console.log(\"Exception inside the 'handler_\" + msg_type + \"' callback:\", e, e.stack, msg);\n",
       "            }\n",
       "        }\n",
       "    };\n",
       "}\n",
       "\n",
       "// from http://stackoverflow.com/questions/1114465/getting-mouse-location-in-canvas\n",
       "mpl.findpos = function(e) {\n",
       "    //this section is from http://www.quirksmode.org/js/events_properties.html\n",
       "    var targ;\n",
       "    if (!e)\n",
       "        e = window.event;\n",
       "    if (e.target)\n",
       "        targ = e.target;\n",
       "    else if (e.srcElement)\n",
       "        targ = e.srcElement;\n",
       "    if (targ.nodeType == 3) // defeat Safari bug\n",
       "        targ = targ.parentNode;\n",
       "\n",
       "    // jQuery normalizes the pageX and pageY\n",
       "    // pageX,Y are the mouse positions relative to the document\n",
       "    // offset() returns the position of the element relative to the document\n",
       "    var x = e.pageX - $(targ).offset().left;\n",
       "    var y = e.pageY - $(targ).offset().top;\n",
       "\n",
       "    return {\"x\": x, \"y\": y};\n",
       "};\n",
       "\n",
       "/*\n",
       " * return a copy of an object with only non-object keys\n",
       " * we need this to avoid circular references\n",
       " * http://stackoverflow.com/a/24161582/3208463\n",
       " */\n",
       "function simpleKeys (original) {\n",
       "  return Object.keys(original).reduce(function (obj, key) {\n",
       "    if (typeof original[key] !== 'object')\n",
       "        obj[key] = original[key]\n",
       "    return obj;\n",
       "  }, {});\n",
       "}\n",
       "\n",
       "mpl.figure.prototype.mouse_event = function(event, name) {\n",
       "    var canvas_pos = mpl.findpos(event)\n",
       "\n",
       "    if (name === 'button_press')\n",
       "    {\n",
       "        this.canvas.focus();\n",
       "        this.canvas_div.focus();\n",
       "    }\n",
       "\n",
       "    var x = canvas_pos.x * mpl.ratio;\n",
       "    var y = canvas_pos.y * mpl.ratio;\n",
       "\n",
       "    this.send_message(name, {x: x, y: y, button: event.button,\n",
       "                             step: event.step,\n",
       "                             guiEvent: simpleKeys(event)});\n",
       "\n",
       "    /* This prevents the web browser from automatically changing to\n",
       "     * the text insertion cursor when the button is pressed.  We want\n",
       "     * to control all of the cursor setting manually through the\n",
       "     * 'cursor' event from matplotlib */\n",
       "    event.preventDefault();\n",
       "    return false;\n",
       "}\n",
       "\n",
       "mpl.figure.prototype._key_event_extra = function(event, name) {\n",
       "    // Handle any extra behaviour associated with a key event\n",
       "}\n",
       "\n",
       "mpl.figure.prototype.key_event = function(event, name) {\n",
       "\n",
       "    // Prevent repeat events\n",
       "    if (name == 'key_press')\n",
       "    {\n",
       "        if (event.which === this._key)\n",
       "            return;\n",
       "        else\n",
       "            this._key = event.which;\n",
       "    }\n",
       "    if (name == 'key_release')\n",
       "        this._key = null;\n",
       "\n",
       "    var value = '';\n",
       "    if (event.ctrlKey && event.which != 17)\n",
       "        value += \"ctrl+\";\n",
       "    if (event.altKey && event.which != 18)\n",
       "        value += \"alt+\";\n",
       "    if (event.shiftKey && event.which != 16)\n",
       "        value += \"shift+\";\n",
       "\n",
       "    value += 'k';\n",
       "    value += event.which.toString();\n",
       "\n",
       "    this._key_event_extra(event, name);\n",
       "\n",
       "    this.send_message(name, {key: value,\n",
       "                             guiEvent: simpleKeys(event)});\n",
       "    return false;\n",
       "}\n",
       "\n",
       "mpl.figure.prototype.toolbar_button_onclick = function(name) {\n",
       "    if (name == 'download') {\n",
       "        this.handle_save(this, null);\n",
       "    } else {\n",
       "        this.send_message(\"toolbar_button\", {name: name});\n",
       "    }\n",
       "};\n",
       "\n",
       "mpl.figure.prototype.toolbar_button_onmouseover = function(tooltip) {\n",
       "    this.message.textContent = tooltip;\n",
       "};\n",
       "mpl.toolbar_items = [[\"Home\", \"Reset original view\", \"fa fa-home icon-home\", \"home\"], [\"Back\", \"Back to previous view\", \"fa fa-arrow-left icon-arrow-left\", \"back\"], [\"Forward\", \"Forward to next view\", \"fa fa-arrow-right icon-arrow-right\", \"forward\"], [\"\", \"\", \"\", \"\"], [\"Pan\", \"Pan axes with left mouse, zoom with right\", \"fa fa-arrows icon-move\", \"pan\"], [\"Zoom\", \"Zoom to rectangle\", \"fa fa-square-o icon-check-empty\", \"zoom\"], [\"\", \"\", \"\", \"\"], [\"Download\", \"Download plot\", \"fa fa-floppy-o icon-save\", \"download\"]];\n",
       "\n",
       "mpl.extensions = [\"eps\", \"jpeg\", \"pdf\", \"png\", \"ps\", \"raw\", \"svg\", \"tif\"];\n",
       "\n",
       "mpl.default_extension = \"png\";var comm_websocket_adapter = function(comm) {\n",
       "    // Create a \"websocket\"-like object which calls the given IPython comm\n",
       "    // object with the appropriate methods. Currently this is a non binary\n",
       "    // socket, so there is still some room for performance tuning.\n",
       "    var ws = {};\n",
       "\n",
       "    ws.close = function() {\n",
       "        comm.close()\n",
       "    };\n",
       "    ws.send = function(m) {\n",
       "        //console.log('sending', m);\n",
       "        comm.send(m);\n",
       "    };\n",
       "    // Register the callback with on_msg.\n",
       "    comm.on_msg(function(msg) {\n",
       "        //console.log('receiving', msg['content']['data'], msg);\n",
       "        // Pass the mpl event to the overridden (by mpl) onmessage function.\n",
       "        ws.onmessage(msg['content']['data'])\n",
       "    });\n",
       "    return ws;\n",
       "}\n",
       "\n",
       "mpl.mpl_figure_comm = function(comm, msg) {\n",
       "    // This is the function which gets called when the mpl process\n",
       "    // starts-up an IPython Comm through the \"matplotlib\" channel.\n",
       "\n",
       "    var id = msg.content.data.id;\n",
       "    // Get hold of the div created by the display call when the Comm\n",
       "    // socket was opened in Python.\n",
       "    var element = $(\"#\" + id);\n",
       "    var ws_proxy = comm_websocket_adapter(comm)\n",
       "\n",
       "    function ondownload(figure, format) {\n",
       "        window.open(figure.imageObj.src);\n",
       "    }\n",
       "\n",
       "    var fig = new mpl.figure(id, ws_proxy,\n",
       "                           ondownload,\n",
       "                           element.get(0));\n",
       "\n",
       "    // Call onopen now - mpl needs it, as it is assuming we've passed it a real\n",
       "    // web socket which is closed, not our websocket->open comm proxy.\n",
       "    ws_proxy.onopen();\n",
       "\n",
       "    fig.parent_element = element.get(0);\n",
       "    fig.cell_info = mpl.find_output_cell(\"<div id='\" + id + \"'></div>\");\n",
       "    if (!fig.cell_info) {\n",
       "        console.error(\"Failed to find cell for figure\", id, fig);\n",
       "        return;\n",
       "    }\n",
       "\n",
       "    var output_index = fig.cell_info[2]\n",
       "    var cell = fig.cell_info[0];\n",
       "\n",
       "};\n",
       "\n",
       "mpl.figure.prototype.handle_close = function(fig, msg) {\n",
       "    var width = fig.canvas.width/mpl.ratio\n",
       "    fig.root.unbind('remove')\n",
       "\n",
       "    // Update the output cell to use the data from the current canvas.\n",
       "    fig.push_to_output();\n",
       "    var dataURL = fig.canvas.toDataURL();\n",
       "    // Re-enable the keyboard manager in IPython - without this line, in FF,\n",
       "    // the notebook keyboard shortcuts fail.\n",
       "    IPython.keyboard_manager.enable()\n",
       "    $(fig.parent_element).html('<img src=\"' + dataURL + '\" width=\"' + width + '\">');\n",
       "    fig.close_ws(fig, msg);\n",
       "}\n",
       "\n",
       "mpl.figure.prototype.close_ws = function(fig, msg){\n",
       "    fig.send_message('closing', msg);\n",
       "    // fig.ws.close()\n",
       "}\n",
       "\n",
       "mpl.figure.prototype.push_to_output = function(remove_interactive) {\n",
       "    // Turn the data on the canvas into data in the output cell.\n",
       "    var width = this.canvas.width/mpl.ratio\n",
       "    var dataURL = this.canvas.toDataURL();\n",
       "    this.cell_info[1]['text/html'] = '<img src=\"' + dataURL + '\" width=\"' + width + '\">';\n",
       "}\n",
       "\n",
       "mpl.figure.prototype.updated_canvas_event = function() {\n",
       "    // Tell IPython that the notebook contents must change.\n",
       "    IPython.notebook.set_dirty(true);\n",
       "    this.send_message(\"ack\", {});\n",
       "    var fig = this;\n",
       "    // Wait a second, then push the new image to the DOM so\n",
       "    // that it is saved nicely (might be nice to debounce this).\n",
       "    setTimeout(function () { fig.push_to_output() }, 1000);\n",
       "}\n",
       "\n",
       "mpl.figure.prototype._init_toolbar = function() {\n",
       "    var fig = this;\n",
       "\n",
       "    var nav_element = $('<div/>');\n",
       "    nav_element.attr('style', 'width: 100%');\n",
       "    this.root.append(nav_element);\n",
       "\n",
       "    // Define a callback function for later on.\n",
       "    function toolbar_event(event) {\n",
       "        return fig.toolbar_button_onclick(event['data']);\n",
       "    }\n",
       "    function toolbar_mouse_event(event) {\n",
       "        return fig.toolbar_button_onmouseover(event['data']);\n",
       "    }\n",
       "\n",
       "    for(var toolbar_ind in mpl.toolbar_items){\n",
       "        var name = mpl.toolbar_items[toolbar_ind][0];\n",
       "        var tooltip = mpl.toolbar_items[toolbar_ind][1];\n",
       "        var image = mpl.toolbar_items[toolbar_ind][2];\n",
       "        var method_name = mpl.toolbar_items[toolbar_ind][3];\n",
       "\n",
       "        if (!name) { continue; };\n",
       "\n",
       "        var button = $('<button class=\"btn btn-default\" href=\"#\" title=\"' + name + '\"><i class=\"fa ' + image + ' fa-lg\"></i></button>');\n",
       "        button.click(method_name, toolbar_event);\n",
       "        button.mouseover(tooltip, toolbar_mouse_event);\n",
       "        nav_element.append(button);\n",
       "    }\n",
       "\n",
       "    // Add the status bar.\n",
       "    var status_bar = $('<span class=\"mpl-message\" style=\"text-align:right; float: right;\"/>');\n",
       "    nav_element.append(status_bar);\n",
       "    this.message = status_bar[0];\n",
       "\n",
       "    // Add the close button to the window.\n",
       "    var buttongrp = $('<div class=\"btn-group inline pull-right\"></div>');\n",
       "    var button = $('<button class=\"btn btn-mini btn-primary\" href=\"#\" title=\"Stop Interaction\"><i class=\"fa fa-power-off icon-remove icon-large\"></i></button>');\n",
       "    button.click(function (evt) { fig.handle_close(fig, {}); } );\n",
       "    button.mouseover('Stop Interaction', toolbar_mouse_event);\n",
       "    buttongrp.append(button);\n",
       "    var titlebar = this.root.find($('.ui-dialog-titlebar'));\n",
       "    titlebar.prepend(buttongrp);\n",
       "}\n",
       "\n",
       "mpl.figure.prototype._root_extra_style = function(el){\n",
       "    var fig = this\n",
       "    el.on(\"remove\", function(){\n",
       "\tfig.close_ws(fig, {});\n",
       "    });\n",
       "}\n",
       "\n",
       "mpl.figure.prototype._canvas_extra_style = function(el){\n",
       "    // this is important to make the div 'focusable\n",
       "    el.attr('tabindex', 0)\n",
       "    // reach out to IPython and tell the keyboard manager to turn it's self\n",
       "    // off when our div gets focus\n",
       "\n",
       "    // location in version 3\n",
       "    if (IPython.notebook.keyboard_manager) {\n",
       "        IPython.notebook.keyboard_manager.register_events(el);\n",
       "    }\n",
       "    else {\n",
       "        // location in version 2\n",
       "        IPython.keyboard_manager.register_events(el);\n",
       "    }\n",
       "\n",
       "}\n",
       "\n",
       "mpl.figure.prototype._key_event_extra = function(event, name) {\n",
       "    var manager = IPython.notebook.keyboard_manager;\n",
       "    if (!manager)\n",
       "        manager = IPython.keyboard_manager;\n",
       "\n",
       "    // Check for shift+enter\n",
       "    if (event.shiftKey && event.which == 13) {\n",
       "        this.canvas_div.blur();\n",
       "        // select the cell after this one\n",
       "        var index = IPython.notebook.find_cell_index(this.cell_info[0]);\n",
       "        IPython.notebook.select(index + 1);\n",
       "    }\n",
       "}\n",
       "\n",
       "mpl.figure.prototype.handle_save = function(fig, msg) {\n",
       "    fig.ondownload(fig, null);\n",
       "}\n",
       "\n",
       "\n",
       "mpl.find_output_cell = function(html_output) {\n",
       "    // Return the cell and output element which can be found *uniquely* in the notebook.\n",
       "    // Note - this is a bit hacky, but it is done because the \"notebook_saving.Notebook\"\n",
       "    // IPython event is triggered only after the cells have been serialised, which for\n",
       "    // our purposes (turning an active figure into a static one), is too late.\n",
       "    var cells = IPython.notebook.get_cells();\n",
       "    var ncells = cells.length;\n",
       "    for (var i=0; i<ncells; i++) {\n",
       "        var cell = cells[i];\n",
       "        if (cell.cell_type === 'code'){\n",
       "            for (var j=0; j<cell.output_area.outputs.length; j++) {\n",
       "                var data = cell.output_area.outputs[j];\n",
       "                if (data.data) {\n",
       "                    // IPython >= 3 moved mimebundle to data attribute of output\n",
       "                    data = data.data;\n",
       "                }\n",
       "                if (data['text/html'] == html_output) {\n",
       "                    return [cell, data, j];\n",
       "                }\n",
       "            }\n",
       "        }\n",
       "    }\n",
       "}\n",
       "\n",
       "// Register the function which deals with the matplotlib target/channel.\n",
       "// The kernel may be null if the page has been refreshed.\n",
       "if (IPython.notebook.kernel != null) {\n",
       "    IPython.notebook.kernel.comm_manager.register_target('matplotlib', mpl.mpl_figure_comm);\n",
       "}\n"
      ],
      "text/plain": [
       "<IPython.core.display.Javascript object>"
      ]
     },
     "metadata": {},
     "output_type": "display_data"
    },
    {
     "data": {
      "text/html": [
       "<img src=\"data:image/png;base64,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\" width=\"1200\">"
      ],
      "text/plain": [
       "<IPython.core.display.HTML object>"
      ]
     },
     "metadata": {},
     "output_type": "display_data"
    },
    {
     "data": {
      "text/plain": [
       "array([<matplotlib.axes._subplots.AxesSubplot object at 0x00000245F1F8C588>,\n",
       "       <matplotlib.axes._subplots.AxesSubplot object at 0x00000245F2FC6E48>,\n",
       "       <matplotlib.axes._subplots.AxesSubplot object at 0x00000245F2F81848>,\n",
       "       <matplotlib.axes._subplots.AxesSubplot object at 0x00000245F2FFD488>],\n",
       "      dtype=object)"
      ]
     },
     "execution_count": 43,
     "metadata": {},
     "output_type": "execute_result"
    }
   ],
   "source": [
    "plt.figsize=(8,5)\n",
    "backward_180_right_righta.plot(x='time', subplots=True)"
   ]
  },
  {
   "cell_type": "code",
   "execution_count": 68,
   "metadata": {},
   "outputs": [],
   "source": [
    "backward_180_right_right_1 = [backward_180_right_righta, backward_180_right_rightb]"
   ]
  },
  {
   "cell_type": "code",
   "execution_count": 69,
   "metadata": {},
   "outputs": [],
   "source": [
    "for df in backward_180_right_right_1:\n",
    "    f = sampling_freq(df)\n",
    "    freq += f"
   ]
  },
  {
   "cell_type": "markdown",
   "metadata": {},
   "source": [
    "#### backward_180_left_left"
   ]
  },
  {
   "cell_type": "markdown",
   "metadata": {},
   "source": [
    "#### tussenpauze"
   ]
  },
  {
   "cell_type": "code",
   "execution_count": null,
   "metadata": {},
   "outputs": [],
   "source": [
    "#8 segmenten\n",
    "forward_180_left_backwards_other1 = pd.read_csv(r\"C:\\Users\\Elise\\Documents\\unif\\master\\semester2\\masterproef\\gitProject\\thesis\\data\\forward_180\\proefpersoon1\\forward_180_left_backwards_tim_other_side1.csv\", sep=';', header=0, skipinitialspace=True)"
   ]
  },
  {
   "cell_type": "code",
   "execution_count": null,
   "metadata": {},
   "outputs": [],
   "source": [
    "f1 =  forward_180_left_backwards_other1[forward_180_left_backwards_other1[\"time\"] <= 32379000000000]\n",
    "f2 =  forward_180_left_backwards_other1[(forward_180_left_backwards_other1[\"time\"] >= 32379000000000) & (forward_180_left_backwards_other1[\"time\"] <= 32383100000000)]\n",
    "f3 =  forward_180_left_backwards_other1[(forward_180_left_backwards_other1[\"time\"] >= 32383100000000) & (forward_180_left_backwards_other1[\"time\"] <= 32387300000000)]\n",
    "f4 =  forward_180_left_backwards_other1[(forward_180_left_backwards_other1[\"time\"] >= 32387300000000) & (forward_180_left_backwards_other1[\"time\"] <= 32391400000000)]\n",
    "f5 =  forward_180_left_backwards_other1[(forward_180_left_backwards_other1[\"time\"] >= 32391400000000) & (forward_180_left_backwards_other1[\"time\"] <= 32395500000000)]\n",
    "f6 =  forward_180_left_backwards_other1[(forward_180_left_backwards_other1[\"time\"] >= 32395500000000) & (forward_180_left_backwards_other1[\"time\"] <= 32399600000000)]\n",
    "f7 =  forward_180_left_backwards_other1[(forward_180_left_backwards_other1[\"time\"] >= 32399600000000) & (forward_180_left_backwards_other1[\"time\"] <= 32403800000000)]\n",
    "f8 =  forward_180_left_backwards_other1[(forward_180_left_backwards_other1[\"time\"] >= 32403800000000) & (forward_180_left_backwards_other1[\"time\"] <= 32408100000000)]\n"
   ]
  },
  {
   "cell_type": "code",
   "execution_count": null,
   "metadata": {},
   "outputs": [],
   "source": [
    "f1 = preprocess(f1, \"backward_180\", 0.8, 0.6)\n",
    "f2 = preprocess(f2, \"backward_180\", 1, 0.7)\n",
    "f3 = preprocess(f3, \"backward_180\", 1.3, 0.6)\n",
    "f4 = preprocess(f4, \"backward_180\", 1.2, 0.6)\n",
    "f5 = preprocess(f5, \"backward_180\", 1.1, 0.7)\n",
    "f6 = preprocess(f6, \"backward_180\", 1.3, 0.6)\n",
    "f7 = preprocess(f7, \"backward_180\", 1.2, 0.7)\n",
    "f8 = preprocess(f8, \"backward_180\", 1.2, 0.7)"
   ]
  },
  {
   "cell_type": "code",
   "execution_count": null,
   "metadata": {},
   "outputs": [],
   "source": [
    "forward_180_left_backwards_other_side_1 = [f1,f2, f3, f4, f5, f6, f7, f8]"
   ]
  },
  {
   "cell_type": "markdown",
   "metadata": {},
   "source": [
    "#### zonder tussenpauzes"
   ]
  },
  {
   "cell_type": "code",
   "execution_count": 70,
   "metadata": {},
   "outputs": [],
   "source": [
    "backward_180_left_lefta = pd.read_csv(\n",
    "    r\"C:\\Users\\Elise\\Documents\\unif\\master\\semester2\\masterproef\\gitProject\\thesis\\data\\forward_180\\proefpersoon1\\backward_180_left_left_tim1.csv\", \n",
    "    sep=';', header=0, skipinitialspace=True)\n"
   ]
  },
  {
   "cell_type": "code",
   "execution_count": 71,
   "metadata": {},
   "outputs": [],
   "source": [
    "backward_180_left_lefta = preprocess(backward_180_left_lefta, \"backward_180\", \"left_left\", 1)"
   ]
  },
  {
   "cell_type": "code",
   "execution_count": 72,
   "metadata": {},
   "outputs": [],
   "source": [
    "backward_180_left_left_1 = [backward_180_left_lefta]"
   ]
  },
  {
   "cell_type": "code",
   "execution_count": 73,
   "metadata": {},
   "outputs": [],
   "source": [
    "for df in backward_180_left_left_1:\n",
    "    f = sampling_freq(df)\n",
    "    freq += f"
   ]
  },
  {
   "cell_type": "markdown",
   "metadata": {},
   "source": [
    "#### backward_180_right_left"
   ]
  },
  {
   "cell_type": "markdown",
   "metadata": {},
   "source": [
    "#### tussenpauze"
   ]
  },
  {
   "cell_type": "code",
   "execution_count": null,
   "metadata": {},
   "outputs": [],
   "source": [
    "#7 SEGMENTEN\n",
    "forward_180_right_backwards_other1 = pd.read_csv(r\"C:\\Users\\Elise\\Documents\\unif\\master\\semester2\\masterproef\\gitProject\\thesis\\data\\forward_180\\proefpersoon1\\forward_180_right_backwards_other_side_tim1.csv\", sep=';', header=0, skipinitialspace=True)\n",
    "#1 SEGMENT\n",
    "forward_180_right_backwards_other2 = pd.read_csv(r\"C:\\Users\\Elise\\Documents\\unif\\master\\semester2\\masterproef\\gitProject\\thesis\\data\\forward_180\\proefpersoon1\\forward_180_right_backwards_other_side_tim2.csv\", sep=';', header=0, skipinitialspace=True)\n"
   ]
  },
  {
   "cell_type": "code",
   "execution_count": null,
   "metadata": {},
   "outputs": [],
   "source": [
    "f1 =  forward_180_right_backwards_other1[forward_180_right_backwards_other1[\"time\"] <= 31867200000000]\n",
    "f2 =  forward_180_right_backwards_other1[(forward_180_right_backwards_other1[\"time\"] >= 31867200000000) & (forward_180_right_backwards_other1[\"time\"] <= 31871500000000)]\n",
    "f3 =  forward_180_right_backwards_other1[(forward_180_right_backwards_other1[\"time\"] >= 31871500000000) & (forward_180_right_backwards_other1[\"time\"] <= 31875700000000)]\n",
    "f4 =  forward_180_right_backwards_other1[(forward_180_right_backwards_other1[\"time\"] >= 31875700000000) & (forward_180_right_backwards_other1[\"time\"] <= 31880400000000)]\n",
    "f5 =  forward_180_right_backwards_other1[(forward_180_right_backwards_other1[\"time\"] >= 31880400000000) & (forward_180_right_backwards_other1[\"time\"] <= 31885400000000)]\n",
    "f6 =  forward_180_right_backwards_other1[(forward_180_right_backwards_other1[\"time\"] >= 31885400000000) & (forward_180_right_backwards_other1[\"time\"] <= 31889600000000)]\n",
    "f7 =  forward_180_right_backwards_other1[forward_180_right_backwards_other1[\"time\"] >= 31889600000000]\n",
    "\n",
    "f8 =  forward_180_right_backwards_other2[forward_180_right_backwards_other2[\"time\"] <= 31918500000000]"
   ]
  },
  {
   "cell_type": "code",
   "execution_count": null,
   "metadata": {},
   "outputs": [],
   "source": [
    "f1 = preprocess(f1, \"backward_180\", 1.8, 0.4)\n",
    "f2 = preprocess(f2, \"backward_180\", 1.2, 0.4)\n",
    "f3 = preprocess(f3, \"backward_180\", 1.2, 0.6)\n",
    "f4 = preprocess(f4, \"backward_180\", 1.2, 0.6)\n",
    "f5 = preprocess(f5, \"backward_180\", 2, 0.6)\n",
    "f6 = preprocess(f6, \"backward_180\", 1.2, 0.6)\n",
    "f7 = preprocess(f7, \"backward_180\", 1.2, 4.8)\n",
    "f8 = preprocess(f8, \"backward_180\", 1.5, 0.5)"
   ]
  },
  {
   "cell_type": "code",
   "execution_count": null,
   "metadata": {},
   "outputs": [],
   "source": [
    "forward_180_right_backwards_other_side_1 = [f1,f2, f3, f4, f5, f6, f7, f8]"
   ]
  },
  {
   "cell_type": "markdown",
   "metadata": {},
   "source": [
    "#### zonder tussenpauzes"
   ]
  },
  {
   "cell_type": "code",
   "execution_count": 74,
   "metadata": {},
   "outputs": [],
   "source": [
    "backward_180_right_lefta = pd.read_csv(\n",
    "    r\"C:\\Users\\Elise\\Documents\\unif\\master\\semester2\\masterproef\\gitProject\\thesis\\data\\forward_180\\proefpersoon1\\backward_180_right_left_tim1.csv\", \n",
    "    sep=';', header=0, skipinitialspace=True)\n",
    "\n",
    "backward_180_right_leftb = pd.read_csv(\n",
    "    r\"C:\\Users\\Elise\\Documents\\unif\\master\\semester2\\masterproef\\gitProject\\thesis\\data\\forward_180\\proefpersoon1\\backward_180_right_left_tim2.csv\", \n",
    "    sep=';', header=0, skipinitialspace=True)"
   ]
  },
  {
   "cell_type": "code",
   "execution_count": 75,
   "metadata": {},
   "outputs": [],
   "source": [
    "backward_180_right_lefta = preprocess(backward_180_right_lefta, \"backward_180\", \"right_left\",1, 3, 4)\n",
    "backward_180_right_leftb = preprocess(backward_180_right_leftb, \"backward_180\", \"right_left\",1)"
   ]
  },
  {
   "cell_type": "code",
   "execution_count": 76,
   "metadata": {},
   "outputs": [],
   "source": [
    "backward_180_right_left_1 = [backward_180_right_lefta, backward_180_right_leftb]"
   ]
  },
  {
   "cell_type": "code",
   "execution_count": 77,
   "metadata": {},
   "outputs": [],
   "source": [
    "for df in backward_180_right_left_1:\n",
    "    f = sampling_freq(df)\n",
    "    freq += f"
   ]
  },
  {
   "cell_type": "markdown",
   "metadata": {},
   "source": [
    "### SEGMENTATION"
   ]
  },
  {
   "cell_type": "code",
   "execution_count": 78,
   "metadata": {},
   "outputs": [],
   "source": [
    "if( not raw):\n",
    "    #segmentation + feature extraction\n",
    "    for i in range(0, len(backward_180_left_right_1)):\n",
    "        backward_180_left_right_1[i] =  feature_extraction_segmentation(backward_180_left_right_1[i],1, True)\n",
    "\n",
    "    for i in range(0, len(backward_180_right_right_1)):\n",
    "        backward_180_right_right_1[i] =  feature_extraction_segmentation(backward_180_right_right_1[i],1, True)\n",
    "\n",
    "    for i in range(0, len(backward_180_left_left_1)):\n",
    "        backward_180_left_left_1[i] =  feature_extraction_segmentation(backward_180_left_left_1[i],1, True)\n",
    "    \n",
    "    for i in range(0, len(backward_180_right_left_1)):\n",
    "        backward_180_right_left_1[i] =  feature_extraction_segmentation(backward_180_right_left_1[i],1, True)"
   ]
  },
  {
   "cell_type": "code",
   "execution_count": 79,
   "metadata": {},
   "outputs": [
    {
     "data": {
      "text/plain": [
       "(2706, 7)"
      ]
     },
     "execution_count": 79,
     "metadata": {},
     "output_type": "execute_result"
    }
   ],
   "source": [
    "backward_180_left_right_1 = pd.concat(backward_180_left_right_1, ignore_index=True)\n",
    "backward_180_left_right_1.shape"
   ]
  },
  {
   "cell_type": "code",
   "execution_count": 80,
   "metadata": {},
   "outputs": [
    {
     "data": {
      "text/plain": [
       "(3226, 7)"
      ]
     },
     "execution_count": 80,
     "metadata": {},
     "output_type": "execute_result"
    }
   ],
   "source": [
    "backward_180_right_right_1 = pd.concat(backward_180_right_right_1, ignore_index=True)\n",
    "backward_180_right_right_1.shape"
   ]
  },
  {
   "cell_type": "code",
   "execution_count": 81,
   "metadata": {},
   "outputs": [
    {
     "data": {
      "text/plain": [
       "(3017, 7)"
      ]
     },
     "execution_count": 81,
     "metadata": {},
     "output_type": "execute_result"
    }
   ],
   "source": [
    "backward_180_left_left_1 = pd.concat(backward_180_left_left_1, ignore_index=True)\n",
    "backward_180_left_left_1.shape"
   ]
  },
  {
   "cell_type": "code",
   "execution_count": 82,
   "metadata": {},
   "outputs": [
    {
     "data": {
      "text/plain": [
       "(3865, 7)"
      ]
     },
     "execution_count": 82,
     "metadata": {},
     "output_type": "execute_result"
    }
   ],
   "source": [
    "backward_180_right_left_1 = pd.concat(backward_180_right_left_1, ignore_index=True)\n",
    "backward_180_right_left_1.shape"
   ]
  },
  {
   "cell_type": "markdown",
   "metadata": {},
   "source": [
    "### SHUFFLE - BALANCING"
   ]
  },
  {
   "cell_type": "code",
   "execution_count": 83,
   "metadata": {},
   "outputs": [
    {
     "data": {
      "text/plain": [
       "2706"
      ]
     },
     "execution_count": 83,
     "metadata": {},
     "output_type": "execute_result"
    }
   ],
   "source": [
    "shape = np.min([\n",
    "    backward_180_left_right_1.shape[0], \n",
    "    backward_180_right_right_1.shape[0], \n",
    "    backward_180_left_left_1.shape[0], \n",
    "    backward_180_right_left_1.shape[0]])\n",
    "shape"
   ]
  },
  {
   "cell_type": "markdown",
   "metadata": {},
   "source": [
    "#### shuffle"
   ]
  },
  {
   "cell_type": "code",
   "execution_count": 29,
   "metadata": {},
   "outputs": [],
   "source": [
    "backward_180_left_right_1 = shuffle(backward_180_left_right_1).head(shape).copy()\n",
    "backward_180_right_right_1 = shuffle(backward_180_right_right_1).head(shape).copy()\n",
    "backward_180_left_left_1 = shuffle(backward_180_left_left_1).head(shape).copy()\n",
    "backward_180_right_left_1 = shuffle(backward_180_right_left_1).head(shape).copy()"
   ]
  },
  {
   "cell_type": "markdown",
   "metadata": {},
   "source": [
    "#### no shuffle"
   ]
  },
  {
   "cell_type": "code",
   "execution_count": 84,
   "metadata": {},
   "outputs": [],
   "source": [
    "backward_180_left_right_1 = backward_180_left_right_1.head(shape).copy()\n",
    "backward_180_right_right_1 = backward_180_right_right_1.head(shape).copy()\n",
    "backward_180_left_left_1 = backward_180_left_left_1.head(shape).copy()\n",
    "backward_180_right_left_1 = backward_180_right_left_1.head(shape).copy()"
   ]
  },
  {
   "cell_type": "code",
   "execution_count": 85,
   "metadata": {},
   "outputs": [],
   "source": [
    "backward_180_1 = pd.concat([backward_180_left_right_1, backward_180_right_right_1, backward_180_left_left_1, backward_180_right_left_1])"
   ]
  },
  {
   "cell_type": "markdown",
   "metadata": {},
   "source": [
    "# <font color='green' >PROEFPERSOON 2"
   ]
  },
  {
   "cell_type": "markdown",
   "metadata": {},
   "source": [
    "## backward 180"
   ]
  },
  {
   "cell_type": "code",
   "execution_count": 86,
   "metadata": {},
   "outputs": [],
   "source": [
    "backward_180_left_right_2 = []\n",
    "backward_180_right_right_2= []\n",
    "backward_180_left_left_2 = []\n",
    "backward_180_right_left_2= []"
   ]
  },
  {
   "cell_type": "markdown",
   "metadata": {},
   "source": [
    "#### backward_180_left_right"
   ]
  },
  {
   "cell_type": "markdown",
   "metadata": {},
   "source": [
    "#### tussenpauze"
   ]
  },
  {
   "cell_type": "code",
   "execution_count": 290,
   "metadata": {},
   "outputs": [],
   "source": [
    "#7 SEGMENTEN\n",
    "forward_180_left_backwards1 = pd.read_csv(r\"C:\\Users\\Elise\\Documents\\unif\\master\\semester2\\masterproef\\gitProject\\thesis\\data\\forward_180\\proefpersoon2\\forward_180_left_backwards1.csv\", sep=';', header=0, skipinitialspace=True)\n",
    "\n",
    "#1 SEGMENT\n",
    "forward_180_left_backwards2 = pd.read_csv(r\"C:\\Users\\Elise\\Documents\\unif\\master\\semester2\\masterproef\\gitProject\\thesis\\data\\forward_180\\proefpersoon2\\forward_180_left_backwards2.csv\", sep=';', header=0, skipinitialspace=True)\n",
    "forward_180_left_backwards3 = pd.read_csv(r\"C:\\Users\\Elise\\Documents\\unif\\master\\semester2\\masterproef\\gitProject\\thesis\\data\\forward_180\\proefpersoon2\\forward_180_left_backwards3.csv\", sep=';', header=0, skipinitialspace=True)"
   ]
  },
  {
   "cell_type": "code",
   "execution_count": 292,
   "metadata": {},
   "outputs": [],
   "source": [
    "f1 =  forward_180_left_backwards1[(forward_180_left_backwards1[\"time\"] <= 11248600000000)]\n",
    "f2 =  forward_180_left_backwards1[(forward_180_left_backwards1[\"time\"] >= 11248600000000) & (forward_180_left_backwards1[\"time\"] <= 11253300000000)]\n",
    "f3 =  forward_180_left_backwards1[(forward_180_left_backwards1[\"time\"] >= 11253300000000) & (forward_180_left_backwards1[\"time\"] <= 11258300000000)]\n",
    "f4 =  forward_180_left_backwards1[(forward_180_left_backwards1[\"time\"] >= 11258300000000) & (forward_180_left_backwards1[\"time\"] <= 11263400000000)]\n",
    "f5 =  forward_180_left_backwards1[(forward_180_left_backwards1[\"time\"] >= 11263400000000) & (forward_180_left_backwards1[\"time\"] <= 11268300000000)]\n",
    "f6 =  forward_180_left_backwards1[(forward_180_left_backwards1[\"time\"] >= 11268300000000) & (forward_180_left_backwards1[\"time\"] <= 11273000000000)]\n",
    "f7 =  forward_180_left_backwards1[(forward_180_left_backwards1[\"time\"] >= 11273000000000)]\n",
    "\n",
    "f8 =  forward_180_left_backwards2[(forward_180_left_backwards2[\"time\"] <= 11287300000000)]"
   ]
  },
  {
   "cell_type": "code",
   "execution_count": 293,
   "metadata": {},
   "outputs": [],
   "source": [
    "f1 = preprocess(f1, \"backward_180\", 1, 0.7)\n",
    "f2 = preprocess(f2, \"backward_180\", 1, 1)\n",
    "f3 = preprocess(f3, \"backward_180\", 1.3, 0.9)\n",
    "f4 = preprocess(f4, \"backward_180\", 1.4, 0.9)\n",
    "f5 = preprocess(f5, \"backward_180\", 1.2, 1)\n",
    "f6 = preprocess(f6, \"backward_180\", 1.1, 1)\n",
    "f7 = preprocess(f7, \"backward_180\", 1.2, 2.4)\n",
    "f8 = preprocess(f8, \"backward_180\", 2, 1.1)"
   ]
  },
  {
   "cell_type": "code",
   "execution_count": 295,
   "metadata": {},
   "outputs": [],
   "source": [
    "forward_180_left_backwards_2 = [f1, f2, f3, f4, f5, f6, f7, f8]"
   ]
  },
  {
   "cell_type": "markdown",
   "metadata": {},
   "source": [
    "#### zonder tussenpauzes"
   ]
  },
  {
   "cell_type": "code",
   "execution_count": 4,
   "metadata": {},
   "outputs": [],
   "source": [
    "backward_180_left_right_2a = pd.read_csv(\n",
    "    r\"C:\\Users\\Elise\\Documents\\unif\\master\\semester2\\masterproef\\gitProject\\thesis\\data\\forward_180\\proefpersoon2\\backward_180_left_right.csv\", \n",
    "    sep=';', header=0, skipinitialspace=True)\n"
   ]
  },
  {
   "cell_type": "code",
   "execution_count": 5,
   "metadata": {},
   "outputs": [
    {
     "data": {
      "application/javascript": [
       "/* Put everything inside the global mpl namespace */\n",
       "window.mpl = {};\n",
       "\n",
       "\n",
       "mpl.get_websocket_type = function() {\n",
       "    if (typeof(WebSocket) !== 'undefined') {\n",
       "        return WebSocket;\n",
       "    } else if (typeof(MozWebSocket) !== 'undefined') {\n",
       "        return MozWebSocket;\n",
       "    } else {\n",
       "        alert('Your browser does not have WebSocket support. ' +\n",
       "              'Please try Chrome, Safari or Firefox ≥ 6. ' +\n",
       "              'Firefox 4 and 5 are also supported but you ' +\n",
       "              'have to enable WebSockets in about:config.');\n",
       "    };\n",
       "}\n",
       "\n",
       "mpl.figure = function(figure_id, websocket, ondownload, parent_element) {\n",
       "    this.id = figure_id;\n",
       "\n",
       "    this.ws = websocket;\n",
       "\n",
       "    this.supports_binary = (this.ws.binaryType != undefined);\n",
       "\n",
       "    if (!this.supports_binary) {\n",
       "        var warnings = document.getElementById(\"mpl-warnings\");\n",
       "        if (warnings) {\n",
       "            warnings.style.display = 'block';\n",
       "            warnings.textContent = (\n",
       "                \"This browser does not support binary websocket messages. \" +\n",
       "                    \"Performance may be slow.\");\n",
       "        }\n",
       "    }\n",
       "\n",
       "    this.imageObj = new Image();\n",
       "\n",
       "    this.context = undefined;\n",
       "    this.message = undefined;\n",
       "    this.canvas = undefined;\n",
       "    this.rubberband_canvas = undefined;\n",
       "    this.rubberband_context = undefined;\n",
       "    this.format_dropdown = undefined;\n",
       "\n",
       "    this.image_mode = 'full';\n",
       "\n",
       "    this.root = $('<div/>');\n",
       "    this._root_extra_style(this.root)\n",
       "    this.root.attr('style', 'display: inline-block');\n",
       "\n",
       "    $(parent_element).append(this.root);\n",
       "\n",
       "    this._init_header(this);\n",
       "    this._init_canvas(this);\n",
       "    this._init_toolbar(this);\n",
       "\n",
       "    var fig = this;\n",
       "\n",
       "    this.waiting = false;\n",
       "\n",
       "    this.ws.onopen =  function () {\n",
       "            fig.send_message(\"supports_binary\", {value: fig.supports_binary});\n",
       "            fig.send_message(\"send_image_mode\", {});\n",
       "            if (mpl.ratio != 1) {\n",
       "                fig.send_message(\"set_dpi_ratio\", {'dpi_ratio': mpl.ratio});\n",
       "            }\n",
       "            fig.send_message(\"refresh\", {});\n",
       "        }\n",
       "\n",
       "    this.imageObj.onload = function() {\n",
       "            if (fig.image_mode == 'full') {\n",
       "                // Full images could contain transparency (where diff images\n",
       "                // almost always do), so we need to clear the canvas so that\n",
       "                // there is no ghosting.\n",
       "                fig.context.clearRect(0, 0, fig.canvas.width, fig.canvas.height);\n",
       "            }\n",
       "            fig.context.drawImage(fig.imageObj, 0, 0);\n",
       "        };\n",
       "\n",
       "    this.imageObj.onunload = function() {\n",
       "        fig.ws.close();\n",
       "    }\n",
       "\n",
       "    this.ws.onmessage = this._make_on_message_function(this);\n",
       "\n",
       "    this.ondownload = ondownload;\n",
       "}\n",
       "\n",
       "mpl.figure.prototype._init_header = function() {\n",
       "    var titlebar = $(\n",
       "        '<div class=\"ui-dialog-titlebar ui-widget-header ui-corner-all ' +\n",
       "        'ui-helper-clearfix\"/>');\n",
       "    var titletext = $(\n",
       "        '<div class=\"ui-dialog-title\" style=\"width: 100%; ' +\n",
       "        'text-align: center; padding: 3px;\"/>');\n",
       "    titlebar.append(titletext)\n",
       "    this.root.append(titlebar);\n",
       "    this.header = titletext[0];\n",
       "}\n",
       "\n",
       "\n",
       "\n",
       "mpl.figure.prototype._canvas_extra_style = function(canvas_div) {\n",
       "\n",
       "}\n",
       "\n",
       "\n",
       "mpl.figure.prototype._root_extra_style = function(canvas_div) {\n",
       "\n",
       "}\n",
       "\n",
       "mpl.figure.prototype._init_canvas = function() {\n",
       "    var fig = this;\n",
       "\n",
       "    var canvas_div = $('<div/>');\n",
       "\n",
       "    canvas_div.attr('style', 'position: relative; clear: both; outline: 0');\n",
       "\n",
       "    function canvas_keyboard_event(event) {\n",
       "        return fig.key_event(event, event['data']);\n",
       "    }\n",
       "\n",
       "    canvas_div.keydown('key_press', canvas_keyboard_event);\n",
       "    canvas_div.keyup('key_release', canvas_keyboard_event);\n",
       "    this.canvas_div = canvas_div\n",
       "    this._canvas_extra_style(canvas_div)\n",
       "    this.root.append(canvas_div);\n",
       "\n",
       "    var canvas = $('<canvas/>');\n",
       "    canvas.addClass('mpl-canvas');\n",
       "    canvas.attr('style', \"left: 0; top: 0; z-index: 0; outline: 0\")\n",
       "\n",
       "    this.canvas = canvas[0];\n",
       "    this.context = canvas[0].getContext(\"2d\");\n",
       "\n",
       "    var backingStore = this.context.backingStorePixelRatio ||\n",
       "\tthis.context.webkitBackingStorePixelRatio ||\n",
       "\tthis.context.mozBackingStorePixelRatio ||\n",
       "\tthis.context.msBackingStorePixelRatio ||\n",
       "\tthis.context.oBackingStorePixelRatio ||\n",
       "\tthis.context.backingStorePixelRatio || 1;\n",
       "\n",
       "    mpl.ratio = (window.devicePixelRatio || 1) / backingStore;\n",
       "\n",
       "    var rubberband = $('<canvas/>');\n",
       "    rubberband.attr('style', \"position: absolute; left: 0; top: 0; z-index: 1;\")\n",
       "\n",
       "    var pass_mouse_events = true;\n",
       "\n",
       "    canvas_div.resizable({\n",
       "        start: function(event, ui) {\n",
       "            pass_mouse_events = false;\n",
       "        },\n",
       "        resize: function(event, ui) {\n",
       "            fig.request_resize(ui.size.width, ui.size.height);\n",
       "        },\n",
       "        stop: function(event, ui) {\n",
       "            pass_mouse_events = true;\n",
       "            fig.request_resize(ui.size.width, ui.size.height);\n",
       "        },\n",
       "    });\n",
       "\n",
       "    function mouse_event_fn(event) {\n",
       "        if (pass_mouse_events)\n",
       "            return fig.mouse_event(event, event['data']);\n",
       "    }\n",
       "\n",
       "    rubberband.mousedown('button_press', mouse_event_fn);\n",
       "    rubberband.mouseup('button_release', mouse_event_fn);\n",
       "    // Throttle sequential mouse events to 1 every 20ms.\n",
       "    rubberband.mousemove('motion_notify', mouse_event_fn);\n",
       "\n",
       "    rubberband.mouseenter('figure_enter', mouse_event_fn);\n",
       "    rubberband.mouseleave('figure_leave', mouse_event_fn);\n",
       "\n",
       "    canvas_div.on(\"wheel\", function (event) {\n",
       "        event = event.originalEvent;\n",
       "        event['data'] = 'scroll'\n",
       "        if (event.deltaY < 0) {\n",
       "            event.step = 1;\n",
       "        } else {\n",
       "            event.step = -1;\n",
       "        }\n",
       "        mouse_event_fn(event);\n",
       "    });\n",
       "\n",
       "    canvas_div.append(canvas);\n",
       "    canvas_div.append(rubberband);\n",
       "\n",
       "    this.rubberband = rubberband;\n",
       "    this.rubberband_canvas = rubberband[0];\n",
       "    this.rubberband_context = rubberband[0].getContext(\"2d\");\n",
       "    this.rubberband_context.strokeStyle = \"#000000\";\n",
       "\n",
       "    this._resize_canvas = function(width, height) {\n",
       "        // Keep the size of the canvas, canvas container, and rubber band\n",
       "        // canvas in synch.\n",
       "        canvas_div.css('width', width)\n",
       "        canvas_div.css('height', height)\n",
       "\n",
       "        canvas.attr('width', width * mpl.ratio);\n",
       "        canvas.attr('height', height * mpl.ratio);\n",
       "        canvas.attr('style', 'width: ' + width + 'px; height: ' + height + 'px;');\n",
       "\n",
       "        rubberband.attr('width', width);\n",
       "        rubberband.attr('height', height);\n",
       "    }\n",
       "\n",
       "    // Set the figure to an initial 600x600px, this will subsequently be updated\n",
       "    // upon first draw.\n",
       "    this._resize_canvas(600, 600);\n",
       "\n",
       "    // Disable right mouse context menu.\n",
       "    $(this.rubberband_canvas).bind(\"contextmenu\",function(e){\n",
       "        return false;\n",
       "    });\n",
       "\n",
       "    function set_focus () {\n",
       "        canvas.focus();\n",
       "        canvas_div.focus();\n",
       "    }\n",
       "\n",
       "    window.setTimeout(set_focus, 100);\n",
       "}\n",
       "\n",
       "mpl.figure.prototype._init_toolbar = function() {\n",
       "    var fig = this;\n",
       "\n",
       "    var nav_element = $('<div/>');\n",
       "    nav_element.attr('style', 'width: 100%');\n",
       "    this.root.append(nav_element);\n",
       "\n",
       "    // Define a callback function for later on.\n",
       "    function toolbar_event(event) {\n",
       "        return fig.toolbar_button_onclick(event['data']);\n",
       "    }\n",
       "    function toolbar_mouse_event(event) {\n",
       "        return fig.toolbar_button_onmouseover(event['data']);\n",
       "    }\n",
       "\n",
       "    for(var toolbar_ind in mpl.toolbar_items) {\n",
       "        var name = mpl.toolbar_items[toolbar_ind][0];\n",
       "        var tooltip = mpl.toolbar_items[toolbar_ind][1];\n",
       "        var image = mpl.toolbar_items[toolbar_ind][2];\n",
       "        var method_name = mpl.toolbar_items[toolbar_ind][3];\n",
       "\n",
       "        if (!name) {\n",
       "            // put a spacer in here.\n",
       "            continue;\n",
       "        }\n",
       "        var button = $('<button/>');\n",
       "        button.addClass('ui-button ui-widget ui-state-default ui-corner-all ' +\n",
       "                        'ui-button-icon-only');\n",
       "        button.attr('role', 'button');\n",
       "        button.attr('aria-disabled', 'false');\n",
       "        button.click(method_name, toolbar_event);\n",
       "        button.mouseover(tooltip, toolbar_mouse_event);\n",
       "\n",
       "        var icon_img = $('<span/>');\n",
       "        icon_img.addClass('ui-button-icon-primary ui-icon');\n",
       "        icon_img.addClass(image);\n",
       "        icon_img.addClass('ui-corner-all');\n",
       "\n",
       "        var tooltip_span = $('<span/>');\n",
       "        tooltip_span.addClass('ui-button-text');\n",
       "        tooltip_span.html(tooltip);\n",
       "\n",
       "        button.append(icon_img);\n",
       "        button.append(tooltip_span);\n",
       "\n",
       "        nav_element.append(button);\n",
       "    }\n",
       "\n",
       "    var fmt_picker_span = $('<span/>');\n",
       "\n",
       "    var fmt_picker = $('<select/>');\n",
       "    fmt_picker.addClass('mpl-toolbar-option ui-widget ui-widget-content');\n",
       "    fmt_picker_span.append(fmt_picker);\n",
       "    nav_element.append(fmt_picker_span);\n",
       "    this.format_dropdown = fmt_picker[0];\n",
       "\n",
       "    for (var ind in mpl.extensions) {\n",
       "        var fmt = mpl.extensions[ind];\n",
       "        var option = $(\n",
       "            '<option/>', {selected: fmt === mpl.default_extension}).html(fmt);\n",
       "        fmt_picker.append(option);\n",
       "    }\n",
       "\n",
       "    // Add hover states to the ui-buttons\n",
       "    $( \".ui-button\" ).hover(\n",
       "        function() { $(this).addClass(\"ui-state-hover\");},\n",
       "        function() { $(this).removeClass(\"ui-state-hover\");}\n",
       "    );\n",
       "\n",
       "    var status_bar = $('<span class=\"mpl-message\"/>');\n",
       "    nav_element.append(status_bar);\n",
       "    this.message = status_bar[0];\n",
       "}\n",
       "\n",
       "mpl.figure.prototype.request_resize = function(x_pixels, y_pixels) {\n",
       "    // Request matplotlib to resize the figure. Matplotlib will then trigger a resize in the client,\n",
       "    // which will in turn request a refresh of the image.\n",
       "    this.send_message('resize', {'width': x_pixels, 'height': y_pixels});\n",
       "}\n",
       "\n",
       "mpl.figure.prototype.send_message = function(type, properties) {\n",
       "    properties['type'] = type;\n",
       "    properties['figure_id'] = this.id;\n",
       "    this.ws.send(JSON.stringify(properties));\n",
       "}\n",
       "\n",
       "mpl.figure.prototype.send_draw_message = function() {\n",
       "    if (!this.waiting) {\n",
       "        this.waiting = true;\n",
       "        this.ws.send(JSON.stringify({type: \"draw\", figure_id: this.id}));\n",
       "    }\n",
       "}\n",
       "\n",
       "\n",
       "mpl.figure.prototype.handle_save = function(fig, msg) {\n",
       "    var format_dropdown = fig.format_dropdown;\n",
       "    var format = format_dropdown.options[format_dropdown.selectedIndex].value;\n",
       "    fig.ondownload(fig, format);\n",
       "}\n",
       "\n",
       "\n",
       "mpl.figure.prototype.handle_resize = function(fig, msg) {\n",
       "    var size = msg['size'];\n",
       "    if (size[0] != fig.canvas.width || size[1] != fig.canvas.height) {\n",
       "        fig._resize_canvas(size[0], size[1]);\n",
       "        fig.send_message(\"refresh\", {});\n",
       "    };\n",
       "}\n",
       "\n",
       "mpl.figure.prototype.handle_rubberband = function(fig, msg) {\n",
       "    var x0 = msg['x0'] / mpl.ratio;\n",
       "    var y0 = (fig.canvas.height - msg['y0']) / mpl.ratio;\n",
       "    var x1 = msg['x1'] / mpl.ratio;\n",
       "    var y1 = (fig.canvas.height - msg['y1']) / mpl.ratio;\n",
       "    x0 = Math.floor(x0) + 0.5;\n",
       "    y0 = Math.floor(y0) + 0.5;\n",
       "    x1 = Math.floor(x1) + 0.5;\n",
       "    y1 = Math.floor(y1) + 0.5;\n",
       "    var min_x = Math.min(x0, x1);\n",
       "    var min_y = Math.min(y0, y1);\n",
       "    var width = Math.abs(x1 - x0);\n",
       "    var height = Math.abs(y1 - y0);\n",
       "\n",
       "    fig.rubberband_context.clearRect(\n",
       "        0, 0, fig.canvas.width / mpl.ratio, fig.canvas.height / mpl.ratio);\n",
       "\n",
       "    fig.rubberband_context.strokeRect(min_x, min_y, width, height);\n",
       "}\n",
       "\n",
       "mpl.figure.prototype.handle_figure_label = function(fig, msg) {\n",
       "    // Updates the figure title.\n",
       "    fig.header.textContent = msg['label'];\n",
       "}\n",
       "\n",
       "mpl.figure.prototype.handle_cursor = function(fig, msg) {\n",
       "    var cursor = msg['cursor'];\n",
       "    switch(cursor)\n",
       "    {\n",
       "    case 0:\n",
       "        cursor = 'pointer';\n",
       "        break;\n",
       "    case 1:\n",
       "        cursor = 'default';\n",
       "        break;\n",
       "    case 2:\n",
       "        cursor = 'crosshair';\n",
       "        break;\n",
       "    case 3:\n",
       "        cursor = 'move';\n",
       "        break;\n",
       "    }\n",
       "    fig.rubberband_canvas.style.cursor = cursor;\n",
       "}\n",
       "\n",
       "mpl.figure.prototype.handle_message = function(fig, msg) {\n",
       "    fig.message.textContent = msg['message'];\n",
       "}\n",
       "\n",
       "mpl.figure.prototype.handle_draw = function(fig, msg) {\n",
       "    // Request the server to send over a new figure.\n",
       "    fig.send_draw_message();\n",
       "}\n",
       "\n",
       "mpl.figure.prototype.handle_image_mode = function(fig, msg) {\n",
       "    fig.image_mode = msg['mode'];\n",
       "}\n",
       "\n",
       "mpl.figure.prototype.updated_canvas_event = function() {\n",
       "    // Called whenever the canvas gets updated.\n",
       "    this.send_message(\"ack\", {});\n",
       "}\n",
       "\n",
       "// A function to construct a web socket function for onmessage handling.\n",
       "// Called in the figure constructor.\n",
       "mpl.figure.prototype._make_on_message_function = function(fig) {\n",
       "    return function socket_on_message(evt) {\n",
       "        if (evt.data instanceof Blob) {\n",
       "            /* FIXME: We get \"Resource interpreted as Image but\n",
       "             * transferred with MIME type text/plain:\" errors on\n",
       "             * Chrome.  But how to set the MIME type?  It doesn't seem\n",
       "             * to be part of the websocket stream */\n",
       "            evt.data.type = \"image/png\";\n",
       "\n",
       "            /* Free the memory for the previous frames */\n",
       "            if (fig.imageObj.src) {\n",
       "                (window.URL || window.webkitURL).revokeObjectURL(\n",
       "                    fig.imageObj.src);\n",
       "            }\n",
       "\n",
       "            fig.imageObj.src = (window.URL || window.webkitURL).createObjectURL(\n",
       "                evt.data);\n",
       "            fig.updated_canvas_event();\n",
       "            fig.waiting = false;\n",
       "            return;\n",
       "        }\n",
       "        else if (typeof evt.data === 'string' && evt.data.slice(0, 21) == \"data:image/png;base64\") {\n",
       "            fig.imageObj.src = evt.data;\n",
       "            fig.updated_canvas_event();\n",
       "            fig.waiting = false;\n",
       "            return;\n",
       "        }\n",
       "\n",
       "        var msg = JSON.parse(evt.data);\n",
       "        var msg_type = msg['type'];\n",
       "\n",
       "        // Call the  \"handle_{type}\" callback, which takes\n",
       "        // the figure and JSON message as its only arguments.\n",
       "        try {\n",
       "            var callback = fig[\"handle_\" + msg_type];\n",
       "        } catch (e) {\n",
       "            console.log(\"No handler for the '\" + msg_type + \"' message type: \", msg);\n",
       "            return;\n",
       "        }\n",
       "\n",
       "        if (callback) {\n",
       "            try {\n",
       "                // console.log(\"Handling '\" + msg_type + \"' message: \", msg);\n",
       "                callback(fig, msg);\n",
       "            } catch (e) {\n",
       "                console.log(\"Exception inside the 'handler_\" + msg_type + \"' callback:\", e, e.stack, msg);\n",
       "            }\n",
       "        }\n",
       "    };\n",
       "}\n",
       "\n",
       "// from http://stackoverflow.com/questions/1114465/getting-mouse-location-in-canvas\n",
       "mpl.findpos = function(e) {\n",
       "    //this section is from http://www.quirksmode.org/js/events_properties.html\n",
       "    var targ;\n",
       "    if (!e)\n",
       "        e = window.event;\n",
       "    if (e.target)\n",
       "        targ = e.target;\n",
       "    else if (e.srcElement)\n",
       "        targ = e.srcElement;\n",
       "    if (targ.nodeType == 3) // defeat Safari bug\n",
       "        targ = targ.parentNode;\n",
       "\n",
       "    // jQuery normalizes the pageX and pageY\n",
       "    // pageX,Y are the mouse positions relative to the document\n",
       "    // offset() returns the position of the element relative to the document\n",
       "    var x = e.pageX - $(targ).offset().left;\n",
       "    var y = e.pageY - $(targ).offset().top;\n",
       "\n",
       "    return {\"x\": x, \"y\": y};\n",
       "};\n",
       "\n",
       "/*\n",
       " * return a copy of an object with only non-object keys\n",
       " * we need this to avoid circular references\n",
       " * http://stackoverflow.com/a/24161582/3208463\n",
       " */\n",
       "function simpleKeys (original) {\n",
       "  return Object.keys(original).reduce(function (obj, key) {\n",
       "    if (typeof original[key] !== 'object')\n",
       "        obj[key] = original[key]\n",
       "    return obj;\n",
       "  }, {});\n",
       "}\n",
       "\n",
       "mpl.figure.prototype.mouse_event = function(event, name) {\n",
       "    var canvas_pos = mpl.findpos(event)\n",
       "\n",
       "    if (name === 'button_press')\n",
       "    {\n",
       "        this.canvas.focus();\n",
       "        this.canvas_div.focus();\n",
       "    }\n",
       "\n",
       "    var x = canvas_pos.x * mpl.ratio;\n",
       "    var y = canvas_pos.y * mpl.ratio;\n",
       "\n",
       "    this.send_message(name, {x: x, y: y, button: event.button,\n",
       "                             step: event.step,\n",
       "                             guiEvent: simpleKeys(event)});\n",
       "\n",
       "    /* This prevents the web browser from automatically changing to\n",
       "     * the text insertion cursor when the button is pressed.  We want\n",
       "     * to control all of the cursor setting manually through the\n",
       "     * 'cursor' event from matplotlib */\n",
       "    event.preventDefault();\n",
       "    return false;\n",
       "}\n",
       "\n",
       "mpl.figure.prototype._key_event_extra = function(event, name) {\n",
       "    // Handle any extra behaviour associated with a key event\n",
       "}\n",
       "\n",
       "mpl.figure.prototype.key_event = function(event, name) {\n",
       "\n",
       "    // Prevent repeat events\n",
       "    if (name == 'key_press')\n",
       "    {\n",
       "        if (event.which === this._key)\n",
       "            return;\n",
       "        else\n",
       "            this._key = event.which;\n",
       "    }\n",
       "    if (name == 'key_release')\n",
       "        this._key = null;\n",
       "\n",
       "    var value = '';\n",
       "    if (event.ctrlKey && event.which != 17)\n",
       "        value += \"ctrl+\";\n",
       "    if (event.altKey && event.which != 18)\n",
       "        value += \"alt+\";\n",
       "    if (event.shiftKey && event.which != 16)\n",
       "        value += \"shift+\";\n",
       "\n",
       "    value += 'k';\n",
       "    value += event.which.toString();\n",
       "\n",
       "    this._key_event_extra(event, name);\n",
       "\n",
       "    this.send_message(name, {key: value,\n",
       "                             guiEvent: simpleKeys(event)});\n",
       "    return false;\n",
       "}\n",
       "\n",
       "mpl.figure.prototype.toolbar_button_onclick = function(name) {\n",
       "    if (name == 'download') {\n",
       "        this.handle_save(this, null);\n",
       "    } else {\n",
       "        this.send_message(\"toolbar_button\", {name: name});\n",
       "    }\n",
       "};\n",
       "\n",
       "mpl.figure.prototype.toolbar_button_onmouseover = function(tooltip) {\n",
       "    this.message.textContent = tooltip;\n",
       "};\n",
       "mpl.toolbar_items = [[\"Home\", \"Reset original view\", \"fa fa-home icon-home\", \"home\"], [\"Back\", \"Back to previous view\", \"fa fa-arrow-left icon-arrow-left\", \"back\"], [\"Forward\", \"Forward to next view\", \"fa fa-arrow-right icon-arrow-right\", \"forward\"], [\"\", \"\", \"\", \"\"], [\"Pan\", \"Pan axes with left mouse, zoom with right\", \"fa fa-arrows icon-move\", \"pan\"], [\"Zoom\", \"Zoom to rectangle\", \"fa fa-square-o icon-check-empty\", \"zoom\"], [\"\", \"\", \"\", \"\"], [\"Download\", \"Download plot\", \"fa fa-floppy-o icon-save\", \"download\"]];\n",
       "\n",
       "mpl.extensions = [\"eps\", \"jpeg\", \"pdf\", \"png\", \"ps\", \"raw\", \"svg\", \"tif\"];\n",
       "\n",
       "mpl.default_extension = \"png\";var comm_websocket_adapter = function(comm) {\n",
       "    // Create a \"websocket\"-like object which calls the given IPython comm\n",
       "    // object with the appropriate methods. Currently this is a non binary\n",
       "    // socket, so there is still some room for performance tuning.\n",
       "    var ws = {};\n",
       "\n",
       "    ws.close = function() {\n",
       "        comm.close()\n",
       "    };\n",
       "    ws.send = function(m) {\n",
       "        //console.log('sending', m);\n",
       "        comm.send(m);\n",
       "    };\n",
       "    // Register the callback with on_msg.\n",
       "    comm.on_msg(function(msg) {\n",
       "        //console.log('receiving', msg['content']['data'], msg);\n",
       "        // Pass the mpl event to the overridden (by mpl) onmessage function.\n",
       "        ws.onmessage(msg['content']['data'])\n",
       "    });\n",
       "    return ws;\n",
       "}\n",
       "\n",
       "mpl.mpl_figure_comm = function(comm, msg) {\n",
       "    // This is the function which gets called when the mpl process\n",
       "    // starts-up an IPython Comm through the \"matplotlib\" channel.\n",
       "\n",
       "    var id = msg.content.data.id;\n",
       "    // Get hold of the div created by the display call when the Comm\n",
       "    // socket was opened in Python.\n",
       "    var element = $(\"#\" + id);\n",
       "    var ws_proxy = comm_websocket_adapter(comm)\n",
       "\n",
       "    function ondownload(figure, format) {\n",
       "        window.open(figure.imageObj.src);\n",
       "    }\n",
       "\n",
       "    var fig = new mpl.figure(id, ws_proxy,\n",
       "                           ondownload,\n",
       "                           element.get(0));\n",
       "\n",
       "    // Call onopen now - mpl needs it, as it is assuming we've passed it a real\n",
       "    // web socket which is closed, not our websocket->open comm proxy.\n",
       "    ws_proxy.onopen();\n",
       "\n",
       "    fig.parent_element = element.get(0);\n",
       "    fig.cell_info = mpl.find_output_cell(\"<div id='\" + id + \"'></div>\");\n",
       "    if (!fig.cell_info) {\n",
       "        console.error(\"Failed to find cell for figure\", id, fig);\n",
       "        return;\n",
       "    }\n",
       "\n",
       "    var output_index = fig.cell_info[2]\n",
       "    var cell = fig.cell_info[0];\n",
       "\n",
       "};\n",
       "\n",
       "mpl.figure.prototype.handle_close = function(fig, msg) {\n",
       "    var width = fig.canvas.width/mpl.ratio\n",
       "    fig.root.unbind('remove')\n",
       "\n",
       "    // Update the output cell to use the data from the current canvas.\n",
       "    fig.push_to_output();\n",
       "    var dataURL = fig.canvas.toDataURL();\n",
       "    // Re-enable the keyboard manager in IPython - without this line, in FF,\n",
       "    // the notebook keyboard shortcuts fail.\n",
       "    IPython.keyboard_manager.enable()\n",
       "    $(fig.parent_element).html('<img src=\"' + dataURL + '\" width=\"' + width + '\">');\n",
       "    fig.close_ws(fig, msg);\n",
       "}\n",
       "\n",
       "mpl.figure.prototype.close_ws = function(fig, msg){\n",
       "    fig.send_message('closing', msg);\n",
       "    // fig.ws.close()\n",
       "}\n",
       "\n",
       "mpl.figure.prototype.push_to_output = function(remove_interactive) {\n",
       "    // Turn the data on the canvas into data in the output cell.\n",
       "    var width = this.canvas.width/mpl.ratio\n",
       "    var dataURL = this.canvas.toDataURL();\n",
       "    this.cell_info[1]['text/html'] = '<img src=\"' + dataURL + '\" width=\"' + width + '\">';\n",
       "}\n",
       "\n",
       "mpl.figure.prototype.updated_canvas_event = function() {\n",
       "    // Tell IPython that the notebook contents must change.\n",
       "    IPython.notebook.set_dirty(true);\n",
       "    this.send_message(\"ack\", {});\n",
       "    var fig = this;\n",
       "    // Wait a second, then push the new image to the DOM so\n",
       "    // that it is saved nicely (might be nice to debounce this).\n",
       "    setTimeout(function () { fig.push_to_output() }, 1000);\n",
       "}\n",
       "\n",
       "mpl.figure.prototype._init_toolbar = function() {\n",
       "    var fig = this;\n",
       "\n",
       "    var nav_element = $('<div/>');\n",
       "    nav_element.attr('style', 'width: 100%');\n",
       "    this.root.append(nav_element);\n",
       "\n",
       "    // Define a callback function for later on.\n",
       "    function toolbar_event(event) {\n",
       "        return fig.toolbar_button_onclick(event['data']);\n",
       "    }\n",
       "    function toolbar_mouse_event(event) {\n",
       "        return fig.toolbar_button_onmouseover(event['data']);\n",
       "    }\n",
       "\n",
       "    for(var toolbar_ind in mpl.toolbar_items){\n",
       "        var name = mpl.toolbar_items[toolbar_ind][0];\n",
       "        var tooltip = mpl.toolbar_items[toolbar_ind][1];\n",
       "        var image = mpl.toolbar_items[toolbar_ind][2];\n",
       "        var method_name = mpl.toolbar_items[toolbar_ind][3];\n",
       "\n",
       "        if (!name) { continue; };\n",
       "\n",
       "        var button = $('<button class=\"btn btn-default\" href=\"#\" title=\"' + name + '\"><i class=\"fa ' + image + ' fa-lg\"></i></button>');\n",
       "        button.click(method_name, toolbar_event);\n",
       "        button.mouseover(tooltip, toolbar_mouse_event);\n",
       "        nav_element.append(button);\n",
       "    }\n",
       "\n",
       "    // Add the status bar.\n",
       "    var status_bar = $('<span class=\"mpl-message\" style=\"text-align:right; float: right;\"/>');\n",
       "    nav_element.append(status_bar);\n",
       "    this.message = status_bar[0];\n",
       "\n",
       "    // Add the close button to the window.\n",
       "    var buttongrp = $('<div class=\"btn-group inline pull-right\"></div>');\n",
       "    var button = $('<button class=\"btn btn-mini btn-primary\" href=\"#\" title=\"Stop Interaction\"><i class=\"fa fa-power-off icon-remove icon-large\"></i></button>');\n",
       "    button.click(function (evt) { fig.handle_close(fig, {}); } );\n",
       "    button.mouseover('Stop Interaction', toolbar_mouse_event);\n",
       "    buttongrp.append(button);\n",
       "    var titlebar = this.root.find($('.ui-dialog-titlebar'));\n",
       "    titlebar.prepend(buttongrp);\n",
       "}\n",
       "\n",
       "mpl.figure.prototype._root_extra_style = function(el){\n",
       "    var fig = this\n",
       "    el.on(\"remove\", function(){\n",
       "\tfig.close_ws(fig, {});\n",
       "    });\n",
       "}\n",
       "\n",
       "mpl.figure.prototype._canvas_extra_style = function(el){\n",
       "    // this is important to make the div 'focusable\n",
       "    el.attr('tabindex', 0)\n",
       "    // reach out to IPython and tell the keyboard manager to turn it's self\n",
       "    // off when our div gets focus\n",
       "\n",
       "    // location in version 3\n",
       "    if (IPython.notebook.keyboard_manager) {\n",
       "        IPython.notebook.keyboard_manager.register_events(el);\n",
       "    }\n",
       "    else {\n",
       "        // location in version 2\n",
       "        IPython.keyboard_manager.register_events(el);\n",
       "    }\n",
       "\n",
       "}\n",
       "\n",
       "mpl.figure.prototype._key_event_extra = function(event, name) {\n",
       "    var manager = IPython.notebook.keyboard_manager;\n",
       "    if (!manager)\n",
       "        manager = IPython.keyboard_manager;\n",
       "\n",
       "    // Check for shift+enter\n",
       "    if (event.shiftKey && event.which == 13) {\n",
       "        this.canvas_div.blur();\n",
       "        // select the cell after this one\n",
       "        var index = IPython.notebook.find_cell_index(this.cell_info[0]);\n",
       "        IPython.notebook.select(index + 1);\n",
       "    }\n",
       "}\n",
       "\n",
       "mpl.figure.prototype.handle_save = function(fig, msg) {\n",
       "    fig.ondownload(fig, null);\n",
       "}\n",
       "\n",
       "\n",
       "mpl.find_output_cell = function(html_output) {\n",
       "    // Return the cell and output element which can be found *uniquely* in the notebook.\n",
       "    // Note - this is a bit hacky, but it is done because the \"notebook_saving.Notebook\"\n",
       "    // IPython event is triggered only after the cells have been serialised, which for\n",
       "    // our purposes (turning an active figure into a static one), is too late.\n",
       "    var cells = IPython.notebook.get_cells();\n",
       "    var ncells = cells.length;\n",
       "    for (var i=0; i<ncells; i++) {\n",
       "        var cell = cells[i];\n",
       "        if (cell.cell_type === 'code'){\n",
       "            for (var j=0; j<cell.output_area.outputs.length; j++) {\n",
       "                var data = cell.output_area.outputs[j];\n",
       "                if (data.data) {\n",
       "                    // IPython >= 3 moved mimebundle to data attribute of output\n",
       "                    data = data.data;\n",
       "                }\n",
       "                if (data['text/html'] == html_output) {\n",
       "                    return [cell, data, j];\n",
       "                }\n",
       "            }\n",
       "        }\n",
       "    }\n",
       "}\n",
       "\n",
       "// Register the function which deals with the matplotlib target/channel.\n",
       "// The kernel may be null if the page has been refreshed.\n",
       "if (IPython.notebook.kernel != null) {\n",
       "    IPython.notebook.kernel.comm_manager.register_target('matplotlib', mpl.mpl_figure_comm);\n",
       "}\n"
      ],
      "text/plain": [
       "<IPython.core.display.Javascript object>"
      ]
     },
     "metadata": {},
     "output_type": "display_data"
    },
    {
     "data": {
      "text/html": [
       "<img src=\"data:image/png;base64,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\" width=\"1200\">"
      ],
      "text/plain": [
       "<IPython.core.display.HTML object>"
      ]
     },
     "metadata": {},
     "output_type": "display_data"
    },
    {
     "data": {
      "text/plain": [
       "array([<matplotlib.axes._subplots.AxesSubplot object at 0x0000020E443C70C8>,\n",
       "       <matplotlib.axes._subplots.AxesSubplot object at 0x0000020E443D4A08>,\n",
       "       <matplotlib.axes._subplots.AxesSubplot object at 0x0000020E4436AA88>],\n",
       "      dtype=object)"
      ]
     },
     "execution_count": 5,
     "metadata": {},
     "output_type": "execute_result"
    }
   ],
   "source": [
    "backward_180_left_right_2a.plot(x='time', subplots=True)"
   ]
  },
  {
   "cell_type": "code",
   "execution_count": 88,
   "metadata": {},
   "outputs": [],
   "source": [
    "backward_180_left_right_2a = preprocess(backward_180_left_right_2a, \"backward_180\", \"left_right\", 2)"
   ]
  },
  {
   "cell_type": "code",
   "execution_count": 89,
   "metadata": {},
   "outputs": [],
   "source": [
    "backward_180_left_right_2 = [backward_180_left_right_2a]"
   ]
  },
  {
   "cell_type": "code",
   "execution_count": 90,
   "metadata": {},
   "outputs": [],
   "source": [
    "for df in backward_180_left_right_2:\n",
    "    f = sampling_freq(df)\n",
    "    freq += f"
   ]
  },
  {
   "cell_type": "markdown",
   "metadata": {},
   "source": [
    "#### zonder tussenpauzes, zonder springen"
   ]
  },
  {
   "cell_type": "code",
   "execution_count": 26,
   "metadata": {},
   "outputs": [],
   "source": [
    "backward_180_nospringa = pd.read_csv(\n",
    "    r\"C:\\Users\\Elise\\Documents\\unif\\master\\semester2\\masterproef\\gitProject\\thesis\\data\\forward_180\\proefpersoon2\\backward_180_left_right_nospring1.csv\", \n",
    "    sep=';', header=0, skipinitialspace=True)"
   ]
  },
  {
   "cell_type": "code",
   "execution_count": 27,
   "metadata": {},
   "outputs": [],
   "source": [
    "backward_180_nospringa = preprocess(backward_180_nospringa, \"backward_180\", \"left_right\",2, 0.8, 2.2)"
   ]
  },
  {
   "cell_type": "code",
   "execution_count": 36,
   "metadata": {},
   "outputs": [],
   "source": [
    "backward_180_left_right_1 = [backward_180_nospringa]"
   ]
  },
  {
   "cell_type": "code",
   "execution_count": 37,
   "metadata": {},
   "outputs": [],
   "source": [
    "for df in backward_180_left_right_1:\n",
    "    f = sampling_freq(df)\n",
    "    freq += f"
   ]
  },
  {
   "cell_type": "markdown",
   "metadata": {},
   "source": [
    "#### backward_180_right_right"
   ]
  },
  {
   "cell_type": "markdown",
   "metadata": {},
   "source": [
    "#### tussenpauzes"
   ]
  },
  {
   "cell_type": "code",
   "execution_count": 297,
   "metadata": {},
   "outputs": [],
   "source": [
    "#4SEGMENTEN\n",
    "forward_180_right_backwards2 = pd.read_csv(r\"C:\\Users\\Elise\\Documents\\unif\\master\\semester2\\masterproef\\gitProject\\thesis\\data\\forward_180\\proefpersoon2\\forward_180_right_backwards2.csv\", sep=';', header=0, skipinitialspace=True)\n",
    "#4 SEGMENTEN\n",
    "forward_180_right_backwards3 = pd.read_csv(r\"C:\\Users\\Elise\\Documents\\unif\\master\\semester2\\masterproef\\gitProject\\thesis\\data\\forward_180\\proefpersoon2\\forward_180_right_backwards3.csv\", sep=';', header=0, skipinitialspace=True)"
   ]
  },
  {
   "cell_type": "code",
   "execution_count": 299,
   "metadata": {},
   "outputs": [],
   "source": [
    "f1 =  forward_180_right_backwards2[(forward_180_right_backwards2[\"time\"] <= 11719400000000)]\n",
    "f2 =  forward_180_right_backwards2[(forward_180_right_backwards2[\"time\"] >= 11719400000000) & (forward_180_right_backwards2[\"time\"] <= 11723600000000)]\n",
    "f3 =  forward_180_right_backwards2[(forward_180_right_backwards2[\"time\"] >= 11723600000000) & (forward_180_right_backwards2[\"time\"] <= 11727900000000)]\n",
    "f4 =  forward_180_right_backwards2[(forward_180_right_backwards2[\"time\"] >= 11727900000000) ]\n",
    "\n",
    "f5 =  forward_180_right_backwards3[(forward_180_right_backwards3[\"time\"] >= 11736100000000) & (forward_180_right_backwards3[\"time\"] <= 11740600000000)]\n",
    "f6 =  forward_180_right_backwards3[(forward_180_right_backwards3[\"time\"] >= 11740600000000) & (forward_180_right_backwards3[\"time\"] <= 11744900000000)]\n",
    "f7 =  forward_180_right_backwards3[(forward_180_right_backwards3[\"time\"] >= 11744900000000) & (forward_180_right_backwards3[\"time\"] <= 11749400000000)]\n",
    "f8 =  forward_180_right_backwards3[(forward_180_right_backwards3[\"time\"] >= 11749400000000) & (forward_180_right_backwards3[\"time\"] <= 11754200000000)]"
   ]
  },
  {
   "cell_type": "code",
   "execution_count": 300,
   "metadata": {},
   "outputs": [],
   "source": [
    "f1 = preprocess(f1, \"backward_180\", 0.2, 0.7)\n",
    "f2 = preprocess(f2, \"backward_180\", 0.7, 1)\n",
    "f3 = preprocess(f3, \"backward_180\", 0.7, 1)\n",
    "f4 = preprocess(f4, \"backward_180\", 0.8, 1.3)\n",
    "f5 = preprocess(f5, \"backward_180\", 1, 1.1)\n",
    "f6 = preprocess(f6, \"backward_180\", 0.9, 0.8)\n",
    "f7 = preprocess(f7, \"backward_180\", 0.8, 1.1)\n",
    "f8 = preprocess(f8, \"backward_180\", 1.3, 1)"
   ]
  },
  {
   "cell_type": "code",
   "execution_count": 302,
   "metadata": {},
   "outputs": [],
   "source": [
    "forward_180_right_backwards_2 = [f1, f2, f3, f4, f5, f6, f7, f8]"
   ]
  },
  {
   "cell_type": "markdown",
   "metadata": {},
   "source": [
    "#### zonder tussenpauzes"
   ]
  },
  {
   "cell_type": "code",
   "execution_count": 91,
   "metadata": {},
   "outputs": [],
   "source": [
    "backward_180_right_right_2a = pd.read_csv(\n",
    "    r\"C:\\Users\\Elise\\Documents\\unif\\master\\semester2\\masterproef\\gitProject\\thesis\\data\\forward_180\\proefpersoon2\\backward_180_right_right1.csv\", \n",
    "    sep=';', header=0, skipinitialspace=True)\n"
   ]
  },
  {
   "cell_type": "code",
   "execution_count": 92,
   "metadata": {},
   "outputs": [],
   "source": [
    "backward_180_right_right_2a = preprocess(backward_180_right_right_2a, \"backward_180\", \"right_right\", 2)"
   ]
  },
  {
   "cell_type": "code",
   "execution_count": 93,
   "metadata": {},
   "outputs": [],
   "source": [
    "backward_180_right_right_2 = [backward_180_right_right_2a]"
   ]
  },
  {
   "cell_type": "code",
   "execution_count": 94,
   "metadata": {},
   "outputs": [],
   "source": [
    "for df in backward_180_right_right_2:\n",
    "    f = sampling_freq(df)\n",
    "    freq += f"
   ]
  },
  {
   "cell_type": "markdown",
   "metadata": {},
   "source": [
    "#### zonder tussenpauzes, zonder springen"
   ]
  },
  {
   "cell_type": "code",
   "execution_count": 22,
   "metadata": {},
   "outputs": [],
   "source": [
    "backward_180_right_right_nospringa = pd.read_csv(\n",
    "    r\"C:\\Users\\Elise\\Documents\\unif\\master\\semester2\\masterproef\\gitProject\\thesis\\data\\forward_180\\proefpersoon2\\backward_180_right_right_nospring_handenbijelkqat.csv\", \n",
    "    sep=';', header=0, skipinitialspace=True)"
   ]
  },
  {
   "cell_type": "code",
   "execution_count": 23,
   "metadata": {},
   "outputs": [],
   "source": [
    "backward_180_right_right_nospringa = preprocess(backward_180_right_right_nospringa, \"backward_180\", \"right_right\",2, 5.5, 6.5)"
   ]
  },
  {
   "cell_type": "code",
   "execution_count": 36,
   "metadata": {},
   "outputs": [],
   "source": [
    "backward_180_right_right_1 = [backward_180_right_right_nospringa]"
   ]
  },
  {
   "cell_type": "code",
   "execution_count": 37,
   "metadata": {},
   "outputs": [],
   "source": [
    "for df in backward_180_right_right_1:\n",
    "    f = sampling_freq(df)\n",
    "    freq += f"
   ]
  },
  {
   "cell_type": "markdown",
   "metadata": {},
   "source": [
    "#### backward_180_left_left"
   ]
  },
  {
   "cell_type": "markdown",
   "metadata": {},
   "source": [
    "#### tussenpauzes"
   ]
  },
  {
   "cell_type": "code",
   "execution_count": 304,
   "metadata": {},
   "outputs": [],
   "source": [
    "#8 SEGMENTEN\n",
    "forward_180_left_otherside1 = pd.read_csv(r\"C:\\Users\\Elise\\Documents\\unif\\master\\semester2\\masterproef\\gitProject\\thesis\\data\\forward_180\\proefpersoon2\\forward_180_left_back_otherside1.csv\", sep=';', header=0, skipinitialspace=True)"
   ]
  },
  {
   "cell_type": "code",
   "execution_count": 306,
   "metadata": {},
   "outputs": [],
   "source": [
    "f1 =  forward_180_left_otherside1[(forward_180_left_otherside1[\"time\"] <= 20761300000000)]\n",
    "f2 =  forward_180_left_otherside1[(forward_180_left_otherside1[\"time\"] >= 20761300000000) & (forward_180_left_otherside1[\"time\"] <= 20766800000000)]\n",
    "f3 =  forward_180_left_otherside1[(forward_180_left_otherside1[\"time\"] >= 20766800000000) & (forward_180_left_otherside1[\"time\"] <= 20772100000000)]\n",
    "f4 =  forward_180_left_otherside1[(forward_180_left_otherside1[\"time\"] >= 20772100000000) & (forward_180_left_otherside1[\"time\"] <= 20777400000000)]\n",
    "f5 =  forward_180_left_otherside1[(forward_180_left_otherside1[\"time\"] >= 20777400000000) & (forward_180_left_otherside1[\"time\"] <= 20782700000000)]\n",
    "f6 =  forward_180_left_otherside1[(forward_180_left_otherside1[\"time\"] >= 20782700000000) & (forward_180_left_otherside1[\"time\"] <= 20787800000000)]\n",
    "f7 =  forward_180_left_otherside1[(forward_180_left_otherside1[\"time\"] >= 20787800000000) & (forward_180_left_otherside1[\"time\"] <= 20793100000000)]\n",
    "f8 =  forward_180_left_otherside1[(forward_180_left_otherside1[\"time\"] >= 20793100000000) & (forward_180_left_otherside1[\"time\"] <= 20798900000000)]"
   ]
  },
  {
   "cell_type": "code",
   "execution_count": 307,
   "metadata": {},
   "outputs": [],
   "source": [
    "f1 = preprocess(f1, \"backward_180\", 1.7, 1.1)\n",
    "f2 = preprocess(f2, \"backward_180\", 1.6, 1.7)\n",
    "f3 = preprocess(f3, \"backward_180\", 1.7, 1.1)\n",
    "f4 = preprocess(f4, \"backward_180\", 1.7, 1.1)\n",
    "f5 = preprocess(f5, \"backward_180\", 1.8, 1.2)\n",
    "f6 = preprocess(f6, \"backward_180\", 1.5, 1.3)\n",
    "f7 = preprocess(f7, \"backward_180\", 1.5, 1.3)\n",
    "f8 = preprocess(f8, \"backward_180\", 1.8, 1.5)"
   ]
  },
  {
   "cell_type": "code",
   "execution_count": 309,
   "metadata": {},
   "outputs": [],
   "source": [
    "forward_180_left_other_side_2 = [f1, f2, f3, f4, f5, f6, f7, f8]"
   ]
  },
  {
   "cell_type": "markdown",
   "metadata": {},
   "source": [
    "#### zonder tussenpauzes"
   ]
  },
  {
   "cell_type": "code",
   "execution_count": 95,
   "metadata": {},
   "outputs": [],
   "source": [
    "backward_180_left_left_2a = pd.read_csv(\n",
    "    r\"C:\\Users\\Elise\\Documents\\unif\\master\\semester2\\masterproef\\gitProject\\thesis\\data\\forward_180\\proefpersoon2\\backward_180_left_left.csv\", \n",
    "    sep=';', header=0, skipinitialspace=True)\n"
   ]
  },
  {
   "cell_type": "code",
   "execution_count": 96,
   "metadata": {},
   "outputs": [],
   "source": [
    "backward_180_left_left_2a = preprocess(backward_180_left_left_2a, \"backward_180\", \"left_left\", 2)"
   ]
  },
  {
   "cell_type": "code",
   "execution_count": 97,
   "metadata": {},
   "outputs": [],
   "source": [
    "backward_180_left_left_2 = [backward_180_left_left_2a]"
   ]
  },
  {
   "cell_type": "code",
   "execution_count": 98,
   "metadata": {},
   "outputs": [],
   "source": [
    "for df in backward_180_left_left_2:\n",
    "    f = sampling_freq(df)\n",
    "    freq += f"
   ]
  },
  {
   "cell_type": "markdown",
   "metadata": {},
   "source": [
    "#### zonder tussenpauzes, zonder springen"
   ]
  },
  {
   "cell_type": "code",
   "execution_count": 46,
   "metadata": {},
   "outputs": [],
   "source": [
    "backward_180_left_left_nospringa = pd.read_csv(\n",
    "    r\"C:\\Users\\Elise\\Documents\\unif\\master\\semester2\\masterproef\\gitProject\\thesis\\data\\forward_180\\proefpersoon2\\backward_180_left_left_nospring.csv\", \n",
    "    sep=';', header=0, skipinitialspace=True)"
   ]
  },
  {
   "cell_type": "code",
   "execution_count": 47,
   "metadata": {},
   "outputs": [],
   "source": [
    "backward_180_left_left_nospringa = preprocess(backward_180_left_left_nospringa, \"backward_180\", \"left_left\",2, 5.3, 5.5)"
   ]
  },
  {
   "cell_type": "code",
   "execution_count": 36,
   "metadata": {},
   "outputs": [],
   "source": [
    "backward_180_left_left_1 = [backward_180_left_left_nospringa]"
   ]
  },
  {
   "cell_type": "code",
   "execution_count": 37,
   "metadata": {},
   "outputs": [],
   "source": [
    "for df in backward_180_left_left_1:\n",
    "    f = sampling_freq(df)\n",
    "    freq += f"
   ]
  },
  {
   "cell_type": "markdown",
   "metadata": {},
   "source": [
    "#### backward_180_right_left_2"
   ]
  },
  {
   "cell_type": "markdown",
   "metadata": {},
   "source": [
    "#### tussenpauzes"
   ]
  },
  {
   "cell_type": "code",
   "execution_count": 311,
   "metadata": {},
   "outputs": [],
   "source": [
    "forward_180_right_otherside1 = pd.read_csv(r\"C:\\Users\\Elise\\Documents\\unif\\master\\semester2\\masterproef\\gitProject\\thesis\\data\\forward_180\\proefpersoon2\\forward_180_right_backwards_otherside.csv\", sep=';', header=0, skipinitialspace=True)"
   ]
  },
  {
   "cell_type": "code",
   "execution_count": 313,
   "metadata": {},
   "outputs": [],
   "source": [
    "f1 =  forward_180_right_otherside1[(forward_180_right_otherside1[\"time\"] <= 21087100000000)]\n",
    "f2 =  forward_180_right_otherside1[(forward_180_right_otherside1[\"time\"] >= 21087100000000) & (forward_180_right_otherside1[\"time\"] <= 21091500000000)]\n",
    "f3 =  forward_180_right_otherside1[(forward_180_right_otherside1[\"time\"] >= 21091500000000) & (forward_180_right_otherside1[\"time\"] <= 21095700000000)]\n",
    "f4 =  forward_180_right_otherside1[(forward_180_right_otherside1[\"time\"] >= 21095700000000) & (forward_180_right_otherside1[\"time\"] <= 21100000000000)]\n",
    "f5 =  forward_180_right_otherside1[(forward_180_right_otherside1[\"time\"] >= 21100000000000) & (forward_180_right_otherside1[\"time\"] <= 21104500000000)]\n",
    "f6 =  forward_180_right_otherside1[(forward_180_right_otherside1[\"time\"] >= 21104500000000) & (forward_180_right_otherside1[\"time\"] <= 21109700000000)]\n",
    "f7 =  forward_180_right_otherside1[(forward_180_right_otherside1[\"time\"] >= 21109700000000) & (forward_180_right_otherside1[\"time\"] <= 21115000000000)]\n",
    "f8 =  forward_180_right_otherside1[(forward_180_right_otherside1[\"time\"] >= 21115000000000) & (forward_180_right_otherside1[\"time\"] <= 21119800000000)]"
   ]
  },
  {
   "cell_type": "code",
   "execution_count": 314,
   "metadata": {},
   "outputs": [],
   "source": [
    "f1 = preprocess(f1, \"backward_180\", 1.3, 0.5)\n",
    "f2 = preprocess(f2, \"backward_180\", 1, 0.7)\n",
    "f3 = preprocess(f3, \"backward_180\", 0.8, 0.7)\n",
    "f4 = preprocess(f4, \"backward_180\", 0.9, 0.7)\n",
    "f5 = preprocess(f5, \"backward_180\", 1, 0.7)\n",
    "f6 = preprocess(f6, \"backward_180\", 0.9, 1.6)\n",
    "f7 = preprocess(f7, \"backward_180\", 1.7, 0.8)\n",
    "f8 = preprocess(f8, \"backward_180\", 1, 0.8)"
   ]
  },
  {
   "cell_type": "code",
   "execution_count": 316,
   "metadata": {},
   "outputs": [],
   "source": [
    "forward_180_right_other_side_2 = [f1, f2, f3, f4, f5, f6, f7, f8]"
   ]
  },
  {
   "cell_type": "markdown",
   "metadata": {},
   "source": [
    "#### zonder tussenpauzes"
   ]
  },
  {
   "cell_type": "code",
   "execution_count": 99,
   "metadata": {},
   "outputs": [],
   "source": [
    "backward_180_right_left_2a = pd.read_csv(\n",
    "    r\"C:\\Users\\Elise\\Documents\\unif\\master\\semester2\\masterproef\\gitProject\\thesis\\data\\forward_180\\proefpersoon2\\backward_180_right_left1.csv\", \n",
    "    sep=';', header=0, skipinitialspace=True)\n"
   ]
  },
  {
   "cell_type": "code",
   "execution_count": 100,
   "metadata": {},
   "outputs": [],
   "source": [
    "backward_180_right_left_2a = preprocess(backward_180_right_left_2a, \"backward_180\", \"right_left\", 2)"
   ]
  },
  {
   "cell_type": "code",
   "execution_count": 101,
   "metadata": {},
   "outputs": [],
   "source": [
    "backward_180_right_left_2 = [backward_180_right_left_2a]"
   ]
  },
  {
   "cell_type": "code",
   "execution_count": 102,
   "metadata": {},
   "outputs": [],
   "source": [
    "for df in backward_180_right_left_2:\n",
    "    f = sampling_freq(df)\n",
    "    freq += f"
   ]
  },
  {
   "cell_type": "markdown",
   "metadata": {},
   "source": [
    "#### zonder tussenpauzes, zonder springen"
   ]
  },
  {
   "cell_type": "code",
   "execution_count": 64,
   "metadata": {},
   "outputs": [],
   "source": [
    "backward_180_right_left_nospringa = pd.read_csv(\n",
    "    r\"C:\\Users\\Elise\\Documents\\unif\\master\\semester2\\masterproef\\gitProject\\thesis\\data\\forward_180\\proefpersoon2\\backward_180_right_left_nospring.csv\", \n",
    "    sep=';', header=0, skipinitialspace=True)"
   ]
  },
  {
   "cell_type": "code",
   "execution_count": 65,
   "metadata": {},
   "outputs": [],
   "source": [
    "backward_180_right_left_nospringa = preprocess(backward_180_right_left_nospringa, \"backward_180\", \"right_left\",2, 4.5, 5)"
   ]
  },
  {
   "cell_type": "code",
   "execution_count": 36,
   "metadata": {},
   "outputs": [],
   "source": [
    "backward_180_right_left_1 = [backward_180_right_left_nospringa]"
   ]
  },
  {
   "cell_type": "code",
   "execution_count": 37,
   "metadata": {},
   "outputs": [],
   "source": [
    "for df in backward_180_right_left_1:\n",
    "    f = sampling_freq(df)\n",
    "    freq += f"
   ]
  },
  {
   "cell_type": "markdown",
   "metadata": {},
   "source": [
    "### SEGMENTATION"
   ]
  },
  {
   "cell_type": "code",
   "execution_count": 103,
   "metadata": {},
   "outputs": [],
   "source": [
    "if( not raw):\n",
    "    #segmentation + feature extraction\n",
    "    for i in range(0, len(backward_180_left_right_2)):\n",
    "        backward_180_left_right_2[i] =  feature_extraction_segmentation(backward_180_left_right_2[i],1, True)\n",
    "\n",
    "    for i in range(0, len(backward_180_right_right_2)):\n",
    "        backward_180_right_right_2[i] =  feature_extraction_segmentation(backward_180_right_right_2[i],1, True)\n",
    "\n",
    "    for i in range(0, len(backward_180_left_left_2)):\n",
    "        backward_180_left_left_2[i] =  feature_extraction_segmentation(backward_180_left_left_2[i],1, True)\n",
    "    \n",
    "    for i in range(0, len(backward_180_right_left_2)):\n",
    "        backward_180_right_left_2[i] =  feature_extraction_segmentation(backward_180_right_left_2[i],1, True)"
   ]
  },
  {
   "cell_type": "code",
   "execution_count": 104,
   "metadata": {},
   "outputs": [
    {
     "data": {
      "text/plain": [
       "(2840, 7)"
      ]
     },
     "execution_count": 104,
     "metadata": {},
     "output_type": "execute_result"
    }
   ],
   "source": [
    "backward_180_left_right_2 = pd.concat(backward_180_left_right_2, ignore_index=True)\n",
    "backward_180_left_right_2.shape"
   ]
  },
  {
   "cell_type": "code",
   "execution_count": 105,
   "metadata": {},
   "outputs": [
    {
     "data": {
      "text/plain": [
       "(3823, 7)"
      ]
     },
     "execution_count": 105,
     "metadata": {},
     "output_type": "execute_result"
    }
   ],
   "source": [
    "backward_180_right_right_2 = pd.concat(backward_180_right_right_2, ignore_index=True)\n",
    "backward_180_right_right_2.shape"
   ]
  },
  {
   "cell_type": "code",
   "execution_count": 106,
   "metadata": {},
   "outputs": [
    {
     "data": {
      "text/plain": [
       "(3036, 7)"
      ]
     },
     "execution_count": 106,
     "metadata": {},
     "output_type": "execute_result"
    }
   ],
   "source": [
    "backward_180_left_left_2 = pd.concat(backward_180_left_left_2, ignore_index=True)\n",
    "backward_180_left_left_2.shape"
   ]
  },
  {
   "cell_type": "code",
   "execution_count": 107,
   "metadata": {},
   "outputs": [
    {
     "data": {
      "text/plain": [
       "(4437, 7)"
      ]
     },
     "execution_count": 107,
     "metadata": {},
     "output_type": "execute_result"
    }
   ],
   "source": [
    "backward_180_right_left_2 = pd.concat(backward_180_right_left_2, ignore_index=True)\n",
    "backward_180_right_left_2.shape"
   ]
  },
  {
   "cell_type": "markdown",
   "metadata": {},
   "source": [
    "### SHUFFLE - BALANCING"
   ]
  },
  {
   "cell_type": "code",
   "execution_count": 108,
   "metadata": {},
   "outputs": [],
   "source": [
    "shape = np.min([\n",
    "    backward_180_left_right_2.shape[0], \n",
    "    backward_180_right_right_2.shape[0], \n",
    "    backward_180_left_left_2.shape[0], \n",
    "    backward_180_right_left_2.shape[0]])"
   ]
  },
  {
   "cell_type": "markdown",
   "metadata": {},
   "source": [
    "#### shuffle"
   ]
  },
  {
   "cell_type": "code",
   "execution_count": 53,
   "metadata": {},
   "outputs": [],
   "source": [
    "backward_180_left_right_2 = shuffle(backward_180_left_right_2).head(shape).copy()\n",
    "backward_180_right_right_2 = shuffle(backward_180_right_right_2).head(shape).copy()\n",
    "backward_180_left_left_2 = shuffle(backward_180_left_left_2).head(shape).copy()\n",
    "backward_180_right_left_2 = shuffle(backward_180_right_left_2).head(shape).copy()"
   ]
  },
  {
   "cell_type": "markdown",
   "metadata": {},
   "source": [
    "#### no shuffle"
   ]
  },
  {
   "cell_type": "code",
   "execution_count": 109,
   "metadata": {},
   "outputs": [],
   "source": [
    "backward_180_left_right_2 = backward_180_left_right_2.head(shape).copy()\n",
    "backward_180_right_right_2 = backward_180_right_right_2.head(shape).copy()\n",
    "backward_180_left_left_2 = backward_180_left_left_2.head(shape).copy()\n",
    "backward_180_right_left_2 = backward_180_right_left_2.head(shape).copy()"
   ]
  },
  {
   "cell_type": "code",
   "execution_count": 110,
   "metadata": {},
   "outputs": [],
   "source": [
    "backward_180_2 = pd.concat([\n",
    "    backward_180_left_right_2, \n",
    "    backward_180_right_right_2, \n",
    "    backward_180_left_left_2, \n",
    "    backward_180_right_left_2])"
   ]
  },
  {
   "cell_type": "markdown",
   "metadata": {},
   "source": [
    "# <font color='green'> Frequency"
   ]
  },
  {
   "cell_type": "code",
   "execution_count": 55,
   "metadata": {},
   "outputs": [
    {
     "data": {
      "text/plain": [
       "8.09065359749383"
      ]
     },
     "execution_count": 55,
     "metadata": {},
     "output_type": "execute_result"
    }
   ],
   "source": [
    "#mean\n",
    "freq = freq/64\n",
    "freq"
   ]
  },
  {
   "cell_type": "markdown",
   "metadata": {},
   "source": [
    "# <font color='green'> Merging datasets"
   ]
  },
  {
   "cell_type": "code",
   "execution_count": 111,
   "metadata": {},
   "outputs": [],
   "source": [
    "shape = np.min([\n",
    "    backward_180_1.shape[0],\n",
    "    backward_180_2.shape[0]\n",
    "])"
   ]
  },
  {
   "cell_type": "markdown",
   "metadata": {},
   "source": [
    "#### shuffle"
   ]
  },
  {
   "cell_type": "code",
   "execution_count": 56,
   "metadata": {},
   "outputs": [
    {
     "data": {
      "text/plain": [
       "(832, 22)"
      ]
     },
     "execution_count": 56,
     "metadata": {},
     "output_type": "execute_result"
    }
   ],
   "source": [
    "dataset = pd.concat([\n",
    "    shuffle(backward_180_1).head(shape),\n",
    "    shuffle(backward_180_2).head(shape)\n",
    "])\n",
    "dataset.shape"
   ]
  },
  {
   "cell_type": "markdown",
   "metadata": {},
   "source": [
    "#### no shuffle"
   ]
  },
  {
   "cell_type": "code",
   "execution_count": 112,
   "metadata": {},
   "outputs": [
    {
     "data": {
      "text/plain": [
       "(21648, 7)"
      ]
     },
     "execution_count": 112,
     "metadata": {},
     "output_type": "execute_result"
    }
   ],
   "source": [
    "dataset = pd.concat([\n",
    "    backward_180_1.head(shape),\n",
    "    backward_180_2.head(shape)\n",
    "])\n",
    "dataset.shape"
   ]
  },
  {
   "cell_type": "code",
   "execution_count": 113,
   "metadata": {},
   "outputs": [],
   "source": [
    "dataset.to_csv(\"backward_180_zonder_pauze_raw.csv\", sep=';')"
   ]
  },
  {
   "cell_type": "code",
   "execution_count": null,
   "metadata": {},
   "outputs": [],
   "source": []
  }
 ],
 "metadata": {
  "kernelspec": {
   "display_name": "Python 3",
   "language": "python",
   "name": "python3"
  },
  "language_info": {
   "codemirror_mode": {
    "name": "ipython",
    "version": 3
   },
   "file_extension": ".py",
   "mimetype": "text/x-python",
   "name": "python",
   "nbconvert_exporter": "python",
   "pygments_lexer": "ipython3",
   "version": "3.7.4"
  }
 },
 "nbformat": 4,
 "nbformat_minor": 2
}
