{
 "cells": [
  {
   "cell_type": "code",
   "execution_count": 1,
   "metadata": {},
   "outputs": [],
   "source": [
    "%matplotlib notebook\n",
    "import pandas as pd\n",
    "import numpy as np\n",
    "import math\n",
    "import statistics\n",
    "from datetime import datetime\n",
    "from sklearn.model_selection import train_test_split\n",
    "from sklearn import preprocessing\n",
    "from sklearn.ensemble import RandomForestClassifier, ExtraTreesClassifier, AdaBoostClassifier\n",
    "from sklearn.model_selection import GridSearchCV\n",
    "from sklearn.linear_model import SGDClassifier\n",
    "from sklearn.naive_bayes import GaussianNB, MultinomialNB\n",
    "from sklearn.neighbors import KNeighborsClassifier\n",
    "from sklearn.svm import SVC, LinearSVC\n",
    "from sklearn import svm\n",
    "from sklearn.neural_network import MLPClassifier\n",
    "from sklearn.metrics import confusion_matrix, classification_report\n",
    "from sklearn.preprocessing import StandardScaler, LabelEncoder, normalize\n",
    "import matplotlib.pyplot as plt\n",
    "import seaborn as sn\n",
    "import matplotlib\n",
    "from mlxtend.plotting import plot_confusion_matrix\n",
    "import warnings\n",
    "from scipy.signal import savgol_filter, find_peaks, correlate\n",
    "from sklearn.decomposition import PCA\n",
    "import scipy.fftpack as FFT\n",
    "from sklearn.utils import shuffle\n",
    "import joblib\n",
    "warnings.filterwarnings('ignore')\n",
    "matplotlib.rcParams['figure.figsize'] = [12,5]"
   ]
  },
  {
   "cell_type": "markdown",
   "metadata": {},
   "source": [
    "## help functions"
   ]
  },
  {
   "cell_type": "code",
   "execution_count": 2,
   "metadata": {},
   "outputs": [],
   "source": [
    "def sampling_freq(df):\n",
    "    start = df['time'].iloc[0]\n",
    "    sum_samples = 0\n",
    "    index = 0\n",
    "    while  (start + pd.to_timedelta(1, unit='s')) < df['time'].iloc[-1]:\n",
    "        end =  start + pd.to_timedelta(1, unit='s')\n",
    "        sum_samples += df[(df['time'] >= start) & (df['time'] < end)].shape[0]\n",
    "        start += pd.to_timedelta(1, unit='s')\n",
    "        index += 1\n",
    "    return sum_samples/index\n",
    "\n",
    "def convert_to_float(x):\n",
    "    try:\n",
    "        return np.float(x)\n",
    "    except:\n",
    "        return np.nan\n",
    "\n",
    "def convert_to_datetime(x):\n",
    "    dt = datetime.fromtimestamp(x // 1000000000)\n",
    "    s = dt.strftime('%Y-%m-%d %H:%M:%S')\n",
    "    s += '.' + str(int(x % 1000000000)).zfill(9)\n",
    "    return s\n",
    "\n",
    "def heatmap(cm, labels):\n",
    "    df_cm = pd.DataFrame(cm, index=labels, columns=labels)\n",
    "    plt.figure(figsize = (10,7))\n",
    "    sn.heatmap(df_cm, annot=True)\n",
    "\n",
    "    plt.show()\n",
    "    \n",
    "def preprocess(data, activity, type_, p, drop_interval_begin = 3, drop_interval_end = 3):\n",
    "    #convert nanoseconds to date \n",
    "    data['time'] = data['time'].apply(convert_to_datetime) \n",
    "    data['time'] = pd.to_datetime(data['time'])\n",
    "\n",
    "#convert to same data type\n",
    "    for i in range(1, 4): \n",
    "        data[column_names_org[i]] = data[column_names_org[i]].apply(convert_to_float)\n",
    "    \n",
    "#drop rows with NaN values \n",
    "    data.dropna(axis=0, how='any', inplace=True) #TODO: invullen met mean, mod of median / interpolatie\n",
    "\n",
    "#drop duplicates \n",
    "    data.drop_duplicates(subset=None, keep='first', inplace = True)\n",
    "    \n",
    "    #drop first and last 3 sec\n",
    "    indexFirst = data[ (data['time'].iloc[0]+ pd.to_timedelta(drop_interval_begin, unit='s')) > data['time'] ].index\n",
    "    data.drop(indexFirst , inplace=True)\n",
    "    indexLast = data[ (data['time'].iloc[-1]- pd.to_timedelta(drop_interval_end, unit='s')) < data['time'] ].index\n",
    "    data.drop(indexLast , inplace=True)\n",
    "    \n",
    "    #add activity label\n",
    "    data['activity'] = activity\n",
    "    data['type'] = type_\n",
    "    data['proefpersoon'] = p\n",
    "    \n",
    "    return data\n",
    "\n",
    "#feature extraction\n",
    "def get_mean_window(df):\n",
    "    return df.mean()\n",
    "\n",
    "def get_min_window(df):\n",
    "    return df.min()\n",
    "\n",
    "def get_max_window(df):\n",
    "    return df.max()\n",
    "\n",
    "def get_std_window(df):\n",
    "    return df.std()\n",
    "\n",
    "def get_med_window(df):\n",
    "    return df.median()\n",
    "\n",
    "#TODO: scipy integrate\n",
    "#TODO: voor elke as apart??\n",
    "#measure of activity level (m/s²)\n",
    "def get_signal_magnitude_area(df):\n",
    "        sum = 0\n",
    "        for i in range(0, len(df)):\n",
    "            sum += (abs(df['x'].iloc[i]) + abs(df['y'].iloc[i]) + abs(df['z'].iloc[i]))\n",
    "        return sum /len(df)\n",
    "    #result = integrate.quad(lambda t: df['x'].apply(lambda n : abs(n)) + df['y'].apply(lambda n : abs(n)) + df['z'].apply(lambda n : abs(n)), 0, len(df))\n",
    "\n",
    "#TODO: voor elke as apart??\n",
    "#degree of movement intensity (m/s²)\n",
    "def get_signal_magnitude_vector(df):\n",
    "    sum = 0\n",
    "    for i in range(0, len(df)):\n",
    "        sum += math.sqrt(df['x'].iloc[i] * df['x'].iloc[i] + df['y'].iloc[i] * df['y'].iloc[i] + df['z'].iloc[i] * df['z'].iloc[i])\n",
    "    return sum\n",
    "\n",
    "#average angle (radian) between accelerometer vector and x as (parallel with arm)\n",
    "def get_tilt_angle(df):\n",
    "    df_cos = pd.DataFrame(columns=[\"tilt_ang\"])\n",
    "    df_dot = df['x']\n",
    "    for i in range(0, len(df)):\n",
    "        s = pd.Series({\"tilt_ang\" : (df_dot.iloc[i])/(math.sqrt(df['x'].iloc[i]*df['x'].iloc[i] + df['y'].iloc[i]*df['y'].iloc[i] + df['z'].iloc[i]*df['z'].iloc[i]))})\n",
    "        df_cos=df_cos.append(s, ignore_index=True)\n",
    "    df_angle = np.arccos(df_cos)\n",
    "    return df_angle.mean()['tilt_ang']\n",
    "\n",
    "def get_power_spectral_density(df):\n",
    "    df_psd = np.abs(df)**2\n",
    "    return df_psd.sum()\n",
    "\n",
    "#TODO: datatype is object en niet compex nr\n",
    "def get_entropy(df):\n",
    "    entropy = []\n",
    "    pdf = df / df.sum()\n",
    "    for i in range (1, len(pdf.columns)):\n",
    "        entropy.append(np.complex(-np.nansum(pdf.iloc[:,i] * np.log2(pdf.iloc[:,i]))))\n",
    "    return entropy\n",
    "\n",
    "#generate windows with 50% overlap\n",
    "def windows(df, time, overlap):\n",
    "    start = df.iloc[0]\n",
    "    while  (start + pd.to_timedelta(time, unit='s')) < df.iloc[-1]:\n",
    "        yield start, (start + pd.to_timedelta(time, unit='s'))\n",
    "        if overlap:\n",
    "            start += pd.to_timedelta(time/2, unit='s')\n",
    "        else:\n",
    "            start += pd.to_timedelta(time, unit='s')\n",
    "    #last samples \n",
    "    yield (df.iloc[-1] - pd.to_timedelta(time, unit='s')), df.iloc[-1]\n",
    "        \n",
    "def feature_extraction_segmentation(data, window, overlap):\n",
    "    column_names = [\"x_mean\", \"y_mean\", \"z_mean\", \"x_min\", \"y_min\", \"z_min\", \"x_max\", \"y_max\", \"z_max\",\n",
    "                \"x_std\", \"y_std\", \"z_std\", \"x_med\", \"y_med\", \"z_med\", \"activity\"]\n",
    "    df = pd.DataFrame(columns = column_names)\n",
    "\n",
    "    for (start, end) in windows(data['time'], window, overlap):\n",
    "        vw1 = data['time'] >= start\n",
    "        vw2 = data['time'] < end\n",
    "        mean = get_mean_window(data[vw1 & vw2])\n",
    "        min = get_min_window(data[vw1 & vw2])\n",
    "        max = get_max_window(data[vw1 & vw2])\n",
    "        std = get_std_window(data[vw1 & vw2])\n",
    "        med = get_med_window(data[vw1 & vw2])\n",
    "        sma = get_signal_magnitude_area(data[vw1 & vw2])\n",
    "        smv = get_signal_magnitude_vector(data[vw1 & vw2])\n",
    "        tilt = get_tilt_angle(data[vw1 & vw2])\n",
    "        #fourrier transform\n",
    "        t_x = data[vw1 & vw2][['time','x']].set_index('time')\n",
    "        t_y = data[vw1 & vw2][['time','y']].set_index('time')\n",
    "        t_z = data[vw1 & vw2][['time', 'z']].set_index('time')\n",
    "\n",
    "        df_f = pd.DataFrame(columns=['f', 'x_f', 'y_f', 'z_f'])\n",
    "\n",
    "    #TODO: determine sampling rate (datapoints per second)\n",
    "        sampling_rate = 52\n",
    "\n",
    "        df_f['x_f'] = FFT.fft(t_x).ravel()\n",
    "        df_f['y_f'] = FFT.fft(t_y).ravel()\n",
    "        df_f['z_f'] = FFT.fft(t_z).ravel()\n",
    "        df_f['f'] = FFT.fftfreq(len(df_f['x_f'])) * sampling_rate\n",
    "\n",
    "        psd = get_power_spectral_density(df_f)\n",
    "        #entropy = get_entropy(df_f)\n",
    "\n",
    "        df = df.append(pd.Series({'x_mean': mean['x'], 'y_mean': mean['y'], 'z_mean': mean['z'], \"x_min\" : min['x'],\n",
    "                              \"y_min\" : min['y'], \"z_min\" : min['z'], \"x_max\" : max['x'], \"y_max\" : max['y'], \"z_max\" : max['z'],\n",
    "                              \"x_std\" : std['x'], \"y_std\" : std['y'], \"z_std\" : std['z'], \"x_med\" : med['x'], \"y_med\" : med['y'], \"z_med\" : med['z'],\n",
    "                              \"sma\" : sma, \"smv\" : smv, \"tilt\" : tilt, \"x_psd\" : psd['x_f'], \"y_psd\" : psd['y_f'], \"z_psd\" : psd['z_f']\n",
    "                              , \"activity\" : data['activity'].iloc[0]}), ignore_index=True) # \"x_entropy\" : entropy[0], \"y_entropy\" : entropy[1], \"z_entropy\" : entropy[2],\n",
    "    return df\n",
    "\n",
    "#3 keer savgol filter uitvoeren met 33,5\n",
    "def get_turns_smooth_side_swing(df):\n",
    "    for i in range(0,5):\n",
    "        df['x'] = savgol_filter(df[ 'x'].to_numpy(), 101, 5)\n",
    "        df['y'] = savgol_filter(df[ 'y'].to_numpy(), 101, 5)\n",
    "        df['z'] = savgol_filter(df[ 'z'].to_numpy(), 101, 5)\n",
    "        df.plot(x='time', subplots=True)\n",
    "\n",
    "    wx = find_peaks(df['x'])\n",
    "    wy = find_peaks(df['y'])\n",
    "    wz = find_peaks(df['z'])\n",
    "    return (len(wx[0]) + len(wy[0]) + len(wz[0]))/3\n",
    "\n",
    "\n",
    "column_names_org = ['time', 'x', 'y', 'z']"
   ]
  },
  {
   "cell_type": "code",
   "execution_count": 3,
   "metadata": {},
   "outputs": [],
   "source": [
    "raw = True\n",
    "freq = 0"
   ]
  },
  {
   "cell_type": "markdown",
   "metadata": {},
   "source": [
    "# <font color='green' >PROEFPERSOON 1"
   ]
  },
  {
   "cell_type": "markdown",
   "metadata": {},
   "source": [
    "## forward 180"
   ]
  },
  {
   "cell_type": "markdown",
   "metadata": {},
   "source": [
    "OPM: window data van 2 verschillende forward 180s => niet realistisch"
   ]
  },
  {
   "cell_type": "code",
   "execution_count": 4,
   "metadata": {},
   "outputs": [],
   "source": [
    "forward_180_left_right_1 = []\n",
    "forward_180_right_right_1 = []\n",
    "forward_180_left_left_1 = []\n",
    "forward_180_right_left_1 = []"
   ]
  },
  {
   "cell_type": "markdown",
   "metadata": {},
   "source": [
    "#### forward_180_left_right"
   ]
  },
  {
   "cell_type": "markdown",
   "metadata": {},
   "source": [
    "#### tussenpauzes"
   ]
  },
  {
   "cell_type": "markdown",
   "metadata": {},
   "source": [
    "<font color='red'>TODO</font>: niet volledig signaal geknipt!"
   ]
  },
  {
   "cell_type": "code",
   "execution_count": 270,
   "metadata": {},
   "outputs": [],
   "source": [
    "forward_180_2 = pd.read_csv(r\"C:\\Users\\Elise\\Documents\\unif\\master\\semester2\\masterproef\\gitProject\\thesis\\data\\forward_180\\proefpersoon1\\forward_180_left_forward_tim.csv\", sep=';', header=0, skipinitialspace=True)\n"
   ]
  },
  {
   "cell_type": "code",
   "execution_count": 271,
   "metadata": {},
   "outputs": [],
   "source": [
    "f1 = forward_180_2[forward_180_2[\"time\"] <= 598031000000]\n",
    "f2 =  forward_180_2[(forward_180_2[\"time\"] >= 598031000000) & (forward_180_2[\"time\"] <= 604000000000)]\n",
    "f3 =  forward_180_2[(forward_180_2[\"time\"] >= 604000000000) & (forward_180_2[\"time\"] <= 610000000000)]\n",
    "f4 =  forward_180_2[(forward_180_2[\"time\"] >= 610000000000) & (forward_180_2[\"time\"] <= 616000000000)]\n",
    "f5 =  forward_180_2[(forward_180_2[\"time\"] >= 616000000000) & (forward_180_2[\"time\"] <= 621300000000)]\n",
    "f6 =  forward_180_2[(forward_180_2[\"time\"] >= 621300000000) & (forward_180_2[\"time\"] <= 627600000000)]\n",
    "f7 =  forward_180_2[(forward_180_2[\"time\"] >= 627600000000) & (forward_180_2[\"time\"] <= 634400000000)]\n",
    "f8 =  forward_180_2[(forward_180_2[\"time\"] >= 634400000000)]"
   ]
  },
  {
   "cell_type": "code",
   "execution_count": 272,
   "metadata": {},
   "outputs": [],
   "source": [
    "f1 = preprocess(f1, \"forward_180\", 0.9, 0.9)\n",
    "f2 = preprocess(f2, \"forward_180\", 1.05, 0.9)\n",
    "f3 = preprocess(f3, \"forward_180\", 1.1, 1)\n",
    "f4 = preprocess(f4, \"forward_180\", 0.9, 1.3)\n",
    "f5 = preprocess(f5, \"forward_180\", 0.95, 0.7)\n",
    "f6 = preprocess(f6, \"forward_180\", 0.8, 1.5)\n",
    "f7 = preprocess(f7, \"forward_180\", 1.8, 1.5)\n",
    "f8 = preprocess(f8, \"forward_180\", 1.1, 3.6)"
   ]
  },
  {
   "cell_type": "code",
   "execution_count": 273,
   "metadata": {},
   "outputs": [],
   "source": [
    "forward_180_left_forward_1 = [f1, f2, f3, f4, f5, f6, f7, f8]"
   ]
  },
  {
   "cell_type": "markdown",
   "metadata": {},
   "source": [
    "#### zonder tussenpauzes"
   ]
  },
  {
   "cell_type": "code",
   "execution_count": 5,
   "metadata": {},
   "outputs": [],
   "source": [
    "forward_180_left_right_1a = pd.read_csv(\n",
    "    r\"C:\\Users\\Elise\\Documents\\unif\\master\\semester2\\masterproef\\gitProject\\thesis\\data\\forward_180\\proefpersoon1\\forward_180_left_right_tim1.csv\", \n",
    "    sep=';', header=0, skipinitialspace=True)"
   ]
  },
  {
   "cell_type": "code",
   "execution_count": 6,
   "metadata": {},
   "outputs": [],
   "source": [
    "forward_180_left_right_1a = preprocess(forward_180_left_right_1a, \"forward_180\", \"left_right\", 1)"
   ]
  },
  {
   "cell_type": "code",
   "execution_count": 7,
   "metadata": {},
   "outputs": [],
   "source": [
    "forward_180_left_right_1 = [forward_180_left_right_1a]"
   ]
  },
  {
   "cell_type": "code",
   "execution_count": 8,
   "metadata": {},
   "outputs": [],
   "source": [
    "for df in forward_180_left_right_1:\n",
    "    f = sampling_freq(df)\n",
    "    freq += f"
   ]
  },
  {
   "cell_type": "markdown",
   "metadata": {},
   "source": [
    "#### forward_180_right_right"
   ]
  },
  {
   "cell_type": "markdown",
   "metadata": {},
   "source": [
    "#### tussenpauzes"
   ]
  },
  {
   "cell_type": "code",
   "execution_count": 4,
   "metadata": {},
   "outputs": [
    {
     "ename": "FileNotFoundError",
     "evalue": "[Errno 2] File b'C:\\\\Users\\\\Elise\\\\Documents\\\\unif\\\\master\\\\semester2\\\\masterproef\\\\gitProject\\\\thesis\\\\data\\\\forward_180\\\\proefpersoon1\\\\forward_180_right_forward_tim.csv' does not exist: b'C:\\\\Users\\\\Elise\\\\Documents\\\\unif\\\\master\\\\semester2\\\\masterproef\\\\gitProject\\\\thesis\\\\data\\\\forward_180\\\\proefpersoon1\\\\forward_180_right_forward_tim.csv'",
     "output_type": "error",
     "traceback": [
      "\u001b[1;31m---------------------------------------------------------------------------\u001b[0m",
      "\u001b[1;31mFileNotFoundError\u001b[0m                         Traceback (most recent call last)",
      "\u001b[1;32m<ipython-input-4-f096d49307bf>\u001b[0m in \u001b[0;36m<module>\u001b[1;34m\u001b[0m\n\u001b[1;32m----> 1\u001b[1;33m \u001b[0mforward_180_right_forward1\u001b[0m \u001b[1;33m=\u001b[0m \u001b[0mpd\u001b[0m\u001b[1;33m.\u001b[0m\u001b[0mread_csv\u001b[0m\u001b[1;33m(\u001b[0m\u001b[1;34mr\"C:\\Users\\Elise\\Documents\\unif\\master\\semester2\\masterproef\\gitProject\\thesis\\data\\forward_180\\proefpersoon1\\forward_180_right_forward_tim.csv\"\u001b[0m\u001b[1;33m,\u001b[0m \u001b[0msep\u001b[0m\u001b[1;33m=\u001b[0m\u001b[1;34m';'\u001b[0m\u001b[1;33m,\u001b[0m \u001b[0mheader\u001b[0m\u001b[1;33m=\u001b[0m\u001b[1;36m0\u001b[0m\u001b[1;33m,\u001b[0m \u001b[0mskipinitialspace\u001b[0m\u001b[1;33m=\u001b[0m\u001b[1;32mTrue\u001b[0m\u001b[1;33m)\u001b[0m\u001b[1;33m\u001b[0m\u001b[1;33m\u001b[0m\u001b[0m\n\u001b[0m",
      "\u001b[1;32m~\\Anaconda3\\lib\\site-packages\\pandas\\io\\parsers.py\u001b[0m in \u001b[0;36mparser_f\u001b[1;34m(filepath_or_buffer, sep, delimiter, header, names, index_col, usecols, squeeze, prefix, mangle_dupe_cols, dtype, engine, converters, true_values, false_values, skipinitialspace, skiprows, skipfooter, nrows, na_values, keep_default_na, na_filter, verbose, skip_blank_lines, parse_dates, infer_datetime_format, keep_date_col, date_parser, dayfirst, cache_dates, iterator, chunksize, compression, thousands, decimal, lineterminator, quotechar, quoting, doublequote, escapechar, comment, encoding, dialect, error_bad_lines, warn_bad_lines, delim_whitespace, low_memory, memory_map, float_precision)\u001b[0m\n\u001b[0;32m    683\u001b[0m         )\n\u001b[0;32m    684\u001b[0m \u001b[1;33m\u001b[0m\u001b[0m\n\u001b[1;32m--> 685\u001b[1;33m         \u001b[1;32mreturn\u001b[0m \u001b[0m_read\u001b[0m\u001b[1;33m(\u001b[0m\u001b[0mfilepath_or_buffer\u001b[0m\u001b[1;33m,\u001b[0m \u001b[0mkwds\u001b[0m\u001b[1;33m)\u001b[0m\u001b[1;33m\u001b[0m\u001b[1;33m\u001b[0m\u001b[0m\n\u001b[0m\u001b[0;32m    686\u001b[0m \u001b[1;33m\u001b[0m\u001b[0m\n\u001b[0;32m    687\u001b[0m     \u001b[0mparser_f\u001b[0m\u001b[1;33m.\u001b[0m\u001b[0m__name__\u001b[0m \u001b[1;33m=\u001b[0m \u001b[0mname\u001b[0m\u001b[1;33m\u001b[0m\u001b[1;33m\u001b[0m\u001b[0m\n",
      "\u001b[1;32m~\\Anaconda3\\lib\\site-packages\\pandas\\io\\parsers.py\u001b[0m in \u001b[0;36m_read\u001b[1;34m(filepath_or_buffer, kwds)\u001b[0m\n\u001b[0;32m    455\u001b[0m \u001b[1;33m\u001b[0m\u001b[0m\n\u001b[0;32m    456\u001b[0m     \u001b[1;31m# Create the parser.\u001b[0m\u001b[1;33m\u001b[0m\u001b[1;33m\u001b[0m\u001b[1;33m\u001b[0m\u001b[0m\n\u001b[1;32m--> 457\u001b[1;33m     \u001b[0mparser\u001b[0m \u001b[1;33m=\u001b[0m \u001b[0mTextFileReader\u001b[0m\u001b[1;33m(\u001b[0m\u001b[0mfp_or_buf\u001b[0m\u001b[1;33m,\u001b[0m \u001b[1;33m**\u001b[0m\u001b[0mkwds\u001b[0m\u001b[1;33m)\u001b[0m\u001b[1;33m\u001b[0m\u001b[1;33m\u001b[0m\u001b[0m\n\u001b[0m\u001b[0;32m    458\u001b[0m \u001b[1;33m\u001b[0m\u001b[0m\n\u001b[0;32m    459\u001b[0m     \u001b[1;32mif\u001b[0m \u001b[0mchunksize\u001b[0m \u001b[1;32mor\u001b[0m \u001b[0miterator\u001b[0m\u001b[1;33m:\u001b[0m\u001b[1;33m\u001b[0m\u001b[1;33m\u001b[0m\u001b[0m\n",
      "\u001b[1;32m~\\Anaconda3\\lib\\site-packages\\pandas\\io\\parsers.py\u001b[0m in \u001b[0;36m__init__\u001b[1;34m(self, f, engine, **kwds)\u001b[0m\n\u001b[0;32m    893\u001b[0m             \u001b[0mself\u001b[0m\u001b[1;33m.\u001b[0m\u001b[0moptions\u001b[0m\u001b[1;33m[\u001b[0m\u001b[1;34m\"has_index_names\"\u001b[0m\u001b[1;33m]\u001b[0m \u001b[1;33m=\u001b[0m \u001b[0mkwds\u001b[0m\u001b[1;33m[\u001b[0m\u001b[1;34m\"has_index_names\"\u001b[0m\u001b[1;33m]\u001b[0m\u001b[1;33m\u001b[0m\u001b[1;33m\u001b[0m\u001b[0m\n\u001b[0;32m    894\u001b[0m \u001b[1;33m\u001b[0m\u001b[0m\n\u001b[1;32m--> 895\u001b[1;33m         \u001b[0mself\u001b[0m\u001b[1;33m.\u001b[0m\u001b[0m_make_engine\u001b[0m\u001b[1;33m(\u001b[0m\u001b[0mself\u001b[0m\u001b[1;33m.\u001b[0m\u001b[0mengine\u001b[0m\u001b[1;33m)\u001b[0m\u001b[1;33m\u001b[0m\u001b[1;33m\u001b[0m\u001b[0m\n\u001b[0m\u001b[0;32m    896\u001b[0m \u001b[1;33m\u001b[0m\u001b[0m\n\u001b[0;32m    897\u001b[0m     \u001b[1;32mdef\u001b[0m \u001b[0mclose\u001b[0m\u001b[1;33m(\u001b[0m\u001b[0mself\u001b[0m\u001b[1;33m)\u001b[0m\u001b[1;33m:\u001b[0m\u001b[1;33m\u001b[0m\u001b[1;33m\u001b[0m\u001b[0m\n",
      "\u001b[1;32m~\\Anaconda3\\lib\\site-packages\\pandas\\io\\parsers.py\u001b[0m in \u001b[0;36m_make_engine\u001b[1;34m(self, engine)\u001b[0m\n\u001b[0;32m   1133\u001b[0m     \u001b[1;32mdef\u001b[0m \u001b[0m_make_engine\u001b[0m\u001b[1;33m(\u001b[0m\u001b[0mself\u001b[0m\u001b[1;33m,\u001b[0m \u001b[0mengine\u001b[0m\u001b[1;33m=\u001b[0m\u001b[1;34m\"c\"\u001b[0m\u001b[1;33m)\u001b[0m\u001b[1;33m:\u001b[0m\u001b[1;33m\u001b[0m\u001b[1;33m\u001b[0m\u001b[0m\n\u001b[0;32m   1134\u001b[0m         \u001b[1;32mif\u001b[0m \u001b[0mengine\u001b[0m \u001b[1;33m==\u001b[0m \u001b[1;34m\"c\"\u001b[0m\u001b[1;33m:\u001b[0m\u001b[1;33m\u001b[0m\u001b[1;33m\u001b[0m\u001b[0m\n\u001b[1;32m-> 1135\u001b[1;33m             \u001b[0mself\u001b[0m\u001b[1;33m.\u001b[0m\u001b[0m_engine\u001b[0m \u001b[1;33m=\u001b[0m \u001b[0mCParserWrapper\u001b[0m\u001b[1;33m(\u001b[0m\u001b[0mself\u001b[0m\u001b[1;33m.\u001b[0m\u001b[0mf\u001b[0m\u001b[1;33m,\u001b[0m \u001b[1;33m**\u001b[0m\u001b[0mself\u001b[0m\u001b[1;33m.\u001b[0m\u001b[0moptions\u001b[0m\u001b[1;33m)\u001b[0m\u001b[1;33m\u001b[0m\u001b[1;33m\u001b[0m\u001b[0m\n\u001b[0m\u001b[0;32m   1136\u001b[0m         \u001b[1;32melse\u001b[0m\u001b[1;33m:\u001b[0m\u001b[1;33m\u001b[0m\u001b[1;33m\u001b[0m\u001b[0m\n\u001b[0;32m   1137\u001b[0m             \u001b[1;32mif\u001b[0m \u001b[0mengine\u001b[0m \u001b[1;33m==\u001b[0m \u001b[1;34m\"python\"\u001b[0m\u001b[1;33m:\u001b[0m\u001b[1;33m\u001b[0m\u001b[1;33m\u001b[0m\u001b[0m\n",
      "\u001b[1;32m~\\Anaconda3\\lib\\site-packages\\pandas\\io\\parsers.py\u001b[0m in \u001b[0;36m__init__\u001b[1;34m(self, src, **kwds)\u001b[0m\n\u001b[0;32m   1915\u001b[0m         \u001b[0mkwds\u001b[0m\u001b[1;33m[\u001b[0m\u001b[1;34m\"usecols\"\u001b[0m\u001b[1;33m]\u001b[0m \u001b[1;33m=\u001b[0m \u001b[0mself\u001b[0m\u001b[1;33m.\u001b[0m\u001b[0musecols\u001b[0m\u001b[1;33m\u001b[0m\u001b[1;33m\u001b[0m\u001b[0m\n\u001b[0;32m   1916\u001b[0m \u001b[1;33m\u001b[0m\u001b[0m\n\u001b[1;32m-> 1917\u001b[1;33m         \u001b[0mself\u001b[0m\u001b[1;33m.\u001b[0m\u001b[0m_reader\u001b[0m \u001b[1;33m=\u001b[0m \u001b[0mparsers\u001b[0m\u001b[1;33m.\u001b[0m\u001b[0mTextReader\u001b[0m\u001b[1;33m(\u001b[0m\u001b[0msrc\u001b[0m\u001b[1;33m,\u001b[0m \u001b[1;33m**\u001b[0m\u001b[0mkwds\u001b[0m\u001b[1;33m)\u001b[0m\u001b[1;33m\u001b[0m\u001b[1;33m\u001b[0m\u001b[0m\n\u001b[0m\u001b[0;32m   1918\u001b[0m         \u001b[0mself\u001b[0m\u001b[1;33m.\u001b[0m\u001b[0munnamed_cols\u001b[0m \u001b[1;33m=\u001b[0m \u001b[0mself\u001b[0m\u001b[1;33m.\u001b[0m\u001b[0m_reader\u001b[0m\u001b[1;33m.\u001b[0m\u001b[0munnamed_cols\u001b[0m\u001b[1;33m\u001b[0m\u001b[1;33m\u001b[0m\u001b[0m\n\u001b[0;32m   1919\u001b[0m \u001b[1;33m\u001b[0m\u001b[0m\n",
      "\u001b[1;32mpandas\\_libs\\parsers.pyx\u001b[0m in \u001b[0;36mpandas._libs.parsers.TextReader.__cinit__\u001b[1;34m()\u001b[0m\n",
      "\u001b[1;32mpandas\\_libs\\parsers.pyx\u001b[0m in \u001b[0;36mpandas._libs.parsers.TextReader._setup_parser_source\u001b[1;34m()\u001b[0m\n",
      "\u001b[1;31mFileNotFoundError\u001b[0m: [Errno 2] File b'C:\\\\Users\\\\Elise\\\\Documents\\\\unif\\\\master\\\\semester2\\\\masterproef\\\\gitProject\\\\thesis\\\\data\\\\forward_180\\\\proefpersoon1\\\\forward_180_right_forward_tim.csv' does not exist: b'C:\\\\Users\\\\Elise\\\\Documents\\\\unif\\\\master\\\\semester2\\\\masterproef\\\\gitProject\\\\thesis\\\\data\\\\forward_180\\\\proefpersoon1\\\\forward_180_right_forward_tim.csv'"
     ]
    }
   ],
   "source": [
    "forward_180_right_forward1 = pd.read_csv(r\"C:\\Users\\Elise\\Documents\\unif\\master\\semester2\\masterproef\\gitProject\\thesis\\data\\forward_180\\proefpersoon1\\forward_180_right_forward_tim.csv\", sep=';', header=0, skipinitialspace=True)"
   ]
  },
  {
   "cell_type": "code",
   "execution_count": 5,
   "metadata": {},
   "outputs": [
    {
     "ename": "NameError",
     "evalue": "name 'forward_180_right_forward1' is not defined",
     "output_type": "error",
     "traceback": [
      "\u001b[1;31m---------------------------------------------------------------------------\u001b[0m",
      "\u001b[1;31mNameError\u001b[0m                                 Traceback (most recent call last)",
      "\u001b[1;32m<ipython-input-5-3b3c9a0f59af>\u001b[0m in \u001b[0;36m<module>\u001b[1;34m\u001b[0m\n\u001b[1;32m----> 1\u001b[1;33m \u001b[0mforward_180_right_forward1\u001b[0m\u001b[1;33m.\u001b[0m\u001b[0mplot\u001b[0m\u001b[1;33m(\u001b[0m\u001b[0mx\u001b[0m\u001b[1;33m=\u001b[0m\u001b[1;34m'time'\u001b[0m\u001b[1;33m,\u001b[0m \u001b[0msubplots\u001b[0m\u001b[1;33m=\u001b[0m\u001b[1;32mTrue\u001b[0m\u001b[1;33m)\u001b[0m\u001b[1;33m\u001b[0m\u001b[1;33m\u001b[0m\u001b[0m\n\u001b[0m",
      "\u001b[1;31mNameError\u001b[0m: name 'forward_180_right_forward1' is not defined"
     ]
    }
   ],
   "source": [
    "forward_180_right_forward1.plot(x='time', subplots=True)"
   ]
  },
  {
   "cell_type": "code",
   "execution_count": 276,
   "metadata": {},
   "outputs": [],
   "source": [
    "f1 = forward_180_right_forward1[forward_180_right_forward1[\"time\"] <= 25443100000000]\n",
    "f2 =  forward_180_right_forward1[(forward_180_right_forward1[\"time\"] >= 25443100000000) & (forward_180_right_forward1[\"time\"] <= 25447700000000)]\n",
    "f3 =  forward_180_right_forward1[(forward_180_right_forward1[\"time\"] >= 25447700000000) & (forward_180_right_forward1[\"time\"] <= 25452500000000)]\n",
    "f4 =  forward_180_right_forward1[(forward_180_right_forward1[\"time\"] >= 25452500000000) & (forward_180_right_forward1[\"time\"] <= 25457600000000)]\n",
    "f5 =  forward_180_right_forward1[(forward_180_right_forward1[\"time\"] >= 25457600000000) & (forward_180_right_forward1[\"time\"] <= 25462400000000)]\n",
    "f6 =  forward_180_right_forward1[(forward_180_right_forward1[\"time\"] >= 25462400000000) & (forward_180_right_forward1[\"time\"] <= 25467200000000)]\n",
    "f7 =  forward_180_right_forward1[(forward_180_right_forward1[\"time\"] >= 25467200000000) & (forward_180_right_forward1[\"time\"] <= 25471900000000)]\n",
    "f8 =  forward_180_right_forward1[(forward_180_right_forward1[\"time\"] >= 25471900000000) & (forward_180_right_forward1[\"time\"] <= 25477000000000)]"
   ]
  },
  {
   "cell_type": "code",
   "execution_count": 277,
   "metadata": {},
   "outputs": [],
   "source": [
    "f1 = preprocess(f1, \"forward_180\", 1.2, 0.3)\n",
    "f2 = preprocess(f2, \"forward_180\", 0.3, 0.3)\n",
    "f3 = preprocess(f3, \"forward_180\", 0.4, 0.3)\n",
    "f4 = preprocess(f4, \"forward_180\", 0.5, 0.5)\n",
    "f5 = preprocess(f5, \"forward_180\", 0.5, 0.3)\n",
    "f6 = preprocess(f6, \"forward_180\", 0.5, 0.4)\n",
    "f7 = preprocess(f7, \"forward_180\", 0.5, 0.3)\n",
    "f8 = preprocess(f8, \"forward_180\", 0.5, 0.4)"
   ]
  },
  {
   "cell_type": "code",
   "execution_count": 278,
   "metadata": {},
   "outputs": [],
   "source": [
    "forward_180_right_forward_1 = [f1, f2, f3, f4, f5, f6, f7, f8]"
   ]
  },
  {
   "cell_type": "markdown",
   "metadata": {},
   "source": [
    "#### zonder tussenpauzes"
   ]
  },
  {
   "cell_type": "code",
   "execution_count": 6,
   "metadata": {},
   "outputs": [],
   "source": [
    "forward_180_right_right_1a = pd.read_csv(\n",
    "    r\"C:\\Users\\Elise\\Documents\\unif\\master\\semester2\\masterproef\\gitProject\\thesis\\data\\forward_180\\proefpersoon1\\forward_180_right_right_tim.csv\", \n",
    "    sep=';', header=0, skipinitialspace=True)"
   ]
  },
  {
   "cell_type": "code",
   "execution_count": 7,
   "metadata": {},
   "outputs": [
    {
     "data": {
      "application/javascript": [
       "/* Put everything inside the global mpl namespace */\n",
       "window.mpl = {};\n",
       "\n",
       "\n",
       "mpl.get_websocket_type = function() {\n",
       "    if (typeof(WebSocket) !== 'undefined') {\n",
       "        return WebSocket;\n",
       "    } else if (typeof(MozWebSocket) !== 'undefined') {\n",
       "        return MozWebSocket;\n",
       "    } else {\n",
       "        alert('Your browser does not have WebSocket support. ' +\n",
       "              'Please try Chrome, Safari or Firefox ≥ 6. ' +\n",
       "              'Firefox 4 and 5 are also supported but you ' +\n",
       "              'have to enable WebSockets in about:config.');\n",
       "    };\n",
       "}\n",
       "\n",
       "mpl.figure = function(figure_id, websocket, ondownload, parent_element) {\n",
       "    this.id = figure_id;\n",
       "\n",
       "    this.ws = websocket;\n",
       "\n",
       "    this.supports_binary = (this.ws.binaryType != undefined);\n",
       "\n",
       "    if (!this.supports_binary) {\n",
       "        var warnings = document.getElementById(\"mpl-warnings\");\n",
       "        if (warnings) {\n",
       "            warnings.style.display = 'block';\n",
       "            warnings.textContent = (\n",
       "                \"This browser does not support binary websocket messages. \" +\n",
       "                    \"Performance may be slow.\");\n",
       "        }\n",
       "    }\n",
       "\n",
       "    this.imageObj = new Image();\n",
       "\n",
       "    this.context = undefined;\n",
       "    this.message = undefined;\n",
       "    this.canvas = undefined;\n",
       "    this.rubberband_canvas = undefined;\n",
       "    this.rubberband_context = undefined;\n",
       "    this.format_dropdown = undefined;\n",
       "\n",
       "    this.image_mode = 'full';\n",
       "\n",
       "    this.root = $('<div/>');\n",
       "    this._root_extra_style(this.root)\n",
       "    this.root.attr('style', 'display: inline-block');\n",
       "\n",
       "    $(parent_element).append(this.root);\n",
       "\n",
       "    this._init_header(this);\n",
       "    this._init_canvas(this);\n",
       "    this._init_toolbar(this);\n",
       "\n",
       "    var fig = this;\n",
       "\n",
       "    this.waiting = false;\n",
       "\n",
       "    this.ws.onopen =  function () {\n",
       "            fig.send_message(\"supports_binary\", {value: fig.supports_binary});\n",
       "            fig.send_message(\"send_image_mode\", {});\n",
       "            if (mpl.ratio != 1) {\n",
       "                fig.send_message(\"set_dpi_ratio\", {'dpi_ratio': mpl.ratio});\n",
       "            }\n",
       "            fig.send_message(\"refresh\", {});\n",
       "        }\n",
       "\n",
       "    this.imageObj.onload = function() {\n",
       "            if (fig.image_mode == 'full') {\n",
       "                // Full images could contain transparency (where diff images\n",
       "                // almost always do), so we need to clear the canvas so that\n",
       "                // there is no ghosting.\n",
       "                fig.context.clearRect(0, 0, fig.canvas.width, fig.canvas.height);\n",
       "            }\n",
       "            fig.context.drawImage(fig.imageObj, 0, 0);\n",
       "        };\n",
       "\n",
       "    this.imageObj.onunload = function() {\n",
       "        fig.ws.close();\n",
       "    }\n",
       "\n",
       "    this.ws.onmessage = this._make_on_message_function(this);\n",
       "\n",
       "    this.ondownload = ondownload;\n",
       "}\n",
       "\n",
       "mpl.figure.prototype._init_header = function() {\n",
       "    var titlebar = $(\n",
       "        '<div class=\"ui-dialog-titlebar ui-widget-header ui-corner-all ' +\n",
       "        'ui-helper-clearfix\"/>');\n",
       "    var titletext = $(\n",
       "        '<div class=\"ui-dialog-title\" style=\"width: 100%; ' +\n",
       "        'text-align: center; padding: 3px;\"/>');\n",
       "    titlebar.append(titletext)\n",
       "    this.root.append(titlebar);\n",
       "    this.header = titletext[0];\n",
       "}\n",
       "\n",
       "\n",
       "\n",
       "mpl.figure.prototype._canvas_extra_style = function(canvas_div) {\n",
       "\n",
       "}\n",
       "\n",
       "\n",
       "mpl.figure.prototype._root_extra_style = function(canvas_div) {\n",
       "\n",
       "}\n",
       "\n",
       "mpl.figure.prototype._init_canvas = function() {\n",
       "    var fig = this;\n",
       "\n",
       "    var canvas_div = $('<div/>');\n",
       "\n",
       "    canvas_div.attr('style', 'position: relative; clear: both; outline: 0');\n",
       "\n",
       "    function canvas_keyboard_event(event) {\n",
       "        return fig.key_event(event, event['data']);\n",
       "    }\n",
       "\n",
       "    canvas_div.keydown('key_press', canvas_keyboard_event);\n",
       "    canvas_div.keyup('key_release', canvas_keyboard_event);\n",
       "    this.canvas_div = canvas_div\n",
       "    this._canvas_extra_style(canvas_div)\n",
       "    this.root.append(canvas_div);\n",
       "\n",
       "    var canvas = $('<canvas/>');\n",
       "    canvas.addClass('mpl-canvas');\n",
       "    canvas.attr('style', \"left: 0; top: 0; z-index: 0; outline: 0\")\n",
       "\n",
       "    this.canvas = canvas[0];\n",
       "    this.context = canvas[0].getContext(\"2d\");\n",
       "\n",
       "    var backingStore = this.context.backingStorePixelRatio ||\n",
       "\tthis.context.webkitBackingStorePixelRatio ||\n",
       "\tthis.context.mozBackingStorePixelRatio ||\n",
       "\tthis.context.msBackingStorePixelRatio ||\n",
       "\tthis.context.oBackingStorePixelRatio ||\n",
       "\tthis.context.backingStorePixelRatio || 1;\n",
       "\n",
       "    mpl.ratio = (window.devicePixelRatio || 1) / backingStore;\n",
       "\n",
       "    var rubberband = $('<canvas/>');\n",
       "    rubberband.attr('style', \"position: absolute; left: 0; top: 0; z-index: 1;\")\n",
       "\n",
       "    var pass_mouse_events = true;\n",
       "\n",
       "    canvas_div.resizable({\n",
       "        start: function(event, ui) {\n",
       "            pass_mouse_events = false;\n",
       "        },\n",
       "        resize: function(event, ui) {\n",
       "            fig.request_resize(ui.size.width, ui.size.height);\n",
       "        },\n",
       "        stop: function(event, ui) {\n",
       "            pass_mouse_events = true;\n",
       "            fig.request_resize(ui.size.width, ui.size.height);\n",
       "        },\n",
       "    });\n",
       "\n",
       "    function mouse_event_fn(event) {\n",
       "        if (pass_mouse_events)\n",
       "            return fig.mouse_event(event, event['data']);\n",
       "    }\n",
       "\n",
       "    rubberband.mousedown('button_press', mouse_event_fn);\n",
       "    rubberband.mouseup('button_release', mouse_event_fn);\n",
       "    // Throttle sequential mouse events to 1 every 20ms.\n",
       "    rubberband.mousemove('motion_notify', mouse_event_fn);\n",
       "\n",
       "    rubberband.mouseenter('figure_enter', mouse_event_fn);\n",
       "    rubberband.mouseleave('figure_leave', mouse_event_fn);\n",
       "\n",
       "    canvas_div.on(\"wheel\", function (event) {\n",
       "        event = event.originalEvent;\n",
       "        event['data'] = 'scroll'\n",
       "        if (event.deltaY < 0) {\n",
       "            event.step = 1;\n",
       "        } else {\n",
       "            event.step = -1;\n",
       "        }\n",
       "        mouse_event_fn(event);\n",
       "    });\n",
       "\n",
       "    canvas_div.append(canvas);\n",
       "    canvas_div.append(rubberband);\n",
       "\n",
       "    this.rubberband = rubberband;\n",
       "    this.rubberband_canvas = rubberband[0];\n",
       "    this.rubberband_context = rubberband[0].getContext(\"2d\");\n",
       "    this.rubberband_context.strokeStyle = \"#000000\";\n",
       "\n",
       "    this._resize_canvas = function(width, height) {\n",
       "        // Keep the size of the canvas, canvas container, and rubber band\n",
       "        // canvas in synch.\n",
       "        canvas_div.css('width', width)\n",
       "        canvas_div.css('height', height)\n",
       "\n",
       "        canvas.attr('width', width * mpl.ratio);\n",
       "        canvas.attr('height', height * mpl.ratio);\n",
       "        canvas.attr('style', 'width: ' + width + 'px; height: ' + height + 'px;');\n",
       "\n",
       "        rubberband.attr('width', width);\n",
       "        rubberband.attr('height', height);\n",
       "    }\n",
       "\n",
       "    // Set the figure to an initial 600x600px, this will subsequently be updated\n",
       "    // upon first draw.\n",
       "    this._resize_canvas(600, 600);\n",
       "\n",
       "    // Disable right mouse context menu.\n",
       "    $(this.rubberband_canvas).bind(\"contextmenu\",function(e){\n",
       "        return false;\n",
       "    });\n",
       "\n",
       "    function set_focus () {\n",
       "        canvas.focus();\n",
       "        canvas_div.focus();\n",
       "    }\n",
       "\n",
       "    window.setTimeout(set_focus, 100);\n",
       "}\n",
       "\n",
       "mpl.figure.prototype._init_toolbar = function() {\n",
       "    var fig = this;\n",
       "\n",
       "    var nav_element = $('<div/>');\n",
       "    nav_element.attr('style', 'width: 100%');\n",
       "    this.root.append(nav_element);\n",
       "\n",
       "    // Define a callback function for later on.\n",
       "    function toolbar_event(event) {\n",
       "        return fig.toolbar_button_onclick(event['data']);\n",
       "    }\n",
       "    function toolbar_mouse_event(event) {\n",
       "        return fig.toolbar_button_onmouseover(event['data']);\n",
       "    }\n",
       "\n",
       "    for(var toolbar_ind in mpl.toolbar_items) {\n",
       "        var name = mpl.toolbar_items[toolbar_ind][0];\n",
       "        var tooltip = mpl.toolbar_items[toolbar_ind][1];\n",
       "        var image = mpl.toolbar_items[toolbar_ind][2];\n",
       "        var method_name = mpl.toolbar_items[toolbar_ind][3];\n",
       "\n",
       "        if (!name) {\n",
       "            // put a spacer in here.\n",
       "            continue;\n",
       "        }\n",
       "        var button = $('<button/>');\n",
       "        button.addClass('ui-button ui-widget ui-state-default ui-corner-all ' +\n",
       "                        'ui-button-icon-only');\n",
       "        button.attr('role', 'button');\n",
       "        button.attr('aria-disabled', 'false');\n",
       "        button.click(method_name, toolbar_event);\n",
       "        button.mouseover(tooltip, toolbar_mouse_event);\n",
       "\n",
       "        var icon_img = $('<span/>');\n",
       "        icon_img.addClass('ui-button-icon-primary ui-icon');\n",
       "        icon_img.addClass(image);\n",
       "        icon_img.addClass('ui-corner-all');\n",
       "\n",
       "        var tooltip_span = $('<span/>');\n",
       "        tooltip_span.addClass('ui-button-text');\n",
       "        tooltip_span.html(tooltip);\n",
       "\n",
       "        button.append(icon_img);\n",
       "        button.append(tooltip_span);\n",
       "\n",
       "        nav_element.append(button);\n",
       "    }\n",
       "\n",
       "    var fmt_picker_span = $('<span/>');\n",
       "\n",
       "    var fmt_picker = $('<select/>');\n",
       "    fmt_picker.addClass('mpl-toolbar-option ui-widget ui-widget-content');\n",
       "    fmt_picker_span.append(fmt_picker);\n",
       "    nav_element.append(fmt_picker_span);\n",
       "    this.format_dropdown = fmt_picker[0];\n",
       "\n",
       "    for (var ind in mpl.extensions) {\n",
       "        var fmt = mpl.extensions[ind];\n",
       "        var option = $(\n",
       "            '<option/>', {selected: fmt === mpl.default_extension}).html(fmt);\n",
       "        fmt_picker.append(option);\n",
       "    }\n",
       "\n",
       "    // Add hover states to the ui-buttons\n",
       "    $( \".ui-button\" ).hover(\n",
       "        function() { $(this).addClass(\"ui-state-hover\");},\n",
       "        function() { $(this).removeClass(\"ui-state-hover\");}\n",
       "    );\n",
       "\n",
       "    var status_bar = $('<span class=\"mpl-message\"/>');\n",
       "    nav_element.append(status_bar);\n",
       "    this.message = status_bar[0];\n",
       "}\n",
       "\n",
       "mpl.figure.prototype.request_resize = function(x_pixels, y_pixels) {\n",
       "    // Request matplotlib to resize the figure. Matplotlib will then trigger a resize in the client,\n",
       "    // which will in turn request a refresh of the image.\n",
       "    this.send_message('resize', {'width': x_pixels, 'height': y_pixels});\n",
       "}\n",
       "\n",
       "mpl.figure.prototype.send_message = function(type, properties) {\n",
       "    properties['type'] = type;\n",
       "    properties['figure_id'] = this.id;\n",
       "    this.ws.send(JSON.stringify(properties));\n",
       "}\n",
       "\n",
       "mpl.figure.prototype.send_draw_message = function() {\n",
       "    if (!this.waiting) {\n",
       "        this.waiting = true;\n",
       "        this.ws.send(JSON.stringify({type: \"draw\", figure_id: this.id}));\n",
       "    }\n",
       "}\n",
       "\n",
       "\n",
       "mpl.figure.prototype.handle_save = function(fig, msg) {\n",
       "    var format_dropdown = fig.format_dropdown;\n",
       "    var format = format_dropdown.options[format_dropdown.selectedIndex].value;\n",
       "    fig.ondownload(fig, format);\n",
       "}\n",
       "\n",
       "\n",
       "mpl.figure.prototype.handle_resize = function(fig, msg) {\n",
       "    var size = msg['size'];\n",
       "    if (size[0] != fig.canvas.width || size[1] != fig.canvas.height) {\n",
       "        fig._resize_canvas(size[0], size[1]);\n",
       "        fig.send_message(\"refresh\", {});\n",
       "    };\n",
       "}\n",
       "\n",
       "mpl.figure.prototype.handle_rubberband = function(fig, msg) {\n",
       "    var x0 = msg['x0'] / mpl.ratio;\n",
       "    var y0 = (fig.canvas.height - msg['y0']) / mpl.ratio;\n",
       "    var x1 = msg['x1'] / mpl.ratio;\n",
       "    var y1 = (fig.canvas.height - msg['y1']) / mpl.ratio;\n",
       "    x0 = Math.floor(x0) + 0.5;\n",
       "    y0 = Math.floor(y0) + 0.5;\n",
       "    x1 = Math.floor(x1) + 0.5;\n",
       "    y1 = Math.floor(y1) + 0.5;\n",
       "    var min_x = Math.min(x0, x1);\n",
       "    var min_y = Math.min(y0, y1);\n",
       "    var width = Math.abs(x1 - x0);\n",
       "    var height = Math.abs(y1 - y0);\n",
       "\n",
       "    fig.rubberband_context.clearRect(\n",
       "        0, 0, fig.canvas.width / mpl.ratio, fig.canvas.height / mpl.ratio);\n",
       "\n",
       "    fig.rubberband_context.strokeRect(min_x, min_y, width, height);\n",
       "}\n",
       "\n",
       "mpl.figure.prototype.handle_figure_label = function(fig, msg) {\n",
       "    // Updates the figure title.\n",
       "    fig.header.textContent = msg['label'];\n",
       "}\n",
       "\n",
       "mpl.figure.prototype.handle_cursor = function(fig, msg) {\n",
       "    var cursor = msg['cursor'];\n",
       "    switch(cursor)\n",
       "    {\n",
       "    case 0:\n",
       "        cursor = 'pointer';\n",
       "        break;\n",
       "    case 1:\n",
       "        cursor = 'default';\n",
       "        break;\n",
       "    case 2:\n",
       "        cursor = 'crosshair';\n",
       "        break;\n",
       "    case 3:\n",
       "        cursor = 'move';\n",
       "        break;\n",
       "    }\n",
       "    fig.rubberband_canvas.style.cursor = cursor;\n",
       "}\n",
       "\n",
       "mpl.figure.prototype.handle_message = function(fig, msg) {\n",
       "    fig.message.textContent = msg['message'];\n",
       "}\n",
       "\n",
       "mpl.figure.prototype.handle_draw = function(fig, msg) {\n",
       "    // Request the server to send over a new figure.\n",
       "    fig.send_draw_message();\n",
       "}\n",
       "\n",
       "mpl.figure.prototype.handle_image_mode = function(fig, msg) {\n",
       "    fig.image_mode = msg['mode'];\n",
       "}\n",
       "\n",
       "mpl.figure.prototype.updated_canvas_event = function() {\n",
       "    // Called whenever the canvas gets updated.\n",
       "    this.send_message(\"ack\", {});\n",
       "}\n",
       "\n",
       "// A function to construct a web socket function for onmessage handling.\n",
       "// Called in the figure constructor.\n",
       "mpl.figure.prototype._make_on_message_function = function(fig) {\n",
       "    return function socket_on_message(evt) {\n",
       "        if (evt.data instanceof Blob) {\n",
       "            /* FIXME: We get \"Resource interpreted as Image but\n",
       "             * transferred with MIME type text/plain:\" errors on\n",
       "             * Chrome.  But how to set the MIME type?  It doesn't seem\n",
       "             * to be part of the websocket stream */\n",
       "            evt.data.type = \"image/png\";\n",
       "\n",
       "            /* Free the memory for the previous frames */\n",
       "            if (fig.imageObj.src) {\n",
       "                (window.URL || window.webkitURL).revokeObjectURL(\n",
       "                    fig.imageObj.src);\n",
       "            }\n",
       "\n",
       "            fig.imageObj.src = (window.URL || window.webkitURL).createObjectURL(\n",
       "                evt.data);\n",
       "            fig.updated_canvas_event();\n",
       "            fig.waiting = false;\n",
       "            return;\n",
       "        }\n",
       "        else if (typeof evt.data === 'string' && evt.data.slice(0, 21) == \"data:image/png;base64\") {\n",
       "            fig.imageObj.src = evt.data;\n",
       "            fig.updated_canvas_event();\n",
       "            fig.waiting = false;\n",
       "            return;\n",
       "        }\n",
       "\n",
       "        var msg = JSON.parse(evt.data);\n",
       "        var msg_type = msg['type'];\n",
       "\n",
       "        // Call the  \"handle_{type}\" callback, which takes\n",
       "        // the figure and JSON message as its only arguments.\n",
       "        try {\n",
       "            var callback = fig[\"handle_\" + msg_type];\n",
       "        } catch (e) {\n",
       "            console.log(\"No handler for the '\" + msg_type + \"' message type: \", msg);\n",
       "            return;\n",
       "        }\n",
       "\n",
       "        if (callback) {\n",
       "            try {\n",
       "                // console.log(\"Handling '\" + msg_type + \"' message: \", msg);\n",
       "                callback(fig, msg);\n",
       "            } catch (e) {\n",
       "                console.log(\"Exception inside the 'handler_\" + msg_type + \"' callback:\", e, e.stack, msg);\n",
       "            }\n",
       "        }\n",
       "    };\n",
       "}\n",
       "\n",
       "// from http://stackoverflow.com/questions/1114465/getting-mouse-location-in-canvas\n",
       "mpl.findpos = function(e) {\n",
       "    //this section is from http://www.quirksmode.org/js/events_properties.html\n",
       "    var targ;\n",
       "    if (!e)\n",
       "        e = window.event;\n",
       "    if (e.target)\n",
       "        targ = e.target;\n",
       "    else if (e.srcElement)\n",
       "        targ = e.srcElement;\n",
       "    if (targ.nodeType == 3) // defeat Safari bug\n",
       "        targ = targ.parentNode;\n",
       "\n",
       "    // jQuery normalizes the pageX and pageY\n",
       "    // pageX,Y are the mouse positions relative to the document\n",
       "    // offset() returns the position of the element relative to the document\n",
       "    var x = e.pageX - $(targ).offset().left;\n",
       "    var y = e.pageY - $(targ).offset().top;\n",
       "\n",
       "    return {\"x\": x, \"y\": y};\n",
       "};\n",
       "\n",
       "/*\n",
       " * return a copy of an object with only non-object keys\n",
       " * we need this to avoid circular references\n",
       " * http://stackoverflow.com/a/24161582/3208463\n",
       " */\n",
       "function simpleKeys (original) {\n",
       "  return Object.keys(original).reduce(function (obj, key) {\n",
       "    if (typeof original[key] !== 'object')\n",
       "        obj[key] = original[key]\n",
       "    return obj;\n",
       "  }, {});\n",
       "}\n",
       "\n",
       "mpl.figure.prototype.mouse_event = function(event, name) {\n",
       "    var canvas_pos = mpl.findpos(event)\n",
       "\n",
       "    if (name === 'button_press')\n",
       "    {\n",
       "        this.canvas.focus();\n",
       "        this.canvas_div.focus();\n",
       "    }\n",
       "\n",
       "    var x = canvas_pos.x * mpl.ratio;\n",
       "    var y = canvas_pos.y * mpl.ratio;\n",
       "\n",
       "    this.send_message(name, {x: x, y: y, button: event.button,\n",
       "                             step: event.step,\n",
       "                             guiEvent: simpleKeys(event)});\n",
       "\n",
       "    /* This prevents the web browser from automatically changing to\n",
       "     * the text insertion cursor when the button is pressed.  We want\n",
       "     * to control all of the cursor setting manually through the\n",
       "     * 'cursor' event from matplotlib */\n",
       "    event.preventDefault();\n",
       "    return false;\n",
       "}\n",
       "\n",
       "mpl.figure.prototype._key_event_extra = function(event, name) {\n",
       "    // Handle any extra behaviour associated with a key event\n",
       "}\n",
       "\n",
       "mpl.figure.prototype.key_event = function(event, name) {\n",
       "\n",
       "    // Prevent repeat events\n",
       "    if (name == 'key_press')\n",
       "    {\n",
       "        if (event.which === this._key)\n",
       "            return;\n",
       "        else\n",
       "            this._key = event.which;\n",
       "    }\n",
       "    if (name == 'key_release')\n",
       "        this._key = null;\n",
       "\n",
       "    var value = '';\n",
       "    if (event.ctrlKey && event.which != 17)\n",
       "        value += \"ctrl+\";\n",
       "    if (event.altKey && event.which != 18)\n",
       "        value += \"alt+\";\n",
       "    if (event.shiftKey && event.which != 16)\n",
       "        value += \"shift+\";\n",
       "\n",
       "    value += 'k';\n",
       "    value += event.which.toString();\n",
       "\n",
       "    this._key_event_extra(event, name);\n",
       "\n",
       "    this.send_message(name, {key: value,\n",
       "                             guiEvent: simpleKeys(event)});\n",
       "    return false;\n",
       "}\n",
       "\n",
       "mpl.figure.prototype.toolbar_button_onclick = function(name) {\n",
       "    if (name == 'download') {\n",
       "        this.handle_save(this, null);\n",
       "    } else {\n",
       "        this.send_message(\"toolbar_button\", {name: name});\n",
       "    }\n",
       "};\n",
       "\n",
       "mpl.figure.prototype.toolbar_button_onmouseover = function(tooltip) {\n",
       "    this.message.textContent = tooltip;\n",
       "};\n",
       "mpl.toolbar_items = [[\"Home\", \"Reset original view\", \"fa fa-home icon-home\", \"home\"], [\"Back\", \"Back to previous view\", \"fa fa-arrow-left icon-arrow-left\", \"back\"], [\"Forward\", \"Forward to next view\", \"fa fa-arrow-right icon-arrow-right\", \"forward\"], [\"\", \"\", \"\", \"\"], [\"Pan\", \"Pan axes with left mouse, zoom with right\", \"fa fa-arrows icon-move\", \"pan\"], [\"Zoom\", \"Zoom to rectangle\", \"fa fa-square-o icon-check-empty\", \"zoom\"], [\"\", \"\", \"\", \"\"], [\"Download\", \"Download plot\", \"fa fa-floppy-o icon-save\", \"download\"]];\n",
       "\n",
       "mpl.extensions = [\"eps\", \"jpeg\", \"pdf\", \"png\", \"ps\", \"raw\", \"svg\", \"tif\"];\n",
       "\n",
       "mpl.default_extension = \"png\";var comm_websocket_adapter = function(comm) {\n",
       "    // Create a \"websocket\"-like object which calls the given IPython comm\n",
       "    // object with the appropriate methods. Currently this is a non binary\n",
       "    // socket, so there is still some room for performance tuning.\n",
       "    var ws = {};\n",
       "\n",
       "    ws.close = function() {\n",
       "        comm.close()\n",
       "    };\n",
       "    ws.send = function(m) {\n",
       "        //console.log('sending', m);\n",
       "        comm.send(m);\n",
       "    };\n",
       "    // Register the callback with on_msg.\n",
       "    comm.on_msg(function(msg) {\n",
       "        //console.log('receiving', msg['content']['data'], msg);\n",
       "        // Pass the mpl event to the overridden (by mpl) onmessage function.\n",
       "        ws.onmessage(msg['content']['data'])\n",
       "    });\n",
       "    return ws;\n",
       "}\n",
       "\n",
       "mpl.mpl_figure_comm = function(comm, msg) {\n",
       "    // This is the function which gets called when the mpl process\n",
       "    // starts-up an IPython Comm through the \"matplotlib\" channel.\n",
       "\n",
       "    var id = msg.content.data.id;\n",
       "    // Get hold of the div created by the display call when the Comm\n",
       "    // socket was opened in Python.\n",
       "    var element = $(\"#\" + id);\n",
       "    var ws_proxy = comm_websocket_adapter(comm)\n",
       "\n",
       "    function ondownload(figure, format) {\n",
       "        window.open(figure.imageObj.src);\n",
       "    }\n",
       "\n",
       "    var fig = new mpl.figure(id, ws_proxy,\n",
       "                           ondownload,\n",
       "                           element.get(0));\n",
       "\n",
       "    // Call onopen now - mpl needs it, as it is assuming we've passed it a real\n",
       "    // web socket which is closed, not our websocket->open comm proxy.\n",
       "    ws_proxy.onopen();\n",
       "\n",
       "    fig.parent_element = element.get(0);\n",
       "    fig.cell_info = mpl.find_output_cell(\"<div id='\" + id + \"'></div>\");\n",
       "    if (!fig.cell_info) {\n",
       "        console.error(\"Failed to find cell for figure\", id, fig);\n",
       "        return;\n",
       "    }\n",
       "\n",
       "    var output_index = fig.cell_info[2]\n",
       "    var cell = fig.cell_info[0];\n",
       "\n",
       "};\n",
       "\n",
       "mpl.figure.prototype.handle_close = function(fig, msg) {\n",
       "    var width = fig.canvas.width/mpl.ratio\n",
       "    fig.root.unbind('remove')\n",
       "\n",
       "    // Update the output cell to use the data from the current canvas.\n",
       "    fig.push_to_output();\n",
       "    var dataURL = fig.canvas.toDataURL();\n",
       "    // Re-enable the keyboard manager in IPython - without this line, in FF,\n",
       "    // the notebook keyboard shortcuts fail.\n",
       "    IPython.keyboard_manager.enable()\n",
       "    $(fig.parent_element).html('<img src=\"' + dataURL + '\" width=\"' + width + '\">');\n",
       "    fig.close_ws(fig, msg);\n",
       "}\n",
       "\n",
       "mpl.figure.prototype.close_ws = function(fig, msg){\n",
       "    fig.send_message('closing', msg);\n",
       "    // fig.ws.close()\n",
       "}\n",
       "\n",
       "mpl.figure.prototype.push_to_output = function(remove_interactive) {\n",
       "    // Turn the data on the canvas into data in the output cell.\n",
       "    var width = this.canvas.width/mpl.ratio\n",
       "    var dataURL = this.canvas.toDataURL();\n",
       "    this.cell_info[1]['text/html'] = '<img src=\"' + dataURL + '\" width=\"' + width + '\">';\n",
       "}\n",
       "\n",
       "mpl.figure.prototype.updated_canvas_event = function() {\n",
       "    // Tell IPython that the notebook contents must change.\n",
       "    IPython.notebook.set_dirty(true);\n",
       "    this.send_message(\"ack\", {});\n",
       "    var fig = this;\n",
       "    // Wait a second, then push the new image to the DOM so\n",
       "    // that it is saved nicely (might be nice to debounce this).\n",
       "    setTimeout(function () { fig.push_to_output() }, 1000);\n",
       "}\n",
       "\n",
       "mpl.figure.prototype._init_toolbar = function() {\n",
       "    var fig = this;\n",
       "\n",
       "    var nav_element = $('<div/>');\n",
       "    nav_element.attr('style', 'width: 100%');\n",
       "    this.root.append(nav_element);\n",
       "\n",
       "    // Define a callback function for later on.\n",
       "    function toolbar_event(event) {\n",
       "        return fig.toolbar_button_onclick(event['data']);\n",
       "    }\n",
       "    function toolbar_mouse_event(event) {\n",
       "        return fig.toolbar_button_onmouseover(event['data']);\n",
       "    }\n",
       "\n",
       "    for(var toolbar_ind in mpl.toolbar_items){\n",
       "        var name = mpl.toolbar_items[toolbar_ind][0];\n",
       "        var tooltip = mpl.toolbar_items[toolbar_ind][1];\n",
       "        var image = mpl.toolbar_items[toolbar_ind][2];\n",
       "        var method_name = mpl.toolbar_items[toolbar_ind][3];\n",
       "\n",
       "        if (!name) { continue; };\n",
       "\n",
       "        var button = $('<button class=\"btn btn-default\" href=\"#\" title=\"' + name + '\"><i class=\"fa ' + image + ' fa-lg\"></i></button>');\n",
       "        button.click(method_name, toolbar_event);\n",
       "        button.mouseover(tooltip, toolbar_mouse_event);\n",
       "        nav_element.append(button);\n",
       "    }\n",
       "\n",
       "    // Add the status bar.\n",
       "    var status_bar = $('<span class=\"mpl-message\" style=\"text-align:right; float: right;\"/>');\n",
       "    nav_element.append(status_bar);\n",
       "    this.message = status_bar[0];\n",
       "\n",
       "    // Add the close button to the window.\n",
       "    var buttongrp = $('<div class=\"btn-group inline pull-right\"></div>');\n",
       "    var button = $('<button class=\"btn btn-mini btn-primary\" href=\"#\" title=\"Stop Interaction\"><i class=\"fa fa-power-off icon-remove icon-large\"></i></button>');\n",
       "    button.click(function (evt) { fig.handle_close(fig, {}); } );\n",
       "    button.mouseover('Stop Interaction', toolbar_mouse_event);\n",
       "    buttongrp.append(button);\n",
       "    var titlebar = this.root.find($('.ui-dialog-titlebar'));\n",
       "    titlebar.prepend(buttongrp);\n",
       "}\n",
       "\n",
       "mpl.figure.prototype._root_extra_style = function(el){\n",
       "    var fig = this\n",
       "    el.on(\"remove\", function(){\n",
       "\tfig.close_ws(fig, {});\n",
       "    });\n",
       "}\n",
       "\n",
       "mpl.figure.prototype._canvas_extra_style = function(el){\n",
       "    // this is important to make the div 'focusable\n",
       "    el.attr('tabindex', 0)\n",
       "    // reach out to IPython and tell the keyboard manager to turn it's self\n",
       "    // off when our div gets focus\n",
       "\n",
       "    // location in version 3\n",
       "    if (IPython.notebook.keyboard_manager) {\n",
       "        IPython.notebook.keyboard_manager.register_events(el);\n",
       "    }\n",
       "    else {\n",
       "        // location in version 2\n",
       "        IPython.keyboard_manager.register_events(el);\n",
       "    }\n",
       "\n",
       "}\n",
       "\n",
       "mpl.figure.prototype._key_event_extra = function(event, name) {\n",
       "    var manager = IPython.notebook.keyboard_manager;\n",
       "    if (!manager)\n",
       "        manager = IPython.keyboard_manager;\n",
       "\n",
       "    // Check for shift+enter\n",
       "    if (event.shiftKey && event.which == 13) {\n",
       "        this.canvas_div.blur();\n",
       "        // select the cell after this one\n",
       "        var index = IPython.notebook.find_cell_index(this.cell_info[0]);\n",
       "        IPython.notebook.select(index + 1);\n",
       "    }\n",
       "}\n",
       "\n",
       "mpl.figure.prototype.handle_save = function(fig, msg) {\n",
       "    fig.ondownload(fig, null);\n",
       "}\n",
       "\n",
       "\n",
       "mpl.find_output_cell = function(html_output) {\n",
       "    // Return the cell and output element which can be found *uniquely* in the notebook.\n",
       "    // Note - this is a bit hacky, but it is done because the \"notebook_saving.Notebook\"\n",
       "    // IPython event is triggered only after the cells have been serialised, which for\n",
       "    // our purposes (turning an active figure into a static one), is too late.\n",
       "    var cells = IPython.notebook.get_cells();\n",
       "    var ncells = cells.length;\n",
       "    for (var i=0; i<ncells; i++) {\n",
       "        var cell = cells[i];\n",
       "        if (cell.cell_type === 'code'){\n",
       "            for (var j=0; j<cell.output_area.outputs.length; j++) {\n",
       "                var data = cell.output_area.outputs[j];\n",
       "                if (data.data) {\n",
       "                    // IPython >= 3 moved mimebundle to data attribute of output\n",
       "                    data = data.data;\n",
       "                }\n",
       "                if (data['text/html'] == html_output) {\n",
       "                    return [cell, data, j];\n",
       "                }\n",
       "            }\n",
       "        }\n",
       "    }\n",
       "}\n",
       "\n",
       "// Register the function which deals with the matplotlib target/channel.\n",
       "// The kernel may be null if the page has been refreshed.\n",
       "if (IPython.notebook.kernel != null) {\n",
       "    IPython.notebook.kernel.comm_manager.register_target('matplotlib', mpl.mpl_figure_comm);\n",
       "}\n"
      ],
      "text/plain": [
       "<IPython.core.display.Javascript object>"
      ]
     },
     "metadata": {},
     "output_type": "display_data"
    },
    {
     "data": {
      "text/html": [
       "<img src=\"data:image/png;base64,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\" width=\"1200\">"
      ],
      "text/plain": [
       "<IPython.core.display.HTML object>"
      ]
     },
     "metadata": {},
     "output_type": "display_data"
    },
    {
     "data": {
      "text/plain": [
       "array([<matplotlib.axes._subplots.AxesSubplot object at 0x0000022C8157DF48>,\n",
       "       <matplotlib.axes._subplots.AxesSubplot object at 0x0000022C815247C8>,\n",
       "       <matplotlib.axes._subplots.AxesSubplot object at 0x0000022C815338C8>],\n",
       "      dtype=object)"
      ]
     },
     "execution_count": 7,
     "metadata": {},
     "output_type": "execute_result"
    }
   ],
   "source": [
    "forward_180_right_right_1a.plot(x='time', subplots=True)"
   ]
  },
  {
   "cell_type": "code",
   "execution_count": 10,
   "metadata": {},
   "outputs": [],
   "source": [
    "forward_180_right_right_1a = preprocess(forward_180_right_right_1a, \"forward_180\", \"right_right\", 1)"
   ]
  },
  {
   "cell_type": "code",
   "execution_count": 11,
   "metadata": {},
   "outputs": [],
   "source": [
    "forward_180_right_right_1 = [forward_180_right_right_1a]"
   ]
  },
  {
   "cell_type": "code",
   "execution_count": 12,
   "metadata": {},
   "outputs": [],
   "source": [
    "for df in forward_180_right_right_1:\n",
    "    f = sampling_freq(df)\n",
    "    freq += f"
   ]
  },
  {
   "cell_type": "markdown",
   "metadata": {},
   "source": [
    "#### forward_180_left_left"
   ]
  },
  {
   "cell_type": "markdown",
   "metadata": {},
   "source": [
    "#### tussenpauze"
   ]
  },
  {
   "cell_type": "code",
   "execution_count": 280,
   "metadata": {},
   "outputs": [],
   "source": [
    "#8 SEGMENTEN\n",
    "forward_180_left_other_side1 = pd.read_csv(r\"C:\\Users\\Elise\\Documents\\unif\\master\\semester2\\masterproef\\gitProject\\thesis\\data\\forward_180\\proefpersoon1\\forward_180_left_forward_tim_other1.csv\", sep=';', header=0, skipinitialspace=True)\n"
   ]
  },
  {
   "cell_type": "code",
   "execution_count": 282,
   "metadata": {},
   "outputs": [],
   "source": [
    "f1 =  forward_180_left_other_side1[(forward_180_left_other_side1[\"time\"] <= 32298600000000)]\n",
    "f2 =  forward_180_left_other_side1[(forward_180_left_other_side1[\"time\"] >= 32298600000000) & (forward_180_left_other_side1[\"time\"] <= 32302600000000)]\n",
    "f3 =  forward_180_left_other_side1[(forward_180_left_other_side1[\"time\"] >= 32302600000000) & (forward_180_left_other_side1[\"time\"] <= 32306700000000)]\n",
    "f4 =  forward_180_left_other_side1[(forward_180_left_other_side1[\"time\"] >= 32306700000000) & (forward_180_left_other_side1[\"time\"] <= 32310800000000)]\n",
    "f5 =  forward_180_left_other_side1[(forward_180_left_other_side1[\"time\"] >= 32310800000000) & (forward_180_left_other_side1[\"time\"] <= 32314900000000)]\n",
    "f6 =  forward_180_left_other_side1[(forward_180_left_other_side1[\"time\"] >= 32314900000000) & (forward_180_left_other_side1[\"time\"] <= 32319000000000)]\n",
    "f7 =  forward_180_left_other_side1[(forward_180_left_other_side1[\"time\"] >= 32319000000000) & (forward_180_left_other_side1[\"time\"] <= 32323200000000)]\n",
    "f8 =  forward_180_left_other_side1[(forward_180_left_other_side1[\"time\"] >= 32323200000000) & (forward_180_left_other_side1[\"time\"] <= 32327700000000)]"
   ]
  },
  {
   "cell_type": "code",
   "execution_count": 283,
   "metadata": {},
   "outputs": [],
   "source": [
    "f1 = preprocess(f1, \"forward_180\", 1.4, 0.7)\n",
    "f2 = preprocess(f2, \"forward_180\", 0.4, 1.1)\n",
    "f3 = preprocess(f3, \"forward_180\", 0.4, 1.2)\n",
    "f4 = preprocess(f4, \"forward_180\", 0.6, 0.9)\n",
    "f5 = preprocess(f5, \"forward_180\", 0.5, 1)\n",
    "f6 = preprocess(f6, \"forward_180\", 0.5, 1.1)\n",
    "f7 = preprocess(f7, \"forward_180\", 0.5, 1.1)\n",
    "f8 = preprocess(f8, \"forward_180\", 0.5, 1.1)"
   ]
  },
  {
   "cell_type": "code",
   "execution_count": 285,
   "metadata": {},
   "outputs": [],
   "source": [
    "forward_180_left_other_side_1 = [f1, f2, f3, f4, f5, f6, f7, f8]"
   ]
  },
  {
   "cell_type": "markdown",
   "metadata": {},
   "source": [
    "#### zonder tussenpauzes"
   ]
  },
  {
   "cell_type": "code",
   "execution_count": 13,
   "metadata": {},
   "outputs": [],
   "source": [
    "forward_180_left_left_1a = pd.read_csv(\n",
    "    r\"C:\\Users\\Elise\\Documents\\unif\\master\\semester2\\masterproef\\gitProject\\thesis\\data\\forward_180\\proefpersoon1\\forward_180_left_left_tim1.csv\", \n",
    "    sep=';', header=0, skipinitialspace=True)"
   ]
  },
  {
   "cell_type": "code",
   "execution_count": 14,
   "metadata": {},
   "outputs": [],
   "source": [
    "forward_180_left_left_1a = preprocess(forward_180_left_left_1a, \"forward_180\", \"left_left\", 1)"
   ]
  },
  {
   "cell_type": "code",
   "execution_count": 15,
   "metadata": {},
   "outputs": [],
   "source": [
    "forward_180_left_left_1 = [forward_180_left_left_1a]"
   ]
  },
  {
   "cell_type": "code",
   "execution_count": 16,
   "metadata": {},
   "outputs": [],
   "source": [
    "for df in forward_180_left_left_1:\n",
    "    f = sampling_freq(df)\n",
    "    freq += f"
   ]
  },
  {
   "cell_type": "markdown",
   "metadata": {},
   "source": [
    "#### forward_180_right_left"
   ]
  },
  {
   "cell_type": "markdown",
   "metadata": {},
   "source": [
    "#### tussenpauze"
   ]
  },
  {
   "cell_type": "code",
   "execution_count": 287,
   "metadata": {},
   "outputs": [],
   "source": [
    "#5 SEGMENTEN\n",
    "forward_180_right_other_side1 = pd.read_csv(r\"C:\\Users\\Elise\\Documents\\unif\\master\\semester2\\masterproef\\gitProject\\thesis\\data\\forward_180\\proefpersoon1\\forward_180_right_forward_other_side_tim1.csv\", sep=';', header=0, skipinitialspace=True)\n",
    "#3 SEGMENTEN\n",
    "forward_180_right_other_side2 = pd.read_csv(r\"C:\\Users\\Elise\\Documents\\unif\\master\\semester2\\masterproef\\gitProject\\thesis\\data\\forward_180\\proefpersoon1\\forward_180_right_forward_other_side_tim2.csv\", sep=';', header=0, skipinitialspace=True)\n"
   ]
  },
  {
   "cell_type": "code",
   "execution_count": 289,
   "metadata": {},
   "outputs": [],
   "source": [
    "f1 =  forward_180_right_other_side1[(forward_180_right_other_side1[\"time\"] <= 31692200000000)]\n",
    "f2 =  forward_180_right_other_side1[(forward_180_right_other_side1[\"time\"] >= 31692200000000) & (forward_180_right_other_side1[\"time\"] <= 31696700000000)]\n",
    "f3 =  forward_180_right_other_side1[(forward_180_right_other_side1[\"time\"] >= 31696700000000) & (forward_180_right_other_side1[\"time\"] <= 31701600000000)]\n",
    "f4 =  forward_180_right_other_side1[(forward_180_right_other_side1[\"time\"] >= 31701600000000) & (forward_180_right_other_side1[\"time\"] <= 31706200000000)]\n",
    "f5 =  forward_180_right_other_side1[forward_180_right_other_side1[\"time\"] >= 31706200000000]\n",
    "\n",
    "f6 =  forward_180_right_other_side2[(forward_180_right_other_side2[\"time\"] <= 31728600000000)]\n",
    "f7 =  forward_180_right_other_side2[(forward_180_right_other_side2[\"time\"] >= 31728600000000) & (forward_180_right_other_side2[\"time\"] <= 31733400000000)]\n",
    "f8 =  forward_180_right_other_side2[(forward_180_right_other_side2[\"time\"] >= 31733400000000) & (forward_180_right_other_side2[\"time\"] <= 31738000000000)]"
   ]
  },
  {
   "cell_type": "code",
   "execution_count": 290,
   "metadata": {},
   "outputs": [],
   "source": [
    "f1 = preprocess(f1, \"forward_180\", 1.3, 1.1)\n",
    "f2 = preprocess(f2, \"forward_180\", 0.7, 1)\n",
    "f3 = preprocess(f3, \"forward_180\", 0.7, 1.2)\n",
    "f4 = preprocess(f4, \"forward_180\", 0.6, 1.2)\n",
    "f5 = preprocess(f5, \"forward_180\", 0.7, 3.3) #DEZE FOUT\n",
    "f6 = preprocess(f6, \"forward_180\", 1.4, 1.3)\n",
    "f7 = preprocess(f7, \"forward_180\", 0.8, 1.1)\n",
    "f8 = preprocess(f8, \"forward_180\", 0.7, 1)"
   ]
  },
  {
   "cell_type": "code",
   "execution_count": 292,
   "metadata": {},
   "outputs": [],
   "source": [
    "forward_180_right_other_side_1 = [f1, f2, f3, f4, f5, f6, f7, f8]"
   ]
  },
  {
   "cell_type": "markdown",
   "metadata": {},
   "source": [
    "#### zonder tussenpauzes"
   ]
  },
  {
   "cell_type": "code",
   "execution_count": 17,
   "metadata": {},
   "outputs": [],
   "source": [
    "forward_180_right_left_1a = pd.read_csv(\n",
    "    r\"C:\\Users\\Elise\\Documents\\unif\\master\\semester2\\masterproef\\gitProject\\thesis\\data\\forward_180\\proefpersoon1\\forward_180_right_left_tim.csv\", \n",
    "    sep=';', header=0, skipinitialspace=True)"
   ]
  },
  {
   "cell_type": "code",
   "execution_count": 18,
   "metadata": {},
   "outputs": [],
   "source": [
    "forward_180_right_left_1a = preprocess(forward_180_right_left_1a, \"forward_180\", \"right_right\", 1)"
   ]
  },
  {
   "cell_type": "code",
   "execution_count": 19,
   "metadata": {},
   "outputs": [],
   "source": [
    "forward_180_right_left_1 = [forward_180_right_left_1a]"
   ]
  },
  {
   "cell_type": "code",
   "execution_count": 20,
   "metadata": {},
   "outputs": [],
   "source": [
    "for df in forward_180_right_left_1:\n",
    "    f = sampling_freq(df)\n",
    "    freq += f"
   ]
  },
  {
   "cell_type": "markdown",
   "metadata": {},
   "source": [
    "### SEGMENTATION"
   ]
  },
  {
   "cell_type": "code",
   "execution_count": 21,
   "metadata": {},
   "outputs": [],
   "source": [
    "if(not raw):\n",
    "    #segmentation + feature extraction\n",
    "    for i in range(0, len(forward_180_left_right_1)):\n",
    "        forward_180_left_right_1[i] =  feature_extraction_segmentation(forward_180_left_right_1[i],1, True)\n",
    "\n",
    "    for i in range(0, len(forward_180_right_right_1)):\n",
    "        forward_180_right_right_1[i] =  feature_extraction_segmentation(forward_180_right_right_1[i],1, True)\n",
    "    \n",
    "    for i in range(0, len(forward_180_left_left_1)):\n",
    "        forward_180_left_left_1[i] =  feature_extraction_segmentation(forward_180_left_left_1[i],1, True)\n",
    "\n",
    "    for i in range(0, len(forward_180_right_left_1)):\n",
    "        forward_180_right_left_1[i] =  feature_extraction_segmentation(forward_180_right_left_1[i],1, True)"
   ]
  },
  {
   "cell_type": "code",
   "execution_count": 22,
   "metadata": {},
   "outputs": [
    {
     "data": {
      "text/plain": [
       "(2421, 7)"
      ]
     },
     "execution_count": 22,
     "metadata": {},
     "output_type": "execute_result"
    }
   ],
   "source": [
    "forward_180_left_right_1 = pd.concat(forward_180_left_right_1, ignore_index=True)\n",
    "forward_180_left_right_1.shape"
   ]
  },
  {
   "cell_type": "code",
   "execution_count": 23,
   "metadata": {},
   "outputs": [
    {
     "data": {
      "text/plain": [
       "(3742, 7)"
      ]
     },
     "execution_count": 23,
     "metadata": {},
     "output_type": "execute_result"
    }
   ],
   "source": [
    "forward_180_right_right_1 = pd.concat(forward_180_right_right_1, ignore_index=True)\n",
    "forward_180_right_right_1.shape"
   ]
  },
  {
   "cell_type": "code",
   "execution_count": 24,
   "metadata": {},
   "outputs": [
    {
     "data": {
      "text/plain": [
       "(3040, 7)"
      ]
     },
     "execution_count": 24,
     "metadata": {},
     "output_type": "execute_result"
    }
   ],
   "source": [
    "forward_180_left_left_1 = pd.concat(forward_180_left_left_1, ignore_index=True)\n",
    "forward_180_left_left_1.shape"
   ]
  },
  {
   "cell_type": "code",
   "execution_count": 25,
   "metadata": {},
   "outputs": [
    {
     "data": {
      "text/plain": [
       "(2919, 7)"
      ]
     },
     "execution_count": 25,
     "metadata": {},
     "output_type": "execute_result"
    }
   ],
   "source": [
    "forward_180_right_left_1 = pd.concat(forward_180_right_left_1, ignore_index=True)\n",
    "forward_180_right_left_1.shape"
   ]
  },
  {
   "cell_type": "markdown",
   "metadata": {},
   "source": [
    "### SHUFFLE - BALANCING"
   ]
  },
  {
   "cell_type": "code",
   "execution_count": 26,
   "metadata": {},
   "outputs": [],
   "source": [
    "shape = np.min([\n",
    "    forward_180_left_right_1.shape[0], \n",
    "    forward_180_right_right_1.shape[0], \n",
    "    forward_180_left_left_1.shape[0], \n",
    "    forward_180_right_left_1.shape[0]])"
   ]
  },
  {
   "cell_type": "markdown",
   "metadata": {},
   "source": [
    "#### shuffle"
   ]
  },
  {
   "cell_type": "code",
   "execution_count": 53,
   "metadata": {},
   "outputs": [],
   "source": [
    "forward_180_left_right_1 = shuffle(forward_180_left_right_1).head(shape).copy()\n",
    "forward_180_right_right_1 = shuffle(forward_180_right_right_1).head(shape).copy()\n",
    "forward_180_left_left_1 = shuffle(forward_180_left_left_1).head(shape).copy()\n",
    "forward_180_right_left_1 = shuffle(forward_180_right_left_1).head(shape).copy()"
   ]
  },
  {
   "cell_type": "markdown",
   "metadata": {},
   "source": [
    "#### no shuffle"
   ]
  },
  {
   "cell_type": "code",
   "execution_count": 27,
   "metadata": {},
   "outputs": [],
   "source": [
    "forward_180_left_right_1 = forward_180_left_right_1.head(shape).copy()\n",
    "forward_180_right_right_1 = forward_180_right_right_1.head(shape).copy()\n",
    "forward_180_left_left_1 = forward_180_left_left_1.head(shape).copy()\n",
    "forward_180_right_left_1 = forward_180_right_left_1.head(shape).copy()"
   ]
  },
  {
   "cell_type": "code",
   "execution_count": 28,
   "metadata": {},
   "outputs": [],
   "source": [
    "forward_180_1 = pd.concat([forward_180_left_right_1, forward_180_right_right_1, forward_180_left_left_1, forward_180_right_left_1])"
   ]
  },
  {
   "cell_type": "markdown",
   "metadata": {},
   "source": [
    "# <font color='green' >PROEFPERSOON 2"
   ]
  },
  {
   "cell_type": "markdown",
   "metadata": {},
   "source": [
    "## forward 180"
   ]
  },
  {
   "cell_type": "markdown",
   "metadata": {},
   "source": [
    "OPM: window data van 2 verschillende forward 180s => niet realistisch"
   ]
  },
  {
   "cell_type": "code",
   "execution_count": 29,
   "metadata": {},
   "outputs": [],
   "source": [
    "forward_180_left_right_2 = []\n",
    "forward_180_right_right_2 = []\n",
    "forward_180_left_left_2 = []\n",
    "forward_180_right_left_2  = []"
   ]
  },
  {
   "cell_type": "markdown",
   "metadata": {},
   "source": [
    "#### forward_180_left_right"
   ]
  },
  {
   "cell_type": "markdown",
   "metadata": {},
   "source": [
    "#### tussenpauze"
   ]
  },
  {
   "cell_type": "markdown",
   "metadata": {},
   "source": [
    "<font color='red'>TODO</font>: in preprocessing uitknippen!!!!!!!! (forward_180_2)"
   ]
  },
  {
   "cell_type": "code",
   "execution_count": 303,
   "metadata": {},
   "outputs": [],
   "source": [
    "#8 SEGMENTEN, niet volledig\n",
    "forward_180 = pd.read_csv(r\"C:\\Users\\Elise\\Documents\\unif\\master\\semester2\\masterproef\\gitProject\\thesis\\data\\forward_180\\proefpersoon2\\forward_180_left_forward1.csv\", sep=';', header=0, skipinitialspace=True)"
   ]
  },
  {
   "cell_type": "code",
   "execution_count": 304,
   "metadata": {},
   "outputs": [],
   "source": [
    "f1 =  forward_180[(forward_180[\"time\"] <= 20518400000000)]\n",
    "f2 =  forward_180[(forward_180[\"time\"] >= 20518400000000) & (forward_180[\"time\"] <= 20523600000000)]\n",
    "f3 =  forward_180[(forward_180[\"time\"] >= 20523600000000) & (forward_180[\"time\"] <= 20528600000000)]\n",
    "f4 =  forward_180[(forward_180[\"time\"] >= 20528600000000) & (forward_180[\"time\"] <= 20533700000000)]\n",
    "f5 =  forward_180[(forward_180[\"time\"] >= 20533700000000) & (forward_180[\"time\"] <= 20539000000000)]\n",
    "f6 =  forward_180[(forward_180[\"time\"] >= 20539000000000) & (forward_180[\"time\"] <= 20544100000000)]\n",
    "f7 =  forward_180[(forward_180[\"time\"] >= 20544100000000) & (forward_180[\"time\"] <= 20549400000000)]\n",
    "f8 =  forward_180[(forward_180[\"time\"] >= 20549400000000) & (forward_180[\"time\"] <= 20554500000000)]"
   ]
  },
  {
   "cell_type": "code",
   "execution_count": 305,
   "metadata": {},
   "outputs": [],
   "source": [
    "f1 = preprocess(f1, \"forward_180\", 1.5, 1.5)\n",
    "f2 = preprocess(f2, \"forward_180\", 1.3, 0.7)\n",
    "f3 = preprocess(f3, \"forward_180\", 1, 1)\n",
    "f4 = preprocess(f4, \"forward_180\", 1, 1)\n",
    "f5 = preprocess(f5, \"forward_180\", 1, 1)\n",
    "f6 = preprocess(f6, \"forward_180\", 1, 1)\n",
    "f7 = preprocess(f7, \"forward_180\", 1, 1.2)\n",
    "f8 = preprocess(f8, \"forward_180\", 1, 1)"
   ]
  },
  {
   "cell_type": "code",
   "execution_count": 306,
   "metadata": {},
   "outputs": [],
   "source": [
    "forward_180_left_forward_2 = [f1, f2, f3, f4, f5, f6, f7, f8]"
   ]
  },
  {
   "cell_type": "markdown",
   "metadata": {},
   "source": [
    "#### zonder tussenpauzes"
   ]
  },
  {
   "cell_type": "code",
   "execution_count": 30,
   "metadata": {},
   "outputs": [],
   "source": [
    "forward_180_left_right_2a = pd.read_csv(\n",
    "    r\"C:\\Users\\Elise\\Documents\\unif\\master\\semester2\\masterproef\\gitProject\\thesis\\data\\forward_180\\proefpersoon2\\forward_180_left_right.csv\", \n",
    "    sep=';', header=0, skipinitialspace=True)"
   ]
  },
  {
   "cell_type": "code",
   "execution_count": 31,
   "metadata": {},
   "outputs": [],
   "source": [
    "forward_180_left_right_2a = preprocess(forward_180_left_right_2a, \"forward_180\", \"left_right\", 2)"
   ]
  },
  {
   "cell_type": "code",
   "execution_count": 32,
   "metadata": {},
   "outputs": [],
   "source": [
    "forward_180_left_right_2 = [forward_180_left_right_2a]"
   ]
  },
  {
   "cell_type": "code",
   "execution_count": 33,
   "metadata": {},
   "outputs": [],
   "source": [
    "for df in forward_180_left_right_2:\n",
    "    f = sampling_freq(df)\n",
    "    freq += f"
   ]
  },
  {
   "cell_type": "markdown",
   "metadata": {},
   "source": [
    "#### forward_180_right_right"
   ]
  },
  {
   "cell_type": "markdown",
   "metadata": {},
   "source": [
    "#### tussenpauze"
   ]
  },
  {
   "cell_type": "code",
   "execution_count": 308,
   "metadata": {},
   "outputs": [],
   "source": [
    "#7 SEGMENTEN\n",
    "forward_180_right_forward3 = pd.read_csv(r\"C:\\Users\\Elise\\Documents\\unif\\master\\semester2\\masterproef\\gitProject\\thesis\\data\\forward_180\\proefpersoon2\\forward_180_right_forward3.csv\", sep=';', header=0, skipinitialspace=True)\n",
    "\n",
    "#1 SEGMENT, eerste stuk niet\n",
    "forward_180_right_forward4 = pd.read_csv(r\"C:\\Users\\Elise\\Documents\\unif\\master\\semester2\\masterproef\\gitProject\\thesis\\data\\forward_180\\proefpersoon2\\forward_180_right_forward4.csv\", sep=';', header=0, skipinitialspace=True)\n",
    "forward_180_right_forward5 = pd.read_csv(r\"C:\\Users\\Elise\\Documents\\unif\\master\\semester2\\masterproef\\gitProject\\thesis\\data\\forward_180\\proefpersoon2\\forward_180_right_forward5.csv\", sep=';', header=0, skipinitialspace=True)\n",
    "forward_180_right_forward6 = pd.read_csv(r\"C:\\Users\\Elise\\Documents\\unif\\master\\semester2\\masterproef\\gitProject\\thesis\\data\\forward_180\\proefpersoon2\\forward_180_right_forward6.csv\", sep=';', header=0, skipinitialspace=True)"
   ]
  },
  {
   "cell_type": "code",
   "execution_count": 309,
   "metadata": {},
   "outputs": [],
   "source": [
    "f1 =  forward_180_right_forward3[(forward_180_right_forward3[\"time\"] <= 11500400000000)]\n",
    "f2 =  forward_180_right_forward3[(forward_180_right_forward3[\"time\"] >= 11500400000000) & (forward_180_right_forward3[\"time\"] <= 11504900000000)]\n",
    "f3 =  forward_180_right_forward3[(forward_180_right_forward3[\"time\"] >= 11504900000000) & (forward_180_right_forward3[\"time\"] <= 11509600000000)]\n",
    "f4 =  forward_180_right_forward3[(forward_180_right_forward3[\"time\"] >= 11509600000000) & (forward_180_right_forward3[\"time\"] <= 11514100000000)]\n",
    "f5 =  forward_180_right_forward3[(forward_180_right_forward3[\"time\"] >= 11514100000000) & (forward_180_right_forward3[\"time\"] <= 11518500000000)]\n",
    "f6 =  forward_180_right_forward3[(forward_180_right_forward3[\"time\"] >= 11518500000000) & (forward_180_right_forward3[\"time\"] <= 11523200000000)]\n",
    "f7 =  forward_180_right_forward3[(forward_180_right_forward3[\"time\"] >= 11523200000000)]\n",
    "\n",
    "f8 =  forward_180_right_forward4[(forward_180_right_forward4[\"time\"] >= 11533300000000) & (forward_180_right_forward4[\"time\"] <= 11537900000000)]"
   ]
  },
  {
   "cell_type": "code",
   "execution_count": 310,
   "metadata": {},
   "outputs": [],
   "source": [
    "f1 = preprocess(f1, \"forward_180\", 1.2, 1)\n",
    "f2 = preprocess(f2, \"forward_180\", 0.8, 1)\n",
    "f3 = preprocess(f3, \"forward_180\", 0.7, 0.8)\n",
    "f4 = preprocess(f4, \"forward_180\", 0.9, 0.6)\n",
    "f5 = preprocess(f5, \"forward_180\", 0.7, 0.5)\n",
    "f6 = preprocess(f6, \"forward_180\", 0.7, 0.7)\n",
    "f7 = preprocess(f7, \"forward_180\", 0.9, 1.25)\n",
    "f8 = preprocess(f8, \"forward_180\", 0.8, 0.7)"
   ]
  },
  {
   "cell_type": "code",
   "execution_count": 311,
   "metadata": {},
   "outputs": [],
   "source": [
    "forward_180_right_forward_2 = [f1, f2, f3, f4, f5, f6, f7, f8]"
   ]
  },
  {
   "cell_type": "markdown",
   "metadata": {},
   "source": [
    "#### zonder tussenpauzes"
   ]
  },
  {
   "cell_type": "code",
   "execution_count": 34,
   "metadata": {},
   "outputs": [],
   "source": [
    "forward_180_right_right_2a = pd.read_csv(\n",
    "    r\"C:\\Users\\Elise\\Documents\\unif\\master\\semester2\\masterproef\\gitProject\\thesis\\data\\forward_180\\proefpersoon2\\forward_180_right_right1.csv\", \n",
    "    sep=';', header=0, skipinitialspace=True)\n",
    "\n",
    "forward_180_right_right_2b = pd.read_csv(\n",
    "    r\"C:\\Users\\Elise\\Documents\\unif\\master\\semester2\\masterproef\\gitProject\\thesis\\data\\forward_180\\proefpersoon2\\forward_180_right_right2.csv\", \n",
    "    sep=';', header=0, skipinitialspace=True)"
   ]
  },
  {
   "cell_type": "code",
   "execution_count": 35,
   "metadata": {},
   "outputs": [],
   "source": [
    "forward_180_right_right_2a = preprocess(forward_180_right_right_2a, \"forward_180\", \"right_right\", 2)\n",
    "forward_180_right_right_2b = preprocess(forward_180_right_right_2b, \"forward_180\", \"right_right\", 2)"
   ]
  },
  {
   "cell_type": "code",
   "execution_count": 36,
   "metadata": {},
   "outputs": [],
   "source": [
    "forward_180_right_right_2 = [forward_180_right_right_2a, forward_180_right_right_2b]"
   ]
  },
  {
   "cell_type": "code",
   "execution_count": 37,
   "metadata": {},
   "outputs": [],
   "source": [
    "for df in forward_180_right_right_2:\n",
    "    f = sampling_freq(df)\n",
    "    freq += f"
   ]
  },
  {
   "cell_type": "markdown",
   "metadata": {},
   "source": [
    "#### forward_180_left_left"
   ]
  },
  {
   "cell_type": "markdown",
   "metadata": {},
   "source": [
    "#### tussenpauze"
   ]
  },
  {
   "cell_type": "code",
   "execution_count": 313,
   "metadata": {},
   "outputs": [],
   "source": [
    "\n",
    "forward_180_left_other1 = pd.read_csv(r\"C:\\Users\\Elise\\Documents\\unif\\master\\semester2\\masterproef\\gitProject\\thesis\\data\\forward_180\\proefpersoon2\\forward_180_left_back_otherside1.csv\", sep=';', header=0, skipinitialspace=True)"
   ]
  },
  {
   "cell_type": "code",
   "execution_count": 314,
   "metadata": {},
   "outputs": [],
   "source": [
    "f1 =  forward_180_left_other1[(forward_180_left_other1[\"time\"] <= 20761200000000)]\n",
    "f2 =  forward_180_left_other1[(forward_180_left_other1[\"time\"] >= 20761200000000) & (forward_180_left_other1[\"time\"] <= 20766600000000)]\n",
    "f3 =  forward_180_left_other1[(forward_180_left_other1[\"time\"] >= 20766600000000) & (forward_180_left_other1[\"time\"] <= 20772000000000)]\n",
    "f4 =  forward_180_left_other1[(forward_180_left_other1[\"time\"] >= 20772000000000) & (forward_180_left_other1[\"time\"] <= 20777400000000)]\n",
    "f5 =  forward_180_left_other1[(forward_180_left_other1[\"time\"] >= 20777400000000) & (forward_180_left_other1[\"time\"] <= 20782800000000)]\n",
    "f6 =  forward_180_left_other1[(forward_180_left_other1[\"time\"] >= 20782800000000) & (forward_180_left_other1[\"time\"] <= 20787700000000)]\n",
    "f7 =  forward_180_left_other1[(forward_180_left_other1[\"time\"] >= 20787700000000) & (forward_180_left_other1[\"time\"] <= 20793000000000)]\n",
    "f8 =  forward_180_left_other1[(forward_180_left_other1[\"time\"] >= 20793000000000) & (forward_180_left_other1[\"time\"] <= 20798900000000)]"
   ]
  },
  {
   "cell_type": "code",
   "execution_count": 315,
   "metadata": {},
   "outputs": [],
   "source": [
    "f1 = preprocess(f1, \"forward_180\", 1.7, 1)\n",
    "f2 = preprocess(f2, \"forward_180\", 1.5, 1)\n",
    "f3 = preprocess(f3, \"forward_180\", 1.5, 0.8)\n",
    "f4 = preprocess(f4, \"forward_180\", 1.7, 0.8)\n",
    "f5 = preprocess(f5, \"forward_180\", 1.6, 1)\n",
    "f6 = preprocess(f6, \"forward_180\", 1.1, 0.9)\n",
    "f7 = preprocess(f7, \"forward_180\", 1.3, 1)\n",
    "f8 = preprocess(f8, \"forward_180\", 1.7, 1.2)"
   ]
  },
  {
   "cell_type": "code",
   "execution_count": 316,
   "metadata": {},
   "outputs": [],
   "source": [
    "forward_180_left_other_side_2 = [f1, f2, f3, f4, f5, f6, f7, f8]"
   ]
  },
  {
   "cell_type": "markdown",
   "metadata": {},
   "source": [
    "#### zonder tussenpauzes"
   ]
  },
  {
   "cell_type": "code",
   "execution_count": 38,
   "metadata": {},
   "outputs": [],
   "source": [
    "forward_180_left_left_2a = pd.read_csv(\n",
    "    r\"C:\\Users\\Elise\\Documents\\unif\\master\\semester2\\masterproef\\gitProject\\thesis\\data\\forward_180\\proefpersoon2\\forward_180_left_left.csv\", \n",
    "    sep=';', header=0, skipinitialspace=True)"
   ]
  },
  {
   "cell_type": "code",
   "execution_count": 39,
   "metadata": {},
   "outputs": [],
   "source": [
    "forward_180_left_left_2a = preprocess(forward_180_left_left_2a, \"forward_180\", \"left_left\", 2)"
   ]
  },
  {
   "cell_type": "code",
   "execution_count": 40,
   "metadata": {},
   "outputs": [],
   "source": [
    "forward_180_left_left_2 = [forward_180_left_left_2a]"
   ]
  },
  {
   "cell_type": "code",
   "execution_count": 41,
   "metadata": {},
   "outputs": [],
   "source": [
    "for df in forward_180_left_left_2:\n",
    "    f = sampling_freq(df)\n",
    "    freq += f"
   ]
  },
  {
   "cell_type": "markdown",
   "metadata": {},
   "source": [
    "#### forward_180_right_left"
   ]
  },
  {
   "cell_type": "markdown",
   "metadata": {},
   "source": [
    "#### tussenpauze"
   ]
  },
  {
   "cell_type": "code",
   "execution_count": 318,
   "metadata": {},
   "outputs": [],
   "source": [
    "#8 SEGMENTEN\n",
    "forward_180_right_other1 = pd.read_csv(r\"C:\\Users\\Elise\\Documents\\unif\\master\\semester2\\masterproef\\gitProject\\thesis\\data\\forward_180\\proefpersoon2\\forward_180_right_forward_otherside.csv\", sep=';', header=0, skipinitialspace=True)"
   ]
  },
  {
   "cell_type": "code",
   "execution_count": 320,
   "metadata": {},
   "outputs": [],
   "source": [
    "f1 =  forward_180_right_other1[(forward_180_right_other1[\"time\"] <= 20932900000000)]\n",
    "f2 =  forward_180_right_other1[(forward_180_right_other1[\"time\"] >= 20932900000000) & (forward_180_right_other1[\"time\"] <= 20938800000000)]\n",
    "f3 =  forward_180_right_other1[(forward_180_right_other1[\"time\"] >= 20938800000000) & (forward_180_right_other1[\"time\"] <= 20944700000000)]\n",
    "f4 =  forward_180_right_other1[(forward_180_right_other1[\"time\"] >= 20944700000000) & (forward_180_right_other1[\"time\"] <= 20950400000000)]\n",
    "f5 =  forward_180_right_other1[(forward_180_right_other1[\"time\"] >= 20950400000000) & (forward_180_right_other1[\"time\"] <= 20956000000000)]\n",
    "f6 =  forward_180_right_other1[(forward_180_right_other1[\"time\"] >= 20956000000000) & (forward_180_right_other1[\"time\"] <= 20961400000000)]\n",
    "f7 =  forward_180_right_other1[(forward_180_right_other1[\"time\"] >= 20961400000000) & (forward_180_right_other1[\"time\"] <= 20966500000000)]\n",
    "f8 =  forward_180_right_other1[(forward_180_right_other1[\"time\"] >= 20966500000000) & (forward_180_right_other1[\"time\"] <= 20971800000000)]"
   ]
  },
  {
   "cell_type": "code",
   "execution_count": 321,
   "metadata": {},
   "outputs": [],
   "source": [
    "f1 = preprocess(f1, \"forward_180\", 1, 1.2)\n",
    "f2 = preprocess(f2, \"forward_180\", 1.2, 1.2)\n",
    "f3 = preprocess(f3, \"forward_180\", 1.3, 1.4)\n",
    "f4 = preprocess(f4, \"forward_180\", 1.3, 1.6)\n",
    "f5 = preprocess(f5, \"forward_180\", 1.3, 1.5)\n",
    "f6 = preprocess(f6, \"forward_180\", 1.3, 1.1)\n",
    "f7 = preprocess(f7, \"forward_180\", 1.05, 1.4)\n",
    "f8 = preprocess(f8, \"forward_180\", 1.1, 1.4)"
   ]
  },
  {
   "cell_type": "code",
   "execution_count": 323,
   "metadata": {},
   "outputs": [],
   "source": [
    "forward_180_right_other_side_2 = [f1, f2, f3, f4, f5, f6, f7, f8]"
   ]
  },
  {
   "cell_type": "markdown",
   "metadata": {},
   "source": [
    "#### zonder tussenpauzes"
   ]
  },
  {
   "cell_type": "code",
   "execution_count": 42,
   "metadata": {},
   "outputs": [],
   "source": [
    "forward_180_right_left_2a = pd.read_csv(\n",
    "    r\"C:\\Users\\Elise\\Documents\\unif\\master\\semester2\\masterproef\\gitProject\\thesis\\data\\forward_180\\proefpersoon2\\forward_180_right_left.csv\", \n",
    "    sep=';', header=0, skipinitialspace=True)"
   ]
  },
  {
   "cell_type": "code",
   "execution_count": 43,
   "metadata": {},
   "outputs": [],
   "source": [
    "forward_180_right_left_2a = preprocess(forward_180_right_left_2a, \"forward_180\", \"right_left\", 2)"
   ]
  },
  {
   "cell_type": "code",
   "execution_count": 44,
   "metadata": {},
   "outputs": [],
   "source": [
    "forward_180_right_left_2 = [forward_180_right_left_2a]"
   ]
  },
  {
   "cell_type": "code",
   "execution_count": 45,
   "metadata": {},
   "outputs": [],
   "source": [
    "for df in forward_180_right_left_2:\n",
    "    f = sampling_freq(df)\n",
    "    freq += f"
   ]
  },
  {
   "cell_type": "markdown",
   "metadata": {},
   "source": [
    "### SEGMENTATION"
   ]
  },
  {
   "cell_type": "code",
   "execution_count": 46,
   "metadata": {},
   "outputs": [],
   "source": [
    "if(not raw):\n",
    "    #segmentation + feature extraction\n",
    "    for i in range(0, len(forward_180_left_right_2)):\n",
    "        forward_180_left_right_2[i] =  feature_extraction_segmentation(forward_180_left_right_2[i],1, True)\n",
    "\n",
    "    for i in range(0, len(forward_180_right_right_2)):\n",
    "        forward_180_right_right_2[i] =  feature_extraction_segmentation(forward_180_right_right_2[i],1, True)\n",
    "\n",
    "    for i in range(0, len(forward_180_left_left_2)):\n",
    "        forward_180_left_left_2[i] =  feature_extraction_segmentation(forward_180_left_left_2[i],1, True)\n",
    "    \n",
    "    for i in range(0, len(forward_180_right_left_2)):\n",
    "        forward_180_right_left_2[i] =  feature_extraction_segmentation(forward_180_right_left_2[i],1, True)\n",
    "    "
   ]
  },
  {
   "cell_type": "code",
   "execution_count": 47,
   "metadata": {},
   "outputs": [
    {
     "data": {
      "text/plain": [
       "(2781, 7)"
      ]
     },
     "execution_count": 47,
     "metadata": {},
     "output_type": "execute_result"
    }
   ],
   "source": [
    "forward_180_left_right_2 = pd.concat(forward_180_left_right_2, ignore_index=True)\n",
    "forward_180_left_right_2.shape"
   ]
  },
  {
   "cell_type": "code",
   "execution_count": 48,
   "metadata": {},
   "outputs": [
    {
     "data": {
      "text/plain": [
       "(3612, 7)"
      ]
     },
     "execution_count": 48,
     "metadata": {},
     "output_type": "execute_result"
    }
   ],
   "source": [
    "forward_180_right_right_2 = pd.concat(forward_180_right_right_2, ignore_index=True)\n",
    "forward_180_right_right_2.shape"
   ]
  },
  {
   "cell_type": "code",
   "execution_count": 49,
   "metadata": {},
   "outputs": [
    {
     "data": {
      "text/plain": [
       "(3335, 7)"
      ]
     },
     "execution_count": 49,
     "metadata": {},
     "output_type": "execute_result"
    }
   ],
   "source": [
    "forward_180_left_left_2 = pd.concat(forward_180_left_left_2, ignore_index=True)\n",
    "forward_180_left_left_2.shape"
   ]
  },
  {
   "cell_type": "code",
   "execution_count": 50,
   "metadata": {},
   "outputs": [
    {
     "data": {
      "text/plain": [
       "(4529, 7)"
      ]
     },
     "execution_count": 50,
     "metadata": {},
     "output_type": "execute_result"
    }
   ],
   "source": [
    "forward_180_right_left_2 = pd.concat(forward_180_right_left_2, ignore_index=True)\n",
    "forward_180_right_left_2.shape"
   ]
  },
  {
   "cell_type": "markdown",
   "metadata": {},
   "source": [
    "### SHUFFLE - BALANCING"
   ]
  },
  {
   "cell_type": "code",
   "execution_count": 51,
   "metadata": {},
   "outputs": [],
   "source": [
    "shape = np.min([\n",
    "    forward_180_left_right_2.shape[0], \n",
    "    forward_180_right_right_2.shape[0], \n",
    "    forward_180_left_left_2.shape[0], \n",
    "    forward_180_right_left_2.shape[0]])"
   ]
  },
  {
   "cell_type": "markdown",
   "metadata": {},
   "source": [
    "#### shuffle"
   ]
  },
  {
   "cell_type": "code",
   "execution_count": 48,
   "metadata": {},
   "outputs": [],
   "source": [
    "forward_180_left_right_2 = shuffle(forward_180_left_right_2).head(shape).copy()\n",
    "forward_180_right_right_2 = shuffle(forward_180_right_right_2).head(shape).copy()\n",
    "forward_180_left_left_2 = shuffle(forward_180_left_left_2).head(shape).copy()\n",
    "forward_180_right_left_2 = shuffle(forward_180_right_left_2).head(shape).copy()"
   ]
  },
  {
   "cell_type": "markdown",
   "metadata": {},
   "source": [
    "#### no shuffle"
   ]
  },
  {
   "cell_type": "code",
   "execution_count": 52,
   "metadata": {},
   "outputs": [],
   "source": [
    "forward_180_left_right_2 = forward_180_left_right_2.head(shape).copy()\n",
    "forward_180_right_right_2 = forward_180_right_right_2.head(shape).copy()\n",
    "forward_180_left_left_2 = forward_180_left_left_2.head(shape).copy()\n",
    "forward_180_right_left_2 = forward_180_right_left_2.head(shape).copy()"
   ]
  },
  {
   "cell_type": "code",
   "execution_count": 53,
   "metadata": {},
   "outputs": [],
   "source": [
    "forward_180_2 = pd.concat([\n",
    "    forward_180_left_right_2, \n",
    "    forward_180_right_right_2, \n",
    "    forward_180_left_left_2, \n",
    "    forward_180_right_left_2])"
   ]
  },
  {
   "cell_type": "markdown",
   "metadata": {},
   "source": [
    "# <font color='green'> Frequency"
   ]
  },
  {
   "cell_type": "code",
   "execution_count": 54,
   "metadata": {},
   "outputs": [
    {
     "data": {
      "text/plain": [
       "7.281122008987271"
      ]
     },
     "execution_count": 54,
     "metadata": {},
     "output_type": "execute_result"
    }
   ],
   "source": [
    "#mean\n",
    "freq = freq/64\n",
    "freq"
   ]
  },
  {
   "cell_type": "markdown",
   "metadata": {},
   "source": [
    "# <font color='green'> Merging datasets"
   ]
  },
  {
   "cell_type": "code",
   "execution_count": 54,
   "metadata": {},
   "outputs": [],
   "source": [
    "shape = np.min([\n",
    "    forward_180_1.shape[0],\n",
    "    forward_180_2.shape[0]\n",
    "])"
   ]
  },
  {
   "cell_type": "markdown",
   "metadata": {},
   "source": [
    "#### shuffle"
   ]
  },
  {
   "cell_type": "code",
   "execution_count": 56,
   "metadata": {},
   "outputs": [
    {
     "data": {
      "text/plain": [
       "(744, 22)"
      ]
     },
     "execution_count": 56,
     "metadata": {},
     "output_type": "execute_result"
    }
   ],
   "source": [
    "dataset = pd.concat([\n",
    "    shuffle(forward_180_1).head(shape),\n",
    "    shuffle(forward_180_2).head(shape)\n",
    "])\n",
    "dataset.shape"
   ]
  },
  {
   "cell_type": "markdown",
   "metadata": {},
   "source": [
    "#### no shuffle"
   ]
  },
  {
   "cell_type": "code",
   "execution_count": 55,
   "metadata": {},
   "outputs": [
    {
     "data": {
      "text/plain": [
       "(19368, 7)"
      ]
     },
     "execution_count": 55,
     "metadata": {},
     "output_type": "execute_result"
    }
   ],
   "source": [
    "dataset = pd.concat([\n",
    "    forward_180_1.head(shape),\n",
    "    forward_180_2.head(shape)\n",
    "])\n",
    "dataset.shape"
   ]
  },
  {
   "cell_type": "code",
   "execution_count": 56,
   "metadata": {},
   "outputs": [],
   "source": [
    "dataset.to_csv(\"forward_180_zonder_pauze_raw.csv\", sep=';')"
   ]
  },
  {
   "cell_type": "code",
   "execution_count": null,
   "metadata": {},
   "outputs": [],
   "source": []
  }
 ],
 "metadata": {
  "kernelspec": {
   "display_name": "Python 3",
   "language": "python",
   "name": "python3"
  },
  "language_info": {
   "codemirror_mode": {
    "name": "ipython",
    "version": 3
   },
   "file_extension": ".py",
   "mimetype": "text/x-python",
   "name": "python",
   "nbconvert_exporter": "python",
   "pygments_lexer": "ipython3",
   "version": "3.7.4"
  }
 },
 "nbformat": 4,
 "nbformat_minor": 2
}
