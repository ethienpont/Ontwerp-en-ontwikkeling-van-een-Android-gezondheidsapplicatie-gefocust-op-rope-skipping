{
 "cells": [
  {
   "cell_type": "code",
   "execution_count": 103,
   "metadata": {},
   "outputs": [],
   "source": [
    "%matplotlib notebook\n",
    "import pandas as pd\n",
    "import numpy as np\n",
    "import math\n",
    "import statistics\n",
    "from datetime import datetime\n",
    "from sklearn.model_selection import train_test_split\n",
    "from sklearn import preprocessing\n",
    "from sklearn.ensemble import RandomForestClassifier, ExtraTreesClassifier, AdaBoostClassifier\n",
    "from sklearn.model_selection import GridSearchCV\n",
    "from sklearn.linear_model import SGDClassifier\n",
    "from sklearn.naive_bayes import GaussianNB, MultinomialNB\n",
    "from sklearn.neighbors import KNeighborsClassifier\n",
    "from sklearn.svm import SVC, LinearSVC\n",
    "from sklearn import svm\n",
    "from sklearn.neural_network import MLPClassifier\n",
    "from sklearn.metrics import confusion_matrix, classification_report\n",
    "from sklearn.preprocessing import StandardScaler, LabelEncoder, normalize\n",
    "import matplotlib.pyplot as plt\n",
    "import seaborn as sn\n",
    "import matplotlib\n",
    "from mlxtend.plotting import plot_confusion_matrix\n",
    "import warnings\n",
    "from scipy.signal import savgol_filter, find_peaks, correlate\n",
    "from sklearn.decomposition import PCA\n",
    "import scipy.fftpack as FFT\n",
    "from sklearn.utils import shuffle\n",
    "import joblib\n",
    "warnings.filterwarnings('ignore')\n",
    "matplotlib.rcParams['figure.figsize'] = [12,5]"
   ]
  },
  {
   "cell_type": "markdown",
   "metadata": {},
   "source": [
    "## help functions"
   ]
  },
  {
   "cell_type": "code",
   "execution_count": 104,
   "metadata": {},
   "outputs": [],
   "source": [
    "def sampling_freq(df):\n",
    "    start = df['time'].iloc[0]\n",
    "    sum_samples = 0\n",
    "    index = 0\n",
    "    while  (start + pd.to_timedelta(1, unit='s')) < df['time'].iloc[-1]:\n",
    "        end =  start + pd.to_timedelta(1, unit='s')\n",
    "        sum_samples += df[(df['time'] >= start) & (df['time'] < end)].shape[0]\n",
    "        start += pd.to_timedelta(1, unit='s')\n",
    "        index += 1\n",
    "    return sum_samples/index\n",
    "\n",
    "def convert_to_float(x):\n",
    "    try:\n",
    "        return np.float(x)\n",
    "    except:\n",
    "        return np.nan\n",
    "\n",
    "def convert_to_datetime(x):\n",
    "    dt = datetime.fromtimestamp(x // 1000000000)\n",
    "    s = dt.strftime('%Y-%m-%d %H:%M:%S')\n",
    "    s += '.' + str(int(x % 1000000000)).zfill(9)\n",
    "    return s\n",
    "\n",
    "def heatmap(cm, labels):\n",
    "    df_cm = pd.DataFrame(cm, index=labels, columns=labels)\n",
    "    plt.figure(figsize = (10,7))\n",
    "    sn.heatmap(df_cm, annot=True)\n",
    "\n",
    "    plt.show()\n",
    "    \n",
    "def preprocess(data, activity, drop_interval_begin = 3, drop_interval_end = 3):\n",
    "    #convert nanoseconds to date \n",
    "    data['time'] = data['time'].apply(convert_to_datetime) \n",
    "    data['time'] = pd.to_datetime(data['time'])\n",
    "\n",
    "#convert to same data type\n",
    "    for i in range(1, 4): \n",
    "        data[column_names_org[i]] = data[column_names_org[i]].apply(convert_to_float)\n",
    "    \n",
    "#drop rows with NaN values \n",
    "    data.dropna(axis=0, how='any', inplace=True) #TODO: invullen met mean, mod of median / interpolatie\n",
    "\n",
    "#drop duplicates \n",
    "    data.drop_duplicates(subset=None, keep='first', inplace = True)\n",
    "    \n",
    "    #drop first and last 3 sec\n",
    "    indexFirst = data[ (data['time'].iloc[0]+ pd.to_timedelta(drop_interval_begin, unit='s')) > data['time'] ].index\n",
    "    data.drop(indexFirst , inplace=True)\n",
    "    indexLast = data[ (data['time'].iloc[-1]- pd.to_timedelta(drop_interval_end, unit='s')) < data['time'] ].index\n",
    "    data.drop(indexLast , inplace=True)\n",
    "    \n",
    "    #add activity label\n",
    "    data['activity'] = activity\n",
    "    \n",
    "    return data\n",
    "\n",
    "#feature extraction\n",
    "def get_mean_window(df):\n",
    "    return df.mean()\n",
    "\n",
    "def get_min_window(df):\n",
    "    return df.min()\n",
    "\n",
    "def get_max_window(df):\n",
    "    return df.max()\n",
    "\n",
    "def get_std_window(df):\n",
    "    return df.std()\n",
    "\n",
    "def get_med_window(df):\n",
    "    return df.median()\n",
    "\n",
    "#TODO: scipy integrate\n",
    "#TODO: voor elke as apart??\n",
    "#measure of activity level (m/s²)\n",
    "def get_signal_magnitude_area(df):\n",
    "        sum = 0\n",
    "        for i in range(0, len(df)):\n",
    "            sum += (abs(df['x'].iloc[i]) + abs(df['y'].iloc[i]) + abs(df['z'].iloc[i]))\n",
    "        return sum /len(df)\n",
    "    #result = integrate.quad(lambda t: df['x'].apply(lambda n : abs(n)) + df['y'].apply(lambda n : abs(n)) + df['z'].apply(lambda n : abs(n)), 0, len(df))\n",
    "\n",
    "#TODO: voor elke as apart??\n",
    "#degree of movement intensity (m/s²)\n",
    "def get_signal_magnitude_vector(df):\n",
    "    sum = 0\n",
    "    for i in range(0, len(df)):\n",
    "        sum += math.sqrt(df['x'].iloc[i] * df['x'].iloc[i] + df['y'].iloc[i] * df['y'].iloc[i] + df['z'].iloc[i] * df['z'].iloc[i])\n",
    "    return sum\n",
    "\n",
    "#average angle (radian) between accelerometer vector and x as (parallel with arm)\n",
    "def get_tilt_angle(df):\n",
    "    df_cos = pd.DataFrame(columns=[\"tilt_ang\"])\n",
    "    df_dot = df['x']\n",
    "    for i in range(0, len(df)):\n",
    "        s = pd.Series({\"tilt_ang\" : (df_dot.iloc[i])/(math.sqrt(df['x'].iloc[i]*df['x'].iloc[i] + df['y'].iloc[i]*df['y'].iloc[i] + df['z'].iloc[i]*df['z'].iloc[i]))})\n",
    "        df_cos=df_cos.append(s, ignore_index=True)\n",
    "    df_angle = np.arccos(df_cos)\n",
    "    return df_angle.mean()['tilt_ang']\n",
    "\n",
    "def get_power_spectral_density(df):\n",
    "    df_psd = np.abs(df)**2\n",
    "    return df_psd.sum()\n",
    "\n",
    "#TODO: datatype is object en niet compex nr\n",
    "def get_entropy(df):\n",
    "    entropy = []\n",
    "    pdf = df / df.sum()\n",
    "    for i in range (1, len(pdf.columns)):\n",
    "        entropy.append(np.complex(-np.nansum(pdf.iloc[:,i] * np.log2(pdf.iloc[:,i]))))\n",
    "    return entropy\n",
    "\n",
    "#generate windows with 50% overlap\n",
    "def windows(df, time, overlap):\n",
    "    start = df.iloc[0]\n",
    "    while  (start + pd.to_timedelta(time, unit='s')) < df.iloc[-1]:\n",
    "        yield start, (start + pd.to_timedelta(time, unit='s'))\n",
    "        if overlap:\n",
    "            start += pd.to_timedelta(time/2, unit='s')\n",
    "        else:\n",
    "            start += pd.to_timedelta(time, unit='s')\n",
    "    #last samples \n",
    "    yield (df.iloc[-1] - pd.to_timedelta(time, unit='s')), df.iloc[-1]\n",
    "        \n",
    "def feature_extraction_segmentation(data, window, overlap):\n",
    "    column_names = [\"x_mean\", \"y_mean\", \"z_mean\", \"x_min\", \"y_min\", \"z_min\", \"x_max\", \"y_max\", \"z_max\",\n",
    "                \"x_std\", \"y_std\", \"z_std\", \"x_med\", \"y_med\", \"z_med\", \"activity\"]\n",
    "    df = pd.DataFrame(columns = column_names)\n",
    "\n",
    "    for (start, end) in windows(data['time'], window, overlap):\n",
    "        vw1 = data['time'] >= start\n",
    "        vw2 = data['time'] < end\n",
    "        mean = get_mean_window(data[vw1 & vw2])\n",
    "        min = get_min_window(data[vw1 & vw2])\n",
    "        max = get_max_window(data[vw1 & vw2])\n",
    "        std = get_std_window(data[vw1 & vw2])\n",
    "        med = get_med_window(data[vw1 & vw2])\n",
    "        sma = get_signal_magnitude_area(data[vw1 & vw2])\n",
    "        smv = get_signal_magnitude_vector(data[vw1 & vw2])\n",
    "        tilt = get_tilt_angle(data[vw1 & vw2])\n",
    "        #fourrier transform\n",
    "        t_x = data[vw1 & vw2][['time','x']].set_index('time')\n",
    "        t_y = data[vw1 & vw2][['time','y']].set_index('time')\n",
    "        t_z = data[vw1 & vw2][['time', 'z']].set_index('time')\n",
    "\n",
    "        df_f = pd.DataFrame(columns=['f', 'x_f', 'y_f', 'z_f'])\n",
    "\n",
    "    #TODO: determine sampling rate (datapoints per second)\n",
    "        sampling_rate = 52\n",
    "\n",
    "        df_f['x_f'] = FFT.fft(t_x).ravel()\n",
    "        df_f['y_f'] = FFT.fft(t_y).ravel()\n",
    "        df_f['z_f'] = FFT.fft(t_z).ravel()\n",
    "        df_f['f'] = FFT.fftfreq(len(df_f['x_f'])) * sampling_rate\n",
    "\n",
    "        psd = get_power_spectral_density(df_f)\n",
    "        #entropy = get_entropy(df_f)\n",
    "\n",
    "        df = df.append(pd.Series({'x_mean': mean['x'], 'y_mean': mean['y'], 'z_mean': mean['z'], \"x_min\" : min['x'],\n",
    "                              \"y_min\" : min['y'], \"z_min\" : min['z'], \"x_max\" : max['x'], \"y_max\" : max['y'], \"z_max\" : max['z'],\n",
    "                              \"x_std\" : std['x'], \"y_std\" : std['y'], \"z_std\" : std['z'], \"x_med\" : med['x'], \"y_med\" : med['y'], \"z_med\" : med['z'],\n",
    "                              \"sma\" : sma, \"smv\" : smv, \"tilt\" : tilt, \"x_psd\" : psd['x_f'], \"y_psd\" : psd['y_f'], \"z_psd\" : psd['z_f']\n",
    "                              , \"activity\" : data['activity'].iloc[0]}), ignore_index=True) # \"x_entropy\" : entropy[0], \"y_entropy\" : entropy[1], \"z_entropy\" : entropy[2],\n",
    "    return df\n",
    "\n",
    "#3 keer savgol filter uitvoeren met 33,5\n",
    "def get_turns_smooth_side_swing(df):\n",
    "    for i in range(0,5):\n",
    "        df['x'] = savgol_filter(df[ 'x'].to_numpy(), 101, 5)\n",
    "        df['y'] = savgol_filter(df[ 'y'].to_numpy(), 101, 5)\n",
    "        df['z'] = savgol_filter(df[ 'z'].to_numpy(), 101, 5)\n",
    "        df.plot(x='time', subplots=True)\n",
    "\n",
    "    wx = find_peaks(df['x'])\n",
    "    wy = find_peaks(df['y'])\n",
    "    wz = find_peaks(df['z'])\n",
    "    return (len(wx[0]) + len(wy[0]) + len(wz[0]))/3\n",
    "\n",
    "\n",
    "column_names_org = ['time', 'x', 'y', 'z']"
   ]
  },
  {
   "cell_type": "code",
   "execution_count": 105,
   "metadata": {},
   "outputs": [],
   "source": [
    "raw = True\n",
    "freq = 0"
   ]
  },
  {
   "cell_type": "markdown",
   "metadata": {},
   "source": [
    "# <font color='green' >PROEFPERSOON 1"
   ]
  },
  {
   "cell_type": "markdown",
   "metadata": {},
   "source": [
    "## side swing"
   ]
  },
  {
   "cell_type": "code",
   "execution_count": 106,
   "metadata": {},
   "outputs": [],
   "source": [
    "side_swing_left_forward_1 = []\n",
    "side_swing_right_forward_1 = []\n",
    "side_swing_left_backwards_1 = []\n",
    "side_swing_right_backwards_1 = []"
   ]
  },
  {
   "cell_type": "markdown",
   "metadata": {},
   "source": [
    "#### side_swing_left_forward"
   ]
  },
  {
   "cell_type": "code",
   "execution_count": 107,
   "metadata": {},
   "outputs": [],
   "source": [
    "side_swing4 = pd.read_csv(r\"C:\\Users\\Elise\\Documents\\unif\\master\\semester2\\masterproef\\gitProject\\thesis\\data\\side_swing\\proefpersoon1\\side_swing_left_forward-tim.csv\", sep=';', header=0, skipinitialspace=True)\n",
    "\n",
    "side_swing4 = preprocess(side_swing4, \"side_swing\", 3, 4)\n",
    "\n",
    "side_swing_left_forward_1 = [ side_swing4]"
   ]
  },
  {
   "cell_type": "code",
   "execution_count": 108,
   "metadata": {},
   "outputs": [],
   "source": [
    "for df in side_swing_left_forward_1:\n",
    "    f = sampling_freq(df)\n",
    "    freq += f"
   ]
  },
  {
   "cell_type": "markdown",
   "metadata": {},
   "source": [
    "#### side_swing_right_forward"
   ]
  },
  {
   "cell_type": "code",
   "execution_count": 109,
   "metadata": {},
   "outputs": [],
   "source": [
    "side_swing_rigth = pd.read_csv(r\"C:\\Users\\Elise\\Documents\\unif\\master\\semester2\\masterproef\\gitProject\\thesis\\data\\side_swing\\proefpersoon1\\side_swing_tim.csv\", sep=';', header=0, skipinitialspace=True)\n",
    "\n",
    "side_swing_rigth = preprocess(side_swing_rigth, \"side_swing\")\n",
    "\n",
    "side_swing_right_forward_1 = [side_swing_rigth]"
   ]
  },
  {
   "cell_type": "code",
   "execution_count": 110,
   "metadata": {},
   "outputs": [],
   "source": [
    "for df in side_swing_right_forward_1:\n",
    "    f = sampling_freq(df)\n",
    "    freq += f"
   ]
  },
  {
   "cell_type": "markdown",
   "metadata": {},
   "source": [
    "#### side_swing_left_backwards"
   ]
  },
  {
   "cell_type": "code",
   "execution_count": 111,
   "metadata": {},
   "outputs": [],
   "source": [
    "side_swing_left_backwards1 = pd.read_csv(r\"C:\\Users\\Elise\\Documents\\unif\\master\\semester2\\masterproef\\gitProject\\thesis\\data\\side_swing\\proefpersoon1\\side_swing_left_backwards_tim1.csv\", sep=';', header=0, skipinitialspace=True)\n",
    "side_swing_left_backwards2 = pd.read_csv(r\"C:\\Users\\Elise\\Documents\\unif\\master\\semester2\\masterproef\\gitProject\\thesis\\data\\side_swing\\proefpersoon1\\side_swing_left_backwards_tim2.csv\", sep=';', header=0, skipinitialspace=True)\n",
    "side_swing_left_backwards3 = pd.read_csv(r\"C:\\Users\\Elise\\Documents\\unif\\master\\semester2\\masterproef\\gitProject\\thesis\\data\\side_swing\\proefpersoon1\\side_swing_left_backwards_tim3.csv\", sep=';', header=0, skipinitialspace=True)\n",
    "side_swing_left_backwards4 = pd.read_csv(r\"C:\\Users\\Elise\\Documents\\unif\\master\\semester2\\masterproef\\gitProject\\thesis\\data\\side_swing\\proefpersoon1\\side_swing_left_backwards_tim4.csv\", sep=';', header=0, skipinitialspace=True)\n",
    "side_swing_left_backwards5 = pd.read_csv(r\"C:\\Users\\Elise\\Documents\\unif\\master\\semester2\\masterproef\\gitProject\\thesis\\data\\side_swing\\proefpersoon1\\side_swing_left_backwards_tim5.csv\", sep=';', header=0, skipinitialspace=True)\n",
    "side_swing_left_backwards6 = pd.read_csv(r\"C:\\Users\\Elise\\Documents\\unif\\master\\semester2\\masterproef\\gitProject\\thesis\\data\\side_swing\\proefpersoon1\\side_swing_left_backwards_tim6.csv\", sep=';', header=0, skipinitialspace=True)\n",
    "side_swing_left_backwards7 = pd.read_csv(r\"C:\\Users\\Elise\\Documents\\unif\\master\\semester2\\masterproef\\gitProject\\thesis\\data\\side_swing\\proefpersoon1\\side_swing_left_backwards_tim8.csv\", sep=';', header=0, skipinitialspace=True)\n",
    "side_swing_left_backwards8 = pd.read_csv(r\"C:\\Users\\Elise\\Documents\\unif\\master\\semester2\\masterproef\\gitProject\\thesis\\data\\side_swing\\proefpersoon1\\side_swing_left_backwards_tim9.csv\", sep=';', header=0, skipinitialspace=True)\n",
    "\n",
    "side_swing_left_backwards1 = preprocess(side_swing_left_backwards1, \"side_swing\")\n",
    "side_swing_left_backwards2 = preprocess(side_swing_left_backwards2, \"side_swing\",1,0)\n",
    "side_swing_left_backwards3 = preprocess(side_swing_left_backwards3, \"side_swing\",0,0)\n",
    "side_swing_left_backwards4 = preprocess(side_swing_left_backwards4, \"side_swing\",0,0)\n",
    "side_swing_left_backwards5 = preprocess(side_swing_left_backwards5, \"side_swing\",0,0)\n",
    "side_swing_left_backwards6 = preprocess(side_swing_left_backwards6, \"side_swing\",0,0)\n",
    "side_swing_left_backwards7 = preprocess(side_swing_left_backwards7, \"side_swing\",0,0)\n",
    "side_swing_left_backwards8 = preprocess(side_swing_left_backwards8, \"side_swing\",0,3)\n",
    "\n",
    "side_swing_left_backwards_1 = [side_swing_left_backwards2, side_swing_left_backwards3, \n",
    "                               side_swing_left_backwards4, side_swing_left_backwards5, side_swing_left_backwards6, side_swing_left_backwards7, side_swing_left_backwards8]"
   ]
  },
  {
   "cell_type": "code",
   "execution_count": 112,
   "metadata": {},
   "outputs": [],
   "source": [
    "for df in side_swing_left_backwards_1:\n",
    "    f = sampling_freq(df)\n",
    "    freq += f"
   ]
  },
  {
   "cell_type": "markdown",
   "metadata": {},
   "source": [
    "#### side_swing_right_backwards"
   ]
  },
  {
   "cell_type": "code",
   "execution_count": 113,
   "metadata": {},
   "outputs": [],
   "source": [
    "side_swing_right_backwards1 = pd.read_csv(r\"C:\\Users\\Elise\\Documents\\unif\\master\\semester2\\masterproef\\gitProject\\thesis\\data\\side_swing\\proefpersoon1\\side_swing_right_backwards_tim1.csv\", sep=';', header=0, skipinitialspace=True)\n",
    "side_swing_right_backwards2 = pd.read_csv(r\"C:\\Users\\Elise\\Documents\\unif\\master\\semester2\\masterproef\\gitProject\\thesis\\data\\side_swing\\proefpersoon1\\side_swing_right_backwards_tim2.csv\", sep=';', header=0, skipinitialspace=True)\n",
    "side_swing_right_backwards3 = pd.read_csv(r\"C:\\Users\\Elise\\Documents\\unif\\master\\semester2\\masterproef\\gitProject\\thesis\\data\\side_swing\\proefpersoon1\\side_swing_right_backwards_tim3.csv\", sep=';', header=0, skipinitialspace=True)\n",
    "side_swing_right_backwards4 = pd.read_csv(r\"C:\\Users\\Elise\\Documents\\unif\\master\\semester2\\masterproef\\gitProject\\thesis\\data\\side_swing\\proefpersoon1\\side_swing_right_backwards_tim4.csv\", sep=';', header=0, skipinitialspace=True)\n",
    "side_swing_right_backwards5 = pd.read_csv(r\"C:\\Users\\Elise\\Documents\\unif\\master\\semester2\\masterproef\\gitProject\\thesis\\data\\side_swing\\proefpersoon1\\side_swing_right_backwards_tim5.csv\", sep=';', header=0, skipinitialspace=True)\n",
    "side_swing_right_backwards6 = pd.read_csv(r\"C:\\Users\\Elise\\Documents\\unif\\master\\semester2\\masterproef\\gitProject\\thesis\\data\\side_swing\\proefpersoon1\\side_swing_right_backwards_tim7.csv\", sep=';', header=0, skipinitialspace=True)\n",
    "side_swing_right_backwards7 = pd.read_csv(r\"C:\\Users\\Elise\\Documents\\unif\\master\\semester2\\masterproef\\gitProject\\thesis\\data\\side_swing\\proefpersoon1\\side_swing_right_backwards_tim8.csv\", sep=';', header=0, skipinitialspace=True)\n",
    "\n",
    "side_swing_right_backwards1 = preprocess(side_swing_right_backwards1, \"side_swing\")\n",
    "side_swing_right_backwards2 = preprocess(side_swing_right_backwards2, \"side_swing\",1,0)\n",
    "side_swing_right_backwards3 = preprocess(side_swing_right_backwards3, \"side_swing\",0,0)\n",
    "side_swing_right_backwards4 = preprocess(side_swing_right_backwards4, \"side_swing\",0,0)\n",
    "side_swing_right_backwards5 = preprocess(side_swing_right_backwards5, \"side_swing\",0,0)\n",
    "side_swing_right_backwards6 = preprocess(side_swing_right_backwards6, \"side_swing\",0,0)\n",
    "side_swing_right_backwards7 = preprocess(side_swing_right_backwards7, \"side_swing\",0,3)\n",
    "\n",
    "side_swing_right_backwards_1 = [ side_swing_right_backwards2, side_swing_right_backwards3, \n",
    "                               side_swing_right_backwards4, side_swing_right_backwards5, side_swing_right_backwards6, side_swing_right_backwards7]"
   ]
  },
  {
   "cell_type": "code",
   "execution_count": 114,
   "metadata": {},
   "outputs": [],
   "source": [
    "for df in side_swing_right_backwards_1:\n",
    "    f = sampling_freq(df)\n",
    "    freq += f"
   ]
  },
  {
   "cell_type": "markdown",
   "metadata": {},
   "source": [
    "## SEGMENTATION"
   ]
  },
  {
   "cell_type": "code",
   "execution_count": 115,
   "metadata": {},
   "outputs": [],
   "source": [
    "if(not raw):\n",
    "    #segmentation + feature extraction\n",
    "    print(side_swing_right_forward_1[0].columns)\n",
    "    for i in range(0, len(side_swing_left_forward_1)):\n",
    "        side_swing_left_forward_1[i] =  feature_extraction_segmentation(side_swing_left_forward_1[i],1, True)\n",
    "\n",
    "    for i in range(0, len(side_swing_right_forward_1)):\n",
    "        side_swing_right_forward_1[i] =  feature_extraction_segmentation(side_swing_right_forward_1[i],1, True)\n",
    "\n",
    "    for i in range(0, len(side_swing_left_backwards_1)):\n",
    "        side_swing_left_backwards_1[i] =  feature_extraction_segmentation(side_swing_left_backwards_1[i],1, True)\n",
    "\n",
    "    for i in range(0, len(side_swing_right_backwards_1)):\n",
    "        side_swing_right_backwards_1[i] =  feature_extraction_segmentation(side_swing_right_backwards_1[i],1, True)"
   ]
  },
  {
   "cell_type": "code",
   "execution_count": 116,
   "metadata": {},
   "outputs": [
    {
     "data": {
      "text/plain": [
       "(3448, 5)"
      ]
     },
     "execution_count": 116,
     "metadata": {},
     "output_type": "execute_result"
    }
   ],
   "source": [
    "side_swing_right_backwards_1  = pd.concat(side_swing_right_backwards_1, ignore_index=True)\n",
    "side_swing_right_backwards_1.shape"
   ]
  },
  {
   "cell_type": "code",
   "execution_count": 117,
   "metadata": {},
   "outputs": [
    {
     "data": {
      "text/plain": [
       "(2747, 5)"
      ]
     },
     "execution_count": 117,
     "metadata": {},
     "output_type": "execute_result"
    }
   ],
   "source": [
    "side_swing_left_forward_1  = pd.concat(side_swing_left_forward_1, ignore_index=True)\n",
    "side_swing_left_forward_1.shape"
   ]
  },
  {
   "cell_type": "code",
   "execution_count": 118,
   "metadata": {},
   "outputs": [
    {
     "data": {
      "text/plain": [
       "(2649, 5)"
      ]
     },
     "execution_count": 118,
     "metadata": {},
     "output_type": "execute_result"
    }
   ],
   "source": [
    "side_swing_right_forward_1  = pd.concat(side_swing_right_forward_1, ignore_index=True)\n",
    "side_swing_right_forward_1.shape"
   ]
  },
  {
   "cell_type": "code",
   "execution_count": 119,
   "metadata": {},
   "outputs": [
    {
     "data": {
      "text/plain": [
       "(6298, 5)"
      ]
     },
     "execution_count": 119,
     "metadata": {},
     "output_type": "execute_result"
    }
   ],
   "source": [
    "side_swing_left_backwards_1  = pd.concat(side_swing_left_backwards_1, ignore_index=True)\n",
    "side_swing_left_backwards_1.shape"
   ]
  },
  {
   "cell_type": "markdown",
   "metadata": {},
   "source": [
    "### SHUFFLE - BALANCING"
   ]
  },
  {
   "cell_type": "code",
   "execution_count": 120,
   "metadata": {},
   "outputs": [],
   "source": [
    "shape = np.min([\n",
    "    side_swing_right_backwards_1.shape[0], \n",
    "    side_swing_left_forward_1.shape[0], \n",
    "    side_swing_right_forward_1.shape[0], \n",
    "    side_swing_left_backwards_1.shape[0]])"
   ]
  },
  {
   "cell_type": "code",
   "execution_count": 121,
   "metadata": {},
   "outputs": [],
   "source": [
    "side_swing_right_backwards_1 = shuffle(side_swing_right_backwards_1).head(shape).copy()\n",
    "side_swing_left_forward_1 = shuffle(side_swing_left_forward_1).head(shape).copy()\n",
    "side_swing_right_forward_1 = shuffle(side_swing_right_forward_1).head(shape).copy()\n",
    "side_swing_left_backwards_1 = shuffle(side_swing_left_backwards_1).head(shape).copy()"
   ]
  },
  {
   "cell_type": "code",
   "execution_count": 122,
   "metadata": {},
   "outputs": [],
   "source": [
    "side_swing_1 = pd.concat([side_swing_right_backwards_1, side_swing_left_forward_1, side_swing_right_forward_1, side_swing_left_backwards_1])"
   ]
  },
  {
   "cell_type": "markdown",
   "metadata": {},
   "source": [
    "# <font color='green' >PROEFPERSOON 2"
   ]
  },
  {
   "cell_type": "markdown",
   "metadata": {},
   "source": [
    "## side swing"
   ]
  },
  {
   "cell_type": "code",
   "execution_count": 123,
   "metadata": {},
   "outputs": [],
   "source": [
    "side_swing_left_forward_2 = []\n",
    "side_swing_right_forward_2 = []\n",
    "side_swing_left_backwards_2 = []\n",
    "side_swing_right_backwards_2 = []"
   ]
  },
  {
   "cell_type": "markdown",
   "metadata": {},
   "source": [
    "#### side_swing_left_forward"
   ]
  },
  {
   "cell_type": "code",
   "execution_count": 124,
   "metadata": {},
   "outputs": [],
   "source": [
    "side_swing = pd.read_csv(r\"C:\\Users\\Elise\\Documents\\unif\\master\\semester2\\masterproef\\gitProject\\thesis\\data\\side_swing\\proefpersoon2\\side_swing.csv\", sep=';', header=0, skipinitialspace=True)\n",
    "side_swing2 = pd.read_csv(r\"C:\\Users\\Elise\\Documents\\unif\\master\\semester2\\masterproef\\gitProject\\thesis\\data\\side_swing\\proefpersoon2\\side_swing2 (meting2).csv\", sep=';', header=0, skipinitialspace=True)\n",
    "side_swing3 = pd.read_csv(r\"C:\\Users\\Elise\\Documents\\unif\\master\\semester2\\masterproef\\gitProject\\thesis\\data\\side_swing\\proefpersoon2\\side_swing3 (meting2).csv\", sep=';', header=0, skipinitialspace=True)\n",
    "\n",
    "side_swing = preprocess(side_swing, \"side_swing\")\n",
    "side_swing2 = preprocess(side_swing2, \"side_swing\")\n",
    "side_swing3 = preprocess(side_swing3, \"side_swing\")\n",
    "\n",
    "side_swing_left_forward_2 = [side_swing, side_swing2, side_swing3]"
   ]
  },
  {
   "cell_type": "code",
   "execution_count": 125,
   "metadata": {},
   "outputs": [],
   "source": [
    "for df in side_swing_left_forward_2:\n",
    "    f = sampling_freq(df)\n",
    "    freq += f"
   ]
  },
  {
   "cell_type": "markdown",
   "metadata": {},
   "source": [
    "#### side_swing_right_forward"
   ]
  },
  {
   "cell_type": "code",
   "execution_count": 126,
   "metadata": {},
   "outputs": [],
   "source": [
    "side_swing_right_forward1 = pd.read_csv(r\"C:\\Users\\Elise\\Documents\\unif\\master\\semester2\\masterproef\\gitProject\\thesis\\data\\side_swing\\proefpersoon2\\side_swing_right_forward.csv\", sep=';', header=0, skipinitialspace=True)\n",
    "\n",
    "side_swing_right_forward1 = preprocess(side_swing_right_forward1, \"side_swing\")\n",
    "\n",
    "side_swing_right_forward_2 = [side_swing_right_forward1]"
   ]
  },
  {
   "cell_type": "code",
   "execution_count": 127,
   "metadata": {},
   "outputs": [],
   "source": [
    "for df in side_swing_right_forward_2:\n",
    "    f = sampling_freq(df)\n",
    "    freq += f"
   ]
  },
  {
   "cell_type": "markdown",
   "metadata": {},
   "source": [
    "#### side_swing_left_backwards"
   ]
  },
  {
   "cell_type": "code",
   "execution_count": 128,
   "metadata": {},
   "outputs": [],
   "source": [
    "side_swing_left_backwards1 = pd.read_csv(r\"C:\\Users\\Elise\\Documents\\unif\\master\\semester2\\masterproef\\gitProject\\thesis\\data\\side_swing\\proefpersoon2\\side_swing_backwards.csv\", sep=';', header=0, skipinitialspace=True)\n",
    "\n",
    "side_swing_left_backwards1 = preprocess(side_swing_left_backwards1, \"side_swing\")\n",
    "\n",
    "side_swing_left_backwards_2 = [side_swing_left_backwards1]"
   ]
  },
  {
   "cell_type": "code",
   "execution_count": 129,
   "metadata": {},
   "outputs": [],
   "source": [
    "for df in side_swing_left_backwards_2:\n",
    "    f = sampling_freq(df)\n",
    "    freq += f"
   ]
  },
  {
   "cell_type": "markdown",
   "metadata": {},
   "source": [
    "#### side_swing_right_backwards"
   ]
  },
  {
   "cell_type": "code",
   "execution_count": 130,
   "metadata": {},
   "outputs": [],
   "source": [
    "side_swing_right_backwards1 = pd.read_csv(r\"C:\\Users\\Elise\\Documents\\unif\\master\\semester2\\masterproef\\gitProject\\thesis\\data\\side_swing\\proefpersoon2\\side_swing_right_backwards1.csv\", sep=';', header=0, skipinitialspace=True)\n",
    "side_swing_right_backwards2 = pd.read_csv(r\"C:\\Users\\Elise\\Documents\\unif\\master\\semester2\\masterproef\\gitProject\\thesis\\data\\side_swing\\proefpersoon2\\side_swing_right_backwards2.csv\", sep=';', header=0, skipinitialspace=True)\n",
    "side_swing_right_backwards3 = pd.read_csv(r\"C:\\Users\\Elise\\Documents\\unif\\master\\semester2\\masterproef\\gitProject\\thesis\\data\\side_swing\\proefpersoon2\\side_swing_right_backwards3.csv\", sep=';', header=0, skipinitialspace=True)\n",
    "\n",
    "side_swing_right_backwards1 = preprocess(side_swing_right_backwards1, \"side_swing\",3,0)\n",
    "side_swing_right_backwards2 = preprocess(side_swing_right_backwards2, \"side_swing\",0,0)\n",
    "side_swing_right_backwards3 = preprocess(side_swing_right_backwards3, \"side_swing\",0,3)\n",
    "\n",
    "side_swing_right_backwards_2 = [side_swing_right_backwards1, side_swing_right_backwards2, side_swing_right_backwards3]"
   ]
  },
  {
   "cell_type": "code",
   "execution_count": 131,
   "metadata": {},
   "outputs": [],
   "source": [
    "for df in side_swing_right_backwards_2:\n",
    "    f = sampling_freq(df)\n",
    "    freq += f"
   ]
  },
  {
   "cell_type": "markdown",
   "metadata": {},
   "source": [
    "### SEGMENTATION"
   ]
  },
  {
   "cell_type": "code",
   "execution_count": 132,
   "metadata": {},
   "outputs": [],
   "source": [
    "if(not raw):\n",
    "    #segmentation + feature extraction\n",
    "    for i in range(0, len(side_swing_left_forward_2)):\n",
    "        side_swing_left_forward_2[i] =  feature_extraction_segmentation(side_swing_left_forward_2[i],1, True)\n",
    "\n",
    "    for i in range(0, len(side_swing_right_forward_2)):\n",
    "        side_swing_right_forward_2[i] =  feature_extraction_segmentation(side_swing_right_forward_2[i],1, True)\n",
    "\n",
    "    for i in range(0, len(side_swing_left_backwards_2)):\n",
    "        side_swing_left_backwards_2[i] =  feature_extraction_segmentation(side_swing_left_backwards_2[i],1, True)\n",
    "\n",
    "    for i in range(0, len(side_swing_right_backwards_2)):\n",
    "        side_swing_right_backwards_2[i] =  feature_extraction_segmentation(side_swing_right_backwards_2[i],1, True)"
   ]
  },
  {
   "cell_type": "code",
   "execution_count": 133,
   "metadata": {},
   "outputs": [
    {
     "data": {
      "text/plain": [
       "(4226, 5)"
      ]
     },
     "execution_count": 133,
     "metadata": {},
     "output_type": "execute_result"
    }
   ],
   "source": [
    "side_swing_right_backwards_2  = pd.concat(side_swing_right_backwards_2, ignore_index=True)\n",
    "side_swing_right_backwards_2.shape"
   ]
  },
  {
   "cell_type": "code",
   "execution_count": 134,
   "metadata": {},
   "outputs": [
    {
     "data": {
      "text/plain": [
       "(3658, 5)"
      ]
     },
     "execution_count": 134,
     "metadata": {},
     "output_type": "execute_result"
    }
   ],
   "source": [
    "side_swing_left_forward_2  = pd.concat(side_swing_left_forward_2, ignore_index=True)\n",
    "side_swing_left_forward_2.shape"
   ]
  },
  {
   "cell_type": "code",
   "execution_count": 135,
   "metadata": {},
   "outputs": [
    {
     "data": {
      "text/plain": [
       "(3804, 5)"
      ]
     },
     "execution_count": 135,
     "metadata": {},
     "output_type": "execute_result"
    }
   ],
   "source": [
    "side_swing_right_forward_2  = pd.concat(side_swing_right_forward_2, ignore_index=True)\n",
    "side_swing_right_forward_2.shape"
   ]
  },
  {
   "cell_type": "code",
   "execution_count": 136,
   "metadata": {},
   "outputs": [
    {
     "data": {
      "text/plain": [
       "(3116, 5)"
      ]
     },
     "execution_count": 136,
     "metadata": {},
     "output_type": "execute_result"
    }
   ],
   "source": [
    "side_swing_left_backwards_2  = pd.concat(side_swing_left_backwards_2, ignore_index=True)\n",
    "side_swing_left_backwards_2.shape"
   ]
  },
  {
   "cell_type": "markdown",
   "metadata": {},
   "source": [
    "### SHUFFLE - BALANCING"
   ]
  },
  {
   "cell_type": "code",
   "execution_count": 137,
   "metadata": {},
   "outputs": [],
   "source": [
    "shape = np.min([\n",
    "    side_swing_right_backwards_2.shape[0], \n",
    "    side_swing_left_forward_2.shape[0], \n",
    "    side_swing_right_forward_2.shape[0], \n",
    "    side_swing_left_backwards_2.shape[0]])"
   ]
  },
  {
   "cell_type": "code",
   "execution_count": 138,
   "metadata": {},
   "outputs": [],
   "source": [
    "side_swing_right_backwards_2 = shuffle(side_swing_right_backwards_2).head(shape).copy()\n",
    "side_swing_left_forward_2 = shuffle(side_swing_left_forward_2).head(shape).copy()\n",
    "side_swing_right_forward_2 = shuffle(side_swing_right_forward_2).head(shape).copy()\n",
    "side_swing_left_backwards_2 = shuffle(side_swing_left_backwards_2).head(shape).copy()"
   ]
  },
  {
   "cell_type": "code",
   "execution_count": 139,
   "metadata": {},
   "outputs": [],
   "source": [
    "side_swing_2 = pd.concat([side_swing_right_backwards_2, side_swing_left_forward_2, side_swing_right_forward_2, side_swing_left_backwards_2])"
   ]
  },
  {
   "cell_type": "markdown",
   "metadata": {},
   "source": [
    "# <font color='green'> Frequency"
   ]
  },
  {
   "cell_type": "code",
   "execution_count": 140,
   "metadata": {},
   "outputs": [
    {
     "data": {
      "text/plain": [
       "49.317387522335395"
      ]
     },
     "execution_count": 140,
     "metadata": {},
     "output_type": "execute_result"
    }
   ],
   "source": [
    "#mean\n",
    "freq = freq/23\n",
    "freq"
   ]
  },
  {
   "cell_type": "markdown",
   "metadata": {},
   "source": [
    "# <font color='green'> Merging datasets"
   ]
  },
  {
   "cell_type": "code",
   "execution_count": 62,
   "metadata": {},
   "outputs": [],
   "source": [
    "shape = np.min([\n",
    "    side_swing_1.shape[0],\n",
    "    side_swing_2.shape[0]\n",
    "])"
   ]
  },
  {
   "cell_type": "code",
   "execution_count": 63,
   "metadata": {},
   "outputs": [
    {
     "data": {
      "text/plain": [
       "(21192, 5)"
      ]
     },
     "execution_count": 63,
     "metadata": {},
     "output_type": "execute_result"
    }
   ],
   "source": [
    "dataset = pd.concat([\n",
    "    shuffle(side_swing_1).head(shape),\n",
    "    shuffle(side_swing_2).head(shape)\n",
    "])\n",
    "dataset.shape"
   ]
  },
  {
   "cell_type": "code",
   "execution_count": 64,
   "metadata": {},
   "outputs": [],
   "source": [
    "dataset.to_csv(\"side_swing_raw.csv\", sep=';')"
   ]
  },
  {
   "cell_type": "code",
   "execution_count": null,
   "metadata": {},
   "outputs": [],
   "source": []
  }
 ],
 "metadata": {
  "kernelspec": {
   "display_name": "Python 3",
   "language": "python",
   "name": "python3"
  },
  "language_info": {
   "codemirror_mode": {
    "name": "ipython",
    "version": 3
   },
   "file_extension": ".py",
   "mimetype": "text/x-python",
   "name": "python",
   "nbconvert_exporter": "python",
   "pygments_lexer": "ipython3",
   "version": "3.7.4"
  }
 },
 "nbformat": 4,
 "nbformat_minor": 2
}
