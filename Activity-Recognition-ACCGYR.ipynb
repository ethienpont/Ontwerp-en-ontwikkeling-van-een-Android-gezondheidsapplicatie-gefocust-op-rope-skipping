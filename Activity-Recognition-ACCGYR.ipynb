{
 "cells": [
  {
   "cell_type": "code",
   "execution_count": 1,
   "metadata": {},
   "outputs": [
    {
     "name": "stdout",
     "output_type": "stream",
     "text": [
      "2.1.0\n"
     ]
    }
   ],
   "source": [
    "import tensorflow as tf\n",
    "from tensorflow.keras import Sequential\n",
    "from tensorflow.keras.layers import Flatten, Dense, Dropout, BatchNormalization\n",
    "from tensorflow.keras.layers import Conv2D, MaxPool2D\n",
    "from tensorflow.keras.optimizers import Adam\n",
    "print(tf.__version__)\n",
    "import pandas as pd\n",
    "import numpy as np\n",
    "import matplotlib.pyplot as plt\n",
    "from sklearn.model_selection import train_test_split\n",
    "from sklearn.preprocessing import StandardScaler, LabelEncoder, normalize\n",
    "import matplotlib\n",
    "matplotlib.rcParams['figure.figsize'] = [10, 10]"
   ]
  },
  {
   "cell_type": "markdown",
   "metadata": {},
   "source": [
    "## Files inlezen"
   ]
  },
  {
   "cell_type": "code",
   "execution_count": 2,
   "metadata": {},
   "outputs": [
    {
     "data": {
      "text/html": [
       "<div>\n",
       "<style scoped>\n",
       "    .dataframe tbody tr th:only-of-type {\n",
       "        vertical-align: middle;\n",
       "    }\n",
       "\n",
       "    .dataframe tbody tr th {\n",
       "        vertical-align: top;\n",
       "    }\n",
       "\n",
       "    .dataframe thead th {\n",
       "        text-align: right;\n",
       "    }\n",
       "</style>\n",
       "<table border=\"1\" class=\"dataframe\">\n",
       "  <thead>\n",
       "    <tr style=\"text-align: right;\">\n",
       "      <th></th>\n",
       "      <th>Time</th>\n",
       "      <th>acc_x</th>\n",
       "      <th>acc_y</th>\n",
       "      <th>acc_z</th>\n",
       "      <th>gyro_x</th>\n",
       "      <th>gyro_y</th>\n",
       "      <th>gyro_z</th>\n",
       "      <th>activity</th>\n",
       "    </tr>\n",
       "  </thead>\n",
       "  <tbody>\n",
       "    <tr>\n",
       "      <td>0</td>\n",
       "      <td>2020-02-28 13:50:59.000</td>\n",
       "      <td>0.016602</td>\n",
       "      <td>-0.032715</td>\n",
       "      <td>-0.014160</td>\n",
       "      <td>12.145995</td>\n",
       "      <td>78.247070</td>\n",
       "      <td>-93.566887</td>\n",
       "      <td>NaN</td>\n",
       "    </tr>\n",
       "    <tr>\n",
       "      <td>1</td>\n",
       "      <td>2020-02-28 13:50:59.040</td>\n",
       "      <td>0.026367</td>\n",
       "      <td>-0.036621</td>\n",
       "      <td>0.002930</td>\n",
       "      <td>12.573241</td>\n",
       "      <td>77.087402</td>\n",
       "      <td>-93.688957</td>\n",
       "      <td>NaN</td>\n",
       "    </tr>\n",
       "    <tr>\n",
       "      <td>2</td>\n",
       "      <td>2020-02-28 13:50:59.080</td>\n",
       "      <td>0.017578</td>\n",
       "      <td>-0.029785</td>\n",
       "      <td>0.008789</td>\n",
       "      <td>10.437011</td>\n",
       "      <td>79.406738</td>\n",
       "      <td>-92.163078</td>\n",
       "      <td>NaN</td>\n",
       "    </tr>\n",
       "    <tr>\n",
       "      <td>3</td>\n",
       "      <td>2020-02-28 13:50:59.119</td>\n",
       "      <td>-0.017578</td>\n",
       "      <td>-0.020508</td>\n",
       "      <td>0.116211</td>\n",
       "      <td>12.023925</td>\n",
       "      <td>78.125000</td>\n",
       "      <td>-93.017570</td>\n",
       "      <td>NaN</td>\n",
       "    </tr>\n",
       "    <tr>\n",
       "      <td>4</td>\n",
       "      <td>2020-02-28 13:50:59.159</td>\n",
       "      <td>-0.034180</td>\n",
       "      <td>-0.013184</td>\n",
       "      <td>0.119141</td>\n",
       "      <td>9.704590</td>\n",
       "      <td>74.218750</td>\n",
       "      <td>-90.820305</td>\n",
       "      <td>NaN</td>\n",
       "    </tr>\n",
       "  </tbody>\n",
       "</table>\n",
       "</div>"
      ],
      "text/plain": [
       "                      Time     acc_x     acc_y     acc_z     gyro_x  \\\n",
       "0  2020-02-28 13:50:59.000  0.016602 -0.032715 -0.014160  12.145995   \n",
       "1  2020-02-28 13:50:59.040  0.026367 -0.036621  0.002930  12.573241   \n",
       "2  2020-02-28 13:50:59.080  0.017578 -0.029785  0.008789  10.437011   \n",
       "3  2020-02-28 13:50:59.119 -0.017578 -0.020508  0.116211  12.023925   \n",
       "4  2020-02-28 13:50:59.159 -0.034180 -0.013184  0.119141   9.704590   \n",
       "\n",
       "      gyro_y     gyro_z  activity  \n",
       "0  78.247070 -93.566887       NaN  \n",
       "1  77.087402 -93.688957       NaN  \n",
       "2  79.406738 -92.163078       NaN  \n",
       "3  78.125000 -93.017570       NaN  \n",
       "4  74.218750 -90.820305       NaN  "
      ]
     },
     "execution_count": 2,
     "metadata": {},
     "output_type": "execute_result"
    }
   ],
   "source": [
    "columns = [\"Time\",\"acc_x\", \"acc_y\", \"acc_z\",\"gyro_x\", \"gyro_y\", \"gyro_z\", \"activity\"]\n",
    "smash = pd.read_csv(\"Slagen/Smash/6011853_0000000000_25Hz.csv\", names=columns, sep=',')\n",
    "smash.head()"
   ]
  },
  {
   "cell_type": "code",
   "execution_count": 3,
   "metadata": {},
   "outputs": [
    {
     "data": {
      "text/html": [
       "<div>\n",
       "<style scoped>\n",
       "    .dataframe tbody tr th:only-of-type {\n",
       "        vertical-align: middle;\n",
       "    }\n",
       "\n",
       "    .dataframe tbody tr th {\n",
       "        vertical-align: top;\n",
       "    }\n",
       "\n",
       "    .dataframe thead th {\n",
       "        text-align: right;\n",
       "    }\n",
       "</style>\n",
       "<table border=\"1\" class=\"dataframe\">\n",
       "  <thead>\n",
       "    <tr style=\"text-align: right;\">\n",
       "      <th></th>\n",
       "      <th>Time</th>\n",
       "      <th>acc_x</th>\n",
       "      <th>acc_y</th>\n",
       "      <th>acc_z</th>\n",
       "      <th>gyro_x</th>\n",
       "      <th>gyro_y</th>\n",
       "      <th>gyro_z</th>\n",
       "      <th>activity</th>\n",
       "    </tr>\n",
       "  </thead>\n",
       "  <tbody>\n",
       "    <tr>\n",
       "      <td>0</td>\n",
       "      <td>2020-02-28 14:09:36.000</td>\n",
       "      <td>-0.529297</td>\n",
       "      <td>0.480957</td>\n",
       "      <td>-1.020996</td>\n",
       "      <td>6.652832</td>\n",
       "      <td>-106.994621</td>\n",
       "      <td>51.330563</td>\n",
       "      <td>NaN</td>\n",
       "    </tr>\n",
       "    <tr>\n",
       "      <td>1</td>\n",
       "      <td>2020-02-28 14:09:36.040</td>\n",
       "      <td>-0.467285</td>\n",
       "      <td>0.477051</td>\n",
       "      <td>-0.987305</td>\n",
       "      <td>15.563964</td>\n",
       "      <td>-102.172844</td>\n",
       "      <td>109.863274</td>\n",
       "      <td>NaN</td>\n",
       "    </tr>\n",
       "    <tr>\n",
       "      <td>2</td>\n",
       "      <td>2020-02-28 14:09:36.080</td>\n",
       "      <td>-0.314453</td>\n",
       "      <td>0.527832</td>\n",
       "      <td>-0.958008</td>\n",
       "      <td>28.198240</td>\n",
       "      <td>-85.754387</td>\n",
       "      <td>95.092766</td>\n",
       "      <td>NaN</td>\n",
       "    </tr>\n",
       "    <tr>\n",
       "      <td>3</td>\n",
       "      <td>2020-02-28 14:09:36.119</td>\n",
       "      <td>-0.345703</td>\n",
       "      <td>0.550781</td>\n",
       "      <td>-0.901855</td>\n",
       "      <td>46.874996</td>\n",
       "      <td>-64.025879</td>\n",
       "      <td>108.093254</td>\n",
       "      <td>NaN</td>\n",
       "    </tr>\n",
       "    <tr>\n",
       "      <td>4</td>\n",
       "      <td>2020-02-28 14:09:36.159</td>\n",
       "      <td>-0.176758</td>\n",
       "      <td>0.745117</td>\n",
       "      <td>-0.863770</td>\n",
       "      <td>58.227535</td>\n",
       "      <td>-32.714844</td>\n",
       "      <td>134.094238</td>\n",
       "      <td>NaN</td>\n",
       "    </tr>\n",
       "  </tbody>\n",
       "</table>\n",
       "</div>"
      ],
      "text/plain": [
       "                      Time     acc_x     acc_y     acc_z     gyro_x  \\\n",
       "0  2020-02-28 14:09:36.000 -0.529297  0.480957 -1.020996   6.652832   \n",
       "1  2020-02-28 14:09:36.040 -0.467285  0.477051 -0.987305  15.563964   \n",
       "2  2020-02-28 14:09:36.080 -0.314453  0.527832 -0.958008  28.198240   \n",
       "3  2020-02-28 14:09:36.119 -0.345703  0.550781 -0.901855  46.874996   \n",
       "4  2020-02-28 14:09:36.159 -0.176758  0.745117 -0.863770  58.227535   \n",
       "\n",
       "       gyro_y      gyro_z  activity  \n",
       "0 -106.994621   51.330563       NaN  \n",
       "1 -102.172844  109.863274       NaN  \n",
       "2  -85.754387   95.092766       NaN  \n",
       "3  -64.025879  108.093254       NaN  \n",
       "4  -32.714844  134.094238       NaN  "
      ]
     },
     "execution_count": 3,
     "metadata": {},
     "output_type": "execute_result"
    }
   ],
   "source": [
    "columns = [\"Time\",\"acc_x\", \"acc_y\", \"acc_z\",\"gyro_x\", \"gyro_y\", \"gyro_z\", \"activity\"]\n",
    "lob = pd.read_csv(\"Slagen/Lob/6011853_0000000000_25Hz.csv\", names=columns, sep=',')\n",
    "lob.head()"
   ]
  },
  {
   "cell_type": "code",
   "execution_count": 4,
   "metadata": {},
   "outputs": [
    {
     "data": {
      "text/html": [
       "<div>\n",
       "<style scoped>\n",
       "    .dataframe tbody tr th:only-of-type {\n",
       "        vertical-align: middle;\n",
       "    }\n",
       "\n",
       "    .dataframe tbody tr th {\n",
       "        vertical-align: top;\n",
       "    }\n",
       "\n",
       "    .dataframe thead th {\n",
       "        text-align: right;\n",
       "    }\n",
       "</style>\n",
       "<table border=\"1\" class=\"dataframe\">\n",
       "  <thead>\n",
       "    <tr style=\"text-align: right;\">\n",
       "      <th></th>\n",
       "      <th>Time</th>\n",
       "      <th>acc_x</th>\n",
       "      <th>acc_y</th>\n",
       "      <th>acc_z</th>\n",
       "      <th>gyro_x</th>\n",
       "      <th>gyro_y</th>\n",
       "      <th>gyro_z</th>\n",
       "      <th>activity</th>\n",
       "    </tr>\n",
       "  </thead>\n",
       "  <tbody>\n",
       "    <tr>\n",
       "      <td>0</td>\n",
       "      <td>2020-02-28 13:44:21.000</td>\n",
       "      <td>0.007324</td>\n",
       "      <td>-0.000977</td>\n",
       "      <td>0.011230</td>\n",
       "      <td>9.826660</td>\n",
       "      <td>76.538086</td>\n",
       "      <td>-88.562004</td>\n",
       "      <td>NaN</td>\n",
       "    </tr>\n",
       "    <tr>\n",
       "      <td>1</td>\n",
       "      <td>2020-02-28 13:44:21.040</td>\n",
       "      <td>0.019043</td>\n",
       "      <td>-0.008301</td>\n",
       "      <td>0.003418</td>\n",
       "      <td>9.826660</td>\n",
       "      <td>78.308105</td>\n",
       "      <td>-89.599602</td>\n",
       "      <td>NaN</td>\n",
       "    </tr>\n",
       "    <tr>\n",
       "      <td>2</td>\n",
       "      <td>2020-02-28 13:44:21.079</td>\n",
       "      <td>0.022949</td>\n",
       "      <td>-0.021973</td>\n",
       "      <td>-0.014648</td>\n",
       "      <td>8.300781</td>\n",
       "      <td>76.782227</td>\n",
       "      <td>-88.439934</td>\n",
       "      <td>NaN</td>\n",
       "    </tr>\n",
       "    <tr>\n",
       "      <td>3</td>\n",
       "      <td>2020-02-28 13:44:21.119</td>\n",
       "      <td>0.012207</td>\n",
       "      <td>-0.019531</td>\n",
       "      <td>-0.022461</td>\n",
       "      <td>11.291503</td>\n",
       "      <td>80.383293</td>\n",
       "      <td>-86.975090</td>\n",
       "      <td>NaN</td>\n",
       "    </tr>\n",
       "    <tr>\n",
       "      <td>4</td>\n",
       "      <td>2020-02-28 13:44:21.159</td>\n",
       "      <td>-0.011719</td>\n",
       "      <td>0.003906</td>\n",
       "      <td>0.009766</td>\n",
       "      <td>12.939452</td>\n",
       "      <td>81.542961</td>\n",
       "      <td>-88.317863</td>\n",
       "      <td>NaN</td>\n",
       "    </tr>\n",
       "  </tbody>\n",
       "</table>\n",
       "</div>"
      ],
      "text/plain": [
       "                      Time     acc_x     acc_y     acc_z     gyro_x  \\\n",
       "0  2020-02-28 13:44:21.000  0.007324 -0.000977  0.011230   9.826660   \n",
       "1  2020-02-28 13:44:21.040  0.019043 -0.008301  0.003418   9.826660   \n",
       "2  2020-02-28 13:44:21.079  0.022949 -0.021973 -0.014648   8.300781   \n",
       "3  2020-02-28 13:44:21.119  0.012207 -0.019531 -0.022461  11.291503   \n",
       "4  2020-02-28 13:44:21.159 -0.011719  0.003906  0.009766  12.939452   \n",
       "\n",
       "      gyro_y     gyro_z  activity  \n",
       "0  76.538086 -88.562004       NaN  \n",
       "1  78.308105 -89.599602       NaN  \n",
       "2  76.782227 -88.439934       NaN  \n",
       "3  80.383293 -86.975090       NaN  \n",
       "4  81.542961 -88.317863       NaN  "
      ]
     },
     "execution_count": 4,
     "metadata": {},
     "output_type": "execute_result"
    }
   ],
   "source": [
    "columns = [\"Time\",\"acc_x\", \"acc_y\", \"acc_z\",\"gyro_x\", \"gyro_y\", \"gyro_z\", \"activity\"]\n",
    "clear = pd.read_csv(\"Slagen/Clear/6011853_0000000000_25Hz.csv\", names=columns, sep=',')\n",
    "clear.head()"
   ]
  },
  {
   "cell_type": "code",
   "execution_count": 5,
   "metadata": {},
   "outputs": [
    {
     "data": {
      "text/html": [
       "<div>\n",
       "<style scoped>\n",
       "    .dataframe tbody tr th:only-of-type {\n",
       "        vertical-align: middle;\n",
       "    }\n",
       "\n",
       "    .dataframe tbody tr th {\n",
       "        vertical-align: top;\n",
       "    }\n",
       "\n",
       "    .dataframe thead th {\n",
       "        text-align: right;\n",
       "    }\n",
       "</style>\n",
       "<table border=\"1\" class=\"dataframe\">\n",
       "  <thead>\n",
       "    <tr style=\"text-align: right;\">\n",
       "      <th></th>\n",
       "      <th>Time</th>\n",
       "      <th>acc_x</th>\n",
       "      <th>acc_y</th>\n",
       "      <th>acc_z</th>\n",
       "      <th>gyro_x</th>\n",
       "      <th>gyro_y</th>\n",
       "      <th>gyro_z</th>\n",
       "      <th>activity</th>\n",
       "    </tr>\n",
       "  </thead>\n",
       "  <tbody>\n",
       "    <tr>\n",
       "      <td>0</td>\n",
       "      <td>2020-02-28 14:06:02.002</td>\n",
       "      <td>0.032227</td>\n",
       "      <td>0.707520</td>\n",
       "      <td>-0.857910</td>\n",
       "      <td>-14.404296</td>\n",
       "      <td>-3.967285</td>\n",
       "      <td>-17.517090</td>\n",
       "      <td>NaN</td>\n",
       "    </tr>\n",
       "    <tr>\n",
       "      <td>1</td>\n",
       "      <td>2020-02-28 14:06:02.042</td>\n",
       "      <td>-0.047363</td>\n",
       "      <td>0.657227</td>\n",
       "      <td>-0.893555</td>\n",
       "      <td>68.237305</td>\n",
       "      <td>0.122070</td>\n",
       "      <td>-45.104977</td>\n",
       "      <td>NaN</td>\n",
       "    </tr>\n",
       "    <tr>\n",
       "      <td>2</td>\n",
       "      <td>2020-02-28 14:06:02.082</td>\n",
       "      <td>-0.084473</td>\n",
       "      <td>0.687012</td>\n",
       "      <td>-0.918457</td>\n",
       "      <td>85.754387</td>\n",
       "      <td>-3.601074</td>\n",
       "      <td>-13.488769</td>\n",
       "      <td>NaN</td>\n",
       "    </tr>\n",
       "    <tr>\n",
       "      <td>3</td>\n",
       "      <td>2020-02-28 14:06:02.122</td>\n",
       "      <td>-0.019531</td>\n",
       "      <td>0.593262</td>\n",
       "      <td>-0.818359</td>\n",
       "      <td>73.303223</td>\n",
       "      <td>-6.591796</td>\n",
       "      <td>-20.141600</td>\n",
       "      <td>NaN</td>\n",
       "    </tr>\n",
       "    <tr>\n",
       "      <td>4</td>\n",
       "      <td>2020-02-28 14:06:02.162</td>\n",
       "      <td>0.026855</td>\n",
       "      <td>0.577148</td>\n",
       "      <td>-0.777344</td>\n",
       "      <td>36.315918</td>\n",
       "      <td>0.793457</td>\n",
       "      <td>6.713867</td>\n",
       "      <td>NaN</td>\n",
       "    </tr>\n",
       "  </tbody>\n",
       "</table>\n",
       "</div>"
      ],
      "text/plain": [
       "                      Time     acc_x     acc_y     acc_z     gyro_x    gyro_y  \\\n",
       "0  2020-02-28 14:06:02.002  0.032227  0.707520 -0.857910 -14.404296 -3.967285   \n",
       "1  2020-02-28 14:06:02.042 -0.047363  0.657227 -0.893555  68.237305  0.122070   \n",
       "2  2020-02-28 14:06:02.082 -0.084473  0.687012 -0.918457  85.754387 -3.601074   \n",
       "3  2020-02-28 14:06:02.122 -0.019531  0.593262 -0.818359  73.303223 -6.591796   \n",
       "4  2020-02-28 14:06:02.162  0.026855  0.577148 -0.777344  36.315918  0.793457   \n",
       "\n",
       "      gyro_z  activity  \n",
       "0 -17.517090       NaN  \n",
       "1 -45.104977       NaN  \n",
       "2 -13.488769       NaN  \n",
       "3 -20.141600       NaN  \n",
       "4   6.713867       NaN  "
      ]
     },
     "execution_count": 5,
     "metadata": {},
     "output_type": "execute_result"
    }
   ],
   "source": [
    "columns = [\"Time\",\"acc_x\", \"acc_y\", \"acc_z\",\"gyro_x\", \"gyro_y\", \"gyro_z\", \"activity\"]\n",
    "dab = pd.read_csv(\"Slagen/Dab/6011853_0000000000_25Hz.csv\", names=columns, sep=',')\n",
    "dab.head()"
   ]
  },
  {
   "cell_type": "code",
   "execution_count": 6,
   "metadata": {},
   "outputs": [
    {
     "data": {
      "text/html": [
       "<div>\n",
       "<style scoped>\n",
       "    .dataframe tbody tr th:only-of-type {\n",
       "        vertical-align: middle;\n",
       "    }\n",
       "\n",
       "    .dataframe tbody tr th {\n",
       "        vertical-align: top;\n",
       "    }\n",
       "\n",
       "    .dataframe thead th {\n",
       "        text-align: right;\n",
       "    }\n",
       "</style>\n",
       "<table border=\"1\" class=\"dataframe\">\n",
       "  <thead>\n",
       "    <tr style=\"text-align: right;\">\n",
       "      <th></th>\n",
       "      <th>Time</th>\n",
       "      <th>acc_x</th>\n",
       "      <th>acc_y</th>\n",
       "      <th>acc_z</th>\n",
       "      <th>gyro_x</th>\n",
       "      <th>gyro_y</th>\n",
       "      <th>gyro_z</th>\n",
       "      <th>activity</th>\n",
       "    </tr>\n",
       "  </thead>\n",
       "  <tbody>\n",
       "    <tr>\n",
       "      <td>0</td>\n",
       "      <td>2020-02-28 13:56:13.000</td>\n",
       "      <td>-1.438965</td>\n",
       "      <td>4.177246</td>\n",
       "      <td>-8.287598</td>\n",
       "      <td>-1999.938843</td>\n",
       "      <td>-671.874939</td>\n",
       "      <td>499.938934</td>\n",
       "      <td>NaN</td>\n",
       "    </tr>\n",
       "    <tr>\n",
       "      <td>1</td>\n",
       "      <td>2020-02-28 13:56:13.039</td>\n",
       "      <td>-3.118652</td>\n",
       "      <td>-3.612305</td>\n",
       "      <td>-6.059082</td>\n",
       "      <td>-1359.741089</td>\n",
       "      <td>827.392517</td>\n",
       "      <td>354.125946</td>\n",
       "      <td>NaN</td>\n",
       "    </tr>\n",
       "    <tr>\n",
       "      <td>2</td>\n",
       "      <td>2020-02-28 13:56:13.079</td>\n",
       "      <td>-1.413574</td>\n",
       "      <td>-2.388184</td>\n",
       "      <td>0.218262</td>\n",
       "      <td>-209.350571</td>\n",
       "      <td>232.421860</td>\n",
       "      <td>95.642082</td>\n",
       "      <td>NaN</td>\n",
       "    </tr>\n",
       "    <tr>\n",
       "      <td>3</td>\n",
       "      <td>2020-02-28 13:56:13.119</td>\n",
       "      <td>-1.266602</td>\n",
       "      <td>0.960449</td>\n",
       "      <td>1.499023</td>\n",
       "      <td>447.631805</td>\n",
       "      <td>-202.209457</td>\n",
       "      <td>-189.025864</td>\n",
       "      <td>NaN</td>\n",
       "    </tr>\n",
       "    <tr>\n",
       "      <td>4</td>\n",
       "      <td>2020-02-28 13:56:13.159</td>\n",
       "      <td>0.508301</td>\n",
       "      <td>2.041992</td>\n",
       "      <td>0.338867</td>\n",
       "      <td>476.379364</td>\n",
       "      <td>12.634276</td>\n",
       "      <td>-36.560059</td>\n",
       "      <td>NaN</td>\n",
       "    </tr>\n",
       "  </tbody>\n",
       "</table>\n",
       "</div>"
      ],
      "text/plain": [
       "                      Time     acc_x     acc_y     acc_z       gyro_x  \\\n",
       "0  2020-02-28 13:56:13.000 -1.438965  4.177246 -8.287598 -1999.938843   \n",
       "1  2020-02-28 13:56:13.039 -3.118652 -3.612305 -6.059082 -1359.741089   \n",
       "2  2020-02-28 13:56:13.079 -1.413574 -2.388184  0.218262  -209.350571   \n",
       "3  2020-02-28 13:56:13.119 -1.266602  0.960449  1.499023   447.631805   \n",
       "4  2020-02-28 13:56:13.159  0.508301  2.041992  0.338867   476.379364   \n",
       "\n",
       "       gyro_y      gyro_z  activity  \n",
       "0 -671.874939  499.938934       NaN  \n",
       "1  827.392517  354.125946       NaN  \n",
       "2  232.421860   95.642082       NaN  \n",
       "3 -202.209457 -189.025864       NaN  \n",
       "4   12.634276  -36.560059       NaN  "
      ]
     },
     "execution_count": 6,
     "metadata": {},
     "output_type": "execute_result"
    }
   ],
   "source": [
    "columns = [\"Time\",\"acc_x\", \"acc_y\", \"acc_z\",\"gyro_x\", \"gyro_y\", \"gyro_z\", \"activity\"]\n",
    "drive = pd.read_csv(\"Slagen/Drive/6011853_0000000000_25Hz.csv\", names=columns, sep=',')\n",
    "drive.head()"
   ]
  },
  {
   "cell_type": "code",
   "execution_count": 7,
   "metadata": {},
   "outputs": [
    {
     "data": {
      "text/html": [
       "<div>\n",
       "<style scoped>\n",
       "    .dataframe tbody tr th:only-of-type {\n",
       "        vertical-align: middle;\n",
       "    }\n",
       "\n",
       "    .dataframe tbody tr th {\n",
       "        vertical-align: top;\n",
       "    }\n",
       "\n",
       "    .dataframe thead th {\n",
       "        text-align: right;\n",
       "    }\n",
       "</style>\n",
       "<table border=\"1\" class=\"dataframe\">\n",
       "  <thead>\n",
       "    <tr style=\"text-align: right;\">\n",
       "      <th></th>\n",
       "      <th>Time</th>\n",
       "      <th>acc_x</th>\n",
       "      <th>acc_y</th>\n",
       "      <th>acc_z</th>\n",
       "      <th>gyro_x</th>\n",
       "      <th>gyro_y</th>\n",
       "      <th>gyro_z</th>\n",
       "      <th>activity</th>\n",
       "    </tr>\n",
       "  </thead>\n",
       "  <tbody>\n",
       "    <tr>\n",
       "      <td>0</td>\n",
       "      <td>2020-02-28 14:01:10.000</td>\n",
       "      <td>-0.878418</td>\n",
       "      <td>1.281250</td>\n",
       "      <td>0.145020</td>\n",
       "      <td>-179.077133</td>\n",
       "      <td>-69.580078</td>\n",
       "      <td>41.015621</td>\n",
       "      <td>NaN</td>\n",
       "    </tr>\n",
       "    <tr>\n",
       "      <td>1</td>\n",
       "      <td>2020-02-28 14:01:10.039</td>\n",
       "      <td>-0.148438</td>\n",
       "      <td>1.527832</td>\n",
       "      <td>0.835449</td>\n",
       "      <td>-104.553215</td>\n",
       "      <td>-23.925779</td>\n",
       "      <td>101.257317</td>\n",
       "      <td>NaN</td>\n",
       "    </tr>\n",
       "    <tr>\n",
       "      <td>2</td>\n",
       "      <td>2020-02-28 14:01:10.079</td>\n",
       "      <td>-1.562500</td>\n",
       "      <td>-0.939453</td>\n",
       "      <td>-0.297852</td>\n",
       "      <td>310.302734</td>\n",
       "      <td>9.155273</td>\n",
       "      <td>499.816864</td>\n",
       "      <td>NaN</td>\n",
       "    </tr>\n",
       "    <tr>\n",
       "      <td>3</td>\n",
       "      <td>2020-02-28 14:01:10.119</td>\n",
       "      <td>-1.594727</td>\n",
       "      <td>-2.951660</td>\n",
       "      <td>-3.930664</td>\n",
       "      <td>1066.833496</td>\n",
       "      <td>-78.796387</td>\n",
       "      <td>-343.994110</td>\n",
       "      <td>NaN</td>\n",
       "    </tr>\n",
       "    <tr>\n",
       "      <td>4</td>\n",
       "      <td>2020-02-28 14:01:10.159</td>\n",
       "      <td>-1.501953</td>\n",
       "      <td>4.409180</td>\n",
       "      <td>-1.812500</td>\n",
       "      <td>887.878357</td>\n",
       "      <td>147.399902</td>\n",
       "      <td>-157.104492</td>\n",
       "      <td>NaN</td>\n",
       "    </tr>\n",
       "  </tbody>\n",
       "</table>\n",
       "</div>"
      ],
      "text/plain": [
       "                      Time     acc_x     acc_y     acc_z       gyro_x  \\\n",
       "0  2020-02-28 14:01:10.000 -0.878418  1.281250  0.145020  -179.077133   \n",
       "1  2020-02-28 14:01:10.039 -0.148438  1.527832  0.835449  -104.553215   \n",
       "2  2020-02-28 14:01:10.079 -1.562500 -0.939453 -0.297852   310.302734   \n",
       "3  2020-02-28 14:01:10.119 -1.594727 -2.951660 -3.930664  1066.833496   \n",
       "4  2020-02-28 14:01:10.159 -1.501953  4.409180 -1.812500   887.878357   \n",
       "\n",
       "       gyro_y      gyro_z  activity  \n",
       "0  -69.580078   41.015621       NaN  \n",
       "1  -23.925779  101.257317       NaN  \n",
       "2    9.155273  499.816864       NaN  \n",
       "3  -78.796387 -343.994110       NaN  \n",
       "4  147.399902 -157.104492       NaN  "
      ]
     },
     "execution_count": 7,
     "metadata": {},
     "output_type": "execute_result"
    }
   ],
   "source": [
    "columns = [\"Time\",\"acc_x\", \"acc_y\", \"acc_z\",\"gyro_x\", \"gyro_y\", \"gyro_z\", \"activity\"]\n",
    "ks = pd.read_csv(\"Slagen/Korte Service/6011853_0000000000_25Hz.csv\", names=columns, sep=',')\n",
    "ks.head()"
   ]
  },
  {
   "cell_type": "code",
   "execution_count": 9,
   "metadata": {},
   "outputs": [
    {
     "data": {
      "text/html": [
       "<div>\n",
       "<style scoped>\n",
       "    .dataframe tbody tr th:only-of-type {\n",
       "        vertical-align: middle;\n",
       "    }\n",
       "\n",
       "    .dataframe tbody tr th {\n",
       "        vertical-align: top;\n",
       "    }\n",
       "\n",
       "    .dataframe thead th {\n",
       "        text-align: right;\n",
       "    }\n",
       "</style>\n",
       "<table border=\"1\" class=\"dataframe\">\n",
       "  <thead>\n",
       "    <tr style=\"text-align: right;\">\n",
       "      <th></th>\n",
       "      <th>Time</th>\n",
       "      <th>acc_x</th>\n",
       "      <th>acc_y</th>\n",
       "      <th>acc_z</th>\n",
       "      <th>gyro_x</th>\n",
       "      <th>gyro_y</th>\n",
       "      <th>gyro_z</th>\n",
       "      <th>activity</th>\n",
       "    </tr>\n",
       "  </thead>\n",
       "  <tbody>\n",
       "    <tr>\n",
       "      <td>0</td>\n",
       "      <td>2020-02-28 14:15:46.000</td>\n",
       "      <td>-0.526367</td>\n",
       "      <td>0.927734</td>\n",
       "      <td>-0.232422</td>\n",
       "      <td>-13.916015</td>\n",
       "      <td>17.272949</td>\n",
       "      <td>-31.188963</td>\n",
       "      <td>NaN</td>\n",
       "    </tr>\n",
       "    <tr>\n",
       "      <td>1</td>\n",
       "      <td>2020-02-28 14:15:46.040</td>\n",
       "      <td>-0.553223</td>\n",
       "      <td>0.841309</td>\n",
       "      <td>-0.222656</td>\n",
       "      <td>-24.047850</td>\n",
       "      <td>15.624999</td>\n",
       "      <td>52.185055</td>\n",
       "      <td>NaN</td>\n",
       "    </tr>\n",
       "    <tr>\n",
       "      <td>2</td>\n",
       "      <td>2020-02-28 14:15:46.080</td>\n",
       "      <td>-0.609375</td>\n",
       "      <td>0.743164</td>\n",
       "      <td>-0.186035</td>\n",
       "      <td>-10.742187</td>\n",
       "      <td>2.136230</td>\n",
       "      <td>-36.804199</td>\n",
       "      <td>NaN</td>\n",
       "    </tr>\n",
       "    <tr>\n",
       "      <td>3</td>\n",
       "      <td>2020-02-28 14:15:46.119</td>\n",
       "      <td>-0.446289</td>\n",
       "      <td>0.832031</td>\n",
       "      <td>-0.168945</td>\n",
       "      <td>-11.108397</td>\n",
       "      <td>-1.831055</td>\n",
       "      <td>17.700195</td>\n",
       "      <td>NaN</td>\n",
       "    </tr>\n",
       "    <tr>\n",
       "      <td>4</td>\n",
       "      <td>2020-02-28 14:15:46.159</td>\n",
       "      <td>-0.548340</td>\n",
       "      <td>0.723145</td>\n",
       "      <td>-0.123535</td>\n",
       "      <td>-7.019042</td>\n",
       "      <td>-2.807617</td>\n",
       "      <td>-12.145995</td>\n",
       "      <td>NaN</td>\n",
       "    </tr>\n",
       "  </tbody>\n",
       "</table>\n",
       "</div>"
      ],
      "text/plain": [
       "                      Time     acc_x     acc_y     acc_z     gyro_x  \\\n",
       "0  2020-02-28 14:15:46.000 -0.526367  0.927734 -0.232422 -13.916015   \n",
       "1  2020-02-28 14:15:46.040 -0.553223  0.841309 -0.222656 -24.047850   \n",
       "2  2020-02-28 14:15:46.080 -0.609375  0.743164 -0.186035 -10.742187   \n",
       "3  2020-02-28 14:15:46.119 -0.446289  0.832031 -0.168945 -11.108397   \n",
       "4  2020-02-28 14:15:46.159 -0.548340  0.723145 -0.123535  -7.019042   \n",
       "\n",
       "      gyro_y     gyro_z  activity  \n",
       "0  17.272949 -31.188963       NaN  \n",
       "1  15.624999  52.185055       NaN  \n",
       "2   2.136230 -36.804199       NaN  \n",
       "3  -1.831055  17.700195       NaN  \n",
       "4  -2.807617 -12.145995       NaN  "
      ]
     },
     "execution_count": 9,
     "metadata": {},
     "output_type": "execute_result"
    }
   ],
   "source": [
    "columns = [\"Time\",\"acc_x\", \"acc_y\", \"acc_z\",\"gyro_x\", \"gyro_y\", \"gyro_z\", \"activity\"]\n",
    "netdrop = pd.read_csv(\"Slagen/Netdrop/6011853_0000000000_25Hz.csv\", names=columns, sep=',')\n",
    "netdrop.head()"
   ]
  },
  {
   "cell_type": "markdown",
   "metadata": {},
   "source": [
    "## Thresholding - Labeling"
   ]
  },
  {
   "cell_type": "code",
   "execution_count": 11,
   "metadata": {},
   "outputs": [],
   "source": [
    "smash['activity'] = \"smash\"\n",
    "lob['activity'] = \"lob\"\n",
    "clear['activity'] = \"clear\"\n",
    "dab['activity'] = \"dab\"\n",
    "drive['activity'] = \"drive\"\n",
    "ks['activity'] = \"ks\"\n",
    "netdrop['activity'] = \"netdrop\""
   ]
  },
  {
   "cell_type": "code",
   "execution_count": 12,
   "metadata": {},
   "outputs": [],
   "source": [
    "smash = smash.drop(['Time'], axis = 1).copy()\n",
    "lob = lob.drop(['Time'], axis = 1).copy()\n",
    "clear = clear.drop(['Time'], axis = 1).copy()\n",
    "dab = dab.drop(['Time'], axis = 1).copy()\n",
    "drive = drive.drop(['Time'], axis = 1).copy()\n",
    "ks = ks.drop(['Time'], axis = 1).copy()\n",
    "netdrop = netdrop.drop(['Time'], axis = 1).copy()"
   ]
  },
  {
   "cell_type": "markdown",
   "metadata": {},
   "source": [
    "## Combineren dataframes"
   ]
  },
  {
   "cell_type": "code",
   "execution_count": 13,
   "metadata": {},
   "outputs": [],
   "source": [
    "smash = smash.append(lob)\n",
    "smash = smash.append(clear)\n",
    "smash = smash.append(dab)\n",
    "smash = smash.append(drive)\n",
    "smash = smash.append(ks)\n",
    "smash = smash.append(netdrop)"
   ]
  },
  {
   "cell_type": "markdown",
   "metadata": {},
   "source": [
    "## Data balancing"
   ]
  },
  {
   "cell_type": "code",
   "execution_count": 14,
   "metadata": {},
   "outputs": [
    {
     "data": {
      "text/plain": [
       "smash      2602\n",
       "clear      2477\n",
       "drive      1651\n",
       "lob        1601\n",
       "ks         1176\n",
       "netdrop    1151\n",
       "dab        1126\n",
       "Name: activity, dtype: int64"
      ]
     },
     "execution_count": 14,
     "metadata": {},
     "output_type": "execute_result"
    }
   ],
   "source": [
    "smash['activity'].value_counts()"
   ]
  },
  {
   "cell_type": "code",
   "execution_count": 15,
   "metadata": {},
   "outputs": [],
   "source": [
    "Smash = smash[smash['activity']=='smash'].head(1126).copy()\n",
    "Lob = smash[smash['activity']=='lob'].head(1126).copy()\n",
    "Clear = smash[smash['activity']=='clear'].head(1126).copy()\n",
    "Drive = smash[smash['activity']=='drive'].head(1126).copy()\n",
    "Ks = smash[smash['activity']=='ks'].head(1126).copy()\n",
    "Netdrop = smash[smash['activity']=='netdrop'].head(1126).copy()\n",
    "Dab = smash[smash['activity']=='dab'].head(1126).copy()"
   ]
  },
  {
   "cell_type": "code",
   "execution_count": 16,
   "metadata": {},
   "outputs": [
    {
     "data": {
      "text/plain": [
       "(7882, 7)"
      ]
     },
     "execution_count": 16,
     "metadata": {},
     "output_type": "execute_result"
    }
   ],
   "source": [
    "balanced_data = pd.DataFrame()\n",
    "balanced_data = balanced_data.append([Smash, Lob,Clear,Drive, Ks,Netdrop,Dab])\n",
    "balanced_data.shape"
   ]
  },
  {
   "cell_type": "code",
   "execution_count": 17,
   "metadata": {},
   "outputs": [],
   "source": [
    "from sklearn.preprocessing import LabelEncoder"
   ]
  },
  {
   "cell_type": "code",
   "execution_count": 18,
   "metadata": {},
   "outputs": [
    {
     "data": {
      "text/html": [
       "<div>\n",
       "<style scoped>\n",
       "    .dataframe tbody tr th:only-of-type {\n",
       "        vertical-align: middle;\n",
       "    }\n",
       "\n",
       "    .dataframe tbody tr th {\n",
       "        vertical-align: top;\n",
       "    }\n",
       "\n",
       "    .dataframe thead th {\n",
       "        text-align: right;\n",
       "    }\n",
       "</style>\n",
       "<table border=\"1\" class=\"dataframe\">\n",
       "  <thead>\n",
       "    <tr style=\"text-align: right;\">\n",
       "      <th></th>\n",
       "      <th>acc_x</th>\n",
       "      <th>acc_y</th>\n",
       "      <th>acc_z</th>\n",
       "      <th>gyro_x</th>\n",
       "      <th>gyro_y</th>\n",
       "      <th>gyro_z</th>\n",
       "      <th>activity</th>\n",
       "      <th>label</th>\n",
       "    </tr>\n",
       "  </thead>\n",
       "  <tbody>\n",
       "    <tr>\n",
       "      <td>0</td>\n",
       "      <td>0.016602</td>\n",
       "      <td>-0.032715</td>\n",
       "      <td>-0.014160</td>\n",
       "      <td>12.145995</td>\n",
       "      <td>78.247070</td>\n",
       "      <td>-93.566887</td>\n",
       "      <td>smash</td>\n",
       "      <td>6</td>\n",
       "    </tr>\n",
       "    <tr>\n",
       "      <td>1</td>\n",
       "      <td>0.026367</td>\n",
       "      <td>-0.036621</td>\n",
       "      <td>0.002930</td>\n",
       "      <td>12.573241</td>\n",
       "      <td>77.087402</td>\n",
       "      <td>-93.688957</td>\n",
       "      <td>smash</td>\n",
       "      <td>6</td>\n",
       "    </tr>\n",
       "    <tr>\n",
       "      <td>2</td>\n",
       "      <td>0.017578</td>\n",
       "      <td>-0.029785</td>\n",
       "      <td>0.008789</td>\n",
       "      <td>10.437011</td>\n",
       "      <td>79.406738</td>\n",
       "      <td>-92.163078</td>\n",
       "      <td>smash</td>\n",
       "      <td>6</td>\n",
       "    </tr>\n",
       "    <tr>\n",
       "      <td>3</td>\n",
       "      <td>-0.017578</td>\n",
       "      <td>-0.020508</td>\n",
       "      <td>0.116211</td>\n",
       "      <td>12.023925</td>\n",
       "      <td>78.125000</td>\n",
       "      <td>-93.017570</td>\n",
       "      <td>smash</td>\n",
       "      <td>6</td>\n",
       "    </tr>\n",
       "    <tr>\n",
       "      <td>4</td>\n",
       "      <td>-0.034180</td>\n",
       "      <td>-0.013184</td>\n",
       "      <td>0.119141</td>\n",
       "      <td>9.704590</td>\n",
       "      <td>74.218750</td>\n",
       "      <td>-90.820305</td>\n",
       "      <td>smash</td>\n",
       "      <td>6</td>\n",
       "    </tr>\n",
       "  </tbody>\n",
       "</table>\n",
       "</div>"
      ],
      "text/plain": [
       "      acc_x     acc_y     acc_z     gyro_x     gyro_y     gyro_z activity  \\\n",
       "0  0.016602 -0.032715 -0.014160  12.145995  78.247070 -93.566887    smash   \n",
       "1  0.026367 -0.036621  0.002930  12.573241  77.087402 -93.688957    smash   \n",
       "2  0.017578 -0.029785  0.008789  10.437011  79.406738 -92.163078    smash   \n",
       "3 -0.017578 -0.020508  0.116211  12.023925  78.125000 -93.017570    smash   \n",
       "4 -0.034180 -0.013184  0.119141   9.704590  74.218750 -90.820305    smash   \n",
       "\n",
       "   label  \n",
       "0      6  \n",
       "1      6  \n",
       "2      6  \n",
       "3      6  \n",
       "4      6  "
      ]
     },
     "execution_count": 18,
     "metadata": {},
     "output_type": "execute_result"
    }
   ],
   "source": [
    "label = LabelEncoder()\n",
    "balanced_data['label'] = label.fit_transform(balanced_data['activity'])\n",
    "balanced_data.head()"
   ]
  },
  {
   "cell_type": "code",
   "execution_count": 19,
   "metadata": {},
   "outputs": [
    {
     "data": {
      "text/plain": [
       "array(['clear', 'dab', 'drive', 'ks', 'lob', 'netdrop', 'smash'],\n",
       "      dtype=object)"
      ]
     },
     "execution_count": 19,
     "metadata": {},
     "output_type": "execute_result"
    }
   ],
   "source": [
    "label.inverse_transform([0,1,2,3,4,5,6])"
   ]
  },
  {
   "cell_type": "code",
   "execution_count": 20,
   "metadata": {},
   "outputs": [],
   "source": [
    "X = balanced_data[['acc_x', 'acc_y', 'acc_z', 'gyro_x', 'gyro_y', 'gyro_z' ]]\n",
    "y = balanced_data['label']"
   ]
  },
  {
   "cell_type": "markdown",
   "metadata": {},
   "source": [
    "## Schaling"
   ]
  },
  {
   "cell_type": "code",
   "execution_count": 21,
   "metadata": {},
   "outputs": [],
   "source": [
    "#scaler = StandardScaler()\n",
    "#X = scaler.fit_transform(X)\n",
    "scaled_X = pd.DataFrame(data = X, columns = ['acc_x', 'acc_y', 'acc_z', 'gyro_x', 'gyro_y', 'gyro_z'])\n",
    "scaled_X['label'] = y.values\n",
    "scaled_X['acc_x'] *=125\n",
    "scaled_X['acc_y'] *=125\n",
    "scaled_X['acc_z'] *=125"
   ]
  },
  {
   "cell_type": "markdown",
   "metadata": {},
   "source": [
    "## Normalisatie per sample"
   ]
  },
  {
   "cell_type": "code",
   "execution_count": 22,
   "metadata": {},
   "outputs": [
    {
     "data": {
      "text/html": [
       "<div>\n",
       "<style scoped>\n",
       "    .dataframe tbody tr th:only-of-type {\n",
       "        vertical-align: middle;\n",
       "    }\n",
       "\n",
       "    .dataframe tbody tr th {\n",
       "        vertical-align: top;\n",
       "    }\n",
       "\n",
       "    .dataframe thead th {\n",
       "        text-align: right;\n",
       "    }\n",
       "</style>\n",
       "<table border=\"1\" class=\"dataframe\">\n",
       "  <thead>\n",
       "    <tr style=\"text-align: right;\">\n",
       "      <th></th>\n",
       "      <th>acc_x</th>\n",
       "      <th>acc_y</th>\n",
       "      <th>acc_z</th>\n",
       "      <th>gyro_x</th>\n",
       "      <th>gyro_y</th>\n",
       "      <th>gyro_z</th>\n",
       "      <th>label</th>\n",
       "    </tr>\n",
       "  </thead>\n",
       "  <tbody>\n",
       "    <tr>\n",
       "      <td>0</td>\n",
       "      <td>2.075250</td>\n",
       "      <td>-4.089375</td>\n",
       "      <td>-1.770000</td>\n",
       "      <td>12.145995</td>\n",
       "      <td>78.247070</td>\n",
       "      <td>-93.566887</td>\n",
       "      <td>6</td>\n",
       "    </tr>\n",
       "    <tr>\n",
       "      <td>1</td>\n",
       "      <td>3.295875</td>\n",
       "      <td>-4.577625</td>\n",
       "      <td>0.366250</td>\n",
       "      <td>12.573241</td>\n",
       "      <td>77.087402</td>\n",
       "      <td>-93.688957</td>\n",
       "      <td>6</td>\n",
       "    </tr>\n",
       "    <tr>\n",
       "      <td>2</td>\n",
       "      <td>2.197250</td>\n",
       "      <td>-3.723125</td>\n",
       "      <td>1.098625</td>\n",
       "      <td>10.437011</td>\n",
       "      <td>79.406738</td>\n",
       "      <td>-92.163078</td>\n",
       "      <td>6</td>\n",
       "    </tr>\n",
       "    <tr>\n",
       "      <td>3</td>\n",
       "      <td>-2.197250</td>\n",
       "      <td>-2.563500</td>\n",
       "      <td>14.526375</td>\n",
       "      <td>12.023925</td>\n",
       "      <td>78.125000</td>\n",
       "      <td>-93.017570</td>\n",
       "      <td>6</td>\n",
       "    </tr>\n",
       "    <tr>\n",
       "      <td>4</td>\n",
       "      <td>-4.272500</td>\n",
       "      <td>-1.648000</td>\n",
       "      <td>14.892625</td>\n",
       "      <td>9.704590</td>\n",
       "      <td>74.218750</td>\n",
       "      <td>-90.820305</td>\n",
       "      <td>6</td>\n",
       "    </tr>\n",
       "  </tbody>\n",
       "</table>\n",
       "</div>"
      ],
      "text/plain": [
       "      acc_x     acc_y      acc_z     gyro_x     gyro_y     gyro_z  label\n",
       "0  2.075250 -4.089375  -1.770000  12.145995  78.247070 -93.566887      6\n",
       "1  3.295875 -4.577625   0.366250  12.573241  77.087402 -93.688957      6\n",
       "2  2.197250 -3.723125   1.098625  10.437011  79.406738 -92.163078      6\n",
       "3 -2.197250 -2.563500  14.526375  12.023925  78.125000 -93.017570      6\n",
       "4 -4.272500 -1.648000  14.892625   9.704590  74.218750 -90.820305      6"
      ]
     },
     "execution_count": 22,
     "metadata": {},
     "output_type": "execute_result"
    }
   ],
   "source": [
    "scaled_X.head()"
   ]
  },
  {
   "cell_type": "code",
   "execution_count": 23,
   "metadata": {},
   "outputs": [
    {
     "data": {
      "text/html": [
       "<div>\n",
       "<style scoped>\n",
       "    .dataframe tbody tr th:only-of-type {\n",
       "        vertical-align: middle;\n",
       "    }\n",
       "\n",
       "    .dataframe tbody tr th {\n",
       "        vertical-align: top;\n",
       "    }\n",
       "\n",
       "    .dataframe thead th {\n",
       "        text-align: right;\n",
       "    }\n",
       "</style>\n",
       "<table border=\"1\" class=\"dataframe\">\n",
       "  <thead>\n",
       "    <tr style=\"text-align: right;\">\n",
       "      <th></th>\n",
       "      <th>acc_x</th>\n",
       "      <th>acc_y</th>\n",
       "      <th>acc_z</th>\n",
       "      <th>gyro_x</th>\n",
       "      <th>gyro_y</th>\n",
       "      <th>gyro_z</th>\n",
       "      <th>label</th>\n",
       "    </tr>\n",
       "  </thead>\n",
       "  <tbody>\n",
       "    <tr>\n",
       "      <td>0</td>\n",
       "      <td>0.016917</td>\n",
       "      <td>-0.033335</td>\n",
       "      <td>-0.014428</td>\n",
       "      <td>0.099010</td>\n",
       "      <td>0.637843</td>\n",
       "      <td>-0.762724</td>\n",
       "      <td>6</td>\n",
       "    </tr>\n",
       "    <tr>\n",
       "      <td>1</td>\n",
       "      <td>0.026992</td>\n",
       "      <td>-0.037489</td>\n",
       "      <td>0.002999</td>\n",
       "      <td>0.102969</td>\n",
       "      <td>0.631310</td>\n",
       "      <td>-0.767269</td>\n",
       "      <td>6</td>\n",
       "    </tr>\n",
       "    <tr>\n",
       "      <td>2</td>\n",
       "      <td>0.017984</td>\n",
       "      <td>-0.030472</td>\n",
       "      <td>0.008992</td>\n",
       "      <td>0.085422</td>\n",
       "      <td>0.649909</td>\n",
       "      <td>-0.754314</td>\n",
       "      <td>6</td>\n",
       "    </tr>\n",
       "    <tr>\n",
       "      <td>3</td>\n",
       "      <td>-0.017867</td>\n",
       "      <td>-0.020846</td>\n",
       "      <td>0.118125</td>\n",
       "      <td>0.097776</td>\n",
       "      <td>0.635293</td>\n",
       "      <td>-0.756396</td>\n",
       "      <td>6</td>\n",
       "    </tr>\n",
       "    <tr>\n",
       "      <td>4</td>\n",
       "      <td>-0.035989</td>\n",
       "      <td>-0.013882</td>\n",
       "      <td>0.125447</td>\n",
       "      <td>0.081746</td>\n",
       "      <td>0.625175</td>\n",
       "      <td>-0.765016</td>\n",
       "      <td>6</td>\n",
       "    </tr>\n",
       "  </tbody>\n",
       "</table>\n",
       "</div>"
      ],
      "text/plain": [
       "      acc_x     acc_y     acc_z    gyro_x    gyro_y    gyro_z  label\n",
       "0  0.016917 -0.033335 -0.014428  0.099010  0.637843 -0.762724      6\n",
       "1  0.026992 -0.037489  0.002999  0.102969  0.631310 -0.767269      6\n",
       "2  0.017984 -0.030472  0.008992  0.085422  0.649909 -0.754314      6\n",
       "3 -0.017867 -0.020846  0.118125  0.097776  0.635293 -0.756396      6\n",
       "4 -0.035989 -0.013882  0.125447  0.081746  0.625175 -0.765016      6"
      ]
     },
     "execution_count": 23,
     "metadata": {},
     "output_type": "execute_result"
    }
   ],
   "source": [
    "Xnorm = pd.DataFrame(data = scaled_X, columns = ['acc_x', 'acc_y', 'acc_z', 'gyro_x', 'gyro_y', 'gyro_z'])\n",
    "ynorm = scaled_X['label']\n",
    "Xnorm = normalize(Xnorm)\n",
    "Xnorm = df = pd.DataFrame(Xnorm, columns = ['acc_x', 'acc_y', 'acc_z', 'gyro_x', 'gyro_y', 'gyro_z'])\n",
    "Xnorm['label'] = ynorm.values\n",
    "Xnorm.head()"
   ]
  },
  {
   "cell_type": "markdown",
   "metadata": {},
   "source": [
    "## Indelen data in frames"
   ]
  },
  {
   "cell_type": "code",
   "execution_count": 24,
   "metadata": {},
   "outputs": [],
   "source": [
    "import scipy.stats as stats"
   ]
  },
  {
   "cell_type": "code",
   "execution_count": 25,
   "metadata": {},
   "outputs": [],
   "source": [
    "Fs = 4\n",
    "frame_size = Fs*4 # 80\n",
    "hop_size = 1      #Fs*2 # 40"
   ]
  },
  {
   "cell_type": "code",
   "execution_count": 26,
   "metadata": {},
   "outputs": [],
   "source": [
    "def get_frames(df, frame_size, hop_size):\n",
    "\n",
    "    N_FEATURES = 6\n",
    "\n",
    "    frames = []\n",
    "    labels = []\n",
    "    for i in range(0, len(df) - frame_size, hop_size):\n",
    "        x = df['acc_x'].values[i: i + frame_size]\n",
    "        y = df['acc_y'].values[i: i + frame_size]\n",
    "        z = df['acc_z'].values[i: i + frame_size]\n",
    "        gx = df['gyro_x'].values[i: i + frame_size]\n",
    "        gy = df['gyro_y'].values[i: i + frame_size]\n",
    "        gz = df['gyro_z'].values[i: i + frame_size]\n",
    "        # Retrieve the most often used label in this segment\n",
    "        label = stats.mode(df['label'][i: i + frame_size])[0][0]\n",
    "        frames.append([x, y, z,gx,gy,gz])\n",
    "        labels.append(label)\n",
    "\n",
    "    # Bring the segments into a better shape\n",
    "    frames = np.asarray(frames).reshape(-1, frame_size, N_FEATURES)\n",
    "    labels = np.asarray(labels)\n",
    "\n",
    "    return frames, labels"
   ]
  },
  {
   "cell_type": "code",
   "execution_count": 27,
   "metadata": {},
   "outputs": [],
   "source": [
    "X, y = get_frames(Xnorm, frame_size, hop_size)"
   ]
  },
  {
   "cell_type": "code",
   "execution_count": 28,
   "metadata": {},
   "outputs": [
    {
     "data": {
      "text/plain": [
       "((7866, 16, 6), (7866,))"
      ]
     },
     "execution_count": 28,
     "metadata": {},
     "output_type": "execute_result"
    }
   ],
   "source": [
    "X.shape, y.shape"
   ]
  },
  {
   "cell_type": "code",
   "execution_count": 30,
   "metadata": {},
   "outputs": [],
   "source": [
    "X_train, X_test, y_train, y_test = train_test_split(X, y, test_size = 0.2, random_state = 0, stratify = y)"
   ]
  },
  {
   "cell_type": "code",
   "execution_count": 31,
   "metadata": {},
   "outputs": [
    {
     "data": {
      "text/plain": [
       "((6292, 16, 6), (1574, 16, 6))"
      ]
     },
     "execution_count": 31,
     "metadata": {},
     "output_type": "execute_result"
    }
   ],
   "source": [
    "X_train.shape, X_test.shape"
   ]
  },
  {
   "cell_type": "code",
   "execution_count": 32,
   "metadata": {},
   "outputs": [
    {
     "data": {
      "text/plain": [
       "((16, 6), (16, 6))"
      ]
     },
     "execution_count": 32,
     "metadata": {},
     "output_type": "execute_result"
    }
   ],
   "source": [
    "X_train[0].shape, X_test[0].shape"
   ]
  },
  {
   "cell_type": "code",
   "execution_count": 33,
   "metadata": {},
   "outputs": [],
   "source": [
    "X_train = X_train.reshape(X_train.shape[0], X_train.shape[1], X_train.shape[2], 1)\n",
    "X_test = X_test.reshape(X_test.shape[0], X_test.shape[1], X_test.shape[2], 1)"
   ]
  },
  {
   "cell_type": "code",
   "execution_count": 34,
   "metadata": {},
   "outputs": [
    {
     "data": {
      "text/plain": [
       "((16, 6, 1), (16, 6, 1))"
      ]
     },
     "execution_count": 34,
     "metadata": {},
     "output_type": "execute_result"
    }
   ],
   "source": [
    "X_train[0].shape, X_test[0].shape"
   ]
  },
  {
   "cell_type": "markdown",
   "metadata": {},
   "source": [
    "## 2D CNN Model"
   ]
  },
  {
   "cell_type": "code",
   "execution_count": 35,
   "metadata": {},
   "outputs": [],
   "source": [
    "model = Sequential()\n",
    "model.add(Conv2D(16, (3, 3), activation = 'relu', input_shape = X_train[0].shape))\n",
    "model.add(BatchNormalization())\n",
    "model.add(Dropout(0.1))\n",
    "\n",
    "model.add(Conv2D(32, (3, 3), activation='relu'))\n",
    "model.add(Dropout(0.2))\n",
    "\n",
    "model.add(Flatten())\n",
    "\n",
    "model.add(Dense(64, activation = 'relu'))\n",
    "model.add(Dropout(0.5))\n",
    "\n",
    "model.add(Dense(7, activation='softmax'))"
   ]
  },
  {
   "cell_type": "code",
   "execution_count": 36,
   "metadata": {},
   "outputs": [],
   "source": [
    "model.compile(optimizer=Adam(learning_rate = 0.001), loss = 'sparse_categorical_crossentropy', metrics = ['accuracy'])"
   ]
  },
  {
   "cell_type": "code",
   "execution_count": 37,
   "metadata": {},
   "outputs": [
    {
     "name": "stdout",
     "output_type": "stream",
     "text": [
      "Model: \"sequential\"\n",
      "_________________________________________________________________\n",
      "Layer (type)                 Output Shape              Param #   \n",
      "=================================================================\n",
      "conv2d (Conv2D)              (None, 14, 4, 16)         160       \n",
      "_________________________________________________________________\n",
      "batch_normalization (BatchNo (None, 14, 4, 16)         64        \n",
      "_________________________________________________________________\n",
      "dropout (Dropout)            (None, 14, 4, 16)         0         \n",
      "_________________________________________________________________\n",
      "conv2d_1 (Conv2D)            (None, 12, 2, 32)         4640      \n",
      "_________________________________________________________________\n",
      "dropout_1 (Dropout)          (None, 12, 2, 32)         0         \n",
      "_________________________________________________________________\n",
      "flatten (Flatten)            (None, 768)               0         \n",
      "_________________________________________________________________\n",
      "dense (Dense)                (None, 64)                49216     \n",
      "_________________________________________________________________\n",
      "dropout_2 (Dropout)          (None, 64)                0         \n",
      "_________________________________________________________________\n",
      "dense_1 (Dense)              (None, 7)                 455       \n",
      "=================================================================\n",
      "Total params: 54,535\n",
      "Trainable params: 54,503\n",
      "Non-trainable params: 32\n",
      "_________________________________________________________________\n"
     ]
    }
   ],
   "source": [
    "model.summary()"
   ]
  },
  {
   "cell_type": "code",
   "execution_count": 38,
   "metadata": {},
   "outputs": [
    {
     "name": "stdout",
     "output_type": "stream",
     "text": [
      "Train on 6292 samples, validate on 1574 samples\n",
      "Epoch 1/150\n",
      "6292/6292 [==============================] - 3s 487us/sample - loss: 1.0181 - accuracy: 0.6146 - val_loss: 1.2508 - val_accuracy: 0.8310\n",
      "Epoch 2/150\n",
      "6292/6292 [==============================] - 1s 194us/sample - loss: 0.3647 - accuracy: 0.8584 - val_loss: 0.6705 - val_accuracy: 0.9250\n",
      "Epoch 3/150\n",
      "6292/6292 [==============================] - 1s 154us/sample - loss: 0.2497 - accuracy: 0.9069 - val_loss: 0.2707 - val_accuracy: 0.9555\n",
      "Epoch 4/150\n",
      "6292/6292 [==============================] - 1s 141us/sample - loss: 0.2079 - accuracy: 0.9191 - val_loss: 0.1463 - val_accuracy: 0.9460\n",
      "Epoch 5/150\n",
      "6292/6292 [==============================] - 1s 143us/sample - loss: 0.1841 - accuracy: 0.9288 - val_loss: 0.1041 - val_accuracy: 0.9689\n",
      "Epoch 6/150\n",
      "6292/6292 [==============================] - 1s 140us/sample - loss: 0.1536 - accuracy: 0.9363 - val_loss: 0.0908 - val_accuracy: 0.9695\n",
      "Epoch 7/150\n",
      "6292/6292 [==============================] - 1s 136us/sample - loss: 0.1414 - accuracy: 0.9431 - val_loss: 0.0706 - val_accuracy: 0.9797\n",
      "Epoch 8/150\n",
      "6292/6292 [==============================] - 1s 140us/sample - loss: 0.1187 - accuracy: 0.9531 - val_loss: 0.0644 - val_accuracy: 0.9778\n",
      "Epoch 9/150\n",
      "6292/6292 [==============================] - 1s 139us/sample - loss: 0.1213 - accuracy: 0.9501 - val_loss: 0.0587 - val_accuracy: 0.9790\n",
      "Epoch 10/150\n",
      "6292/6292 [==============================] - 1s 141us/sample - loss: 0.1111 - accuracy: 0.9552 - val_loss: 0.0568 - val_accuracy: 0.9790\n",
      "Epoch 11/150\n",
      "6292/6292 [==============================] - 1s 155us/sample - loss: 0.1107 - accuracy: 0.9571 - val_loss: 0.0522 - val_accuracy: 0.9816\n",
      "Epoch 12/150\n",
      "6292/6292 [==============================] - 1s 157us/sample - loss: 0.0972 - accuracy: 0.9595 - val_loss: 0.0487 - val_accuracy: 0.9828\n",
      "Epoch 13/150\n",
      "6292/6292 [==============================] - 1s 140us/sample - loss: 0.0941 - accuracy: 0.9628 - val_loss: 0.0542 - val_accuracy: 0.9860\n",
      "Epoch 14/150\n",
      "6292/6292 [==============================] - 1s 139us/sample - loss: 0.0963 - accuracy: 0.9631 - val_loss: 0.0421 - val_accuracy: 0.9873\n",
      "Epoch 15/150\n",
      "6292/6292 [==============================] - 1s 141us/sample - loss: 0.0866 - accuracy: 0.9663 - val_loss: 0.0400 - val_accuracy: 0.9892\n",
      "Epoch 16/150\n",
      "6292/6292 [==============================] - 1s 143us/sample - loss: 0.0911 - accuracy: 0.9647 - val_loss: 0.0455 - val_accuracy: 0.9816\n",
      "Epoch 17/150\n",
      "6292/6292 [==============================] - 1s 140us/sample - loss: 0.0744 - accuracy: 0.9712 - val_loss: 0.0439 - val_accuracy: 0.9860\n",
      "Epoch 18/150\n",
      "6292/6292 [==============================] - 1s 142us/sample - loss: 0.0727 - accuracy: 0.9693 - val_loss: 0.0386 - val_accuracy: 0.9886\n",
      "Epoch 19/150\n",
      "6292/6292 [==============================] - 1s 138us/sample - loss: 0.0703 - accuracy: 0.9711 - val_loss: 0.0376 - val_accuracy: 0.9860\n",
      "Epoch 20/150\n",
      "6292/6292 [==============================] - 1s 151us/sample - loss: 0.0723 - accuracy: 0.9728 - val_loss: 0.0338 - val_accuracy: 0.9905\n",
      "Epoch 21/150\n",
      "6292/6292 [==============================] - 1s 198us/sample - loss: 0.0770 - accuracy: 0.9685 - val_loss: 0.0361 - val_accuracy: 0.9879\n",
      "Epoch 22/150\n",
      "6292/6292 [==============================] - 1s 157us/sample - loss: 0.0721 - accuracy: 0.9717 - val_loss: 0.0326 - val_accuracy: 0.9898\n",
      "Epoch 23/150\n",
      "6292/6292 [==============================] - 1s 139us/sample - loss: 0.0625 - accuracy: 0.9752 - val_loss: 0.0399 - val_accuracy: 0.9841\n",
      "Epoch 24/150\n",
      "6292/6292 [==============================] - 1s 145us/sample - loss: 0.0782 - accuracy: 0.9665 - val_loss: 0.0351 - val_accuracy: 0.9879\n",
      "Epoch 25/150\n",
      "6292/6292 [==============================] - 1s 160us/sample - loss: 0.0663 - accuracy: 0.9749 - val_loss: 0.0347 - val_accuracy: 0.9879\n",
      "Epoch 26/150\n",
      "6292/6292 [==============================] - 1s 151us/sample - loss: 0.0697 - accuracy: 0.9714 - val_loss: 0.0373 - val_accuracy: 0.9879\n",
      "Epoch 27/150\n",
      "6292/6292 [==============================] - 1s 146us/sample - loss: 0.0605 - accuracy: 0.9771 - val_loss: 0.0305 - val_accuracy: 0.9892\n",
      "Epoch 28/150\n",
      "6292/6292 [==============================] - 1s 205us/sample - loss: 0.0656 - accuracy: 0.9765 - val_loss: 0.0243 - val_accuracy: 0.9911\n",
      "Epoch 29/150\n",
      "6292/6292 [==============================] - 1s 176us/sample - loss: 0.0559 - accuracy: 0.9774 - val_loss: 0.0277 - val_accuracy: 0.9898\n",
      "Epoch 30/150\n",
      "6292/6292 [==============================] - 1s 223us/sample - loss: 0.0564 - accuracy: 0.9776 - val_loss: 0.0264 - val_accuracy: 0.9873 0.0580 - \n",
      "Epoch 31/150\n",
      "6292/6292 [==============================] - 1s 166us/sample - loss: 0.0559 - accuracy: 0.9765 - val_loss: 0.0275 - val_accuracy: 0.9905\n",
      "Epoch 32/150\n",
      "6292/6292 [==============================] - 1s 169us/sample - loss: 0.0545 - accuracy: 0.9779 - val_loss: 0.0280 - val_accuracy: 0.9892\n",
      "Epoch 33/150\n",
      "6292/6292 [==============================] - 1s 151us/sample - loss: 0.0525 - accuracy: 0.9774 - val_loss: 0.0256 - val_accuracy: 0.9936\n",
      "Epoch 34/150\n",
      "6292/6292 [==============================] - 1s 146us/sample - loss: 0.0533 - accuracy: 0.9776 - val_loss: 0.0263 - val_accuracy: 0.9917\n",
      "Epoch 35/150\n",
      "6292/6292 [==============================] - 1s 141us/sample - loss: 0.0485 - accuracy: 0.9800 - val_loss: 0.0321 - val_accuracy: 0.9879\n",
      "Epoch 36/150\n",
      "6292/6292 [==============================] - 1s 141us/sample - loss: 0.0593 - accuracy: 0.9781 - val_loss: 0.0228 - val_accuracy: 0.9905\n",
      "Epoch 37/150\n",
      "6292/6292 [==============================] - 1s 137us/sample - loss: 0.0611 - accuracy: 0.9766 - val_loss: 0.0251 - val_accuracy: 0.9924\n",
      "Epoch 38/150\n",
      "6292/6292 [==============================] - 1s 134us/sample - loss: 0.0510 - accuracy: 0.9797 - val_loss: 0.0240 - val_accuracy: 0.9911\n",
      "Epoch 39/150\n",
      "6292/6292 [==============================] - 1s 134us/sample - loss: 0.0566 - accuracy: 0.9785 - val_loss: 0.0266 - val_accuracy: 0.9917\n",
      "Epoch 40/150\n",
      "6292/6292 [==============================] - 1s 136us/sample - loss: 0.0497 - accuracy: 0.9790 - val_loss: 0.0266 - val_accuracy: 0.9898\n",
      "Epoch 41/150\n",
      "6292/6292 [==============================] - 1s 134us/sample - loss: 0.0520 - accuracy: 0.9808 - val_loss: 0.0179 - val_accuracy: 0.9936\n",
      "Epoch 42/150\n",
      "6292/6292 [==============================] - 1s 135us/sample - loss: 0.0493 - accuracy: 0.9814 - val_loss: 0.0239 - val_accuracy: 0.9886\n",
      "Epoch 43/150\n",
      "6292/6292 [==============================] - 1s 135us/sample - loss: 0.0444 - accuracy: 0.9824 - val_loss: 0.0164 - val_accuracy: 0.9949\n",
      "Epoch 44/150\n",
      "6292/6292 [==============================] - 1s 144us/sample - loss: 0.0435 - accuracy: 0.9843 - val_loss: 0.0143 - val_accuracy: 0.9968\n",
      "Epoch 45/150\n",
      "6292/6292 [==============================] - 1s 151us/sample - loss: 0.0387 - accuracy: 0.9851 - val_loss: 0.0160 - val_accuracy: 0.9917\n",
      "Epoch 46/150\n",
      "6292/6292 [==============================] - 1s 155us/sample - loss: 0.0495 - accuracy: 0.9790 - val_loss: 0.0186 - val_accuracy: 0.9936\n",
      "Epoch 47/150\n",
      "6292/6292 [==============================] - 1s 141us/sample - loss: 0.0431 - accuracy: 0.9851 - val_loss: 0.0191 - val_accuracy: 0.9917\n",
      "Epoch 48/150\n",
      "6292/6292 [==============================] - 1s 137us/sample - loss: 0.0466 - accuracy: 0.9814 - val_loss: 0.0169 - val_accuracy: 0.9930\n",
      "Epoch 49/150\n",
      "6292/6292 [==============================] - 1s 143us/sample - loss: 0.0441 - accuracy: 0.9820 - val_loss: 0.0254 - val_accuracy: 0.9898\n",
      "Epoch 50/150\n",
      "6292/6292 [==============================] - 1s 139us/sample - loss: 0.0433 - accuracy: 0.9830 - val_loss: 0.0177 - val_accuracy: 0.9936\n",
      "Epoch 51/150\n",
      "6292/6292 [==============================] - 1s 138us/sample - loss: 0.0413 - accuracy: 0.9832 - val_loss: 0.0143 - val_accuracy: 0.9968\n",
      "Epoch 52/150\n",
      "6292/6292 [==============================] - 1s 139us/sample - loss: 0.0455 - accuracy: 0.9824 - val_loss: 0.0177 - val_accuracy: 0.9956\n",
      "Epoch 53/150\n",
      "6292/6292 [==============================] - 1s 140us/sample - loss: 0.0414 - accuracy: 0.9855 - val_loss: 0.0170 - val_accuracy: 0.9949\n",
      "Epoch 54/150\n",
      "6292/6292 [==============================] - 1s 142us/sample - loss: 0.0419 - accuracy: 0.9827 - val_loss: 0.0161 - val_accuracy: 0.9956\n",
      "Epoch 55/150\n"
     ]
    },
    {
     "name": "stdout",
     "output_type": "stream",
     "text": [
      "6292/6292 [==============================] - 1s 143us/sample - loss: 0.0391 - accuracy: 0.9862 - val_loss: 0.0186 - val_accuracy: 0.9936\n",
      "Epoch 56/150\n",
      "6292/6292 [==============================] - 1s 140us/sample - loss: 0.0430 - accuracy: 0.9836 - val_loss: 0.0216 - val_accuracy: 0.9930\n",
      "Epoch 57/150\n",
      "6292/6292 [==============================] - 1s 181us/sample - loss: 0.0434 - accuracy: 0.9844 - val_loss: 0.0194 - val_accuracy: 0.9943oss: 0.0474 - \n",
      "Epoch 58/150\n",
      "6292/6292 [==============================] - 1s 191us/sample - loss: 0.0419 - accuracy: 0.9838 - val_loss: 0.0159 - val_accuracy: 0.9956\n",
      "Epoch 59/150\n",
      "6292/6292 [==============================] - 1s 171us/sample - loss: 0.0365 - accuracy: 0.9843 - val_loss: 0.0156 - val_accuracy: 0.9943\n",
      "Epoch 60/150\n",
      "6292/6292 [==============================] - 1s 179us/sample - loss: 0.0442 - accuracy: 0.9822 - val_loss: 0.0136 - val_accuracy: 0.9968\n",
      "Epoch 61/150\n",
      "6292/6292 [==============================] - 1s 237us/sample - loss: 0.0366 - accuracy: 0.9857 - val_loss: 0.0155 - val_accuracy: 0.9930\n",
      "Epoch 62/150\n",
      "6292/6292 [==============================] - 2s 264us/sample - loss: 0.0367 - accuracy: 0.9862 - val_loss: 0.0154 - val_accuracy: 0.9962\n",
      "Epoch 63/150\n",
      "6292/6292 [==============================] - 1s 218us/sample - loss: 0.0354 - accuracy: 0.9870 - val_loss: 0.0123 - val_accuracy: 0.9975\n",
      "Epoch 64/150\n",
      "6292/6292 [==============================] - 1s 178us/sample - loss: 0.0422 - accuracy: 0.9847 - val_loss: 0.0245 - val_accuracy: 0.9924\n",
      "Epoch 65/150\n",
      "6292/6292 [==============================] - 1s 167us/sample - loss: 0.0386 - accuracy: 0.9855 - val_loss: 0.0196 - val_accuracy: 0.9943\n",
      "Epoch 66/150\n",
      "6292/6292 [==============================] - 1s 171us/sample - loss: 0.0371 - accuracy: 0.9857 - val_loss: 0.0184 - val_accuracy: 0.9943\n",
      "Epoch 67/150\n",
      "6292/6292 [==============================] - 1s 170us/sample - loss: 0.0362 - accuracy: 0.9873 - val_loss: 0.0150 - val_accuracy: 0.9943\n",
      "Epoch 68/150\n",
      "6292/6292 [==============================] - 1s 165us/sample - loss: 0.0311 - accuracy: 0.9884 - val_loss: 0.0200 - val_accuracy: 0.9917\n",
      "Epoch 69/150\n",
      "6292/6292 [==============================] - 1s 160us/sample - loss: 0.0315 - accuracy: 0.9881 - val_loss: 0.0194 - val_accuracy: 0.9943\n",
      "Epoch 70/150\n",
      "6292/6292 [==============================] - 1s 163us/sample - loss: 0.0351 - accuracy: 0.9874 - val_loss: 0.0128 - val_accuracy: 0.9943\n",
      "Epoch 71/150\n",
      "6292/6292 [==============================] - 1s 164us/sample - loss: 0.0298 - accuracy: 0.9905 - val_loss: 0.0177 - val_accuracy: 0.9949\n",
      "Epoch 72/150\n",
      "6292/6292 [==============================] - 1s 169us/sample - loss: 0.0301 - accuracy: 0.9887 - val_loss: 0.0127 - val_accuracy: 0.9956\n",
      "Epoch 73/150\n",
      "6292/6292 [==============================] - 1s 167us/sample - loss: 0.0377 - accuracy: 0.9859 - val_loss: 0.0170 - val_accuracy: 0.9943\n",
      "Epoch 74/150\n",
      "6292/6292 [==============================] - 1s 182us/sample - loss: 0.0296 - accuracy: 0.9884 - val_loss: 0.0138 - val_accuracy: 0.9962\n",
      "Epoch 75/150\n",
      "6292/6292 [==============================] - 1s 191us/sample - loss: 0.0353 - accuracy: 0.9866 - val_loss: 0.0134 - val_accuracy: 0.9956\n",
      "Epoch 76/150\n",
      "6292/6292 [==============================] - 1s 193us/sample - loss: 0.0347 - accuracy: 0.9878 - val_loss: 0.0132 - val_accuracy: 0.9962\n",
      "Epoch 77/150\n",
      "6292/6292 [==============================] - 1s 184us/sample - loss: 0.0347 - accuracy: 0.9874 - val_loss: 0.0126 - val_accuracy: 0.9956\n",
      "Epoch 78/150\n",
      "6292/6292 [==============================] - 1s 172us/sample - loss: 0.0293 - accuracy: 0.9890 - val_loss: 0.0104 - val_accuracy: 0.9956\n",
      "Epoch 79/150\n",
      "6292/6292 [==============================] - 1s 166us/sample - loss: 0.0390 - accuracy: 0.9871 - val_loss: 0.0127 - val_accuracy: 0.9943\n",
      "Epoch 80/150\n",
      "6292/6292 [==============================] - 1s 174us/sample - loss: 0.0345 - accuracy: 0.9876 - val_loss: 0.0179 - val_accuracy: 0.9943\n",
      "Epoch 81/150\n",
      "6292/6292 [==============================] - 1s 178us/sample - loss: 0.0332 - accuracy: 0.9879 - val_loss: 0.0215 - val_accuracy: 0.9911\n",
      "Epoch 82/150\n",
      "6292/6292 [==============================] - 1s 160us/sample - loss: 0.0314 - accuracy: 0.9881 - val_loss: 0.0246 - val_accuracy: 0.9905\n",
      "Epoch 83/150\n",
      "6292/6292 [==============================] - 1s 172us/sample - loss: 0.0295 - accuracy: 0.9900 - val_loss: 0.0159 - val_accuracy: 0.9943\n",
      "Epoch 84/150\n",
      "6292/6292 [==============================] - 1s 161us/sample - loss: 0.0334 - accuracy: 0.9887 - val_loss: 0.0136 - val_accuracy: 0.9949\n",
      "Epoch 85/150\n",
      "6292/6292 [==============================] - 1s 167us/sample - loss: 0.0258 - accuracy: 0.9903 - val_loss: 0.0138 - val_accuracy: 0.9949\n",
      "Epoch 86/150\n",
      "6292/6292 [==============================] - 1s 168us/sample - loss: 0.0295 - accuracy: 0.9900 - val_loss: 0.0125 - val_accuracy: 0.9962\n",
      "Epoch 87/150\n",
      "6292/6292 [==============================] - 1s 202us/sample - loss: 0.0260 - accuracy: 0.9900 - val_loss: 0.0263 - val_accuracy: 0.9892\n",
      "Epoch 88/150\n",
      "6292/6292 [==============================] - 2s 311us/sample - loss: 0.0302 - accuracy: 0.9897 - val_loss: 0.0112 - val_accuracy: 0.9968\n",
      "Epoch 89/150\n",
      "6292/6292 [==============================] - 2s 323us/sample - loss: 0.0287 - accuracy: 0.9889 - val_loss: 0.0116 - val_accuracy: 0.9962\n",
      "Epoch 90/150\n",
      "6292/6292 [==============================] - 2s 335us/sample - loss: 0.0426 - accuracy: 0.9852 - val_loss: 0.0129 - val_accuracy: 0.9956\n",
      "Epoch 91/150\n",
      "6292/6292 [==============================] - 1s 219us/sample - loss: 0.0293 - accuracy: 0.9890 - val_loss: 0.0174 - val_accuracy: 0.9943\n",
      "Epoch 92/150\n",
      "6292/6292 [==============================] - 1s 214us/sample - loss: 0.0345 - accuracy: 0.9881 - val_loss: 0.0144 - val_accuracy: 0.9956\n",
      "Epoch 93/150\n",
      "6292/6292 [==============================] - 1s 209us/sample - loss: 0.0242 - accuracy: 0.9901 - val_loss: 0.0191 - val_accuracy: 0.9930\n",
      "Epoch 94/150\n",
      "6292/6292 [==============================] - ETA: 0s - loss: 0.0270 - accuracy: 0.98 - 1s 192us/sample - loss: 0.0270 - accuracy: 0.9895 - val_loss: 0.0150 - val_accuracy: 0.9956\n",
      "Epoch 95/150\n",
      "6292/6292 [==============================] - 1s 197us/sample - loss: 0.0289 - accuracy: 0.9881 - val_loss: 0.0140 - val_accuracy: 0.9943\n",
      "Epoch 96/150\n",
      "6292/6292 [==============================] - 1s 188us/sample - loss: 0.0227 - accuracy: 0.9924 - val_loss: 0.0124 - val_accuracy: 0.9956\n",
      "Epoch 97/150\n",
      "6292/6292 [==============================] - 1s 167us/sample - loss: 0.0243 - accuracy: 0.9914 - val_loss: 0.0128 - val_accuracy: 0.9956\n",
      "Epoch 98/150\n",
      "6292/6292 [==============================] - 1s 158us/sample - loss: 0.0290 - accuracy: 0.9890 - val_loss: 0.0161 - val_accuracy: 0.9949\n",
      "Epoch 99/150\n",
      "6292/6292 [==============================] - 1s 172us/sample - loss: 0.0304 - accuracy: 0.9895 - val_loss: 0.0178 - val_accuracy: 0.9930\n",
      "Epoch 100/150\n",
      "6292/6292 [==============================] - 1s 174us/sample - loss: 0.0259 - accuracy: 0.9905 - val_loss: 0.0151 - val_accuracy: 0.9949\n",
      "Epoch 101/150\n",
      "6292/6292 [==============================] - 1s 180us/sample - loss: 0.0307 - accuracy: 0.9889 - val_loss: 0.0130 - val_accuracy: 0.9949\n",
      "Epoch 102/150\n",
      "6292/6292 [==============================] - 1s 199us/sample - loss: 0.0307 - accuracy: 0.9881 - val_loss: 0.0266 - val_accuracy: 0.9898\n",
      "Epoch 103/150\n",
      "6292/6292 [==============================] - 1s 161us/sample - loss: 0.0289 - accuracy: 0.9895 - val_loss: 0.0158 - val_accuracy: 0.9968\n",
      "Epoch 104/150\n",
      "6292/6292 [==============================] - 1s 160us/sample - loss: 0.0262 - accuracy: 0.9909 - val_loss: 0.0141 - val_accuracy: 0.9968\n",
      "Epoch 105/150\n",
      "6292/6292 [==============================] - 1s 161us/sample - loss: 0.0325 - accuracy: 0.9882 - val_loss: 0.0183 - val_accuracy: 0.9936\n",
      "Epoch 106/150\n",
      "6292/6292 [==============================] - 1s 169us/sample - loss: 0.0240 - accuracy: 0.9913 - val_loss: 0.0158 - val_accuracy: 0.9936\n",
      "Epoch 107/150\n",
      "6292/6292 [==============================] - 1s 161us/sample - loss: 0.0243 - accuracy: 0.9901 - val_loss: 0.0134 - val_accuracy: 0.9943\n",
      "Epoch 108/150\n",
      "6292/6292 [==============================] - 1s 158us/sample - loss: 0.0223 - accuracy: 0.9908 - val_loss: 0.0133 - val_accuracy: 0.9956\n",
      "Epoch 109/150\n"
     ]
    },
    {
     "name": "stdout",
     "output_type": "stream",
     "text": [
      "6292/6292 [==============================] - 1s 156us/sample - loss: 0.0278 - accuracy: 0.9900 - val_loss: 0.0173 - val_accuracy: 0.9936\n",
      "Epoch 110/150\n",
      "6292/6292 [==============================] - 1s 158us/sample - loss: 0.0300 - accuracy: 0.9900 - val_loss: 0.0102 - val_accuracy: 0.9968\n",
      "Epoch 111/150\n",
      "6292/6292 [==============================] - 1s 158us/sample - loss: 0.0307 - accuracy: 0.9905 - val_loss: 0.0090 - val_accuracy: 0.9962\n",
      "Epoch 112/150\n",
      "6292/6292 [==============================] - 1s 159us/sample - loss: 0.0287 - accuracy: 0.9911 - val_loss: 0.0180 - val_accuracy: 0.9924\n",
      "Epoch 113/150\n",
      "6292/6292 [==============================] - 1s 210us/sample - loss: 0.0274 - accuracy: 0.9894 - val_loss: 0.0159 - val_accuracy: 0.9930\n",
      "Epoch 114/150\n",
      "6292/6292 [==============================] - 1s 212us/sample - loss: 0.0211 - accuracy: 0.9905 - val_loss: 0.0170 - val_accuracy: 0.9936\n",
      "Epoch 115/150\n",
      "6292/6292 [==============================] - 1s 222us/sample - loss: 0.0217 - accuracy: 0.9928 - val_loss: 0.0111 - val_accuracy: 0.9962\n",
      "Epoch 116/150\n",
      "6292/6292 [==============================] - 1s 205us/sample - loss: 0.0212 - accuracy: 0.9930 - val_loss: 0.0141 - val_accuracy: 0.9956\n",
      "Epoch 117/150\n",
      "6292/6292 [==============================] - 1s 218us/sample - loss: 0.0193 - accuracy: 0.9921 - val_loss: 0.0123 - val_accuracy: 0.9956\n",
      "Epoch 118/150\n",
      "6292/6292 [==============================] - 1s 178us/sample - loss: 0.0263 - accuracy: 0.9913 - val_loss: 0.0090 - val_accuracy: 0.9968\n",
      "Epoch 119/150\n",
      "6292/6292 [==============================] - 1s 162us/sample - loss: 0.0283 - accuracy: 0.9892 - val_loss: 0.0150 - val_accuracy: 0.9949\n",
      "Epoch 120/150\n",
      "6292/6292 [==============================] - 1s 169us/sample - loss: 0.0220 - accuracy: 0.9921 - val_loss: 0.0122 - val_accuracy: 0.9956\n",
      "Epoch 121/150\n",
      "6292/6292 [==============================] - 1s 190us/sample - loss: 0.0330 - accuracy: 0.9894 - val_loss: 0.0096 - val_accuracy: 0.9975\n",
      "Epoch 122/150\n",
      "6292/6292 [==============================] - 1s 164us/sample - loss: 0.0216 - accuracy: 0.9921 - val_loss: 0.0094 - val_accuracy: 0.9956\n",
      "Epoch 123/150\n",
      "6292/6292 [==============================] - 1s 156us/sample - loss: 0.0178 - accuracy: 0.9933 - val_loss: 0.0068 - val_accuracy: 0.9975\n",
      "Epoch 124/150\n",
      "6292/6292 [==============================] - 1s 157us/sample - loss: 0.0170 - accuracy: 0.9932 - val_loss: 0.0119 - val_accuracy: 0.9949\n",
      "Epoch 125/150\n",
      "6292/6292 [==============================] - 1s 182us/sample - loss: 0.0232 - accuracy: 0.9898 - val_loss: 0.0184 - val_accuracy: 0.9956\n",
      "Epoch 126/150\n",
      "6292/6292 [==============================] - 1s 169us/sample - loss: 0.0260 - accuracy: 0.9911 - val_loss: 0.0140 - val_accuracy: 0.9943\n",
      "Epoch 127/150\n",
      "6292/6292 [==============================] - 1s 177us/sample - loss: 0.0229 - accuracy: 0.9924 - val_loss: 0.0108 - val_accuracy: 0.9949\n",
      "Epoch 128/150\n",
      "6292/6292 [==============================] - 1s 162us/sample - loss: 0.0259 - accuracy: 0.9914 - val_loss: 0.0119 - val_accuracy: 0.9949\n",
      "Epoch 129/150\n",
      "6292/6292 [==============================] - 1s 171us/sample - loss: 0.0265 - accuracy: 0.9908 - val_loss: 0.0167 - val_accuracy: 0.9943\n",
      "Epoch 130/150\n",
      "6292/6292 [==============================] - 1s 185us/sample - loss: 0.0253 - accuracy: 0.9909 - val_loss: 0.0165 - val_accuracy: 0.9924\n",
      "Epoch 131/150\n",
      "6292/6292 [==============================] - 1s 196us/sample - loss: 0.0246 - accuracy: 0.9908 - val_loss: 0.0105 - val_accuracy: 0.9949\n",
      "Epoch 132/150\n",
      "6292/6292 [==============================] - 1s 200us/sample - loss: 0.0212 - accuracy: 0.9935 - val_loss: 0.0087 - val_accuracy: 0.9975\n",
      "Epoch 133/150\n",
      "6292/6292 [==============================] - 1s 175us/sample - loss: 0.0228 - accuracy: 0.9917 - val_loss: 0.0095 - val_accuracy: 0.9968\n",
      "Epoch 134/150\n",
      "6292/6292 [==============================] - 1s 161us/sample - loss: 0.0251 - accuracy: 0.9905 - val_loss: 0.0124 - val_accuracy: 0.9968\n",
      "Epoch 135/150\n",
      "6292/6292 [==============================] - 1s 168us/sample - loss: 0.0222 - accuracy: 0.9919 - val_loss: 0.0134 - val_accuracy: 0.9962\n",
      "Epoch 136/150\n",
      "6292/6292 [==============================] - 1s 159us/sample - loss: 0.0237 - accuracy: 0.9901 - val_loss: 0.0112 - val_accuracy: 0.9956\n",
      "Epoch 137/150\n",
      "6292/6292 [==============================] - 1s 172us/sample - loss: 0.0192 - accuracy: 0.9922 - val_loss: 0.0113 - val_accuracy: 0.9968\n",
      "Epoch 138/150\n",
      "6292/6292 [==============================] - 1s 166us/sample - loss: 0.0236 - accuracy: 0.9919 - val_loss: 0.0106 - val_accuracy: 0.9962\n",
      "Epoch 139/150\n",
      "6292/6292 [==============================] - 1s 198us/sample - loss: 0.0176 - accuracy: 0.9936 - val_loss: 0.0077 - val_accuracy: 0.9975\n",
      "Epoch 140/150\n",
      "6292/6292 [==============================] - 1s 223us/sample - loss: 0.0266 - accuracy: 0.9884 - val_loss: 0.0135 - val_accuracy: 0.9956\n",
      "Epoch 141/150\n",
      "6292/6292 [==============================] - 1s 202us/sample - loss: 0.0287 - accuracy: 0.9894 - val_loss: 0.0089 - val_accuracy: 0.9981\n",
      "Epoch 142/150\n",
      "6292/6292 [==============================] - 1s 170us/sample - loss: 0.0314 - accuracy: 0.9906 - val_loss: 0.0172 - val_accuracy: 0.9949\n",
      "Epoch 143/150\n",
      "6292/6292 [==============================] - ETA: 0s - loss: 0.0175 - accuracy: 0.99 - 1s 219us/sample - loss: 0.0171 - accuracy: 0.9935 - val_loss: 0.0140 - val_accuracy: 0.9962\n",
      "Epoch 144/150\n",
      "6292/6292 [==============================] - 1s 185us/sample - loss: 0.0248 - accuracy: 0.9913 - val_loss: 0.0160 - val_accuracy: 0.9956\n",
      "Epoch 145/150\n",
      "6292/6292 [==============================] - 1s 212us/sample - loss: 0.0214 - accuracy: 0.9921 - val_loss: 0.0153 - val_accuracy: 0.9956\n",
      "Epoch 146/150\n",
      "6292/6292 [==============================] - 1s 200us/sample - loss: 0.0223 - accuracy: 0.9905 - val_loss: 0.0114 - val_accuracy: 0.9962\n",
      "Epoch 147/150\n",
      "6292/6292 [==============================] - 1s 193us/sample - loss: 0.0239 - accuracy: 0.9916 - val_loss: 0.0086 - val_accuracy: 0.9981\n",
      "Epoch 148/150\n",
      "6292/6292 [==============================] - 1s 206us/sample - loss: 0.0219 - accuracy: 0.9925 - val_loss: 0.0063 - val_accuracy: 0.9981\n",
      "Epoch 149/150\n",
      "6292/6292 [==============================] - 1s 164us/sample - loss: 0.0218 - accuracy: 0.9924 - val_loss: 0.0073 - val_accuracy: 0.9975\n",
      "Epoch 150/150\n",
      "6292/6292 [==============================] - 1s 176us/sample - loss: 0.0162 - accuracy: 0.9938 - val_loss: 0.0141 - val_accuracy: 0.9949\n"
     ]
    }
   ],
   "source": [
    "epo = 150\n",
    "history = model.fit(X_train, y_train, epochs = epo, batch_size=64, validation_data= (X_test, y_test), verbose=1, shuffle=True) "
   ]
  },
  {
   "cell_type": "code",
   "execution_count": 39,
   "metadata": {},
   "outputs": [],
   "source": [
    "def plot_learningCurve(history, epochs):\n",
    "  # Plot training & validation accuracy values\n",
    "  epoch_range = range(1, epochs+1)\n",
    "  plt.plot(epoch_range, history.history['accuracy'])\n",
    "  plt.plot(epoch_range, history.history['val_accuracy'])\n",
    "  plt.title('Model accuracy')\n",
    "  plt.ylabel('Accuracy')\n",
    "  plt.xlabel('Epoch')\n",
    "  plt.legend(['Train', 'Val'], loc='upper left')\n",
    "  plt.show()\n",
    "\n",
    "  # Plot training & validation loss values\n",
    "  plt.plot(epoch_range, history.history['loss'])\n",
    "  plt.plot(epoch_range, history.history['val_loss'])\n",
    "  plt.title('Model loss')\n",
    "  plt.ylabel('Loss')\n",
    "  plt.xlabel('Epoch')\n",
    "  plt.legend(['Train', 'Val'], loc='upper left')\n",
    "  plt.show()"
   ]
  },
  {
   "cell_type": "code",
   "execution_count": 40,
   "metadata": {},
   "outputs": [
    {
     "data": {
      "image/png": "[encoded data removed]",
      "text/plain": [
       "<Figure size 432x288 with 1 Axes>"
      ]
     },
     "metadata": {
      "needs_background": "light"
     },
     "output_type": "display_data"
    },
    {
     "data": {
      "image/png": "[encoded data removed]",
      "text/plain": [
       "<Figure size 432x288 with 1 Axes>"
      ]
     },
     "metadata": {
      "needs_background": "light"
     },
     "output_type": "display_data"
    }
   ],
   "source": [
    "plot_learningCurve(history, epo)"
   ]
  },
  {
   "cell_type": "code",
   "execution_count": 41,
   "metadata": {},
   "outputs": [],
   "source": [
    "from mlxtend.plotting import plot_confusion_matrix\n",
    "from sklearn.metrics import confusion_matrix"
   ]
  },
  {
   "cell_type": "code",
   "execution_count": 42,
   "metadata": {},
   "outputs": [],
   "source": [
    "y_pred = model.predict_classes(X_test)"
   ]
  },
  {
   "cell_type": "code",
   "execution_count": 43,
   "metadata": {},
   "outputs": [
    {
     "data": {
      "image/png": "[encoded data removed]",
      "text/plain": [
       "<Figure size 720x720 with 2 Axes>"
      ]
     },
     "metadata": {
      "needs_background": "light"
     },
     "output_type": "display_data"
    },
    {
     "data": {
      "text/plain": [
       "<Figure size 720x720 with 0 Axes>"
      ]
     },
     "metadata": {},
     "output_type": "display_data"
    }
   ],
   "source": [
    "from mlxtend.plotting import plot_confusion_matrix\n",
    "matplotlib.rcParams['figure.figsize'] = [10, 10]\n",
    "\n",
    "mat = confusion_matrix(y_test, y_pred)\n",
    "class_names = ['clear', 'dab', 'drive','korte service', 'lob',  'netdrop','smash',]\n",
    "\n",
    "fig, ax = plot_confusion_matrix(conf_mat=mat,\n",
    "                                colorbar=True,\n",
    "                                show_absolute=False,\n",
    "                                show_normed=True,\n",
    "                                class_names=class_names,\n",
    "                                cmap='Blues')\n",
    "plt.figure(figsize=(10,10))\n",
    "plt.show()"
   ]
  },
  {
   "cell_type": "markdown",
   "metadata": {},
   "source": [
    "https://github.com/laxmimerit/Human-Activity-Recognition-Using-Accelerometer-Data-and-CNN/blob/master/Human%20Activity%20Recognition.ipynb"
   ]
  },
  {
   "cell_type": "markdown",
   "metadata": {},
   "source": [
    "## Nieuwe data voorspellen"
   ]
  },
  {
   "cell_type": "code",
   "execution_count": 81,
   "metadata": {},
   "outputs": [
    {
     "data": {
      "text/html": [
       "<div>\n",
       "<style scoped>\n",
       "    .dataframe tbody tr th:only-of-type {\n",
       "        vertical-align: middle;\n",
       "    }\n",
       "\n",
       "    .dataframe tbody tr th {\n",
       "        vertical-align: top;\n",
       "    }\n",
       "\n",
       "    .dataframe thead th {\n",
       "        text-align: right;\n",
       "    }\n",
       "</style>\n",
       "<table border=\"1\" class=\"dataframe\">\n",
       "  <thead>\n",
       "    <tr style=\"text-align: right;\">\n",
       "      <th></th>\n",
       "      <th>acc_x</th>\n",
       "      <th>acc_y</th>\n",
       "      <th>acc_z</th>\n",
       "      <th>gyro_x</th>\n",
       "      <th>gyro_y</th>\n",
       "      <th>gyro_z</th>\n",
       "      <th>label</th>\n",
       "    </tr>\n",
       "  </thead>\n",
       "  <tbody>\n",
       "    <tr>\n",
       "      <td>0</td>\n",
       "      <td>-0.071777</td>\n",
       "      <td>0.680176</td>\n",
       "      <td>-0.341797</td>\n",
       "      <td>-313.781738</td>\n",
       "      <td>-51.818844</td>\n",
       "      <td>111.816399</td>\n",
       "      <td>5</td>\n",
       "    </tr>\n",
       "    <tr>\n",
       "      <td>1</td>\n",
       "      <td>-0.556641</td>\n",
       "      <td>-0.090820</td>\n",
       "      <td>-0.410156</td>\n",
       "      <td>-310.180664</td>\n",
       "      <td>69.763184</td>\n",
       "      <td>148.803711</td>\n",
       "      <td>5</td>\n",
       "    </tr>\n",
       "    <tr>\n",
       "      <td>2</td>\n",
       "      <td>-0.732422</td>\n",
       "      <td>0.270996</td>\n",
       "      <td>-0.428223</td>\n",
       "      <td>-200.622543</td>\n",
       "      <td>83.679192</td>\n",
       "      <td>-10.620116</td>\n",
       "      <td>5</td>\n",
       "    </tr>\n",
       "    <tr>\n",
       "      <td>3</td>\n",
       "      <td>-0.750488</td>\n",
       "      <td>0.377441</td>\n",
       "      <td>-0.253906</td>\n",
       "      <td>-112.609856</td>\n",
       "      <td>38.085938</td>\n",
       "      <td>38.330078</td>\n",
       "      <td>5</td>\n",
       "    </tr>\n",
       "    <tr>\n",
       "      <td>4</td>\n",
       "      <td>-0.698242</td>\n",
       "      <td>0.671875</td>\n",
       "      <td>-0.150879</td>\n",
       "      <td>-39.184570</td>\n",
       "      <td>-16.113281</td>\n",
       "      <td>-29.479979</td>\n",
       "      <td>5</td>\n",
       "    </tr>\n",
       "  </tbody>\n",
       "</table>\n",
       "</div>"
      ],
      "text/plain": [
       "      acc_x     acc_y     acc_z      gyro_x     gyro_y      gyro_z  label\n",
       "0 -0.071777  0.680176 -0.341797 -313.781738 -51.818844  111.816399      5\n",
       "1 -0.556641 -0.090820 -0.410156 -310.180664  69.763184  148.803711      5\n",
       "2 -0.732422  0.270996 -0.428223 -200.622543  83.679192  -10.620116      5\n",
       "3 -0.750488  0.377441 -0.253906 -112.609856  38.085938   38.330078      5\n",
       "4 -0.698242  0.671875 -0.150879  -39.184570 -16.113281  -29.479979      5"
      ]
     },
     "execution_count": 81,
     "metadata": {},
     "output_type": "execute_result"
    }
   ],
   "source": [
    "columns2 = [\"Time\",\"acc_x\", \"acc_y\", \"acc_z\",\"gyro_x\", \"gyro_y\", \"gyro_z\", \"label\"]\n",
    "ksTest = pd.read_csv(\"Slagen/Netdrop/Test/6011853_0000000000_25Hz.csv\", names=columns2, sep=',')\n",
    "ksTest['label']= 5\n",
    "ksTest = ksTest.drop(['Time'], axis = 1).copy()\n",
    "ksTest.head()"
   ]
  },
  {
   "cell_type": "code",
   "execution_count": 82,
   "metadata": {},
   "outputs": [],
   "source": [
    "X2 = ksTest[['acc_x', 'acc_y', 'acc_z', 'gyro_x', 'gyro_y', 'gyro_z']]\n",
    "y2 = ksTest['label']"
   ]
  },
  {
   "cell_type": "code",
   "execution_count": 83,
   "metadata": {},
   "outputs": [],
   "source": [
    "scaled_X = pd.DataFrame(data = X2, columns = ['acc_x', 'acc_y', 'acc_z', 'gyro_x', 'gyro_y', 'gyro_z'])\n",
    "scaled_X['label'] = y2.values\n",
    "scaled_X['acc_x'] *=125\n",
    "scaled_X['acc_y'] *=125\n",
    "scaled_X['acc_z'] *=125"
   ]
  },
  {
   "cell_type": "code",
   "execution_count": 84,
   "metadata": {},
   "outputs": [],
   "source": [
    "Xnorm = pd.DataFrame(data = scaled_X, columns = ['acc_x', 'acc_y', 'acc_z', 'gyro_x', 'gyro_y', 'gyro_z'])\n",
    "ynorm = scaled_X['label']\n",
    "Xnorm = normalize(Xnorm)\n",
    "Xnorm = df = pd.DataFrame(Xnorm, columns = ['acc_x', 'acc_y', 'acc_z', 'gyro_x', 'gyro_y', 'gyro_z'])\n",
    "Xnorm['label'] = ynorm.values"
   ]
  },
  {
   "cell_type": "code",
   "execution_count": 85,
   "metadata": {},
   "outputs": [],
   "source": [
    "X_2, y_2 = get_frames(Xnorm, frame_size, hop_size)"
   ]
  },
  {
   "cell_type": "code",
   "execution_count": 86,
   "metadata": {},
   "outputs": [],
   "source": [
    "X_2 = X_2.reshape( X_2.shape[0], X_2.shape[1], X_2.shape[2], 1)"
   ]
  },
  {
   "cell_type": "code",
   "execution_count": 88,
   "metadata": {},
   "outputs": [
    {
     "data": {
      "text/plain": [
       "0    5\n",
       "1    5\n",
       "2    5\n",
       "3    5\n",
       "4    5\n",
       "5    5\n",
       "6    5\n",
       "7    5\n",
       "8    5\n",
       "9    5\n",
       "Name: label, dtype: int64"
      ]
     },
     "execution_count": 88,
     "metadata": {},
     "output_type": "execute_result"
    }
   ],
   "source": [
    "y2[0:10]"
   ]
  },
  {
   "cell_type": "code",
   "execution_count": 98,
   "metadata": {},
   "outputs": [
    {
     "data": {
      "text/plain": [
       "array([  0,   0,   0, 232,   0, 695,   8], dtype=int64)"
      ]
     },
     "execution_count": 98,
     "metadata": {},
     "output_type": "execute_result"
    }
   ],
   "source": [
    "y_pred2 = model.predict_classes(X_2)\n",
    "y_pred2[0:1000]\n",
    "counts = np.bincount(y_pred2)\n",
    "counts"
   ]
  },
  {
   "cell_type": "code",
   "execution_count": 54,
   "metadata": {},
   "outputs": [],
   "source": [
    "#probabilities = model.predict_proba(X_2)\n",
    "#probabilities[0:10]"
   ]
  },
  {
   "cell_type": "code",
   "execution_count": 99,
   "metadata": {},
   "outputs": [
    {
     "data": {
      "image/png": "[encoded data removed]",
      "text/plain": [
       "<Figure size 720x720 with 2 Axes>"
      ]
     },
     "metadata": {
      "needs_background": "light"
     },
     "output_type": "display_data"
    },
    {
     "data": {
      "text/plain": [
       "<Figure size 720x720 with 0 Axes>"
      ]
     },
     "metadata": {},
     "output_type": "display_data"
    }
   ],
   "source": [
    "mat2 = confusion_matrix(y_2, y_pred2)\n",
    "class_names = ['korte service','netdrop','smash',]\n",
    "\n",
    "fig, ax = plot_confusion_matrix(conf_mat=mat2,\n",
    "                                colorbar=True,\n",
    "                                show_absolute=False,\n",
    "                                show_normed=True,\n",
    "                                class_names=class_names,\n",
    "                                cmap='Blues')\n",
    "plt.figure(figsize=(10,10))\n",
    "plt.show()"
   ]
  },
  {
   "cell_type": "code",
   "execution_count": null,
   "metadata": {},
   "outputs": [],
   "source": []
  }
 ],
 "metadata": {
  "kernelspec": {
   "display_name": "Python 3",
   "language": "python",
   "name": "python3"
  },
  "language_info": {
   "codemirror_mode": {
    "name": "ipython",
    "version": 3
   },
   "file_extension": ".py",
   "mimetype": "text/x-python",
   "name": "python",
   "nbconvert_exporter": "python",
   "pygments_lexer": "ipython3",
   "version": "3.7.4"
  }
 },
 "nbformat": 4,
 "nbformat_minor": 2
}
