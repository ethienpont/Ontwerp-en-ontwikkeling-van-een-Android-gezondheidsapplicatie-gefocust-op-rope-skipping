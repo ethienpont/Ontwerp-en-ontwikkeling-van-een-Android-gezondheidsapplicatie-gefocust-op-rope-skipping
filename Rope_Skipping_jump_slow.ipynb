{
 "cells": [
  {
   "cell_type": "code",
   "execution_count": 1,
   "metadata": {},
   "outputs": [],
   "source": [
    "%matplotlib notebook\n",
    "import pandas as pd\n",
    "import numpy as np\n",
    "import math\n",
    "import statistics\n",
    "from datetime import datetime\n",
    "from sklearn.model_selection import train_test_split\n",
    "from sklearn import preprocessing\n",
    "from sklearn.ensemble import RandomForestClassifier, ExtraTreesClassifier, AdaBoostClassifier\n",
    "from sklearn.model_selection import GridSearchCV\n",
    "from sklearn.linear_model import SGDClassifier\n",
    "from sklearn.naive_bayes import GaussianNB, MultinomialNB\n",
    "from sklearn.neighbors import KNeighborsClassifier\n",
    "from sklearn.svm import SVC, LinearSVC\n",
    "from sklearn import svm\n",
    "from sklearn.neural_network import MLPClassifier\n",
    "from sklearn.metrics import confusion_matrix, classification_report\n",
    "from sklearn.preprocessing import StandardScaler, LabelEncoder, normalize\n",
    "import matplotlib.pyplot as plt\n",
    "import seaborn as sn\n",
    "import matplotlib\n",
    "from mlxtend.plotting import plot_confusion_matrix\n",
    "import warnings\n",
    "from scipy.signal import savgol_filter, find_peaks, correlate\n",
    "from sklearn.decomposition import PCA\n",
    "import scipy.fftpack as FFT\n",
    "from sklearn.utils import shuffle\n",
    "import joblib\n",
    "warnings.filterwarnings('ignore')\n",
    "matplotlib.rcParams['figure.figsize'] = [12,5]"
   ]
  },
  {
   "cell_type": "markdown",
   "metadata": {},
   "source": [
    "## help functions"
   ]
  },
  {
   "cell_type": "code",
   "execution_count": 2,
   "metadata": {},
   "outputs": [],
   "source": [
    "def convert_to_float(x):\n",
    "    try:\n",
    "        return np.float(x)\n",
    "    except:\n",
    "        return np.nan\n",
    "\n",
    "def convert_to_datetime(x):\n",
    "    dt = datetime.fromtimestamp(x // 1000000000)\n",
    "    s = dt.strftime('%Y-%m-%d %H:%M:%S')\n",
    "    s += '.' + str(int(x % 1000000000)).zfill(9)\n",
    "    return s\n",
    "\n",
    "def heatmap(cm, labels):\n",
    "    df_cm = pd.DataFrame(cm, index=labels, columns=labels)\n",
    "    plt.figure(figsize = (10,7))\n",
    "    sn.heatmap(df_cm, annot=True)\n",
    "\n",
    "    plt.show()\n",
    "    \n",
    "def preprocess(data, activity, drop_interval_begin = 3, drop_interval_end = 3):\n",
    "    #convert nanoseconds to date \n",
    "    data['time'] = data['time'].apply(convert_to_datetime) \n",
    "    data['time'] = pd.to_datetime(data['time'])\n",
    "\n",
    "#convert to same data type\n",
    "    for i in range(1, 4): \n",
    "        data[column_names_org[i]] = data[column_names_org[i]].apply(convert_to_float)\n",
    "    \n",
    "#drop rows with NaN values \n",
    "    data.dropna(axis=0, how='any', inplace=True) #TODO: invullen met mean, mod of median / interpolatie\n",
    "\n",
    "#drop duplicates \n",
    "    data.drop_duplicates(subset=None, keep='first', inplace = True)\n",
    "    \n",
    "    #drop first and last 3 sec\n",
    "    indexFirst = data[ (data['time'].iloc[0]+ pd.to_timedelta(drop_interval_begin, unit='s')) > data['time'] ].index\n",
    "    data.drop(indexFirst , inplace=True)\n",
    "    indexLast = data[ (data['time'].iloc[-1]- pd.to_timedelta(drop_interval_end, unit='s')) < data['time'] ].index\n",
    "    data.drop(indexLast , inplace=True)\n",
    "    \n",
    "    #add activity label\n",
    "    data['activity'] = activity\n",
    "    \n",
    "    return data\n",
    "\n",
    "#feature extraction\n",
    "def get_mean_window(df):\n",
    "    return df.mean()\n",
    "\n",
    "def get_min_window(df):\n",
    "    return df.min()\n",
    "\n",
    "def get_max_window(df):\n",
    "    return df.max()\n",
    "\n",
    "def get_std_window(df):\n",
    "    return df.std()\n",
    "\n",
    "def get_med_window(df):\n",
    "    return df.median()\n",
    "\n",
    "#TODO: scipy integrate\n",
    "#TODO: voor elke as apart??\n",
    "#measure of activity level (m/s²)\n",
    "def get_signal_magnitude_area(df):\n",
    "        sum = 0\n",
    "        for i in range(0, len(df)):\n",
    "            sum += (abs(df['x'].iloc[i]) + abs(df['y'].iloc[i]) + abs(df['z'].iloc[i]))\n",
    "        return sum /len(df)\n",
    "    #result = integrate.quad(lambda t: df['x'].apply(lambda n : abs(n)) + df['y'].apply(lambda n : abs(n)) + df['z'].apply(lambda n : abs(n)), 0, len(df))\n",
    "\n",
    "#TODO: voor elke as apart??\n",
    "#degree of movement intensity (m/s²)\n",
    "def get_signal_magnitude_vector(df):\n",
    "    sum = 0\n",
    "    for i in range(0, len(df)):\n",
    "        sum += math.sqrt(df['x'].iloc[i] * df['x'].iloc[i] + df['y'].iloc[i] * df['y'].iloc[i] + df['z'].iloc[i] * df['z'].iloc[i])\n",
    "    return sum\n",
    "\n",
    "#average angle (radian) between accelerometer vector and x as (parallel with arm)\n",
    "def get_tilt_angle(df):\n",
    "    df_cos = pd.DataFrame(columns=[\"tilt_ang\"])\n",
    "    df_dot = df['x']\n",
    "    for i in range(0, len(df)):\n",
    "        s = pd.Series({\"tilt_ang\" : (df_dot.iloc[i])/(math.sqrt(df['x'].iloc[i]*df['x'].iloc[i] + df['y'].iloc[i]*df['y'].iloc[i] + df['z'].iloc[i]*df['z'].iloc[i]))})\n",
    "        df_cos=df_cos.append(s, ignore_index=True)\n",
    "    df_angle = np.arccos(df_cos)\n",
    "    return df_angle.mean()['tilt_ang']\n",
    "\n",
    "def get_power_spectral_density(df):\n",
    "    df_psd = np.abs(df)**2\n",
    "    return df_psd.sum()\n",
    "\n",
    "#TODO: datatype is object en niet compex nr\n",
    "def get_entropy(df):\n",
    "    entropy = []\n",
    "    pdf = df / df.sum()\n",
    "    for i in range (1, len(pdf.columns)):\n",
    "        entropy.append(np.complex(-np.nansum(pdf.iloc[:,i] * np.log2(pdf.iloc[:,i]))))\n",
    "    return entropy\n",
    "\n",
    "#generate windows with 50% overlap\n",
    "def windows(df, time, overlap):\n",
    "    start = df.iloc[0]\n",
    "    while  (start + pd.to_timedelta(time, unit='s')) < df.iloc[-1]:\n",
    "        yield start, (start + pd.to_timedelta(time, unit='s'))\n",
    "        if overlap:\n",
    "            start += pd.to_timedelta(time/2, unit='s')\n",
    "        else:\n",
    "            start += pd.to_timedelta(time, unit='s')\n",
    "    #last samples \n",
    "    yield (df.iloc[-1] - pd.to_timedelta(time, unit='s')), df.iloc[-1]\n",
    "        \n",
    "def feature_extraction_segmentation(data, window, overlap):\n",
    "    column_names = [\"x_mean\", \"y_mean\", \"z_mean\", \"x_min\", \"y_min\", \"z_min\", \"x_max\", \"y_max\", \"z_max\",\n",
    "                \"x_std\", \"y_std\", \"z_std\", \"x_med\", \"y_med\", \"z_med\", \"activity\"]\n",
    "    df = pd.DataFrame(columns = column_names)\n",
    "\n",
    "    for (start, end) in windows(data['time'], window, overlap):\n",
    "        vw1 = data['time'] >= start\n",
    "        vw2 = data['time'] < end\n",
    "        mean = get_mean_window(data[vw1 & vw2])\n",
    "        min = get_min_window(data[vw1 & vw2])\n",
    "        max = get_max_window(data[vw1 & vw2])\n",
    "        std = get_std_window(data[vw1 & vw2])\n",
    "        med = get_med_window(data[vw1 & vw2])\n",
    "        sma = get_signal_magnitude_area(data[vw1 & vw2])\n",
    "        smv = get_signal_magnitude_vector(data[vw1 & vw2])\n",
    "        tilt = get_tilt_angle(data[vw1 & vw2])\n",
    "        #fourrier transform\n",
    "        t_x = data[vw1 & vw2][['time','x']].set_index('time')\n",
    "        t_y = data[vw1 & vw2][['time','y']].set_index('time')\n",
    "        t_z = data[vw1 & vw2][['time', 'z']].set_index('time')\n",
    "\n",
    "        df_f = pd.DataFrame(columns=['f', 'x_f', 'y_f', 'z_f'])\n",
    "\n",
    "    #TODO: determine sampling rate (datapoints per second)\n",
    "        sampling_rate = 52\n",
    "\n",
    "        df_f['x_f'] = FFT.fft(t_x).ravel()\n",
    "        df_f['y_f'] = FFT.fft(t_y).ravel()\n",
    "        df_f['z_f'] = FFT.fft(t_z).ravel()\n",
    "        df_f['f'] = FFT.fftfreq(len(df_f['x_f'])) * sampling_rate\n",
    "\n",
    "        psd = get_power_spectral_density(df_f)\n",
    "        #entropy = get_entropy(df_f)\n",
    "\n",
    "        df = df.append(pd.Series({'x_mean': mean['x'], 'y_mean': mean['y'], 'z_mean': mean['z'], \"x_min\" : min['x'],\n",
    "                              \"y_min\" : min['y'], \"z_min\" : min['z'], \"x_max\" : max['x'], \"y_max\" : max['y'], \"z_max\" : max['z'],\n",
    "                              \"x_std\" : std['x'], \"y_std\" : std['y'], \"z_std\" : std['z'], \"x_med\" : med['x'], \"y_med\" : med['y'], \"z_med\" : med['z'],\n",
    "                              \"sma\" : sma, \"smv\" : smv, \"tilt\" : tilt, \"x_psd\" : psd['x_f'], \"y_psd\" : psd['y_f'], \"z_psd\" : psd['z_f']\n",
    "                              , \"activity\" : data['activity'].iloc[0]}), ignore_index=True) # \"x_entropy\" : entropy[0], \"y_entropy\" : entropy[1], \"z_entropy\" : entropy[2],\n",
    "    return df\n",
    "\n",
    "#3 keer savgol filter uitvoeren met 33,5\n",
    "def get_turns_smooth_side_swing(df):\n",
    "    for i in range(0,5):\n",
    "        df['x'] = savgol_filter(df[ 'x'].to_numpy(), 101, 5)\n",
    "        df['y'] = savgol_filter(df[ 'y'].to_numpy(), 101, 5)\n",
    "        df['z'] = savgol_filter(df[ 'z'].to_numpy(), 101, 5)\n",
    "        df.plot(x='time', subplots=True)\n",
    "\n",
    "    wx = find_peaks(df['x'])\n",
    "    wy = find_peaks(df['y'])\n",
    "    wz = find_peaks(df['z'])\n",
    "    return (len(wx[0]) + len(wy[0]) + len(wz[0]))/3\n",
    "\n",
    "\n",
    "column_names_org = ['time', 'x', 'y', 'z']"
   ]
  },
  {
   "cell_type": "markdown",
   "metadata": {},
   "source": [
    "# <font color='green' >PROEFPERSOON 1"
   ]
  },
  {
   "cell_type": "markdown",
   "metadata": {},
   "source": [
    "## jump_slow"
   ]
  },
  {
   "cell_type": "code",
   "execution_count": 192,
   "metadata": {},
   "outputs": [],
   "source": [
    "jump_slow_left_forward_1 = []\n",
    "jump_slow_right_forward_1 = []\n",
    "jump_slow_left_backwards_1 = []\n",
    "jump_slow_right_backwards_1 = []"
   ]
  },
  {
   "cell_type": "markdown",
   "metadata": {},
   "source": [
    "#### jump_slow_left_forward"
   ]
  },
  {
   "cell_type": "code",
   "execution_count": 193,
   "metadata": {},
   "outputs": [],
   "source": [
    "jump_slow3 = pd.read_csv(r\"C:\\Users\\Elise\\Documents\\unif\\master\\semester2\\masterproef\\gitProject\\thesis\\data\\jump_slow\\proefpersoon1\\jump_slow_left_forward_tim.csv\", sep=';', header=0, skipinitialspace=True)\n",
    "\n",
    "jump_slow3 = preprocess(jump_slow3, \"jump_slow\")\n",
    "\n",
    "jump_slow_left_forward_1 = [jump_slow3]"
   ]
  },
  {
   "cell_type": "markdown",
   "metadata": {},
   "source": [
    "#### jump_slow_right_forward"
   ]
  },
  {
   "cell_type": "code",
   "execution_count": 194,
   "metadata": {},
   "outputs": [],
   "source": [
    "jump_slow_rigth = pd.read_csv(r\"C:\\Users\\Elise\\Documents\\unif\\master\\semester2\\masterproef\\gitProject\\thesis\\data\\jump_slow\\proefpersoon1\\jump_slow_tim.csv\", sep=';', header=0, skipinitialspace=True)\n",
    "\n",
    "jump_slow_rigth = preprocess(jump_slow_rigth, \"jump_slow\")\n",
    "\n",
    "jump_slow_right_forward_1 = [jump_slow_rigth]"
   ]
  },
  {
   "cell_type": "markdown",
   "metadata": {},
   "source": [
    "#### jump_slow_left_backwards"
   ]
  },
  {
   "cell_type": "code",
   "execution_count": 195,
   "metadata": {},
   "outputs": [],
   "source": [
    "jump_slow_left_backwards1 = pd.read_csv(r\"C:\\Users\\Elise\\Documents\\unif\\master\\semester2\\masterproef\\gitProject\\thesis\\data\\jump_slow\\proefpersoon1\\jump_slow_left_backwards_tim1.csv\", sep=';', header=0, skipinitialspace=True)\n",
    "jump_slow_left_backwards2 = pd.read_csv(r\"C:\\Users\\Elise\\Documents\\unif\\master\\semester2\\masterproef\\gitProject\\thesis\\data\\jump_slow\\proefpersoon1\\jump_slow_left_backwards_tim2.csv\", sep=';', header=0, skipinitialspace=True)\n",
    "jump_slow_left_backwards3 = pd.read_csv(r\"C:\\Users\\Elise\\Documents\\unif\\master\\semester2\\masterproef\\gitProject\\thesis\\data\\jump_slow\\proefpersoon1\\jump_slow_left_backwards_tim3.csv\", sep=';', header=0, skipinitialspace=True)\n",
    "\n",
    "jump_slow_left_backwards1 = preprocess(jump_slow_left_backwards1, \"jump_slow\", 3, 5)\n",
    "jump_slow_left_backwards2 = preprocess(jump_slow_left_backwards2, \"jump_slow\")\n",
    "jump_slow_left_backwards3 = preprocess(jump_slow_left_backwards3, \"jump_slow\")\n",
    "\n",
    "jump_slow_left_backwards_1 = [jump_slow_left_backwards1, jump_slow_left_backwards2, jump_slow_left_backwards3]"
   ]
  },
  {
   "cell_type": "markdown",
   "metadata": {},
   "source": [
    "#### jump_slow_right_backwards"
   ]
  },
  {
   "cell_type": "code",
   "execution_count": 196,
   "metadata": {},
   "outputs": [],
   "source": [
    "jump_slow_right_backwards1 = pd.read_csv(r\"C:\\Users\\Elise\\Documents\\unif\\master\\semester2\\masterproef\\gitProject\\thesis\\data\\jump_slow\\proefpersoon1\\jump_slow_right_backwards_tim.csv\", sep=';', header=0, skipinitialspace=True)\n",
    "jump_slow_right_backwards2 = pd.read_csv(r\"C:\\Users\\Elise\\Documents\\unif\\master\\semester2\\masterproef\\gitProject\\thesis\\data\\jump_slow\\proefpersoon1\\jump_slow_right_backwards_tim1.csv\", sep=';', header=0, skipinitialspace=True)\n",
    "\n",
    "jump_slow_right_backwards1 = preprocess(jump_slow_right_backwards1, \"jump_slow\")\n",
    "jump_slow_right_backwards2 = preprocess(jump_slow_right_backwards2, \"jump_slow\")\n",
    "\n",
    "jump_slow_right_backwards_1 = [jump_slow_right_backwards1, jump_slow_right_backwards2]"
   ]
  },
  {
   "cell_type": "markdown",
   "metadata": {},
   "source": [
    "### SEGMENTATION"
   ]
  },
  {
   "cell_type": "code",
   "execution_count": 197,
   "metadata": {},
   "outputs": [],
   "source": [
    "#segmentation + feature extraction\n",
    "for i in range(0, len(jump_slow_left_forward_1)):\n",
    "    jump_slow_left_forward_1[i] =  feature_extraction_segmentation(jump_slow_left_forward_1[i],1, True)\n",
    "    \n",
    "for i in range(0, len(jump_slow_right_forward_1)): \n",
    "    jump_slow_right_forward_1[i] =  feature_extraction_segmentation(jump_slow_right_forward_1[i],1, True)\n",
    "    \n",
    "for i in range(0, len(jump_slow_left_backwards_1)):\n",
    "    jump_slow_left_backwards_1[i] =  feature_extraction_segmentation(jump_slow_left_backwards_1[i],1, True)\n",
    "\n",
    "for i in range(0, len(jump_slow_right_backwards_1)):\n",
    "    jump_slow_right_backwards_1[i] =  feature_extraction_segmentation(jump_slow_right_backwards_1[i],1, True)\n"
   ]
  },
  {
   "cell_type": "code",
   "execution_count": 198,
   "metadata": {},
   "outputs": [
    {
     "data": {
      "text/plain": [
       "(80, 22)"
      ]
     },
     "execution_count": 198,
     "metadata": {},
     "output_type": "execute_result"
    }
   ],
   "source": [
    "jump_slow_left_backwards_1 = pd.concat(jump_slow_left_backwards_1, ignore_index=True)\n",
    "jump_slow_left_backwards_1.shape"
   ]
  },
  {
   "cell_type": "code",
   "execution_count": 199,
   "metadata": {},
   "outputs": [
    {
     "data": {
      "text/plain": [
       "(111, 22)"
      ]
     },
     "execution_count": 199,
     "metadata": {},
     "output_type": "execute_result"
    }
   ],
   "source": [
    "jump_slow_right_backwards_1 = pd.concat(jump_slow_right_backwards_1, ignore_index=True)\n",
    "jump_slow_right_backwards_1.shape"
   ]
  },
  {
   "cell_type": "code",
   "execution_count": 200,
   "metadata": {},
   "outputs": [
    {
     "data": {
      "text/plain": [
       "(33, 22)"
      ]
     },
     "execution_count": 200,
     "metadata": {},
     "output_type": "execute_result"
    }
   ],
   "source": [
    "jump_slow_left_forward_1 = pd.concat(jump_slow_left_forward_1, ignore_index=True)\n",
    "jump_slow_left_forward_1.shape"
   ]
  },
  {
   "cell_type": "code",
   "execution_count": 201,
   "metadata": {},
   "outputs": [
    {
     "data": {
      "text/plain": [
       "(70, 22)"
      ]
     },
     "execution_count": 201,
     "metadata": {},
     "output_type": "execute_result"
    }
   ],
   "source": [
    "jump_slow_right_forward_1 = pd.concat(jump_slow_right_forward_1, ignore_index=True)\n",
    "jump_slow_right_forward_1.shape"
   ]
  },
  {
   "cell_type": "markdown",
   "metadata": {},
   "source": [
    "### SHUFFLE - BALANCING"
   ]
  },
  {
   "cell_type": "code",
   "execution_count": null,
   "metadata": {},
   "outputs": [],
   "source": [
    "shape = np.min([\n",
    "    jump_slow_left_backwards_1.shape[0], \n",
    "    jump_slow_right_backwards_1.shape[0], \n",
    "    jump_slow_left_forward_1.shape[0], \n",
    "    jump_slow_right_forward_1.shape[0]])"
   ]
  },
  {
   "cell_type": "code",
   "execution_count": null,
   "metadata": {},
   "outputs": [],
   "source": [
    "jump_slow_left_backwards_1 = shuffle(jump_slow_left_backwards_1).head(shape).copy()\n",
    "jump_slow_right_backwards_1 = shuffle(jump_slow_right_backwards_1).head(shape).copy()\n",
    "jump_slow_left_forward_1 = shuffle(jump_slow_left_forward_1).head(shape).copy()\n",
    "jump_slow_right_forward_1 = shuffle(jump_slow_right_forward_1).head(shape).copy()"
   ]
  },
  {
   "cell_type": "code",
   "execution_count": null,
   "metadata": {},
   "outputs": [],
   "source": [
    "jump_slow_1 = pd.concat([jump_slow_left_backwards_1, jump_slow_right_backwards_1, jump_slow_left_forward_1, jump_slow_right_forward_1])"
   ]
  },
  {
   "cell_type": "markdown",
   "metadata": {},
   "source": [
    "# <font color='green' >PROEFPERSOON 2"
   ]
  },
  {
   "cell_type": "code",
   "execution_count": 250,
   "metadata": {},
   "outputs": [],
   "source": [
    "jump_slow_left_forward_2 = []\n",
    "jump_slow_right_forward_2 = []\n",
    "jump_slow_left_backwards_2 = []\n",
    "jump_slow_right_backwards_2 = []"
   ]
  },
  {
   "cell_type": "markdown",
   "metadata": {},
   "source": [
    "#### jump_slow_left_forward"
   ]
  },
  {
   "cell_type": "code",
   "execution_count": 251,
   "metadata": {},
   "outputs": [],
   "source": [
    "jump_slow = pd.read_csv(r\"C:\\Users\\Elise\\Documents\\unif\\master\\semester2\\masterproef\\gitProject\\thesis\\data\\jump_slow\\proefpersoon2\\jump_slow.csv\", sep=';', header=0, skipinitialspace=True)\n",
    "jump_slow2 = pd.read_csv(r\"C:\\Users\\Elise\\Documents\\unif\\master\\semester2\\masterproef\\gitProject\\thesis\\data\\jump_slow\\proefpersoon2\\jump_slow1 (meting2).csv\", sep=';', header=0, skipinitialspace=True)\n",
    "\n",
    "jump_slow = preprocess(jump_slow, \"jump_slow\")\n",
    "jump_slow2 = preprocess(jump_slow2, \"jump_slow\")\n",
    "\n",
    "jump_slow_left_forward_2 = [jump_slow, jump_slow2]"
   ]
  },
  {
   "cell_type": "markdown",
   "metadata": {},
   "source": [
    "#### jump_slow_right_forward"
   ]
  },
  {
   "cell_type": "code",
   "execution_count": 252,
   "metadata": {},
   "outputs": [],
   "source": [
    "jump_slow_rigth = pd.read_csv(r\"C:\\Users\\Elise\\Documents\\unif\\master\\semester2\\masterproef\\gitProject\\thesis\\data\\jump_slow\\proefpersoon2\\jump_slow_right1.csv\", sep=';', header=0, skipinitialspace=True)\n",
    "jump_slow_rigth2 = pd.read_csv(r\"C:\\Users\\Elise\\Documents\\unif\\master\\semester2\\masterproef\\gitProject\\thesis\\data\\jump_slow\\proefpersoon2\\jump_slow_right2.csv\", sep=';', header=0, skipinitialspace=True)\n",
    "jump_slow_rigth3 = pd.read_csv(r\"C:\\Users\\Elise\\Documents\\unif\\master\\semester2\\masterproef\\gitProject\\thesis\\data\\jump_slow\\proefpersoon2\\jumpslow_right_forward.csv\", sep=';', header=0, skipinitialspace=True)\n",
    "jump_slow_rigth4 = pd.read_csv(r\"C:\\Users\\Elise\\Documents\\unif\\master\\semester2\\masterproef\\gitProject\\thesis\\data\\jump_slow\\proefpersoon2\\jumpslow_right_forward2.csv\", sep=';', header=0, skipinitialspace=True)\n",
    "\n",
    "jump_slow_rigth = preprocess(jump_slow_rigth, \"jump_slow\")\n",
    "jump_slow_rigth2 = preprocess(jump_slow_rigth2, \"jump_slow\")\n",
    "jump_slow_rigth3 = preprocess(jump_slow_rigth3, \"jump_slow\")\n",
    "jump_slow_rigth4 = preprocess(jump_slow_rigth4, \"jump_slow\")\n",
    "\n",
    "jump_slow_right_forward_2 = [jump_slow_rigth, jump_slow_rigth2, jump_slow_rigth3, jump_slow_rigth4]"
   ]
  },
  {
   "cell_type": "markdown",
   "metadata": {},
   "source": [
    "#### jump_slow_left_backwards"
   ]
  },
  {
   "cell_type": "code",
   "execution_count": 253,
   "metadata": {},
   "outputs": [],
   "source": [
    "jump_slow_turn_diff = pd.read_csv(r\"C:\\Users\\Elise\\Documents\\unif\\master\\semester2\\masterproef\\gitProject\\thesis\\data\\jump_slow\\proefpersoon2\\jump_slow_turn_diff.csv\", sep=';', header=0, skipinitialspace=True)\n",
    "\n",
    "jump_slow_turn_diff = preprocess(jump_slow_turn_diff, \"jump_slow\")\n",
    "\n",
    "jump_slow_left_backwards_2 = [jump_slow_turn_diff]"
   ]
  },
  {
   "cell_type": "markdown",
   "metadata": {},
   "source": [
    "#### jump_slow_right_backwards"
   ]
  },
  {
   "cell_type": "code",
   "execution_count": 254,
   "metadata": {},
   "outputs": [],
   "source": [
    "jump_slow_right_backwards1 = pd.read_csv(r\"C:\\Users\\Elise\\Documents\\unif\\master\\semester2\\masterproef\\gitProject\\thesis\\data\\jump_slow\\proefpersoon2\\jump_slow_right_backwards1.csv\", sep=';', header=0, skipinitialspace=True)\n",
    "jump_slow_right_backwards2 = pd.read_csv(r\"C:\\Users\\Elise\\Documents\\unif\\master\\semester2\\masterproef\\gitProject\\thesis\\data\\jump_slow\\proefpersoon2\\jump_slow_right_backwards2.csv\", sep=';', header=0, skipinitialspace=True)\n",
    "\n",
    "jump_slow_right_backwards1 = preprocess(jump_slow_right_backwards1, \"jump_slow\")\n",
    "jump_slow_right_backwards2 = preprocess(jump_slow_right_backwards2, \"jump_slow\")\n",
    "\n",
    "jump_slow_right_backwards_2 = [jump_slow_right_backwards1, jump_slow_right_backwards2]"
   ]
  },
  {
   "cell_type": "markdown",
   "metadata": {},
   "source": [
    "### SEGMENTATION"
   ]
  },
  {
   "cell_type": "code",
   "execution_count": 255,
   "metadata": {},
   "outputs": [],
   "source": [
    "#segmentation + feature extraction\n",
    "for i in range(0, len(jump_slow_left_forward_2)):\n",
    "    jump_slow_left_forward_2[i] =  feature_extraction_segmentation(jump_slow_left_forward_2[i],1, True)\n",
    "    \n",
    "for i in range(0, len(jump_slow_right_forward_2)): \n",
    "    jump_slow_right_forward_2[i] =  feature_extraction_segmentation(jump_slow_right_forward_2[i],1, True)\n",
    "    \n",
    "for i in range(0, len(jump_slow_left_backwards_2)):\n",
    "    jump_slow_left_backwards_2[i] =  feature_extraction_segmentation(jump_slow_left_backwards_2[i],1, True)\n",
    "\n",
    "for i in range(0, len(jump_slow_right_backwards_2)):\n",
    "    jump_slow_right_backwards_2[i] =  feature_extraction_segmentation(jump_slow_right_backwards_2[i],1, True)\n"
   ]
  },
  {
   "cell_type": "code",
   "execution_count": 256,
   "metadata": {},
   "outputs": [
    {
     "data": {
      "text/plain": [
       "(109, 22)"
      ]
     },
     "execution_count": 256,
     "metadata": {},
     "output_type": "execute_result"
    }
   ],
   "source": [
    "jump_slow_left_backwards_2 = pd.concat(jump_slow_left_backwards_2, ignore_index=True)\n",
    "jump_slow_left_backwards_2.shape"
   ]
  },
  {
   "cell_type": "code",
   "execution_count": 257,
   "metadata": {},
   "outputs": [
    {
     "data": {
      "text/plain": [
       "(194, 22)"
      ]
     },
     "execution_count": 257,
     "metadata": {},
     "output_type": "execute_result"
    }
   ],
   "source": [
    "jump_slow_right_backwards_2 = pd.concat(jump_slow_right_backwards_2, ignore_index=True)\n",
    "jump_slow_right_backwards_2.shape"
   ]
  },
  {
   "cell_type": "code",
   "execution_count": 258,
   "metadata": {},
   "outputs": [
    {
     "data": {
      "text/plain": [
       "(110, 22)"
      ]
     },
     "execution_count": 258,
     "metadata": {},
     "output_type": "execute_result"
    }
   ],
   "source": [
    "jump_slow_left_forward_2 = pd.concat(jump_slow_left_forward_2, ignore_index=True)\n",
    "jump_slow_left_forward_2.shape"
   ]
  },
  {
   "cell_type": "code",
   "execution_count": 259,
   "metadata": {},
   "outputs": [
    {
     "data": {
      "text/plain": [
       "(266, 22)"
      ]
     },
     "execution_count": 259,
     "metadata": {},
     "output_type": "execute_result"
    }
   ],
   "source": [
    "jump_slow_right_forward_2 = pd.concat(jump_slow_right_forward_2, ignore_index=True)\n",
    "jump_slow_right_forward_2.shape"
   ]
  },
  {
   "cell_type": "markdown",
   "metadata": {},
   "source": [
    "### SHUFFLE - BALANCING"
   ]
  },
  {
   "cell_type": "code",
   "execution_count": null,
   "metadata": {},
   "outputs": [],
   "source": [
    "shape = np.min([\n",
    "    jump_slow_left_backwards_2.shape[0], \n",
    "    jump_slow_right_backwards_2.shape[0], \n",
    "    jump_slow_left_forward_2.shape[0], \n",
    "    jump_slow_right_forward_2.shape[0]])"
   ]
  },
  {
   "cell_type": "code",
   "execution_count": null,
   "metadata": {},
   "outputs": [],
   "source": [
    "jump_slow_left_backwards_2 = shuffle(jump_slow_left_backwards_2).head(shape).copy()\n",
    "jump_slow_right_backwards_2 = shuffle(jump_slow_right_backwards_2).head(shape).copy()\n",
    "jump_slow_left_forward_2 = shuffle(jump_slow_left_forward_2).head(shape).copy()\n",
    "jump_slow_right_forward_2 = shuffle(jump_slow_right_forward_2).head(shape).copy()"
   ]
  },
  {
   "cell_type": "code",
   "execution_count": null,
   "metadata": {},
   "outputs": [],
   "source": [
    "jump_slow_2 = pd.concat([jump_slow_left_backwards_2, jump_slow_right_backwards_2, jump_slow_left_forward_2, jump_slow_right_forward_2])"
   ]
  },
  {
   "cell_type": "code",
   "execution_count": null,
   "metadata": {},
   "outputs": [],
   "source": []
  }
 ],
 "metadata": {
  "kernelspec": {
   "display_name": "Python 3",
   "language": "python",
   "name": "python3"
  },
  "language_info": {
   "codemirror_mode": {
    "name": "ipython",
    "version": 3
   },
   "file_extension": ".py",
   "mimetype": "text/x-python",
   "name": "python",
   "nbconvert_exporter": "python",
   "pygments_lexer": "ipython3",
   "version": "3.7.4"
  }
 },
 "nbformat": 4,
 "nbformat_minor": 2
}
