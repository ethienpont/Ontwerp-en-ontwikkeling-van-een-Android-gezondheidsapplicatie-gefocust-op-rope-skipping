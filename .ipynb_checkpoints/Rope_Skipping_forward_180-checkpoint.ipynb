{
 "cells": [
  {
   "cell_type": "code",
   "execution_count": 1,
   "metadata": {},
   "outputs": [],
   "source": [
    "%matplotlib notebook\n",
    "import pandas as pd\n",
    "import numpy as np\n",
    "import math\n",
    "import statistics\n",
    "from datetime import datetime\n",
    "from sklearn.model_selection import train_test_split\n",
    "from sklearn import preprocessing\n",
    "from sklearn.ensemble import RandomForestClassifier, ExtraTreesClassifier, AdaBoostClassifier\n",
    "from sklearn.model_selection import GridSearchCV\n",
    "from sklearn.linear_model import SGDClassifier\n",
    "from sklearn.naive_bayes import GaussianNB, MultinomialNB\n",
    "from sklearn.neighbors import KNeighborsClassifier\n",
    "from sklearn.svm import SVC, LinearSVC\n",
    "from sklearn import svm\n",
    "from sklearn.neural_network import MLPClassifier\n",
    "from sklearn.metrics import confusion_matrix, classification_report\n",
    "from sklearn.preprocessing import StandardScaler, LabelEncoder, normalize\n",
    "import matplotlib.pyplot as plt\n",
    "import seaborn as sn\n",
    "import matplotlib\n",
    "from mlxtend.plotting import plot_confusion_matrix\n",
    "import warnings\n",
    "from scipy.signal import savgol_filter, find_peaks, correlate\n",
    "from sklearn.decomposition import PCA\n",
    "import scipy.fftpack as FFT\n",
    "from sklearn.utils import shuffle\n",
    "import joblib\n",
    "warnings.filterwarnings('ignore')\n",
    "matplotlib.rcParams['figure.figsize'] = [12,5]"
   ]
  },
  {
   "cell_type": "markdown",
   "metadata": {},
   "source": [
    "## help functions"
   ]
  },
  {
   "cell_type": "code",
   "execution_count": 2,
   "metadata": {},
   "outputs": [],
   "source": [
    "def sampling_freq(df):\n",
    "    start = df['time'].iloc[0]\n",
    "    sum_samples = 0\n",
    "    index = 0\n",
    "    while  (start + pd.to_timedelta(1, unit='s')) < df['time'].iloc[-1]:\n",
    "        end =  start + pd.to_timedelta(1, unit='s')\n",
    "        sum_samples += df[(df['time'] >= start) & (df['time'] < end)].shape[0]\n",
    "        start += pd.to_timedelta(1, unit='s')\n",
    "        index += 1\n",
    "    return sum_samples/index\n",
    "\n",
    "def convert_to_float(x):\n",
    "    try:\n",
    "        return np.float(x)\n",
    "    except:\n",
    "        return np.nan\n",
    "\n",
    "def convert_to_datetime(x):\n",
    "    dt = datetime.fromtimestamp(x // 1000000000)\n",
    "    s = dt.strftime('%Y-%m-%d %H:%M:%S')\n",
    "    s += '.' + str(int(x % 1000000000)).zfill(9)\n",
    "    return s\n",
    "\n",
    "def heatmap(cm, labels):\n",
    "    df_cm = pd.DataFrame(cm, index=labels, columns=labels)\n",
    "    plt.figure(figsize = (10,7))\n",
    "    sn.heatmap(df_cm, annot=True)\n",
    "\n",
    "    plt.show()\n",
    "    \n",
    "def preprocess(data, activity, drop_interval_begin = 3, drop_interval_end = 3):\n",
    "    #convert nanoseconds to date \n",
    "    data['time'] = data['time'].apply(convert_to_datetime) \n",
    "    data['time'] = pd.to_datetime(data['time'])\n",
    "\n",
    "#convert to same data type\n",
    "    for i in range(1, 4): \n",
    "        data[column_names_org[i]] = data[column_names_org[i]].apply(convert_to_float)\n",
    "    \n",
    "#drop rows with NaN values \n",
    "    data.dropna(axis=0, how='any', inplace=True) #TODO: invullen met mean, mod of median / interpolatie\n",
    "\n",
    "#drop duplicates \n",
    "    data.drop_duplicates(subset=None, keep='first', inplace = True)\n",
    "    \n",
    "    #drop first and last 3 sec\n",
    "    indexFirst = data[ (data['time'].iloc[0]+ pd.to_timedelta(drop_interval_begin, unit='s')) > data['time'] ].index\n",
    "    data.drop(indexFirst , inplace=True)\n",
    "    indexLast = data[ (data['time'].iloc[-1]- pd.to_timedelta(drop_interval_end, unit='s')) < data['time'] ].index\n",
    "    data.drop(indexLast , inplace=True)\n",
    "    \n",
    "    #add activity label\n",
    "    data['activity'] = activity\n",
    "    \n",
    "    return data\n",
    "\n",
    "#feature extraction\n",
    "def get_mean_window(df):\n",
    "    return df.mean()\n",
    "\n",
    "def get_min_window(df):\n",
    "    return df.min()\n",
    "\n",
    "def get_max_window(df):\n",
    "    return df.max()\n",
    "\n",
    "def get_std_window(df):\n",
    "    return df.std()\n",
    "\n",
    "def get_med_window(df):\n",
    "    return df.median()\n",
    "\n",
    "#TODO: scipy integrate\n",
    "#TODO: voor elke as apart??\n",
    "#measure of activity level (m/s²)\n",
    "def get_signal_magnitude_area(df):\n",
    "        sum = 0\n",
    "        for i in range(0, len(df)):\n",
    "            sum += (abs(df['x'].iloc[i]) + abs(df['y'].iloc[i]) + abs(df['z'].iloc[i]))\n",
    "        return sum /len(df)\n",
    "    #result = integrate.quad(lambda t: df['x'].apply(lambda n : abs(n)) + df['y'].apply(lambda n : abs(n)) + df['z'].apply(lambda n : abs(n)), 0, len(df))\n",
    "\n",
    "#TODO: voor elke as apart??\n",
    "#degree of movement intensity (m/s²)\n",
    "def get_signal_magnitude_vector(df):\n",
    "    sum = 0\n",
    "    for i in range(0, len(df)):\n",
    "        sum += math.sqrt(df['x'].iloc[i] * df['x'].iloc[i] + df['y'].iloc[i] * df['y'].iloc[i] + df['z'].iloc[i] * df['z'].iloc[i])\n",
    "    return sum\n",
    "\n",
    "#average angle (radian) between accelerometer vector and x as (parallel with arm)\n",
    "def get_tilt_angle(df):\n",
    "    df_cos = pd.DataFrame(columns=[\"tilt_ang\"])\n",
    "    df_dot = df['x']\n",
    "    for i in range(0, len(df)):\n",
    "        s = pd.Series({\"tilt_ang\" : (df_dot.iloc[i])/(math.sqrt(df['x'].iloc[i]*df['x'].iloc[i] + df['y'].iloc[i]*df['y'].iloc[i] + df['z'].iloc[i]*df['z'].iloc[i]))})\n",
    "        df_cos=df_cos.append(s, ignore_index=True)\n",
    "    df_angle = np.arccos(df_cos)\n",
    "    return df_angle.mean()['tilt_ang']\n",
    "\n",
    "def get_power_spectral_density(df):\n",
    "    df_psd = np.abs(df)**2\n",
    "    return df_psd.sum()\n",
    "\n",
    "#TODO: datatype is object en niet compex nr\n",
    "def get_entropy(df):\n",
    "    entropy = []\n",
    "    pdf = df / df.sum()\n",
    "    for i in range (1, len(pdf.columns)):\n",
    "        entropy.append(np.complex(-np.nansum(pdf.iloc[:,i] * np.log2(pdf.iloc[:,i]))))\n",
    "    return entropy\n",
    "\n",
    "#generate windows with 50% overlap\n",
    "def windows(df, time, overlap):\n",
    "    start = df.iloc[0]\n",
    "    while  (start + pd.to_timedelta(time, unit='s')) < df.iloc[-1]:\n",
    "        yield start, (start + pd.to_timedelta(time, unit='s'))\n",
    "        if overlap:\n",
    "            start += pd.to_timedelta(time/2, unit='s')\n",
    "        else:\n",
    "            start += pd.to_timedelta(time, unit='s')\n",
    "    #last samples \n",
    "    yield (df.iloc[-1] - pd.to_timedelta(time, unit='s')), df.iloc[-1]\n",
    "        \n",
    "def feature_extraction_segmentation(data, window, overlap):\n",
    "    column_names = [\"x_mean\", \"y_mean\", \"z_mean\", \"x_min\", \"y_min\", \"z_min\", \"x_max\", \"y_max\", \"z_max\",\n",
    "                \"x_std\", \"y_std\", \"z_std\", \"x_med\", \"y_med\", \"z_med\", \"activity\"]\n",
    "    df = pd.DataFrame(columns = column_names)\n",
    "\n",
    "    for (start, end) in windows(data['time'], window, overlap):\n",
    "        vw1 = data['time'] >= start\n",
    "        vw2 = data['time'] < end\n",
    "        mean = get_mean_window(data[vw1 & vw2])\n",
    "        min = get_min_window(data[vw1 & vw2])\n",
    "        max = get_max_window(data[vw1 & vw2])\n",
    "        std = get_std_window(data[vw1 & vw2])\n",
    "        med = get_med_window(data[vw1 & vw2])\n",
    "        sma = get_signal_magnitude_area(data[vw1 & vw2])\n",
    "        smv = get_signal_magnitude_vector(data[vw1 & vw2])\n",
    "        tilt = get_tilt_angle(data[vw1 & vw2])\n",
    "        #fourrier transform\n",
    "        t_x = data[vw1 & vw2][['time','x']].set_index('time')\n",
    "        t_y = data[vw1 & vw2][['time','y']].set_index('time')\n",
    "        t_z = data[vw1 & vw2][['time', 'z']].set_index('time')\n",
    "\n",
    "        df_f = pd.DataFrame(columns=['f', 'x_f', 'y_f', 'z_f'])\n",
    "\n",
    "    #TODO: determine sampling rate (datapoints per second)\n",
    "        sampling_rate = 52\n",
    "\n",
    "        df_f['x_f'] = FFT.fft(t_x).ravel()\n",
    "        df_f['y_f'] = FFT.fft(t_y).ravel()\n",
    "        df_f['z_f'] = FFT.fft(t_z).ravel()\n",
    "        df_f['f'] = FFT.fftfreq(len(df_f['x_f'])) * sampling_rate\n",
    "\n",
    "        psd = get_power_spectral_density(df_f)\n",
    "        #entropy = get_entropy(df_f)\n",
    "\n",
    "        df = df.append(pd.Series({'x_mean': mean['x'], 'y_mean': mean['y'], 'z_mean': mean['z'], \"x_min\" : min['x'],\n",
    "                              \"y_min\" : min['y'], \"z_min\" : min['z'], \"x_max\" : max['x'], \"y_max\" : max['y'], \"z_max\" : max['z'],\n",
    "                              \"x_std\" : std['x'], \"y_std\" : std['y'], \"z_std\" : std['z'], \"x_med\" : med['x'], \"y_med\" : med['y'], \"z_med\" : med['z'],\n",
    "                              \"sma\" : sma, \"smv\" : smv, \"tilt\" : tilt, \"x_psd\" : psd['x_f'], \"y_psd\" : psd['y_f'], \"z_psd\" : psd['z_f']\n",
    "                              , \"activity\" : data['activity'].iloc[0]}), ignore_index=True) # \"x_entropy\" : entropy[0], \"y_entropy\" : entropy[1], \"z_entropy\" : entropy[2],\n",
    "    return df\n",
    "\n",
    "#3 keer savgol filter uitvoeren met 33,5\n",
    "def get_turns_smooth_side_swing(df):\n",
    "    for i in range(0,5):\n",
    "        df['x'] = savgol_filter(df[ 'x'].to_numpy(), 101, 5)\n",
    "        df['y'] = savgol_filter(df[ 'y'].to_numpy(), 101, 5)\n",
    "        df['z'] = savgol_filter(df[ 'z'].to_numpy(), 101, 5)\n",
    "        df.plot(x='time', subplots=True)\n",
    "\n",
    "    wx = find_peaks(df['x'])\n",
    "    wy = find_peaks(df['y'])\n",
    "    wz = find_peaks(df['z'])\n",
    "    return (len(wx[0]) + len(wy[0]) + len(wz[0]))/3\n",
    "\n",
    "\n",
    "column_names_org = ['time', 'x', 'y', 'z']"
   ]
  },
  {
   "cell_type": "code",
   "execution_count": 3,
   "metadata": {},
   "outputs": [],
   "source": [
    "raw = False\n",
    "freq = 0"
   ]
  },
  {
   "cell_type": "markdown",
   "metadata": {},
   "source": [
    "# <font color='green' >PROEFPERSOON 1"
   ]
  },
  {
   "cell_type": "markdown",
   "metadata": {},
   "source": [
    "## forward 180"
   ]
  },
  {
   "cell_type": "markdown",
   "metadata": {},
   "source": [
    "OPM: window data van 2 verschillende forward 180s => niet realistisch"
   ]
  },
  {
   "cell_type": "code",
   "execution_count": 4,
   "metadata": {},
   "outputs": [],
   "source": [
    "forward_180_left_right_1 = []\n",
    "forward_180_right_right_1 = []\n",
    "forward_180_left_left_1 = []\n",
    "forward_180_right_left_1 = []"
   ]
  },
  {
   "cell_type": "markdown",
   "metadata": {},
   "source": [
    "#### forward_180_left_right"
   ]
  },
  {
   "cell_type": "markdown",
   "metadata": {},
   "source": [
    "#### tussenpauzes"
   ]
  },
  {
   "cell_type": "markdown",
   "metadata": {},
   "source": [
    "<font color='red'>TODO</font>: niet volledig signaal geknipt!"
   ]
  },
  {
   "cell_type": "code",
   "execution_count": 270,
   "metadata": {},
   "outputs": [],
   "source": [
    "forward_180_2 = pd.read_csv(r\"C:\\Users\\Elise\\Documents\\unif\\master\\semester2\\masterproef\\gitProject\\thesis\\data\\forward_180\\proefpersoon1\\forward_180_left_forward_tim.csv\", sep=';', header=0, skipinitialspace=True)\n"
   ]
  },
  {
   "cell_type": "code",
   "execution_count": 271,
   "metadata": {},
   "outputs": [],
   "source": [
    "f1 = forward_180_2[forward_180_2[\"time\"] <= 598031000000]\n",
    "f2 =  forward_180_2[(forward_180_2[\"time\"] >= 598031000000) & (forward_180_2[\"time\"] <= 604000000000)]\n",
    "f3 =  forward_180_2[(forward_180_2[\"time\"] >= 604000000000) & (forward_180_2[\"time\"] <= 610000000000)]\n",
    "f4 =  forward_180_2[(forward_180_2[\"time\"] >= 610000000000) & (forward_180_2[\"time\"] <= 616000000000)]\n",
    "f5 =  forward_180_2[(forward_180_2[\"time\"] >= 616000000000) & (forward_180_2[\"time\"] <= 621300000000)]\n",
    "f6 =  forward_180_2[(forward_180_2[\"time\"] >= 621300000000) & (forward_180_2[\"time\"] <= 627600000000)]\n",
    "f7 =  forward_180_2[(forward_180_2[\"time\"] >= 627600000000) & (forward_180_2[\"time\"] <= 634400000000)]\n",
    "f8 =  forward_180_2[(forward_180_2[\"time\"] >= 634400000000)]"
   ]
  },
  {
   "cell_type": "code",
   "execution_count": 272,
   "metadata": {},
   "outputs": [],
   "source": [
    "f1 = preprocess(f1, \"forward_180\", 0.9, 0.9)\n",
    "f2 = preprocess(f2, \"forward_180\", 1.05, 0.9)\n",
    "f3 = preprocess(f3, \"forward_180\", 1.1, 1)\n",
    "f4 = preprocess(f4, \"forward_180\", 0.9, 1.3)\n",
    "f5 = preprocess(f5, \"forward_180\", 0.95, 0.7)\n",
    "f6 = preprocess(f6, \"forward_180\", 0.8, 1.5)\n",
    "f7 = preprocess(f7, \"forward_180\", 1.8, 1.5)\n",
    "f8 = preprocess(f8, \"forward_180\", 1.1, 3.6)"
   ]
  },
  {
   "cell_type": "code",
   "execution_count": 273,
   "metadata": {},
   "outputs": [],
   "source": [
    "forward_180_left_forward_1 = [f1, f2, f3, f4, f5, f6, f7, f8]"
   ]
  },
  {
   "cell_type": "markdown",
   "metadata": {},
   "source": [
    "#### zonder tussenpauzes"
   ]
  },
  {
   "cell_type": "code",
   "execution_count": 5,
   "metadata": {},
   "outputs": [],
   "source": [
    "forward_180_left_right_1a = pd.read_csv(\n",
    "    r\"C:\\Users\\Elise\\Documents\\unif\\master\\semester2\\masterproef\\gitProject\\thesis\\data\\forward_180\\proefpersoon1\\forward_180_left_right_tim1.csv\", \n",
    "    sep=';', header=0, skipinitialspace=True)"
   ]
  },
  {
   "cell_type": "code",
   "execution_count": 6,
   "metadata": {},
   "outputs": [],
   "source": [
    "forward_180_left_right_1a = preprocess(forward_180_left_right_1a, \"forward_180\")"
   ]
  },
  {
   "cell_type": "code",
   "execution_count": 7,
   "metadata": {},
   "outputs": [],
   "source": [
    "forward_180_left_right_1 = [forward_180_left_right_1a]"
   ]
  },
  {
   "cell_type": "code",
   "execution_count": 8,
   "metadata": {},
   "outputs": [],
   "source": [
    "for df in forward_180_left_right_1:\n",
    "    f = sampling_freq(df)\n",
    "    freq += f"
   ]
  },
  {
   "cell_type": "markdown",
   "metadata": {},
   "source": [
    "#### forward_180_right_right"
   ]
  },
  {
   "cell_type": "markdown",
   "metadata": {},
   "source": [
    "#### tussenpauzes"
   ]
  },
  {
   "cell_type": "code",
   "execution_count": 275,
   "metadata": {},
   "outputs": [],
   "source": [
    "forward_180_right_forward1 = pd.read_csv(r\"C:\\Users\\Elise\\Documents\\unif\\master\\semester2\\masterproef\\gitProject\\thesis\\data\\forward_180\\proefpersoon1\\forward_180_right_forward_tim.csv\", sep=';', header=0, skipinitialspace=True)"
   ]
  },
  {
   "cell_type": "code",
   "execution_count": 276,
   "metadata": {},
   "outputs": [],
   "source": [
    "f1 = forward_180_right_forward1[forward_180_right_forward1[\"time\"] <= 25443100000000]\n",
    "f2 =  forward_180_right_forward1[(forward_180_right_forward1[\"time\"] >= 25443100000000) & (forward_180_right_forward1[\"time\"] <= 25447700000000)]\n",
    "f3 =  forward_180_right_forward1[(forward_180_right_forward1[\"time\"] >= 25447700000000) & (forward_180_right_forward1[\"time\"] <= 25452500000000)]\n",
    "f4 =  forward_180_right_forward1[(forward_180_right_forward1[\"time\"] >= 25452500000000) & (forward_180_right_forward1[\"time\"] <= 25457600000000)]\n",
    "f5 =  forward_180_right_forward1[(forward_180_right_forward1[\"time\"] >= 25457600000000) & (forward_180_right_forward1[\"time\"] <= 25462400000000)]\n",
    "f6 =  forward_180_right_forward1[(forward_180_right_forward1[\"time\"] >= 25462400000000) & (forward_180_right_forward1[\"time\"] <= 25467200000000)]\n",
    "f7 =  forward_180_right_forward1[(forward_180_right_forward1[\"time\"] >= 25467200000000) & (forward_180_right_forward1[\"time\"] <= 25471900000000)]\n",
    "f8 =  forward_180_right_forward1[(forward_180_right_forward1[\"time\"] >= 25471900000000) & (forward_180_right_forward1[\"time\"] <= 25477000000000)]"
   ]
  },
  {
   "cell_type": "code",
   "execution_count": 277,
   "metadata": {},
   "outputs": [],
   "source": [
    "f1 = preprocess(f1, \"forward_180\", 1.2, 0.3)\n",
    "f2 = preprocess(f2, \"forward_180\", 0.3, 0.3)\n",
    "f3 = preprocess(f3, \"forward_180\", 0.4, 0.3)\n",
    "f4 = preprocess(f4, \"forward_180\", 0.5, 0.5)\n",
    "f5 = preprocess(f5, \"forward_180\", 0.5, 0.3)\n",
    "f6 = preprocess(f6, \"forward_180\", 0.5, 0.4)\n",
    "f7 = preprocess(f7, \"forward_180\", 0.5, 0.3)\n",
    "f8 = preprocess(f8, \"forward_180\", 0.5, 0.4)"
   ]
  },
  {
   "cell_type": "code",
   "execution_count": 278,
   "metadata": {},
   "outputs": [],
   "source": [
    "forward_180_right_forward_1 = [f1, f2, f3, f4, f5, f6, f7, f8]"
   ]
  },
  {
   "cell_type": "markdown",
   "metadata": {},
   "source": [
    "#### zonder tussenpauzes"
   ]
  },
  {
   "cell_type": "code",
   "execution_count": 9,
   "metadata": {},
   "outputs": [],
   "source": [
    "forward_180_right_right_1a = pd.read_csv(\n",
    "    r\"C:\\Users\\Elise\\Documents\\unif\\master\\semester2\\masterproef\\gitProject\\thesis\\data\\forward_180\\proefpersoon1\\forward_180_right_right_tim.csv\", \n",
    "    sep=';', header=0, skipinitialspace=True)"
   ]
  },
  {
   "cell_type": "code",
   "execution_count": 10,
   "metadata": {},
   "outputs": [],
   "source": [
    "forward_180_right_right_1a = preprocess(forward_180_right_right_1a, \"forward_180\")"
   ]
  },
  {
   "cell_type": "code",
   "execution_count": 11,
   "metadata": {},
   "outputs": [],
   "source": [
    "forward_180_right_right_1 = [forward_180_right_right_1a]"
   ]
  },
  {
   "cell_type": "code",
   "execution_count": 12,
   "metadata": {},
   "outputs": [],
   "source": [
    "for df in forward_180_right_right_1:\n",
    "    f = sampling_freq(df)\n",
    "    freq += f"
   ]
  },
  {
   "cell_type": "markdown",
   "metadata": {},
   "source": [
    "#### forward_180_left_left"
   ]
  },
  {
   "cell_type": "markdown",
   "metadata": {},
   "source": [
    "#### tussenpauze"
   ]
  },
  {
   "cell_type": "code",
   "execution_count": 280,
   "metadata": {},
   "outputs": [],
   "source": [
    "#8 SEGMENTEN\n",
    "forward_180_left_other_side1 = pd.read_csv(r\"C:\\Users\\Elise\\Documents\\unif\\master\\semester2\\masterproef\\gitProject\\thesis\\data\\forward_180\\proefpersoon1\\forward_180_left_forward_tim_other1.csv\", sep=';', header=0, skipinitialspace=True)\n"
   ]
  },
  {
   "cell_type": "code",
   "execution_count": 282,
   "metadata": {},
   "outputs": [],
   "source": [
    "f1 =  forward_180_left_other_side1[(forward_180_left_other_side1[\"time\"] <= 32298600000000)]\n",
    "f2 =  forward_180_left_other_side1[(forward_180_left_other_side1[\"time\"] >= 32298600000000) & (forward_180_left_other_side1[\"time\"] <= 32302600000000)]\n",
    "f3 =  forward_180_left_other_side1[(forward_180_left_other_side1[\"time\"] >= 32302600000000) & (forward_180_left_other_side1[\"time\"] <= 32306700000000)]\n",
    "f4 =  forward_180_left_other_side1[(forward_180_left_other_side1[\"time\"] >= 32306700000000) & (forward_180_left_other_side1[\"time\"] <= 32310800000000)]\n",
    "f5 =  forward_180_left_other_side1[(forward_180_left_other_side1[\"time\"] >= 32310800000000) & (forward_180_left_other_side1[\"time\"] <= 32314900000000)]\n",
    "f6 =  forward_180_left_other_side1[(forward_180_left_other_side1[\"time\"] >= 32314900000000) & (forward_180_left_other_side1[\"time\"] <= 32319000000000)]\n",
    "f7 =  forward_180_left_other_side1[(forward_180_left_other_side1[\"time\"] >= 32319000000000) & (forward_180_left_other_side1[\"time\"] <= 32323200000000)]\n",
    "f8 =  forward_180_left_other_side1[(forward_180_left_other_side1[\"time\"] >= 32323200000000) & (forward_180_left_other_side1[\"time\"] <= 32327700000000)]"
   ]
  },
  {
   "cell_type": "code",
   "execution_count": 283,
   "metadata": {},
   "outputs": [],
   "source": [
    "f1 = preprocess(f1, \"forward_180\", 1.4, 0.7)\n",
    "f2 = preprocess(f2, \"forward_180\", 0.4, 1.1)\n",
    "f3 = preprocess(f3, \"forward_180\", 0.4, 1.2)\n",
    "f4 = preprocess(f4, \"forward_180\", 0.6, 0.9)\n",
    "f5 = preprocess(f5, \"forward_180\", 0.5, 1)\n",
    "f6 = preprocess(f6, \"forward_180\", 0.5, 1.1)\n",
    "f7 = preprocess(f7, \"forward_180\", 0.5, 1.1)\n",
    "f8 = preprocess(f8, \"forward_180\", 0.5, 1.1)"
   ]
  },
  {
   "cell_type": "code",
   "execution_count": 285,
   "metadata": {},
   "outputs": [],
   "source": [
    "forward_180_left_other_side_1 = [f1, f2, f3, f4, f5, f6, f7, f8]"
   ]
  },
  {
   "cell_type": "markdown",
   "metadata": {},
   "source": [
    "#### zonder tussenpauzes"
   ]
  },
  {
   "cell_type": "code",
   "execution_count": 13,
   "metadata": {},
   "outputs": [],
   "source": [
    "forward_180_left_left_1a = pd.read_csv(\n",
    "    r\"C:\\Users\\Elise\\Documents\\unif\\master\\semester2\\masterproef\\gitProject\\thesis\\data\\forward_180\\proefpersoon1\\forward_180_left_left_tim1.csv\", \n",
    "    sep=';', header=0, skipinitialspace=True)"
   ]
  },
  {
   "cell_type": "code",
   "execution_count": 14,
   "metadata": {},
   "outputs": [],
   "source": [
    "forward_180_left_left_1a = preprocess(forward_180_left_left_1a, \"forward_180\")"
   ]
  },
  {
   "cell_type": "code",
   "execution_count": 15,
   "metadata": {},
   "outputs": [],
   "source": [
    "forward_180_left_left_1 = [forward_180_left_left_1a]"
   ]
  },
  {
   "cell_type": "code",
   "execution_count": 16,
   "metadata": {},
   "outputs": [],
   "source": [
    "for df in forward_180_left_left_1:\n",
    "    f = sampling_freq(df)\n",
    "    freq += f"
   ]
  },
  {
   "cell_type": "markdown",
   "metadata": {},
   "source": [
    "#### forward_180_right_left"
   ]
  },
  {
   "cell_type": "markdown",
   "metadata": {},
   "source": [
    "#### tussenpauze"
   ]
  },
  {
   "cell_type": "code",
   "execution_count": 287,
   "metadata": {},
   "outputs": [],
   "source": [
    "#5 SEGMENTEN\n",
    "forward_180_right_other_side1 = pd.read_csv(r\"C:\\Users\\Elise\\Documents\\unif\\master\\semester2\\masterproef\\gitProject\\thesis\\data\\forward_180\\proefpersoon1\\forward_180_right_forward_other_side_tim1.csv\", sep=';', header=0, skipinitialspace=True)\n",
    "#3 SEGMENTEN\n",
    "forward_180_right_other_side2 = pd.read_csv(r\"C:\\Users\\Elise\\Documents\\unif\\master\\semester2\\masterproef\\gitProject\\thesis\\data\\forward_180\\proefpersoon1\\forward_180_right_forward_other_side_tim2.csv\", sep=';', header=0, skipinitialspace=True)\n"
   ]
  },
  {
   "cell_type": "code",
   "execution_count": 289,
   "metadata": {},
   "outputs": [],
   "source": [
    "f1 =  forward_180_right_other_side1[(forward_180_right_other_side1[\"time\"] <= 31692200000000)]\n",
    "f2 =  forward_180_right_other_side1[(forward_180_right_other_side1[\"time\"] >= 31692200000000) & (forward_180_right_other_side1[\"time\"] <= 31696700000000)]\n",
    "f3 =  forward_180_right_other_side1[(forward_180_right_other_side1[\"time\"] >= 31696700000000) & (forward_180_right_other_side1[\"time\"] <= 31701600000000)]\n",
    "f4 =  forward_180_right_other_side1[(forward_180_right_other_side1[\"time\"] >= 31701600000000) & (forward_180_right_other_side1[\"time\"] <= 31706200000000)]\n",
    "f5 =  forward_180_right_other_side1[forward_180_right_other_side1[\"time\"] >= 31706200000000]\n",
    "\n",
    "f6 =  forward_180_right_other_side2[(forward_180_right_other_side2[\"time\"] <= 31728600000000)]\n",
    "f7 =  forward_180_right_other_side2[(forward_180_right_other_side2[\"time\"] >= 31728600000000) & (forward_180_right_other_side2[\"time\"] <= 31733400000000)]\n",
    "f8 =  forward_180_right_other_side2[(forward_180_right_other_side2[\"time\"] >= 31733400000000) & (forward_180_right_other_side2[\"time\"] <= 31738000000000)]"
   ]
  },
  {
   "cell_type": "code",
   "execution_count": 290,
   "metadata": {},
   "outputs": [],
   "source": [
    "f1 = preprocess(f1, \"forward_180\", 1.3, 1.1)\n",
    "f2 = preprocess(f2, \"forward_180\", 0.7, 1)\n",
    "f3 = preprocess(f3, \"forward_180\", 0.7, 1.2)\n",
    "f4 = preprocess(f4, \"forward_180\", 0.6, 1.2)\n",
    "f5 = preprocess(f5, \"forward_180\", 0.7, 3.3) #DEZE FOUT\n",
    "f6 = preprocess(f6, \"forward_180\", 1.4, 1.3)\n",
    "f7 = preprocess(f7, \"forward_180\", 0.8, 1.1)\n",
    "f8 = preprocess(f8, \"forward_180\", 0.7, 1)"
   ]
  },
  {
   "cell_type": "code",
   "execution_count": 292,
   "metadata": {},
   "outputs": [],
   "source": [
    "forward_180_right_other_side_1 = [f1, f2, f3, f4, f5, f6, f7, f8]"
   ]
  },
  {
   "cell_type": "markdown",
   "metadata": {},
   "source": [
    "#### zonder tussenpauzes"
   ]
  },
  {
   "cell_type": "code",
   "execution_count": 17,
   "metadata": {},
   "outputs": [],
   "source": [
    "forward_180_right_left_1a = pd.read_csv(\n",
    "    r\"C:\\Users\\Elise\\Documents\\unif\\master\\semester2\\masterproef\\gitProject\\thesis\\data\\forward_180\\proefpersoon1\\forward_180_right_left_tim.csv\", \n",
    "    sep=';', header=0, skipinitialspace=True)"
   ]
  },
  {
   "cell_type": "code",
   "execution_count": 18,
   "metadata": {},
   "outputs": [],
   "source": [
    "forward_180_right_left_1a = preprocess(forward_180_right_left_1a, \"forward_180\")"
   ]
  },
  {
   "cell_type": "code",
   "execution_count": 19,
   "metadata": {},
   "outputs": [],
   "source": [
    "forward_180_right_left_1 = [forward_180_right_left_1a]"
   ]
  },
  {
   "cell_type": "code",
   "execution_count": 20,
   "metadata": {},
   "outputs": [],
   "source": [
    "for df in forward_180_right_left_1:\n",
    "    f = sampling_freq(df)\n",
    "    freq += f"
   ]
  },
  {
   "cell_type": "markdown",
   "metadata": {},
   "source": [
    "### SEGMENTATION"
   ]
  },
  {
   "cell_type": "code",
   "execution_count": 21,
   "metadata": {},
   "outputs": [],
   "source": [
    "if(not raw):\n",
    "    #segmentation + feature extraction\n",
    "    for i in range(0, len(forward_180_left_right_1)):\n",
    "        forward_180_left_right_1[i] =  feature_extraction_segmentation(forward_180_left_right_1[i],1, True)\n",
    "\n",
    "    for i in range(0, len(forward_180_right_right_1)):\n",
    "        forward_180_right_right_1[i] =  feature_extraction_segmentation(forward_180_right_right_1[i],1, True)\n",
    "    \n",
    "    for i in range(0, len(forward_180_left_left_1)):\n",
    "        forward_180_left_left_1[i] =  feature_extraction_segmentation(forward_180_left_left_1[i],1, True)\n",
    "\n",
    "    for i in range(0, len(forward_180_right_left_1)):\n",
    "        forward_180_right_left_1[i] =  feature_extraction_segmentation(forward_180_right_left_1[i],1, True)"
   ]
  },
  {
   "cell_type": "code",
   "execution_count": 22,
   "metadata": {},
   "outputs": [
    {
     "data": {
      "text/plain": [
       "(93, 22)"
      ]
     },
     "execution_count": 22,
     "metadata": {},
     "output_type": "execute_result"
    }
   ],
   "source": [
    "forward_180_left_right_1 = pd.concat(forward_180_left_right_1, ignore_index=True)\n",
    "forward_180_left_right_1.shape"
   ]
  },
  {
   "cell_type": "code",
   "execution_count": 23,
   "metadata": {},
   "outputs": [
    {
     "data": {
      "text/plain": [
       "(144, 22)"
      ]
     },
     "execution_count": 23,
     "metadata": {},
     "output_type": "execute_result"
    }
   ],
   "source": [
    "forward_180_right_right_1 = pd.concat(forward_180_right_right_1, ignore_index=True)\n",
    "forward_180_right_right_1.shape"
   ]
  },
  {
   "cell_type": "code",
   "execution_count": 24,
   "metadata": {},
   "outputs": [
    {
     "data": {
      "text/plain": [
       "(117, 22)"
      ]
     },
     "execution_count": 24,
     "metadata": {},
     "output_type": "execute_result"
    }
   ],
   "source": [
    "forward_180_left_left_1 = pd.concat(forward_180_left_left_1, ignore_index=True)\n",
    "forward_180_left_left_1.shape"
   ]
  },
  {
   "cell_type": "code",
   "execution_count": 25,
   "metadata": {},
   "outputs": [
    {
     "data": {
      "text/plain": [
       "(112, 22)"
      ]
     },
     "execution_count": 25,
     "metadata": {},
     "output_type": "execute_result"
    }
   ],
   "source": [
    "forward_180_right_left_1 = pd.concat(forward_180_right_left_1, ignore_index=True)\n",
    "forward_180_right_left_1.shape"
   ]
  },
  {
   "cell_type": "markdown",
   "metadata": {},
   "source": [
    "### SHUFFLE - BALANCING"
   ]
  },
  {
   "cell_type": "code",
   "execution_count": 52,
   "metadata": {},
   "outputs": [],
   "source": [
    "shape = np.min([\n",
    "    forward_180_left_right_1.shape[0], \n",
    "    forward_180_right_right_1.shape[0], \n",
    "    forward_180_left_left_1.shape[0], \n",
    "    forward_180_right_left_1.shape[0]])"
   ]
  },
  {
   "cell_type": "code",
   "execution_count": 53,
   "metadata": {},
   "outputs": [],
   "source": [
    "forward_180_left_right_1 = shuffle(forward_180_left_right_1).head(shape).copy()\n",
    "forward_180_right_right_1 = shuffle(forward_180_right_right_1).head(shape).copy()\n",
    "forward_180_left_left_1 = shuffle(forward_180_left_left_1).head(shape).copy()\n",
    "forward_180_right_left_1 = shuffle(forward_180_right_left_1).head(shape).copy()"
   ]
  },
  {
   "cell_type": "code",
   "execution_count": 54,
   "metadata": {},
   "outputs": [],
   "source": [
    "forward_180_1 = pd.concat([forward_180_left_right_1, forward_180_right_right_1, forward_180_left_left_1, forward_180_right_left_1])"
   ]
  },
  {
   "cell_type": "markdown",
   "metadata": {},
   "source": [
    "# <font color='green' >PROEFPERSOON 2"
   ]
  },
  {
   "cell_type": "markdown",
   "metadata": {},
   "source": [
    "## forward 180"
   ]
  },
  {
   "cell_type": "markdown",
   "metadata": {},
   "source": [
    "OPM: window data van 2 verschillende forward 180s => niet realistisch"
   ]
  },
  {
   "cell_type": "code",
   "execution_count": 26,
   "metadata": {},
   "outputs": [],
   "source": [
    "forward_180_left_right_2 = []\n",
    "forward_180_right_right_2 = []\n",
    "forward_180_left_left_2 = []\n",
    "forward_180_right_left_2  = []"
   ]
  },
  {
   "cell_type": "markdown",
   "metadata": {},
   "source": [
    "#### forward_180_left_right"
   ]
  },
  {
   "cell_type": "markdown",
   "metadata": {},
   "source": [
    "#### tussenpauze"
   ]
  },
  {
   "cell_type": "markdown",
   "metadata": {},
   "source": [
    "<font color='red'>TODO</font>: in preprocessing uitknippen!!!!!!!! (forward_180_2)"
   ]
  },
  {
   "cell_type": "code",
   "execution_count": 303,
   "metadata": {},
   "outputs": [],
   "source": [
    "#8 SEGMENTEN, niet volledig\n",
    "forward_180 = pd.read_csv(r\"C:\\Users\\Elise\\Documents\\unif\\master\\semester2\\masterproef\\gitProject\\thesis\\data\\forward_180\\proefpersoon2\\forward_180_left_forward1.csv\", sep=';', header=0, skipinitialspace=True)"
   ]
  },
  {
   "cell_type": "code",
   "execution_count": 304,
   "metadata": {},
   "outputs": [],
   "source": [
    "f1 =  forward_180[(forward_180[\"time\"] <= 20518400000000)]\n",
    "f2 =  forward_180[(forward_180[\"time\"] >= 20518400000000) & (forward_180[\"time\"] <= 20523600000000)]\n",
    "f3 =  forward_180[(forward_180[\"time\"] >= 20523600000000) & (forward_180[\"time\"] <= 20528600000000)]\n",
    "f4 =  forward_180[(forward_180[\"time\"] >= 20528600000000) & (forward_180[\"time\"] <= 20533700000000)]\n",
    "f5 =  forward_180[(forward_180[\"time\"] >= 20533700000000) & (forward_180[\"time\"] <= 20539000000000)]\n",
    "f6 =  forward_180[(forward_180[\"time\"] >= 20539000000000) & (forward_180[\"time\"] <= 20544100000000)]\n",
    "f7 =  forward_180[(forward_180[\"time\"] >= 20544100000000) & (forward_180[\"time\"] <= 20549400000000)]\n",
    "f8 =  forward_180[(forward_180[\"time\"] >= 20549400000000) & (forward_180[\"time\"] <= 20554500000000)]"
   ]
  },
  {
   "cell_type": "code",
   "execution_count": 305,
   "metadata": {},
   "outputs": [],
   "source": [
    "f1 = preprocess(f1, \"forward_180\", 1.5, 1.5)\n",
    "f2 = preprocess(f2, \"forward_180\", 1.3, 0.7)\n",
    "f3 = preprocess(f3, \"forward_180\", 1, 1)\n",
    "f4 = preprocess(f4, \"forward_180\", 1, 1)\n",
    "f5 = preprocess(f5, \"forward_180\", 1, 1)\n",
    "f6 = preprocess(f6, \"forward_180\", 1, 1)\n",
    "f7 = preprocess(f7, \"forward_180\", 1, 1.2)\n",
    "f8 = preprocess(f8, \"forward_180\", 1, 1)"
   ]
  },
  {
   "cell_type": "code",
   "execution_count": 306,
   "metadata": {},
   "outputs": [],
   "source": [
    "forward_180_left_forward_2 = [f1, f2, f3, f4, f5, f6, f7, f8]"
   ]
  },
  {
   "cell_type": "markdown",
   "metadata": {},
   "source": [
    "#### zonder tussenpauzes"
   ]
  },
  {
   "cell_type": "code",
   "execution_count": 27,
   "metadata": {},
   "outputs": [],
   "source": [
    "forward_180_left_right_2a = pd.read_csv(\n",
    "    r\"C:\\Users\\Elise\\Documents\\unif\\master\\semester2\\masterproef\\gitProject\\thesis\\data\\forward_180\\proefpersoon2\\forward_180_left_right.csv\", \n",
    "    sep=';', header=0, skipinitialspace=True)"
   ]
  },
  {
   "cell_type": "code",
   "execution_count": 28,
   "metadata": {},
   "outputs": [],
   "source": [
    "forward_180_left_right_2a = preprocess(forward_180_left_right_2a, \"forward_180\")"
   ]
  },
  {
   "cell_type": "code",
   "execution_count": 29,
   "metadata": {},
   "outputs": [],
   "source": [
    "forward_180_left_right_2 = [forward_180_left_right_2a]"
   ]
  },
  {
   "cell_type": "code",
   "execution_count": 36,
   "metadata": {},
   "outputs": [],
   "source": [
    "for df in forward_180_left_right_2:\n",
    "    f = sampling_freq(df)\n",
    "    freq += f"
   ]
  },
  {
   "cell_type": "markdown",
   "metadata": {},
   "source": [
    "#### forward_180_right_right"
   ]
  },
  {
   "cell_type": "markdown",
   "metadata": {},
   "source": [
    "#### tussenpauze"
   ]
  },
  {
   "cell_type": "code",
   "execution_count": 308,
   "metadata": {},
   "outputs": [],
   "source": [
    "#7 SEGMENTEN\n",
    "forward_180_right_forward3 = pd.read_csv(r\"C:\\Users\\Elise\\Documents\\unif\\master\\semester2\\masterproef\\gitProject\\thesis\\data\\forward_180\\proefpersoon2\\forward_180_right_forward3.csv\", sep=';', header=0, skipinitialspace=True)\n",
    "\n",
    "#1 SEGMENT, eerste stuk niet\n",
    "forward_180_right_forward4 = pd.read_csv(r\"C:\\Users\\Elise\\Documents\\unif\\master\\semester2\\masterproef\\gitProject\\thesis\\data\\forward_180\\proefpersoon2\\forward_180_right_forward4.csv\", sep=';', header=0, skipinitialspace=True)\n",
    "forward_180_right_forward5 = pd.read_csv(r\"C:\\Users\\Elise\\Documents\\unif\\master\\semester2\\masterproef\\gitProject\\thesis\\data\\forward_180\\proefpersoon2\\forward_180_right_forward5.csv\", sep=';', header=0, skipinitialspace=True)\n",
    "forward_180_right_forward6 = pd.read_csv(r\"C:\\Users\\Elise\\Documents\\unif\\master\\semester2\\masterproef\\gitProject\\thesis\\data\\forward_180\\proefpersoon2\\forward_180_right_forward6.csv\", sep=';', header=0, skipinitialspace=True)"
   ]
  },
  {
   "cell_type": "code",
   "execution_count": 309,
   "metadata": {},
   "outputs": [],
   "source": [
    "f1 =  forward_180_right_forward3[(forward_180_right_forward3[\"time\"] <= 11500400000000)]\n",
    "f2 =  forward_180_right_forward3[(forward_180_right_forward3[\"time\"] >= 11500400000000) & (forward_180_right_forward3[\"time\"] <= 11504900000000)]\n",
    "f3 =  forward_180_right_forward3[(forward_180_right_forward3[\"time\"] >= 11504900000000) & (forward_180_right_forward3[\"time\"] <= 11509600000000)]\n",
    "f4 =  forward_180_right_forward3[(forward_180_right_forward3[\"time\"] >= 11509600000000) & (forward_180_right_forward3[\"time\"] <= 11514100000000)]\n",
    "f5 =  forward_180_right_forward3[(forward_180_right_forward3[\"time\"] >= 11514100000000) & (forward_180_right_forward3[\"time\"] <= 11518500000000)]\n",
    "f6 =  forward_180_right_forward3[(forward_180_right_forward3[\"time\"] >= 11518500000000) & (forward_180_right_forward3[\"time\"] <= 11523200000000)]\n",
    "f7 =  forward_180_right_forward3[(forward_180_right_forward3[\"time\"] >= 11523200000000)]\n",
    "\n",
    "f8 =  forward_180_right_forward4[(forward_180_right_forward4[\"time\"] >= 11533300000000) & (forward_180_right_forward4[\"time\"] <= 11537900000000)]"
   ]
  },
  {
   "cell_type": "code",
   "execution_count": 310,
   "metadata": {},
   "outputs": [],
   "source": [
    "f1 = preprocess(f1, \"forward_180\", 1.2, 1)\n",
    "f2 = preprocess(f2, \"forward_180\", 0.8, 1)\n",
    "f3 = preprocess(f3, \"forward_180\", 0.7, 0.8)\n",
    "f4 = preprocess(f4, \"forward_180\", 0.9, 0.6)\n",
    "f5 = preprocess(f5, \"forward_180\", 0.7, 0.5)\n",
    "f6 = preprocess(f6, \"forward_180\", 0.7, 0.7)\n",
    "f7 = preprocess(f7, \"forward_180\", 0.9, 1.25)\n",
    "f8 = preprocess(f8, \"forward_180\", 0.8, 0.7)"
   ]
  },
  {
   "cell_type": "code",
   "execution_count": 311,
   "metadata": {},
   "outputs": [],
   "source": [
    "forward_180_right_forward_2 = [f1, f2, f3, f4, f5, f6, f7, f8]"
   ]
  },
  {
   "cell_type": "markdown",
   "metadata": {},
   "source": [
    "#### zonder tussenpauzes"
   ]
  },
  {
   "cell_type": "code",
   "execution_count": 30,
   "metadata": {},
   "outputs": [],
   "source": [
    "forward_180_right_right_2a = pd.read_csv(\n",
    "    r\"C:\\Users\\Elise\\Documents\\unif\\master\\semester2\\masterproef\\gitProject\\thesis\\data\\forward_180\\proefpersoon2\\forward_180_right_right1.csv\", \n",
    "    sep=';', header=0, skipinitialspace=True)\n",
    "\n",
    "forward_180_right_right_2b = pd.read_csv(\n",
    "    r\"C:\\Users\\Elise\\Documents\\unif\\master\\semester2\\masterproef\\gitProject\\thesis\\data\\forward_180\\proefpersoon2\\forward_180_right_right2.csv\", \n",
    "    sep=';', header=0, skipinitialspace=True)"
   ]
  },
  {
   "cell_type": "code",
   "execution_count": 31,
   "metadata": {},
   "outputs": [],
   "source": [
    "forward_180_right_right_2a = preprocess(forward_180_right_right_2a, \"forward_180\")\n",
    "forward_180_right_right_2b = preprocess(forward_180_right_right_2b, \"forward_180\")"
   ]
  },
  {
   "cell_type": "code",
   "execution_count": 32,
   "metadata": {},
   "outputs": [],
   "source": [
    "forward_180_right_right_2 = [forward_180_right_right_2a, forward_180_right_right_2b]"
   ]
  },
  {
   "cell_type": "code",
   "execution_count": 33,
   "metadata": {},
   "outputs": [],
   "source": [
    "for df in forward_180_right_right_2:\n",
    "    f = sampling_freq(df)\n",
    "    freq += f"
   ]
  },
  {
   "cell_type": "markdown",
   "metadata": {},
   "source": [
    "#### forward_180_left_left"
   ]
  },
  {
   "cell_type": "markdown",
   "metadata": {},
   "source": [
    "#### tussenpauze"
   ]
  },
  {
   "cell_type": "code",
   "execution_count": 313,
   "metadata": {},
   "outputs": [],
   "source": [
    "\n",
    "forward_180_left_other1 = pd.read_csv(r\"C:\\Users\\Elise\\Documents\\unif\\master\\semester2\\masterproef\\gitProject\\thesis\\data\\forward_180\\proefpersoon2\\forward_180_left_back_otherside1.csv\", sep=';', header=0, skipinitialspace=True)"
   ]
  },
  {
   "cell_type": "code",
   "execution_count": 314,
   "metadata": {},
   "outputs": [],
   "source": [
    "f1 =  forward_180_left_other1[(forward_180_left_other1[\"time\"] <= 20761200000000)]\n",
    "f2 =  forward_180_left_other1[(forward_180_left_other1[\"time\"] >= 20761200000000) & (forward_180_left_other1[\"time\"] <= 20766600000000)]\n",
    "f3 =  forward_180_left_other1[(forward_180_left_other1[\"time\"] >= 20766600000000) & (forward_180_left_other1[\"time\"] <= 20772000000000)]\n",
    "f4 =  forward_180_left_other1[(forward_180_left_other1[\"time\"] >= 20772000000000) & (forward_180_left_other1[\"time\"] <= 20777400000000)]\n",
    "f5 =  forward_180_left_other1[(forward_180_left_other1[\"time\"] >= 20777400000000) & (forward_180_left_other1[\"time\"] <= 20782800000000)]\n",
    "f6 =  forward_180_left_other1[(forward_180_left_other1[\"time\"] >= 20782800000000) & (forward_180_left_other1[\"time\"] <= 20787700000000)]\n",
    "f7 =  forward_180_left_other1[(forward_180_left_other1[\"time\"] >= 20787700000000) & (forward_180_left_other1[\"time\"] <= 20793000000000)]\n",
    "f8 =  forward_180_left_other1[(forward_180_left_other1[\"time\"] >= 20793000000000) & (forward_180_left_other1[\"time\"] <= 20798900000000)]"
   ]
  },
  {
   "cell_type": "code",
   "execution_count": 315,
   "metadata": {},
   "outputs": [],
   "source": [
    "f1 = preprocess(f1, \"forward_180\", 1.7, 1)\n",
    "f2 = preprocess(f2, \"forward_180\", 1.5, 1)\n",
    "f3 = preprocess(f3, \"forward_180\", 1.5, 0.8)\n",
    "f4 = preprocess(f4, \"forward_180\", 1.7, 0.8)\n",
    "f5 = preprocess(f5, \"forward_180\", 1.6, 1)\n",
    "f6 = preprocess(f6, \"forward_180\", 1.1, 0.9)\n",
    "f7 = preprocess(f7, \"forward_180\", 1.3, 1)\n",
    "f8 = preprocess(f8, \"forward_180\", 1.7, 1.2)"
   ]
  },
  {
   "cell_type": "code",
   "execution_count": 316,
   "metadata": {},
   "outputs": [],
   "source": [
    "forward_180_left_other_side_2 = [f1, f2, f3, f4, f5, f6, f7, f8]"
   ]
  },
  {
   "cell_type": "markdown",
   "metadata": {},
   "source": [
    "#### zonder tussenpauzes"
   ]
  },
  {
   "cell_type": "code",
   "execution_count": 34,
   "metadata": {},
   "outputs": [],
   "source": [
    "forward_180_left_left_2a = pd.read_csv(\n",
    "    r\"C:\\Users\\Elise\\Documents\\unif\\master\\semester2\\masterproef\\gitProject\\thesis\\data\\forward_180\\proefpersoon2\\forward_180_left_left.csv\", \n",
    "    sep=';', header=0, skipinitialspace=True)"
   ]
  },
  {
   "cell_type": "code",
   "execution_count": 35,
   "metadata": {},
   "outputs": [],
   "source": [
    "forward_180_left_left_2a = preprocess(forward_180_left_left_2a, \"forward_180\")"
   ]
  },
  {
   "cell_type": "code",
   "execution_count": 36,
   "metadata": {},
   "outputs": [],
   "source": [
    "forward_180_left_left_2 = [forward_180_left_left_2a]"
   ]
  },
  {
   "cell_type": "code",
   "execution_count": 37,
   "metadata": {},
   "outputs": [],
   "source": [
    "for df in forward_180_left_left_2:\n",
    "    f = sampling_freq(df)\n",
    "    freq += f"
   ]
  },
  {
   "cell_type": "markdown",
   "metadata": {},
   "source": [
    "#### forward_180_right_left"
   ]
  },
  {
   "cell_type": "markdown",
   "metadata": {},
   "source": [
    "#### tussenpauze"
   ]
  },
  {
   "cell_type": "code",
   "execution_count": 318,
   "metadata": {},
   "outputs": [],
   "source": [
    "#8 SEGMENTEN\n",
    "forward_180_right_other1 = pd.read_csv(r\"C:\\Users\\Elise\\Documents\\unif\\master\\semester2\\masterproef\\gitProject\\thesis\\data\\forward_180\\proefpersoon2\\forward_180_right_forward_otherside.csv\", sep=';', header=0, skipinitialspace=True)"
   ]
  },
  {
   "cell_type": "code",
   "execution_count": 320,
   "metadata": {},
   "outputs": [],
   "source": [
    "f1 =  forward_180_right_other1[(forward_180_right_other1[\"time\"] <= 20932900000000)]\n",
    "f2 =  forward_180_right_other1[(forward_180_right_other1[\"time\"] >= 20932900000000) & (forward_180_right_other1[\"time\"] <= 20938800000000)]\n",
    "f3 =  forward_180_right_other1[(forward_180_right_other1[\"time\"] >= 20938800000000) & (forward_180_right_other1[\"time\"] <= 20944700000000)]\n",
    "f4 =  forward_180_right_other1[(forward_180_right_other1[\"time\"] >= 20944700000000) & (forward_180_right_other1[\"time\"] <= 20950400000000)]\n",
    "f5 =  forward_180_right_other1[(forward_180_right_other1[\"time\"] >= 20950400000000) & (forward_180_right_other1[\"time\"] <= 20956000000000)]\n",
    "f6 =  forward_180_right_other1[(forward_180_right_other1[\"time\"] >= 20956000000000) & (forward_180_right_other1[\"time\"] <= 20961400000000)]\n",
    "f7 =  forward_180_right_other1[(forward_180_right_other1[\"time\"] >= 20961400000000) & (forward_180_right_other1[\"time\"] <= 20966500000000)]\n",
    "f8 =  forward_180_right_other1[(forward_180_right_other1[\"time\"] >= 20966500000000) & (forward_180_right_other1[\"time\"] <= 20971800000000)]"
   ]
  },
  {
   "cell_type": "code",
   "execution_count": 321,
   "metadata": {},
   "outputs": [],
   "source": [
    "f1 = preprocess(f1, \"forward_180\", 1, 1.2)\n",
    "f2 = preprocess(f2, \"forward_180\", 1.2, 1.2)\n",
    "f3 = preprocess(f3, \"forward_180\", 1.3, 1.4)\n",
    "f4 = preprocess(f4, \"forward_180\", 1.3, 1.6)\n",
    "f5 = preprocess(f5, \"forward_180\", 1.3, 1.5)\n",
    "f6 = preprocess(f6, \"forward_180\", 1.3, 1.1)\n",
    "f7 = preprocess(f7, \"forward_180\", 1.05, 1.4)\n",
    "f8 = preprocess(f8, \"forward_180\", 1.1, 1.4)"
   ]
  },
  {
   "cell_type": "code",
   "execution_count": 323,
   "metadata": {},
   "outputs": [],
   "source": [
    "forward_180_right_other_side_2 = [f1, f2, f3, f4, f5, f6, f7, f8]"
   ]
  },
  {
   "cell_type": "markdown",
   "metadata": {},
   "source": [
    "#### zonder tussenpauzes"
   ]
  },
  {
   "cell_type": "code",
   "execution_count": 38,
   "metadata": {},
   "outputs": [],
   "source": [
    "forward_180_right_left_2a = pd.read_csv(\n",
    "    r\"C:\\Users\\Elise\\Documents\\unif\\master\\semester2\\masterproef\\gitProject\\thesis\\data\\forward_180\\proefpersoon2\\forward_180_right_left.csv\", \n",
    "    sep=';', header=0, skipinitialspace=True)"
   ]
  },
  {
   "cell_type": "code",
   "execution_count": 39,
   "metadata": {},
   "outputs": [],
   "source": [
    "forward_180_right_left_2a = preprocess(forward_180_right_left_2a, \"forward_180\")"
   ]
  },
  {
   "cell_type": "code",
   "execution_count": 40,
   "metadata": {},
   "outputs": [],
   "source": [
    "forward_180_right_left_2 = [forward_180_right_left_2a]"
   ]
  },
  {
   "cell_type": "code",
   "execution_count": 41,
   "metadata": {},
   "outputs": [],
   "source": [
    "for df in forward_180_right_left_2:\n",
    "    f = sampling_freq(df)\n",
    "    freq += f"
   ]
  },
  {
   "cell_type": "markdown",
   "metadata": {},
   "source": [
    "### SEGMENTATION"
   ]
  },
  {
   "cell_type": "code",
   "execution_count": 42,
   "metadata": {},
   "outputs": [],
   "source": [
    "if(not raw):\n",
    "    #segmentation + feature extraction\n",
    "    for i in range(0, len(forward_180_left_right_2)):\n",
    "        forward_180_left_right_2[i] =  feature_extraction_segmentation(forward_180_left_right_2[i],1, True)\n",
    "\n",
    "    for i in range(0, len(forward_180_right_right_2)):\n",
    "        forward_180_right_right_2[i] =  feature_extraction_segmentation(forward_180_right_right_2[i],1, True)\n",
    "\n",
    "    for i in range(0, len(forward_180_left_left_2)):\n",
    "        forward_180_left_left_2[i] =  feature_extraction_segmentation(forward_180_left_left_2[i],1, True)\n",
    "    \n",
    "    for i in range(0, len(forward_180_right_left_2)):\n",
    "        forward_180_right_left_2[i] =  feature_extraction_segmentation(forward_180_right_left_2[i],1, True)\n",
    "    "
   ]
  },
  {
   "cell_type": "code",
   "execution_count": 43,
   "metadata": {},
   "outputs": [
    {
     "data": {
      "text/plain": [
       "(107, 22)"
      ]
     },
     "execution_count": 43,
     "metadata": {},
     "output_type": "execute_result"
    }
   ],
   "source": [
    "forward_180_left_right_2 = pd.concat(forward_180_left_right_2, ignore_index=True)\n",
    "forward_180_left_right_2.shape"
   ]
  },
  {
   "cell_type": "code",
   "execution_count": 44,
   "metadata": {},
   "outputs": [
    {
     "data": {
      "text/plain": [
       "(138, 22)"
      ]
     },
     "execution_count": 44,
     "metadata": {},
     "output_type": "execute_result"
    }
   ],
   "source": [
    "forward_180_right_right_2 = pd.concat(forward_180_right_right_2, ignore_index=True)\n",
    "forward_180_right_right_2.shape"
   ]
  },
  {
   "cell_type": "code",
   "execution_count": 45,
   "metadata": {},
   "outputs": [
    {
     "data": {
      "text/plain": [
       "(128, 22)"
      ]
     },
     "execution_count": 45,
     "metadata": {},
     "output_type": "execute_result"
    }
   ],
   "source": [
    "forward_180_left_left_2 = pd.concat(forward_180_left_left_2, ignore_index=True)\n",
    "forward_180_left_left_2.shape"
   ]
  },
  {
   "cell_type": "code",
   "execution_count": 46,
   "metadata": {},
   "outputs": [
    {
     "data": {
      "text/plain": [
       "(175, 22)"
      ]
     },
     "execution_count": 46,
     "metadata": {},
     "output_type": "execute_result"
    }
   ],
   "source": [
    "forward_180_right_left_2 = pd.concat(forward_180_right_left_2, ignore_index=True)\n",
    "forward_180_right_left_2.shape"
   ]
  },
  {
   "cell_type": "markdown",
   "metadata": {},
   "source": [
    "### SHUFFLE - BALANCING"
   ]
  },
  {
   "cell_type": "code",
   "execution_count": 47,
   "metadata": {},
   "outputs": [],
   "source": [
    "shape = np.min([\n",
    "    forward_180_left_right_2.shape[0], \n",
    "    forward_180_right_right_2.shape[0], \n",
    "    forward_180_left_left_2.shape[0], \n",
    "    forward_180_right_left_2.shape[0]])"
   ]
  },
  {
   "cell_type": "code",
   "execution_count": 48,
   "metadata": {},
   "outputs": [],
   "source": [
    "forward_180_left_right_2 = shuffle(forward_180_left_right_2).head(shape).copy()\n",
    "forward_180_right_right_2 = shuffle(forward_180_right_right_2).head(shape).copy()\n",
    "forward_180_left_left_2 = shuffle(forward_180_left_left_2).head(shape).copy()\n",
    "forward_180_right_left_2 = shuffle(forward_180_right_left_2).head(shape).copy()"
   ]
  },
  {
   "cell_type": "code",
   "execution_count": 49,
   "metadata": {},
   "outputs": [],
   "source": [
    "forward_180_2 = pd.concat([\n",
    "    forward_180_left_right_2, \n",
    "    forward_180_right_right_2, \n",
    "    forward_180_left_left_2, \n",
    "    forward_180_right_left_2])"
   ]
  },
  {
   "cell_type": "markdown",
   "metadata": {},
   "source": [
    "# <font color='green'> Frequency"
   ]
  },
  {
   "cell_type": "code",
   "execution_count": 333,
   "metadata": {},
   "outputs": [
    {
     "data": {
      "text/plain": [
       "52.602864583333336"
      ]
     },
     "execution_count": 333,
     "metadata": {},
     "output_type": "execute_result"
    }
   ],
   "source": [
    "#mean\n",
    "freq = freq/64\n",
    "freq"
   ]
  },
  {
   "cell_type": "markdown",
   "metadata": {},
   "source": [
    "# <font color='green'> Merging datasets"
   ]
  },
  {
   "cell_type": "code",
   "execution_count": 55,
   "metadata": {},
   "outputs": [],
   "source": [
    "shape = np.min([\n",
    "    forward_180_1.shape[0],\n",
    "    forward_180_2.shape[0]\n",
    "])"
   ]
  },
  {
   "cell_type": "code",
   "execution_count": 56,
   "metadata": {},
   "outputs": [
    {
     "data": {
      "text/plain": [
       "(744, 22)"
      ]
     },
     "execution_count": 56,
     "metadata": {},
     "output_type": "execute_result"
    }
   ],
   "source": [
    "dataset = pd.concat([\n",
    "    shuffle(forward_180_1).head(shape),\n",
    "    shuffle(forward_180_2).head(shape)\n",
    "])\n",
    "dataset.shape"
   ]
  },
  {
   "cell_type": "code",
   "execution_count": 57,
   "metadata": {},
   "outputs": [],
   "source": [
    "dataset.to_csv(\"forward_180_zonder_pauze.csv\", sep=';')"
   ]
  },
  {
   "cell_type": "code",
   "execution_count": null,
   "metadata": {},
   "outputs": [],
   "source": []
  }
 ],
 "metadata": {
  "kernelspec": {
   "display_name": "Python 3",
   "language": "python",
   "name": "python3"
  },
  "language_info": {
   "codemirror_mode": {
    "name": "ipython",
    "version": 3
   },
   "file_extension": ".py",
   "mimetype": "text/x-python",
   "name": "python",
   "nbconvert_exporter": "python",
   "pygments_lexer": "ipython3",
   "version": "3.7.4"
  }
 },
 "nbformat": 4,
 "nbformat_minor": 2
}
